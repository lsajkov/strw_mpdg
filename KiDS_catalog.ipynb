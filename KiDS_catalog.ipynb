{
 "cells": [
  {
   "cell_type": "code",
   "execution_count": 3,
   "metadata": {},
   "outputs": [],
   "source": [
    "import os\n",
    "import fnmatch\n",
    "\n",
    "import numpy as np\n",
    "\n",
    "from astropy.io import fits\n",
    "from astropy.table import Table, vstack"
   ]
  },
  {
   "cell_type": "markdown",
   "metadata": {},
   "source": [
    "## KiDS multi-band catalog"
   ]
  },
  {
   "cell_type": "code",
   "execution_count": 1,
   "metadata": {},
   "outputs": [],
   "source": [
    "local_kids_dir = '/data2/lsajkov/mpdg/data/KiDS_spectroscopy'"
   ]
  },
  {
   "cell_type": "markdown",
   "metadata": {},
   "source": [
    "Produce catalog with only RA/Dec:"
   ]
  },
  {
   "cell_type": "code",
   "execution_count": 4,
   "metadata": {},
   "outputs": [],
   "source": [
    "KiDS_positions_catalog = Table()\n",
    "\n",
    "for kids_multiband_cat in fnmatch.filter(os.listdir(local_kids_dir),\n",
    "                                         'KiDS_DR4.1*ugriZYJHKs_cat.fits'):\n",
    "    \n",
    "    with fits.open(f'{local_kids_dir}/{kids_multiband_cat}') as cat:\n",
    "        catData = Table(cat[1].data)\n",
    "    \n",
    "    KiDS_positions_catalog = vstack([KiDS_positions_catalog,\n",
    "                                     catData['ID', 'RAJ2000', 'DECJ2000']])"
   ]
  },
  {
   "cell_type": "code",
   "execution_count": 6,
   "metadata": {},
   "outputs": [],
   "source": [
    "KiDS_positions_catalog.write('/data2/lsajkov/mpdg/data_products/KiDS/KiDS_concat_radec_positions.fits',\n",
    "                             overwrite = True)"
   ]
  },
  {
   "cell_type": "markdown",
   "metadata": {},
   "source": [
    "Produce catalog with only necessary columns:\n",
    "\n",
    "ID, position, size, 9-band photometry"
   ]
  },
  {
   "cell_type": "code",
   "execution_count": 9,
   "metadata": {},
   "outputs": [],
   "source": [
    "#desired data columns\n",
    "with fits.open(f'{local_kids_dir}/{fnmatch.filter(os.listdir(local_kids_dir), 'KiDS_DR4.1*ugriZYJHKs_cat.fits')[0]}') as hdu:\n",
    "    hduData = Table(hdu[1].data)\n",
    "    \n",
    "ID_cols = ['ID', 'KIDS_TILE', 'THELI_NAME']\n",
    "\n",
    "position_cols = ['RAJ2000', 'DECJ2000']\n",
    "\n",
    "size_cols = ['FWHM_WORLD']\n",
    "\n",
    "MAG_GAAP_bands    = [band for band in hduData.keys()\\\n",
    "                  if (fnmatch.fnmatch(band, 'MAG_GAAP_*') & (not fnmatch.fnmatch(band, 'MAG_GAAP_*_*')))]\n",
    "\n",
    "MAGERR_GAAP_bands = [band for band in hduData.keys()\\\n",
    "                  if (fnmatch.fnmatch(band, 'MAGERR_GAAP_*') & (not fnmatch.fnmatch(band, 'MAGERR_GAAP_*_*')))]\n",
    "\n",
    "COLOUR_GAAP_bands = [band for band in hduData.keys()\\\n",
    "                  if fnmatch.fnmatch(band, 'COLOUR_GAAP_*')]\n",
    "\n",
    "index_array =  [ID_cols,\n",
    "                position_cols,\n",
    "                size_cols,\n",
    "                MAG_GAAP_bands,\n",
    "                MAGERR_GAAP_bands,\n",
    "                COLOUR_GAAP_bands]\n",
    "\n",
    "column_indices = [index for array in index_array for index in array]"
   ]
  },
  {
   "cell_type": "code",
   "execution_count": 11,
   "metadata": {},
   "outputs": [
    {
     "ename": "",
     "evalue": "",
     "output_type": "error",
     "traceback": [
      "\u001b[1;31mThe Kernel crashed while executing code in the current cell or a previous cell. \n",
      "\u001b[1;31mPlease review the code in the cell(s) to identify a possible cause of the failure. \n",
      "\u001b[1;31mClick <a href='https://aka.ms/vscodeJupyterKernelCrash'>here</a> for more info. \n",
      "\u001b[1;31mView Jupyter <a href='command:jupyter.viewOutput'>log</a> for further details."
     ]
    }
   ],
   "source": [
    "KiDS_concatenated_catalog = Table()\n",
    "\n",
    "for kids_multiband_cat in fnmatch.filter(os.listdir(local_kids_dir),\n",
    "                                         'KiDS_DR4.1*ugriZYJHKs_cat.fits'):\n",
    "    \n",
    "    with fits.open(f'{local_kids_dir}/{kids_multiband_cat}') as cat:\n",
    "        catData = Table(cat[1].data)\n",
    "    \n",
    "    KiDS_concatenated_catalog = vstack([KiDS_concatenated_catalog,\n",
    "                                     catData[column_indices]])"
   ]
  },
  {
   "cell_type": "code",
   "execution_count": null,
   "metadata": {},
   "outputs": [],
   "source": [
    "def "
   ]
  }
 ],
 "metadata": {
  "kernelspec": {
   "display_name": "mpdg",
   "language": "python",
   "name": "python3"
  },
  "language_info": {
   "codemirror_mode": {
    "name": "ipython",
    "version": 3
   },
   "file_extension": ".py",
   "mimetype": "text/x-python",
   "name": "python",
   "nbconvert_exporter": "python",
   "pygments_lexer": "ipython3",
   "version": "3.12.3"
  }
 },
 "nbformat": 4,
 "nbformat_minor": 2
}
