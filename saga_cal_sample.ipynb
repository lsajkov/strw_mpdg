{
 "cells": [
  {
   "cell_type": "code",
   "execution_count": 6,
   "metadata": {},
   "outputs": [],
   "source": [
    "import os\n",
    "\n",
    "import numpy as np\n",
    "import matplotlib.pyplot as plt\n",
    "\n",
    "from astropy.io import fits, ascii\n",
    "from astropy.table import Table"
   ]
  },
  {
   "cell_type": "markdown",
   "metadata": {},
   "source": [
    "## SAGA spectroscopic calibration sample"
   ]
  },
  {
   "cell_type": "code",
   "execution_count": 2,
   "metadata": {},
   "outputs": [],
   "source": [
    "saga_dir = ''\n",
    "saga_website_dir = '/data2/lsajkov/mpdg/data/SAGA_public'"
   ]
  },
  {
   "cell_type": "code",
   "execution_count": 7,
   "metadata": {},
   "outputs": [],
   "source": [
    "satsData = ascii.read(f'{saga_website_dir}/saga_stage2_sats.csv')"
   ]
  },
  {
   "cell_type": "code",
   "execution_count": 9,
   "metadata": {},
   "outputs": [],
   "source": [
    "def mu_eff(r_mag, r_fwhm):\n",
    "    return r_mag + 2.5 * np.log10(2 * np.pi * r_fwhm ** 2)"
   ]
  },
  {
   "cell_type": "code",
   "execution_count": 8,
   "metadata": {},
   "outputs": [
    {
     "data": {
      "text/html": [
       "<div><i>Table length=127</i>\n",
       "<table id=\"table139715630512416\" class=\"table-striped table-bordered table-condensed\">\n",
       "<thead><tr><th>HOST_COMMON_NAME</th><th>OBJID</th><th>RA</th><th>DEC</th><th>D_PROJ</th><th>DELTA_HRV</th><th>R</th><th>R_ABS</th><th>GR</th><th>MU_EFF</th><th>LOG_STELLAR_MASS</th><th>H_ALPHA</th><th>Z_SOURCE</th><th>INTERNAL_HOSTID</th><th>INTERNAL_OBJID</th></tr></thead>\n",
       "<thead><tr><th>str10</th><th>str19</th><th>float64</th><th>float64</th><th>int64</th><th>int64</th><th>float64</th><th>float64</th><th>float64</th><th>float64</th><th>float64</th><th>str1</th><th>str6</th><th>str9</th><th>int64</th></tr></thead>\n",
       "<tr><td>UGC00903</td><td>LS-432563-224</td><td>20.7772</td><td>17.8916</td><td>290</td><td>-1</td><td>17.06</td><td>-15.9</td><td>0.26</td><td>23.57</td><td>7.89</td><td>Y</td><td>ALFALF</td><td>nsa129237</td><td>4325630000000000224</td></tr>\n",
       "<tr><td>UGC00903</td><td>LS-429811-3398</td><td>20.285</td><td>17.6022</td><td>105</td><td>-78</td><td>17.26</td><td>-15.7</td><td>0.45</td><td>24.04</td><td>8.02</td><td>Y</td><td>MMT</td><td>nsa129237</td><td>4298110000000003398</td></tr>\n",
       "<tr><td>UGC00903</td><td>LS-431187-1672</td><td>20.328</td><td>17.7539</td><td>133</td><td>-70</td><td>18.13</td><td>-14.8</td><td>0.33</td><td>24.24</td><td>7.54</td><td>Y</td><td>MMT</td><td>nsa129237</td><td>4311870000000001672</td></tr>\n",
       "<tr><td>UGC00903</td><td>LS-429812-2469</td><td>20.5362</td><td>17.5279</td><td>70</td><td>50</td><td>18.93</td><td>-14.0</td><td>0.21</td><td>23.9</td><td>7.08</td><td>Y</td><td>MMT</td><td>nsa129237</td><td>4298120000000002469</td></tr>\n",
       "<tr><td>NGC1015</td><td>DES-313240666</td><td>39.9254</td><td>-1.4187</td><td>252</td><td>-9</td><td>16.91</td><td>-15.9</td><td>0.42</td><td>21.04</td><td>8.09</td><td>Y</td><td>MMT</td><td>nsa132339</td><td>313240666</td></tr>\n",
       "<tr><td>NGC1015</td><td>DES-310691517</td><td>39.536</td><td>-1.3965</td><td>50</td><td>-119</td><td>20.24</td><td>-12.6</td><td>0.19</td><td>23.82</td><td>6.51</td><td>Y</td><td>AAT</td><td>nsa132339</td><td>310691517</td></tr>\n",
       "<tr><td>NGC1309</td><td>DES-353757883</td><td>50.4652</td><td>-15.7104</td><td>189</td><td>-106</td><td>14.83</td><td>-17.9</td><td>0.36</td><td>22.76</td><td>8.8</td><td>Y</td><td>6dF</td><td>nsa133355</td><td>353757883</td></tr>\n",
       "<tr><td>NGC1309</td><td>DES-350665706</td><td>50.1913</td><td>-15.5749</td><td>220</td><td>-244</td><td>17.5</td><td>-15.2</td><td>0.37</td><td>22.03</td><td>7.74</td><td>Y</td><td>AAT</td><td>nsa133355</td><td>350665706</td></tr>\n",
       "<tr><td>NGC1309</td><td>DES-353742769</td><td>50.9464</td><td>-15.4004</td><td>242</td><td>16</td><td>17.74</td><td>-15.0</td><td>0.51</td><td>22.33</td><td>7.79</td><td>N</td><td>AAT</td><td>nsa133355</td><td>353742769</td></tr>\n",
       "<tr><td>...</td><td>...</td><td>...</td><td>...</td><td>...</td><td>...</td><td>...</td><td>...</td><td>...</td><td>...</td><td>...</td><td>...</td><td>...</td><td>...</td><td>...</td></tr>\n",
       "<tr><td>PGC068743</td><td>LS-310115-2825</td><td>335.954</td><td>-3.701</td><td>185</td><td>-30</td><td>19.54</td><td>-13.4</td><td>0.22</td><td>24.25</td><td>6.87</td><td>Y</td><td>AAT</td><td>nsa149781</td><td>3101150000000002825</td></tr>\n",
       "<tr><td>NGC7328</td><td>LS-390486-3250</td><td>339.3833</td><td>10.3132</td><td>148</td><td>-21</td><td>18.9</td><td>-14.1</td><td>0.38</td><td>24.01</td><td>7.29</td><td>N</td><td>PAL</td><td>nsa149977</td><td>3904860000000003250</td></tr>\n",
       "<tr><td>NGC7541</td><td>NSA-637123</td><td>348.6438</td><td>4.4984</td><td>34</td><td>11</td><td>12.71</td><td>-20.2</td><td>0.67</td><td>19.85</td><td>10.07</td><td>Y</td><td>ALFALF</td><td>nsa150887</td><td>637123</td></tr>\n",
       "<tr><td>NGC7541</td><td>LS-359104-131</td><td>348.6965</td><td>4.6396</td><td>70</td><td>182</td><td>14.4</td><td>-18.5</td><td>0.25</td><td>23.86</td><td>8.93</td><td>Y</td><td>ALFALF</td><td>nsa150887</td><td>3591040000000000131</td></tr>\n",
       "<tr><td>NGC7541</td><td>LS-356233-3798</td><td>348.7769</td><td>4.3732</td><td>123</td><td>-13</td><td>15.31</td><td>-17.6</td><td>0.52</td><td>23.21</td><td>8.86</td><td>Y</td><td>MMT</td><td>nsa150887</td><td>3562330000000003798</td></tr>\n",
       "<tr><td>NGC7541</td><td>LS-357669-3767</td><td>348.8745</td><td>4.6131</td><td>137</td><td>68</td><td>16.13</td><td>-16.8</td><td>0.37</td><td>24.18</td><td>8.37</td><td>Y</td><td>ALFALF</td><td>nsa150887</td><td>3576690000000003767</td></tr>\n",
       "<tr><td>NGC7541</td><td>LS-357668-2728</td><td>348.6214</td><td>4.5073</td><td>44</td><td>-121</td><td>18.01</td><td>-14.9</td><td>0.48</td><td>23.47</td><td>7.74</td><td>N</td><td>AAT</td><td>nsa150887</td><td>3576680000000002728</td></tr>\n",
       "<tr><td>NGC7541</td><td>LS-360540-737</td><td>348.5546</td><td>4.9151</td><td>267</td><td>125</td><td>20.77</td><td>-12.1</td><td>0.06</td><td>24.29</td><td>6.18</td><td>Y</td><td>MMT</td><td>nsa150887</td><td>3605400000000000737</td></tr>\n",
       "<tr><td>NGC7716</td><td>NSA-31702</td><td>354.3508</td><td>0.391</td><td>144</td><td>119</td><td>13.7</td><td>-19.0</td><td>0.39</td><td>23.33</td><td>9.29</td><td>Y</td><td>SDSS+</td><td>nsa61945</td><td>31702</td></tr>\n",
       "<tr><td>NGC7716</td><td>NSA-31683</td><td>354.1952</td><td>0.6234</td><td>200</td><td>59</td><td>15.61</td><td>-17.1</td><td>0.41</td><td>22.84</td><td>8.55</td><td>Y</td><td>SDSS+</td><td>nsa61945</td><td>31683</td></tr>\n",
       "</table></div>"
      ],
      "text/plain": [
       "<Table length=127>\n",
       "HOST_COMMON_NAME     OBJID         RA    ... INTERNAL_HOSTID    INTERNAL_OBJID  \n",
       "     str10           str19      float64  ...       str9             int64       \n",
       "---------------- -------------- -------- ... --------------- -------------------\n",
       "        UGC00903  LS-432563-224  20.7772 ...       nsa129237 4325630000000000224\n",
       "        UGC00903 LS-429811-3398   20.285 ...       nsa129237 4298110000000003398\n",
       "        UGC00903 LS-431187-1672   20.328 ...       nsa129237 4311870000000001672\n",
       "        UGC00903 LS-429812-2469  20.5362 ...       nsa129237 4298120000000002469\n",
       "         NGC1015  DES-313240666  39.9254 ...       nsa132339           313240666\n",
       "         NGC1015  DES-310691517   39.536 ...       nsa132339           310691517\n",
       "         NGC1309  DES-353757883  50.4652 ...       nsa133355           353757883\n",
       "         NGC1309  DES-350665706  50.1913 ...       nsa133355           350665706\n",
       "         NGC1309  DES-353742769  50.9464 ...       nsa133355           353742769\n",
       "             ...            ...      ... ...             ...                 ...\n",
       "       PGC068743 LS-310115-2825  335.954 ...       nsa149781 3101150000000002825\n",
       "         NGC7328 LS-390486-3250 339.3833 ...       nsa149977 3904860000000003250\n",
       "         NGC7541     NSA-637123 348.6438 ...       nsa150887              637123\n",
       "         NGC7541  LS-359104-131 348.6965 ...       nsa150887 3591040000000000131\n",
       "         NGC7541 LS-356233-3798 348.7769 ...       nsa150887 3562330000000003798\n",
       "         NGC7541 LS-357669-3767 348.8745 ...       nsa150887 3576690000000003767\n",
       "         NGC7541 LS-357668-2728 348.6214 ...       nsa150887 3576680000000002728\n",
       "         NGC7541  LS-360540-737 348.5546 ...       nsa150887 3605400000000000737\n",
       "         NGC7716      NSA-31702 354.3508 ...        nsa61945               31702\n",
       "         NGC7716      NSA-31683 354.1952 ...        nsa61945               31683"
      ]
     },
     "execution_count": 8,
     "metadata": {},
     "output_type": "execute_result"
    }
   ],
   "source": [
    "satsData"
   ]
  },
  {
   "cell_type": "code",
   "execution_count": null,
   "metadata": {},
   "outputs": [],
   "source": []
  }
 ],
 "metadata": {
  "kernelspec": {
   "display_name": "mpdg",
   "language": "python",
   "name": "python3"
  },
  "language_info": {
   "codemirror_mode": {
    "name": "ipython",
    "version": 3
   },
   "file_extension": ".py",
   "mimetype": "text/x-python",
   "name": "python",
   "nbconvert_exporter": "python",
   "pygments_lexer": "ipython3",
   "version": "3.12.3"
  }
 },
 "nbformat": 4,
 "nbformat_minor": 2
}
