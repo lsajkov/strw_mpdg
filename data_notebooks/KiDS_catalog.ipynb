{
 "cells": [
  {
   "cell_type": "code",
   "execution_count": 6,
   "metadata": {},
   "outputs": [],
   "source": [
    "import os\n",
    "import fnmatch\n",
    "\n",
    "import numpy as np\n",
    "import matplotlib.pyplot as plt\n",
    "\n",
    "from astropy.io import fits\n",
    "from astropy.table import Table, vstack, hstack"
   ]
  },
  {
   "cell_type": "markdown",
   "metadata": {},
   "source": [
    "## KiDS multi-band catalog"
   ]
  },
  {
   "cell_type": "code",
   "execution_count": 7,
   "metadata": {},
   "outputs": [],
   "source": [
    "local_kids_dir = '/data2/lsajkov/mpdg/data/KiDS_multiband'"
   ]
  },
  {
   "cell_type": "markdown",
   "metadata": {},
   "source": [
    "### RA/Dec catalog:"
   ]
  },
  {
   "cell_type": "code",
   "execution_count": null,
   "metadata": {},
   "outputs": [],
   "source": [
    "KiDS_positions_catalog = Table()\n",
    "\n",
    "for kids_multiband_cat in fnmatch.filter(os.listdir(local_kids_dir),\n",
    "                                         'KiDS_DR4.1*ugriZYJHKs_cat.fits'):\n",
    "    \n",
    "    with fits.open(f'{local_kids_dir}/{kids_multiband_cat}') as cat:\n",
    "        catData = Table(cat[1].data)\n",
    "    \n",
    "    KiDS_positions_catalog = vstack([KiDS_positions_catalog,\n",
    "                                     catData['ID', 'RAJ2000', 'DECJ2000']])"
   ]
  },
  {
   "cell_type": "code",
   "execution_count": null,
   "metadata": {},
   "outputs": [],
   "source": [
    "KiDS_positions_catalog.write('/data2/lsajkov/mpdg/data_products/KiDS/KiDS_concat_radec_positions.fits',\n",
    "                             overwrite = True)"
   ]
  },
  {
   "cell_type": "code",
   "execution_count": null,
   "metadata": {},
   "outputs": [],
   "source": []
  },
  {
   "cell_type": "code",
   "execution_count": null,
   "metadata": {},
   "outputs": [],
   "source": []
  },
  {
   "cell_type": "markdown",
   "metadata": {},
   "source": [
    "### Photometry catalog:\n",
    "\n",
    "ID, position, size, 9-band photometry"
   ]
  },
  {
   "cell_type": "code",
   "execution_count": null,
   "metadata": {},
   "outputs": [],
   "source": [
    "#desired data columns\n",
    "with fits.open(f'{local_kids_dir}/{fnmatch.filter(os.listdir(local_kids_dir), 'KiDS_DR4.1*ugriZYJHKs_cat.fits')[0]}') as hdu:\n",
    "    hduData = Table(hdu[1].data)\n",
    "    \n",
    "ID_cols = ['ID', 'KIDS_TILE', 'THELI_NAME']\n",
    "\n",
    "position_cols = ['RAJ2000', 'DECJ2000']\n",
    "\n",
    "size_cols = ['FWHM_WORLD']\n",
    "\n",
    "MAG_GAAP_bands    = [band for band in hduData.keys()\\\n",
    "                  if (fnmatch.fnmatch(band, 'MAG_GAAP_*') & (not fnmatch.fnmatch(band, 'MAG_GAAP_*_*')))]\n",
    "\n",
    "MAGERR_GAAP_bands = [band for band in hduData.keys()\\\n",
    "                  if (fnmatch.fnmatch(band, 'MAGERR_GAAP_*') & (not fnmatch.fnmatch(band, 'MAGERR_GAAP_*_*')))]\n",
    "\n",
    "COLOUR_GAAP_bands = [band for band in hduData.keys()\\\n",
    "                  if fnmatch.fnmatch(band, 'COLOUR_GAAP_*')]\n",
    "\n",
    "index_array =  [ID_cols,\n",
    "                position_cols,\n",
    "                size_cols,\n",
    "                MAG_GAAP_bands,\n",
    "                MAGERR_GAAP_bands,\n",
    "                COLOUR_GAAP_bands]\n",
    "\n",
    "column_indices = [index for array in index_array for index in array]"
   ]
  },
  {
   "cell_type": "code",
   "execution_count": null,
   "metadata": {},
   "outputs": [],
   "source": [
    "KiDS_concatenated_catalog = Table()\n",
    "\n",
    "for kids_multiband_cat in fnmatch.filter(os.listdir(local_kids_dir),\n",
    "                                         'KiDS_DR4.1*ugriZYJHKs_cat.fits'):\n",
    "    \n",
    "    with fits.open(f'{local_kids_dir}/{kids_multiband_cat}') as cat:\n",
    "        catData = Table(cat[1].data)\n",
    "    \n",
    "    KiDS_concatenated_catalog = vstack([KiDS_concatenated_catalog,\n",
    "                                     catData[column_indices]])"
   ]
  },
  {
   "cell_type": "code",
   "execution_count": null,
   "metadata": {},
   "outputs": [],
   "source": [
    "def "
   ]
  },
  {
   "cell_type": "markdown",
   "metadata": {},
   "source": [
    "### SOM catalog\n",
    "Only within primary targeting region <br>\n",
    "Color-color catalog"
   ]
  },
  {
   "cell_type": "code",
   "execution_count": 8,
   "metadata": {},
   "outputs": [],
   "source": [
    "#define primary targeting region\n",
    "def gr_color_condition(gr_color, gr_color_err,\n",
    "               r_mag):\n",
    "    \n",
    "    return (gr_color - gr_color_err + 0.06 * (r_mag - 14)) < 0.9"
   ]
  },
  {
   "cell_type": "code",
   "execution_count": 9,
   "metadata": {},
   "outputs": [],
   "source": [
    "with fits.open('/data2/lsajkov/mpdg/data/KiDS_multiband/KiDS_DR4.0_1.1_-29.2_ugriZYJHKs_cat.fits') as cat:\n",
    "    test_cat = Table(cat[1].data)"
   ]
  },
  {
   "cell_type": "code",
   "execution_count": 30,
   "metadata": {},
   "outputs": [
    {
     "data": {
      "text/plain": [
       "17907"
      ]
     },
     "execution_count": 30,
     "metadata": {},
     "output_type": "execute_result"
    }
   ],
   "source": [
    "np.sum(test_cat['MASK'] & 27676 > 0)"
   ]
  },
  {
   "cell_type": "code",
   "execution_count": 31,
   "metadata": {},
   "outputs": [
    {
     "data": {
      "text/plain": [
       "17916"
      ]
     },
     "execution_count": 31,
     "metadata": {},
     "output_type": "execute_result"
    }
   ],
   "source": [
    "np.sum(test_cat['MASK'] & 28668 > 0)"
   ]
  },
  {
   "cell_type": "code",
   "execution_count": 61,
   "metadata": {},
   "outputs": [],
   "source": []
  },
  {
   "cell_type": "code",
   "execution_count": 74,
   "metadata": {},
   "outputs": [
    {
     "name": "stdout",
     "output_type": "stream",
     "text": [
      "Bit\tPriy.\tMijin\tMeaning\n",
      "--------------------------------\n",
      "0\tTrue\tTrue\tTHELI manual mask (very conservative)\n",
      "1\tTrue\tTrue\tTHELI automatic large star halo mask (faint)\n",
      "2\tFalse\tFalse\tTHELI automatic large star halo mask (bright) or bright star mask\n",
      "3\tTrue\tTrue\tManual mask of regions around globular clusters, Fornax dwarf, ISS passage\n",
      "4\tTrue\tTrue\tTHELI void mask, or asteroids, or weight=0\n",
      "5\tTrue\tFalse\tVIKING Z-band image masked\n",
      "6\tTrue\tFalse\tVIKING Y-band image masked\n",
      "7\tTrue\tFalse\tVIKING J-band image masked\n",
      "8\tTrue\tFalse\tVIKING H-band image masked\n",
      "9\tTrue\tFalse\tVIKING Ks-band image masked\n",
      "10\tTrue\tTrue\tAstro-WISE u-band halo+stellar PULECENELLA mask or weight=0\n",
      "11\tTrue\tTrue\tAstro-WISE g-band halo+stellar PULECENELLA mask or weight=0\n",
      "12\tTrue\tTrue\tAstro-WISE r-band halo+stellar PULECENELLA mask or weight=0\n",
      "13\tFalse\tFalse\tAstro-WISE i-band halo+stellar PULECENELLA mask or weight=0\n",
      "14\tFalse\tFalse\tObject outside the RA/DEC cut for this tile\n"
     ]
    }
   ],
   "source": [
    "masking_info = {'0':\t'THELI manual mask (very conservative)',\n",
    "                '1':\t'THELI automatic large star halo mask (faint)',\n",
    "                '2':\t'THELI automatic large star halo mask (bright) or bright star mask',\n",
    "                '3':\t'Manual mask of regions around globular clusters, Fornax dwarf, ISS passage',\n",
    "                '4':\t'THELI void mask, or asteroids, or weight=0',\n",
    "                '5':\t'VIKING Z-band image masked',\n",
    "                '6':\t'VIKING Y-band image masked',\n",
    "                '7':\t'VIKING J-band image masked',\n",
    "                '8':\t'VIKING H-band image masked',\n",
    "                '9':\t'VIKING Ks-band image masked',\n",
    "                '10':\t'Astro-WISE u-band halo+stellar PULECENELLA mask or weight=0',\n",
    "                '11':\t'Astro-WISE g-band halo+stellar PULECENELLA mask or weight=0',\n",
    "                '12':\t'Astro-WISE r-band halo+stellar PULECENELLA mask or weight=0',\n",
    "                '13':\t'Astro-WISE i-band halo+stellar PULECENELLA mask or weight=0',\n",
    "                '14':\t'Object outside the RA/DEC cut for this tile',\n",
    "                '15':\t'Not used (reserved as sign bit in FITS 2-byte integer)}'}\n",
    "\n",
    "priyanka_mask = 28668\n",
    "mijin_mask    = 27676\n",
    "\n",
    "priyanka_mask_bin = f'{priyanka_mask:b}'\n",
    "mijin_mask_bin    = f'{mijin_mask:b}'\n",
    "\n",
    "print('Bit\\tPriy.\\tMijin\\tMeaning')\n",
    "print('--------------------------------')\n",
    "for i in range(15):\n",
    "    print(f'{i}\\t{bool(int(priyanka_mask_bin[i]))}\\t{bool(int(mijin_mask_bin[i]))}\\t{masking_info[f\"{i}\"]}')"
   ]
  },
  {
   "cell_type": "code",
   "execution_count": 73,
   "metadata": {},
   "outputs": [
    {
     "data": {
      "text/plain": [
       "False"
      ]
     },
     "execution_count": 73,
     "metadata": {},
     "output_type": "execute_result"
    }
   ],
   "source": [
    "bool(int('0'))"
   ]
  },
  {
   "cell_type": "code",
   "execution_count": 4,
   "metadata": {},
   "outputs": [],
   "source": [
    "KiDS_SOM_catalog = Table()\n",
    "\n",
    "for kids_multiband_cat in fnmatch.filter(os.listdir(local_kids_dir),\n",
    "                                         'KiDS_DR4.1*ugriZYJHKs_cat.fits'):\n",
    "    \n",
    "    with fits.open(f'{local_kids_dir}/{kids_multiband_cat}') as cat:\n",
    "        catData = Table(cat[1].data)\n",
    "\n",
    "    KiDS_flags_mask = catData['FLAG_GAAP_r'] == 0\n",
    "\n",
    "    ID = catData['ID']\n",
    "\n",
    "    u_SNR = catData['FLUX_GAAP_u']/catData['FLUXERR_GAAP_u']\n",
    "    g_SNR = catData['FLUX_GAAP_g']/catData['FLUXERR_GAAP_g']\n",
    "    r_SNR = catData['FLUX_GAAP_r']/catData['FLUXERR_GAAP_r']\n",
    "    i_SNR = catData['FLUX_GAAP_i']/catData['FLUXERR_GAAP_i']\n",
    "    Z_SNR = catData['FLUX_GAAP_Z']/catData['FLUXERR_GAAP_Z']\n",
    "\n",
    "    r_mag = catData['MAG_AUTO']\n",
    "\n",
    "    # u_mag     = catData['MAG_GAAP_u']\n",
    "    # g_mag     = catData['MAG_GAAP_g']\n",
    "    # r_mag     = catData['MAG_GAAP_r']\n",
    "    # i_mag     = catData['MAG_GAAP_i']\n",
    "    # Z_mag     = catData['MAG_GAAP_Z']\n",
    "\n",
    "    g_mag_err = catData['MAGERR_GAAP_g']\n",
    "    u_mag_err = catData['MAGERR_GAAP_u']\n",
    "    r_mag_err = catData['MAGERR_GAAP_r']\n",
    "    i_mag_err = catData['MAGERR_GAAP_i']\n",
    "    Z_mag_err = catData['MAGERR_GAAP_Z']\n",
    "\n",
    "    ug_color     = catData['COLOUR_GAAP_u_g']\n",
    "    ug_color_err = np.sqrt(u_mag_err ** 2 + g_mag_err ** 2)    \n",
    "\n",
    "    gr_color     = catData['COLOUR_GAAP_g_r']\n",
    "    gr_color_err = np.sqrt(r_mag_err ** 2 + g_mag_err ** 2)\n",
    "\n",
    "    ri_color     = catData['COLOUR_GAAP_r_i']\n",
    "    ri_color_err = np.sqrt(r_mag_err ** 2 + i_mag_err ** 2)\n",
    "\n",
    "    iZ_color     = catData['COLOUR_GAAP_i_Z']\n",
    "    iZ_color_err = np.sqrt(i_mag_err ** 2 + Z_mag_err ** 2)\n",
    "\n",
    "    redshift = catData['Z_B']\n",
    "    redshift_err = (catData['Z_B_MAX'] - catData['Z_B_MIN'])/2\n",
    "\n",
    "    redshift_mask = redshift < 1\n",
    "\n",
    "    flux_radius = catData['FLUX_RADIUS'] * 0.213\n",
    "\n",
    "    gr_color_mask = gr_color_condition(gr_color,\n",
    "                                       gr_color_err,\n",
    "                                       r_mag)\n",
    "    \n",
    "    color_mask = (ug_color > -1) & (ug_color < 2) &\\\n",
    "                 (gr_color > -1) & (gr_color < 2) &\\\n",
    "                 (ri_color > -1) & (ri_color < 2) &\\\n",
    "                 (iZ_color > -1) & (iZ_color < 2)\n",
    "    \n",
    "    SNR_thresh = 10\n",
    "\n",
    "    SNR_mask = (u_SNR > SNR_thresh) &\\\n",
    "               (g_SNR > SNR_thresh) &\\\n",
    "               (r_SNR > SNR_thresh) &\\\n",
    "               (i_SNR > SNR_thresh) &\\\n",
    "               (Z_SNR > SNR_thresh)\n",
    "\n",
    "    r_mag_mask = r_mag > 18\n",
    "\n",
    "    complete_mask = KiDS_flags_mask & gr_color_mask & color_mask & r_mag_mask & SNR_mask & redshift_mask #& surf_bright_mask\n",
    "\n",
    "    tile_KiDS_data = hstack([ID,\n",
    "                            #  u_mag, u_mag_err,\n",
    "                            #  g_mag, g_mag_err,\n",
    "                             r_mag, r_mag_err,\n",
    "                            #  i_mag, i_mag_err,\n",
    "                            #  Z_mag, Z_mag_err,\n",
    "                             ug_color, ug_color_err,\n",
    "                             gr_color, gr_color_err,\n",
    "                             ri_color, ri_color_err,\n",
    "                             iZ_color, iZ_color_err,\n",
    "                             flux_radius,\n",
    "                             redshift, redshift_err\n",
    "                             ]) \n",
    "    tile_KiDS_data.rename_columns(tile_KiDS_data.colnames,\n",
    "                           ['ID',\n",
    "                            # 'u_mag', 'u_mag_err',\n",
    "                            # 'g_mag', 'g_mag_err',\n",
    "                            'r_mag', 'r_mag_err',\n",
    "                            # 'i_mag', 'i_mag_err',\n",
    "                            # 'Z_mag', 'Z_mag_err',\n",
    "                            'ug_col', 'ug_col_err',\n",
    "                            'gr_col', 'gr_col_err',\n",
    "                            'ri_col', 'ri_col_err',\n",
    "                            'iZ_col', 'iZ_col_err',\n",
    "                            'half_light_radius',\n",
    "                            'redshift', 'redshift_err'\n",
    "                            ])\n",
    "    \n",
    "    tile_KiDS_data = tile_KiDS_data[complete_mask]\n",
    "\n",
    "    KiDS_SOM_catalog = vstack([KiDS_SOM_catalog,\n",
    "                               tile_KiDS_data])"
   ]
  },
  {
   "cell_type": "code",
   "execution_count": 5,
   "metadata": {},
   "outputs": [],
   "source": [
    "KiDS_SOM_catalog.write('/data2/lsajkov/mpdg/data_products/KiDS/KiDS_SOM_catalog_17Jul24.fits',\n",
    "                       overwrite = True)"
   ]
  },
  {
   "cell_type": "markdown",
   "metadata": {},
   "source": [
    "### Log of catalogs\n",
    "**Jul 12, 2024** <br>\n",
    "*Included BPZ redshift in catalog* <br>\n",
    "Cuts: <br>\n",
    "$\\mathrm{SNR} > 10$ <br>\n",
    "$r > 18$ <br>\n",
    "$-1 < color < 2$ <br>\n",
    "In primary targeting region from Thornton+23 <br>\n",
    "\n",
    "**Jul 15, 2024** <br>\n",
    "*Included BPZ redshift in catalog* <br>\n",
    "*Included half-light radius in catalog* <br>\n",
    "Cuts: <br>\n",
    "$\\mathrm{SNR} > 10$ <br>\n",
    "$r > 18$ <br>\n",
    "$-1 < color < 2$ <br>\n",
    "In primary targeting region from Thornton+23 <br>\n",
    "\n",
    "**Jul 17, 2024** <br>\n",
    "*Included BPZ redshift in catalog* <br>\n",
    "*Included half-light radius in catalog* <br>\n",
    "*Switched to using* MAG_AUTO *instead of* MAG_GAaP *for r-band. Removed other bands.* <br>\n",
    "Cuts: <br>\n",
    "$\\mathrm{SNR} > 10$ <br>\n",
    "$r > 18$ <br>\n",
    "$-1 < color < 2$ <br>\n",
    "In primary targeting region from Thornton+23 <br>"
   ]
  }
 ],
 "metadata": {
  "kernelspec": {
   "display_name": "mpdg",
   "language": "python",
   "name": "python3"
  },
  "language_info": {
   "codemirror_mode": {
    "name": "ipython",
    "version": 3
   },
   "file_extension": ".py",
   "mimetype": "text/x-python",
   "name": "python",
   "nbconvert_exporter": "python",
   "pygments_lexer": "ipython3",
   "version": "3.12.3"
  }
 },
 "nbformat": 4,
 "nbformat_minor": 2
}
