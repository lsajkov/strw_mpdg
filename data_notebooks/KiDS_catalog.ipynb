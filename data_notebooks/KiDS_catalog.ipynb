{
 "cells": [
  {
   "cell_type": "code",
   "execution_count": 2,
   "metadata": {},
   "outputs": [],
   "source": [
    "import os\n",
    "import fnmatch\n",
    "\n",
    "import numpy as np\n",
    "\n",
    "from astropy.io import fits\n",
    "from astropy.table import Table, vstack, hstack"
   ]
  },
  {
   "cell_type": "markdown",
   "metadata": {},
   "source": [
    "## KiDS multi-band catalog"
   ]
  },
  {
   "cell_type": "code",
   "execution_count": 3,
   "metadata": {},
   "outputs": [],
   "source": [
    "local_kids_dir = '/data2/lsajkov/mpdg/data/KiDS_spectroscopy'"
   ]
  },
  {
   "cell_type": "markdown",
   "metadata": {},
   "source": [
    "### RA/Dec catalog:"
   ]
  },
  {
   "cell_type": "code",
   "execution_count": 4,
   "metadata": {},
   "outputs": [],
   "source": [
    "KiDS_positions_catalog = Table()\n",
    "\n",
    "for kids_multiband_cat in fnmatch.filter(os.listdir(local_kids_dir),\n",
    "                                         'KiDS_DR4.1*ugriZYJHKs_cat.fits'):\n",
    "    \n",
    "    with fits.open(f'{local_kids_dir}/{kids_multiband_cat}') as cat:\n",
    "        catData = Table(cat[1].data)\n",
    "    \n",
    "    KiDS_positions_catalog = vstack([KiDS_positions_catalog,\n",
    "                                     catData['ID', 'RAJ2000', 'DECJ2000']])"
   ]
  },
  {
   "cell_type": "code",
   "execution_count": 6,
   "metadata": {},
   "outputs": [],
   "source": [
    "KiDS_positions_catalog.write('/data2/lsajkov/mpdg/data_products/KiDS/KiDS_concat_radec_positions.fits',\n",
    "                             overwrite = True)"
   ]
  },
  {
   "cell_type": "markdown",
   "metadata": {},
   "source": [
    "### Photometry catalog:\n",
    "\n",
    "ID, position, size, 9-band photometry"
   ]
  },
  {
   "cell_type": "code",
   "execution_count": 9,
   "metadata": {},
   "outputs": [],
   "source": [
    "#desired data columns\n",
    "with fits.open(f'{local_kids_dir}/{fnmatch.filter(os.listdir(local_kids_dir), 'KiDS_DR4.1*ugriZYJHKs_cat.fits')[0]}') as hdu:\n",
    "    hduData = Table(hdu[1].data)\n",
    "    \n",
    "ID_cols = ['ID', 'KIDS_TILE', 'THELI_NAME']\n",
    "\n",
    "position_cols = ['RAJ2000', 'DECJ2000']\n",
    "\n",
    "size_cols = ['FWHM_WORLD']\n",
    "\n",
    "MAG_GAAP_bands    = [band for band in hduData.keys()\\\n",
    "                  if (fnmatch.fnmatch(band, 'MAG_GAAP_*') & (not fnmatch.fnmatch(band, 'MAG_GAAP_*_*')))]\n",
    "\n",
    "MAGERR_GAAP_bands = [band for band in hduData.keys()\\\n",
    "                  if (fnmatch.fnmatch(band, 'MAGERR_GAAP_*') & (not fnmatch.fnmatch(band, 'MAGERR_GAAP_*_*')))]\n",
    "\n",
    "COLOUR_GAAP_bands = [band for band in hduData.keys()\\\n",
    "                  if fnmatch.fnmatch(band, 'COLOUR_GAAP_*')]\n",
    "\n",
    "index_array =  [ID_cols,\n",
    "                position_cols,\n",
    "                size_cols,\n",
    "                MAG_GAAP_bands,\n",
    "                MAGERR_GAAP_bands,\n",
    "                COLOUR_GAAP_bands]\n",
    "\n",
    "column_indices = [index for array in index_array for index in array]"
   ]
  },
  {
   "cell_type": "code",
   "execution_count": 11,
   "metadata": {},
   "outputs": [
    {
     "ename": "",
     "evalue": "",
     "output_type": "error",
     "traceback": [
      "\u001b[1;31mThe Kernel crashed while executing code in the current cell or a previous cell. \n",
      "\u001b[1;31mPlease review the code in the cell(s) to identify a possible cause of the failure. \n",
      "\u001b[1;31mClick <a href='https://aka.ms/vscodeJupyterKernelCrash'>here</a> for more info. \n",
      "\u001b[1;31mView Jupyter <a href='command:jupyter.viewOutput'>log</a> for further details."
     ]
    }
   ],
   "source": [
    "KiDS_concatenated_catalog = Table()\n",
    "\n",
    "for kids_multiband_cat in fnmatch.filter(os.listdir(local_kids_dir),\n",
    "                                         'KiDS_DR4.1*ugriZYJHKs_cat.fits'):\n",
    "    \n",
    "    with fits.open(f'{local_kids_dir}/{kids_multiband_cat}') as cat:\n",
    "        catData = Table(cat[1].data)\n",
    "    \n",
    "    KiDS_concatenated_catalog = vstack([KiDS_concatenated_catalog,\n",
    "                                     catData[column_indices]])"
   ]
  },
  {
   "cell_type": "code",
   "execution_count": null,
   "metadata": {},
   "outputs": [],
   "source": [
    "def "
   ]
  },
  {
   "cell_type": "markdown",
   "metadata": {},
   "source": [
    "### SOM catalog\n",
    "Only within primary targeting region <br>\n",
    "Color-color catalog"
   ]
  },
  {
   "cell_type": "code",
   "execution_count": 5,
   "metadata": {},
   "outputs": [],
   "source": [
    "#define primary targeting region\n",
    "def gr_color_condition(gr_color, gr_color_err,\n",
    "               r_mag):\n",
    "    \n",
    "    return (gr_color - gr_color_err + 0.06 * (r_mag - 14)) < 0.9\n",
    "\n",
    "\n",
    "# def surf_bright_condition(surf_bright_r, surf_bright_r_err,\n",
    "#                                  r_mag):\n",
    "    \n",
    "#     return (surf_bright_r + surf_bright_r_err\\\n",
    "#             - 0.7 * (r_mag - 14)) > 18.5"
   ]
  },
  {
   "cell_type": "code",
   "execution_count": 23,
   "metadata": {},
   "outputs": [],
   "source": [
    "import matplotlib.pyplot as plt"
   ]
  },
  {
   "cell_type": "code",
   "execution_count": 24,
   "metadata": {},
   "outputs": [],
   "source": [
    "with fits.open('/data2/lsajkov/mpdg/data/KiDS_spectroscopy/KiDS_DR4.0_1.1_-29.2_ugriZYJHKs_cat.fits') as cat:\n",
    "    testCat = Table(cat[1].data)"
   ]
  },
  {
   "cell_type": "code",
   "execution_count": 27,
   "metadata": {},
   "outputs": [
    {
     "data": {
      "text/plain": [
       "(array([ 160.,  183.,  167.,  181.,  218.,  245.,  305.,  375.,  542.,\n",
       "         661.,  928., 1175., 1399., 1673., 1902., 2162., 2345., 2408.,\n",
       "        2424., 2471., 2429., 2343., 2314., 2189., 2106., 1995., 1882.,\n",
       "        1751., 1672., 1624., 1561., 1444., 1312., 1351., 1265., 1204.,\n",
       "        1127., 1007.,  997.,  922.,  888.,  810.,  774.,  747.,  693.,\n",
       "         667.,  670.,  626.,  593.,  622.,  544.,  534.,  512.,  457.,\n",
       "         455.,  452.,  469.,  370.,  420.,  372.,  354.,  381.,  365.,\n",
       "         371.,  310.,  314.,  308.,  320.,  302.,  324.,  305.,  244.,\n",
       "         289.,  261.,  243.,  251.,  291.,  241.]),\n",
       " array([ 1.0001992 ,  1.24378204,  1.48736501,  1.73094785,  1.9745307 ,\n",
       "         2.21811366,  2.46169662,  2.70527935,  2.94886231,  3.19244528,\n",
       "         3.436028  ,  3.67961097,  3.92319393,  4.16677666,  4.41035938,\n",
       "         4.65394258,  4.89752531,  5.14110804,  5.38469124,  5.62827396,\n",
       "         5.87185669,  6.11543989,  6.35902262,  6.60260534,  6.84618855,\n",
       "         7.08977127,  7.333354  ,  7.5769372 ,  7.82051992,  8.06410313,\n",
       "         8.30768585,  8.55126858,  8.7948513 ,  9.03843403,  9.28201771,\n",
       "         9.52560043,  9.76918316, 10.01276588, 10.25634861, 10.49993134,\n",
       "        10.74351501, 10.98709774, 11.23068047, 11.47426319, 11.71784592,\n",
       "        11.96142864, 12.20501232, 12.44859505, 12.69217777, 12.9357605 ,\n",
       "        13.17934322, 13.42292595, 13.66650963, 13.91009235, 14.15367508,\n",
       "        14.3972578 , 14.64084053, 14.88442326, 15.12800694, 15.37158966,\n",
       "        15.61517239, 15.85875511, 16.10233879, 16.34592056, 16.58950424,\n",
       "        16.83308601, 17.07666969, 17.32025337, 17.56383514, 17.80741882,\n",
       "        18.0510006 , 18.29458427, 18.53816605, 18.78174973, 19.0253334 ,\n",
       "        19.26891518, 19.51249886, 19.75608063, 19.99966431]),\n",
       " <BarContainer object of 78 artists>)"
      ]
     },
     "execution_count": 27,
     "metadata": {},
     "output_type": "execute_result"
    },
    {
     "data": {
      "image/png": "[encoded data removed]",
      "text/plain": [
       "<Figure size 640x480 with 1 Axes>"
      ]
     },
     "metadata": {},
     "output_type": "display_data"
    }
   ],
   "source": [
    "SNR = testCat['FLUX_GAAP_r']/testCat['FLUXERR_GAAP_r']\n",
    "plt.hist(SNR[SNR < 20],\n",
    "         bins = 'auto')"
   ]
  },
  {
   "cell_type": "code",
   "execution_count": 28,
   "metadata": {},
   "outputs": [],
   "source": [
    "KiDS_SOM_catalog = Table()\n",
    "\n",
    "for kids_multiband_cat in fnmatch.filter(os.listdir(local_kids_dir),\n",
    "                                         'KiDS_DR4.1*ugriZYJHKs_cat.fits'):\n",
    "    \n",
    "    with fits.open(f'{local_kids_dir}/{kids_multiband_cat}') as cat:\n",
    "        catData = Table(cat[1].data)\n",
    "\n",
    "    KiDS_flags_mask = catData['FLAG_GAAP_r'] == 0\n",
    "\n",
    "    r_SNR = catData['FLUX_GAAP_r']/catData['FLUXERR_GAAP_r']\n",
    "\n",
    "    r_mag = catData['MAG_GAAP_r']\n",
    "    r_mag_err = catData['MAGERR_GAAP_r']\n",
    "    g_mag_err = catData['MAGERR_GAAP_g']\n",
    "    u_mag_err = catData['MAGERR_GAAP_u']\n",
    "    i_mag_err = catData['MAGERR_GAAP_i']\n",
    "\n",
    "    gr_color = catData['COLOUR_GAAP_g_r']\n",
    "    gr_color_err = np.sqrt(r_mag_err ** 2 + g_mag_err ** 2)\n",
    "\n",
    "    ug_color = catData['COLOUR_GAAP_u_g']\n",
    "    ug_color_err = np.sqrt(u_mag_err ** 2 + g_mag_err ** 2)\n",
    "\n",
    "    ri_color = catData['COLOUR_GAAP_r_i']\n",
    "    ri_color_err = np.sqrt(r_mag_err ** 2 + i_mag_err ** 2)\n",
    "\n",
    "    ur_color = catData['COLOUR_GAAP_u_g'] + catData['COLOUR_GAAP_g_r']\n",
    "    ur_color_err = np.sqrt(u_mag_err ** 2 + r_mag_err ** 2)\n",
    "\n",
    "    # fwhm = catData['FWHM_WORLD']\n",
    "\n",
    "    # surf_bright_r = r_mag + 2.5 * np.log10(2 * np.pi * (fwhm/2) ** 2)\n",
    "\n",
    "    gr_color_mask = gr_color_condition(gr_color,\n",
    "                                       gr_color_err,\n",
    "                                       r_mag)\n",
    "    \n",
    "    # surf_bright_mask = surf_bright_condition(surf_bright_r,\n",
    "    #                                          r_mag_err,\n",
    "    #                                          r_mag)\n",
    "    \n",
    "    r_mag_mask = r_mag > 18\n",
    "\n",
    "    r_SNR_mask = r_SNR > 5\n",
    "\n",
    "    complete_mask = KiDS_flags_mask & gr_color_mask & r_mag_mask & r_SNR_mask #& surf_bright_mask\n",
    "\n",
    "    tile_KiDS_data = hstack([r_mag,    r_mag_err,\n",
    "                             gr_color, gr_color_err,\n",
    "                             ug_color, ug_color_err,\n",
    "                             ri_color, ri_color_err,\n",
    "                             ur_color, ur_color_err]) \n",
    "    tile_KiDS_data.rename_columns(tile_KiDS_data.colnames,\n",
    "                           ['r_mag',    'r_mag_err',\n",
    "                            'gr_color', 'gr_color_err',\n",
    "                            'ug_color', 'ug_color_err',\n",
    "                            'ri_color', 'ri_color_err',\n",
    "                            'ur_color', 'ur_color_err'])\n",
    "    tile_KiDS_data = tile_KiDS_data[complete_mask]\n",
    "\n",
    "    KiDS_SOM_catalog = vstack([KiDS_SOM_catalog,\n",
    "                               tile_KiDS_data])"
   ]
  },
  {
   "cell_type": "code",
   "execution_count": 21,
   "metadata": {},
   "outputs": [],
   "source": [
    "KiDS_SOM_catalog.write('/data2/lsajkov/mpdg/data_products/KiDS/KiDS_SOM_catalog.fits')"
   ]
  },
  {
   "cell_type": "code",
   "execution_count": null,
   "metadata": {},
   "outputs": [],
   "source": []
  }
 ],
 "metadata": {
  "kernelspec": {
   "display_name": "mpdg",
   "language": "python",
   "name": "python3"
  },
  "language_info": {
   "codemirror_mode": {
    "name": "ipython",
    "version": 3
   },
   "file_extension": ".py",
   "mimetype": "text/x-python",
   "name": "python",
   "nbconvert_exporter": "python",
   "pygments_lexer": "ipython3",
   "version": "3.1.undefined"
  }
 },
 "nbformat": 4,
 "nbformat_minor": 2
}
