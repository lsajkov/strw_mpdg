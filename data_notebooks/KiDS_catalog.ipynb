{
 "cells": [
  {
   "cell_type": "code",
   "execution_count": 1,
   "execution_count": 1,
   "metadata": {},
   "outputs": [],
   "source": [
    "import os\n",
    "import fnmatch\n",
    "\n",
    "import numpy as np\n",
    "import matplotlib.pyplot as plt\n",
    "\n",
    "from astropy.io import fits\n",
    "from astropy.table import Table, vstack, hstack"
   ]
  },
  {
   "cell_type": "markdown",
   "metadata": {},
   "source": [
    "## KiDS multi-band catalog"
   ]
  },
  {
   "cell_type": "code",
   "execution_count": 4,
   "metadata": {},
   "outputs": [],
   "source": [
    "local_kids_dir = '/data2/lsajkov/mpdg/data/KiDS_multiband'"
    "local_kids_dir = '/data2/lsajkov/mpdg/data/KiDS_multiband'"
   ]
  },
  {
   "cell_type": "markdown",
   "metadata": {},
   "source": [
    "### RA/Dec catalog:"
   ]
  },
  {
   "cell_type": "code",
   "execution_count": 4,
   "metadata": {},
   "outputs": [],
   "source": [
    "KiDS_positions_catalog = Table()\n",
    "\n",
    "for kids_multiband_cat in fnmatch.filter(os.listdir(local_kids_dir),\n",
    "                                         'KiDS_DR4.1*ugriZYJHKs_cat.fits'):\n",
    "    \n",
    "    with fits.open(f'{local_kids_dir}/{kids_multiband_cat}') as cat:\n",
    "        catData = Table(cat[1].data)\n",
    "    \n",
    "    KiDS_positions_catalog = vstack([KiDS_positions_catalog,\n",
    "                                     catData['ID', 'RAJ2000', 'DECJ2000']])"
   ]
  },
  {
   "cell_type": "code",
   "execution_count": 6,
   "metadata": {},
   "outputs": [],
   "source": [
    "KiDS_positions_catalog.write('/data2/lsajkov/mpdg/data_products/KiDS/KiDS_concat_radec_positions.fits',\n",
    "                             overwrite = True)"
   ]
  },
  {
   "cell_type": "code",
   "execution_count": null,
   "metadata": {},
   "outputs": [],
   "source": []
  },
  {
   "cell_type": "code",
   "execution_count": null,
   "metadata": {},
   "outputs": [],
   "source": []
  },
  {
   "cell_type": "markdown",
   "metadata": {},
   "source": [
    "### Photometry catalog:\n",
    "\n",
    "ID, position, size, 9-band photometry"
   ]
  },
  {
   "cell_type": "code",
   "execution_count": 9,
   "metadata": {},
   "outputs": [],
   "source": [
    "#desired data columns\n",
    "with fits.open(f'{local_kids_dir}/{fnmatch.filter(os.listdir(local_kids_dir), 'KiDS_DR4.1*ugriZYJHKs_cat.fits')[0]}') as hdu:\n",
    "    hduData = Table(hdu[1].data)\n",
    "    \n",
    "ID_cols = ['ID', 'KIDS_TILE', 'THELI_NAME']\n",
    "\n",
    "position_cols = ['RAJ2000', 'DECJ2000']\n",
    "\n",
    "size_cols = ['FWHM_WORLD']\n",
    "\n",
    "MAG_GAAP_bands    = [band for band in hduData.keys()\\\n",
    "                  if (fnmatch.fnmatch(band, 'MAG_GAAP_*') & (not fnmatch.fnmatch(band, 'MAG_GAAP_*_*')))]\n",
    "\n",
    "MAGERR_GAAP_bands = [band for band in hduData.keys()\\\n",
    "                  if (fnmatch.fnmatch(band, 'MAGERR_GAAP_*') & (not fnmatch.fnmatch(band, 'MAGERR_GAAP_*_*')))]\n",
    "\n",
    "COLOUR_GAAP_bands = [band for band in hduData.keys()\\\n",
    "                  if fnmatch.fnmatch(band, 'COLOUR_GAAP_*')]\n",
    "\n",
    "index_array =  [ID_cols,\n",
    "                position_cols,\n",
    "                size_cols,\n",
    "                MAG_GAAP_bands,\n",
    "                MAGERR_GAAP_bands,\n",
    "                COLOUR_GAAP_bands]\n",
    "\n",
    "column_indices = [index for array in index_array for index in array]"
   ]
  },
  {
   "cell_type": "code",
   "execution_count": 11,
   "metadata": {},
   "outputs": [
    {
     "ename": "",
     "evalue": "",
     "output_type": "error",
     "traceback": [
      "\u001b[1;31mThe Kernel crashed while executing code in the current cell or a previous cell. \n",
      "\u001b[1;31mPlease review the code in the cell(s) to identify a possible cause of the failure. \n",
      "\u001b[1;31mClick <a href='https://aka.ms/vscodeJupyterKernelCrash'>here</a> for more info. \n",
      "\u001b[1;31mView Jupyter <a href='command:jupyter.viewOutput'>log</a> for further details."
     ]
    }
   ],
   "source": [
    "KiDS_concatenated_catalog = Table()\n",
    "\n",
    "for kids_multiband_cat in fnmatch.filter(os.listdir(local_kids_dir),\n",
    "                                         'KiDS_DR4.1*ugriZYJHKs_cat.fits'):\n",
    "    \n",
    "    with fits.open(f'{local_kids_dir}/{kids_multiband_cat}') as cat:\n",
    "        catData = Table(cat[1].data)\n",
    "    \n",
    "    KiDS_concatenated_catalog = vstack([KiDS_concatenated_catalog,\n",
    "                                     catData[column_indices]])"
   ]
  },
  {
   "cell_type": "code",
   "execution_count": null,
   "metadata": {},
   "outputs": [],
   "source": [
    "def "
   ]
  },
  {
   "cell_type": "markdown",
   "metadata": {},
   "source": [
    "### SOM catalog\n",
    "Only within primary targeting region <br>\n",
    "Color-color catalog"
   ]
  },
  {
   "cell_type": "code",
   "execution_count": 2,
   "metadata": {},
   "outputs": [],
   "source": [
    "#define primary targeting region\n",
    "def gr_color_condition(gr_color, gr_color_err,\n",
    "               r_mag):\n",
    "    \n",
    "    return (gr_color - gr_color_err + 0.06 * (r_mag - 14)) < 0.9"
   ]
  },
  {
   "cell_type": "code",
   "execution_count": 5,
   "metadata": {},
   "outputs": [],
   "source": [
    "KiDS_SOM_catalog = Table()\n",
    "\n",
    "for kids_multiband_cat in fnmatch.filter(os.listdir(local_kids_dir),\n",
    "                                         'KiDS_DR4.1*ugriZYJHKs_cat.fits'):\n",
    "    \n",
    "    with fits.open(f'{local_kids_dir}/{kids_multiband_cat}') as cat:\n",
    "        catData = Table(cat[1].data)\n",
    "\n",
    "    KiDS_flags_mask = catData['FLAG_GAAP_r'] == 0\n",
    "\n",
    "    ID = catData['ID']\n",
    "\n",
    "    u_SNR = catData['FLUX_GAAP_u']/catData['FLUXERR_GAAP_u']\n",
    "    g_SNR = catData['FLUX_GAAP_g']/catData['FLUXERR_GAAP_g']\n",
    "    r_SNR = catData['FLUX_GAAP_r']/catData['FLUXERR_GAAP_r']\n",
    "    i_SNR = catData['FLUX_GAAP_i']/catData['FLUXERR_GAAP_i']\n",
    "    Z_SNR = catData['FLUX_GAAP_Z']/catData['FLUXERR_GAAP_Z']\n",
    "\n",
    "    u_mag     = catData['MAG_GAAP_u']\n",
    "    u_mag_err = catData['MAGERR_GAAP_u']\n",
    "\n",
    "    g_mag     = catData['MAG_GAAP_g']\n",
    "    g_mag_err = catData['MAGERR_GAAP_g']\n",
    "\n",
    "    r_mag     = catData['MAG_GAAP_r']\n",
    "    r_mag_err = catData['MAGERR_GAAP_r']\n",
    "\n",
    "    i_mag     = catData['MAG_GAAP_i']\n",
    "    i_mag_err = catData['MAGERR_GAAP_i']\n",
    "\n",
    "    Z_mag     = catData['MAG_GAAP_Z']\n",
    "    Z_mag_err = catData['MAGERR_GAAP_Z']\n",
    "\n",
    "    ug_color     = catData['COLOUR_GAAP_u_g']\n",
    "    ug_color_err = np.sqrt(u_mag_err ** 2 + g_mag_err ** 2)    \n",
    "\n",
    "    gr_color     = catData['COLOUR_GAAP_g_r']\n",
    "    gr_color_err = np.sqrt(r_mag_err ** 2 + g_mag_err ** 2)\n",
    "\n",
    "    ri_color     = catData['COLOUR_GAAP_r_i']\n",
    "    ri_color_err = np.sqrt(r_mag_err ** 2 + i_mag_err ** 2)\n",
    "\n",
    "    iZ_color     = catData['COLOUR_GAAP_i_Z']\n",
    "    iZ_color_err = np.sqrt(i_mag_err ** 2 + Z_mag_err ** 2)\n",
    "\n",
    "    redshift = catData['Z_B']\n",
    "    redshift_mask = redshift < 1\n",
    "\n",
    "    flux_radius = catData['FLUX_RADIUS'] * 0.213\n",
    "\n",
    "    gr_color_mask = gr_color_condition(gr_color,\n",
    "                                       gr_color_err,\n",
    "                                       r_mag)\n",
    "    \n",
    "    color_mask = (ug_color > -1) & (ug_color < 2) &\\\n",
    "                 (gr_color > -1) & (gr_color < 2) &\\\n",
    "                 (ri_color > -1) & (ri_color < 2) &\\\n",
    "                 (iZ_color > -1) & (iZ_color < 2)\n",
    "    \n",
    "    SNR_thresh = 10\n",
    "\n",
    "    SNR_mask = (u_SNR > SNR_thresh) &\\\n",
    "               (g_SNR > SNR_thresh) &\\\n",
    "               (r_SNR > SNR_thresh) &\\\n",
    "               (i_SNR > SNR_thresh) &\\\n",
    "               (Z_SNR > SNR_thresh)\n",
    "\n",
    "    r_mag_mask = r_mag > 18\n",
    "\n",
    "    complete_mask = KiDS_flags_mask & gr_color_mask & color_mask & r_mag_mask & SNR_mask & redshift_mask #& surf_bright_mask\n",
    "\n",
    "    tile_KiDS_data = hstack([ID,\n",
    "                             u_mag, u_mag_err,\n",
    "                             g_mag, g_mag_err,\n",
    "                             r_mag, r_mag_err,\n",
    "                             i_mag, i_mag_err,\n",
    "                             Z_mag, Z_mag_err,\n",
    "                             ug_color, ug_color_err,\n",
    "                             gr_color, gr_color_err,\n",
    "                             ri_color, ri_color_err,\n",
    "                             iZ_color, iZ_color_err,\n",
    "                             flux_radius, redshift]) \n",
    "    tile_KiDS_data.rename_columns(tile_KiDS_data.colnames,\n",
    "                           ['ID',\n",
    "                            'u_mag', 'u_mag_err',\n",
    "                            'g_mag', 'g_mag_err',\n",
    "                            'r_mag', 'r_mag_err',\n",
    "                            'i_mag', 'i_mag_err',\n",
    "                            'Z_mag', 'Z_mag_err',\n",
    "                            'ug_col', 'ug_col_err',\n",
    "                            'gr_col', 'gr_col_err',\n",
    "                            'ri_col', 'ri_col_err',\n",
    "                            'iZ_col', 'iZ_col_err',\n",
    "                            'half_light_radius', 'redshift'])\n",
    "    \n",
    "    tile_KiDS_data = tile_KiDS_data[complete_mask]\n",
    "\n",
    "    KiDS_SOM_catalog = vstack([KiDS_SOM_catalog,\n",
    "                               tile_KiDS_data])"
   ]
  },
  {
   "cell_type": "code",
   "execution_count": 6,
   "metadata": {},
   "outputs": [],
   "source": [
    "KiDS_SOM_catalog.write('/data2/lsajkov/mpdg/data_products/KiDS/KiDS_SOM_catalog_15Jul24.fits',\n",
    "                       overwrite = False)"
   ]
  },
  {
   "cell_type": "markdown",
   "metadata": {},
   "source": [
    "### Log of catalogs\n",
    "**Jul 12, 2024** <br>\n",
    "*Included BPZ redshift in catalog* <br>\n",
    "Cuts: <br>\n",
    "$\\mathrm{SNR} > 10$ <br>\n",
    "$r > 18$ <br>\n",
    "$-1 < color < 2$ <br>\n",
    "In primary targeting region from Thornton+23 <br>\n",
    "\n",
    "**Jul 15, 2024** <br>\n",
    "*Included BPZ redshift in catalog* <br>\n",
    "*Included half-light radius in catalog* <br>\n",
    "Cuts: <br>\n",
    "$\\mathrm{SNR} > 10$ <br>\n",
    "$r > 18$ <br>\n",
    "$-1 < color < 2$ <br>\n",
    "In primary targeting region from Thornton+23 <br>\n"
   ]
  }
 ],
 "metadata": {
  "kernelspec": {
   "display_name": "mpdg",
   "language": "python",
   "name": "python3"
  },
  "language_info": {
   "codemirror_mode": {
    "name": "ipython",
    "version": 3
   },
   "file_extension": ".py",
   "mimetype": "text/x-python",
   "name": "python",
   "nbconvert_exporter": "python",
   "pygments_lexer": "ipython3",
   "version": "3.12.3"
  }
 },
 "nbformat": 4,
 "nbformat_minor": 2
}
