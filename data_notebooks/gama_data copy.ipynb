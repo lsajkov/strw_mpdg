{
 "cells": [
  {
   "cell_type": "code",
   "execution_count": 2,
   "metadata": {},
   "outputs": [],
   "source": [
    "import os\n",
    "import numpy as np\n",
    "from cycler import cycler\n",
    "\n",
    "import matplotlib as mpl\n",
    "import matplotlib.pyplot as plt\n",
    "\n",
    "from astropy.io import fits\n",
    "from astropy.table import Table, join, hstack\n",
    "import astropy.units as u\n",
    "\n",
    "import scipy.stats as stats\n",
    "\n",
    "plt.rcParams.update({\n",
    "    'figure.figsize'   : (12, 10),\n",
    "    'font.family'      :'serif',\n",
    "    'font.size'        : 24,\n",
    "    'font.serif'       :'Georgia',\n",
    "    'axes.labelsize'   :'large',\n",
    "    'mathtext.fontset' :'stix',\n",
    "    'axes.linewidth'   : 5,\n",
    "    'xtick.direction'  :'in',\n",
    "    'ytick.direction'  :'in',\n",
    "    'xtick.major.size' : 7,\n",
    "    'ytick.major.size' : 7,\n",
    "    'xtick.major.width': 3,\n",
    "    'ytick.major.width': 3,\n",
    "    'xtick.minor.size' : 5,\n",
    "    'ytick.minor.size' : 5,\n",
    "    'xtick.minor.width': 2,\n",
    "    'ytick.minor.width': 2,\n",
    "    'lines.linewidth'  : 3,\n",
    "    'axes.prop_cycle'  : cycler('color', ['red', 'orange', 'teal', 'skyblue']),\n",
    "})\n",
    "\n",
    "def errJy_to_errABmag(flux_Jy, fluxerr_Jy):\n",
    "    return -2.5 / (flux_Jy * np.log(10)) * fluxerr_Jy"
   ]
  },
  {
   "cell_type": "markdown",
   "metadata": {},
   "source": [
    "## SOM-ready panchromatic catalog"
   ]
  },
  {
   "cell_type": "code",
   "execution_count": 4,
   "metadata": {},
   "outputs": [],
   "source": [
    "with fits.open('/data2/lsajkov/mpdg/data/COSMOS/COSMOS2020_CLASSIC_R1_v2.2_p3.fits') as cat:\n",
    "    COSMOSClassicCat = Table(cat[1].data)"
   ]
  },
  {
   "cell_type": "code",
   "execution_count": 5,
   "metadata": {},
   "outputs": [
    {
     "name": "stderr",
     "output_type": "stream",
     "text": [
      "/data2/lsajkov/mpdg/conda/envs/mpdg/lib/python3.12/site-packages/astropy/units/function/logarithmic.py:67: RuntimeWarning: invalid value encountered in log10\n",
      "  return dex.to(self._function_unit, np.log10(x))\n",
      "/var/tmp/lsajkov/ipykernel_2431662/776854917.py:24: RuntimeWarning: divide by zero encountered in divide\n",
      "  SNRs.add_column(cat[f'flux_{band}t']/cat[f'flux_err_{band}t'],\n"
     ]
    }
   ],
   "source": [
    "#construct SOM catalog columns\n",
    "cat = joined_ScienceCat_StellarMassesGKV\n",
    "\n",
    "def errJy_to_errABmag(flux_Jy, fluxerr_Jy):\n",
    "    return -2.5 / (flux_Jy * np.log(10)) * fluxerr_Jy\n",
    "\n",
    "photometric_bands = ['u', 'g', 'r', 'i', 'Z', 'Y', 'J', 'H', 'K']\n",
    "\n",
    "uberID = cat['uberID']\n",
    "\n",
    "ra = cat['RAcen']\n",
    "dec = cat['Deccen']\n",
    "\n",
    "magnitudes = Table()\n",
    "SNRs = Table()\n",
    "\n",
    "for band in photometric_bands:\n",
    "\n",
    "    magnitudes.add_column((cat[f'flux_{band}t'] * u.Jansky).to(u.ABmag).value,\n",
    "                          name = f'{band}_mag')\n",
    "    magnitudes.add_column(errJy_to_errABmag(cat[f'flux_{band}t'], cat[f'flux_err_{band}t']),\n",
    "                          name = f'{band}_mag_err')\n",
    "    \n",
    "    SNRs.add_column(cat[f'flux_{band}t']/cat[f'flux_err_{band}t'],\n",
    "                    name = band)\n",
    "\n",
    "colors = Table()\n",
    "for i, band_hi in enumerate(photometric_bands):\n",
    "    for band_lo in photometric_bands[i + 1:]:\n",
    "        color_column = magnitudes[f'{band_hi}_mag'] - magnitudes[f'{band_lo}_mag']\n",
    "        color_err_column = np.sqrt(magnitudes[f'{band_hi}_mag_err'] ** 2 +\\\n",
    "                                   magnitudes[f'{band_lo}_mag_err'] ** 2)\n",
    "        colors.add_columns([color_column, color_err_column],\n",
    "                   names = [f'{band_hi}{band_lo}_col', f'{band_hi}{band_lo}_col_err'])\n",
    "\n",
    "mstar     = cat['mstar']\n",
    "mstar_err = cat['delmstar']\n",
    "\n",
    "R50 = cat['R50']\n",
    "\n",
    "redshift = cat['Z']\n",
    "ppp      = cat['ppp']\n",
    "\n",
    "NQ = cat['NQ']"
   ]
  },
  {
   "cell_type": "code",
   "execution_count": 31,
   "metadata": {},
   "outputs": [],
   "source": [
    "#construct SOM catalog columns for COSMOS2020 Classic\n",
    "cat = COSMOSClassicCat\n",
    "\n",
    "IDs = cat['ID']\n",
    "\n",
    "photometric_bands = ['CFHT_u', 'HSC_g', 'HSC_r', 'HSC_i', 'HSC_z', 'UVISTA_Y', 'UVISTA_J', 'UVISTA_H', 'UVISTA_Ks']\n",
    "ra = cat['ALPHA_J2000']\n",
    "dec = cat['DELTA_J2000']\n",
    "\n",
    "magnitudes = Table()\n",
    "magnitude_errs = Table()\n",
    "SNRs = Table()\n",
    "\n",
    "for band in photometric_bands:\n",
    "    magnitudes.add_column((cat[f'{band}_MAG_AUTO']),\n",
    "                          name = f'{band.split('_')[-1]}_mag')\n",
    "    magnitude_errs.add_column((cat[f'{band}_MAG_AUTO']),\n",
    "                          name = f'{band.split('_')[-1]}_magerr')\n",
    "    SNRs.add_column(cat[f'{band}_FLUX_AUTO']/cat[f'{band}_FLUXERR_AUTO'],\n",
    "                    name = f'{band.split('_')[-1]}')\n",
    "\n",
    "\n",
    "colors = Table()\n",
    "for i, band_hi in enumerate(photometric_bands):\n",
    "    for band_lo in photometric_bands[i + 1:]:\n",
    "        color_column = cat[f'{band_hi}_MAG_APER2'] - cat[f'{band_lo}_MAG_APER2']\n",
    "        color_err_column = np.sqrt(cat[f'{band_hi}_MAGERR_APER2'] ** 2 + cat[f'{band_lo}_MAGERR_APER2'] ** 2)\n",
    "        colors.add_columns([color_column, color_err_column],\n",
    "                   names = [f'{band_hi.split('_')[-1]}{band_lo.split('_')[-1]}_col', f'{band_hi.split('_')[-1]}{band_lo.split('_')[-1]}_col_err'])\n",
    "\n",
    "\n",
    "mstar = 10**cat['lp_mass_med']\n",
    "mstar_err = 10**cat['lp_mass_med_max68'] - 10**cat['lp_mass_med_min68']\n",
    "\n",
    "R50 = cat['FLUX_RADIUS']\n",
    "\n",
    "redshift = cat['lp_zBEST']\n",
    "redshift_err = cat['lp_zPDF_u68'] - cat['lp_zPDF_l68']"
   ]
  },
  {
   "cell_type": "code",
   "execution_count": 32,
   "metadata": {},
   "outputs": [
    {
     "name": "stderr",
     "output_type": "stream",
     "text": [
      "/var/tmp/lsajkov/ipykernel_2431662/2752200513.py:18: DeprecationWarning: Bitwise inversion '~' on bool is deprecated. This returns the bitwise inversion of the underlying int object and is usually not what you expect from negating a bool. Use the 'not' operator for boolean negation or ~int(x) if you really want the bitwise inversion of the underlying int.\n",
      "  if ~color.endswith('_err'):\n"
     ]
    }
   ],
   "source": [
    "#quality_cuts\n",
    "\n",
    "SNR_thresh = 5\n",
    "SNR_mask = (SNRs['r'] > SNR_thresh) &\\\n",
    "           (SNRs['i'] > SNR_thresh) &\\\n",
    "           (SNRs['z'] > SNR_thresh) &\\\n",
    "           (SNRs['Y'] > SNR_thresh) &\\\n",
    "           (SNRs['J'] > SNR_thresh) &\\\n",
    "           (SNRs['H'] > SNR_thresh) &\\\n",
    "           (SNRs['Ks'] > SNR_thresh)\n",
    "\n",
    "redshift_mask = (redshift >= 0.002) & (redshift < 1)\n",
    "\n",
    "color_lo = -1\n",
    "color_hi = 3\n",
    "color_mask = np.ones(len(cat), dtype = bool)\n",
    "for color in colors.colnames:\n",
    "    if ~color.endswith('_err'):\n",
    "        color_mask = color_mask &\\\n",
    "                    (colors[color] > color_lo) & (colors[color] < color_hi) &\\\n",
    "                    ~np.isnan(colors[color])\n",
    "        \n",
    "log_mstar_lo = 6\n",
    "log_mstar_hi = 12\n",
    "log_mstar_mask = (np.log10(mstar) > log_mstar_lo) & (np.log10(mstar) < log_mstar_hi)\n",
    "\n",
    "R50_mask = R50 < 10\n",
    "\n",
    "r_mag_mask = magnitudes['r_mag'] > 18"
   ]
  },
  {
   "cell_type": "code",
   "execution_count": 34,
   "metadata": {},
   "outputs": [],
   "source": [
    "total_mask = SNR_mask &\\\n",
    "             redshift_mask &\\\n",
    "             color_mask &\\\n",
    "             log_mstar_mask &\\\n",
    "             R50_mask &\\\n",
    "             r_mag_mask"
   ]
  },
  {
   "cell_type": "code",
   "execution_count": 35,
   "metadata": {},
   "outputs": [],
   "source": [
    "COSMOS_training_catalog = Table([IDs,\n",
    "                                 ra, dec,\n",
    "                                 mstar, redshift,\n",
    "                                 redshift,\n",
    "                                 R50],\n",
    "                          names = ['ID',\n",
    "                                   'ra', 'dec',\n",
    "                                   'mstar', 'mstar_err',\n",
    "                                   'redshift',\n",
    "                                   'half_light_radius'])\n",
    "\n",
    "COSMOS_training_catalog.add_columns(colors.columns,\n",
    "                                      indexes = [3] * len(colors.colnames))\n",
    "\n",
    "COSMOS_training_catalog.add_columns(magnitudes.columns,\n",
    "                                      indexes = [3] * len(magnitudes.colnames))\n",
    "\n",
    "COSMOS_training_catalog = COSMOS_training_catalog[total_mask]"
   ]
  },
  {
   "cell_type": "code",
   "execution_count": 39,
   "metadata": {},
   "outputs": [
    {
     "data": {
      "text/plain": [
       "(array([   54.,   343.,  1410.,  4199., 11031., 21691., 30031., 23971.,\n",
       "         8318.,   564.]),\n",
       " array([18.30161858, 19.31667709, 20.3317337 , 21.34679031, 22.36184883,\n",
       "        23.37690735, 24.39196396, 25.40702057, 26.42207909, 27.4371376 ,\n",
       "        28.45219421]),\n",
       " <BarContainer object of 10 artists>)"
      ]
     },
     "execution_count": 39,
     "metadata": {},
     "output_type": "execute_result"
    },
    {
     "data": {
      "image/png": "[encoded data removed]",
      "text/plain": [
       "<Figure size 1200x1000 with 1 Axes>"
      ]
     },
     "metadata": {},
     "output_type": "display_data"
    }
   ],
   "source": [
    "plt.hist(COSMOS_training_catalog['r_mag'])"
   ]
  },
  {
   "cell_type": "code",
   "execution_count": 38,
   "metadata": {},
   "outputs": [],
   "source": [
    "COSMOS_training_catalog.write('/data2/lsajkov/mpdg/data_products/COSMOS/COSMOS_SOM_panchromatic_catalog_05Aug24.fits',\n",
    "                                overwrite = False)"
   ]
  },
  {
   "cell_type": "markdown",
   "metadata": {},
   "source": [
    "## SOM-ready restframe catalog"
   ]
  },
  {
   "cell_type": "code",
   "execution_count": 2,
   "metadata": {},
   "outputs": [],
   "source": [
    "with fits.open('/data2/lsajkov/mpdg/data/GAMA/gkvScienceCatv02.fits') as cat:\n",
    "    ScienceCat = Table(cat[1].data)\n",
    "\n",
    "with fits.open('/data2/lsajkov/mpdg/data/GAMA/StellarMassesGKVv24.fits') as cat:\n",
    "    StellarMassesGKV = Table(cat[1].data)\n",
    "    \n",
    "joined_ScienceCat_StellarMassesGKV = join(ScienceCat, StellarMassesGKV)"
   ]
  },
  {
   "cell_type": "code",
   "execution_count": null,
   "metadata": {},
   "outputs": [],
   "source": [
    "#construct SOM catalog columns\n",
    "cat = joined_ScienceCat_StellarMassesGKV\n",
    "\n",
    "def errJy_to_errABmag(flux_Jy, fluxerr_Jy):\n",
    "    return -2.5 / (flux_Jy * np.log(10)) * fluxerr_Jy\n",
    "\n",
    "uberID = cat['uberID']\n",
    "\n",
    "r_mag = (cat['flux_rt'] * u.Jansky).to(u.ABmag).value\n",
    "r_mag_err = errJy_to_errABmag(cat['flux_rt'], cat['flux_err_rt'])\n",
    "r_snr = cat['flux_rt']/cat['flux_err_rt']\n",
    "\n",
    "g_mag = (cat['flux_gt'] * u.Jansky).to(u.ABmag).value\n",
    "g_mag_err = errJy_to_errABmag(cat['flux_gt'], cat['flux_err_gt'])\n",
    "g_snr = cat['flux_gt']/cat['flux_err_gt']\n",
    "\n",
    "u_mag = (cat['flux_ut'] * u.Jansky).to(u.ABmag).value\n",
    "u_mag_err = errJy_to_errABmag(cat['flux_ut'], cat['flux_err_ut'])\n",
    "u_snr = cat['flux_ut']/cat['flux_err_ut']\n",
    "\n",
    "i_mag = (cat['flux_it'] * u.Jansky).to(u.ABmag).value\n",
    "i_mag_err = errJy_to_errABmag(cat['flux_it'], cat['flux_err_it'])\n",
    "i_snr = cat['flux_it']/cat['flux_err_it']\n",
    "\n",
    "Z_mag = (cat['flux_Zt'] * u.Jansky).to(u.ABmag).value\n",
    "Z_mag_err = errJy_to_errABmag(cat['flux_Zt'], cat['flux_err_Zt'])\n",
    "Z_snr = cat['flux_Zt']/cat['flux_err_Zt']\n",
    "\n",
    "ur_rest     = cat['uminusr']\n",
    "ur_rest_err = cat['deluminusr']\n",
    "\n",
    "gi_rest     = cat['gminusi']\n",
    "gi_rest_err = cat['delgminusi']\n",
    "\n",
    "\n",
    "\n",
    "mstar     = cat['mstar']\n",
    "mstar_err = cat['delmstar']\n",
    "\n",
    "R50 = cat['R50']\n",
    "\n",
    "redshift = cat['Z']\n",
    "ppp      = cat['ppp']"
   ]
  }
 ],
 "metadata": {
  "kernelspec": {
   "display_name": "Python 3",
   "language": "python",
   "name": "python3"
  },
  "language_info": {
   "codemirror_mode": {
    "name": "ipython",
    "version": 3
   },
   "file_extension": ".py",
   "mimetype": "text/x-python",
   "name": "python",
   "nbconvert_exporter": "python",
   "pygments_lexer": "ipython3",
   "version": "3.12.3"
  },
  "vscode": {
   "interpreter": {
    "hash": "0403da0954771eeaa8d0c88cb9286d36e68be9a41b0796aa6510970447a9efaa"
   }
  }
 },
 "nbformat": 4,
 "nbformat_minor": 2
}
