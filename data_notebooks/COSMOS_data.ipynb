{
 "cells": [
  {
   "cell_type": "code",
   "execution_count": 1,
   "metadata": {},
   "outputs": [],
   "source": [
    "import os\n",
    "import numpy as np\n",
    "from cycler import cycler\n",
    "\n",
    "import matplotlib as mpl\n",
    "import matplotlib.pyplot as plt\n",
    "\n",
    "from astropy.io import fits\n",
    "from astropy.table import Table, join, hstack\n",
    "import astropy.units as u\n",
    "\n",
    "import scipy.stats as stats\n",
    "\n",
    "plt.rcParams.update({\n",
    "    'figure.figsize'   : (12, 10),\n",
    "    'font.family'      :'serif',\n",
    "    'font.size'        : 24,\n",
    "    'font.serif'       :'Georgia',\n",
    "    'axes.labelsize'   :'large',\n",
    "    'mathtext.fontset' :'stix',\n",
    "    'axes.linewidth'   : 5,\n",
    "    'xtick.direction'  :'in',\n",
    "    'ytick.direction'  :'in',\n",
    "    'xtick.major.size' : 7,\n",
    "    'ytick.major.size' : 7,\n",
    "    'xtick.major.width': 3,\n",
    "    'ytick.major.width': 3,\n",
    "    'xtick.minor.size' : 5,\n",
    "    'ytick.minor.size' : 5,\n",
    "    'xtick.minor.width': 2,\n",
    "    'ytick.minor.width': 2,\n",
    "    'lines.linewidth'  : 3,\n",
    "    'axes.prop_cycle'  : cycler('color', ['red', 'orange', 'teal', 'skyblue']),\n",
    "})\n",
    "\n",
    "def errJy_to_errABmag(flux_Jy, fluxerr_Jy):\n",
    "    return -2.5 / (flux_Jy * np.log(10)) * fluxerr_Jy"
   ]
  },
  {
   "cell_type": "markdown",
   "metadata": {},
   "source": [
    "## SOM-ready panchromatic catalog"
   ]
  },
  {
   "cell_type": "code",
   "execution_count": 2,
   "metadata": {},
   "outputs": [],
   "source": [
    "with fits.open('/data2/lsajkov/mpdg/data/COSMOS/COSMOS2020_CLASSIC_R1_v2.2_p3.fits') as cat:\n",
    "    COSMOSClassicCat = Table(cat[1].data)"
   ]
  },
  {
   "cell_type": "code",
   "execution_count": 23,
   "metadata": {},
   "outputs": [],
   "source": [
    "#construct SOM catalog columns for COSMOS2020 Classic\n",
    "cat = COSMOSClassicCat\n",
    "\n",
    "IDs = cat['ID']\n",
    "\n",
    "photometric_bands = ['CFHT_u', 'HSC_g', 'HSC_r', 'HSC_i', 'HSC_z', 'UVISTA_Y', 'UVISTA_J', 'UVISTA_H', 'UVISTA_Ks']\n",
    "ra = cat['ALPHA_J2000']\n",
    "dec = cat['DELTA_J2000']\n",
    "\n",
    "magnitudes = Table()\n",
    "aper_magnitudes = Table()\n",
    "magnitude_errs = Table()\n",
    "SNRs = Table()\n",
    "\n",
    "for band in photometric_bands:\n",
    "    magnitudes.add_column((cat[f'{band}_MAG_AUTO']),\n",
    "                          name = f'{band.split('_')[-1]}_mag')\n",
    "    aper_magnitudes.add_column((cat[f'{band}_MAG_APER2']),\n",
    "                                name = f'{band.split('_')[-1]}_mag_2p0_aper')\n",
    "    magnitude_errs.add_column((cat[f'{band}_MAG_AUTO']),\n",
    "                          name = f'{band.split('_')[-1]}_magerr')\n",
    "    SNRs.add_column(cat[f'{band}_FLUX_AUTO']/cat[f'{band}_FLUXERR_AUTO'],\n",
    "                    name = f'{band.split('_')[-1]}')\n",
    "\n",
    "colors = Table()\n",
    "for i, band_hi in enumerate(photometric_bands):\n",
    "    for band_lo in photometric_bands[i + 1:]:\n",
    "        color_column = cat[f'{band_hi}_MAG_APER2'] - cat[f'{band_lo}_MAG_APER2']\n",
    "        color_err_column = np.sqrt(cat[f'{band_hi}_MAGERR_APER2'] ** 2 + cat[f'{band_lo}_MAGERR_APER2'] ** 2)\n",
    "        colors.add_columns([color_column, color_err_column],\n",
    "                   names = [f'{band_hi.split('_')[-1]}{band_lo.split('_')[-1]}_col', f'{band_hi.split('_')[-1]}{band_lo.split('_')[-1]}_col_err'])\n",
    "\n",
    "\n",
    "mstar = 10**cat['lp_mass_med']\n",
    "mstar_err = 10**cat['lp_mass_med_max68'] - 10**cat['lp_mass_med_min68']\n",
    "\n",
    "R50 = cat['FLUX_RADIUS']\n",
    "\n",
    "redshift = cat['lp_zBEST']\n",
    "redshift_err = cat['lp_zPDF_u68'] - cat['lp_zPDF_l68']"
   ]
  },
  {
   "cell_type": "code",
   "execution_count": 20,
   "metadata": {},
   "outputs": [],
   "source": [
    "#deredden colors\n",
    "color_excesses = COSMOSClassicCat['lp_dust']\n",
    "R_vals = [4.47, 3.63, 2.67, 2.08, 1.54, 1.21, 0.87, 0.56, 0.36]\n",
    "\n",
    "dereddened_colors = Table()\n",
    "for i, band_hi in enumerate(photometric_bands):\n",
    "    for j, band_lo in enumerate(photometric_bands[i + 1:]):\n",
    "        dereddened_colors.add_column(colors[f'{band_hi.split('_')[-1]}{band_lo.split('_')[-1]}_col'] - (R_vals[i] - R_vals[j]) * color_excesses,\n",
    "                                     name = f'{band_hi.split('_')[-1]}{band_lo.split('_')[-1]}_col_dered')"
   ]
  },
  {
   "cell_type": "code",
   "execution_count": 21,
   "metadata": {},
   "outputs": [
    {
     "name": "stderr",
     "output_type": "stream",
     "text": [
      "/var/tmp/lsajkov/ipykernel_2722084/3911572392.py:18: DeprecationWarning: Bitwise inversion '~' on bool is deprecated. This returns the bitwise inversion of the underlying int object and is usually not what you expect from negating a bool. Use the 'not' operator for boolean negation or ~int(x) if you really want the bitwise inversion of the underlying int.\n",
      "  if ~color.endswith('_err'):\n"
     ]
    }
   ],
   "source": [
    "#quality_cuts\n",
    "\n",
    "SNR_thresh = 5\n",
    "SNR_mask = (SNRs['r'] > SNR_thresh) &\\\n",
    "           (SNRs['i'] > SNR_thresh) &\\\n",
    "           (SNRs['z'] > SNR_thresh) &\\\n",
    "           (SNRs['Y'] > SNR_thresh) &\\\n",
    "           (SNRs['J'] > SNR_thresh) &\\\n",
    "           (SNRs['H'] > SNR_thresh) &\\\n",
    "           (SNRs['Ks'] > SNR_thresh)\n",
    "\n",
    "redshift_mask = (redshift >= 0.002) & (redshift < 1)\n",
    "\n",
    "color_lo = -1\n",
    "color_hi = 3\n",
    "color_mask = np.ones(len(cat), dtype = bool)\n",
    "for color in dereddened_colors.colnames:\n",
    "    if ~color.endswith('_err'):\n",
    "        color_mask = color_mask &\\\n",
    "                    (dereddened_colors[color] > color_lo) & (dereddened_colors[color] < color_hi) &\\\n",
    "                    ~np.isnan(dereddened_colors[color])\n",
    "        \n",
    "log_mstar_lo = 6\n",
    "log_mstar_hi = 12\n",
    "log_mstar_mask = (np.log10(mstar) > log_mstar_lo) & (np.log10(mstar) < log_mstar_hi)\n",
    "\n",
    "R50_mask = R50 < 10\n",
    "\n",
    "r_mag_mask = magnitudes['r_mag'] > 18"
   ]
  },
  {
   "cell_type": "code",
   "execution_count": 22,
   "metadata": {},
   "outputs": [],
   "source": [
    "total_mask = SNR_mask &\\\n",
    "             redshift_mask &\\\n",
    "             color_mask &\\\n",
    "             log_mstar_mask &\\\n",
    "             R50_mask &\\\n",
    "             r_mag_mask"
   ]
  },
  {
   "cell_type": "code",
   "execution_count": 25,
   "metadata": {},
   "outputs": [],
   "source": [
    "COSMOS_training_catalog = Table([IDs,\n",
    "                                 ra, dec,\n",
    "                                 mstar, redshift,\n",
    "                                 redshift,\n",
    "                                 R50],\n",
    "                          names = ['ID',\n",
    "                                   'ra', 'dec',\n",
    "                                   'mstar', 'mstar_err',\n",
    "                                   'redshift',\n",
    "                                   'half_light_radius'])\n",
    "\n",
    "COSMOS_training_catalog.add_columns(colors.columns,\n",
    "                                      indexes = [3] * len(colors.colnames))\n",
    "\n",
    "COSMOS_training_catalog.add_columns(dereddened_colors.columns,\n",
    "                                      indexes = [3] * len(dereddened_colors.colnames))\n",
    "\n",
    "COSMOS_training_catalog.add_columns(magnitudes.columns,\n",
    "                                      indexes = [3] * len(magnitudes.colnames))\n",
    "\n",
    "COSMOS_training_catalog.add_columns(aper_magnitudes.columns,\n",
    "                                      indexes = [3] * len(aper_magnitudes.colnames))\n",
    "\n",
    "COSMOS_training_catalog = COSMOS_training_catalog[total_mask]"
   ]
  },
  {
   "cell_type": "code",
   "execution_count": 28,
   "metadata": {},
   "outputs": [],
   "source": [
    "COSMOS_training_catalog.write('/data2/lsajkov/mpdg/data_products/COSMOS/COSMOS_SOM_panchromatic_catalog_06Aug24.fits',\n",
    "                                overwrite = True)"
   ]
  }
 ],
 "metadata": {
  "kernelspec": {
   "display_name": "Python 3",
   "language": "python",
   "name": "python3"
  },
  "language_info": {
   "codemirror_mode": {
    "name": "ipython",
    "version": 3
   },
   "file_extension": ".py",
   "mimetype": "text/x-python",
   "name": "python",
   "nbconvert_exporter": "python",
   "pygments_lexer": "ipython3",
   "version": "3.12.3"
  },
  "vscode": {
   "interpreter": {
    "hash": "0403da0954771eeaa8d0c88cb9286d36e68be9a41b0796aa6510970447a9efaa"
   }
  }
 },
 "nbformat": 4,
 "nbformat_minor": 2
}
