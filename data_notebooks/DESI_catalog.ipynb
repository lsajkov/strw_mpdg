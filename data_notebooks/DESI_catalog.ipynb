{
 "cells": [
  {
   "cell_type": "code",
   "execution_count": 6,
   "metadata": {},
   "outputs": [],
   "source": [
    "import numpy as np\n",
    "import matplotlib.pyplot as plt\n",
    "\n",
    "from astropy.io import fits\n",
    "from astropy.table import Table\n",
    "import astropy.units as u"
   ]
  },
  {
   "cell_type": "code",
   "execution_count": 3,
   "metadata": {},
   "outputs": [],
   "source": [
    "with fits.open('/data2/lsajkov/mpdg/data/DESI/edr_galaxy_stellarmass_lineinfo_v1.0.fits') as edr_cat:\n",
    "    edr_cat = Table(edr_cat[1].data)"
   ]
  },
  {
   "cell_type": "code",
   "execution_count": null,
   "metadata": {},
   "outputs": [],
   "source": []
  },
  {
   "cell_type": "code",
   "execution_count": 10,
   "metadata": {},
   "outputs": [
    {
     "name": "stderr",
     "output_type": "stream",
     "text": [
      "/var/tmp/lsajkov/ipykernel_3405058/2020583550.py:1: RuntimeWarning: divide by zero encountered in log10\n",
      "  r_mag = 22.5 - 2.5 * np.log10(edr_cat['FLUX_R'])\n",
      "/var/tmp/lsajkov/ipykernel_3405058/2020583550.py:1: RuntimeWarning: invalid value encountered in log10\n",
      "  r_mag = 22.5 - 2.5 * np.log10(edr_cat['FLUX_R'])\n",
      "/var/tmp/lsajkov/ipykernel_3405058/2020583550.py:2: RuntimeWarning: divide by zero encountered in log10\n",
      "  r_mag_invar = 22.5 - 2.5 * np.log10(edr_cat['FLUX_IVAR_R'])\n",
      "/var/tmp/lsajkov/ipykernel_3405058/2020583550.py:2: RuntimeWarning: invalid value encountered in log10\n",
      "  r_mag_invar = 22.5 - 2.5 * np.log10(edr_cat['FLUX_IVAR_R'])\n",
      "/var/tmp/lsajkov/ipykernel_3405058/2020583550.py:5: RuntimeWarning: divide by zero encountered in log10\n",
      "  g_mag = 22.5 - 2.5 * np.log10(edr_cat['FLUX_G'])\n",
      "/var/tmp/lsajkov/ipykernel_3405058/2020583550.py:5: RuntimeWarning: invalid value encountered in log10\n",
      "  g_mag = 22.5 - 2.5 * np.log10(edr_cat['FLUX_G'])\n",
      "/var/tmp/lsajkov/ipykernel_3405058/2020583550.py:6: RuntimeWarning: divide by zero encountered in log10\n",
      "  g_mag_invar = 22.5 - 2.5 * np.log10(edr_cat['FLUX_IVAR_G'])\n",
      "/var/tmp/lsajkov/ipykernel_3405058/2020583550.py:6: RuntimeWarning: invalid value encountered in log10\n",
      "  g_mag_invar = 22.5 - 2.5 * np.log10(edr_cat['FLUX_IVAR_G'])\n",
      "/var/tmp/lsajkov/ipykernel_3405058/2020583550.py:8: RuntimeWarning: divide by zero encountered in log10\n",
      "  z_mag = 22.5 - 2.5 * np.log10(edr_cat['FLUX_Z'])\n",
      "/var/tmp/lsajkov/ipykernel_3405058/2020583550.py:8: RuntimeWarning: invalid value encountered in log10\n",
      "  z_mag = 22.5 - 2.5 * np.log10(edr_cat['FLUX_Z'])\n",
      "/var/tmp/lsajkov/ipykernel_3405058/2020583550.py:9: RuntimeWarning: divide by zero encountered in log10\n",
      "  z_mag_invar = 22.5 - 2.5 * np.log10(edr_cat['FLUX_IVAR_Z'])\n",
      "/var/tmp/lsajkov/ipykernel_3405058/2020583550.py:9: RuntimeWarning: invalid value encountered in log10\n",
      "  z_mag_invar = 22.5 - 2.5 * np.log10(edr_cat['FLUX_IVAR_Z'])\n"
     ]
    }
   ],
   "source": [
    "r_mag = 22.5 - 2.5 * np.log10(edr_cat['FLUX_R'])\n",
    "r_mag_invar = 22.5 - 2.5 * np.log10(edr_cat['FLUX_IVAR_R'])\n",
    "\n",
    "g_mag = 22.5 - 2.5 * np.log10(edr_cat['FLUX_G'])\n",
    "g_mag_invar = 22.5 - 2.5 * np.log10(edr_cat['FLUX_IVAR_G'])\n",
    "\n",
    "z_mag = 22.5 - 2.5 * np.log10(edr_cat['FLUX_Z'])\n",
    "z_mag_invar = 22.5 - 2.5 * np.log10(edr_cat['FLUX_IVAR_Z'])"
   ]
  },
  {
   "cell_type": "code",
   "execution_count": 17,
   "metadata": {},
   "outputs": [
    {
     "ename": "KeyError",
     "evalue": "'SPECTYPE'",
     "output_type": "error",
     "traceback": [
      "\u001b[0;31m---------------------------------------------------------------------------\u001b[0m",
      "\u001b[0;31mKeyError\u001b[0m                                  Traceback (most recent call last)",
      "Cell \u001b[0;32mIn[17], line 1\u001b[0m\n\u001b[0;32m----> 1\u001b[0m edr_cat[\u001b[38;5;124m'\u001b[39m\u001b[38;5;124mSPECTYPE\u001b[39m\u001b[38;5;124m'\u001b[39m]\n",
      "File \u001b[0;32m/data2/lsajkov/mpdg/conda/envs/mpdg/lib/python3.12/site-packages/astropy/table/table.py:2090\u001b[0m, in \u001b[0;36mTable.__getitem__\u001b[0;34m(self, item)\u001b[0m\n\u001b[1;32m   2088\u001b[0m \u001b[38;5;28;01mdef\u001b[39;00m \u001b[38;5;21m__getitem__\u001b[39m(\u001b[38;5;28mself\u001b[39m, item):\n\u001b[1;32m   2089\u001b[0m     \u001b[38;5;28;01mif\u001b[39;00m \u001b[38;5;28misinstance\u001b[39m(item, \u001b[38;5;28mstr\u001b[39m):\n\u001b[0;32m-> 2090\u001b[0m         \u001b[38;5;28;01mreturn\u001b[39;00m \u001b[38;5;28mself\u001b[39m\u001b[38;5;241m.\u001b[39mcolumns[item]\n\u001b[1;32m   2091\u001b[0m     \u001b[38;5;28;01melif\u001b[39;00m \u001b[38;5;28misinstance\u001b[39m(item, (\u001b[38;5;28mint\u001b[39m, np\u001b[38;5;241m.\u001b[39minteger)):\n\u001b[1;32m   2092\u001b[0m         \u001b[38;5;28;01mreturn\u001b[39;00m \u001b[38;5;28mself\u001b[39m\u001b[38;5;241m.\u001b[39mRow(\u001b[38;5;28mself\u001b[39m, item)\n",
      "File \u001b[0;32m/data2/lsajkov/mpdg/conda/envs/mpdg/lib/python3.12/site-packages/astropy/table/table.py:267\u001b[0m, in \u001b[0;36mTableColumns.__getitem__\u001b[0;34m(self, item)\u001b[0m\n\u001b[1;32m    256\u001b[0m \u001b[38;5;250m\u001b[39m\u001b[38;5;124;03m\"\"\"Get items from a TableColumns object.\u001b[39;00m\n\u001b[1;32m    257\u001b[0m \n\u001b[1;32m    258\u001b[0m \u001b[38;5;124;03m::\u001b[39;00m\n\u001b[0;32m   (...)\u001b[0m\n\u001b[1;32m    264\u001b[0m \u001b[38;5;124;03m  tc[1:3] # <TableColumns names=('b', 'c')>\u001b[39;00m\n\u001b[1;32m    265\u001b[0m \u001b[38;5;124;03m\"\"\"\u001b[39;00m\n\u001b[1;32m    266\u001b[0m \u001b[38;5;28;01mif\u001b[39;00m \u001b[38;5;28misinstance\u001b[39m(item, \u001b[38;5;28mstr\u001b[39m):\n\u001b[0;32m--> 267\u001b[0m     \u001b[38;5;28;01mreturn\u001b[39;00m OrderedDict\u001b[38;5;241m.\u001b[39m\u001b[38;5;21m__getitem__\u001b[39m(\u001b[38;5;28mself\u001b[39m, item)\n\u001b[1;32m    268\u001b[0m \u001b[38;5;28;01melif\u001b[39;00m \u001b[38;5;28misinstance\u001b[39m(item, (\u001b[38;5;28mint\u001b[39m, np\u001b[38;5;241m.\u001b[39minteger)):\n\u001b[1;32m    269\u001b[0m     \u001b[38;5;28;01mreturn\u001b[39;00m \u001b[38;5;28mlist\u001b[39m(\u001b[38;5;28mself\u001b[39m\u001b[38;5;241m.\u001b[39mvalues())[item]\n",
      "\u001b[0;31mKeyError\u001b[0m: 'SPECTYPE'"
     ]
    }
   ],
   "source": [
    "edr_cat['SPECTYPE']"
   ]
  },
  {
   "cell_type": "code",
   "execution_count": 16,
   "metadata": {},
   "outputs": [
    {
     "data": {
      "text/plain": [
       "Text(0.5, 0, '$r$-mag')"
      ]
     },
     "execution_count": 16,
     "metadata": {},
     "output_type": "execute_result"
    },
    {
     "data": {
      "image/png": "[encoded data removed]",
      "text/plain": [
       "<Figure size 640x480 with 1 Axes>"
      ]
     },
     "metadata": {},
     "output_type": "display_data"
    }
   ],
   "source": [
    "plt.hist(r_mag[r_mag < 30], bins = 'auto')\n",
    "plt.xlabel('$r$-mag')"
   ]
  },
  {
   "cell_type": "code",
   "execution_count": null,
   "metadata": {},
   "outputs": [],
   "source": []
  },
  {
   "cell_type": "code",
   "execution_count": null,
   "metadata": {},
   "outputs": [],
   "source": [
    "edr_cat['FLUX_G']"
   ]
  }
 ],
 "metadata": {
  "kernelspec": {
   "display_name": "mpdg",
   "language": "python",
   "name": "python3"
  },
  "language_info": {
   "codemirror_mode": {
    "name": "ipython",
    "version": 3
   },
   "file_extension": ".py",
   "mimetype": "text/x-python",
   "name": "python",
   "nbconvert_exporter": "python",
   "pygments_lexer": "ipython3",
   "version": "3.12.3"
  }
 },
 "nbformat": 4,
 "nbformat_minor": 2
}
