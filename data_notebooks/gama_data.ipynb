{
 "cells": [
  {
   "cell_type": "code",
   "execution_count": 1,
   "metadata": {},
   "outputs": [],
   "source": [
    "import os\n",
    "import numpy as np\n",
    "\n",
    "import matplotlib as mpl\n",
    "import matplotlib.pyplot as plt\n",
    "\n",
    "from astropy.io import fits\n",
    "from astropy.table import Table, join, hstack\n",
    "import astropy.units as u\n",
    "\n",
    "import scipy.stats as stats\n",
    "\n",
    "plt.rcParams.update({\n",
    "    'font.family': 'serif',\n",
    "    'font.size': 24,\n",
    "    'axes.labelsize': 'large',\n",
    "    'mathtext.fontset': 'stix'\n",
    "})\n",
    "\n",
    "def errJy_to_errABmag(flux_Jy, fluxerr_Jy):\n",
    "    return -2.5 / (flux_Jy * np.log(10)) * fluxerr_Jy"
   ]
  },
  {
   "cell_type": "markdown",
   "metadata": {},
   "source": [
    "## GAMA catalog details"
   ]
  },
  {
   "cell_type": "code",
   "execution_count": null,
   "metadata": {},
   "outputs": [],
   "source": [
    "#download GAMA from the database\n",
    "with fits.open('http://www.gama-survey.org/dr4/data/cat/gkvInputCat/v02/gkvInputCatv02.fits') as cat:\n",
    "    gkvInputCat = Table(cat[1].data)\n",
    "\n",
    "with fits.open('http://www.gama-survey.org/dr4/data/cat/StellarMasses/v24/StellarMassesGKVv24.fits') as cat:\n",
    "    StellarMassesGKV = Table(cat[1].data)\n",
    "\n",
    "GAMA_mstar_concat = join(gkvInputCat, StellarMassesGKV)"
   ]
  },
  {
   "cell_type": "code",
   "execution_count": null,
   "metadata": {},
   "outputs": [],
   "source": [
    "#OR, if the joined catalog exists, import GAMA:\n",
    "with fits.open('/data2/lsajkov/mpdg/data/GAMA/GAMA_mstars_concat.fits') as hdu:\n",
    "    GAMA_mstar_concat = Table(hdu[1].data)"
   ]
  },
  {
   "cell_type": "markdown",
   "metadata": {},
   "source": [
    "Redshifts"
   ]
  },
  {
   "cell_type": "code",
   "execution_count": null,
   "metadata": {},
   "outputs": [],
   "source": [
    "#redshift distribution\n",
    "redshifts = GAMA_mstar_concat[~np.isnan(GAMA_mstar_concat['Z']) &\\\n",
    "                                       (GAMA_mstar_concat['Z'] >= 0)]['Z']\n",
    "\n",
    "print('= GAMA redshifts =')\n",
    "print('counting non-nan ')\n",
    "print('and >= 0 only')\n",
    "print(f'total:\\t{len(redshifts)}')\n",
    "print(f'min:\\t{np.min(redshifts):.3f}')\n",
    "print(f'max:\\t{np.max(redshifts):.3f}')\n",
    "print(f'mean:\\t{np.mean(redshifts):.3f}')\n",
    "print(f'median:\\t{np.median(redshifts):.3f}')\n",
    "print(f'std:\\t{np.std(redshifts):.3f}')\n",
    "print('==================')"
   ]
  },
  {
   "cell_type": "code",
   "execution_count": null,
   "metadata": {},
   "outputs": [],
   "source": [
    "fig = plt.figure(figsize = (10, 8))\n",
    "ax  = fig.add_subplot()\n",
    "\n",
    "GAMA_redshift_subset = redshifts[(redshifts >= 0.) &\\\n",
    "                       (redshifts < 2)]\n",
    "\n",
    "ax.hist(GAMA_redshift_subset,\n",
    "        bins = 75, histtype = 'step',\n",
    "        linewidth = 3, color = 'black', density = True)\n",
    "\n",
    "ax.set_xlabel('Redshift')\n",
    "ax.text(0.45, 0.75,\n",
    "        f'Limited to $0 < z < 2$\\n\\nIn this sample:\\n{len(GAMA_redshift_subset)}/{len(GAMA_redshifts)} (~{int(100 * len(GAMA_redshift_subset)/len(GAMA_redshifts))} %)',\n",
    "        transform = ax.transAxes,\n",
    "        ma = 'right')\n",
    "\n",
    "ax.axvspan(0.025, 0.5, color = 'lightgreen', alpha = 0.25)"
   ]
  },
  {
   "cell_type": "markdown",
   "metadata": {},
   "source": [
    "Magnitude distribution"
   ]
  },
  {
   "cell_type": "code",
   "execution_count": null,
   "metadata": {},
   "outputs": [],
   "source": [
    "g_snr = GAMA_mstar_concat['flux_gt']/GAMA_mstar_concat['flux_err_gt']\n",
    "g_mag = GAMA_mstar_concat['flux_gt'] * u.Jy\n",
    "g_mag = g_mag.to(u.ABmag).value\n",
    "\n",
    "r_snr = GAMA_mstar_concat['flux_rt']/GAMA_mstar_concat['flux_err_rt']\n",
    "r_mag = GAMA_mstar_concat['flux_rt'] * u.Jy\n",
    "r_mag = r_mag.to(u.ABmag).value"
   ]
  },
  {
   "cell_type": "code",
   "execution_count": null,
   "metadata": {},
   "outputs": [],
   "source": []
  },
  {
   "cell_type": "code",
   "execution_count": null,
   "metadata": {},
   "outputs": [],
   "source": [
    "fig = plt.figure(figsize = (12, 10))\n",
    "ax  = fig.add_subplot()\n",
    "\n",
    "snr_thresh = 100\n",
    "\n",
    "bins = ax.hist(g_mag[(g_mag > 0) & (g_snr > snr_thresh)],\n",
    "        bins = 'auto',\n",
    "        histtype = 'step', color = 'green',\n",
    "        linewidth = 3)\n",
    "ax.hist(r_mag[(r_mag > 0) & (r_snr > snr_thresh)],\n",
    "        bins = bins[1], \n",
    "        histtype = 'step', color = 'red',\n",
    "        linewidth = 3)\n",
    "\n",
    "ax.text(0.01, 0.9,\n",
    "        f'r- and g-band magnitudes in GAMA\\nApplied cuts: SNR > {snr_thresh} & mag > 0',\n",
    "        transform = ax.transAxes)\n",
    "\n",
    "ax.set_xlabel('Magnitude ($r$ or $g$)')"
   ]
  },
  {
   "cell_type": "markdown",
   "metadata": {},
   "source": [
    "R-band effective fwhm radius"
   ]
  },
  {
   "cell_type": "code",
   "execution_count": null,
   "metadata": {},
   "outputs": [],
   "source": [
    "#the approximate area defined by the fwhm is 76%\n",
    "#the area within R50 is 50%\n",
    "#therefore, to scale R50 up to Rfwhm, we must scale up by\n",
    "r50_to_fwhm_scale_factor = np.sqrt(0.76/0.50)"
   ]
  },
  {
   "cell_type": "code",
   "execution_count": null,
   "metadata": {},
   "outputs": [],
   "source": [
    "r50_to_fwhm_scale_factor"
   ]
  },
  {
   "cell_type": "code",
   "execution_count": null,
   "metadata": {},
   "outputs": [],
   "source": [
    "def gaussian(x, mean, std):\n",
    "    return 1 / (np.sqrt(2 * np.pi * std**2)) * np.exp(-(x - mean) ** 2/(2 * std ** 2))"
   ]
  },
  {
   "cell_type": "code",
   "execution_count": null,
   "metadata": {},
   "outputs": [],
   "source": [
    "std = 1\n",
    "\n",
    "xs, ys = np.meshgrid(np.linspace(-3, 3, 501),\n",
    "                    np.linspace(-3, 3, 501))\n",
    "gauss2d = gaussian(xs, 0, std) * gaussian(ys, 0, std)\n",
    "gauss2d /= np.sum(gauss2d)\n",
    "\n",
    "fwhm_idx  = np.abs(gauss2d - np.max(gauss2d)/2) < 1e-3\n",
    "fwhm_ring = np.where(fwhm_idx, True, np.nan)\n",
    "fwhm_radius_x = (np.max(xs[fwhm_idx]) - np.min(xs[fwhm_idx])) / 2\n",
    "fwhm_radius_y = (np.max(ys[fwhm_idx]) - np.min(ys[fwhm_idx])) / 2\n",
    "fwhm_area = np.where(gauss2d > np.max(gauss2d)/2,\n",
    "                    True, np.nan) \n",
    "\n",
    "thresh = np.max(gauss2d) * 0.95\n",
    "while np.sum(gauss2d[gauss2d > thresh]) < 0.5:\n",
    "    thresh -= 1e-7\n",
    "half_light_idx  = gauss2d > thresh\n",
    "half_light_radius_x = (np.max(xs[half_light_idx]) - np.min(xs[half_light_idx])) / 2\n",
    "half_light_radius_y = (np.max(ys[half_light_idx]) - np.min(ys[half_light_idx])) / 2\n",
    "half_light_ring = np.where(gauss2d > thresh, True, np.nan)"
   ]
  },
  {
   "cell_type": "code",
   "execution_count": null,
   "metadata": {},
   "outputs": [],
   "source": [
    "fig = plt.figure(figsize = (10, 10))\n",
    "ax  = fig.add_subplot()\n",
    "\n",
    "ax.imshow(gauss2d, origin = 'lower', cmap = 'Spectral')"
   ]
  },
  {
   "cell_type": "code",
   "execution_count": null,
   "metadata": {},
   "outputs": [],
   "source": [
    "fwhm_radius_x/r50_to_fwhm_scale_factor"
   ]
  },
  {
   "cell_type": "code",
   "execution_count": null,
   "metadata": {},
   "outputs": [],
   "source": [
    "half_light_radius_x"
   ]
  },
  {
   "cell_type": "code",
   "execution_count": null,
   "metadata": {},
   "outputs": [],
   "source": [
    "half_light_radii = []\n",
    "fwhm_radii = []\n",
    "\n",
    "for std in np.linspace(0.5, 1.5, 15):\n",
    "    xs, ys = np.meshgrid(np.linspace(-30, 30, 501),\n",
    "                        np.linspace(-30, 30, 501))\n",
    "    gauss2d = gaussian(xs, 0, std) * gaussian(ys, 0, std)\n",
    "    gauss2d /= np.sum(gauss2d)\n",
    "\n",
    "    fwhm_idx  = np.abs(gauss2d - np.max(gauss2d)/2) < 1e-3\n",
    "    # fwhm_ring = np.where(fwhm_idx, True, np.nan)\n",
    "    fwhm_radius_x = (np.max(xs[fwhm_idx]) - np.min(xs[fwhm_idx])) / 2\n",
    "    # fwhm_radius_y = (np.max(ys[fwhm_idx]) - np.min(ys[fwhm_idx])) / 2\n",
    "    # fwhm_area = np.where(gauss2d > np.max(gauss2d)/2,\n",
    "    #                     True, np.nan) \n",
    "\n",
    "    thresh = np.max(gauss2d) * 0.95\n",
    "    while np.sum(gauss2d[gauss2d > thresh]) < 0.5:\n",
    "        thresh -= 1e-7\n",
    "    half_light_idx  = gauss2d > thresh\n",
    "    half_light_radius_x = (np.max(xs[half_light_idx]) - np.min(xs[half_light_idx])) / 2\n",
    "    # half_light_radius_y = (np.max(ys[half_light_idx]) - np.min(ys[half_light_idx])) / 2\n",
    "    # half_light_ring = np.where(gauss2d > thresh, True, np.nan)\n",
    "\n",
    "    half_light_radii.append(half_lighthttp://desi.ibl.gov/_radius_x)\n",
    "    fwhm_radii.append(fwhm_radius_x)\n",
    "    \n",
    "    plt.plot(gauss2d[250])\n",
    "\n",
    "half_light_radii = np.array(half_light_radii)\n",
    "fwhm_radii = np.array(fwhm_radii)"
   ]
  },
  {
   "cell_type": "code",
   "execution_count": null,
   "metadata": {},
   "outputs": [],
   "source": [
    "fig = plt.figure(figsize = (10, 10))\n",
    "ax  = fig.add_subplot()\n",
    "\n",
    "ax.imshow(gauss2d, origin = 'lower', cmap = 'Spectral')\n",
    "\n",
    "# ax.imshow(fwhm_ring, origin = 'lower')\n",
    "\n",
    "# thresh = np.max(gauss2d) * 0.95\n",
    "# while np.sum(gauss2d[gauss2d > thresh]) < 0.5:\n",
    "#     thresh -= 1e-7\n",
    "# half_light_ring = np.where(gauss2d > thresh, True, np.nan)\n",
    "\n",
    "# ax.imshow(half_light_ring, cmap = 'viridis', alpha = 0.3)\n",
    "# ax.imshow(fwhm_area, cmap = 'viridis', alpha = 0.3)"
   ]
  },
  {
   "cell_type": "code",
   "execution_count": null,
   "metadata": {},
   "outputs": [],
   "source": [
    "plt.plot(np.linspace(-2, 2, 100),\n",
    "         gaussian(np.linspace(-2, 2, 100), 0, 0.5))"
   ]
  },
  {
   "cell_type": "markdown",
   "metadata": {},
   "source": []
  },
  {
   "cell_type": "markdown",
   "metadata": {},
   "source": [
    "## GAMA Science Cat + Stellar Masses"
   ]
  },
  {
   "cell_type": "code",
   "execution_count": null,
   "metadata": {},
   "outputs": [],
   "source": [
    "with fits.open('/data2/lsajkov/mpdg/data/GAMA/gkvScienceCatv02.fits') as cat:\n",
    "    ScienceCat = Table(cat[1].data)"
   ]
  },
  {
   "cell_type": "code",
   "execution_count": null,
   "metadata": {},
   "outputs": [],
   "source": [
    "#redshift distribution\n",
    "redshifts = ScienceCat[~np.isnan(ScienceCat['Z']) &\\\n",
    "                                (ScienceCat['Z'] >= 0)]['Z']\n",
    "\n",
    "print('= GAMA redshifts =')\n",
    "print('counting non-nan ')\n",
    "print('and >= 0 only')\n",
    "print(f'total:\\t{len(redshifts)}')\n",
    "print(f'min:\\t{np.min(redshifts):.3f}')\n",
    "print(f'max:\\t{np.max(redshifts):.3f}')\n",
    "print(f'mean:\\t{np.mean(redshifts):.3f}')\n",
    "print(f'median:\\t{np.median(redshifts):.3f}')\n",
    "print(f'std:\\t{np.std(redshifts):.3f}')\n",
    "print('==================')"
   ]
  },
  {
   "cell_type": "code",
   "execution_count": null,
   "metadata": {},
   "outputs": [],
   "source": [
    "fig = plt.figure(figsize = (10, 8))\n",
    "ax  = fig.add_subplot()\n",
    "\n",
    "redshift_idx = (redshifts >= 0.) & (redshifts < 1)\n",
    "redshift_subset = redshifts[redshift_idx]\n",
    "\n",
    "\n",
    "bins = ax.hist(redshift_subset,\n",
    "        bins = 75, histtype = 'step',\n",
    "        linewidth = 3, color = 'black', density = True)\n",
    "\n",
    "highlight_idx = (redshifts >= bins[1][1]) & (redshifts <= 0.4)\n",
    "\n",
    "ax.set_xlabel('Redshift')\n",
    "\n",
    "plot_text = 'Limited to $0 < z < 1$\\n\\n' +\\\n",
    "           f'In this sample:\\n{np.sum(redshift_idx)}/{len(redshift_idx)} (~{int(100 * np.sum(redshift_idx)/len(redshift_idx))} %)\\n\\n' +\\\n",
    "           f'In the highlighted area:\\n{np.sum(highlight_idx)}/{len(highlight_idx)} (~{int(100 * np.sum(highlight_idx)/len(highlight_idx))} %)'\n",
    "\n",
    "ax.text(0.45, 0.58,\n",
    "        plot_text,\n",
    "        transform = ax.transAxes,\n",
    "        ma = 'right')\n",
    "\n",
    "ax.axvspan(bins[1][1], 0.4, color = 'lightgreen', alpha = 0.25)\n",
    "\n",
    "ax.text(bins[1][1] + 5e-3, 0.035, f'{bins[1][1]:.3f}', fontsize = 10, rotation = 90)\n",
    "ax.text(0.4 - 15e-3, 0.035, 0.4, fontsize = 10, rotation = 90)"
   ]
  },
  {
   "cell_type": "code",
   "execution_count": null,
   "metadata": {},
   "outputs": [],
   "source": [
    "r_mag = (ScienceCat['flux_rt'] * u.Jansky).to(u.ABmag).value\n",
    "r_snr = ScienceCat['flux_rt']/ScienceCat['flux_err_rt']\n",
    "\n",
    "g_mag = (ScienceCat['flux_gt'] * u.Jansky).to(u.ABmag).value\n",
    "g_snr = ScienceCat['flux_gt']/ScienceCat['flux_err_gt']\n",
    "\n",
    "u_mag = (ScienceCat['flux_ut'] * u.Jansky).to(u.ABmag).value\n",
    "u_snr = ScienceCat['flux_ut']/ScienceCat['flux_err_ut']"
   ]
  },
  {
   "cell_type": "code",
   "execution_count": null,
   "metadata": {},
   "outputs": [],
   "source": [
    "fig = plt.figure(figsize = (12, 10))\n",
    "ax = fig.add_subplot()\n",
    "\n",
    "cutoff = 400\n",
    "\n",
    "bins = ax.hist(r_snr[r_snr < cutoff], bins = 'auto',\n",
    "               histtype = 'step', color = 'red',\n",
    "               linewidth = 3)[1]\n",
    "\n",
    "ax.hist(g_snr[g_snr < cutoff],\n",
    "        bins = bins,\n",
    "        histtype = 'step', color = 'green', linewidth = 3)\n",
    "\n",
    "ax.hist(u_snr[u_snr < cutoff],\n",
    "        bins = bins,\n",
    "        histtype = 'step', color = 'violet', linewidth = 3)\n",
    "\n",
    "ax.set_xlabel('SNR\\n(flux_xt/flux_err_xt)')\n",
    "ax.set_ylabel('Count')\n",
    "\n",
    "ax.axvline(5, color = 'black')"
   ]
  },
  {
   "cell_type": "code",
   "execution_count": null,
   "metadata": {},
   "outputs": [],
   "source": [
    "fig = plt.figure(figsize = (12, 10))\n",
    "ax = fig.add_subplot()\n",
    "\n",
    "snr_thresh = 5\n",
    "snr_mask = (u_snr > snr_thresh) &\\\n",
    "           (g_snr > snr_thresh) &\\\n",
    "           (r_snr > snr_thresh)\n",
    "\n",
    "bins = ax.hist(r_mag[snr_mask],\n",
    "               bins = 'auto', histtype = 'step',\n",
    "               color = 'red', linewidth = 3)[1]\n",
    "\n",
    "ax.hist(g_mag[snr_mask],\n",
    "        bins = bins, histtype = 'step',\n",
    "        color = 'green', linewidth = 3)\n",
    "\n",
    "ax.hist(u_mag[snr_mask],\n",
    "        bins = bins, histtype = 'step',\n",
    "        color = 'violet', linewidth = 3)\n",
    "\n",
    "ax.set_xlabel('Magnitude')\n",
    "ax.set_ylabel('Count')\n",
    "\n",
    "ax.set_xticks(np.arange(6.5, 21.5, 2))"
   ]
  },
  {
   "cell_type": "code",
   "execution_count": null,
   "metadata": {},
   "outputs": [],
   "source": [
    "redshift_mask = (ScienceCat['Z'] >= 0.) & (ScienceCat['Z'] < 1)\n",
    "\n",
    "snr_thresh = 5\n",
    "snr_mask = (u_snr > snr_thresh) &\\\n",
    "           (g_snr > snr_thresh) &\\\n",
    "           (r_snr > snr_thresh)\n",
    "\n",
    "total_mask = redshift_mask & snr_mask"
   ]
  },
  {
   "cell_type": "markdown",
   "metadata": {},
   "source": [
    "## SOM-ready color catalog"
   ]
  },
  {
   "cell_type": "code",
   "execution_count": 4,
   "metadata": {},
   "outputs": [],
   "source": [
    "with fits.open('/data2/lsajkov/mpdg/data/GAMA/gkvScienceCatv02.fits') as cat:\n",
    "    ScienceCat = Table(cat[1].data)\n",
    "\n",
    "with fits.open('/data2/lsajkov/mpdg/data/GAMA/StellarMassesGKVv24.fits') as cat:\n",
    "    StellarMassesGKV = Table(cat[1].data)\n",
    "    \n",
    "joined_ScienceCat_StellarMassesGKV = join(ScienceCat, StellarMassesGKV)"
   ]
  },
  {
   "cell_type": "code",
   "execution_count": 5,
   "metadata": {},
   "outputs": [
    {
     "name": "stderr",
     "output_type": "stream",
     "text": [
      "/var/tmp/lsajkov/ipykernel_2013023/3914676824.py:15: RuntimeWarning: divide by zero encountered in divide\n",
      "  g_snr = cat['flux_gt']/cat['flux_err_gt']\n",
      "/var/tmp/lsajkov/ipykernel_2013023/3914676824.py:19: RuntimeWarning: divide by zero encountered in divide\n",
      "  u_snr = cat['flux_ut']/cat['flux_err_ut']\n",
      "/var/tmp/lsajkov/ipykernel_2013023/3914676824.py:23: RuntimeWarning: divide by zero encountered in divide\n",
      "  i_snr = cat['flux_it']/cat['flux_err_it']\n"
     ]
    }
   ],
   "source": [
    "#construct SOM catalog columns\n",
    "cat = joined_ScienceCat_StellarMassesGKV\n",
    "\n",
    "def errJy_to_errABmag(flux_Jy, fluxerr_Jy):\n",
    "    return -2.5 / (flux_Jy * np.log(10)) * fluxerr_Jy\n",
    "\n",
    "uberID = cat['uberID']\n",
    "\n",
    "r_mag = (cat['flux_rt'] * u.Jansky).to(u.ABmag).value\n",
    "r_mag_err = errJy_to_errABmag(cat['flux_rt'], cat['flux_err_rt'])\n",
    "r_snr = cat['flux_rt']/cat['flux_err_rt']\n",
    "\n",
    "g_mag = (cat['flux_gt'] * u.Jansky).to(u.ABmag).value\n",
    "g_mag_err = errJy_to_errABmag(cat['flux_gt'], cat['flux_err_gt'])\n",
    "g_snr = cat['flux_gt']/cat['flux_err_gt']\n",
    "\n",
    "u_mag = (cat['flux_ut'] * u.Jansky).to(u.ABmag).value\n",
    "u_mag_err = errJy_to_errABmag(cat['flux_ut'], cat['flux_err_ut'])\n",
    "u_snr = cat['flux_ut']/cat['flux_err_ut']\n",
    "\n",
    "i_mag = (cat['flux_it'] * u.Jansky).to(u.ABmag).value\n",
    "i_mag_err = errJy_to_errABmag(cat['flux_it'], cat['flux_err_it'])\n",
    "i_snr = cat['flux_it']/cat['flux_err_it']\n",
    "\n",
    "Z_mag = (cat['flux_Zt'] * u.Jansky).to(u.ABmag).value\n",
    "Z_mag_err = errJy_to_errABmag(cat['flux_Zt'], cat['flux_err_Zt'])\n",
    "Z_snr = cat['flux_Zt']/cat['flux_err_Zt']\n",
    "\n",
    "ug_color     = u_mag - g_mag\n",
    "ug_color_err = np.sqrt(u_mag_err ** 2 + g_mag_err ** 2)\n",
    "\n",
    "gr_color     = g_mag - r_mag\n",
    "gr_color_err = np.sqrt(g_mag_err ** 2 + r_mag_err ** 2)\n",
    "\n",
    "ri_color     = r_mag - i_mag\n",
    "ri_color_err = np.sqrt(r_mag_err ** 2 + i_mag_err ** 2)\n",
    "\n",
    "iZ_color     = i_mag - Z_mag\n",
    "iZ_color_err = np.sqrt(i_mag_err ** 2 + Z_mag_err ** 2)\n",
    "\n",
    "mstar     = cat['mstar']\n",
    "mstar_err = cat['delmstar']\n",
    "\n",
    "R50 = cat['R50']\n",
    "\n",
    "redshift = cat['Z']\n",
    "ppp      = cat['ppp']"
   ]
  },
  {
   "cell_type": "code",
   "execution_count": 13,
   "metadata": {},
   "outputs": [
    {
     "name": "stderr",
     "output_type": "stream",
     "text": [
      "/var/tmp/lsajkov/ipykernel_2013023/1941943.py:23: RuntimeWarning: invalid value encountered in log10\n",
      "  log_mstar_cut = (np.log10(mstar) > log_mstar_lo) & (np.log10(mstar) < log_mstar_hi)\n"
     ]
    }
   ],
   "source": [
    "#quality cuts\n",
    "ppp_cut = (ppp - np.mean(ppp[ppp > 0.05]))/np.std(ppp[ppp > 0.05]) < 2\n",
    "\n",
    "snr_thresh = 5\n",
    "snr_cut = (r_snr >= snr_thresh) &\\\n",
    "          (g_snr >= snr_thresh) &\\\n",
    "          (u_snr >= snr_thresh) &\\\n",
    "          (i_snr >= snr_thresh) &\\\n",
    "          (Z_snr >= snr_thresh)\n",
    "\n",
    "redshift_cut = (redshift >= 0) & (redshift < 1)\n",
    "\n",
    "\n",
    "color_lo = -1\n",
    "color_hi = 2\n",
    "color_cut = (ug_color > color_lo) & (ug_color < color_hi) &\\\n",
    "            (gr_color > color_lo) & (gr_color < color_hi) &\\\n",
    "            (ri_color > color_lo) & (ri_color < color_hi) &\\\n",
    "            (iZ_color > color_lo) & (iZ_color < color_hi)\n",
    "\n",
    "log_mstar_lo = 6\n",
    "log_mstar_hi = 12\n",
    "log_mstar_cut = (np.log10(mstar) > log_mstar_lo) & (np.log10(mstar) < log_mstar_hi)\n",
    "\n",
    "R50_cut = R50 < 10"
   ]
  },
  {
   "cell_type": "code",
   "execution_count": 14,
   "metadata": {},
   "outputs": [],
   "source": [
    "#define primary targeting region\n",
    "def gr_color_condition(gr_color, gr_color_err,\n",
    "               r_mag):\n",
    "    \n",
    "    return (gr_color - gr_color_err + 0.06 * (r_mag - 14)) < 0.9\n",
    "\n",
    "\n",
    "def surf_bright_condition(surf_bright_r, surf_bright_r_err,\n",
    "                                 r_mag):\n",
    "    \n",
    "    return (surf_bright_r + surf_bright_r_err\\\n",
    "            - 0.7 * (r_mag - 14)) > 18.5"
   ]
  },
  {
   "cell_type": "code",
   "execution_count": 15,
   "metadata": {},
   "outputs": [],
   "source": [
    "prt_gr_color_cut = gr_color_condition(gr_color,\n",
    "                                      gr_color_err,\n",
    "                                      r_mag)\n",
    "\n",
    "prt_mag_cut = r_mag > 18"
   ]
  },
  {
   "cell_type": "code",
   "execution_count": 16,
   "metadata": {},
   "outputs": [],
   "source": [
    "total_cut = snr_cut &\\\n",
    "            ppp_cut &\\\n",
    "            redshift_cut &\\\n",
    "            color_cut &\\\n",
    "            log_mstar_cut &\\\n",
    "            R50_cut &\\\n",
    "            prt_gr_color_cut &\\\n",
    "            prt_mag_cut"
   ]
  },
  {
   "cell_type": "code",
   "execution_count": 17,
   "metadata": {},
   "outputs": [
    {
     "name": "stdout",
     "output_type": "stream",
     "text": [
      "Grand total of cuts:\n",
      "48737/361748 (~13%)\n"
     ]
    }
   ],
   "source": [
    "print('Grand total of cuts:')\n",
    "print(f'{np.sum(total_cut)}/{len(total_cut)} (~{int(100 * np.sum(total_cut)/len(total_cut))}%)')"
   ]
  },
  {
   "cell_type": "code",
   "execution_count": 19,
   "metadata": {},
   "outputs": [],
   "source": [
    "GAMA_SOM_training_catalog = Table([uberID[total_cut],\n",
    "                                    r_mag[total_cut],    r_mag_err[total_cut],\n",
    "                                    g_mag[total_cut],    g_mag_err[total_cut],\n",
    "                                    u_mag[total_cut],    u_mag_err[total_cut],\n",
    "                                    i_mag[total_cut],    i_mag_err[total_cut],\n",
    "                                    Z_mag[total_cut],    Z_mag_err[total_cut],\n",
    "                                    ug_color[total_cut], ug_color_err[total_cut],\n",
    "                                    gr_color[total_cut], gr_color_err[total_cut],\n",
    "                                    ri_color[total_cut], ri_color_err[total_cut],\n",
    "                                    iZ_color[total_cut], iZ_color_err[total_cut],                                    \n",
    "                                    mstar[total_cut],    mstar_err[total_cut],\n",
    "                                    redshift[total_cut], ppp[total_cut],\n",
    "                                    R50[total_cut]],\n",
    "                           names = ['ID',\n",
    "                                    'r_mag',    'r_mag_err',\n",
    "                                    'g_mag',    'g_mag_err',\n",
    "                                    'u_mag',    'u_mag_err',\n",
    "                                    'i_mag',    'i_mag_err',\n",
    "                                    'z_mag',    'z_mag_err',                                    \n",
    "                                    'ug_col',   'ug_col_err', \n",
    "                                    'gr_col',   'gr_col_err',\n",
    "                                    'ri_col',   'ri_col_err',\n",
    "                                    'iz_col',   'iz_col_err',\n",
    "                                    'mstar',    'mstar_err',\n",
    "                                    'redshift', 'ppp',\n",
    "                                    'half_light_radius'])"
   ]
  },
  {
   "cell_type": "code",
   "execution_count": 20,
   "metadata": {},
   "outputs": [],
   "source": [
    "GAMA_SOM_training_catalog.write('/data2/lsajkov/mpdg/data_products/GAMA/GAMA_SOM_training_catalog_15Jul24.fits',\n",
    "                                overwrite = True)"
   ]
  },
  {
   "cell_type": "code",
   "execution_count": 23,
   "metadata": {},
   "outputs": [
    {
     "data": {
      "text/plain": [
       "(array([  4.,   4.,   0.,   1.,   1.,   3.,   2.,   2.,   2.,   5.,   3.,\n",
       "          3.,   3.,   4.,  11.,   4.,   6.,   7.,   5.,   7.,   7.,   6.,\n",
       "          9.,   9.,  20.,  12.,  17.,  18.,  23.,  30.,  15.,  24.,  30.,\n",
       "         38.,  32.,  38.,  64.,  85.,  77.,  79., 105., 108., 117., 158.,\n",
       "        155., 180., 223., 218., 240., 279., 270., 310., 368., 382., 398.,\n",
       "        507., 477., 538., 593., 653., 718., 688., 719., 694., 712., 669.,\n",
       "        633., 626., 495., 456., 418., 396., 307., 270., 201., 169., 128.,\n",
       "         79.,  58.,  30.,  18.,   6.]),\n",
       " array([ 6.007164  ,  6.05669928,  6.10623407,  6.15576935,  6.20530462,\n",
       "         6.2548399 ,  6.30437469,  6.35390997,  6.40344524,  6.45298052,\n",
       "         6.50251532,  6.55205059,  6.60158587,  6.65112114,  6.70065594,\n",
       "         6.75019121,  6.79972649,  6.84926128,  6.89879656,  6.94833183,\n",
       "         6.99786711,  7.04740191,  7.09693718,  7.14647245,  7.19600773,\n",
       "         7.24554253,  7.2950778 ,  7.34461308,  7.39414787,  7.44368315,\n",
       "         7.49321842,  7.5427537 ,  7.59228849,  7.64182377,  7.69135904,\n",
       "         7.74089432,  7.79042912,  7.83996439,  7.88949966,  7.93903494,\n",
       "         7.98856974,  8.03810501,  8.08763981,  8.13717556,  8.18671036,\n",
       "         8.23624516,  8.28578091,  8.3353157 ,  8.38485146,  8.43438625,\n",
       "         8.48392105,  8.5334568 ,  8.5829916 ,  8.6325264 ,  8.68206215,\n",
       "         8.73159695,  8.78113174,  8.8306675 ,  8.88020229,  8.92973804,\n",
       "         8.97927284,  9.02880764,  9.07834339,  9.12787819,  9.17741299,\n",
       "         9.22694874,  9.27648354,  9.32601929,  9.37555408,  9.42508888,\n",
       "         9.47462463,  9.52415943,  9.57369423,  9.62322998,  9.67276478,\n",
       "         9.72229958,  9.77183533,  9.82137012,  9.87090588,  9.92044067,\n",
       "         9.96997547, 10.01951122, 10.06904602]),\n",
       " <BarContainer object of 82 artists>)"
      ]
     },
     "execution_count": 23,
     "metadata": {},
     "output_type": "execute_result"
    },
    {
     "data": {
      "image/png": "[encoded data removed]",
      "text/plain": [
       "<Figure size 640x480 with 1 Axes>"
      ]
     },
     "metadata": {},
     "output_type": "display_data"
    }
   ],
   "source": [
    "plt.hist(np.log10(mstar[total_cut & (redshift < 0.1)]),\n",
    "         bins = 'auto')"
   ]
  },
  {
   "cell_type": "markdown",
   "metadata": {},
   "source": [
    "### Log of training catalog parameters:\n",
    "\n",
    "**July 4, 2024**:<br>\n",
    "$\\mathrm{SNR} > 5$,<br>\n",
    "$0<z<1$,<br>\n",
    "$-3<color<3$,<br>\n",
    "$6<\\log(M_*)<12$,<br>\n",
    "$R_{50}<10$<br>\n",
    "\\+ Everything is within the primary targeting region as defined **only** in Thornton+23 condition (1)\n",
    "\n",
    "**July 5, 2024**:<br>\n",
    "$\\mathrm{SNR} > 5$,<br>\n",
    "$0<z<1$,<br>\n",
    "$-3<color<3$,<br>\n",
    "$6<\\log(M_*)<12$,<br>\n",
    "$R_{50}<10$<br>\n",
    "\\+ Everything is within the primary targeting region as defined **only** in Thornton+23 condition (1)\n",
    "\n",
    "**July 8, 2024**:<br>\n",
    "*Using observed magnitudes, rather than restframe* <br>\n",
    "$\\mathrm{SNR} > 5$,<br>\n",
    "$0<z<1$,<br>\n",
    "$-3<color<3$,<br>\n",
    "$6<\\log(M_*)<12$,<br>\n",
    "$R_{50}<10$<br>\n",
    "\\+ Everything is within the primary targeting region as defined **only** in Thornton+23 condition (1)\n",
    "\n",
    "**July 12, 2024**:<br>\n",
    "*Using observed magnitudes, rather than restframe* <br>\n",
    "*Added $Z$-band data* <br>\n",
    "*reorganized colors* <br>\n",
    "$\\mathrm{SNR} > 5$,<br>\n",
    "$0<z<1$,<br>\n",
    "$-1<color<2$,<br>\n",
    "$6<\\log(M_*)<12$,<br>\n",
    "$R_{50}<10$<br>\n",
    "\\+ Everything is within the primary targeting region as defined **only** in Thornton+23 condition (1)\n",
    "\n",
    "**July 12, 2024**:<br>\n",
    "*Using observed magnitudes, rather than restframe* <br>\n",
    "*Added $Z$-band data* <br>\n",
    "*reorganized colors* <br>\n",
    "*added posterior predictive p-value (ppp) cut* <br>\n",
    "$\\mathrm{SNR} > 5$,<br>\n",
    "$0<z<1$,<br>\n",
    "$-1<color<2$,<br>\n",
    "$6<\\log(M_*)<12$,<br>\n",
    "$R_{50}<10$<br>\n",
    "$\\frac{ppp - \\mu(ppp)}{\\sigma(ppp)} < 2$ <br>\n",
    "\\+ Everything is within the primary targeting region as defined **only** in Thornton+23 condition (1)"
   ]
  },
  {
   "cell_type": "code",
   "execution_count": null,
   "metadata": {},
   "outputs": [],
   "source": [
    "fig = plt.figure(figsize = (12, 10))\n",
    "ax = fig.add_subplot()\n",
    "\n",
    "ax.hist(GAMA_SOM_training_catalog['redshift'], bins = 75,\n",
    "        histtype = 'step', color = 'black', linewidth = 3)\n",
    "\n",
    "ax.set_xlabel('Redshift')\n",
    "ax.set_ylabel('Count')\n",
    "\n",
    "fig.savefig('/data2/lsajkov/mpdg/figures/primary_targeting_region/GAMA_ptr_redshift_08jul2024.png',\n",
    "            bbox_inches = 'tight')"
   ]
  },
  {
   "cell_type": "code",
   "execution_count": null,
   "metadata": {},
   "outputs": [],
   "source": [
    "fig = plt.figure(figsize = (12, 10))\n",
    "ax = fig.add_subplot()\n",
    "\n",
    "ax.hist(GAMA_SOM_training_catalog['log_mstar'], bins = 75,\n",
    "        histtype = 'step', color = 'black', linewidth = 3)\n",
    "\n",
    "ax.set_xlabel('$\\log(M_*/M_{\\odot})$')\n",
    "ax.set_ylabel('Count')\n",
    "\n",
    "fig.savefig('/data2/lsajkov/mpdg/figures/primary_targeting_region/GAMA_ptr_logmstar_08jul2024.png',\n",
    "            bbox_inches = 'tight')"
   ]
  },
  {
   "cell_type": "code",
   "execution_count": null,
   "metadata": {},
   "outputs": [],
   "source": [
    "fig = plt.figure(figsize = (12, 10), constrained_layout = True)\n",
    "ax  = fig.add_subplot()\n",
    "\n",
    "plot_cut = snr_cut &\\\n",
    "           redshift_cut &\\\n",
    "           color_cut &\\\n",
    "           log_mstar_cut &\\\n",
    "           R50_cut &\\\n",
    "           prt_gr_color_cut\n",
    "\n",
    "hb  = ax.hexbin(r_mag[plot_cut],\n",
    "                gr_color[plot_cut],\n",
    "                log_mstar[plot_cut],\n",
    "                reduce_C_function = np.median,\n",
    "                cmap = 'inferno',\n",
    "                vmin = 6, vmax = 12)\n",
    "\n",
    "plot_text = 'GAMA dataset\\n(gkvScienceCatv02 +\\nStellarMassesGKVv24)\\n\\n' +\\\n",
    "            'Primary targeting region\\n' +\\\n",
    "           f'Accepted: {np.sum(total_cut)}/{len(total_cut)} (~{int(100 * np.sum(total_cut)/len(total_cut))}%)'\n",
    "\n",
    "ax.text(0.025, 0.025, plot_text, transform = ax.transAxes)\n",
    "\n",
    "ax.set_xlabel('$r$')\n",
    "ax.set_ylabel('$g_{\\mathrm{abs}}-r_{\\mathrm{abs}}$')\n",
    "\n",
    "ax.axvspan(18, 21, color = 'blue', alpha = 0.15, zorder = 0)\n",
    "\n",
    "ax.set_xlim(7.5, 20.8)\n",
    "\n",
    "fig.colorbar(mappable = hb, label = 'Median log$(M_*/M_{\\odot})$')\n",
    "\n",
    "fig.savefig('/data2/lsajkov/mpdg/figures/primary_targeting_region/GAMA_primary_targ_reg_gr_col_08jul2024.png',\n",
    "            dpi = 150, bbox_inches = 'tight')"
   ]
  },
  {
   "cell_type": "code",
   "execution_count": null,
   "metadata": {},
   "outputs": [],
   "source": []
  },
  {
   "cell_type": "markdown",
   "metadata": {},
   "source": [
    "## SOM-ready restframe catalog"
   ]
  },
  {
   "cell_type": "code",
   "execution_count": 2,
   "metadata": {},
   "outputs": [],
   "source": [
    "with fits.open('/data2/lsajkov/mpdg/data/GAMA/gkvScienceCatv02.fits') as cat:\n",
    "    ScienceCat = Table(cat[1].data)\n",
    "\n",
    "with fits.open('/data2/lsajkov/mpdg/data/GAMA/StellarMassesGKVv24.fits') as cat:\n",
    "    StellarMassesGKV = Table(cat[1].data)\n",
    "    \n",
    "joined_ScienceCat_StellarMassesGKV = join(ScienceCat, StellarMassesGKV)"
   ]
  },
  {
   "cell_type": "code",
   "execution_count": null,
   "metadata": {},
   "outputs": [],
   "source": [
    "#construct SOM catalog columns\n",
    "cat = joined_ScienceCat_StellarMassesGKV\n",
    "\n",
    "def errJy_to_errABmag(flux_Jy, fluxerr_Jy):\n",
    "    return -2.5 / (flux_Jy * np.log(10)) * fluxerr_Jy\n",
    "\n",
    "uberID = cat['uberID']\n",
    "\n",
    "r_mag = (cat['flux_rt'] * u.Jansky).to(u.ABmag).value\n",
    "r_mag_err = errJy_to_errABmag(cat['flux_rt'], cat['flux_err_rt'])\n",
    "r_snr = cat['flux_rt']/cat['flux_err_rt']\n",
    "\n",
    "g_mag = (cat['flux_gt'] * u.Jansky).to(u.ABmag).value\n",
    "g_mag_err = errJy_to_errABmag(cat['flux_gt'], cat['flux_err_gt'])\n",
    "g_snr = cat['flux_gt']/cat['flux_err_gt']\n",
    "\n",
    "u_mag = (cat['flux_ut'] * u.Jansky).to(u.ABmag).value\n",
    "u_mag_err = errJy_to_errABmag(cat['flux_ut'], cat['flux_err_ut'])\n",
    "u_snr = cat['flux_ut']/cat['flux_err_ut']\n",
    "\n",
    "i_mag = (cat['flux_it'] * u.Jansky).to(u.ABmag).value\n",
    "i_mag_err = errJy_to_errABmag(cat['flux_it'], cat['flux_err_it'])\n",
    "i_snr = cat['flux_it']/cat['flux_err_it']\n",
    "\n",
    "Z_mag = (cat['flux_Zt'] * u.Jansky).to(u.ABmag).value\n",
    "Z_mag_err = errJy_to_errABmag(cat['flux_Zt'], cat['flux_err_Zt'])\n",
    "Z_snr = cat['flux_Zt']/cat['flux_err_Zt']\n",
    "\n",
    "ur_rest     = cat['uminusr']\n",
    "ur_rest_err = cat['deluminusr']\n",
    "\n",
    "gi_rest     = cat['gminusi']\n",
    "gi_rest_err = cat['delgminusi']\n",
    "\n",
    "\n",
    "\n",
    "mstar     = cat['mstar']\n",
    "mstar_err = cat['delmstar']\n",
    "\n",
    "R50 = cat['R50']\n",
    "\n",
    "redshift = cat['Z']\n",
    "ppp      = cat['ppp']"
   ]
  }
 ],
 "metadata": {
  "kernelspec": {
   "display_name": "Python 3",
   "language": "python",
   "name": "python3"
  },
  "language_info": {
   "codemirror_mode": {
    "name": "ipython",
    "version": 3
   },
   "file_extension": ".py",
   "mimetype": "text/x-python",
   "name": "python",
   "nbconvert_exporter": "python",
   "pygments_lexer": "ipython3",
   "version": "3.13.0b3 (main, Jul  2 2024, 00:00:00) [GCC 13.3.1 20240522 (Red Hat 13.3.1-1)]"
  },
  "vscode": {
   "interpreter": {
    "hash": "0403da0954771eeaa8d0c88cb9286d36e68be9a41b0796aa6510970447a9efaa"
   }
  }
 },
 "nbformat": 4,
 "nbformat_minor": 2
}
