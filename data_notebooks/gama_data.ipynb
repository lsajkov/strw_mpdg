{
 "cells": [
  {
   "cell_type": "code",
   "execution_count": 1,
   "metadata": {},
   "outputs": [],
   "source": [
    "import os\n",
    "import numpy as np\n",
    "\n",
    "import matplotlib as mpl\n",
    "import matplotlib.pyplot as plt\n",
    "\n",
    "from astropy.io import fits\n",
    "from astropy.table import Table, join, hstack\n",
    "import astropy.units as u\n",
    "\n",
    "import scipy.stats as stats\n",
    "\n",
    "plt.rcParams.update({\n",
    "    'font.family': 'serif',\n",
    "    'font.size': 24,\n",
    "    'axes.labelsize': 'large',\n",
    "    'mathtext.fontset': 'stix'\n",
    "})\n",
    "\n",
    "def errJy_to_errABmag(flux_Jy, fluxerr_Jy):\n",
    "    return -2.5 / (flux_Jy * np.log(10)) * fluxerr_Jy"
   ]
  },
  {
   "cell_type": "markdown",
   "metadata": {},
   "source": [
    "## GAMA catalog details"
   ]
  },
  {
   "cell_type": "code",
   "execution_count": 2,
   "metadata": {},
   "outputs": [
    {
     "ename": "KeyboardInterrupt",
     "evalue": "",
     "output_type": "error",
     "traceback": [
      "\u001b[0;31m---------------------------------------------------------------------------\u001b[0m",
      "\u001b[0;31mKeyboardInterrupt\u001b[0m                         Traceback (most recent call last)",
      "Cell \u001b[0;32mIn[2], line 2\u001b[0m\n\u001b[1;32m      1\u001b[0m \u001b[38;5;66;03m#download GAMA from the database\u001b[39;00m\n\u001b[0;32m----> 2\u001b[0m \u001b[38;5;28;01mwith\u001b[39;00m fits\u001b[38;5;241m.\u001b[39mopen(\u001b[38;5;124m'\u001b[39m\u001b[38;5;124mhttp://www.gama-survey.org/dr4/data/cat/gkvInputCat/v02/gkvInputCatv02.fits\u001b[39m\u001b[38;5;124m'\u001b[39m) \u001b[38;5;28;01mas\u001b[39;00m cat:\n\u001b[1;32m      3\u001b[0m     gkvInputCat \u001b[38;5;241m=\u001b[39m Table(cat[\u001b[38;5;241m1\u001b[39m]\u001b[38;5;241m.\u001b[39mdata)\n\u001b[1;32m      5\u001b[0m \u001b[38;5;28;01mwith\u001b[39;00m fits\u001b[38;5;241m.\u001b[39mopen(\u001b[38;5;124m'\u001b[39m\u001b[38;5;124mhttp://www.gama-survey.org/dr4/data/cat/StellarMasses/v24/StellarMassesGKVv24.fits\u001b[39m\u001b[38;5;124m'\u001b[39m) \u001b[38;5;28;01mas\u001b[39;00m cat:\n",
      "File \u001b[0;32m/data2/lsajkov/mpdg/conda/envs/mpdg/lib/python3.12/site-packages/astropy/io/fits/hdu/hdulist.py:222\u001b[0m, in \u001b[0;36mfitsopen\u001b[0;34m(name, mode, memmap, save_backup, cache, lazy_load_hdus, ignore_missing_simple, use_fsspec, fsspec_kwargs, decompress_in_memory, **kwargs)\u001b[0m\n\u001b[1;32m    219\u001b[0m \u001b[38;5;28;01mif\u001b[39;00m \u001b[38;5;129;01mnot\u001b[39;00m name:\n\u001b[1;32m    220\u001b[0m     \u001b[38;5;28;01mraise\u001b[39;00m \u001b[38;5;167;01mValueError\u001b[39;00m(\u001b[38;5;124mf\u001b[39m\u001b[38;5;124m\"\u001b[39m\u001b[38;5;124mEmpty filename: \u001b[39m\u001b[38;5;132;01m{\u001b[39;00mname\u001b[38;5;132;01m!r}\u001b[39;00m\u001b[38;5;124m\"\u001b[39m)\n\u001b[0;32m--> 222\u001b[0m \u001b[38;5;28;01mreturn\u001b[39;00m HDUList\u001b[38;5;241m.\u001b[39mfromfile(\n\u001b[1;32m    223\u001b[0m     name,\n\u001b[1;32m    224\u001b[0m     mode,\n\u001b[1;32m    225\u001b[0m     memmap,\n\u001b[1;32m    226\u001b[0m     save_backup,\n\u001b[1;32m    227\u001b[0m     cache,\n\u001b[1;32m    228\u001b[0m     lazy_load_hdus,\n\u001b[1;32m    229\u001b[0m     ignore_missing_simple,\n\u001b[1;32m    230\u001b[0m     use_fsspec\u001b[38;5;241m=\u001b[39muse_fsspec,\n\u001b[1;32m    231\u001b[0m     fsspec_kwargs\u001b[38;5;241m=\u001b[39mfsspec_kwargs,\n\u001b[1;32m    232\u001b[0m     decompress_in_memory\u001b[38;5;241m=\u001b[39mdecompress_in_memory,\n\u001b[1;32m    233\u001b[0m     \u001b[38;5;241m*\u001b[39m\u001b[38;5;241m*\u001b[39mkwargs,\n\u001b[1;32m    234\u001b[0m )\n",
      "File \u001b[0;32m/data2/lsajkov/mpdg/conda/envs/mpdg/lib/python3.12/site-packages/astropy/io/fits/hdu/hdulist.py:486\u001b[0m, in \u001b[0;36mHDUList.fromfile\u001b[0;34m(cls, fileobj, mode, memmap, save_backup, cache, lazy_load_hdus, ignore_missing_simple, **kwargs)\u001b[0m\n\u001b[1;32m    467\u001b[0m \u001b[38;5;129m@classmethod\u001b[39m\n\u001b[1;32m    468\u001b[0m \u001b[38;5;28;01mdef\u001b[39;00m \u001b[38;5;21mfromfile\u001b[39m(\n\u001b[1;32m    469\u001b[0m     \u001b[38;5;28mcls\u001b[39m,\n\u001b[0;32m   (...)\u001b[0m\n\u001b[1;32m    477\u001b[0m     \u001b[38;5;241m*\u001b[39m\u001b[38;5;241m*\u001b[39mkwargs,\n\u001b[1;32m    478\u001b[0m ):\n\u001b[1;32m    479\u001b[0m \u001b[38;5;250m    \u001b[39m\u001b[38;5;124;03m\"\"\"\u001b[39;00m\n\u001b[1;32m    480\u001b[0m \u001b[38;5;124;03m    Creates an `HDUList` instance from a file-like object.\u001b[39;00m\n\u001b[1;32m    481\u001b[0m \n\u001b[0;32m   (...)\u001b[0m\n\u001b[1;32m    484\u001b[0m \u001b[38;5;124;03m    documentation for details of the parameters accepted by this method).\u001b[39;00m\n\u001b[1;32m    485\u001b[0m \u001b[38;5;124;03m    \"\"\"\u001b[39;00m\n\u001b[0;32m--> 486\u001b[0m     \u001b[38;5;28;01mreturn\u001b[39;00m \u001b[38;5;28mcls\u001b[39m\u001b[38;5;241m.\u001b[39m_readfrom(\n\u001b[1;32m    487\u001b[0m         fileobj\u001b[38;5;241m=\u001b[39mfileobj,\n\u001b[1;32m    488\u001b[0m         mode\u001b[38;5;241m=\u001b[39mmode,\n\u001b[1;32m    489\u001b[0m         memmap\u001b[38;5;241m=\u001b[39mmemmap,\n\u001b[1;32m    490\u001b[0m         save_backup\u001b[38;5;241m=\u001b[39msave_backup,\n\u001b[1;32m    491\u001b[0m         cache\u001b[38;5;241m=\u001b[39mcache,\n\u001b[1;32m    492\u001b[0m         ignore_missing_simple\u001b[38;5;241m=\u001b[39mignore_missing_simple,\n\u001b[1;32m    493\u001b[0m         lazy_load_hdus\u001b[38;5;241m=\u001b[39mlazy_load_hdus,\n\u001b[1;32m    494\u001b[0m         \u001b[38;5;241m*\u001b[39m\u001b[38;5;241m*\u001b[39mkwargs,\n\u001b[1;32m    495\u001b[0m     )\n",
      "File \u001b[0;32m/data2/lsajkov/mpdg/conda/envs/mpdg/lib/python3.12/site-packages/astropy/io/fits/hdu/hdulist.py:1168\u001b[0m, in \u001b[0;36mHDUList._readfrom\u001b[0;34m(cls, fileobj, data, mode, memmap, cache, lazy_load_hdus, ignore_missing_simple, use_fsspec, fsspec_kwargs, decompress_in_memory, **kwargs)\u001b[0m\n\u001b[1;32m   1165\u001b[0m \u001b[38;5;28;01mif\u001b[39;00m fileobj \u001b[38;5;129;01mis\u001b[39;00m \u001b[38;5;129;01mnot\u001b[39;00m \u001b[38;5;28;01mNone\u001b[39;00m:\n\u001b[1;32m   1166\u001b[0m     \u001b[38;5;28;01mif\u001b[39;00m \u001b[38;5;129;01mnot\u001b[39;00m \u001b[38;5;28misinstance\u001b[39m(fileobj, _File):\n\u001b[1;32m   1167\u001b[0m         \u001b[38;5;66;03m# instantiate a FITS file object (ffo)\u001b[39;00m\n\u001b[0;32m-> 1168\u001b[0m         fileobj \u001b[38;5;241m=\u001b[39m _File(\n\u001b[1;32m   1169\u001b[0m             fileobj,\n\u001b[1;32m   1170\u001b[0m             mode\u001b[38;5;241m=\u001b[39mmode,\n\u001b[1;32m   1171\u001b[0m             memmap\u001b[38;5;241m=\u001b[39mmemmap,\n\u001b[1;32m   1172\u001b[0m             cache\u001b[38;5;241m=\u001b[39mcache,\n\u001b[1;32m   1173\u001b[0m             use_fsspec\u001b[38;5;241m=\u001b[39muse_fsspec,\n\u001b[1;32m   1174\u001b[0m             fsspec_kwargs\u001b[38;5;241m=\u001b[39mfsspec_kwargs,\n\u001b[1;32m   1175\u001b[0m             decompress_in_memory\u001b[38;5;241m=\u001b[39mdecompress_in_memory,\n\u001b[1;32m   1176\u001b[0m         )\n\u001b[1;32m   1177\u001b[0m     \u001b[38;5;66;03m# The Astropy mode is determined by the _File initializer if the\u001b[39;00m\n\u001b[1;32m   1178\u001b[0m     \u001b[38;5;66;03m# supplied mode was None\u001b[39;00m\n\u001b[1;32m   1179\u001b[0m     mode \u001b[38;5;241m=\u001b[39m fileobj\u001b[38;5;241m.\u001b[39mmode\n",
      "File \u001b[0;32m/data2/lsajkov/mpdg/conda/envs/mpdg/lib/python3.12/site-packages/astropy/io/fits/file.py:198\u001b[0m, in \u001b[0;36m_File.__init__\u001b[0;34m(self, fileobj, mode, memmap, overwrite, cache, use_fsspec, fsspec_kwargs, decompress_in_memory)\u001b[0m\n\u001b[1;32m    192\u001b[0m \u001b[38;5;66;03m# Handle raw URLs\u001b[39;00m\n\u001b[1;32m    193\u001b[0m \u001b[38;5;28;01mif\u001b[39;00m (\n\u001b[1;32m    194\u001b[0m     \u001b[38;5;28misinstance\u001b[39m(fileobj, (\u001b[38;5;28mstr\u001b[39m, \u001b[38;5;28mbytes\u001b[39m))\n\u001b[1;32m    195\u001b[0m     \u001b[38;5;129;01mand\u001b[39;00m mode \u001b[38;5;129;01mnot\u001b[39;00m \u001b[38;5;129;01min\u001b[39;00m (\u001b[38;5;124m\"\u001b[39m\u001b[38;5;124mostream\u001b[39m\u001b[38;5;124m\"\u001b[39m, \u001b[38;5;124m\"\u001b[39m\u001b[38;5;124mappend\u001b[39m\u001b[38;5;124m\"\u001b[39m, \u001b[38;5;124m\"\u001b[39m\u001b[38;5;124mupdate\u001b[39m\u001b[38;5;124m\"\u001b[39m)\n\u001b[1;32m    196\u001b[0m     \u001b[38;5;129;01mand\u001b[39;00m _is_url(fileobj)\n\u001b[1;32m    197\u001b[0m ):\n\u001b[0;32m--> 198\u001b[0m     \u001b[38;5;28mself\u001b[39m\u001b[38;5;241m.\u001b[39mname \u001b[38;5;241m=\u001b[39m download_file(fileobj, cache\u001b[38;5;241m=\u001b[39mcache)\n\u001b[1;32m    199\u001b[0m \u001b[38;5;66;03m# Handle responses from URL requests that have already been opened\u001b[39;00m\n\u001b[1;32m    200\u001b[0m \u001b[38;5;28;01melif\u001b[39;00m \u001b[38;5;28misinstance\u001b[39m(fileobj, http\u001b[38;5;241m.\u001b[39mclient\u001b[38;5;241m.\u001b[39mHTTPResponse):\n",
      "File \u001b[0;32m/data2/lsajkov/mpdg/conda/envs/mpdg/lib/python3.12/site-packages/astropy/utils/data.py:1531\u001b[0m, in \u001b[0;36mdownload_file\u001b[0;34m(remote_url, cache, show_progress, timeout, sources, pkgname, http_headers, ssl_context, allow_insecure)\u001b[0m\n\u001b[1;32m   1529\u001b[0m \u001b[38;5;28;01mfor\u001b[39;00m source_url \u001b[38;5;129;01min\u001b[39;00m sources:\n\u001b[1;32m   1530\u001b[0m     \u001b[38;5;28;01mtry\u001b[39;00m:\n\u001b[0;32m-> 1531\u001b[0m         f_name \u001b[38;5;241m=\u001b[39m _download_file_from_source(\n\u001b[1;32m   1532\u001b[0m             source_url,\n\u001b[1;32m   1533\u001b[0m             timeout\u001b[38;5;241m=\u001b[39mtimeout,\n\u001b[1;32m   1534\u001b[0m             show_progress\u001b[38;5;241m=\u001b[39mshow_progress,\n\u001b[1;32m   1535\u001b[0m             cache\u001b[38;5;241m=\u001b[39mcache,\n\u001b[1;32m   1536\u001b[0m             remote_url\u001b[38;5;241m=\u001b[39mremote_url,\n\u001b[1;32m   1537\u001b[0m             pkgname\u001b[38;5;241m=\u001b[39mpkgname,\n\u001b[1;32m   1538\u001b[0m             http_headers\u001b[38;5;241m=\u001b[39mhttp_headers,\n\u001b[1;32m   1539\u001b[0m             ssl_context\u001b[38;5;241m=\u001b[39mssl_context,\n\u001b[1;32m   1540\u001b[0m             allow_insecure\u001b[38;5;241m=\u001b[39mallow_insecure,\n\u001b[1;32m   1541\u001b[0m         )\n\u001b[1;32m   1542\u001b[0m         \u001b[38;5;66;03m# Success!\u001b[39;00m\n\u001b[1;32m   1543\u001b[0m         \u001b[38;5;28;01mbreak\u001b[39;00m\n",
      "File \u001b[0;32m/data2/lsajkov/mpdg/conda/envs/mpdg/lib/python3.12/site-packages/astropy/utils/data.py:1357\u001b[0m, in \u001b[0;36m_download_file_from_source\u001b[0;34m(source_url, show_progress, timeout, remote_url, cache, pkgname, http_headers, ftp_tls, ssl_context, allow_insecure)\u001b[0m\n\u001b[1;32m   1355\u001b[0m f\u001b[38;5;241m.\u001b[39mwrite(block)\n\u001b[1;32m   1356\u001b[0m bytes_read \u001b[38;5;241m+\u001b[39m\u001b[38;5;241m=\u001b[39m \u001b[38;5;28mlen\u001b[39m(block)\n\u001b[0;32m-> 1357\u001b[0m p\u001b[38;5;241m.\u001b[39mupdate(bytes_read)\n\u001b[1;32m   1358\u001b[0m block \u001b[38;5;241m=\u001b[39m remote\u001b[38;5;241m.\u001b[39mread(conf\u001b[38;5;241m.\u001b[39mdownload_block_size)\n\u001b[1;32m   1359\u001b[0m \u001b[38;5;28;01mif\u001b[39;00m size \u001b[38;5;129;01mis\u001b[39;00m \u001b[38;5;129;01mnot\u001b[39;00m \u001b[38;5;28;01mNone\u001b[39;00m \u001b[38;5;129;01mand\u001b[39;00m bytes_read \u001b[38;5;241m>\u001b[39m size:\n",
      "File \u001b[0;32m/data2/lsajkov/mpdg/conda/envs/mpdg/lib/python3.12/site-packages/astropy/utils/console.py:996\u001b[0m, in \u001b[0;36mProgressBarOrSpinner.update\u001b[0;34m(self, value)\u001b[0m\n\u001b[1;32m    991\u001b[0m \u001b[38;5;28;01mdef\u001b[39;00m \u001b[38;5;21mupdate\u001b[39m(\u001b[38;5;28mself\u001b[39m, value):\n\u001b[1;32m    992\u001b[0m \u001b[38;5;250m    \u001b[39m\u001b[38;5;124;03m\"\"\"\u001b[39;00m\n\u001b[1;32m    993\u001b[0m \u001b[38;5;124;03m    Update the progress bar to the given value (out of the total\u001b[39;00m\n\u001b[1;32m    994\u001b[0m \u001b[38;5;124;03m    given to the constructor.\u001b[39;00m\n\u001b[1;32m    995\u001b[0m \u001b[38;5;124;03m    \"\"\"\u001b[39;00m\n\u001b[0;32m--> 996\u001b[0m     \u001b[38;5;28mself\u001b[39m\u001b[38;5;241m.\u001b[39m_obj\u001b[38;5;241m.\u001b[39mupdate(value)\n",
      "File \u001b[0;32m/data2/lsajkov/mpdg/conda/envs/mpdg/lib/python3.12/site-packages/astropy/utils/console.py:919\u001b[0m, in \u001b[0;36mSpinner.update\u001b[0;34m(self, value)\u001b[0m\n\u001b[1;32m    910\u001b[0m \u001b[38;5;28;01mdef\u001b[39;00m \u001b[38;5;21mupdate\u001b[39m(\u001b[38;5;28mself\u001b[39m, value\u001b[38;5;241m=\u001b[39m\u001b[38;5;28;01mNone\u001b[39;00m):\n\u001b[1;32m    911\u001b[0m \u001b[38;5;250m    \u001b[39m\u001b[38;5;124;03m\"\"\"Update the spin wheel in the terminal.\u001b[39;00m\n\u001b[1;32m    912\u001b[0m \n\u001b[1;32m    913\u001b[0m \u001b[38;5;124;03m    Parameters\u001b[39;00m\n\u001b[0;32m   (...)\u001b[0m\n\u001b[1;32m    917\u001b[0m \n\u001b[1;32m    918\u001b[0m \u001b[38;5;124;03m    \"\"\"\u001b[39;00m\n\u001b[0;32m--> 919\u001b[0m     \u001b[38;5;28mnext\u001b[39m(\u001b[38;5;28mself\u001b[39m)\n",
      "File \u001b[0;32m/data2/lsajkov/mpdg/conda/envs/mpdg/lib/python3.12/site-packages/astropy/utils/console.py:907\u001b[0m, in \u001b[0;36mSpinner.__next__\u001b[0;34m(self)\u001b[0m\n\u001b[1;32m    904\u001b[0m \u001b[38;5;28;01mdef\u001b[39;00m \u001b[38;5;21m__iter__\u001b[39m(\u001b[38;5;28mself\u001b[39m):\n\u001b[1;32m    905\u001b[0m     \u001b[38;5;28;01mreturn\u001b[39;00m \u001b[38;5;28mself\u001b[39m\n\u001b[0;32m--> 907\u001b[0m \u001b[38;5;28;01mdef\u001b[39;00m \u001b[38;5;21m__next__\u001b[39m(\u001b[38;5;28mself\u001b[39m):\n\u001b[1;32m    908\u001b[0m     \u001b[38;5;28mnext\u001b[39m(\u001b[38;5;28mself\u001b[39m\u001b[38;5;241m.\u001b[39m_iter)\n\u001b[1;32m    910\u001b[0m \u001b[38;5;28;01mdef\u001b[39;00m \u001b[38;5;21mupdate\u001b[39m(\u001b[38;5;28mself\u001b[39m, value\u001b[38;5;241m=\u001b[39m\u001b[38;5;28;01mNone\u001b[39;00m):\n",
      "\u001b[0;31mKeyboardInterrupt\u001b[0m: "
     ]
    }
   ],
   "source": [
    "#download GAMA from the database\n",
    "with fits.open('http://www.gama-survey.org/dr4/data/cat/gkvInputCat/v02/gkvInputCatv02.fits') as cat:\n",
    "    gkvInputCat = Table(cat[1].data)\n",
    "\n",
    "with fits.open('http://www.gama-survey.org/dr4/data/cat/StellarMasses/v24/StellarMassesGKVv24.fits') as cat:\n",
    "    StellarMassesGKV = Table(cat[1].data)\n",
    "\n",
    "GAMA_mstar_concat = join(gkvInputCat, StellarMassesGKV)"
   ]
  },
  {
   "cell_type": "code",
   "execution_count": null,
   "metadata": {},
   "outputs": [],
   "source": [
    "#OR, if the joined catalog exists, import GAMA:\n",
    "with fits.open('/data2/lsajkov/mpdg/data/GAMA/GAMA_mstars_concat.fits') as hdu:\n",
    "    GAMA_mstar_concat = Table(hdu[1].data)"
   ]
  },
  {
   "cell_type": "markdown",
   "metadata": {},
   "source": [
    "Redshifts"
   ]
  },
  {
   "cell_type": "code",
   "execution_count": null,
   "metadata": {},
   "outputs": [],
   "source": [
    "#redshift distribution\n",
    "redshifts = GAMA_mstar_concat[~np.isnan(GAMA_mstar_concat['Z']) &\\\n",
    "                                       (GAMA_mstar_concat['Z'] >= 0)]['Z']\n",
    "\n",
    "print('= GAMA redshifts =')\n",
    "print('counting non-nan ')\n",
    "print('and >= 0 only')\n",
    "print(f'total:\\t{len(redshifts)}')\n",
    "print(f'min:\\t{np.min(redshifts):.3f}')\n",
    "print(f'max:\\t{np.max(redshifts):.3f}')\n",
    "print(f'mean:\\t{np.mean(redshifts):.3f}')\n",
    "print(f'median:\\t{np.median(redshifts):.3f}')\n",
    "print(f'std:\\t{np.std(redshifts):.3f}')\n",
    "print('==================')"
   ]
  },
  {
   "cell_type": "code",
   "execution_count": null,
   "metadata": {},
   "outputs": [],
   "source": [
    "fig = plt.figure(figsize = (10, 8))\n",
    "ax  = fig.add_subplot()\n",
    "\n",
    "GAMA_redshift_subset = redshifts[(redshifts >= 0.) &\\\n",
    "                       (redshifts < 2)]\n",
    "\n",
    "ax.hist(GAMA_redshift_subset,\n",
    "        bins = 75, histtype = 'step',\n",
    "        linewidth = 3, color = 'black', density = True)\n",
    "\n",
    "ax.set_xlabel('Redshift')\n",
    "ax.text(0.45, 0.75,\n",
    "        f'Limited to $0 < z < 2$\\n\\nIn this sample:\\n{len(GAMA_redshift_subset)}/{len(GAMA_redshifts)} (~{int(100 * len(GAMA_redshift_subset)/len(GAMA_redshifts))} %)',\n",
    "        transform = ax.transAxes,\n",
    "        ma = 'right')\n",
    "\n",
    "ax.axvspan(0.025, 0.5, color = 'lightgreen', alpha = 0.25)"
   ]
  },
  {
   "cell_type": "markdown",
   "metadata": {},
   "source": [
    "Magnitude distribution"
   ]
  },
  {
   "cell_type": "code",
   "execution_count": null,
   "metadata": {},
   "outputs": [],
   "source": [
    "g_snr = GAMA_mstar_concat['flux_gt']/GAMA_mstar_concat['flux_err_gt']\n",
    "g_mag = GAMA_mstar_concat['flux_gt'] * u.Jy\n",
    "g_mag = g_mag.to(u.ABmag).value\n",
    "\n",
    "r_snr = GAMA_mstar_concat['flux_rt']/GAMA_mstar_concat['flux_err_rt']\n",
    "r_mag = GAMA_mstar_concat['flux_rt'] * u.Jy\n",
    "r_mag = r_mag.to(u.ABmag).value"
   ]
  },
  {
   "cell_type": "code",
   "execution_count": null,
   "metadata": {},
   "outputs": [],
   "source": []
  },
  {
   "cell_type": "code",
   "execution_count": null,
   "metadata": {},
   "outputs": [],
   "source": [
    "fig = plt.figure(figsize = (12, 10))\n",
    "ax  = fig.add_subplot()\n",
    "\n",
    "snr_thresh = 100\n",
    "\n",
    "bins = ax.hist(g_mag[(g_mag > 0) & (g_snr > snr_thresh)],\n",
    "        bins = 'auto',\n",
    "        histtype = 'step', color = 'green',\n",
    "        linewidth = 3)\n",
    "ax.hist(r_mag[(r_mag > 0) & (r_snr > snr_thresh)],\n",
    "        bins = bins[1], \n",
    "        histtype = 'step', color = 'red',\n",
    "        linewidth = 3)\n",
    "\n",
    "ax.text(0.01, 0.9,\n",
    "        f'r- and g-band magnitudes in GAMA\\nApplied cuts: SNR > {snr_thresh} & mag > 0',\n",
    "        transform = ax.transAxes)\n",
    "\n",
    "ax.set_xlabel('Magnitude ($r$ or $g$)')"
   ]
  },
  {
   "cell_type": "markdown",
   "metadata": {},
   "source": [
    "R-band effective fwhm radius"
   ]
  },
  {
   "cell_type": "code",
   "execution_count": null,
   "metadata": {},
   "outputs": [],
   "source": [
    "#the approximate area defined by the fwhm is 76%\n",
    "#the area within R50 is 50%\n",
    "#therefore, to scale R50 up to Rfwhm, we must scale up by\n",
    "r50_to_fwhm_scale_factor = np.sqrt(0.76/0.50)"
   ]
  },
  {
   "cell_type": "code",
   "execution_count": null,
   "metadata": {},
   "outputs": [],
   "source": [
    "r50_to_fwhm_scale_factor"
   ]
  },
  {
   "cell_type": "code",
   "execution_count": null,
   "metadata": {},
   "outputs": [],
   "source": [
    "def gaussian(x, mean, std):\n",
    "    return 1 / (np.sqrt(2 * np.pi * std**2)) * np.exp(-(x - mean) ** 2/(2 * std ** 2))"
   ]
  },
  {
   "cell_type": "code",
   "execution_count": null,
   "metadata": {},
   "outputs": [],
   "source": [
    "std = 1\n",
    "\n",
    "xs, ys = np.meshgrid(np.linspace(-3, 3, 501),\n",
    "                    np.linspace(-3, 3, 501))\n",
    "gauss2d = gaussian(xs, 0, std) * gaussian(ys, 0, std)\n",
    "gauss2d /= np.sum(gauss2d)\n",
    "\n",
    "fwhm_idx  = np.abs(gauss2d - np.max(gauss2d)/2) < 1e-3\n",
    "fwhm_ring = np.where(fwhm_idx, True, np.nan)\n",
    "fwhm_radius_x = (np.max(xs[fwhm_idx]) - np.min(xs[fwhm_idx])) / 2\n",
    "fwhm_radius_y = (np.max(ys[fwhm_idx]) - np.min(ys[fwhm_idx])) / 2\n",
    "fwhm_area = np.where(gauss2d > np.max(gauss2d)/2,\n",
    "                    True, np.nan) \n",
    "\n",
    "thresh = np.max(gauss2d) * 0.95\n",
    "while np.sum(gauss2d[gauss2d > thresh]) < 0.5:\n",
    "    thresh -= 1e-7\n",
    "half_light_idx  = gauss2d > thresh\n",
    "half_light_radius_x = (np.max(xs[half_light_idx]) - np.min(xs[half_light_idx])) / 2\n",
    "half_light_radius_y = (np.max(ys[half_light_idx]) - np.min(ys[half_light_idx])) / 2\n",
    "half_light_ring = np.where(gauss2d > thresh, True, np.nan)"
   ]
  },
  {
   "cell_type": "code",
   "execution_count": null,
   "metadata": {},
   "outputs": [],
   "source": [
    "fig = plt.figure(figsize = (10, 10))\n",
    "ax  = fig.add_subplot()\n",
    "\n",
    "ax.imshow(gauss2d, origin = 'lower', cmap = 'Spectral')"
   ]
  },
  {
   "cell_type": "code",
   "execution_count": null,
   "metadata": {},
   "outputs": [],
   "source": [
    "fwhm_radius_x/r50_to_fwhm_scale_factor"
   ]
  },
  {
   "cell_type": "code",
   "execution_count": null,
   "metadata": {},
   "outputs": [],
   "source": [
    "half_light_radius_x"
   ]
  },
  {
   "cell_type": "code",
   "execution_count": null,
   "metadata": {},
   "outputs": [],
   "source": [
    "half_light_radii = []\n",
    "fwhm_radii = []\n",
    "\n",
    "for std in np.linspace(0.5, 1.5, 15):\n",
    "    xs, ys = np.meshgrid(np.linspace(-30, 30, 501),\n",
    "                        np.linspace(-30, 30, 501))\n",
    "    gauss2d = gaussian(xs, 0, std) * gaussian(ys, 0, std)\n",
    "    gauss2d /= np.sum(gauss2d)\n",
    "\n",
    "    fwhm_idx  = np.abs(gauss2d - np.max(gauss2d)/2) < 1e-3\n",
    "    # fwhm_ring = np.where(fwhm_idx, True, np.nan)\n",
    "    fwhm_radius_x = (np.max(xs[fwhm_idx]) - np.min(xs[fwhm_idx])) / 2\n",
    "    # fwhm_radius_y = (np.max(ys[fwhm_idx]) - np.min(ys[fwhm_idx])) / 2\n",
    "    # fwhm_area = np.where(gauss2d > np.max(gauss2d)/2,\n",
    "    #                     True, np.nan) \n",
    "\n",
    "    thresh = np.max(gauss2d) * 0.95\n",
    "    while np.sum(gauss2d[gauss2d > thresh]) < 0.5:\n",
    "        thresh -= 1e-7\n",
    "    half_light_idx  = gauss2d > thresh\n",
    "    half_light_radius_x = (np.max(xs[half_light_idx]) - np.min(xs[half_light_idx])) / 2\n",
    "    # half_light_radius_y = (np.max(ys[half_light_idx]) - np.min(ys[half_light_idx])) / 2\n",
    "    # half_light_ring = np.where(gauss2d > thresh, True, np.nan)\n",
    "\n",
    "    half_light_radii.append(half_lighthttp://desi.ibl.gov/_radius_x)\n",
    "    fwhm_radii.append(fwhm_radius_x)\n",
    "    \n",
    "    plt.plot(gauss2d[250])\n",
    "\n",
    "half_light_radii = np.array(half_light_radii)\n",
    "fwhm_radii = np.array(fwhm_radii)"
   ]
  },
  {
   "cell_type": "code",
   "execution_count": null,
   "metadata": {},
   "outputs": [],
   "source": [
    "fig = plt.figure(figsize = (10, 10))\n",
    "ax  = fig.add_subplot()\n",
    "\n",
    "ax.imshow(gauss2d, origin = 'lower', cmap = 'Spectral')\n",
    "\n",
    "# ax.imshow(fwhm_ring, origin = 'lower')\n",
    "\n",
    "# thresh = np.max(gauss2d) * 0.95\n",
    "# while np.sum(gauss2d[gauss2d > thresh]) < 0.5:\n",
    "#     thresh -= 1e-7\n",
    "# half_light_ring = np.where(gauss2d > thresh, True, np.nan)\n",
    "\n",
    "# ax.imshow(half_light_ring, cmap = 'viridis', alpha = 0.3)\n",
    "# ax.imshow(fwhm_area, cmap = 'viridis', alpha = 0.3)"
   ]
  },
  {
   "cell_type": "code",
   "execution_count": null,
   "metadata": {},
   "outputs": [],
   "source": [
    "plt.plot(np.linspace(-2, 2, 100),\n",
    "         gaussian(np.linspace(-2, 2, 100), 0, 0.5))"
   ]
  },
  {
   "cell_type": "markdown",
   "metadata": {},
   "source": []
  },
  {
   "cell_type": "markdown",
   "metadata": {},
   "source": [
    "## GAMA Science Cat + Stellar Masses"
   ]
  },
  {
   "cell_type": "code",
   "execution_count": null,
   "metadata": {},
   "outputs": [],
   "source": [
    "with fits.open('/data2/lsajkov/mpdg/data/GAMA/gkvScienceCatv02.fits') as cat:\n",
    "    ScienceCat = Table(cat[1].data)"
   ]
  },
  {
   "cell_type": "code",
   "execution_count": null,
   "metadata": {},
   "outputs": [],
   "source": [
    "#redshift distribution\n",
    "redshifts = ScienceCat[~np.isnan(ScienceCat['Z']) &\\\n",
    "                                (ScienceCat['Z'] >= 0)]['Z']\n",
    "\n",
    "print('= GAMA redshifts =')\n",
    "print('counting non-nan ')\n",
    "print('and >= 0 only')\n",
    "print(f'total:\\t{len(redshifts)}')\n",
    "print(f'min:\\t{np.min(redshifts):.3f}')\n",
    "print(f'max:\\t{np.max(redshifts):.3f}')\n",
    "print(f'mean:\\t{np.mean(redshifts):.3f}')\n",
    "print(f'median:\\t{np.median(redshifts):.3f}')\n",
    "print(f'std:\\t{np.std(redshifts):.3f}')\n",
    "print('==================')"
   ]
  },
  {
   "cell_type": "code",
   "execution_count": null,
   "metadata": {},
   "outputs": [],
   "source": [
    "fig = plt.figure(figsize = (10, 8))\n",
    "ax  = fig.add_subplot()\n",
    "\n",
    "redshift_idx = (redshifts >= 0.) & (redshifts < 1)\n",
    "redshift_subset = redshifts[redshift_idx]\n",
    "\n",
    "\n",
    "bins = ax.hist(redshift_subset,\n",
    "        bins = 75, histtype = 'step',\n",
    "        linewidth = 3, color = 'black', density = True)\n",
    "\n",
    "highlight_idx = (redshifts >= bins[1][1]) & (redshifts <= 0.4)\n",
    "\n",
    "ax.set_xlabel('Redshift')\n",
    "\n",
    "plot_text = 'Limited to $0 < z < 1$\\n\\n' +\\\n",
    "           f'In this sample:\\n{np.sum(redshift_idx)}/{len(redshift_idx)} (~{int(100 * np.sum(redshift_idx)/len(redshift_idx))} %)\\n\\n' +\\\n",
    "           f'In the highlighted area:\\n{np.sum(highlight_idx)}/{len(highlight_idx)} (~{int(100 * np.sum(highlight_idx)/len(highlight_idx))} %)'\n",
    "\n",
    "ax.text(0.45, 0.58,\n",
    "        plot_text,\n",
    "        transform = ax.transAxes,\n",
    "        ma = 'right')\n",
    "\n",
    "ax.axvspan(bins[1][1], 0.4, color = 'lightgreen', alpha = 0.25)\n",
    "\n",
    "ax.text(bins[1][1] + 5e-3, 0.035, f'{bins[1][1]:.3f}', fontsize = 10, rotation = 90)\n",
    "ax.text(0.4 - 15e-3, 0.035, 0.4, fontsize = 10, rotation = 90)"
   ]
  },
  {
   "cell_type": "code",
   "execution_count": null,
   "metadata": {},
   "outputs": [],
   "source": [
    "r_mag = (ScienceCat['flux_rt'] * u.Jansky).to(u.ABmag).value\n",
    "r_snr = ScienceCat['flux_rt']/ScienceCat['flux_err_rt']\n",
    "\n",
    "g_mag = (ScienceCat['flux_gt'] * u.Jansky).to(u.ABmag).value\n",
    "g_snr = ScienceCat['flux_gt']/ScienceCat['flux_err_gt']\n",
    "\n",
    "u_mag = (ScienceCat['flux_ut'] * u.Jansky).to(u.ABmag).value\n",
    "u_snr = ScienceCat['flux_ut']/ScienceCat['flux_err_ut']"
   ]
  },
  {
   "cell_type": "code",
   "execution_count": null,
   "metadata": {},
   "outputs": [],
   "source": [
    "fig = plt.figure(figsize = (12, 10))\n",
    "ax = fig.add_subplot()\n",
    "\n",
    "cutoff = 400\n",
    "\n",
    "bins = ax.hist(r_snr[r_snr < cutoff], bins = 'auto',\n",
    "               histtype = 'step', color = 'red',\n",
    "               linewidth = 3)[1]\n",
    "\n",
    "ax.hist(g_snr[g_snr < cutoff],\n",
    "        bins = bins,\n",
    "        histtype = 'step', color = 'green', linewidth = 3)\n",
    "\n",
    "ax.hist(u_snr[u_snr < cutoff],\n",
    "        bins = bins,\n",
    "        histtype = 'step', color = 'violet', linewidth = 3)\n",
    "\n",
    "ax.set_xlabel('SNR\\n(flux_xt/flux_err_xt)')\n",
    "ax.set_ylabel('Count')\n",
    "\n",
    "ax.axvline(5, color = 'black')"
   ]
  },
  {
   "cell_type": "code",
   "execution_count": null,
   "metadata": {},
   "outputs": [],
   "source": [
    "fig = plt.figure(figsize = (12, 10))\n",
    "ax = fig.add_subplot()\n",
    "\n",
    "snr_thresh = 5\n",
    "snr_mask = (u_snr > snr_thresh) &\\\n",
    "           (g_snr > snr_thresh) &\\\n",
    "           (r_snr > snr_thresh)\n",
    "\n",
    "bins = ax.hist(r_mag[snr_mask],\n",
    "               bins = 'auto', histtype = 'step',\n",
    "               color = 'red', linewidth = 3)[1]\n",
    "\n",
    "ax.hist(g_mag[snr_mask],\n",
    "        bins = bins, histtype = 'step',\n",
    "        color = 'green', linewidth = 3)\n",
    "\n",
    "ax.hist(u_mag[snr_mask],\n",
    "        bins = bins, histtype = 'step',\n",
    "        color = 'violet', linewidth = 3)\n",
    "\n",
    "ax.set_xlabel('Magnitude')\n",
    "ax.set_ylabel('Count')\n",
    "\n",
    "ax.set_xticks(np.arange(6.5, 21.5, 2))"
   ]
  },
  {
   "cell_type": "code",
   "execution_count": null,
   "metadata": {},
   "outputs": [],
   "source": [
    "redshift_mask = (ScienceCat['Z'] >= 0.) & (ScienceCat['Z'] < 1)\n",
    "\n",
    "snr_thresh = 5\n",
    "snr_mask = (u_snr > snr_thresh) &\\\n",
    "           (g_snr > snr_thresh) &\\\n",
    "           (r_snr > snr_thresh)\n",
    "\n",
    "total_mask = redshift_mask & snr_mask"
   ]
  },
  {
   "cell_type": "markdown",
   "metadata": {},
   "source": [
    "## SOM-ready color catalog"
   ]
  },
  {
   "cell_type": "code",
   "execution_count": 2,
   "metadata": {},
   "outputs": [],
   "source": [
    "with fits.open('/data2/lsajkov/mpdg/data/GAMA/gkvScienceCatv02.fits') as cat:\n",
    "    ScienceCat = Table(cat[1].data)\n",
    "\n",
    "with fits.open('/data2/lsajkov/mpdg/data/GAMA/StellarMassesGKVv24.fits') as cat:\n",
    "    StellarMassesGKV = Table(cat[1].data)\n",
    "    \n",
    "joined_ScienceCat_StellarMassesGKV = join(ScienceCat, StellarMassesGKV)"
   ]
  },
  {
   "cell_type": "code",
   "execution_count": 4,
   "metadata": {},
   "outputs": [
    {
     "name": "stderr",
     "output_type": "stream",
     "text": [
      "/data2/lsajkov/mpdg/conda/envs/mpdg/lib/python3.12/site-packages/astropy/units/function/logarithmic.py:67: RuntimeWarning: invalid value encountered in log10\n",
      "  return dex.to(self._function_unit, np.log10(x))\n",
      "/var/tmp/lsajkov/ipykernel_3434293/3223120732.py:18: RuntimeWarning: divide by zero encountered in divide\n",
      "  g_snr = cat['flux_gt']/cat['flux_err_gt']\n",
      "/var/tmp/lsajkov/ipykernel_3434293/3223120732.py:22: RuntimeWarning: divide by zero encountered in divide\n",
      "  u_snr = cat['flux_ut']/cat['flux_err_ut']\n",
      "/var/tmp/lsajkov/ipykernel_3434293/3223120732.py:26: RuntimeWarning: divide by zero encountered in divide\n",
      "  i_snr = cat['flux_it']/cat['flux_err_it']\n"
     ]
    }
   ],
   "source": [
    "#construct SOM catalog columns\n",
    "cat = joined_ScienceCat_StellarMassesGKV\n",
    "\n",
    "def errJy_to_errABmag(flux_Jy, fluxerr_Jy):\n",
    "    return -2.5 / (flux_Jy * np.log(10)) * fluxerr_Jy\n",
    "\n",
    "uberID = cat['uberID']\n",
    "\n",
    "ra = cat['RAcen']\n",
    "dec = cat['Deccen']\n",
    "\n",
    "r_mag = (cat['flux_rt'] * u.Jansky).to(u.ABmag).value\n",
    "r_mag_err = errJy_to_errABmag(cat['flux_rt'], cat['flux_err_rt'])\n",
    "r_snr = cat['flux_rt']/cat['flux_err_rt']\n",
    "\n",
    "g_mag = (cat['flux_gt'] * u.Jansky).to(u.ABmag).value\n",
    "g_mag_err = errJy_to_errABmag(cat['flux_gt'], cat['flux_err_gt'])\n",
    "g_snr = cat['flux_gt']/cat['flux_err_gt']\n",
    "\n",
    "u_mag = (cat['flux_ut'] * u.Jansky).to(u.ABmag).value\n",
    "u_mag_err = errJy_to_errABmag(cat['flux_ut'], cat['flux_err_ut'])\n",
    "u_snr = cat['flux_ut']/cat['flux_err_ut']\n",
    "\n",
    "i_mag = (cat['flux_it'] * u.Jansky).to(u.ABmag).value\n",
    "i_mag_err = errJy_to_errABmag(cat['flux_it'], cat['flux_err_it'])\n",
    "i_snr = cat['flux_it']/cat['flux_err_it']\n",
    "\n",
    "Z_mag = (cat['flux_Zt'] * u.Jansky).to(u.ABmag).value\n",
    "Z_mag_err = errJy_to_errABmag(cat['flux_Zt'], cat['flux_err_Zt'])\n",
    "Z_snr = cat['flux_Zt']/cat['flux_err_Zt']\n",
    "\n",
    "ug_color     = u_mag - g_mag\n",
    "ug_color_err = np.sqrt(u_mag_err ** 2 + g_mag_err ** 2)\n",
    "\n",
    "gr_color     = g_mag - r_mag\n",
    "gr_color_err = np.sqrt(g_mag_err ** 2 + r_mag_err ** 2)\n",
    "\n",
    "ri_color     = r_mag - i_mag\n",
    "ri_color_err = np.sqrt(r_mag_err ** 2 + i_mag_err ** 2)\n",
    "\n",
    "iZ_color     = i_mag - Z_mag\n",
    "iZ_color_err = np.sqrt(i_mag_err ** 2 + Z_mag_err ** 2)\n",
    "\n",
    "mstar     = cat['mstar']\n",
    "mstar_err = cat['delmstar']\n",
    "\n",
    "R50 = cat['R50']\n",
    "\n",
    "redshift = cat['Z']\n",
    "ppp      = cat['ppp']\n",
    "\n",
    "NQ = cat['NQ']"
   ]
  },
  {
   "cell_type": "code",
   "execution_count": 5,
   "metadata": {},
   "outputs": [
    {
     "name": "stderr",
     "output_type": "stream",
     "text": [
      "/var/tmp/lsajkov/ipykernel_3434293/2605397885.py:24: RuntimeWarning: invalid value encountered in log10\n",
      "  log_mstar_cut = (np.log10(mstar) > log_mstar_lo) & (np.log10(mstar) < log_mstar_hi)\n"
     ]
    }
   ],
   "source": [
    "#quality cuts\n",
    "# ppp_cut = (ppp - np.mean(ppp[ppp > 0.05]))/np.std(ppp[ppp > 0.05]) < 2\n",
    "\n",
    "snr_thresh = 5\n",
    "snr_cut = (r_snr >= snr_thresh) &\\\n",
    "          (g_snr >= snr_thresh) &\\\n",
    "          (u_snr >= snr_thresh) &\\\n",
    "          (i_snr >= snr_thresh) &\\\n",
    "          (Z_snr >= snr_thresh)\n",
    "\n",
    "redshift_cut = (redshift >= 0.002) & (redshift < 1)\n",
    "\n",
    "NQ_cut = NQ >= 3\n",
    "\n",
    "color_lo = -1\n",
    "color_hi = 2\n",
    "color_cut = (ug_color > color_lo) & (ug_color < color_hi) &\\\n",
    "            (gr_color > color_lo) & (gr_color < color_hi) &\\\n",
    "            (ri_color > color_lo) & (ri_color < color_hi) &\\\n",
    "            (iZ_color > color_lo) & (iZ_color < color_hi)\n",
    "\n",
    "log_mstar_lo = 6\n",
    "log_mstar_hi = 12\n",
    "log_mstar_cut = (np.log10(mstar) > log_mstar_lo) & (np.log10(mstar) < log_mstar_hi)\n",
    "\n",
    "R50_cut = R50 < 10"
   ]
  },
  {
   "cell_type": "code",
   "execution_count": 6,
   "metadata": {},
   "outputs": [],
   "source": [
    "#define primary targeting region\n",
    "def gr_color_condition(gr_color, gr_color_err,\n",
    "               r_mag):\n",
    "    \n",
    "    return (gr_color - gr_color_err + 0.06 * (r_mag - 14)) < 0.9\n",
    "\n",
    "\n",
    "def surf_bright_condition(surf_bright_r, surf_bright_r_err,\n",
    "                                 r_mag):\n",
    "    \n",
    "    return (surf_bright_r + surf_bright_r_err\\\n",
    "            - 0.7 * (r_mag - 14)) > 18.5"
   ]
  },
  {
   "cell_type": "code",
   "execution_count": 7,
   "metadata": {},
   "outputs": [],
   "source": [
    "prt_gr_color_cut = gr_color_condition(gr_color,\n",
    "                                      gr_color_err,\n",
    "                                      r_mag)\n",
    "\n",
    "prt_mag_cut = r_mag > 18"
   ]
  },
  {
   "cell_type": "code",
   "execution_count": 8,
   "metadata": {},
   "outputs": [],
   "source": [
    "total_cut = snr_cut &\\\n",
    "            NQ_cut &\\\n",
    "            redshift_cut &\\\n",
    "            color_cut &\\\n",
    "            log_mstar_cut &\\\n",
    "            R50_cut &\\\n",
    "            prt_gr_color_cut &\\\n",
    "            prt_mag_cut"
   ]
  },
  {
   "cell_type": "code",
   "execution_count": 9,
   "metadata": {},
   "outputs": [
    {
     "name": "stdout",
     "output_type": "stream",
     "text": [
      "Grand total of cuts:\n",
      "48620/361748 (~13%)\n"
     ]
    }
   ],
   "source": [
    "print('Grand total of cuts:')\n",
    "print(f'{np.sum(total_cut)}/{len(total_cut)} (~{int(100 * np.sum(total_cut)/len(total_cut))}%)')"
   ]
  },
  {
   "cell_type": "code",
   "execution_count": 11,
   "metadata": {},
   "outputs": [],
   "source": [
    "GAMA_SOM_training_catalog = Table([uberID[total_cut],\n",
    "                                   ra[total_cut], dec[total_cut],\n",
    "                                   r_mag[total_cut],    r_mag_err[total_cut],\n",
    "                                   g_mag[total_cut],    g_mag_err[total_cut],\n",
    "                                   u_mag[total_cut],    u_mag_err[total_cut],\n",
    "                                   i_mag[total_cut],    i_mag_err[total_cut],\n",
    "                                   Z_mag[total_cut],    Z_mag_err[total_cut],\n",
    "                                   ug_color[total_cut], ug_color_err[total_cut],\n",
    "                                   gr_color[total_cut], gr_color_err[total_cut],\n",
    "                                   ri_color[total_cut], ri_color_err[total_cut],\n",
    "                                   iZ_color[total_cut], iZ_color_err[total_cut],                                    \n",
    "                                   mstar[total_cut],    mstar_err[total_cut],\n",
    "                                   redshift[total_cut], \n",
    "                                   # ppp[total_cut],\n",
    "                                   R50[total_cut]],\n",
    "                           names = ['ID',\n",
    "                                    'ra', 'dec',\n",
    "                                    'r_mag',    'r_mag_err',\n",
    "                                    'g_mag',    'g_mag_err',\n",
    "                                    'u_mag',    'u_mag_err',\n",
    "                                    'i_mag',    'i_mag_err',\n",
    "                                    'z_mag',    'z_mag_err',                                    \n",
    "                                    'ug_col',   'ug_col_err', \n",
    "                                    'gr_col',   'gr_col_err',\n",
    "                                    'ri_col',   'ri_col_err',\n",
    "                                    'iz_col',   'iz_col_err',\n",
    "                                    'mstar',    'mstar_err',\n",
    "                                    'redshift',\n",
    "                                    # 'ppp',\n",
    "                                    'half_light_radius'])"
   ]
  },
  {
   "cell_type": "code",
   "execution_count": 12,
   "metadata": {},
   "outputs": [],
   "source": [
    "GAMA_SOM_training_catalog.write('/data2/lsajkov/mpdg/data_products/GAMA/GAMA_SOM_training_catalog_18Jul24.fits',\n",
    "                                overwrite = False)"
   ]
  },
  {
   "cell_type": "markdown",
   "metadata": {},
   "source": [
    "### Log of training catalog parameters:\n",
    "\n",
    "**July 4, 2024**:<br>\n",
    "$\\mathrm{SNR} > 5$,<br>\n",
    "$0<z<1$,<br>\n",
    "$-3<color<3$,<br>\n",
    "$6<\\log(M_*)<12$,<br>\n",
    "$R_{50}<10$<br>\n",
    "\\+ Everything is within the primary targeting region as defined **only** in Thornton+23 condition (1)\n",
    "\n",
    "**July 5, 2024**:<br>\n",
    "$\\mathrm{SNR} > 5$,<br>\n",
    "$0<z<1$,<br>\n",
    "$-3<color<3$,<br>\n",
    "$6<\\log(M_*)<12$,<br>\n",
    "$R_{50}<10$<br>\n",
    "\\+ Everything is within the primary targeting region as defined **only** in Thornton+23 condition (1)\n",
    "\n",
    "**July 8, 2024**:<br>\n",
    "*Using observed magnitudes, rather than restframe* <br>\n",
    "$\\mathrm{SNR} > 5$,<br>\n",
    "$0<z<1$,<br>\n",
    "$-3<color<3$,<br>\n",
    "$6<\\log(M_*)<12$,<br>\n",
    "$R_{50}<10$<br>\n",
    "\\+ Everything is within the primary targeting region as defined **only** in Thornton+23 condition (1)\n",
    "\n",
    "**July 12, 2024**:<br>\n",
    "*Using observed magnitudes, rather than restframe* <br>\n",
    "*Added $Z$-band data* <br>\n",
    "*reorganized colors* <br>\n",
    "$\\mathrm{SNR} > 5$,<br>\n",
    "$0<z<1$,<br>\n",
    "$-1<color<2$,<br>\n",
    "$6<\\log(M_*)<12$,<br>\n",
    "$R_{50}<10$<br>\n",
    "\\+ Everything is within the primary targeting region as defined **only** in Thornton+23 condition (1)\n",
    "\n",
    "**July 15, 2024**:<br>\n",
    "*Using observed magnitudes, rather than restframe* <br>\n",
    "*Added $Z$-band data* <br>\n",
    "*reorganized colors* <br>\n",
    "*added posterior predictive p-value (ppp) cut* <br>\n",
    "$\\mathrm{SNR} > 5$,<br>\n",
    "$0<z<1$,<br>\n",
    "$-1<color<2$,<br>\n",
    "$6<\\log(M_*)<12$,<br>\n",
    "$R_{50}<10$<br>\n",
    "$\\frac{ppp - \\mu(ppp)}{\\sigma(ppp)} < 2$ <br>\n",
    "\\+ Everything is within the primary targeting region as defined **only** in Thornton+23 condition (1)\n",
    "\n",
    "**July 17, 2024**:<br>\n",
    "*Using observed magnitudes, rather than restframe* <br>\n",
    "*Added $Z$-band data* <br>\n",
    "*reorganized colors* <br>\n",
    "*added NQ flag cut* <br>\n",
    "$\\mathrm{SNR} > 5$,<br>\n",
    "$0.002<z<1$,<br>\n",
    "$\\texttt{NQ} \\ge 3$ <br>\n",
    "$-1<color<2$,<br>\n",
    "$6<\\log(M_*)<12$,<br>\n",
    "$R_{50}<10$<br>\n",
    "$\\frac{ppp - \\mu(ppp)}{\\sigma(ppp)} < 2$ <br>\n",
    "\\+ Everything is within the primary targeting region as defined **only** in Thornton+23 condition (1)\n",
    "\n",
    "**July 17, 2024**:<br>\n",
    "*Using observed magnitudes, rather than restframe* <br>\n",
    "*Added $Z$-band data* <br>\n",
    "*reorganized colors* <br>\n",
    "*added NQ flag cut* <br>\n",
    "*added RA/Dec data* <br>\n",
    "$\\mathrm{SNR} > 5$,<br>\n",
    "$0.002<z<1$,<br>\n",
    "$\\texttt{NQ} \\ge 3$ <br>\n",
    "$-1<color<2$,<br>\n",
    "$6<\\log(M_*)<12$,<br>\n",
    "$R_{50}<10$<br>\n",
    "$\\frac{ppp - \\mu(ppp)}{\\sigma(ppp)} < 2$ <br>\n",
    "\\+ Everything is within the primary targeting region as defined **only** in Thornton+23 condition (1)"
   ]
  },
  {
   "cell_type": "code",
   "execution_count": null,
   "metadata": {},
   "outputs": [],
   "source": [
    "fig = plt.figure(figsize = (12, 10))\n",
    "ax = fig.add_subplot()\n",
    "\n",
    "ax.hist(GAMA_SOM_training_catalog['redshift'], bins = 75,\n",
    "        histtype = 'step', color = 'black', linewidth = 3)\n",
    "\n",
    "ax.set_xlabel('Redshift')\n",
    "ax.set_ylabel('Count')\n",
    "\n",
    "fig.savefig('/data2/lsajkov/mpdg/figures/primary_targeting_region/GAMA_ptr_redshift_08jul2024.png',\n",
    "            bbox_inches = 'tight')"
   ]
  },
  {
   "cell_type": "code",
   "execution_count": null,
   "metadata": {},
   "outputs": [],
   "source": [
    "fig = plt.figure(figsize = (12, 10))\n",
    "ax = fig.add_subplot()\n",
    "\n",
    "ax.hist(GAMA_SOM_training_catalog['log_mstar'], bins = 75,\n",
    "        histtype = 'step', color = 'black', linewidth = 3)\n",
    "\n",
    "ax.set_xlabel('$\\log(M_*/M_{\\odot})$')\n",
    "ax.set_ylabel('Count')\n",
    "\n",
    "fig.savefig('/data2/lsajkov/mpdg/figures/primary_targeting_region/GAMA_ptr_logmstar_08jul2024.png',\n",
    "            bbox_inches = 'tight')"
   ]
  },
  {
   "cell_type": "code",
   "execution_count": null,
   "metadata": {},
   "outputs": [],
   "source": [
    "fig = plt.figure(figsize = (12, 10), constrained_layout = True)\n",
    "ax  = fig.add_subplot()\n",
    "\n",
    "plot_cut = snr_cut &\\\n",
    "           redshift_cut &\\\n",
    "           color_cut &\\\n",
    "           log_mstar_cut &\\\n",
    "           R50_cut &\\\n",
    "           prt_gr_color_cut\n",
    "\n",
    "hb  = ax.hexbin(r_mag[plot_cut],\n",
    "                gr_color[plot_cut],\n",
    "                log_mstar[plot_cut],\n",
    "                reduce_C_function = np.median,\n",
    "                cmap = 'inferno',\n",
    "                vmin = 6, vmax = 12)\n",
    "\n",
    "plot_text = 'GAMA dataset\\n(gkvScienceCatv02 +\\nStellarMassesGKVv24)\\n\\n' +\\\n",
    "            'Primary targeting region\\n' +\\\n",
    "           f'Accepted: {np.sum(total_cut)}/{len(total_cut)} (~{int(100 * np.sum(total_cut)/len(total_cut))}%)'\n",
    "\n",
    "ax.text(0.025, 0.025, plot_text, transform = ax.transAxes)\n",
    "\n",
    "ax.set_xlabel('$r$')\n",
    "ax.set_ylabel('$g_{\\mathrm{abs}}-r_{\\mathrm{abs}}$')\n",
    "\n",
    "ax.axvspan(18, 21, color = 'blue', alpha = 0.15, zorder = 0)\n",
    "\n",
    "ax.set_xlim(7.5, 20.8)\n",
    "\n",
    "fig.colorbar(mappable = hb, label = 'Median log$(M_*/M_{\\odot})$')\n",
    "\n",
    "fig.savefig('/data2/lsajkov/mpdg/figures/primary_targeting_region/GAMA_primary_targ_reg_gr_col_08jul2024.png',\n",
    "            dpi = 150, bbox_inches = 'tight')"
   ]
  },
  {
   "cell_type": "markdown",
   "metadata": {},
   "source": [
    "## SOM-ready panchromatic catalog"
   ]
  },
  {
   "cell_type": "code",
   "execution_count": 3,
   "metadata": {},
   "outputs": [],
   "source": [
    "with fits.open('/data2/lsajkov/mpdg/data/GAMA/gkvScienceCatv02.fits') as cat:\n",
    "    ScienceCat = Table(cat[1].data)\n",
    "\n",
    "with fits.open('/data2/lsajkov/mpdg/data/GAMA/StellarMassesGKVv24.fits') as cat:\n",
    "    StellarMassesGKV = Table(cat[1].data)\n",
    "    \n",
    "joined_ScienceCat_StellarMassesGKV = join(ScienceCat, StellarMassesGKV)"
   ]
  },
  {
   "cell_type": "code",
   "execution_count": 4,
   "metadata": {},
   "outputs": [
    {
     "name": "stderr",
     "output_type": "stream",
     "text": [
      "/data2/lsajkov/mpdg/conda/envs/mpdg/lib/python3.12/site-packages/astropy/units/function/logarithmic.py:67: RuntimeWarning: invalid value encountered in log10\n",
      "  return dex.to(self._function_unit, np.log10(x))\n",
      "/var/tmp/lsajkov/ipykernel_3945005/776854917.py:24: RuntimeWarning: divide by zero encountered in divide\n",
      "  SNRs.add_column(cat[f'flux_{band}t']/cat[f'flux_err_{band}t'],\n"
     ]
    }
   ],
   "source": [
    "#construct SOM catalog columns\n",
    "cat = joined_ScienceCat_StellarMassesGKV\n",
    "\n",
    "def errJy_to_errABmag(flux_Jy, fluxerr_Jy):\n",
    "    return -2.5 / (flux_Jy * np.log(10)) * fluxerr_Jy\n",
    "\n",
    "photometric_bands = ['u', 'g', 'r', 'i', 'Z', 'Y', 'J', 'H', 'K']\n",
    "\n",
    "uberID = cat['uberID']\n",
    "\n",
    "ra = cat['RAcen']\n",
    "dec = cat['Deccen']\n",
    "\n",
    "magnitudes = Table()\n",
    "SNRs = Table()\n",
    "\n",
    "for band in photometric_bands:\n",
    "\n",
    "    magnitudes.add_column((cat[f'flux_{band}t'] * u.Jansky).to(u.ABmag).value,\n",
    "                          name = f'{band}_mag')\n",
    "    magnitudes.add_column(errJy_to_errABmag(cat[f'flux_{band}t'], cat[f'flux_err_{band}t']),\n",
    "                          name = f'{band}_mag_err')\n",
    "    \n",
    "    SNRs.add_column(cat[f'flux_{band}t']/cat[f'flux_err_{band}t'],\n",
    "                    name = band)\n",
    "\n",
    "colors = Table()\n",
    "for i, band_hi in enumerate(photometric_bands):\n",
    "    for band_lo in photometric_bands[i + 1:]:\n",
    "        color_column = magnitudes[f'{band_hi}_mag'] - magnitudes[f'{band_lo}_mag']\n",
    "        color_err_column = np.sqrt(magnitudes[f'{band_hi}_mag_err'] ** 2 +\\\n",
    "                                   magnitudes[f'{band_lo}_mag_err'] ** 2)\n",
    "        colors.add_columns([color_column, color_err_column],\n",
    "                   names = [f'{band_hi}{band_lo}_col', f'{band_hi}{band_lo}_col_err'])\n",
    "\n",
    "mstar     = cat['mstar']\n",
    "mstar_err = cat['delmstar']\n",
    "\n",
    "R50 = cat['R50']\n",
    "\n",
    "redshift = cat['Z']\n",
    "ppp      = cat['ppp']\n",
    "\n",
    "NQ = cat['NQ']"
   ]
  },
  {
   "cell_type": "code",
   "execution_count": 9,
   "metadata": {},
   "outputs": [
    {
     "name": "stderr",
     "output_type": "stream",
     "text": [
      "/var/tmp/lsajkov/ipykernel_3945005/2162885304.py:17: DeprecationWarning: Bitwise inversion '~' on bool is deprecated. This returns the bitwise inversion of the underlying int object and is usually not what you expect from negating a bool. Use the 'not' operator for boolean negation or ~int(x) if you really want the bitwise inversion of the underlying int.\n",
      "  if ~color.endswith('_err'):\n",
      "/var/tmp/lsajkov/ipykernel_3945005/2162885304.py:24: RuntimeWarning: invalid value encountered in log10\n",
      "  log_mstar_mask = (np.log10(mstar) > log_mstar_lo) & (np.log10(mstar) < log_mstar_hi)\n"
     ]
    }
   ],
   "source": [
    "#quality_cuts\n",
    "\n",
    "SNR_thresh = 5\n",
    "SNR_mask = SNRs['r'] > SNR_thresh\n",
    "# SNR_mask = np.ones(len(cat), dtype = bool)\n",
    "# for band in photometric_bands:\n",
    "#     SNR_mask = SNR_mask & (SNRs[band] > SNR_thresh)\n",
    "\n",
    "redshift_mask = (redshift >= 0.002) & (redshift < 1)\n",
    "\n",
    "NQ_mask = NQ >= 3\n",
    "\n",
    "color_lo = -1\n",
    "color_hi = 3\n",
    "color_mask = np.ones(len(cat), dtype = bool)\n",
    "for color in colors.colnames:\n",
    "    if ~color.endswith('_err'):\n",
    "        color_mask = color_mask &\\\n",
    "                    (colors[color] > color_lo) & (colors[color] < color_hi) &\\\n",
    "                    ~np.isnan(colors[color])\n",
    "        \n",
    "log_mstar_lo = 6\n",
    "log_mstar_hi = 12\n",
    "log_mstar_mask = (np.log10(mstar) > log_mstar_lo) & (np.log10(mstar) < log_mstar_hi)\n",
    "\n",
    "R50_mask = R50 < 10\n",
    "\n",
    "r_mag_mask = magnitudes['r_mag'] > 18"
   ]
  },
  {
   "cell_type": "code",
   "execution_count": 10,
   "metadata": {},
   "outputs": [],
   "source": [
    "total_mask = SNR_mask &\\\n",
    "             redshift_mask &\\\n",
    "             color_mask &\\\n",
    "             log_mstar_mask &\\\n",
    "             R50_mask &\\\n",
    "             r_mag_mask"
   ]
  },
  {
   "cell_type": "code",
   "execution_count": 11,
   "metadata": {},
   "outputs": [],
   "source": [
    "GAMA_SOM_training_catalog = Table([uberID,\n",
    "                                   ra, dec,\n",
    "                                   mstar, redshift,\n",
    "                                   redshift,\n",
    "                                   R50],\n",
    "                          names = ['ID',\n",
    "                                   'ra', 'dec',\n",
    "                                   'mstar', 'mstar_err',\n",
    "                                   'redshift',\n",
    "                                   'half_light_radius'])\n",
    "\n",
    "GAMA_SOM_training_catalog.add_columns(colors.columns,\n",
    "                                      indexes = [3] * len(colors.colnames))\n",
    "\n",
    "GAMA_SOM_training_catalog.add_columns(magnitudes.columns,\n",
    "                                      indexes = [3] * len(magnitudes.colnames))\n",
    "\n",
    "GAMA_SOM_training_catalog = GAMA_SOM_training_catalog[total_mask]"
   ]
  },
  {
   "cell_type": "code",
   "execution_count": 13,
   "metadata": {},
   "outputs": [],
   "source": [
    "GAMA_SOM_training_catalog.write('/data2/lsajkov/mpdg/data_products/GAMA/GAMA_SOM_panchromatic_catalog_30Jul24.fits',\n",
    "                                overwrite = False)"
   ]
  },
  {
   "cell_type": "markdown",
   "metadata": {},
   "source": [
    "## SOM-ready restframe catalog"
   ]
  },
  {
   "cell_type": "code",
   "execution_count": 2,
   "metadata": {},
   "outputs": [],
   "source": [
    "with fits.open('/data2/lsajkov/mpdg/data/GAMA/gkvScienceCatv02.fits') as cat:\n",
    "    ScienceCat = Table(cat[1].data)\n",
    "\n",
    "with fits.open('/data2/lsajkov/mpdg/data/GAMA/StellarMassesGKVv24.fits') as cat:\n",
    "    StellarMassesGKV = Table(cat[1].data)\n",
    "    \n",
    "joined_ScienceCat_StellarMassesGKV = join(ScienceCat, StellarMassesGKV)"
   ]
  },
  {
   "cell_type": "code",
   "execution_count": null,
   "metadata": {},
   "outputs": [],
   "source": [
    "#construct SOM catalog columns\n",
    "cat = joined_ScienceCat_StellarMassesGKV\n",
    "\n",
    "def errJy_to_errABmag(flux_Jy, fluxerr_Jy):\n",
    "    return -2.5 / (flux_Jy * np.log(10)) * fluxerr_Jy\n",
    "\n",
    "uberID = cat['uberID']\n",
    "\n",
    "r_mag = (cat['flux_rt'] * u.Jansky).to(u.ABmag).value\n",
    "r_mag_err = errJy_to_errABmag(cat['flux_rt'], cat['flux_err_rt'])\n",
    "r_snr = cat['flux_rt']/cat['flux_err_rt']\n",
    "\n",
    "g_mag = (cat['flux_gt'] * u.Jansky).to(u.ABmag).value\n",
    "g_mag_err = errJy_to_errABmag(cat['flux_gt'], cat['flux_err_gt'])\n",
    "g_snr = cat['flux_gt']/cat['flux_err_gt']\n",
    "\n",
    "u_mag = (cat['flux_ut'] * u.Jansky).to(u.ABmag).value\n",
    "u_mag_err = errJy_to_errABmag(cat['flux_ut'], cat['flux_err_ut'])\n",
    "u_snr = cat['flux_ut']/cat['flux_err_ut']\n",
    "\n",
    "i_mag = (cat['flux_it'] * u.Jansky).to(u.ABmag).value\n",
    "i_mag_err = errJy_to_errABmag(cat['flux_it'], cat['flux_err_it'])\n",
    "i_snr = cat['flux_it']/cat['flux_err_it']\n",
    "\n",
    "Z_mag = (cat['flux_Zt'] * u.Jansky).to(u.ABmag).value\n",
    "Z_mag_err = errJy_to_errABmag(cat['flux_Zt'], cat['flux_err_Zt'])\n",
    "Z_snr = cat['flux_Zt']/cat['flux_err_Zt']\n",
    "\n",
    "ur_rest     = cat['uminusr']\n",
    "ur_rest_err = cat['deluminusr']\n",
    "\n",
    "gi_rest     = cat['gminusi']\n",
    "gi_rest_err = cat['delgminusi']\n",
    "\n",
    "\n",
    "\n",
    "mstar     = cat['mstar']\n",
    "mstar_err = cat['delmstar']\n",
    "\n",
    "R50 = cat['R50']\n",
    "\n",
    "redshift = cat['Z']\n",
    "ppp      = cat['ppp']"
   ]
  }
 ],
 "metadata": {
  "kernelspec": {
   "display_name": "Python 3",
   "language": "python",
   "name": "python3"
  },
  "language_info": {
   "codemirror_mode": {
    "name": "ipython",
    "version": 3
   },
   "file_extension": ".py",
   "mimetype": "text/x-python",
   "name": "python",
   "nbconvert_exporter": "python",
   "pygments_lexer": "ipython3",
   "version": "3.12.3"
  },
  "vscode": {
   "interpreter": {
    "hash": "0403da0954771eeaa8d0c88cb9286d36e68be9a41b0796aa6510970447a9efaa"
   }
  }
 },
 "nbformat": 4,
 "nbformat_minor": 2
}
