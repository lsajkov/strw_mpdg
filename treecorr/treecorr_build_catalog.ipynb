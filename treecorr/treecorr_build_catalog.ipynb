{
 "cells": [
  {
   "cell_type": "code",
   "execution_count": 103,
   "metadata": {},
   "outputs": [],
   "source": [
    "import os\n",
    "from fnmatch import fnmatch\n",
    "\n",
    "import numpy as np\n",
    "import matplotlib as mpl\n",
    "import matplotlib.pyplot as plt\n",
    "\n",
    "import fitsio\n",
    "\n",
    "from astropy.io import fits, ascii\n",
    "from astropy.table import Table\n",
    "import astropy.units as u\n",
    "import astropy.constants as const\n",
    "from astropy.cosmology import LambdaCDM\n",
    "cosmo = LambdaCDM(H0 = 70, Om0 = 0.3, Ode0 = 0.7)\n",
    "\n",
    "plt.rcParams.update({\n",
    "    'font.family'      :'serif',\n",
    "    'font.size'        : 24,\n",
    "    'font.serif'       :'Georgia',\n",
    "    'axes.labelsize'   :'large',\n",
    "    'mathtext.fontset' :'stix',\n",
    "    'axes.linewidth'   :  1.5,\n",
    "    'xtick.direction'  :'in',\n",
    "    'ytick.direction'  :'in',\n",
    "    'xtick.major.size' : 5,\n",
    "    'ytick.major.size' : 5,\n",
    "    'xtick.major.width': 1.2,\n",
    "    'ytick.major.width': 1.2,\n",
    "})\n",
    "\n",
    "import treecorr"
   ]
  },
  {
   "cell_type": "markdown",
   "metadata": {},
   "source": [
    "KiDS-1000 tomographic binning: <br>\n",
    "| Bin |    $z_{\\rm B}$ range     |       $m$        |\n",
    "|-----|:------------------------:|:----------------:|\n",
    "|  1  |$0.1 < z_{\\rm B} \\leq 0.3$|$-0.009 \\pm 0.019$|\n",
    "|  2  |$0.3 < z_{\\rm B} \\leq 0.5$|$-0.011 \\pm 0.020$|\n",
    "|  3  |$0.5 < z_{\\rm B} \\leq 0.7$|$-0.015 \\pm 0.017$|\n",
    "|  4  |$0.7 < z_{\\rm B} \\leq 0.9$|$ 0.002 \\pm 0.012$|\n",
    "|  5  |$0.9 < z_{\\rm B} \\leq 1.2$|$ 0.007 \\pm 0.010$|<br>\n",
    "\n",
    "Drawn from Giblin et al. (2020)\n"
   ]
  },
  {
   "cell_type": "code",
   "execution_count": 2,
   "metadata": {},
   "outputs": [],
   "source": [
    "# bin1_data = fitsio.read('/data2/lsajkov/mpdg/data/KiDS/KiDS_DR4.1_ugriZYJHKs_SOM_gold_WL_cat/KiDS_DR4.1_WL_bin1.fits', ext = 1)\n",
    "# bin1_data = Table(bin1_data)\n",
    "\n",
    "# bin2_data = fitsio.read('/data2/lsajkov/mpdg/data/KiDS/KiDS_DR4.1_ugriZYJHKs_SOM_gold_WL_cat/KiDS_DR4.1_WL_bin2.fits', ext = 1)\n",
    "# bin2_data = Table(bin2_data)\n",
    "\n",
    "bin3_data = fitsio.read('/data2/lsajkov/mpdg/data/KiDS/KiDS_DR4.1_ugriZYJHKs_SOM_gold_WL_cat/KiDS_DR4.1_WL_bin3.fits', ext = 1)\n",
    "bin3_data = Table(bin3_data)\n",
    "\n",
    "# bin4_data = fitsio.read('/data2/lsajkov/mpdg/data/KiDS/KiDS_DR4.1_ugriZYJHKs_SOM_gold_WL_cat/KiDS_DR4.1_WL_bin4.fits', ext = 1)\n",
    "# bin4_data = Table(bin4_data)\n",
    "\n",
    "# bin5_data = fitsio.read('/data2/lsajkov/mpdg/data/KiDS/KiDS_DR4.1_ugriZYJHKs_SOM_gold_WL_cat/KiDS_DR4.1_WL_bin5.fits', ext = 1)\n",
    "# bin5_data = Table(bin5_data)"
   ]
  },
  {
   "cell_type": "code",
   "execution_count": 3,
   "metadata": {},
   "outputs": [],
   "source": [
    "# src_n_z_bin1 = ascii.read('/data2/lsajkov/mpdg/data/KiDS/SOM_N_of_Z/K1000_NS_V1.0.0A_ugriZYJHKs_photoz_SG_mask_LF_svn_309c_2Dbins_v2_SOMcols_Fid_blindC_TOMO1_Nz.asc')\n",
    "# src_n_z_bin2 = ascii.read('/data2/lsajkov/mpdg/data/KiDS/SOM_N_of_Z/K1000_NS_V1.0.0A_ugriZYJHKs_photoz_SG_mask_LF_svn_309c_2Dbins_v2_SOMcols_Fid_blindC_TOMO2_Nz.asc') \n",
    "src_n_z_bin3 = ascii.read('/data2/lsajkov/mpdg/data/KiDS/SOM_N_of_Z/K1000_NS_V1.0.0A_ugriZYJHKs_photoz_SG_mask_LF_svn_309c_2Dbins_v2_SOMcols_Fid_blindC_TOMO3_Nz.asc') \n",
    "# src_n_z_bin4 = ascii.read('/data2/lsajkov/mpdg/data/KiDS/SOM_N_of_Z/K1000_NS_V1.0.0A_ugriZYJHKs_photoz_SG_mask_LF_svn_309c_2Dbins_v2_SOMcols_Fid_blindC_TOMO4_Nz.asc') \n",
    "# src_n_z_bin5 = ascii.read('/data2/lsajkov/mpdg/data/KiDS/SOM_N_of_Z/K1000_NS_V1.0.0A_ugriZYJHKs_photoz_SG_mask_LF_svn_309c_2Dbins_v2_SOMcols_Fid_blindC_TOMO5_Nz.asc') "
   ]
  },
  {
   "cell_type": "code",
   "execution_count": 4,
   "metadata": {},
   "outputs": [],
   "source": [
    "# src_n_z_mean_bin1 = np.dot(src_n_z_bin1['col1'], src_n_z_bin1['col2'])\n",
    "# src_n_z_mean_bin2 = np.dot(src_n_z_bin2['col1'], src_n_z_bin2['col2'])\n",
    "src_n_z_mean_bin3 = np.dot(src_n_z_bin3['col1'], src_n_z_bin3['col2'])\n",
    "# src_n_z_mean_bin4 = np.dot(src_n_z_bin4['col1'], src_n_z_bin4['col2'])\n",
    "# src_n_z_mean_bin5 = np.dot(src_n_z_bin5['col1'], src_n_z_bin5['col2'])"
   ]
  },
  {
   "cell_type": "code",
   "execution_count": 141,
   "metadata": {},
   "outputs": [],
   "source": [
    "lens_n_z_md = ascii.read('/data2/lsajkov/mpdg/data_products/KiDS/WL/n_z/mstar_md_n_z')"
   ]
  },
  {
   "cell_type": "code",
   "execution_count": 6,
   "metadata": {},
   "outputs": [],
   "source": [
    "lens_n_z_md_mean = np.dot(lens_n_z_md['col0'], lens_n_z_md['col1'])"
   ]
  },
  {
   "cell_type": "code",
   "execution_count": 7,
   "metadata": {},
   "outputs": [],
   "source": [
    "def degree_to_hMpc(degree, redshift):\n",
    "    radian = (degree * u.degree).to(u.radian)\n",
    "    comoving_dist_Mpc = cosmo.comoving_distance(redshift).value\n",
    "    hMpc = comoving_dist_Mpc * np.tan(radian)\n",
    "    return hMpc\n",
    "\n",
    "def hMpc_to_degree(hMpc, redshift):\n",
    "    comoving_dist_Mpc = cosmo.comoving_distance(redshift).value\n",
    "    radian = np.arctan(hMpc/comoving_dist_Mpc)\n",
    "    degree = (radian * u.radian).to(u.degree)\n",
    "    return degree.value"
   ]
  },
  {
   "cell_type": "markdown",
   "metadata": {},
   "source": [
    "Attempt to measure signal in tomographic bin 3, higher mass dwarfs"
   ]
  },
  {
   "cell_type": "code",
   "execution_count": 73,
   "metadata": {},
   "outputs": [],
   "source": [
    "source_catalog   = '/data2/lsajkov/mpdg/data/KiDS/KiDS_DR4.1_ugriZYJHKs_SOM_gold_WL_cat/KiDS_DR4.1_WL_bin3.fits'\n",
    "\n",
    "src_ra      = fitsio.read(source_catalog, columns = ['RAJ2000'], ext = 1)\n",
    "src_ra      = np.array([ra[0] for ra in src_ra])\n",
    "\n",
    "src_dec     = fitsio.read(source_catalog, columns = ['DECJ2000'], ext = 1)\n",
    "src_dec     = np.array([dec[0] for dec in src_dec])\n",
    "\n",
    "src_g1      = fitsio.read(source_catalog, columns = ['e1'], ext = 1)\n",
    "src_g1      = np.array([g1[0] for g1 in src_g1])\n",
    "\n",
    "src_g2      = fitsio.read(source_catalog, columns = ['e2'], ext = 1) \n",
    "src_g2      = np.array([g2[0] for g2 in src_g2])\n",
    "\n",
    "src_weights = fitsio.read(source_catalog, columns = ['weight'], ext = 1)\n",
    "src_weights = np.array([weight[0] for weight in src_weights])\n",
    "\n",
    "sources_bin3 = treecorr.Catalog(ra = src_ra, dec = src_dec,\n",
    "                                ra_units = 'degree', dec_units = 'degree',\n",
    "                                g1 = src_g1, g2 = src_g2,\n",
    "                                w = src_weights)\n",
    "\n",
    "# sources_bin3 = treecorr.Catalog(ra = bin3_data['RAJ2000'], dec = bin3_data['DECJ2000'],\n",
    "#                                 g1 = bin3_data['e1'], g2 = bin3_data['e2'],\n",
    "#                                 w = bin3_data['weight'],\n",
    "#                                 ra_units = 'degrees', dec_units = 'degrees')"
   ]
  },
  {
   "cell_type": "code",
   "execution_count": 74,
   "metadata": {},
   "outputs": [],
   "source": [
    "lens_catalog   = '/data2/lsajkov/mpdg/data_products/predicted_catalogs/KiDS_mstar_md_bin_31Jul24.fits'\n",
    "lens_ra        = fitsio.read(lens_catalog, columns = ['ra'])\n",
    "lens_ra_rad    = (lens_ra * u.deg).to(u.rad).value\n",
    "lens_dec       = fitsio.read(lens_catalog, columns = ['dec'])\n",
    "lens_dec_rad   = (lens_dec * u.deg).to(u.rad).value\n",
    "lens_redshifts = fitsio.read(lens_catalog, columns = ['redshift_pred'])\n",
    "\n",
    "lens_distances = cosmo.comoving_distance([z[0] for z in lens_redshifts])"
   ]
  },
  {
   "cell_type": "code",
   "execution_count": 80,
   "metadata": {},
   "outputs": [],
   "source": [
    "lens_cat = treecorr.Catalog(ra = lens_ra, dec = lens_dec, \n",
    "                            ra_units = 'degrees', dec_units = 'degrees')"
   ]
  },
  {
   "cell_type": "code",
   "execution_count": 97,
   "metadata": {},
   "outputs": [],
   "source": [
    "log10_hMpc_bin_lo = -2\n",
    "log10_hMpc_bin_hi = 1\n",
    "bins = 20\n",
    "hMpc_bins = np.logspace(log10_hMpc_bin_lo, log10_hMpc_bin_hi, bins)\n",
    "\n",
    "degree_bins = hMpc_to_degree(hMpc_bins, lens_n_z_md_mean)"
   ]
  },
  {
   "cell_type": "code",
   "execution_count": 98,
   "metadata": {},
   "outputs": [],
   "source": [
    "config = {'nbins':   bins,\n",
    "          'min_sep': degree_bins[0],\n",
    "          'max_sep': degree_bins[-1],\n",
    "          'sep_units': 'degree'}"
   ]
  },
  {
   "cell_type": "code",
   "execution_count": 99,
   "metadata": {},
   "outputs": [],
   "source": [
    "ngc = treecorr.NGCorrelation(config = config)"
   ]
  },
  {
   "cell_type": "code",
   "execution_count": 102,
   "metadata": {},
   "outputs": [],
   "source": [
    "ngc.process(lens_cat, sources_bin3)"
   ]
  },
  {
   "cell_type": "code",
   "execution_count": 108,
   "metadata": {},
   "outputs": [
    {
     "data": {
      "text/plain": [
       "(array([], dtype=int64), array([], dtype=int64), array([], dtype=float64))"
      ]
     },
     "execution_count": 108,
     "metadata": {},
     "output_type": "execute_result"
    }
   ],
   "source": [
    "ngc.sample_pairs(0, lens_cat, sources_bin3,\n",
    "                 min_sep = config['min_sep'], max_sep = config['max_sep'])"
   ]
  },
  {
   "cell_type": "code",
   "execution_count": 115,
   "metadata": {},
   "outputs": [
    {
     "data": {
      "text/plain": [
       "array([2.91080645e-05, 1.41411699e-05, 7.07401936e-06, 3.56689426e-06,\n",
       "       1.80972021e-06, 9.17867711e-07, 4.70852311e-07, 2.39481724e-07,\n",
       "       1.22495604e-07, 6.25220734e-08, 3.22143934e-08, 1.65793989e-08,\n",
       "       8.46088121e-09, 4.30114409e-09, 2.19640739e-09, 1.12928603e-09,\n",
       "       5.86180403e-10, 3.07690349e-10, 1.62683482e-10, 8.74781187e-11])"
      ]
     },
     "execution_count": 115,
     "metadata": {},
     "output_type": "execute_result"
    }
   ],
   "source": [
    "ngc.varxi"
   ]
  },
  {
   "cell_type": "code",
   "execution_count": null,
   "metadata": {},
   "outputs": [],
   "source": [
    "#average critical surface density\n",
    "const = 4 * np.pi * const.G / (const.c**2)\n",
    "lens_integral = \n",
    "# avg_sigma_crit = "
   ]
  },
  {
   "cell_type": "code",
   "execution_count": 157,
   "metadata": {},
   "outputs": [
    {
     "data": {
      "text/plain": [
       "Text(0.35, 0.85, 'Source bin: $0.5 < z \\\\leq 0.7$')"
      ]
     },
     "execution_count": 157,
     "metadata": {},
     "output_type": "execute_result"
    },
    {
     "data": {
      "image/png": "[encoded data removed]",
      "text/plain": [
       "<Figure size 1200x1000 with 1 Axes>"
      ]
     },
     "metadata": {},
     "output_type": "display_data"
    }
   ],
   "source": [
    "fig = plt.figure(figsize = (12, 10))\n",
    "ax = fig.add_subplot()\n",
    "\n",
    "ax.errorbar(hMpc_bins[ngc.xi > 0], ngc.xi[ngc.xi > 0],\n",
    "            yerr = np.sqrt(ngc.varxi[ngc.xi > 0]),\n",
    "            color = 'none', ecolor = 'black', capsize = 2,\n",
    "            marker = 's', markersize = 6, markerfacecolor = 'black'\n",
    "            )\n",
    "ax.set_xscale('log')\n",
    "ax.set_yscale('log')\n",
    "ax.set_xlabel(r'$R\\, [h^{-1} {\\rm\\, Mpc}]$')\n",
    "ax.set_ylabel(r'$\\langle \\gamma_T \\rangle$')\n",
    "\n",
    "ax.text(0.35, 0.9, r'Lens bin: $10^{8.5} < \\langle M_* \\rangle \\leq 10^{9.5} (\\langle z \\rangle \\sim 0.09)$',\n",
    "        transform = ax.transAxes)\n",
    "ax.text(0.35, 0.85, r'Source bin: $0.5 < z \\leq 0.7$',\n",
    "        transform = ax.transAxes)"
   ]
  },
  {
   "cell_type": "code",
   "execution_count": null,
   "metadata": {},
   "outputs": [],
   "source": []
  },
  {
   "cell_type": "code",
   "execution_count": null,
   "metadata": {},
   "outputs": [],
   "source": [
    "plt.plot(n_z_bin1['col1'],\n",
    "         n_z_bin1['col2'])"
   ]
  },
  {
   "cell_type": "code",
   "execution_count": null,
   "metadata": {},
   "outputs": [],
   "source": [
    "avg_sigma_crit = "
   ]
  }
 ],
 "metadata": {
  "kernelspec": {
   "display_name": "mpdg",
   "language": "python",
   "name": "python3"
  },
  "language_info": {
   "codemirror_mode": {
    "name": "ipython",
    "version": 3
   },
   "file_extension": ".py",
   "mimetype": "text/x-python",
   "name": "python",
   "nbconvert_exporter": "python",
   "pygments_lexer": "ipython3",
   "version": "3.12.3"
  }
 },
 "nbformat": 4,
 "nbformat_minor": 2
}
