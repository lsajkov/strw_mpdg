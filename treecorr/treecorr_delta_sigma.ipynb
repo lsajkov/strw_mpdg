{
 "cells": [
  {
   "cell_type": "markdown",
   "metadata": {},
   "source": [
    "# Measure excess surface density for a lens bin/source bin pair.\n"
   ]
  },
  {
   "cell_type": "code",
   "execution_count": 1,
   "metadata": {},
   "outputs": [],
   "source": [
    "import sys\n",
    "from glob import glob\n",
    "\n",
    "import numpy as np\n",
    "import matplotlib as mpl\n",
    "import matplotlib.pyplot as plt\n",
    "\n",
    "import fitsio\n",
    "\n",
    "from astropy.io import fits, ascii\n",
    "from astropy.table import Table\n",
    "import astropy.units as u\n",
    "import astropy.constants as const\n",
    "from astropy.cosmology import LambdaCDM\n",
    "cosmo = LambdaCDM(H0 = 70, Om0 = 0.3, Ode0 = 0.7)\n",
    "\n",
    "plt.rcParams.update({\n",
    "    'font.family'      :'serif',\n",
    "    'font.size'        : 24,\n",
    "    'font.serif'       :'Georgia',\n",
    "    'axes.labelsize'   :'large',\n",
    "    'mathtext.fontset' :'stix',\n",
    "    'axes.linewidth'   :  1.5,\n",
    "    'xtick.direction'  :'in',\n",
    "    'ytick.direction'  :'in',\n",
    "    'xtick.major.size' : 5,\n",
    "    'ytick.major.size' : 5,\n",
    "    'xtick.major.width': 1.2,\n",
    "    'ytick.major.width': 1.2,\n",
    "})\n",
    "\n",
    "import treecorr"
   ]
  },
  {
   "cell_type": "markdown",
   "metadata": {},
   "source": [
    "KiDS SOM-derived lens tomographic bins.\n",
    "  | Bin | $\\langle z \\rangle$  | $\\langle M_* \\rangle$ | Notes |\n",
    "  |:----|:----:|:-------:|:------------------------------------|\n",
    "  | 1   | 0.07 |  8.58   |\n",
    "  | 2   | 0.09 |  9.20   |\n",
    "  | 3   | 0.16 |  9.92   | NOT used in this analysis\n",
    "\n",
    "\n",
    "KiDS-1000 source tomographic bins. Drawn from Giblin et al. (2020):\n",
    "  | Bin |   z_B range   |        $m$        |\n",
    "  |:----|:-------------:|:---------------:|\n",
    "  | 1   |   $ 0.1 < z \\leq 0.3$   | $-0.009 \\pm 0.019$ |\n",
    "  | 2   |   $ 0.3 < z \\leq 0.5$   | $-0.011 \\pm 0.020$ |\n",
    "  | 3   |   $ 0.5 < z \\leq 0.7$   | $-0.015 \\pm 0.017$ |\n",
    "  | 4   |   $ 0.7 < z \\leq 0.9$   | $ 0.002 \\pm 0.012$ |\n",
    "  | 5   |   $ 0.9 < z \\leq 1.2$   | $ 0.007 \\pm 0.010$ |\n"
   ]
  },
  {
   "cell_type": "code",
   "execution_count": 2,
   "metadata": {},
   "outputs": [],
   "source": [
    "######\n",
    "### Define which bins to use\n",
    "lens_bin = 1\n",
    "srce_bin = 2"
   ]
  },
  {
   "cell_type": "code",
   "execution_count": 3,
   "metadata": {},
   "outputs": [],
   "source": [
    "correction_m_array = [-0.009, -0.011, -0.015, 0.002, 0.007]\n",
    "\n",
    "def degree_to_hMpc(degree, redshift):\n",
    "    radian = (degree * u.degree).to(u.radian)\n",
    "    comoving_dist_Mpc = cosmo.comoving_distance(redshift).value\n",
    "    hMpc = comoving_dist_Mpc * np.tan(radian)\n",
    "    return hMpc\n",
    "\n",
    "def hMpc_to_degree(hMpc, redshift):\n",
    "    comoving_dist_Mpc = cosmo.comoving_distance(redshift).value\n",
    "    radian = np.arctan(hMpc/comoving_dist_Mpc)\n",
    "    degree = (radian * u.radian).to(u.degree)\n",
    "    return degree.value"
   ]
  },
  {
   "cell_type": "code",
   "execution_count": 4,
   "metadata": {},
   "outputs": [
    {
     "name": "stdout",
     "output_type": "stream",
     "text": [
      "Loaded lens catalog\n",
      "Loaded source catalog\n"
     ]
    }
   ],
   "source": [
    "######\n",
    "###  Import & define catalogs\n",
    "\n",
    "lens_bin_directory = '/data2/lsajkov/mpdg/data_products/predicted_catalogs/KiDS_dwarf_galaxy_candidates'\n",
    "srce_bin_directory = '/data2/lsajkov/mpdg/data/KiDS/KiDS_DR4.1_ugriZYJHKs_SOM_gold_WL_cat'\n",
    "\n",
    "lens_n_z_directory = '/data2/lsajkov/mpdg/data_products/KiDS/WL/n_z'\n",
    "srce_n_z_directory = '/data2/lsajkov/mpdg/data/KiDS/SOM_N_of_Z'\n",
    "\n",
    "# Lens catalog\n",
    "lens_catalog_path = f'{lens_bin_directory}/KiDS_dwarf_galaxy_bin{lens_bin}.fits'\n",
    "\n",
    "lens_ra  = fitsio.read(lens_catalog_path, columns = ['ra'])\n",
    "lens_dec = fitsio.read(lens_catalog_path, columns = ['dec'])\n",
    "\n",
    "lens_catalog = treecorr.Catalog(ra = lens_ra, dec = lens_dec,\n",
    "                                ra_units = 'degrees', dec_units = 'degrees')\n",
    "print('Loaded lens catalog')\n",
    "\n",
    "lens_n_z_path = f'{lens_n_z_directory}/KiDS_n_z_bin{lens_bin}'\n",
    "lens_n_z_array = ascii.read(lens_n_z_path)\n",
    "\n",
    "# Source catalog\n",
    "srce_catalog_path = f'{srce_bin_directory}/KiDS_DR4.1_WL_bin{srce_bin}.fits'\n",
    "\n",
    "srce_ra      = fitsio.read(srce_catalog_path, columns = ['RAJ2000'],  ext = 1)\n",
    "srce_dec     = fitsio.read(srce_catalog_path, columns = ['DECJ2000'], ext = 1)\n",
    "srce_g1      = fitsio.read(srce_catalog_path, columns = ['e1'],       ext = 1)\n",
    "srce_g2      = fitsio.read(srce_catalog_path, columns = ['e2'],       ext = 1)\n",
    "srce_weights = fitsio.read(srce_catalog_path, columns = ['weight'],   ext = 1)\n",
    "\n",
    "srce_catalog = treecorr.Catalog(ra = srce_ra, dec = srce_dec,\n",
    "                                ra_units = 'degrees', dec_units = 'degrees',\n",
    "                                g1 = srce_g1, g2 = srce_g2,\n",
    "                                w  = srce_weights)\n",
    "print('Loaded source catalog')\n",
    "\n",
    "srce_n_z_path = f'{srce_n_z_directory}/K1000_NS_V1.0.0A_ugriZYJHKs_photoz_SG_mask_LF_svn_309c_2Dbins_v2_SOMcols_Fid_blindC_TOMO{srce_bin}_Nz.asc'\n",
    "srce_n_z_array = ascii.read(srce_n_z_path)"
   ]
  },
  {
   "cell_type": "code",
   "execution_count": 5,
   "metadata": {},
   "outputs": [],
   "source": [
    "######\n",
    "### Define bins\n",
    "lens_n_z_expected = np.dot(lens_n_z_array['col0'], lens_n_z_array['col1'])\n",
    "\n",
    "log10_hMpc_bin_lo = -2\n",
    "log10_hMpc_bin_hi = 1\n",
    "bins = 15\n",
    "hMpc_bins = np.logspace(log10_hMpc_bin_lo, log10_hMpc_bin_hi, bins)\n",
    "\n",
    "degree_bins = hMpc_to_degree(hMpc_bins, lens_n_z_expected)"
   ]
  },
  {
   "cell_type": "code",
   "execution_count": 6,
   "metadata": {},
   "outputs": [],
   "source": [
    "######\n",
    "### Define treecorr config\n",
    "\n",
    "config = {'nbins':     bins,\n",
    "          'min_sep':   degree_bins[0],\n",
    "          'max_sep':   degree_bins[-1],\n",
    "          'sep_units': 'degree'}"
   ]
  },
  {
   "cell_type": "code",
   "execution_count": 7,
   "metadata": {},
   "outputs": [],
   "source": [
    "######\n",
    "### Calculate shear correlation\n",
    "\n",
    "ngc = treecorr.NGCorrelation(config = config)\n",
    "ngc.process(lens_catalog, srce_catalog)"
   ]
  },
  {
   "cell_type": "code",
   "execution_count": 8,
   "metadata": {},
   "outputs": [],
   "source": [
    "######\n",
    "### Calculate average surface critical density\n",
    "\n",
    "G_in_pc_msun_s = const.G.to(u.parsec**3/(u.Msun * u.s**2))\n",
    "c_in_pc_s      = const.c.to(u.parsec/u.s)\n",
    "\n",
    "constant_factor = 4 * np.pi * G_in_pc_msun_s / (c_in_pc_s**2)"
   ]
  },
  {
   "cell_type": "code",
   "execution_count": 9,
   "metadata": {},
   "outputs": [
    {
     "name": "stdout",
     "output_type": "stream",
     "text": [
      "Lens n(z) integrates to 1.00\n",
      "Source n(z) integrates to 1.00\n",
      "Units of average critical density: pc2 / solMass\n"
     ]
    }
   ],
   "source": [
    "#lens integral\n",
    "\n",
    "lens_redshifts     = lens_n_z_array['col0']\n",
    "lens_dz            = lens_redshifts[1] - lens_redshifts[0] #the redshift bins are linear, all deltas are the same\n",
    "lens_ang_diam_dist = cosmo.angular_diameter_distance(lens_redshifts).to(u.parsec)\n",
    "lens_n_z           = lens_n_z_array['col1']\n",
    "lens_n_z          /= np.sum(lens_n_z * lens_dz) #normalize n(z) so it integrates to 1\n",
    "print(f'Lens n(z) integrates to {np.sum(lens_n_z * lens_dz):.2f}')\n",
    "\n",
    "lens_integral = np.sum(lens_n_z * (1 + lens_redshifts)**2 * lens_ang_diam_dist * lens_dz)\n",
    "\n",
    "#source integral\n",
    "behind_lens_idx = srce_n_z_array['col1'] > lens_n_z_expected\n",
    "\n",
    "srce_redshifts = srce_n_z_array[behind_lens_idx]['col1']\n",
    "srce_dz        = srce_redshifts[1] - srce_redshifts[0] #the redshift bins are linear, all deltas are the same\n",
    "srce_ang_diam_dist = cosmo.angular_diameter_distance(srce_redshifts).to(u.parsec)\n",
    "srce_ang_diam_dist_w_lens = cosmo.angular_diameter_distance_z1z2(lens_n_z_expected, srce_redshifts).to(u.parsec)\n",
    "srce_n_z = srce_n_z_array[behind_lens_idx]['col2']\n",
    "srce_n_z /= np.sum(srce_n_z * lens_dz)\n",
    "print(f'Source n(z) integrates to {np.sum(srce_n_z * lens_dz):.2f}')\n",
    "\n",
    "srce_integral = np.sum(srce_n_z * srce_ang_diam_dist_w_lens / srce_ang_diam_dist * srce_dz)\n",
    "\n",
    "#total integral\n",
    "avg_sigma_crit = constant_factor * lens_integral * srce_integral\n",
    "print(f'Units of average critical density: {avg_sigma_crit.unit}')"
   ]
  },
  {
   "cell_type": "code",
   "execution_count": 10,
   "metadata": {},
   "outputs": [
    {
     "name": "stdout",
     "output_type": "stream",
     "text": [
      "Final unit of excess surface density: solMass / pc2\n"
     ]
    }
   ],
   "source": [
    "######\n",
    "### Get excess surface density\n",
    "\n",
    "shear_correlation_real = ngc.xi\n",
    "shear_correlation_imag = ngc.xi_im\n",
    "\n",
    "shear_correlation_covar = ngc.varxi\n",
    "\n",
    "correction_m = correction_m_array[int(srce_bin) - 1]\n",
    "\n",
    "excess_surf_density = shear_correlation_real/(1 + correction_m)/avg_sigma_crit\n",
    "\n",
    "print(f'Final unit of excess surface density: {excess_surf_density.unit}')"
   ]
  },
  {
   "cell_type": "code",
   "execution_count": 12,
   "metadata": {},
   "outputs": [],
   "source": [
    "save_results_directory = '/data2/lsajkov/mpdg/data_products/WL_excess_surf_density_results/02Aug24'\n",
    "\n",
    "final_results = Table([np.round(degree_bins, 3),\n",
    "                       np.round(hMpc_bins, 3),\n",
    "                       np.round(shear_correlation_real, 6),\n",
    "                       np.round(shear_correlation_imag, 6),\n",
    "                       np.round(shear_correlation_covar, 6),\n",
    "                       np.round(excess_surf_density.value, 3),\n",
    "                       np.round([avg_sigma_crit.value] * len(degree_bins), 3)],\n",
    "               names = ['R[degrees]',\n",
    "                        'R[h-1 Mpc]',\n",
    "                        'gamma_T_real',\n",
    "                        'gamma_T_imag',\n",
    "                        'gamma_T_covar',\n",
    "                        'deltaSigma[h Msun pc-2]',\n",
    "                        'averageSigmaCrit[pc2 Msun-1]'])\n",
    "ascii.write(final_results, f'{save_results_directory}/output_lensbin{lens_bin}_srcebin{srce_bin}.dat',\n",
    "            overwrite = True)\n",
    "\n",
    "# save_results_directory = '/data2/lsajkov/mpdg/data_products/WL_excess_surf_density_results/02Aug24'\n",
    "# ascii.write(final_results.transpose(), f'{save_results_directory}/output_lensbin{lens_bin}_srcebin{srce_bin}.dat',\n",
    "#             overwrite = False)"
   ]
  },
  {
   "cell_type": "code",
   "execution_count": null,
   "metadata": {},
   "outputs": [],
   "source": []
  }
 ],
 "metadata": {
  "kernelspec": {
   "display_name": "mpdg",
   "language": "python",
   "name": "python3"
  },
  "language_info": {
   "codemirror_mode": {
    "name": "ipython",
    "version": 3
   },
   "file_extension": ".py",
   "mimetype": "text/x-python",
   "name": "python",
   "nbconvert_exporter": "python",
   "pygments_lexer": "ipython3",
   "version": "3.12.3"
  }
 },
 "nbformat": 4,
 "nbformat_minor": 2
}
