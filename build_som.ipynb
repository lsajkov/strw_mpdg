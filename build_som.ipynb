{
 "cells": [
  {
   "cell_type": "code",
   "execution_count": null,
   "metadata": {},
   "outputs": [],
   "source": [
    "import numpy as np\n",
    "import matplotlib as mpl\n",
    "import matplotlib.pyplot as plt\n",
    "\n",
    "from astropy.io import fits\n",
    "from astropy.table import Table\n",
    "\n",
    "plt.rcParams.update({\n",
    "    'font.family': 'serif',\n",
    "    'font.size': 24,\n",
    "    'axes.labelsize': 'large',\n",
    "    'mathtext.fontset': 'stix'\n",
    "})\n",
    "\n",
    "from mpdg_som import SelfOrganizingMap\n",
    "from mpdg_som_utils import SOM_LearningRateFunctions\n",
    "\n",
    "import mpdg_som_utils"
   ]
  },
  {
   "cell_type": "code",
   "execution_count": null,
   "metadata": {},
   "outputs": [],
   "source": [
    "#load in data produced in primary_targeting_region.ipynb\n",
    "cut_data_file = '/data2/lsajkov/mpdg/data_products/GAMA/GAMA_primtarg_snr100_lms6_12_25jun2024.fits'\n",
    "\n",
    "with fits.open(cut_data_file) as cat:\n",
    "    GAMA_vect_data = Table(cat[1].data)\n",
    "\n",
    "GAMA_vect_data.add_column(GAMA_vect_data['r_mag_err'], index = 4, name = 'surf_bright_r_err')"
   ]
  },
  {
   "cell_type": "code",
   "execution_count": null,
   "metadata": {},
   "outputs": [],
   "source": [
    "SOM = SelfOrganizingMap([16, 16],\n",
    "                        initialization = 'random')"
   ]
  },
  {
   "cell_type": "code",
   "execution_count": null,
   "metadata": {},
   "outputs": [],
   "source": [
    "SOM.load_data(GAMA_vect_data['r_mag', 'gr_color', 'surf_bright_r'],\n",
    "              variable_names = ['r_mag', 'gr_color', 'surf_bright_r'])"
   ]
  },
  {
   "cell_type": "code",
   "execution_count": null,
   "metadata": {},
   "outputs": [],
   "source": [
    "SOM.load_standard_deviations(GAMA_vect_data['r_mag_err', 'gr_color_err', 'surf_bright_r_err'])"
   ]
  },
  {
   "cell_type": "code",
   "execution_count": null,
   "metadata": {},
   "outputs": [],
   "source": [
    "SOM.build_SOM()"
   ]
  },
  {
   "cell_type": "code",
   "execution_count": null,
   "metadata": {},
   "outputs": [],
   "source": [
    "fig = plt.figure()\n",
    "for i, name in enumerate(SOM.variable_names):\n",
    "    ax = fig.add_subplot(1, 3, i + 1)\n",
    "    ax.imshow(SOM.SOM[:, :, i], origin = 'lower', cmap = 'Spectral')\n",
    "    ax.set_title(SOM.variable_names[i],\n",
    "                 fontsize = 12)\n",
    "    ax.axis('off')"
   ]
  },
  {
   "cell_type": "code",
   "execution_count": null,
   "metadata": {},
   "outputs": [],
   "source": [
    "random_idx = np.random.rand(*SOM.mapsize) * SOM.data_len\n",
    "random_idx = np.array(random_idx, dtype = int)"
   ]
  },
  {
   "cell_type": "code",
   "execution_count": null,
   "metadata": {},
   "outputs": [],
   "source": [
    "weight_vectors = SOM.data[random_idx]"
   ]
  },
  {
   "cell_type": "code",
   "execution_count": null,
   "metadata": {},
   "outputs": [],
   "source": [
    "distances = np.full(SOM.mapsize, np.nan)\n",
    "iteration_map = np.nditer(distances, flags = ['multi_index'])\n",
    "\n",
    "for _ in iteration_map:\n",
    "    chi_sq_dist = mpdg_som_utils.chi_sq_dist(weight_vectors[*iteration_map.multi_index],\n",
    "                                             SOM.data[45],\n",
    "                                             data_dim = 3)\n",
    "    distances[*iteration_map.multi_index] = chi_sq_dist\n",
    "\n",
    "\n",
    "argmin_idx = np.argmin(distances)\n",
    "argmin_coords = np.unravel_index(argmin_idx, SOM.mapsize)"
   ]
  },
  {
   "cell_type": "code",
   "execution_count": null,
   "metadata": {},
   "outputs": [],
   "source": [
    "np.shape(weight_vectors)[:-1]"
   ]
  },
  {
   "cell_type": "code",
   "execution_count": null,
   "metadata": {},
   "outputs": [],
   "source": [
    "distances = np.full(SOM.mapsize, np.nan)\n",
    "iteration_map = np.nditer(distances, flags = ['multi_index'])\n",
    "\n",
    "for _ in iteration_map:\n",
    "    euclid_dist = np.linalg.norm(np.array(argmin_coords) -\\\n",
    "                                 np.array(iteration_map.multi_index))\n",
    "    distances[*iteration_map.multi_index] = euclid_dist"
   ]
  },
  {
   "cell_type": "code",
   "execution_count": null,
   "metadata": {},
   "outputs": [],
   "source": [
    "argmin_coords"
   ]
  },
  {
   "cell_type": "code",
   "execution_count": null,
   "metadata": {},
   "outputs": [],
   "source": [
    "plt.imshow(np.exp(-distances**2/3))"
   ]
  },
  {
   "cell_type": "code",
   "execution_count": null,
   "metadata": {},
   "outputs": [],
   "source": [
    "count = 0\n",
    "for i, _ in enumerate(np.shape(n_dim_map)):\n",
    "    for ii in range(np.shape(n_dim_map)[i]):\n",
    "        count += 1\n",
    "        print(count)"
   ]
  },
  {
   "cell_type": "code",
   "execution_count": null,
   "metadata": {},
   "outputs": [],
   "source": [
    "[mpdg_som_utils.chi_sq_dist(weight_vector = weight_vectors[ii, jj],\n",
    "                           data_vector = SOM.data[0],\n",
    "                           data_dim = 3) for ii in ]\n",
    "mpdg_som_utils.chi_sq_dist(weight_vector = weight_vectors,\n",
    "                           data_vector = SOM.data[0],\n",
    "                           data_dim = 3)"
   ]
  },
  {
   "cell_type": "code",
   "execution_count": null,
   "metadata": {},
   "outputs": [],
   "source": [
    "if (~use_covariance) & (data_dim is not None):\n",
    "    covar_matrix = np.diagflat([1] * data_dim)\n",
    "\n",
    "elif (~use_covariance) & (data_dim is None):\n",
    "    raise(ValueError('Please pass a dimensionality for the data (number of variables).'))\n",
    "\n",
    "elif (use_covariance) & (covar_vector is None):\n",
    "    raise(ValueError('There is no covariance matrix for the given data vector!'))\n",
    "\n",
    "covar_matrix = np.diagflat(covar_vector)\n",
    "inv_covar_matrix = linalg.inv(covar_matrix)\n",
    "\n",
    "vector_difference = data_vector - weight_vector\n",
    "\n",
    "np.dot(np.dot(vector_difference, inv_covar_matrix),vector_difference)"
   ]
  },
  {
   "cell_type": "code",
   "execution_count": null,
   "metadata": {},
   "outputs": [],
   "source": [
    "for i in np.nditer"
   ]
  },
  {
   "cell_type": "code",
   "execution_count": null,
   "metadata": {},
   "outputs": [],
   "source": [
    "plt.imshow(np.ones(SOM.mapsize))"
   ]
  },
  {
   "cell_type": "markdown",
   "metadata": {},
   "source": [
    "___"
   ]
  },
  {
   "cell_type": "code",
   "execution_count": null,
   "metadata": {},
   "outputs": [],
   "source": [
    "import numpy as np\n",
    "import matplotlib as mpl\n",
    "import matplotlib.pyplot as plt\n",
    "\n",
    "from astropy.io import fits\n",
    "from astropy.table import Table\n",
    "\n",
    "from mpdg_som import SelfOrganizingMap\n",
    "from mpdg_som_utils import SOM_LearningRateFunctions\n",
    "\n",
    "import mpdg_som_utils\n",
    "#load in data produced in primary_targeting_region.ipynb\n",
    "cut_data_file = '/data2/lsajkov/mpdg/data_products/GAMA/GAMA_primtarg_snr100_lms6_12_25jun2024.fits'\n",
    "\n",
    "with fits.open(cut_data_file) as cat:\n",
    "    GAMA_vect_data = Table(cat[1].data)\n",
    "\n",
    "GAMA_vect_data = GAMA_vect_data[GAMA_vect_data['log_stellar_mass'] < 9.5]\n",
    "\n",
    "GAMA_vect_data.add_column(GAMA_vect_data['r_mag_err'], index = 4, name = 'surf_bright_r_err')\n",
    "SOM = SelfOrganizingMap([16, 16],\n",
    "                        initialization = 'random')\n",
    "SOM.load_data(GAMA_vect_data['r_mag', 'gr_color', 'surf_bright_r'],\n",
    "              variable_names = ['r_mag', 'gr_color', 'surf_bright_r'])\n",
    "SOM.load_standard_deviations(GAMA_vect_data['r_mag_err', 'gr_color_err', 'surf_bright_r_err'])\n",
    "SOM.build_SOM()\n",
    "random_idx = np.random.rand(*SOM.mapsize) * SOM.data_len\n",
    "random_idx = np.array(random_idx, dtype = int)\n",
    "weight_vectors = SOM.data[random_idx]"
   ]
  },
  {
   "cell_type": "code",
   "execution_count": null,
   "metadata": {},
   "outputs": [],
   "source": [
    "step0_weights = weight_vectors.copy()"
   ]
  },
  {
   "cell_type": "code",
   "execution_count": null,
   "metadata": {},
   "outputs": [],
   "source": [
    "step = 1\n",
    "step1_weights = mpdg_som_utils.training_step(step0_weights,\n",
    "                                             SOM.data[0],\n",
    "                                             SOM.variances[0],\n",
    "                                             step,\n",
    "                                             mpdg_som_utils.SOM_LearningRateFunctions.power_law_lrf,\n",
    "                                             (1000, 0.5),\n",
    "                                             mpdg_som_utils.SOM_NeighborhoodFunctions.gaussian_nbh,\n",
    "                                             (SOM.mapsize, 2))\n"
   ]
  },
  {
   "cell_type": "code",
   "execution_count": null,
   "metadata": {},
   "outputs": [],
   "source": [
    "step = 1\n",
    "step1_weights = step0_weights\n",
    "for index in range(SOM.data_len):\n",
    "    step1_weights = mpdg_som_utils.training_step(step1_weights,\n",
    "                                                 SOM.data[index],\n",
    "                                                 SOM.variances[index],\n",
    "                                                 step,\n",
    "                                                 mpdg_som_utils.SOM_LearningRateFunctions.power_law_lrf,\n",
    "                                                 (1000, 0.5),\n",
    "                                                 mpdg_som_utils.SOM_NeighborhoodFunctions.gaussian_nbh,\n",
    "                                                 (SOM.mapsize, 2))"
   ]
  },
  {
   "cell_type": "code",
   "execution_count": null,
   "metadata": {},
   "outputs": [],
   "source": [
    "fig = plt.figure()\n",
    "for i, name in enumerate(SOM.variable_names):\n",
    "    ax = fig.add_subplot(1, 3, i + 1)\n",
    "    ax.imshow(step0_weights[:, :, i], origin = 'lower', cmap = 'Spectral')\n",
    "    ax.set_title(SOM.variable_names[i],\n",
    "                 fontsize = 12)\n",
    "    ax.axis('off')"
   ]
  },
  {
   "cell_type": "code",
   "execution_count": null,
   "metadata": {},
   "outputs": [],
   "source": [
    "fig = plt.figure()\n",
    "for i, name in enumerate(SOM.variable_names):\n",
    "    ax = fig.add_subplot(1, 3, i + 1)\n",
    "    ax.imshow(step1_weights[:, :, i], origin = 'lower', cmap = 'Spectral')\n",
    "    ax.set_title(SOM.variable_names[i],\n",
    "                 fontsize = 12)\n",
    "    ax.axis('off')"
   ]
  },
  {
   "cell_type": "code",
   "execution_count": null,
   "metadata": {},
   "outputs": [],
   "source": [
    "np.max(step1_weights - step0_weights)"
   ]
  },
  {
   "cell_type": "markdown",
   "metadata": {},
   "source": [
    "___"
   ]
  },
  {
   "cell_type": "code",
   "execution_count": null,
   "metadata": {},
   "outputs": [],
   "source": [
    "import numpy as np\n",
    "import matplotlib as mpl\n",
    "import matplotlib.pyplot as plt\n",
    "\n",
    "from astropy.io import fits\n",
    "from astropy.table import Table\n",
    "\n",
    "from mpdg_som import SelfOrganizingMap"
   ]
  },
  {
   "cell_type": "code",
   "execution_count": null,
   "metadata": {},
   "outputs": [],
   "source": [
    "#load in data produced in primary_targeting_region.ipynb\n",
    "cut_data_file = '/data2/lsajkov/mpdg/data_products/GAMA/GAMA_primtarg_snr100_lms6_12_25jun2024.fits'\n",
    "\n",
    "with fits.open(cut_data_file) as cat:\n",
    "    GAMA_vect_data = Table(cat[1].data)\n",
    "\n",
    "GAMA_vect_data = GAMA_vect_data[GAMA_vect_data['log_stellar_mass'] < 9.5]\n",
    "\n",
    "GAMA_vect_data.add_column(GAMA_vect_data['r_mag_err'], index = 4, name = 'surf_bright_r_err')"
   ]
  },
  {
   "cell_type": "code",
   "execution_count": null,
   "metadata": {},
   "outputs": [],
   "source": [
    "input_data = GAMA_vect_data['r_mag', 'gr_color', 'surf_bright_r']\n",
    "input_vars = GAMA_vect_data['r_mag_err', 'gr_color_err', 'surf_bright_r_err']\n",
    "\n",
    "input_labels = GAMA_vect_data['log_stellar_mass', 'redshift']\n",
    "\n",
    "tuple_labels = input_labels.as_array()\n",
    "list_labels = [list(values) for values in tuple_labels]\n",
    "input_labels = np.array(list_labels)"
   ]
  },
  {
   "cell_type": "code",
   "execution_count": null,
   "metadata": {},
   "outputs": [],
   "source": [
    "normalization_params = {}\n",
    "\n",
    "for variable in input_data.keys():\n",
    "    normalization_params[variable] = {}\n",
    "\n",
    "    normalization_params[variable]['mean'] = np.mean(GAMA_vect_data[variable])\n",
    "    normalization_params[variable]['std']  = np.std(GAMA_vect_data[variable])"
   ]
  },
  {
   "cell_type": "code",
   "execution_count": null,
   "metadata": {},
   "outputs": [],
   "source": [
    "normalized_input_data = input_data.copy()\n",
    "for variable in input_data.keys():\n",
    "    \n",
    "    normalized_input_data[variable] -= normalization_params[variable]['mean']\n",
    "    normalized_input_data[variable] /= normalization_params[variable]['std']"
   ]
  },
  {
   "cell_type": "code",
   "execution_count": null,
   "metadata": {},
   "outputs": [],
   "source": [
    "SOM = SelfOrganizingMap([16, 16],\n",
    "                        initialization = 'pca',\n",
    "                        maximum_steps = 100)\n",
    "\n",
    "data_cut = 1000\n",
    "\n",
    "SOM.load_data(normalized_input_data[:data_cut],\n",
    "              variable_names = ['r_mag', 'gr_color', 'surf_bright_r'])\n",
    "\n",
    "SOM.load_standard_deviations(input_vars[:data_cut])\n",
    "\n",
    "SOM.build_SOM()"
   ]
  },
  {
   "cell_type": "code",
   "execution_count": null,
   "metadata": {},
   "outputs": [],
   "source": [
    "SOM.data_statistics()\n",
    "SOM.show_map()"
   ]
  },
  {
   "cell_type": "code",
   "execution_count": null,
   "metadata": {},
   "outputs": [],
   "source": [
    "SOM.train(debug_max_steps = 1,\n",
    "          error_thresh = 1)"
   ]
  },
  {
   "cell_type": "code",
   "execution_count": null,
   "metadata": {},
   "outputs": [],
   "source": [
    "SOM.show_map()"
   ]
  },
  {
   "cell_type": "code",
   "execution_count": null,
   "metadata": {},
   "outputs": [],
   "source": [
    "SOM.label_map(input_labels[:data_cut],\n",
    "              parameter_names = ['log_mstar', 'redshift'])"
   ]
  },
  {
   "cell_type": "code",
   "execution_count": null,
   "metadata": {},
   "outputs": [],
   "source": [
    "print(f'| SOM after training. Step {SOM.step}.')\n",
    "fig = plt.figure(figsize = (10, 10), constrained_layout = True)\n",
    "for i, name in enumerate(SOM.parameter_names):\n",
    "    ax = fig.add_subplot(1, 3, i + 1)\n",
    "    imsh = ax.imshow(SOM.map_labels[..., i], origin = 'lower', cmap = 'jet')\n",
    "    # ax.set_title(SOM.variable_names[i],\n",
    "    #              fontsize = 12)\n",
    "    ax.axis('off')\n",
    "    \n",
    "    fig.colorbar(mappable = imsh, ax = ax,\n",
    "                 label = SOM.parameter_names[i], location = 'bottom',\n",
    "                 pad = 0.01)"
   ]
  },
  {
   "cell_type": "code",
   "execution_count": null,
   "metadata": {},
   "outputs": [],
   "source": [
    "som_output = np.array([SOM.map_labels[*idx] for idx in SOM.bmu_indices])"
   ]
  },
  {
   "cell_type": "code",
   "execution_count": null,
   "metadata": {},
   "outputs": [],
   "source": [
    "z_outlier_vals = np.abs(som_output[:, 1] - input_labels[:, 1][:data_cut])/(1 + input_labels[:, 1][:data_cut])\n",
    "z_outlier_frac = np.sum(z_outlier_vals > 0.15)/len(z_outlier_vals)"
   ]
  },
  {
   "cell_type": "code",
   "execution_count": null,
   "metadata": {},
   "outputs": [],
   "source": [
    "z_outlier_frac"
   ]
  },
  {
   "cell_type": "code",
   "execution_count": null,
   "metadata": {},
   "outputs": [],
   "source": [
    "log_mstar = np.median(np.abs(som_output[:, 0] - input_labels[:data_cut, 0]))"
   ]
  },
  {
   "cell_type": "code",
   "execution_count": null,
   "metadata": {},
   "outputs": [],
   "source": [
    "log_mstar_mad, z_mad = np.median(np.abs(som_output - input_labels[:data_cut]), axis = 0)"
   ]
  },
  {
   "cell_type": "code",
   "execution_count": null,
   "metadata": {},
   "outputs": [],
   "source": [
    "fig = plt.figure(figsize = (10, 11), constrained_layout = True)\n",
    "ax = fig.add_subplot()\n",
    "\n",
    "hb = ax.hexbin(input_labels[..., 0][:data_cut],\n",
    "               som_output[..., 0],\n",
    "               mincnt = 1, cmap = 'jet')\n",
    "\n",
    "fig.colorbar(mappable = hb, ax = ax,\n",
    "             location = 'top', pad = 0, label = '$N_{\\mathrm{galaxies}}$')\n",
    "\n",
    "ax.set_xlim(8, 9.6)\n",
    "ax.set_ylim(8, 9.6)\n",
    "\n",
    "ax.set_xlabel('GAMA log$_{10}(M_*/M_{\\odot})$\\nTrue')\n",
    "ax.set_ylabel('Predicted\\nSOM log$_{10}(M_*/M_{\\odot})$')\n",
    "\n",
    "ax.axline([0, 0], slope = 1, color = 'red')\n",
    "ax.text(0.65, 0.01,\n",
    "       f'MAD: {log_mstar_mad:.3f} dex',\n",
    "       ma = 'right',\n",
    "       transform = ax.transAxes)"
   ]
  },
  {
   "cell_type": "code",
   "execution_count": null,
   "metadata": {},
   "outputs": [],
   "source": [
    "fig = plt.figure(figsize = (10, 11), constrained_layout = True)\n",
    "ax = fig.add_subplot()\n",
    "\n",
    "hb = ax.hexbin(input_labels[..., 1][:data_cut],\n",
    "               som_output[..., 1],\n",
    "               mincnt = 1, cmap = 'jet')\n",
    "\n",
    "fig.colorbar(mappable = hb, ax = ax,\n",
    "             location = 'top', pad = 0.02, label = '$N_{\\mathrm{galaxies}}$')\n",
    "\n",
    "ax.set_xlim(0, 0.26)\n",
    "ax.set_ylim(0, 0.26)\n",
    "\n",
    "ax.set_xlabel('GAMA $z$\\nTrue')\n",
    "ax.set_ylabel('Predicted\\nSOM $z$')\n",
    "\n",
    "ax.axline([0, 0], slope = 1, color = 'red')\n",
    "ax.text(0.65, 0.01,\n",
    "       f'MAD: {z_mad:.3f} dex',\n",
    "       ma = 'right',\n",
    "       transform = ax.transAxes)"
   ]
  },
  {
   "cell_type": "code",
   "execution_count": null,
   "metadata": {},
   "outputs": [],
   "source": [
    "np.shape(SOM.map_labels)"
   ]
  },
  {
   "cell_type": "code",
   "execution_count": null,
   "metadata": {},
   "outputs": [],
   "source": [
    "populated_cells = np.unique(SOM.bmu_indices, axis = 0)"
   ]
  },
  {
   "cell_type": "code",
   "execution_count": null,
   "metadata": {},
   "outputs": [],
   "source": [
    "np.all(SOM.bmu_indices == (populated_cells[33]), axis = -1)"
   ]
  },
  {
   "cell_type": "code",
   "execution_count": null,
   "metadata": {},
   "outputs": [],
   "source": [
    "np.equal(SOM.bmu_indices, populated_cells[33],\n",
    "         )"
   ]
  },
  {
   "cell_type": "code",
   "execution_count": null,
   "metadata": {},
   "outputs": [],
   "source": [
    "plt.imshow(SOM.map_labels[..., 0])"
   ]
  },
  {
   "cell_type": "code",
   "execution_count": null,
   "metadata": {},
   "outputs": [],
   "source": [
    "plt.scatter(populated_cells[:, 0], populated_cells[:, 1])"
   ]
  },
  {
   "cell_type": "code",
   "execution_count": null,
   "metadata": {},
   "outputs": [],
   "source": [
    "SOM.bmu_indices"
   ]
  },
  {
   "cell_type": "code",
   "execution_count": null,
   "metadata": {},
   "outputs": [],
   "source": [
    "np.sum(SOM.bmu_indices == [5, 3], axis = -1) == 2"
   ]
  },
  {
   "cell_type": "code",
   "execution_count": null,
   "metadata": {},
   "outputs": [],
   "source": [
    "populated_cells[0]"
   ]
  },
  {
   "cell_type": "code",
   "execution_count": null,
   "metadata": {},
   "outputs": [],
   "source": [
    "matching_idx"
   ]
  },
  {
   "cell_type": "code",
   "execution_count": null,
   "metadata": {},
   "outputs": [],
   "source": [
    "(SOM.map_labels)"
   ]
  },
  {
   "cell_type": "code",
   "execution_count": null,
   "metadata": {},
   "outputs": [],
   "source": [
    "SOM.map_labels[*populated_cells[0]]"
   ]
  },
  {
   "cell_type": "code",
   "execution_count": null,
   "metadata": {},
   "outputs": [],
   "source": [
    "populated_cells[0]"
   ]
  },
  {
   "cell_type": "code",
   "execution_count": null,
   "metadata": {},
   "outputs": [],
   "source": [
    "for cell in populated_cells:\n",
    "    print(cell)"
   ]
  },
  {
   "cell_type": "code",
   "execution_count": null,
   "metadata": {},
   "outputs": [],
   "source": [
    "(SOM.parameters)"
   ]
  },
  {
   "cell_type": "markdown",
   "metadata": {},
   "source": [
    "___"
   ]
  },
  {
   "cell_type": "markdown",
   "metadata": {},
   "source": [
    "Build mapping function"
   ]
  },
  {
   "cell_type": "code",
   "execution_count": null,
   "metadata": {},
   "outputs": [],
   "source": [
    "idx = SOM.bmu_indices.copy()"
   ]
  },
  {
   "cell_type": "code",
   "execution_count": null,
   "metadata": {},
   "outputs": [],
   "source": [
    "fig = plt.figure(figsize = (5, 5))\n",
    "ax = fig.add_subplot()\n",
    "\n",
    "ax.scatter(idx[..., 0], idx[..., 1])\n",
    "ax.axis('off')"
   ]
  },
  {
   "cell_type": "code",
   "execution_count": null,
   "metadata": {},
   "outputs": [],
   "source": [
    "populated_cells = np.unique(idx, axis = 0)"
   ]
  },
  {
   "cell_type": "code",
   "execution_count": null,
   "metadata": {},
   "outputs": [],
   "source": [
    "parameters = input_labels\n",
    "tuple_params = parameters.as_array()\n",
    "list_params = [list(values) for values in tuple_params]\n",
    "parameters = np.array(list_params)"
   ]
  },
  {
   "cell_type": "code",
   "execution_count": null,
   "metadata": {},
   "outputs": [],
   "source": [
    "np.median(parameters, axis = 0)"
   ]
  },
  {
   "cell_type": "code",
   "execution_count": null,
   "metadata": {},
   "outputs": [],
   "source": [
    "np.median(parameters[:, 0])"
   ]
  },
  {
   "cell_type": "code",
   "execution_count": null,
   "metadata": {},
   "outputs": [],
   "source": [
    "np.median(input_labels[:10], axis = 0)"
   ]
  },
  {
   "cell_type": "code",
   "execution_count": null,
   "metadata": {},
   "outputs": [],
   "source": []
  },
  {
   "cell_type": "code",
   "execution_count": null,
   "metadata": {},
   "outputs": [],
   "source": [
    "len(matching_idx)"
   ]
  },
  {
   "cell_type": "code",
   "execution_count": null,
   "metadata": {},
   "outputs": [],
   "source": [
    "sum_of_cells = 0\n",
    "for cell in populated_cells:\n",
    "    print(cell)\n",
    "    matching_idx = np.sum(idx == cell, axis = -1) == SOM.map_dimensionality\n",
    "    "
   ]
  },
  {
   "cell_type": "markdown",
   "metadata": {},
   "source": [
    "___"
   ]
  },
  {
   "cell_type": "markdown",
   "metadata": {},
   "source": [
    "Build error estimator"
   ]
  },
  {
   "cell_type": "code",
   "execution_count": null,
   "metadata": {},
   "outputs": [],
   "source": [
    "fig = plt.figure(figsize = (12, 10))\n",
    "ax = fig.add_subplot()\n",
    "\n",
    "hb = ax.hexbin(bmu_idx[:, 0], bmu_idx[:, 1], gridsize = [16, 8])\n",
    "fig.colorbar(mappable = hb, label = 'datapoints')"
   ]
  },
  {
   "cell_type": "code",
   "execution_count": null,
   "metadata": {},
   "outputs": [],
   "source": [
    "weight_vectors = SOM.weights_map.copy()"
   ]
  },
  {
   "cell_type": "code",
   "execution_count": null,
   "metadata": {},
   "outputs": [],
   "source": [
    "max_quant_error = 0\n",
    "for index in range(SOM.data_len):\n",
    "    quant_error = np.dot(SOM.data[index], SOM.weights_map[*SOM.bmu_indices[index], :])\n",
    "    if quant_error > max_quant_error: max_quant_error = quant_error"
   ]
  },
  {
   "cell_type": "code",
   "execution_count": null,
   "metadata": {},
   "outputs": [],
   "source": [
    "quant_error"
   ]
  },
  {
   "cell_type": "code",
   "execution_count": null,
   "metadata": {},
   "outputs": [],
   "source": [
    "SOM.bmu_indices[0]"
   ]
  },
  {
   "cell_type": "code",
   "execution_count": 3,
   "metadata": {},
   "outputs": [],
   "source": [
    "import numpy as np\n",
    "import matplotlib as mpl\n",
    "import matplotlib.pyplot as plt\n",
    "\n",
    "from astropy.io import fits\n",
    "from astropy.table import Table\n",
    "\n",
    "from mpdg_som import SelfOrganizingMap\n",
    "#load in data produced in primary_targeting_region.ipynb\n",
    "cut_data_file = '/data2/lsajkov/mpdg/data_products/GAMA/GAMA_primtarg_snr100_lms6_12_25jun2024.fits'\n",
    "\n",
    "with fits.open(cut_data_file) as cat:\n",
    "    GAMA_vect_data = Table(cat[1].data)\n",
    "\n",
    "GAMA_vect_data = GAMA_vect_data[GAMA_vect_data['log_stellar_mass'] < 9.5]\n",
    "\n",
    "GAMA_vect_data.add_column(GAMA_vect_data['r_mag_err'], index = 4, name = 'surf_bright_r_err')\n",
    "input_data = GAMA_vect_data['r_mag', 'gr_color', 'surf_bright_r']\n",
    "input_vars = GAMA_vect_data['r_mag_err', 'gr_color_err', 'surf_bright_r_err']\n",
    "\n",
    "input_labels = GAMA_vect_data['log_stellar_mass', 'redshift']\n",
    "\n",
    "tuple_labels = input_labels.as_array()\n",
    "list_labels = [list(values) for values in tuple_labels]\n",
    "input_labels = np.array(list_labels)\n",
    "\n",
    "normalization_params = {}\n",
    "\n",
    "for variable in input_data.keys():\n",
    "    normalization_params[variable] = {}\n",
    "\n",
    "    normalization_params[variable]['mean'] = np.mean(GAMA_vect_data[variable])\n",
    "    normalization_params[variable]['std']  = np.std(GAMA_vect_data[variable])\n",
    "\n",
    "normalized_input_data = input_data.copy()\n",
    "for variable in input_data.keys():\n",
    "    \n",
    "    normalized_input_data[variable] -= normalization_params[variable]['mean']\n",
    "    normalized_input_data[variable] /= normalization_params[variable]['std']\n",
    "\n",
    "SOM = SelfOrganizingMap(mapsize = [16, 16])\n",
    "\n",
    "data_cut = 1000\n",
    "\n",
    "SOM.load_data(normalized_input_data[:data_cut],\n",
    "              variable_names = ['r_mag', 'gr_color', 'surf_bright_r'])\n",
    "\n",
    "SOM.load_standard_deviations(input_vars[:data_cut])\n",
    "\n",
    "SOM.build_SOM()"
   ]
  },
  {
   "cell_type": "code",
   "execution_count": 12,
   "metadata": {},
   "outputs": [],
   "source": [
    "def quantization_error(weight_vectors,\n",
    "                        data,\n",
    "                        bmu_indices):\n",
    "    \n",
    "    quantization_errors = np.full_like(data, np.nan)\n",
    "    for index in range(len(data)):\n",
    "        bmu_index = bmu_indices[index]\n",
    "        data_vector = data[index]\n",
    "        misalignment = weight_vectors[*bmu_index, :] - data_vector\n",
    "        quantization_errors[index] = np.linalg.norm(misalignment)\n",
    "        \n",
    "    rms_quantization_errors = np.sqrt(np.sum(quantization_errors**2))\n",
    "    return rms_quantization_errors\n"
   ]
  },
  {
   "cell_type": "code",
   "execution_count": 13,
   "metadata": {},
   "outputs": [
    {
     "data": {
      "text/plain": [
       "270.44357"
      ]
     },
     "execution_count": 13,
     "metadata": {},
     "output_type": "execute_result"
    }
   ],
   "source": [
    "quantization_error(SOM.weights_map,\n",
    "                   SOM.data,\n",
    "                   SOM.bmu_indices)"
   ]
  },
  {
   "cell_type": "code",
   "execution_count": 9,
   "metadata": {},
   "outputs": [
    {
     "ename": "TypeError",
     "evalue": "return arrays must be of ArrayType",
     "output_type": "error",
     "traceback": [
      "\u001b[0;31m---------------------------------------------------------------------------\u001b[0m",
      "\u001b[0;31mTypeError\u001b[0m                                 Traceback (most recent call last)",
      "Cell \u001b[0;32mIn[9], line 1\u001b[0m\n\u001b[0;32m----> 1\u001b[0m np\u001b[38;5;241m.\u001b[39mhypot(\u001b[38;5;241m1\u001b[39m, \u001b[38;5;241m2\u001b[39m, \u001b[38;5;241m3\u001b[39m\n\u001b[1;32m      2\u001b[0m          )\n",
      "\u001b[0;31mTypeError\u001b[0m: return arrays must be of ArrayType"
     ]
    }
   ],
   "source": [
    "np.hypot(1, 2, 3)"
   ]
  },
  {
   "cell_type": "markdown",
   "metadata": {},
   "source": [
    "___"
   ]
  },
  {
   "cell_type": "markdown",
   "metadata": {},
   "source": [
    "Build shuffler"
   ]
  },
  {
   "cell_type": "code",
   "execution_count": 2,
   "metadata": {},
   "outputs": [],
   "source": [
    "import numpy as np\n",
    "import matplotlib as mpl\n",
    "import matplotlib.pyplot as plt\n",
    "\n",
    "from astropy.io import fits\n",
    "from astropy.table import Table\n",
    "\n",
    "from mpdg_som import SelfOrganizingMap\n",
    "#load in data produced in primary_targeting_region.ipynb\n",
    "cut_data_file = '/data2/lsajkov/mpdg/data_products/GAMA/GAMA_primtarg_snr100_lms6_12_25jun2024.fits'\n",
    "\n",
    "with fits.open(cut_data_file) as cat:\n",
    "    GAMA_vect_data = Table(cat[1].data)\n",
    "\n",
    "GAMA_vect_data = GAMA_vect_data[GAMA_vect_data['log_stellar_mass'] < 9.5]\n",
    "\n",
    "GAMA_vect_data.add_column(GAMA_vect_data['r_mag_err'], index = 4, name = 'surf_bright_r_err')\n",
    "input_data = GAMA_vect_data['r_mag', 'gr_color', 'surf_bright_r']\n",
    "input_vars = GAMA_vect_data['r_mag_err', 'gr_color_err', 'surf_bright_r_err']\n",
    "\n",
    "input_labels = GAMA_vect_data['log_stellar_mass', 'redshift']\n",
    "\n",
    "tuple_labels = input_labels.as_array()\n",
    "list_labels = [list(values) for values in tuple_labels]\n",
    "input_labels = np.array(list_labels)\n",
    "\n",
    "normalization_params = {}\n",
    "\n",
    "for variable in input_data.keys():\n",
    "    normalization_params[variable] = {}\n",
    "\n",
    "    normalization_params[variable]['mean'] = np.mean(GAMA_vect_data[variable])\n",
    "    normalization_params[variable]['std']  = np.std(GAMA_vect_data[variable])\n",
    "\n",
    "normalized_input_data = input_data.copy()\n",
    "for variable in input_data.keys():\n",
    "    \n",
    "    normalized_input_data[variable] -= normalization_params[variable]['mean']\n",
    "    normalized_input_data[variable] /= normalization_params[variable]['std']\n",
    "\n",
    "SOM = SelfOrganizingMap(mapsize = [16, 16])\n",
    "\n",
    "data_cut = 1000\n",
    "\n",
    "SOM.load_data(normalized_input_data[:data_cut],\n",
    "              variable_names = ['r_mag', 'gr_color', 'surf_bright_r'])\n",
    "\n",
    "SOM.load_standard_deviations(input_vars[:data_cut])\n",
    "\n",
    "SOM.build_SOM()"
   ]
  },
  {
   "cell_type": "code",
   "execution_count": 2,
   "metadata": {},
   "outputs": [
    {
     "data": {
      "text/plain": [
       "array([[ 0.69933456,  1.5279884 ,  0.03149773],\n",
       "       [ 1.7813506 , -0.715786  ,  0.70646036],\n",
       "       [ 0.40360832,  0.14115848,  0.20719843],\n",
       "       ...,\n",
       "       [-0.1836995 , -1.1630659 ,  1.3321348 ],\n",
       "       [ 0.06491753, -0.35646495,  0.8336999 ],\n",
       "       [-1.1195235 , -0.03643334, -0.44261092]], dtype=float32)"
      ]
     },
     "execution_count": 2,
     "metadata": {},
     "output_type": "execute_result"
    }
   ],
   "source": [
    "SOM.data"
   ]
  },
  {
   "cell_type": "code",
   "execution_count": 4,
   "metadata": {},
   "outputs": [],
   "source": [
    "rand_idx = SOM.randomized_data_indices.copy()"
   ]
  },
  {
   "cell_type": "code",
   "execution_count": 36,
   "metadata": {},
   "outputs": [
    {
     "name": "stdout",
     "output_type": "stream",
     "text": [
      "[  0 100 200 300 400 500 600 700 800 900]\n",
      "[217 227 794 576 688 221 121 846 528 934]\n",
      "[933   2 499 356 738 399 189 719 861 958]\n",
      "[739  90 401 131 478 529 343 680 571 919]\n",
      "[390 726 629 535 570  10 766 749 145 470]\n"
     ]
    }
   ],
   "source": [
    "randomized_data_indices = np.arange(0, SOM.data_len)\n",
    "for i in range(5):\n",
    "    print(randomized_data_indices[0::100])\n",
    "    np.random.shuffle(randomized_data_indices)"
   ]
  },
  {
   "cell_type": "code",
   "execution_count": 15,
   "metadata": {},
   "outputs": [
    {
     "data": {
      "text/plain": [
       "range(0, 100)"
      ]
     },
     "execution_count": 15,
     "metadata": {},
     "output_type": "execute_result"
    }
   ],
   "source": [
    "randomized_data_indices[0:100]"
   ]
  },
  {
   "cell_type": "markdown",
   "metadata": {},
   "source": [
    "___"
   ]
  },
  {
   "cell_type": "markdown",
   "metadata": {},
   "source": [
    "Build better labeling functions"
   ]
  },
  {
   "cell_type": "code",
   "execution_count": 10,
   "metadata": {},
   "outputs": [],
   "source": [
    "labeled_data_bmu_idx = {}\n",
    "\n",
    "i = 0; j = 0\n",
    "for index in range(SOM.data_len):\n",
    "\n",
    "    bmu_coords = [i%20, j%20]\n",
    "    if f'{bmu_coords}' in labeled_data_bmu_idx.keys():\n",
    "        labeled_data_bmu_idx[f'{bmu_coords}'].append(index)\n",
    "    else:\n",
    "        labeled_data_bmu_idx[f'{bmu_coords}'] = []\n",
    "        labeled_data_bmu_idx[f'{bmu_coords}'].append(index)\n",
    "\n",
    "    i += 1; j += 1"
   ]
  },
  {
   "cell_type": "code",
   "execution_count": 7,
   "metadata": {},
   "outputs": [
    {
     "name": "stdout",
     "output_type": "stream",
     "text": [
      "[0, 0]\n",
      "[0, 1]\n",
      "[0, 2]\n",
      "[0, 3]\n",
      "[0, 4]\n",
      "[0, 5]\n",
      "[0, 6]\n",
      "[0, 7]\n",
      "[0, 8]\n",
      "[0, 9]\n",
      "[0, 10]\n",
      "[0, 11]\n",
      "[0, 12]\n",
      "[0, 13]\n",
      "[0, 14]\n",
      "[0, 15]\n",
      "[1, 0]\n",
      "[1, 1]\n",
      "[1, 2]\n",
      "[1, 3]\n",
      "[1, 4]\n",
      "[1, 5]\n",
      "[1, 6]\n",
      "[1, 7]\n",
      "[1, 8]\n",
      "[1, 9]\n",
      "[1, 10]\n",
      "[1, 11]\n",
      "[1, 12]\n",
      "[1, 13]\n",
      "[1, 14]\n",
      "[1, 15]\n",
      "[2, 0]\n",
      "[2, 1]\n",
      "[2, 2]\n",
      "[2, 3]\n",
      "[2, 4]\n",
      "[2, 5]\n",
      "[2, 6]\n",
      "[2, 7]\n",
      "[2, 8]\n",
      "[2, 9]\n",
      "[2, 10]\n",
      "[2, 11]\n",
      "[2, 12]\n",
      "[2, 13]\n",
      "[2, 14]\n",
      "[2, 15]\n",
      "[3, 0]\n",
      "[3, 1]\n",
      "[3, 2]\n",
      "[3, 3]\n",
      "[3, 4]\n",
      "[3, 5]\n",
      "[3, 6]\n",
      "[3, 7]\n",
      "[3, 8]\n",
      "[3, 9]\n",
      "[3, 10]\n",
      "[3, 11]\n",
      "[3, 12]\n",
      "[3, 13]\n",
      "[3, 14]\n",
      "[3, 15]\n",
      "[4, 0]\n",
      "[4, 1]\n",
      "[4, 2]\n",
      "[4, 3]\n",
      "[4, 4]\n",
      "[4, 5]\n",
      "[4, 6]\n",
      "[4, 7]\n",
      "[4, 8]\n",
      "[4, 9]\n",
      "[4, 10]\n",
      "[4, 11]\n",
      "[4, 12]\n",
      "[4, 13]\n",
      "[4, 14]\n",
      "[4, 15]\n",
      "[5, 0]\n",
      "[5, 1]\n",
      "[5, 2]\n",
      "[5, 3]\n",
      "[5, 4]\n",
      "[5, 5]\n",
      "[5, 6]\n",
      "[5, 7]\n",
      "[5, 8]\n",
      "[5, 9]\n",
      "[5, 10]\n",
      "[5, 11]\n",
      "[5, 12]\n",
      "[5, 13]\n",
      "[5, 14]\n",
      "[5, 15]\n",
      "[6, 0]\n",
      "[6, 1]\n",
      "[6, 2]\n",
      "[6, 3]\n",
      "[6, 4]\n",
      "[6, 5]\n",
      "[6, 6]\n",
      "[6, 7]\n",
      "[6, 8]\n",
      "[6, 9]\n",
      "[6, 10]\n",
      "[6, 11]\n",
      "[6, 12]\n",
      "[6, 13]\n",
      "[6, 14]\n",
      "[6, 15]\n",
      "[7, 0]\n",
      "[7, 1]\n",
      "[7, 2]\n",
      "[7, 3]\n",
      "[7, 4]\n",
      "[7, 5]\n",
      "[7, 6]\n",
      "[7, 7]\n",
      "[7, 8]\n",
      "[7, 9]\n",
      "[7, 10]\n",
      "[7, 11]\n",
      "[7, 12]\n",
      "[7, 13]\n",
      "[7, 14]\n",
      "[7, 15]\n",
      "[8, 0]\n",
      "[8, 1]\n",
      "[8, 2]\n",
      "[8, 3]\n",
      "[8, 4]\n",
      "[8, 5]\n",
      "[8, 6]\n",
      "[8, 7]\n",
      "[8, 8]\n",
      "[8, 9]\n",
      "[8, 10]\n",
      "[8, 11]\n",
      "[8, 12]\n",
      "[8, 13]\n",
      "[8, 14]\n",
      "[8, 15]\n",
      "[9, 0]\n",
      "[9, 1]\n",
      "[9, 2]\n",
      "[9, 3]\n",
      "[9, 4]\n",
      "[9, 5]\n",
      "[9, 6]\n",
      "[9, 7]\n",
      "[9, 8]\n",
      "[9, 9]\n",
      "[9, 10]\n",
      "[9, 11]\n",
      "[9, 12]\n",
      "[9, 13]\n",
      "[9, 14]\n",
      "[9, 15]\n",
      "[10, 0]\n",
      "[10, 1]\n",
      "[10, 2]\n",
      "[10, 3]\n",
      "[10, 4]\n",
      "[10, 5]\n",
      "[10, 6]\n",
      "[10, 7]\n",
      "[10, 8]\n",
      "[10, 9]\n",
      "[10, 10]\n",
      "[10, 11]\n",
      "[10, 12]\n",
      "[10, 13]\n",
      "[10, 14]\n",
      "[10, 15]\n",
      "[11, 0]\n",
      "[11, 1]\n",
      "[11, 2]\n",
      "[11, 3]\n",
      "[11, 4]\n",
      "[11, 5]\n",
      "[11, 6]\n",
      "[11, 7]\n",
      "[11, 8]\n",
      "[11, 9]\n",
      "[11, 10]\n",
      "[11, 11]\n",
      "[11, 12]\n",
      "[11, 13]\n",
      "[11, 14]\n",
      "[11, 15]\n",
      "[12, 0]\n",
      "[12, 1]\n",
      "[12, 2]\n",
      "[12, 3]\n",
      "[12, 4]\n",
      "[12, 5]\n",
      "[12, 6]\n",
      "[12, 7]\n",
      "[12, 8]\n",
      "[12, 9]\n",
      "[12, 10]\n",
      "[12, 11]\n",
      "[12, 12]\n",
      "[12, 13]\n",
      "[12, 14]\n",
      "[12, 15]\n",
      "[13, 0]\n",
      "[13, 1]\n",
      "[13, 2]\n",
      "[13, 3]\n",
      "[13, 4]\n",
      "[13, 5]\n",
      "[13, 6]\n",
      "[13, 7]\n",
      "[13, 8]\n",
      "[13, 9]\n",
      "[13, 10]\n",
      "[13, 11]\n",
      "[13, 12]\n",
      "[13, 13]\n",
      "[13, 14]\n",
      "[13, 15]\n",
      "[14, 0]\n",
      "[14, 1]\n",
      "[14, 2]\n",
      "[14, 3]\n",
      "[14, 4]\n",
      "[14, 5]\n",
      "[14, 6]\n",
      "[14, 7]\n",
      "[14, 8]\n",
      "[14, 9]\n",
      "[14, 10]\n",
      "[14, 11]\n",
      "[14, 12]\n",
      "[14, 13]\n",
      "[14, 14]\n",
      "[14, 15]\n",
      "[15, 0]\n",
      "[15, 1]\n",
      "[15, 2]\n",
      "[15, 3]\n",
      "[15, 4]\n",
      "[15, 5]\n",
      "[15, 6]\n",
      "[15, 7]\n",
      "[15, 8]\n",
      "[15, 9]\n",
      "[15, 10]\n",
      "[15, 11]\n",
      "[15, 12]\n",
      "[15, 13]\n",
      "[15, 14]\n",
      "[15, 15]\n"
     ]
    }
   ],
   "source": [
    "iteration_map = np.nditer(SOM.weights_map[..., 0], flags = ['multi_index'])\n",
    "\n",
    "for _ in iteration_map:\n",
    "\n",
    "    index = list(iteration_map.multi_index)\n",
    "\n",
    "    if f'{index}' in labeled_data_bmu_idx.keys():\n",
    "        local_vectors = "
   ]
  },
  {
   "cell_type": "code",
   "execution_count": null,
   "metadata": {},
   "outputs": [],
   "source": []
  }
 ],
 "metadata": {
  "kernelspec": {
   "display_name": "astro-two",
   "language": "python",
   "name": "python3"
  },
  "language_info": {
   "codemirror_mode": {
    "name": "ipython",
    "version": 3
   },
   "file_extension": ".py",
   "mimetype": "text/x-python",
   "name": "python",
   "nbconvert_exporter": "python",
   "pygments_lexer": "ipython3",
   "version": "3.12.3"
  },
  "vscode": {
   "interpreter": {
    "hash": "0652fbddb8f14dbb5acc595fb3c293f389575b2db40f72de3b99cc3e859b4597"
   }
  }
 },
 "nbformat": 4,
 "nbformat_minor": 2
}
