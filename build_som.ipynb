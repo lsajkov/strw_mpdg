{
 "cells": [
  {
   "cell_type": "code",
   "execution_count": null,
   "metadata": {},
   "outputs": [],
   "source": [
    "import numpy as np\n",
    "import matplotlib as mpl\n",
    "import matplotlib.pyplot as plt\n",
    "\n",
    "from astropy.io import fits\n",
    "from astropy.table import Table\n",
    "\n",
    "plt.rcParams.update({\n",
    "    'font.family': 'serif',\n",
    "    'font.size': 24,\n",
    "    'axes.labelsize': 'large',\n",
    "    'mathtext.fontset': 'stix'\n",
    "})\n",
    "\n",
    "from mpdg_som import SelfOrganizingMap\n",
    "from mpdg_som_utils import SOM_LearningRateFunctions\n",
    "\n",
    "import mpdg_som_utils"
   ]
  },
  {
   "cell_type": "code",
   "execution_count": null,
   "metadata": {},
   "outputs": [],
   "source": [
    "#load in data produced in primary_targeting_region.ipynb\n",
    "cut_data_file = '/data2/lsajkov/mpdg/data_products/GAMA/GAMA_primtarg_snr100_lms6_12_25jun2024.fits'\n",
    "\n",
    "with fits.open(cut_data_file) as cat:\n",
    "    GAMA_vect_data = Table(cat[1].data)\n",
    "\n",
    "GAMA_vect_data.add_column(GAMA_vect_data['r_mag_err'], index = 4, name = 'surf_bright_r_err')"
   ]
  },
  {
   "cell_type": "code",
   "execution_count": null,
   "metadata": {},
   "outputs": [],
   "source": [
    "SOM = SelfOrganizingMap([16, 16],\n",
    "                        initialization = 'random')"
   ]
  },
  {
   "cell_type": "code",
   "execution_count": null,
   "metadata": {},
   "outputs": [],
   "source": [
    "SOM.load_data(GAMA_vect_data['r_mag', 'gr_color', 'surf_bright_r'],\n",
    "              variable_names = ['r_mag', 'gr_color', 'surf_bright_r'])"
   ]
  },
  {
   "cell_type": "code",
   "execution_count": null,
   "metadata": {},
   "outputs": [],
   "source": [
    "SOM.load_standard_deviations(GAMA_vect_data['r_mag_err', 'gr_color_err', 'surf_bright_r_err'])"
   ]
  },
  {
   "cell_type": "code",
   "execution_count": null,
   "metadata": {},
   "outputs": [],
   "source": [
    "SOM.build_SOM()"
   ]
  },
  {
   "cell_type": "code",
   "execution_count": null,
   "metadata": {},
   "outputs": [],
   "source": [
    "fig = plt.figure()\n",
    "for i, name in enumerate(SOM.variable_names):\n",
    "    ax = fig.add_subplot(1, 3, i + 1)\n",
    "    ax.imshow(SOM.SOM[:, :, i], origin = 'lower', cmap = 'Spectral')\n",
    "    ax.set_title(SOM.variable_names[i],\n",
    "                 fontsize = 12)\n",
    "    ax.axis('off')"
   ]
  },
  {
   "cell_type": "code",
   "execution_count": null,
   "metadata": {},
   "outputs": [],
   "source": [
    "random_idx = np.random.rand(*SOM.mapsize) * SOM.data_len\n",
    "random_idx = np.array(random_idx, dtype = int)"
   ]
  },
  {
   "cell_type": "code",
   "execution_count": null,
   "metadata": {},
   "outputs": [],
   "source": [
    "weight_vectors = SOM.data[random_idx]"
   ]
  },
  {
   "cell_type": "code",
   "execution_count": null,
   "metadata": {},
   "outputs": [],
   "source": [
    "distances = np.full(SOM.mapsize, np.nan)\n",
    "iteration_map = np.nditer(distances, flags = ['multi_index'])\n",
    "\n",
    "for _ in iteration_map:\n",
    "    chi_sq_dist = mpdg_som_utils.chi_sq_dist(weight_vectors[*iteration_map.multi_index],\n",
    "                                             SOM.data[45],\n",
    "                                             data_dim = 3)\n",
    "    distances[*iteration_map.multi_index] = chi_sq_dist\n",
    "\n",
    "\n",
    "argmin_idx = np.argmin(distances)\n",
    "argmin_coords = np.unravel_index(argmin_idx, SOM.mapsize)"
   ]
  },
  {
   "cell_type": "code",
   "execution_count": null,
   "metadata": {},
   "outputs": [],
   "source": [
    "np.shape(weight_vectors)[:-1]"
   ]
  },
  {
   "cell_type": "code",
   "execution_count": null,
   "metadata": {},
   "outputs": [],
   "source": [
    "distances = np.full(SOM.mapsize, np.nan)\n",
    "iteration_map = np.nditer(distances, flags = ['multi_index'])\n",
    "\n",
    "for _ in iteration_map:\n",
    "    euclid_dist = np.linalg.norm(np.array(argmin_coords) -\\\n",
    "                                 np.array(iteration_map.multi_index))\n",
    "    distances[*iteration_map.multi_index] = euclid_dist"
   ]
  },
  {
   "cell_type": "code",
   "execution_count": null,
   "metadata": {},
   "outputs": [],
   "source": [
    "argmin_coords"
   ]
  },
  {
   "cell_type": "code",
   "execution_count": null,
   "metadata": {},
   "outputs": [],
   "source": [
    "plt.imshow(np.exp(-distances**2/3))"
   ]
  },
  {
   "cell_type": "code",
   "execution_count": null,
   "metadata": {},
   "outputs": [],
   "source": [
    "count = 0\n",
    "for i, _ in enumerate(np.shape(n_dim_map)):\n",
    "    for ii in range(np.shape(n_dim_map)[i]):\n",
    "        count += 1\n",
    "        print(count)"
   ]
  },
  {
   "cell_type": "code",
   "execution_count": null,
   "metadata": {},
   "outputs": [],
   "source": [
    "[mpdg_som_utils.chi_sq_dist(weight_vector = weight_vectors[ii, jj],\n",
    "                           data_vector = SOM.data[0],\n",
    "                           data_dim = 3) for ii in ]\n",
    "mpdg_som_utils.chi_sq_dist(weight_vector = weight_vectors,\n",
    "                           data_vector = SOM.data[0],\n",
    "                           data_dim = 3)"
   ]
  },
  {
   "cell_type": "code",
   "execution_count": null,
   "metadata": {},
   "outputs": [],
   "source": [
    "if (~use_covariance) & (data_dim is not None):\n",
    "    covar_matrix = np.diagflat([1] * data_dim)\n",
    "\n",
    "elif (~use_covariance) & (data_dim is None):\n",
    "    raise(ValueError('Please pass a dimensionality for the data (number of variables).'))\n",
    "\n",
    "elif (use_covariance) & (covar_vector is None):\n",
    "    raise(ValueError('There is no covariance matrix for the given data vector!'))\n",
    "\n",
    "covar_matrix = np.diagflat(covar_vector)\n",
    "inv_covar_matrix = linalg.inv(covar_matrix)\n",
    "\n",
    "vector_difference = data_vector - weight_vector\n",
    "\n",
    "np.dot(np.dot(vector_difference, inv_covar_matrix),vector_difference)"
   ]
  },
  {
   "cell_type": "code",
   "execution_count": null,
   "metadata": {},
   "outputs": [],
   "source": [
    "for i in np.nditer"
   ]
  },
  {
   "cell_type": "code",
   "execution_count": null,
   "metadata": {},
   "outputs": [],
   "source": [
    "plt.imshow(np.ones(SOM.mapsize))"
   ]
  },
  {
   "cell_type": "markdown",
   "metadata": {},
   "source": [
    "___"
   ]
  },
  {
   "cell_type": "code",
   "execution_count": null,
   "metadata": {},
   "outputs": [],
   "source": [
    "import numpy as np\n",
    "import matplotlib as mpl\n",
    "import matplotlib.pyplot as plt\n",
    "\n",
    "from astropy.io import fits\n",
    "from astropy.table import Table\n",
    "\n",
    "from mpdg_som import SelfOrganizingMap\n",
    "from mpdg_som_utils import SOM_LearningRateFunctions\n",
    "\n",
    "import mpdg_som_utils\n",
    "#load in data produced in primary_targeting_region.ipynb\n",
    "cut_data_file = '/data2/lsajkov/mpdg/data_products/GAMA/GAMA_primtarg_snr100_lms6_12_25jun2024.fits'\n",
    "\n",
    "with fits.open(cut_data_file) as cat:\n",
    "    GAMA_vect_data = Table(cat[1].data)\n",
    "\n",
    "GAMA_vect_data = GAMA_vect_data[GAMA_vect_data['log_stellar_mass'] < 9.5]\n",
    "\n",
    "GAMA_vect_data.add_column(GAMA_vect_data['r_mag_err'], index = 4, name = 'surf_bright_r_err')\n",
    "SOM = SelfOrganizingMap([16, 16],\n",
    "                        initialization = 'random')\n",
    "SOM.load_data(GAMA_vect_data['r_mag', 'gr_color', 'surf_bright_r'],\n",
    "              variable_names = ['r_mag', 'gr_color', 'surf_bright_r'])\n",
    "SOM.load_standard_deviations(GAMA_vect_data['r_mag_err', 'gr_color_err', 'surf_bright_r_err'])\n",
    "SOM.build_SOM()\n",
    "random_idx = np.random.rand(*SOM.mapsize) * SOM.data_len\n",
    "random_idx = np.array(random_idx, dtype = int)\n",
    "weight_vectors = SOM.data[random_idx]"
   ]
  },
  {
   "cell_type": "code",
   "execution_count": null,
   "metadata": {},
   "outputs": [],
   "source": [
    "step0_weights = weight_vectors.copy()"
   ]
  },
  {
   "cell_type": "code",
   "execution_count": null,
   "metadata": {},
   "outputs": [],
   "source": [
    "step = 1\n",
    "step1_weights = mpdg_som_utils.training_step(step0_weights,\n",
    "                                             SOM.data[0],\n",
    "                                             SOM.variances[0],\n",
    "                                             step,\n",
    "                                             mpdg_som_utils.SOM_LearningRateFunctions.power_law_lrf,\n",
    "                                             (1000, 0.5),\n",
    "                                             mpdg_som_utils.SOM_NeighborhoodFunctions.gaussian_nbh,\n",
    "                                             (SOM.mapsize, 2))\n"
   ]
  },
  {
   "cell_type": "code",
   "execution_count": null,
   "metadata": {},
   "outputs": [],
   "source": [
    "step = 1\n",
    "step1_weights = step0_weights\n",
    "for index in range(SOM.data_len):\n",
    "    step1_weights = mpdg_som_utils.training_step(step1_weights,\n",
    "                                                 SOM.data[index],\n",
    "                                                 SOM.variances[index],\n",
    "                                                 step,\n",
    "                                                 mpdg_som_utils.SOM_LearningRateFunctions.power_law_lrf,\n",
    "                                                 (1000, 0.5),\n",
    "                                                 mpdg_som_utils.SOM_NeighborhoodFunctions.gaussian_nbh,\n",
    "                                                 (SOM.mapsize, 2))"
   ]
  },
  {
   "cell_type": "code",
   "execution_count": null,
   "metadata": {},
   "outputs": [],
   "source": [
    "fig = plt.figure()\n",
    "for i, name in enumerate(SOM.variable_names):\n",
    "    ax = fig.add_subplot(1, 3, i + 1)\n",
    "    ax.imshow(step0_weights[:, :, i], origin = 'lower', cmap = 'Spectral')\n",
    "    ax.set_title(SOM.variable_names[i],\n",
    "                 fontsize = 12)\n",
    "    ax.axis('off')"
   ]
  },
  {
   "cell_type": "code",
   "execution_count": null,
   "metadata": {},
   "outputs": [],
   "source": [
    "fig = plt.figure()\n",
    "for i, name in enumerate(SOM.variable_names):\n",
    "    ax = fig.add_subplot(1, 3, i + 1)\n",
    "    ax.imshow(step1_weights[:, :, i], origin = 'lower', cmap = 'Spectral')\n",
    "    ax.set_title(SOM.variable_names[i],\n",
    "                 fontsize = 12)\n",
    "    ax.axis('off')"
   ]
  },
  {
   "cell_type": "code",
   "execution_count": null,
   "metadata": {},
   "outputs": [],
   "source": [
    "np.max(step1_weights - step0_weights)"
   ]
  },
  {
   "cell_type": "markdown",
   "metadata": {},
   "source": [
    "___"
   ]
  },
  {
   "cell_type": "code",
   "execution_count": null,
   "metadata": {},
   "outputs": [],
   "source": [
    "import numpy as np\n",
    "import matplotlib as mpl\n",
    "import matplotlib.pyplot as plt\n",
    "\n",
    "from astropy.io import fits\n",
    "from astropy.table import Table\n",
    "\n",
    "from mpdg_som import SelfOrganizingMap"
   ]
  },
  {
   "cell_type": "code",
   "execution_count": null,
   "metadata": {},
   "outputs": [],
   "source": [
    "#load in data produced in primary_targeting_region.ipynb\n",
    "cut_data_file = '/data2/lsajkov/mpdg/data_products/GAMA/GAMA_primtarg_snr100_lms6_12_25jun2024.fits'\n",
    "\n",
    "with fits.open(cut_data_file) as cat:\n",
    "    GAMA_vect_data = Table(cat[1].data)\n",
    "\n",
    "GAMA_vect_data = GAMA_vect_data[GAMA_vect_data['log_stellar_mass'] < 9.5]\n",
    "\n",
    "GAMA_vect_data.add_column(GAMA_vect_data['r_mag_err'], index = 4, name = 'surf_bright_r_err')"
   ]
  },
  {
   "cell_type": "code",
   "execution_count": null,
   "metadata": {},
   "outputs": [],
   "source": [
    "input_data = GAMA_vect_data['r_mag', 'gr_color', 'surf_bright_r']\n",
    "input_vars = GAMA_vect_data['r_mag_err', 'gr_color_err', 'surf_bright_r_err']\n",
    "\n",
    "input_labels = GAMA_vect_data['log_stellar_mass', 'redshift']\n",
    "\n",
    "tuple_labels = input_labels.as_array()\n",
    "list_labels = [list(values) for values in tuple_labels]\n",
    "input_labels = np.array(list_labels)"
   ]
  },
  {
   "cell_type": "code",
   "execution_count": null,
   "metadata": {},
   "outputs": [],
   "source": [
    "normalization_params = {}\n",
    "\n",
    "for variable in input_data.keys():\n",
    "    normalization_params[variable] = {}\n",
    "\n",
    "    normalization_params[variable]['mean'] = np.mean(GAMA_vect_data[variable])\n",
    "    normalization_params[variable]['std']  = np.std(GAMA_vect_data[variable])"
   ]
  },
  {
   "cell_type": "code",
   "execution_count": null,
   "metadata": {},
   "outputs": [],
   "source": [
    "normalized_input_data = input_data.copy()\n",
    "for variable in input_data.keys():\n",
    "    \n",
    "    normalized_input_data[variable] -= normalization_params[variable]['mean']\n",
    "    normalized_input_data[variable] /= normalization_params[variable]['std']"
   ]
  },
  {
   "cell_type": "code",
   "execution_count": null,
   "metadata": {},
   "outputs": [],
   "source": [
    "SOM = SelfOrganizingMap([16, 16],\n",
    "                        initialization = 'pca',\n",
    "                        maximum_steps = 100)\n",
    "\n",
    "data_cut = 1000\n",
    "\n",
    "SOM.load_data(normalized_input_data[:data_cut],\n",
    "              variable_names = ['r_mag', 'gr_color', 'surf_bright_r'])\n",
    "\n",
    "SOM.load_standard_deviations(input_vars[:data_cut])\n",
    "\n",
    "SOM.build_SOM()"
   ]
  },
  {
   "cell_type": "code",
   "execution_count": null,
   "metadata": {},
   "outputs": [],
   "source": [
    "SOM.data_statistics()\n",
    "SOM.show_map()"
   ]
  },
  {
   "cell_type": "code",
   "execution_count": null,
   "metadata": {},
   "outputs": [],
   "source": [
    "SOM.train(debug_max_steps = 1,\n",
    "          error_thresh = 1)"
   ]
  },
  {
   "cell_type": "code",
   "execution_count": null,
   "metadata": {},
   "outputs": [],
   "source": [
    "SOM.show_map()"
   ]
  },
  {
   "cell_type": "code",
   "execution_count": null,
   "metadata": {},
   "outputs": [],
   "source": [
    "SOM.label_map(input_labels[:data_cut],\n",
    "              parameter_names = ['log_mstar', 'redshift'])"
   ]
  },
  {
   "cell_type": "code",
   "execution_count": null,
   "metadata": {},
   "outputs": [],
   "source": [
    "print(f'| SOM after training. Step {SOM.step}.')\n",
    "fig = plt.figure(figsize = (10, 10), constrained_layout = True)\n",
    "for i, name in enumerate(SOM.parameter_names):\n",
    "    ax = fig.add_subplot(1, 3, i + 1)\n",
    "    imsh = ax.imshow(SOM.map_labels[..., i], origin = 'lower', cmap = 'jet')\n",
    "    # ax.set_title(SOM.variable_names[i],\n",
    "    #              fontsize = 12)\n",
    "    ax.axis('off')\n",
    "    \n",
    "    fig.colorbar(mappable = imsh, ax = ax,\n",
    "                 label = SOM.parameter_names[i], location = 'bottom',\n",
    "                 pad = 0.01)"
   ]
  },
  {
   "cell_type": "code",
   "execution_count": null,
   "metadata": {},
   "outputs": [],
   "source": [
    "som_output = np.array([SOM.map_labels[*idx] for idx in SOM.bmu_indices])"
   ]
  },
  {
   "cell_type": "code",
   "execution_count": null,
   "metadata": {},
   "outputs": [],
   "source": [
    "z_outlier_vals = np.abs(som_output[:, 1] - input_labels[:, 1][:data_cut])/(1 + input_labels[:, 1][:data_cut])\n",
    "z_outlier_frac = np.sum(z_outlier_vals > 0.15)/len(z_outlier_vals)"
   ]
  },
  {
   "cell_type": "code",
   "execution_count": null,
   "metadata": {},
   "outputs": [],
   "source": [
    "z_outlier_frac"
   ]
  },
  {
   "cell_type": "code",
   "execution_count": null,
   "metadata": {},
   "outputs": [],
   "source": [
    "log_mstar = np.median(np.abs(som_output[:, 0] - input_labels[:data_cut, 0]))"
   ]
  },
  {
   "cell_type": "code",
   "execution_count": null,
   "metadata": {},
   "outputs": [],
   "source": [
    "log_mstar_mad, z_mad = np.median(np.abs(som_output - input_labels[:data_cut]), axis = 0)"
   ]
  },
  {
   "cell_type": "code",
   "execution_count": null,
   "metadata": {},
   "outputs": [],
   "source": [
    "fig = plt.figure(figsize = (10, 11), constrained_layout = True)\n",
    "ax = fig.add_subplot()\n",
    "\n",
    "hb = ax.hexbin(input_labels[..., 0][:data_cut],\n",
    "               som_output[..., 0],\n",
    "               mincnt = 1, cmap = 'jet')\n",
    "\n",
    "fig.colorbar(mappable = hb, ax = ax,\n",
    "             location = 'top', pad = 0, label = '$N_{\\mathrm{galaxies}}$')\n",
    "\n",
    "ax.set_xlim(8, 9.6)\n",
    "ax.set_ylim(8, 9.6)\n",
    "\n",
    "ax.set_xlabel('GAMA log$_{10}(M_*/M_{\\odot})$\\nTrue')\n",
    "ax.set_ylabel('Predicted\\nSOM log$_{10}(M_*/M_{\\odot})$')\n",
    "\n",
    "ax.axline([0, 0], slope = 1, color = 'red')\n",
    "ax.text(0.65, 0.01,\n",
    "       f'MAD: {log_mstar_mad:.3f} dex',\n",
    "       ma = 'right',\n",
    "       transform = ax.transAxes)"
   ]
  },
  {
   "cell_type": "code",
   "execution_count": null,
   "metadata": {},
   "outputs": [],
   "source": [
    "fig = plt.figure(figsize = (10, 11), constrained_layout = True)\n",
    "ax = fig.add_subplot()\n",
    "\n",
    "hb = ax.hexbin(input_labels[..., 1][:data_cut],\n",
    "               som_output[..., 1],\n",
    "               mincnt = 1, cmap = 'jet')\n",
    "\n",
    "fig.colorbar(mappable = hb, ax = ax,\n",
    "             location = 'top', pad = 0.02, label = '$N_{\\mathrm{galaxies}}$')\n",
    "\n",
    "ax.set_xlim(0, 0.26)\n",
    "ax.set_ylim(0, 0.26)\n",
    "\n",
    "ax.set_xlabel('GAMA $z$\\nTrue')\n",
    "ax.set_ylabel('Predicted\\nSOM $z$')\n",
    "\n",
    "ax.axline([0, 0], slope = 1, color = 'red')\n",
    "ax.text(0.65, 0.01,\n",
    "       f'MAD: {z_mad:.3f} dex',\n",
    "       ma = 'right',\n",
    "       transform = ax.transAxes)"
   ]
  },
  {
   "cell_type": "code",
   "execution_count": null,
   "metadata": {},
   "outputs": [],
   "source": [
    "np.shape(SOM.map_labels)"
   ]
  },
  {
   "cell_type": "code",
   "execution_count": null,
   "metadata": {},
   "outputs": [],
   "source": [
    "populated_cells = np.unique(SOM.bmu_indices, axis = 0)"
   ]
  },
  {
   "cell_type": "code",
   "execution_count": null,
   "metadata": {},
   "outputs": [],
   "source": [
    "np.all(SOM.bmu_indices == (populated_cells[33]), axis = -1)"
   ]
  },
  {
   "cell_type": "code",
   "execution_count": null,
   "metadata": {},
   "outputs": [],
   "source": [
    "np.equal(SOM.bmu_indices, populated_cells[33],\n",
    "         )"
   ]
  },
  {
   "cell_type": "code",
   "execution_count": null,
   "metadata": {},
   "outputs": [],
   "source": [
    "plt.imshow(SOM.map_labels[..., 0])"
   ]
  },
  {
   "cell_type": "code",
   "execution_count": null,
   "metadata": {},
   "outputs": [],
   "source": [
    "plt.scatter(populated_cells[:, 0], populated_cells[:, 1])"
   ]
  },
  {
   "cell_type": "code",
   "execution_count": null,
   "metadata": {},
   "outputs": [],
   "source": [
    "SOM.bmu_indices"
   ]
  },
  {
   "cell_type": "code",
   "execution_count": null,
   "metadata": {},
   "outputs": [],
   "source": [
    "np.sum(SOM.bmu_indices == [5, 3], axis = -1) == 2"
   ]
  },
  {
   "cell_type": "code",
   "execution_count": null,
   "metadata": {},
   "outputs": [],
   "source": [
    "populated_cells[0]"
   ]
  },
  {
   "cell_type": "code",
   "execution_count": null,
   "metadata": {},
   "outputs": [],
   "source": [
    "matching_idx"
   ]
  },
  {
   "cell_type": "code",
   "execution_count": null,
   "metadata": {},
   "outputs": [],
   "source": [
    "(SOM.map_labels)"
   ]
  },
  {
   "cell_type": "code",
   "execution_count": null,
   "metadata": {},
   "outputs": [],
   "source": [
    "SOM.map_labels[*populated_cells[0]]"
   ]
  },
  {
   "cell_type": "code",
   "execution_count": null,
   "metadata": {},
   "outputs": [],
   "source": [
    "populated_cells[0]"
   ]
  },
  {
   "cell_type": "code",
   "execution_count": null,
   "metadata": {},
   "outputs": [],
   "source": [
    "for cell in populated_cells:\n",
    "    print(cell)"
   ]
  },
  {
   "cell_type": "code",
   "execution_count": null,
   "metadata": {},
   "outputs": [],
   "source": [
    "(SOM.parameters)"
   ]
  },
  {
   "cell_type": "markdown",
   "metadata": {},
   "source": [
    "___"
   ]
  },
  {
   "cell_type": "markdown",
   "metadata": {},
   "source": [
    "Build mapping function"
   ]
  },
  {
   "cell_type": "code",
   "execution_count": null,
   "metadata": {},
   "outputs": [],
   "source": [
    "idx = SOM.bmu_indices.copy()"
   ]
  },
  {
   "cell_type": "code",
   "execution_count": null,
   "metadata": {},
   "outputs": [],
   "source": [
    "fig = plt.figure(figsize = (5, 5))\n",
    "ax = fig.add_subplot()\n",
    "\n",
    "ax.scatter(idx[..., 0], idx[..., 1])\n",
    "ax.axis('off')"
   ]
  },
  {
   "cell_type": "code",
   "execution_count": null,
   "metadata": {},
   "outputs": [],
   "source": [
    "populated_cells = np.unique(idx, axis = 0)"
   ]
  },
  {
   "cell_type": "code",
   "execution_count": null,
   "metadata": {},
   "outputs": [],
   "source": [
    "parameters = input_labels\n",
    "tuple_params = parameters.as_array()\n",
    "list_params = [list(values) for values in tuple_params]\n",
    "parameters = np.array(list_params)"
   ]
  },
  {
   "cell_type": "code",
   "execution_count": null,
   "metadata": {},
   "outputs": [],
   "source": [
    "np.median(parameters, axis = 0)"
   ]
  },
  {
   "cell_type": "code",
   "execution_count": null,
   "metadata": {},
   "outputs": [],
   "source": [
    "np.median(parameters[:, 0])"
   ]
  },
  {
   "cell_type": "code",
   "execution_count": null,
   "metadata": {},
   "outputs": [],
   "source": [
    "np.median(input_labels[:10], axis = 0)"
   ]
  },
  {
   "cell_type": "code",
   "execution_count": null,
   "metadata": {},
   "outputs": [],
   "source": []
  },
  {
   "cell_type": "code",
   "execution_count": null,
   "metadata": {},
   "outputs": [],
   "source": [
    "len(matching_idx)"
   ]
  },
  {
   "cell_type": "code",
   "execution_count": null,
   "metadata": {},
   "outputs": [],
   "source": [
    "sum_of_cells = 0\n",
    "for cell in populated_cells:\n",
    "    print(cell)\n",
    "    matching_idx = np.sum(idx == cell, axis = -1) == SOM.map_dimensionality\n",
    "    "
   ]
  },
  {
   "cell_type": "markdown",
   "metadata": {},
   "source": [
    "___"
   ]
  },
  {
   "cell_type": "markdown",
   "metadata": {},
   "source": [
    "Build error estimator"
   ]
  },
  {
   "cell_type": "code",
   "execution_count": null,
   "metadata": {},
   "outputs": [],
   "source": [
    "fig = plt.figure(figsize = (12, 10))\n",
    "ax = fig.add_subplot()\n",
    "\n",
    "hb = ax.hexbin(bmu_idx[:, 0], bmu_idx[:, 1], gridsize = [16, 8])\n",
    "fig.colorbar(mappable = hb, label = 'datapoints')"
   ]
  },
  {
   "cell_type": "code",
   "execution_count": null,
   "metadata": {},
   "outputs": [],
   "source": [
    "weight_vectors = SOM.weights_map.copy()"
   ]
  },
  {
   "cell_type": "code",
   "execution_count": null,
   "metadata": {},
   "outputs": [],
   "source": [
    "max_quant_error = 0\n",
    "for index in range(SOM.data_len):\n",
    "    quant_error = np.dot(SOM.data[index], SOM.weights_map[*SOM.bmu_indices[index], :])\n",
    "    if quant_error > max_quant_error: max_quant_error = quant_error"
   ]
  },
  {
   "cell_type": "code",
   "execution_count": null,
   "metadata": {},
   "outputs": [],
   "source": [
    "quant_error"
   ]
  },
  {
   "cell_type": "code",
   "execution_count": null,
   "metadata": {},
   "outputs": [],
   "source": [
    "SOM.bmu_indices[0]"
   ]
  },
  {
   "cell_type": "code",
   "execution_count": null,
   "metadata": {},
   "outputs": [],
   "source": [
    "import numpy as np\n",
    "import matplotlib as mpl\n",
    "import matplotlib.pyplot as plt\n",
    "\n",
    "from astropy.io import fits\n",
    "from astropy.table import Table\n",
    "\n",
    "from mpdg_som import SelfOrganizingMap\n",
    "#load in data produced in primary_targeting_region.ipynb\n",
    "cut_data_file = '/data2/lsajkov/mpdg/data_products/GAMA/GAMA_primtarg_snr100_lms6_12_25jun2024.fits'\n",
    "\n",
    "with fits.open(cut_data_file) as cat:\n",
    "    GAMA_vect_data = Table(cat[1].data)\n",
    "\n",
    "GAMA_vect_data = GAMA_vect_data[GAMA_vect_data['log_stellar_mass'] < 9.5]\n",
    "\n",
    "GAMA_vect_data.add_column(GAMA_vect_data['r_mag_err'], index = 4, name = 'surf_bright_r_err')\n",
    "input_data = GAMA_vect_data['r_mag', 'gr_color', 'surf_bright_r']\n",
    "input_vars = GAMA_vect_data['r_mag_err', 'gr_color_err', 'surf_bright_r_err']\n",
    "\n",
    "input_labels = GAMA_vect_data['log_stellar_mass', 'redshift']\n",
    "\n",
    "tuple_labels = input_labels.as_array()\n",
    "list_labels = [list(values) for values in tuple_labels]\n",
    "input_labels = np.array(list_labels)\n",
    "\n",
    "normalization_params = {}\n",
    "\n",
    "for variable in input_data.keys():\n",
    "    normalization_params[variable] = {}\n",
    "\n",
    "    normalization_params[variable]['mean'] = np.mean(GAMA_vect_data[variable])\n",
    "    normalization_params[variable]['std']  = np.std(GAMA_vect_data[variable])\n",
    "\n",
    "normalized_input_data = input_data.copy()\n",
    "for variable in input_data.keys():\n",
    "    \n",
    "    normalized_input_data[variable] -= normalization_params[variable]['mean']\n",
    "    normalized_input_data[variable] /= normalization_params[variable]['std']\n",
    "\n",
    "SOM = SelfOrganizingMap(mapsize = [16, 16])\n",
    "\n",
    "data_cut = 1000\n",
    "\n",
    "SOM.load_data(normalized_input_data[:data_cut],\n",
    "              variable_names = ['r_mag', 'gr_color', 'surf_bright_r'])\n",
    "\n",
    "SOM.load_standard_deviations(input_vars[:data_cut])\n",
    "\n",
    "SOM.build_SOM()"
   ]
  },
  {
   "cell_type": "code",
   "execution_count": null,
   "metadata": {},
   "outputs": [],
   "source": [
    "def quantization_error(weight_vectors,\n",
    "                        data,\n",
    "                        bmu_indices):\n",
    "    \n",
    "    quantization_errors = np.full_like(data, np.nan)\n",
    "    for index in range(len(data)):\n",
    "        bmu_index = bmu_indices[index]\n",
    "        data_vector = data[index]\n",
    "        misalignment = weight_vectors[*bmu_index, :] - data_vector\n",
    "        quantization_errors[index] = np.linalg.norm(misalignment)\n",
    "        \n",
    "    rms_quantization_errors = np.sqrt(np.sum(quantization_errors**2))\n",
    "    return rms_quantization_errors\n"
   ]
  },
  {
   "cell_type": "code",
   "execution_count": null,
   "metadata": {},
   "outputs": [],
   "source": [
    "quantization_error(SOM.weights_map,\n",
    "                   SOM.data,\n",
    "                   SOM.bmu_indices)"
   ]
  },
  {
   "cell_type": "code",
   "execution_count": null,
   "metadata": {},
   "outputs": [],
   "source": [
    "np.hypot(1, 2, 3)"
   ]
  },
  {
   "cell_type": "markdown",
   "metadata": {},
   "source": [
    "___"
   ]
  },
  {
   "cell_type": "markdown",
   "metadata": {},
   "source": [
    "Build shuffler"
   ]
  },
  {
   "cell_type": "code",
   "execution_count": 1,
   "metadata": {},
   "outputs": [],
   "source": [
    "import numpy as np\n",
    "import matplotlib as mpl\n",
    "import matplotlib.pyplot as plt\n",
    "\n",
    "from astropy.io import fits\n",
    "from astropy.table import Table\n",
    "\n",
    "from mpdg_som import SelfOrganizingMap\n",
    "#load in data produced in primary_targeting_region.ipynb\n",
    "cut_data_file = '/data2/lsajkov/mpdg/data_products/GAMA/GAMA_primtarg_snr100_lms6_12_25jun2024.fits'\n",
    "\n",
    "with fits.open(cut_data_file) as cat:\n",
    "    GAMA_vect_data = Table(cat[1].data)\n",
    "\n",
    "GAMA_vect_data = GAMA_vect_data[GAMA_vect_data['log_stellar_mass'] < 9.5]\n",
    "\n",
    "GAMA_vect_data.add_column(GAMA_vect_data['r_mag_err'], index = 4, name = 'surf_bright_r_err')\n",
    "input_data = GAMA_vect_data['r_mag', 'gr_color', 'surf_bright_r']\n",
    "input_vars = GAMA_vect_data['r_mag_err', 'gr_color_err', 'surf_bright_r_err']\n",
    "\n",
    "input_labels = GAMA_vect_data['r_mag', 'gr_color', 'surf_bright_r', 'log_stellar_mass', 'redshift']\n",
    "\n",
    "tuple_labels = input_labels.as_array()\n",
    "list_labels = [list(values) for values in tuple_labels]\n",
    "input_labels = np.array(list_labels)\n",
    "\n",
    "normalization_params = {}\n",
    "\n",
    "for variable in input_data.keys():\n",
    "    normalization_params[variable] = {}\n",
    "\n",
    "    normalization_params[variable]['mean'] = np.mean(GAMA_vect_data[variable])\n",
    "    normalization_params[variable]['std']  = np.std(GAMA_vect_data[variable])\n",
    "\n",
    "normalized_input_data = input_data.copy()\n",
    "for variable in input_data.keys():\n",
    "    \n",
    "    normalized_input_data[variable] -= normalization_params[variable]['mean']\n",
    "    normalized_input_data[variable] /= normalization_params[variable]['std']\n",
    "\n",
    "SOM = SelfOrganizingMap(mapsize = [16, 16])\n",
    "\n",
    "data_cut = 500\n",
    "\n",
    "SOM.load_data(normalized_input_data[:data_cut],\n",
    "              variable_names = ['r_mag', 'gr_color', 'surf_bright_r'])\n",
    "\n",
    "SOM.load_standard_deviations(input_vars[:data_cut])\n",
    "\n",
    "SOM.build_SOM()"
   ]
  },
  {
   "cell_type": "code",
   "execution_count": 64,
   "metadata": {},
   "outputs": [
    {
     "name": "stdout",
     "output_type": "stream",
     "text": [
      "Step 1 complete. Error: 0.934\n"
     ]
    },
    {
     "ename": "KeyboardInterrupt",
     "evalue": "",
     "output_type": "error",
     "traceback": [
      "\u001b[0;31m---------------------------------------------------------------------------\u001b[0m",
      "\u001b[0;31mKeyboardInterrupt\u001b[0m                         Traceback (most recent call last)",
      "Cell \u001b[0;32mIn[64], line 1\u001b[0m\n\u001b[0;32m----> 1\u001b[0m SOM\u001b[38;5;241m.\u001b[39mtrain()\n",
      "File \u001b[0;32m/data2/lsajkov/mpdg/strw_mpdg/mpdg_som.py:287\u001b[0m, in \u001b[0;36mSelfOrganizingMap.train\u001b[0;34m(self)\u001b[0m\n\u001b[1;32m    284\u001b[0m np\u001b[38;5;241m.\u001b[39mrandom\u001b[38;5;241m.\u001b[39mshuffle(\u001b[38;5;28mself\u001b[39m\u001b[38;5;241m.\u001b[39mrandomized_data_indices)\n\u001b[1;32m    286\u001b[0m \u001b[38;5;28;01mfor\u001b[39;00m index \u001b[38;5;129;01min\u001b[39;00m \u001b[38;5;28mself\u001b[39m\u001b[38;5;241m.\u001b[39mrandomized_data_indices:\n\u001b[0;32m--> 287\u001b[0m     weights, bmu_coords \u001b[38;5;241m=\u001b[39m training_step(weights,\n\u001b[1;32m    288\u001b[0m                                         complete_data[index],\n\u001b[1;32m    289\u001b[0m                                         complete_variance[index],\n\u001b[1;32m    290\u001b[0m                                         \u001b[38;5;28mself\u001b[39m\u001b[38;5;241m.\u001b[39mstep,\n\u001b[1;32m    291\u001b[0m                                         lrf\u001b[38;5;241m.\u001b[39mpower_law_lrf,\n\u001b[1;32m    292\u001b[0m                                         (\u001b[38;5;28mself\u001b[39m\u001b[38;5;241m.\u001b[39mlearning_rate, \u001b[38;5;28mself\u001b[39m\u001b[38;5;241m.\u001b[39mmaximum_steps),\n\u001b[1;32m    293\u001b[0m                                         nhb\u001b[38;5;241m.\u001b[39mgaussian_nbh,\n\u001b[1;32m    294\u001b[0m                                         (\u001b[38;5;28mself\u001b[39m\u001b[38;5;241m.\u001b[39mmapsize, \u001b[38;5;28mself\u001b[39m\u001b[38;5;241m.\u001b[39mkernel_spread, \u001b[38;5;28mself\u001b[39m\u001b[38;5;241m.\u001b[39mmaximum_steps)\n\u001b[1;32m    295\u001b[0m                                         )\n\u001b[1;32m    296\u001b[0m     \u001b[38;5;28mself\u001b[39m\u001b[38;5;241m.\u001b[39mbmu_indices[index] \u001b[38;5;241m=\u001b[39m (bmu_coords)\n\u001b[1;32m    298\u001b[0m \u001b[38;5;28mself\u001b[39m\u001b[38;5;241m.\u001b[39mweights_map \u001b[38;5;241m=\u001b[39m weights\n",
      "File \u001b[0;32m/data2/lsajkov/mpdg/strw_mpdg/mpdg_som_utils.py:59\u001b[0m, in \u001b[0;36mtraining_step\u001b[0;34m(weight_vectors, data_vector, covar_vector, step, learning_rate_function, lrf_args, neighborhood_function, nbh_args)\u001b[0m\n\u001b[1;32m     47\u001b[0m \u001b[38;5;28;01mdef\u001b[39;00m \u001b[38;5;21mtraining_step\u001b[39m(weight_vectors,\n\u001b[1;32m     48\u001b[0m                   data_vector,\n\u001b[1;32m     49\u001b[0m                   covar_vector,\n\u001b[0;32m   (...)\u001b[0m\n\u001b[1;32m     54\u001b[0m                   nbh_args\n\u001b[1;32m     55\u001b[0m                   ):\n\u001b[1;32m     57\u001b[0m     current_weight_vectors \u001b[38;5;241m=\u001b[39m weight_vectors\u001b[38;5;241m.\u001b[39mcopy()\n\u001b[0;32m---> 59\u001b[0m     bmu_coords \u001b[38;5;241m=\u001b[39m find_bmu_coords(current_weight_vectors,\n\u001b[1;32m     60\u001b[0m                                  data_vector,\n\u001b[1;32m     61\u001b[0m                                  covar_vector)\n\u001b[1;32m     63\u001b[0m     learning_rate_mult \u001b[38;5;241m=\u001b[39m learning_rate_function(step,\n\u001b[1;32m     64\u001b[0m                                                 \u001b[38;5;241m*\u001b[39mlrf_args)\n\u001b[1;32m     66\u001b[0m     neighborhood_mult \u001b[38;5;241m=\u001b[39m neighborhood_function(step, bmu_coords,\n\u001b[1;32m     67\u001b[0m                                               \u001b[38;5;241m*\u001b[39mnbh_args)\n",
      "File \u001b[0;32m/data2/lsajkov/mpdg/strw_mpdg/mpdg_som_utils.py:37\u001b[0m, in \u001b[0;36mfind_bmu_coords\u001b[0;34m(weight_vectors, data_vector, covar_vector)\u001b[0m\n\u001b[1;32m     34\u001b[0m iteration_map \u001b[38;5;241m=\u001b[39m np\u001b[38;5;241m.\u001b[39mnditer(distance_map, flags \u001b[38;5;241m=\u001b[39m [\u001b[38;5;124m'\u001b[39m\u001b[38;5;124mmulti_index\u001b[39m\u001b[38;5;124m'\u001b[39m])\n\u001b[1;32m     36\u001b[0m \u001b[38;5;28;01mfor\u001b[39;00m _ \u001b[38;5;129;01min\u001b[39;00m iteration_map:\n\u001b[0;32m---> 37\u001b[0m     distance \u001b[38;5;241m=\u001b[39m chi_sq_dist(weight_vectors[\u001b[38;5;241m*\u001b[39miteration_map\u001b[38;5;241m.\u001b[39mmulti_index],\n\u001b[1;32m     38\u001b[0m                            data_vector,\n\u001b[1;32m     39\u001b[0m                            covar_vector,\n\u001b[1;32m     40\u001b[0m                            use_covariance \u001b[38;5;241m=\u001b[39m \u001b[38;5;28;01mTrue\u001b[39;00m)\n\u001b[1;32m     41\u001b[0m     distance_map[\u001b[38;5;241m*\u001b[39miteration_map\u001b[38;5;241m.\u001b[39mmulti_index] \u001b[38;5;241m=\u001b[39m distance\n\u001b[1;32m     43\u001b[0m argmin_idx \u001b[38;5;241m=\u001b[39m np\u001b[38;5;241m.\u001b[39margmin(distance_map)\n",
      "File \u001b[0;32m/data2/lsajkov/mpdg/strw_mpdg/mpdg_som_utils.py:21\u001b[0m, in \u001b[0;36mchi_sq_dist\u001b[0;34m(weight_vector, data_vector, covar_vector, use_covariance, data_dim)\u001b[0m\n\u001b[1;32m     18\u001b[0m     \u001b[38;5;28;01mraise\u001b[39;00m(\u001b[38;5;167;01mValueError\u001b[39;00m(\u001b[38;5;124m'\u001b[39m\u001b[38;5;124mThere is no covariance matrix for the given data vector!\u001b[39m\u001b[38;5;124m'\u001b[39m))\n\u001b[1;32m     20\u001b[0m \u001b[38;5;28;01melif\u001b[39;00m (use_covariance) \u001b[38;5;241m&\u001b[39m (covar_vector \u001b[38;5;129;01mis\u001b[39;00m \u001b[38;5;129;01mnot\u001b[39;00m \u001b[38;5;28;01mNone\u001b[39;00m):\n\u001b[0;32m---> 21\u001b[0m     covar_matrix \u001b[38;5;241m=\u001b[39m np\u001b[38;5;241m.\u001b[39mdiagflat(covar_vector)\n\u001b[1;32m     23\u001b[0m inv_covar_matrix \u001b[38;5;241m=\u001b[39m linalg\u001b[38;5;241m.\u001b[39minv(covar_matrix)\n\u001b[1;32m     25\u001b[0m vector_difference \u001b[38;5;241m=\u001b[39m data_vector \u001b[38;5;241m-\u001b[39m weight_vector\n",
      "File \u001b[0;32m/data2/lsajkov/mpdg/conda/envs/mpdg/lib/python3.12/site-packages/numpy/lib/twodim_base.py:363\u001b[0m, in \u001b[0;36mdiagflat\u001b[0;34m(v, k)\u001b[0m\n\u001b[1;32m    361\u001b[0m \u001b[38;5;28;01mif\u001b[39;00m \u001b[38;5;129;01mnot\u001b[39;00m wrap:\n\u001b[1;32m    362\u001b[0m     \u001b[38;5;28;01mreturn\u001b[39;00m res\n\u001b[0;32m--> 363\u001b[0m \u001b[38;5;28;01mreturn\u001b[39;00m wrap(res)\n",
      "\u001b[0;31mKeyboardInterrupt\u001b[0m: "
     ]
    }
   ],
   "source": [
    "SOM.train()"
   ]
  },
  {
   "cell_type": "code",
   "execution_count": 21,
   "metadata": {},
   "outputs": [],
   "source": [
    "np.save('/home/lsajkov/Desktop/save_map', SOM.weights_map)\n",
    "# with open('/home/lsajkov/Desktop/save_map', 'w') as map:"
   ]
  },
  {
   "cell_type": "markdown",
   "metadata": {},
   "source": [
    "___"
   ]
  },
  {
   "cell_type": "markdown",
   "metadata": {},
   "source": [
    "### Build better labeling functions"
   ]
  },
  {
   "cell_type": "code",
   "execution_count": null,
   "metadata": {},
   "outputs": [],
   "source": [
    "labeled_data_bmu_idx = {}\n",
    "\n",
    "i = 0; j = 0\n",
    "for index in range(SOM.data_len):\n",
    "\n",
    "    bmu_coords = [i%20, j%20]\n",
    "    if f'{bmu_coords}' in labeled_data_bmu_idx.keys():\n",
    "        labeled_data_bmu_idx[f'{bmu_coords}'].append(index)\n",
    "    else:\n",
    "        labeled_data_bmu_idx[f'{bmu_coords}'] = []\n",
    "        labeled_data_bmu_idx[f'{bmu_coords}'].append(index)\n",
    "\n",
    "    i += 1; j += 1"
   ]
  },
  {
   "cell_type": "code",
   "execution_count": null,
   "metadata": {},
   "outputs": [],
   "source": [
    "iteration_map = np.nditer(SOM.weights_map[..., 0], flags = ['multi_index'])\n",
    "\n",
    "for _ in iteration_map:\n",
    "\n",
    "    index = list(iteration_map.multi_index)\n",
    "\n",
    "    if f'{index}' in labeled_data_bmu_idx.keys():\n",
    "        local_vectors = "
   ]
  },
  {
   "cell_type": "code",
   "execution_count": 6,
   "metadata": {},
   "outputs": [],
   "source": [
    "SOM.label_map(input_labels)"
   ]
  },
  {
   "cell_type": "code",
   "execution_count": 9,
   "metadata": {},
   "outputs": [],
   "source": [
    "from mpdg_som_utils import find_bmu_coords"
   ]
  },
  {
   "cell_type": "code",
   "execution_count": 11,
   "metadata": {},
   "outputs": [],
   "source": [
    "\n",
    "\n",
    "unitary_covar_vector = [1] * SOM.data_dim\n",
    "\n",
    "labeled_data_bmu_idx = {}\n",
    "for index in range(SOM.labeled_data_len):\n",
    "\n",
    "    bmu_coords = find_bmu_coords(SOM.weights_map,\n",
    "                                SOM.labeled_data[index, :SOM.data_dim],\n",
    "                                unitary_covar_vector)\n",
    "        \n",
    "    if f'{bmu_coords}' in labeled_data_bmu_idx.keys():\n",
    "        labeled_data_bmu_idx[f'{bmu_coords}'].append(index)\n",
    "    else:\n",
    "        labeled_data_bmu_idx[f'{bmu_coords}'] = []\n",
    "        labeled_data_bmu_idx[f'{bmu_coords}'].append(index)\n",
    "\n",
    "    # self.map_labels = np.full([*self.mapsize, self.params_dim], np.nan)\n",
    "    \n",
    "    # iteration_map = np.nditer(self.map_labels[..., 0], flags = ['multi_index'])\n",
    "\n",
    "    # for _ in iteration_map:\n",
    "        \n",
    "    #     index = list(iteration_map.multi_index)\n",
    "\n",
    "    #     if f'{index}' in labeled_data_bmu_idx.keys():\n",
    "    #         local_vectors = self.labeled_data[labeled_data_bmu_idx[f'{index}']]\n",
    "    #         self.map_labels[*index] = np.nanmedian(local_vectors, axis = 0)\n"
   ]
  },
  {
   "cell_type": "code",
   "execution_count": 37,
   "metadata": {},
   "outputs": [],
   "source": [
    "SOM.map_labels = np.full([*SOM.mapsize, SOM.params_dim], np.nan)\n",
    "\n",
    "iteration_map = np.nditer(SOM.map_labels[..., 0], flags = ['multi_index'])\n",
    "\n",
    "for _ in iteration_map:\n",
    "    \n",
    "    index = iteration_map.multi_index\n",
    "\n",
    "    if f'{index}' in labeled_data_bmu_idx.keys():\n",
    "        local_vectors = SOM.labeled_data[labeled_data_bmu_idx[f'{index}']]\n",
    "        SOM.map_labels[*index] = np.nanmedian(local_vectors[:, -SOM.params_dim:], axis = 0)"
   ]
  },
  {
   "cell_type": "code",
   "execution_count": 39,
   "metadata": {},
   "outputs": [
    {
     "data": {
      "text/plain": [
       "10"
      ]
     },
     "execution_count": 39,
     "metadata": {},
     "output_type": "execute_result"
    }
   ],
   "source": [
    "np.sum(~np.isnan(SOM.map_labels))"
   ]
  },
  {
   "cell_type": "code",
   "execution_count": 41,
   "metadata": {},
   "outputs": [
    {
     "data": {
      "text/plain": [
       "<matplotlib.image.AxesImage at 0x7f5c791193a0>"
      ]
     },
     "execution_count": 41,
     "metadata": {},
     "output_type": "execute_result"
    },
    {
     "data": {
      "image/png": "[encoded data removed]",
      "text/plain": [
       "<Figure size 640x480 with 1 Axes>"
      ]
     },
     "metadata": {},
     "output_type": "display_data"
    }
   ],
   "source": [
    "plt.imshow(SOM.map_labels[..., 1])"
   ]
  },
  {
   "cell_type": "markdown",
   "metadata": {},
   "source": [
    "___"
   ]
  },
  {
   "cell_type": "markdown",
   "metadata": {},
   "source": [
    "### Test Optuna"
   ]
  },
  {
   "cell_type": "code",
   "execution_count": 1,
   "metadata": {},
   "outputs": [
    {
     "name": "stdout",
     "output_type": "stream",
     "text": [
      "Intel MKL WARNING: Support of Intel(R) Streaming SIMD Extensions 4.2 (Intel(R) SSE4.2) enabled only processors has been deprecated. Intel oneAPI Math Kernel Library 2025.0 will require Intel(R) Advanced Vector Extensions (Intel(R) AVX) instructions.\n",
      "Intel MKL WARNING: Support of Intel(R) Streaming SIMD Extensions 4.2 (Intel(R) SSE4.2) enabled only processors has been deprecated. Intel oneAPI Math Kernel Library 2025.0 will require Intel(R) Advanced Vector Extensions (Intel(R) AVX) instructions.\n"
     ]
    }
   ],
   "source": [
    "import optuna"
   ]
  },
  {
   "cell_type": "code",
   "execution_count": 9,
   "metadata": {},
   "outputs": [],
   "source": [
    "def ObjectiveFunction(trial):\n",
    "\n",
    "    x = trial.suggest_float('x', -10, 10)\n",
    "\n",
    "    return (x - 2)**2"
   ]
  },
  {
   "cell_type": "code",
   "execution_count": 10,
   "metadata": {},
   "outputs": [
    {
     "name": "stderr",
     "output_type": "stream",
     "text": [
      "[I 2024-07-02 21:35:56,453] A new study created in memory with name: test\n"
     ]
    }
   ],
   "source": [
    "study = optuna.create_study(study_name = 'test',\n",
    "                            direction = 'minimize')"
   ]
  },
  {
   "cell_type": "code",
   "execution_count": 17,
   "metadata": {},
   "outputs": [],
   "source": [
    "trial_no = []"
   ]
  },
  {
   "cell_type": "code",
   "execution_count": 25,
   "metadata": {},
   "outputs": [],
   "source": [
    "def dump_to_file(study, frozen_trial):\n",
    "\n",
    "    ft = frozen_trial\n",
    "    with open(log_file, 'a') as log:\n",
    "        log.write(f'{ft.number}\\t{ft.value:3f}\\t{ft.params}\\n')"
   ]
  },
  {
   "cell_type": "code",
   "execution_count": 26,
   "metadata": {},
   "outputs": [
    {
     "name": "stderr",
     "output_type": "stream",
     "text": [
      "[I 2024-07-02 21:39:46,360] Trial 100 finished with value: 6.805237721489455 and parameters: {'x': -0.608685056017582}. Best is trial 42 with value: 1.8142930688825113e-05.\n",
      "[I 2024-07-02 21:39:46,367] Trial 101 finished with value: 0.026639001072017332 and parameters: {'x': 2.1632145859658913}. Best is trial 42 with value: 1.8142930688825113e-05.\n",
      "[I 2024-07-02 21:39:46,372] Trial 102 finished with value: 0.008244244316263938 and parameters: {'x': 1.9092021789013418}. Best is trial 42 with value: 1.8142930688825113e-05.\n",
      "[I 2024-07-02 21:39:46,376] Trial 103 finished with value: 2.1275017481497582 and parameters: {'x': 0.5414041861606218}. Best is trial 42 with value: 1.8142930688825113e-05.\n",
      "[I 2024-07-02 21:39:46,380] Trial 104 finished with value: 0.4460564964436549 and parameters: {'x': 1.3321253886816367}. Best is trial 42 with value: 1.8142930688825113e-05.\n",
      "[I 2024-07-02 21:39:46,385] Trial 105 finished with value: 0.252728414774878 and parameters: {'x': 2.502721010874698}. Best is trial 42 with value: 1.8142930688825113e-05.\n",
      "[I 2024-07-02 21:39:46,391] Trial 106 finished with value: 0.9646716354199615 and parameters: {'x': 1.017823012171451}. Best is trial 42 with value: 1.8142930688825113e-05.\n",
      "[I 2024-07-02 21:39:46,397] Trial 107 finished with value: 0.00551873191928249 and parameters: {'x': 1.9257118319024995}. Best is trial 42 with value: 1.8142930688825113e-05.\n",
      "[I 2024-07-02 21:39:46,402] Trial 108 finished with value: 0.7236840430423799 and parameters: {'x': 2.850696210784073}. Best is trial 42 with value: 1.8142930688825113e-05.\n",
      "[I 2024-07-02 21:39:46,405] Trial 109 finished with value: 2.289220277884011 and parameters: {'x': 0.4869830543301865}. Best is trial 42 with value: 1.8142930688825113e-05.\n",
      "[I 2024-07-02 21:39:46,421] Trial 110 finished with value: 5.766538140926143 and parameters: {'x': 4.40136172638071}. Best is trial 42 with value: 1.8142930688825113e-05.\n",
      "[I 2024-07-02 21:39:46,440] Trial 111 finished with value: 0.040543139566182 and parameters: {'x': 1.7986467294375827}. Best is trial 42 with value: 1.8142930688825113e-05.\n",
      "[I 2024-07-02 21:39:46,454] Trial 112 finished with value: 0.03711097305258583 and parameters: {'x': 2.192642085361911}. Best is trial 42 with value: 1.8142930688825113e-05.\n",
      "[I 2024-07-02 21:39:46,462] Trial 113 finished with value: 0.24951701034306195 and parameters: {'x': 1.500483223161562}. Best is trial 42 with value: 1.8142930688825113e-05.\n",
      "[I 2024-07-02 21:39:46,467] Trial 114 finished with value: 3.334474017633773 and parameters: {'x': 3.8260542208909825}. Best is trial 42 with value: 1.8142930688825113e-05.\n",
      "[I 2024-07-02 21:39:46,478] Trial 115 finished with value: 4.600363380558634 and parameters: {'x': -0.14484577080932187}. Best is trial 42 with value: 1.8142930688825113e-05.\n",
      "[I 2024-07-02 21:39:46,484] Trial 116 finished with value: 1.5345317720039067 and parameters: {'x': 3.238762193483441}. Best is trial 42 with value: 1.8142930688825113e-05.\n",
      "[I 2024-07-02 21:39:46,489] Trial 117 finished with value: 0.0013914443273321966 and parameters: {'x': 1.9626979313263702}. Best is trial 42 with value: 1.8142930688825113e-05.\n",
      "[I 2024-07-02 21:39:46,493] Trial 118 finished with value: 0.3349423389001764 and parameters: {'x': 2.578742031392378}. Best is trial 42 with value: 1.8142930688825113e-05.\n",
      "[I 2024-07-02 21:39:46,499] Trial 119 finished with value: 0.9208731011821792 and parameters: {'x': 1.0403786678162166}. Best is trial 42 with value: 1.8142930688825113e-05.\n",
      "[I 2024-07-02 21:39:46,505] Trial 120 finished with value: 0.19159785005216828 and parameters: {'x': 1.562281083282698}. Best is trial 42 with value: 1.8142930688825113e-05.\n",
      "[I 2024-07-02 21:39:46,513] Trial 121 finished with value: 0.005167473370270729 and parameters: {'x': 1.928114859878618}. Best is trial 42 with value: 1.8142930688825113e-05.\n",
      "[I 2024-07-02 21:39:46,517] Trial 122 finished with value: 0.03496962840800286 and parameters: {'x': 2.187001680227753}. Best is trial 42 with value: 1.8142930688825113e-05.\n",
      "[I 2024-07-02 21:39:46,522] Trial 123 finished with value: 0.9744104784821159 and parameters: {'x': 2.987122321945014}. Best is trial 42 with value: 1.8142930688825113e-05.\n",
      "[I 2024-07-02 21:39:46,526] Trial 124 finished with value: 2.3043173324675505 and parameters: {'x': 3.517997803841478}. Best is trial 42 with value: 1.8142930688825113e-05.\n",
      "[I 2024-07-02 21:39:46,531] Trial 125 finished with value: 0.011756851923869832 and parameters: {'x': 1.8915709820948754}. Best is trial 42 with value: 1.8142930688825113e-05.\n",
      "[I 2024-07-02 21:39:46,536] Trial 126 finished with value: 0.24706343077741805 and parameters: {'x': 2.497054756317066}. Best is trial 42 with value: 1.8142930688825113e-05.\n",
      "[I 2024-07-02 21:39:46,543] Trial 127 finished with value: 0.6490253307906539 and parameters: {'x': 1.1943789161208267}. Best is trial 42 with value: 1.8142930688825113e-05.\n",
      "[I 2024-07-02 21:39:46,547] Trial 128 finished with value: 2.8025789411996835 and parameters: {'x': 0.3259095182160303}. Best is trial 42 with value: 1.8142930688825113e-05.\n",
      "[I 2024-07-02 21:39:46,556] Trial 129 finished with value: 0.16305580247294893 and parameters: {'x': 1.5961983129394468}. Best is trial 42 with value: 1.8142930688825113e-05.\n",
      "[I 2024-07-02 21:39:46,561] Trial 130 finished with value: 0.5265090433541397 and parameters: {'x': 2.7256094289313912}. Best is trial 42 with value: 1.8142930688825113e-05.\n",
      "[I 2024-07-02 21:39:46,567] Trial 131 finished with value: 0.016372438225133415 and parameters: {'x': 2.1279548288464856}. Best is trial 42 with value: 1.8142930688825113e-05.\n",
      "[I 2024-07-02 21:39:46,571] Trial 132 finished with value: 0.00438334370226514 and parameters: {'x': 1.9337931748060282}. Best is trial 42 with value: 1.8142930688825113e-05.\n",
      "[I 2024-07-02 21:39:46,577] Trial 133 finished with value: 1.514861968778963 and parameters: {'x': 0.769202710118777}. Best is trial 42 with value: 1.8142930688825113e-05.\n",
      "[I 2024-07-02 21:39:46,581] Trial 134 finished with value: 63.596862523837586 and parameters: {'x': 9.974764104588774}. Best is trial 42 with value: 1.8142930688825113e-05.\n",
      "[I 2024-07-02 21:39:46,585] Trial 135 finished with value: 0.5121545074847786 and parameters: {'x': 1.2843502899568962}. Best is trial 42 with value: 1.8142930688825113e-05.\n",
      "[I 2024-07-02 21:39:46,589] Trial 136 finished with value: 0.09313405688563647 and parameters: {'x': 2.3051787294121864}. Best is trial 42 with value: 1.8142930688825113e-05.\n",
      "[I 2024-07-02 21:39:46,592] Trial 137 finished with value: 0.03590564799301663 and parameters: {'x': 1.8105121428876862}. Best is trial 42 with value: 1.8142930688825113e-05.\n",
      "[I 2024-07-02 21:39:46,595] Trial 138 finished with value: 1.6290648373495622 and parameters: {'x': 3.2763482429766424}. Best is trial 42 with value: 1.8142930688825113e-05.\n",
      "[I 2024-07-02 21:39:46,598] Trial 139 finished with value: 1.0890906991535363 and parameters: {'x': 0.9564049160936334}. Best is trial 42 with value: 1.8142930688825113e-05.\n",
      "[I 2024-07-02 21:39:46,602] Trial 140 finished with value: 0.8988805740084117 and parameters: {'x': 2.948093125177275}. Best is trial 42 with value: 1.8142930688825113e-05.\n",
      "[I 2024-07-02 21:39:46,606] Trial 141 finished with value: 0.006599568487023831 and parameters: {'x': 1.9187622717758317}. Best is trial 42 with value: 1.8142930688825113e-05.\n",
      "[I 2024-07-02 21:39:46,609] Trial 142 finished with value: 0.17449012054944757 and parameters: {'x': 2.4177201462096933}. Best is trial 42 with value: 1.8142930688825113e-05.\n",
      "[I 2024-07-02 21:39:46,614] Trial 143 finished with value: 0.2585209297327614 and parameters: {'x': 1.4915504649104678}. Best is trial 42 with value: 1.8142930688825113e-05.\n",
      "[I 2024-07-02 21:39:46,618] Trial 144 finished with value: 0.002990718678694816 and parameters: {'x': 1.945312536366231}. Best is trial 42 with value: 1.8142930688825113e-05.\n",
      "[I 2024-07-02 21:39:46,622] Trial 145 finished with value: 0.00017257031797013428 and parameters: {'x': 1.986863397776817}. Best is trial 42 with value: 1.8142930688825113e-05.\n",
      "[I 2024-07-02 21:39:46,625] Trial 146 finished with value: 0.12163576032946916 and parameters: {'x': 2.348763186602986}. Best is trial 42 with value: 1.8142930688825113e-05.\n",
      "[I 2024-07-02 21:39:46,628] Trial 147 finished with value: 0.32308868164437676 and parameters: {'x': 1.4315910964416754}. Best is trial 42 with value: 1.8142930688825113e-05.\n",
      "[I 2024-07-02 21:39:46,631] Trial 148 finished with value: 0.40026044320848553 and parameters: {'x': 2.632661396964036}. Best is trial 42 with value: 1.8142930688825113e-05.\n",
      "[I 2024-07-02 21:39:46,636] Trial 149 finished with value: 2.063262466737006 and parameters: {'x': 0.5635939060498922}. Best is trial 42 with value: 1.8142930688825113e-05.\n"
     ]
    }
   ],
   "source": [
    "log_file = '/Users/leo/Desktop/test_log'\n",
    "with open(log_file, 'w') as log:\n",
    "    log.write('Trial number\\tError value\\tParams\\n')\n",
    "\n",
    "study.optimize(ObjectiveFunction, n_trials = 50,\n",
    "               callbacks = [dump_to_file])"
   ]
  },
  {
   "cell_type": "markdown",
   "metadata": {},
   "source": [
    "___"
   ]
  },
  {
   "cell_type": "markdown",
   "metadata": {},
   "source": [
    "### Build map labelling function"
   ]
  },
  {
   "cell_type": "code",
   "execution_count": 2,
   "metadata": {},
   "outputs": [],
   "source": [
    "from mpdg_som_utils import find_bmu_coords"
   ]
  },
  {
   "cell_type": "code",
   "execution_count": 9,
   "metadata": {},
   "outputs": [],
   "source": [
    "SOM.load_labeling_data(input_labels[:250])"
   ]
  },
  {
   "cell_type": "code",
   "execution_count": 65,
   "metadata": {},
   "outputs": [],
   "source": [
    "labeled_map = np.full([*SOM.mapsize, SOM.labeling_data_dim - SOM.data_dim, 1000],\n",
    "                        0)\n",
    "\n",
    "unitary_covar_vector = [1] * SOM.data_dim\n",
    "\n",
    "labeling_data_bmu_idx = {}\n",
    "for index in range(SOM.labeling_data_len):\n",
    "\n",
    "    bmu_coords = find_bmu_coords(SOM.weights_map,\n",
    "                                 SOM.labeling_data[index, :SOM.data_dim],\n",
    "                                 unitary_covar_vector)\n",
    "    \n",
    "    if f'{bmu_coords}' in labeling_data_bmu_idx.keys():\n",
    "        labeling_data_bmu_idx[f'{bmu_coords}'].append(index)\n",
    "    else:\n",
    "        labeling_data_bmu_idx[f'{bmu_coords}'] = []\n",
    "        labeling_data_bmu_idx[f'{bmu_coords}'].append(index)\n",
    "\n",
    "# self.labeled_map = np.full([*self.mapsize, self.labeling_data_dim - self.data_dim],\n",
    "#                             np.nan)\n",
    "\n",
    "# iteration_map = np.nditer(self.labeled_map[..., 0], flags = ['multi_index'])\n",
    "\n",
    "# for _ in iteration_map:\n",
    "    \n",
    "#     index = iteration_map.multi_index\n",
    "\n",
    "#     if f'{index}' in labeling_data_bmu_idx.keys():\n",
    "#         local_vectors = self.labeling_data[labeling_data_bmu_idx[f'{index}']]\n",
    "#         self.labeled_map[*index] = np.nanmedian(local_vectors[:, self.data_dim:], axis = 0)\n"
   ]
  },
  {
   "cell_type": "code",
   "execution_count": null,
   "metadata": {},
   "outputs": [],
   "source": [
    "la"
   ]
  },
  {
   "cell_type": "code",
   "execution_count": 111,
   "metadata": {},
   "outputs": [
    {
     "name": "stdout",
     "output_type": "stream",
     "text": [
      "(13, 15)\n",
      "(13, 15)\n"
     ]
    }
   ],
   "source": [
    "pdr = 1000 #probability density distribution\n",
    "\n",
    "labeled_map = np.full([*SOM.mapsize, SOM.labeling_data_dim - SOM.data_dim, pdr],\n",
    "                        0.0)\n",
    "\n",
    "unitary_covar_vector = [1] * SOM.data_dim\n",
    "\n",
    "distribution = np.array([np.linspace(np.min(input_labels[:, i]), np.max(input_labels[:, i]), pdr)\\\n",
    "                         for i in range(SOM.data_dim, SOM.labeling_data_dim)])\n",
    "\n",
    "for index in range(SOM.labeling_data_len):\n",
    "\n",
    "    bmu_coords = find_bmu_coords(SOM.weights_map,\n",
    "                                 SOM.labeling_data[index, :SOM.data_dim],\n",
    "                                 unitary_covar_vector)\n",
    "    \n",
    "    for i in range(SOM.labeling_data_dim - SOM.data_dim,):\n",
    "        delta_index = np.abs(distribution[i] - SOM.labeling_data[index, SOM.data_dim + i]).argmin()\n",
    "        labeled_map[*bmu_coords, i, delta_index] = 1\n",
    "\n",
    "iteration_map = np.nditer(np.full(SOM.mapsize, 0), flags = ['multi_index'])\n",
    "for _ in iteration_map:\n",
    "    for i in range(SOM.labeling_data_dim - SOM.data_dim):\n",
    "        \n",
    "        if np.sum(labeled_map[iteration_map.multi_index][i]) == 0.:\n",
    "            continue\n",
    "\n",
    "        else:\n",
    "            print(iteration_map.multi_index)\n",
    "            labeled_map[iteration_map.multi_index][i] /= np.sum(labeled_map[iteration_map.multi_index][i])"
   ]
  },
  {
   "cell_type": "code",
   "execution_count": 99,
   "metadata": {},
   "outputs": [
    {
     "data": {
      "text/plain": [
       "[<matplotlib.lines.Line2D at 0x7f9268b5c680>]"
      ]
     },
     "execution_count": 99,
     "metadata": {},
     "output_type": "execute_result"
    },
    {
     "data": {
      "image/png": "[encoded data removed]",
      "text/plain": [
       "<Figure size 640x480 with 1 Axes>"
      ]
     },
     "metadata": {},
     "output_type": "display_data"
    }
   ],
   "source": [
    "plt.plot(labeled_map[13, 15][1])"
   ]
  },
  {
   "cell_type": "code",
   "execution_count": 84,
   "metadata": {},
   "outputs": [
    {
     "ename": "UFuncTypeError",
     "evalue": "Cannot cast ufunc 'divide' output from dtype('float64') to dtype('int64') with casting rule 'same_kind'",
     "output_type": "error",
     "traceback": [
      "\u001b[0;31m---------------------------------------------------------------------------\u001b[0m",
      "\u001b[0;31mUFuncTypeError\u001b[0m                            Traceback (most recent call last)",
      "Cell \u001b[0;32mIn[84], line 1\u001b[0m\n\u001b[0;32m----> 1\u001b[0m labeled_map[iteration_map\u001b[38;5;241m.\u001b[39mmulti_index][\u001b[38;5;241m0\u001b[39m] \u001b[38;5;241m/\u001b[39m\u001b[38;5;241m=\u001b[39m np\u001b[38;5;241m.\u001b[39msum(labeled_map[iteration_map\u001b[38;5;241m.\u001b[39mmulti_index][\u001b[38;5;241m0\u001b[39m])\n",
      "\u001b[0;31mUFuncTypeError\u001b[0m: Cannot cast ufunc 'divide' output from dtype('float64') to dtype('int64') with casting rule 'same_kind'"
     ]
    }
   ],
   "source": [
    "labeled_map[iteration_map.multi_index][0] /= np.sum(labeled_map[iteration_map.multi_index][0])"
   ]
  },
  {
   "cell_type": "code",
   "execution_count": 86,
   "metadata": {},
   "outputs": [
    {
     "name": "stderr",
     "output_type": "stream",
     "text": [
      "/var/tmp/lsajkov/ipykernel_1219996/1533019001.py:1: RuntimeWarning: invalid value encountered in divide\n",
      "  labeled_map[iteration_map.multi_index][0]/np.sum(labeled_map[iteration_map.multi_index][0])\n"
     ]
    },
    {
     "data": {
      "text/plain": [
       "array([nan, nan, nan, nan, nan, nan, nan, nan, nan, nan, nan, nan, nan,\n",
       "       nan, nan, nan, nan, nan, nan, nan, nan, nan, nan, nan, nan, nan,\n",
       "       nan, nan, nan, nan, nan, nan, nan, nan, nan, nan, nan, nan, nan,\n",
       "       nan, nan, nan, nan, nan, nan, nan, nan, nan, nan, nan, nan, nan,\n",
       "       nan, nan, nan, nan, nan, nan, nan, nan, nan, nan, nan, nan, nan,\n",
       "       nan, nan, nan, nan, nan, nan, nan, nan, nan, nan, nan, nan, nan,\n",
       "       nan, nan, nan, nan, nan, nan, nan, nan, nan, nan, nan, nan, nan,\n",
       "       nan, nan, nan, nan, nan, nan, nan, nan, nan, nan, nan, nan, nan,\n",
       "       nan, nan, nan, nan, nan, nan, nan, nan, nan, nan, nan, nan, nan,\n",
       "       nan, nan, nan, nan, nan, nan, nan, nan, nan, nan, nan, nan, nan,\n",
       "       nan, nan, nan, nan, nan, nan, nan, nan, nan, nan, nan, nan, nan,\n",
       "       nan, nan, nan, nan, nan, nan, nan, nan, nan, nan, nan, nan, nan,\n",
       "       nan, nan, nan, nan, nan, nan, nan, nan, nan, nan, nan, nan, nan,\n",
       "       nan, nan, nan, nan, nan, nan, nan, nan, nan, nan, nan, nan, nan,\n",
       "       nan, nan, nan, nan, nan, nan, nan, nan, nan, nan, nan, nan, nan,\n",
       "       nan, nan, nan, nan, nan, nan, nan, nan, nan, nan, nan, nan, nan,\n",
       "       nan, nan, nan, nan, nan, nan, nan, nan, nan, nan, nan, nan, nan,\n",
       "       nan, nan, nan, nan, nan, nan, nan, nan, nan, nan, nan, nan, nan,\n",
       "       nan, nan, nan, nan, nan, nan, nan, nan, nan, nan, nan, nan, nan,\n",
       "       nan, nan, nan, nan, nan, nan, nan, nan, nan, nan, nan, nan, nan,\n",
       "       nan, nan, nan, nan, nan, nan, nan, nan, nan, nan, nan, nan, nan,\n",
       "       nan, nan, nan, nan, nan, nan, nan, nan, nan, nan, nan, nan, nan,\n",
       "       nan, nan, nan, nan, nan, nan, nan, nan, nan, nan, nan, nan, nan,\n",
       "       nan, nan, nan, nan, nan, nan, nan, nan, nan, nan, nan, nan, nan,\n",
       "       nan, nan, nan, nan, nan, nan, nan, nan, nan, nan, nan, nan, nan,\n",
       "       nan, nan, nan, nan, nan, nan, nan, nan, nan, nan, nan, nan, nan,\n",
       "       nan, nan, nan, nan, nan, nan, nan, nan, nan, nan, nan, nan, nan,\n",
       "       nan, nan, nan, nan, nan, nan, nan, nan, nan, nan, nan, nan, nan,\n",
       "       nan, nan, nan, nan, nan, nan, nan, nan, nan, nan, nan, nan, nan,\n",
       "       nan, nan, nan, nan, nan, nan, nan, nan, nan, nan, nan, nan, nan,\n",
       "       nan, nan, nan, nan, nan, nan, nan, nan, nan, nan, nan, nan, nan,\n",
       "       nan, nan, nan, nan, nan, nan, nan, nan, nan, nan, nan, nan, nan,\n",
       "       nan, nan, nan, nan, nan, nan, nan, nan, nan, nan, nan, nan, nan,\n",
       "       nan, nan, nan, nan, nan, nan, nan, nan, nan, nan, nan, nan, nan,\n",
       "       nan, nan, nan, nan, nan, nan, nan, nan, nan, nan, nan, nan, nan,\n",
       "       nan, nan, nan, nan, nan, nan, nan, nan, nan, nan, nan, nan, nan,\n",
       "       nan, nan, nan, nan, nan, nan, nan, nan, nan, nan, nan, nan, nan,\n",
       "       nan, nan, nan, nan, nan, nan, nan, nan, nan, nan, nan, nan, nan,\n",
       "       nan, nan, nan, nan, nan, nan, nan, nan, nan, nan, nan, nan, nan,\n",
       "       nan, nan, nan, nan, nan, nan, nan, nan, nan, nan, nan, nan, nan,\n",
       "       nan, nan, nan, nan, nan, nan, nan, nan, nan, nan, nan, nan, nan,\n",
       "       nan, nan, nan, nan, nan, nan, nan, nan, nan, nan, nan, nan, nan,\n",
       "       nan, nan, nan, nan, nan, nan, nan, nan, nan, nan, nan, nan, nan,\n",
       "       nan, nan, nan, nan, nan, nan, nan, nan, nan, nan, nan, nan, nan,\n",
       "       nan, nan, nan, nan, nan, nan, nan, nan, nan, nan, nan, nan, nan,\n",
       "       nan, nan, nan, nan, nan, nan, nan, nan, nan, nan, nan, nan, nan,\n",
       "       nan, nan, nan, nan, nan, nan, nan, nan, nan, nan, nan, nan, nan,\n",
       "       nan, nan, nan, nan, nan, nan, nan, nan, nan, nan, nan, nan, nan,\n",
       "       nan, nan, nan, nan, nan, nan, nan, nan, nan, nan, nan, nan, nan,\n",
       "       nan, nan, nan, nan, nan, nan, nan, nan, nan, nan, nan, nan, nan,\n",
       "       nan, nan, nan, nan, nan, nan, nan, nan, nan, nan, nan, nan, nan,\n",
       "       nan, nan, nan, nan, nan, nan, nan, nan, nan, nan, nan, nan, nan,\n",
       "       nan, nan, nan, nan, nan, nan, nan, nan, nan, nan, nan, nan, nan,\n",
       "       nan, nan, nan, nan, nan, nan, nan, nan, nan, nan, nan, nan, nan,\n",
       "       nan, nan, nan, nan, nan, nan, nan, nan, nan, nan, nan, nan, nan,\n",
       "       nan, nan, nan, nan, nan, nan, nan, nan, nan, nan, nan, nan, nan,\n",
       "       nan, nan, nan, nan, nan, nan, nan, nan, nan, nan, nan, nan, nan,\n",
       "       nan, nan, nan, nan, nan, nan, nan, nan, nan, nan, nan, nan, nan,\n",
       "       nan, nan, nan, nan, nan, nan, nan, nan, nan, nan, nan, nan, nan,\n",
       "       nan, nan, nan, nan, nan, nan, nan, nan, nan, nan, nan, nan, nan,\n",
       "       nan, nan, nan, nan, nan, nan, nan, nan, nan, nan, nan, nan, nan,\n",
       "       nan, nan, nan, nan, nan, nan, nan, nan, nan, nan, nan, nan, nan,\n",
       "       nan, nan, nan, nan, nan, nan, nan, nan, nan, nan, nan, nan, nan,\n",
       "       nan, nan, nan, nan, nan, nan, nan, nan, nan, nan, nan, nan, nan,\n",
       "       nan, nan, nan, nan, nan, nan, nan, nan, nan, nan, nan, nan, nan,\n",
       "       nan, nan, nan, nan, nan, nan, nan, nan, nan, nan, nan, nan, nan,\n",
       "       nan, nan, nan, nan, nan, nan, nan, nan, nan, nan, nan, nan, nan,\n",
       "       nan, nan, nan, nan, nan, nan, nan, nan, nan, nan, nan, nan, nan,\n",
       "       nan, nan, nan, nan, nan, nan, nan, nan, nan, nan, nan, nan, nan,\n",
       "       nan, nan, nan, nan, nan, nan, nan, nan, nan, nan, nan, nan, nan,\n",
       "       nan, nan, nan, nan, nan, nan, nan, nan, nan, nan, nan, nan, nan,\n",
       "       nan, nan, nan, nan, nan, nan, nan, nan, nan, nan, nan, nan, nan,\n",
       "       nan, nan, nan, nan, nan, nan, nan, nan, nan, nan, nan, nan, nan,\n",
       "       nan, nan, nan, nan, nan, nan, nan, nan, nan, nan, nan, nan, nan,\n",
       "       nan, nan, nan, nan, nan, nan, nan, nan, nan, nan, nan, nan, nan,\n",
       "       nan, nan, nan, nan, nan, nan, nan, nan, nan, nan, nan, nan, nan,\n",
       "       nan, nan, nan, nan, nan, nan, nan, nan, nan, nan, nan, nan])"
      ]
     },
     "execution_count": 86,
     "metadata": {},
     "output_type": "execute_result"
    }
   ],
   "source": [
    "labeled_map[iteration_map.multi_index][0]/np.sum(labeled_map[iteration_map.multi_index][0])"
   ]
  },
  {
   "cell_type": "markdown",
   "metadata": {},
   "source": [
    "Test"
   ]
  },
  {
   "cell_type": "code",
   "execution_count": 1,
   "metadata": {},
   "outputs": [
    {
     "name": "stdout",
     "output_type": "stream",
     "text": [
      "Len of input data: 133322\n"
     ]
    }
   ],
   "source": [
    "from astropy.io import fits\n",
    "from astropy.table import Table\n",
    "\n",
    "import numpy as np\n",
    "\n",
    "#Load in data\n",
    "data_file = '/data2/lsajkov/mpdg/data_products/GAMA/GAMA_SOM_training_catalog_04Jul24.fits'\n",
    "\n",
    "with fits.open(data_file) as cat:\n",
    "    input_catalog_complete = Table(cat[1].data)\n",
    "\n",
    "    #Select the needed data\n",
    "input_data = input_catalog_complete['gr_col', 'ug_col', 'ur_col']\n",
    "input_stds = input_catalog_complete['gr_col_err', 'ug_col_err', 'ur_col_err']\n",
    "\n",
    "input_labels = input_catalog_complete['gr_col', 'ug_col', 'ur_col', 'log_mstar', 'redshift']\n",
    "\n",
    "tuple_labels = input_labels.as_array()\n",
    "list_labels = [list(values) for values in tuple_labels]\n",
    "input_labels = np.array(list_labels)\n",
    "\n",
    "print(f'Len of input data: {len(input_data)}')"
   ]
  },
  {
   "cell_type": "code",
   "execution_count": 2,
   "metadata": {},
   "outputs": [],
   "source": [
    "from mpdg_som import SelfOrganizingMap\n",
    "#Set parameters\n",
    "name = 'mass_profile_dwarf_galaxies' #name of the SOM\n",
    "\n",
    "mapsize   = [10, 10] #size of the map. pass as a list of dimensions OR as an integer (also pass number of dimensions)\n",
    "dimension = None\n",
    "\n",
    "initialization         = 'pca' #random or pca (principal component analysis)\n",
    "termination            = 'either' #when to stop learning. maximum_steps = stop when maximum_steps have elapsed. error_thresh = stop when the error is below this threshold. either = stop when either condition is fulfilled\n",
    "learning_rate_function = 'power_law' #which learning rate function to use. currently implemented: power_law\n",
    "neighborhood_function  = 'gaussian' #which neighborhood function to use. currently implemented: gaussian\n",
    "error_estimator        = 'quantization_error' #which error estimation function to use. currently implemented: max_misalignment\n",
    "\n",
    "learning_rate = 0.65 #used to adjust the learning rate function\n",
    "kernel_spread = 2.5 #used to adjust the neighborhood function\n",
    "maximum_steps = 10 #used to adjust the learning rate and neighborhood functions\n",
    "error_thresh  = 0.075 #used to stop the SOM if termination = 'error thresh'\n",
    "\n",
    "#Declare the SOM\n",
    "SOM = SelfOrganizingMap(\n",
    "    name                   = name,\n",
    "    mapsize                = mapsize,\n",
    "    dimension              = dimension,\n",
    "    initialization         = initialization,\n",
    "    termination            = termination,\n",
    "    learning_rate_function = learning_rate_function,\n",
    "    neighborhood_function  = neighborhood_function,\n",
    "    error_estimator        = error_estimator,\n",
    "    learning_rate          = learning_rate,\n",
    "    kernel_spread          = kernel_spread,\n",
    "    maximum_steps          = maximum_steps,\n",
    "    error_thresh           = error_thresh\n",
    ")"
   ]
  },
  {
   "cell_type": "code",
   "execution_count": 3,
   "metadata": {},
   "outputs": [],
   "source": [
    "SOM.weights_map = np.load('/home/lsajkov/Desktop/trained_weights.npy')"
   ]
  },
  {
   "cell_type": "code",
   "execution_count": 4,
   "metadata": {},
   "outputs": [],
   "source": [
    "import matplotlib.pyplot as plt\n",
    "SOM.data_dim = 3\n",
    "SOM.variable_names = ['a', 'b']\n",
    "SOM.step = 10"
   ]
  },
  {
   "cell_type": "code",
   "execution_count": 5,
   "metadata": {},
   "outputs": [],
   "source": [
    "#Label the cells in the map with external parameters. Visualize the labeled map.\n",
    "SOM.load_labeling_data(input_labels[:500],\n",
    "                       parameter_names = ['log_mstar', 'redshift'])\n",
    "SOM.normalize_labeling_data()\n",
    "\n",
    "SOM.label_map()\n",
    "\n",
    "# SOM.show_map(show_labeled = True)"
   ]
  },
  {
   "cell_type": "code",
   "execution_count": 10,
   "metadata": {},
   "outputs": [],
   "source": [
    "distribution = np.linspace(np.min(SOM.labeling_data[:, 3]),\n",
    "                           np.max(SOM.labeling_data[:, 3]),\n",
    "                           1000)"
   ]
  },
  {
   "cell_type": "code",
   "execution_count": 12,
   "metadata": {},
   "outputs": [
    {
     "data": {
      "text/plain": [
       "9.991534179538974"
      ]
     },
     "execution_count": 12,
     "metadata": {},
     "output_type": "execute_result"
    }
   ],
   "source": [
    "np.sum(SOM.labeled_map[0, 0, 0] * distribution)"
   ]
  },
  {
   "cell_type": "code",
   "execution_count": 16,
   "metadata": {},
   "outputs": [],
   "source": [
    "sigma = np.sqrt((0.2 ** 2) * (1 - 1/7) + (0.9 ** 2)/7)\n",
    "convolved_array = np.convolve(SOM.labeled_map[0, 0, 0, :],\n",
    "                              1/(sigma * np.sqrt(2 * np.pi)) * np.exp(-distribution/(2 * sigma ** 2)),\n",
    "                              mode = 'same')[::-1]\n",
    "convolved_array /= np.sum(convolved_array)"
   ]
  },
  {
   "cell_type": "code",
   "execution_count": 17,
   "metadata": {},
   "outputs": [
    {
     "data": {
      "text/plain": [
       "[<matplotlib.lines.Line2D at 0x7f80cecb2120>]"
      ]
     },
     "execution_count": 17,
     "metadata": {},
     "output_type": "execute_result"
    },
    {
     "data": {
      "image/png": "[encoded data removed]",
      "text/plain": [
       "<Figure size 640x480 with 1 Axes>"
      ]
     },
     "metadata": {},
     "output_type": "display_data"
    }
   ],
   "source": [
    "plt.plot(distribution,\n",
    "         SOM.labeled_map[0, 0, 0, :])"
   ]
  },
  {
   "cell_type": "code",
   "execution_count": 21,
   "metadata": {},
   "outputs": [
    {
     "data": {
      "text/plain": [
       "<matplotlib.lines.Line2D at 0x7f80cec80f50>"
      ]
     },
     "execution_count": 21,
     "metadata": {},
     "output_type": "execute_result"
    },
    {
     "data": {
      "image/png": "[encoded data removed]",
      "text/plain": [
       "<Figure size 640x480 with 1 Axes>"
      ]
     },
     "metadata": {},
     "output_type": "display_data"
    }
   ],
   "source": [
    "plt.plot(distribution,\n",
    "         convolved_array)\n",
    "plt.axvline(np.sum(distribution * convolved_array))"
   ]
  },
  {
   "cell_type": "code",
   "execution_count": 20,
   "metadata": {},
   "outputs": [
    {
     "data": {
      "text/plain": [
       "9.79048111804843"
      ]
     },
     "execution_count": 20,
     "metadata": {},
     "output_type": "execute_result"
    }
   ],
   "source": [
    "np.sum(distribution * convolved_array)"
   ]
  },
  {
   "cell_type": "code",
   "execution_count": 19,
   "metadata": {},
   "outputs": [
    {
     "data": {
      "text/plain": [
       "array([8.45715644e-12, 8.60184674e-12, 8.74900771e-12, 8.89868145e-12,\n",
       "       9.05105175e-12, 9.20588267e-12, 9.36349825e-12, 9.52366365e-12,\n",
       "       9.68656347e-12, 9.85224431e-12, 1.00207536e-11, 1.01921394e-11,\n",
       "       1.03664509e-11, 1.05437379e-11, 1.07240511e-11, 1.09074421e-11,\n",
       "       1.10939632e-11, 1.12836679e-11, 1.14766104e-11, 1.16728458e-11,\n",
       "       1.18724303e-11, 1.20754208e-11, 1.22818755e-11, 1.24918533e-11,\n",
       "       1.27054143e-11, 1.29226195e-11, 1.31435310e-11, 1.33682119e-11,\n",
       "       1.35967264e-11, 1.38291399e-11, 1.40655187e-11, 1.43060741e-11,\n",
       "       1.45505897e-11, 1.47992768e-11, 1.50522064e-11, 1.53094508e-11,\n",
       "       1.55710834e-11, 1.58371790e-11, 1.61078135e-11, 1.63830643e-11,\n",
       "       1.66630099e-11, 1.69478751e-11, 1.72374542e-11, 1.75319720e-11,\n",
       "       1.78315128e-11, 1.81361621e-11, 1.84460068e-11, 1.87611353e-11,\n",
       "       1.90816377e-11, 1.94076054e-11, 1.97391315e-11, 2.00763105e-11,\n",
       "       2.04192388e-11, 2.07680141e-11, 2.11227361e-11, 2.14835059e-11,\n",
       "       2.18504265e-11, 2.22236025e-11, 2.26031405e-11, 2.29891487e-11,\n",
       "       2.33818840e-11, 2.37811674e-11, 2.41872570e-11, 2.46002687e-11,\n",
       "       2.50204676e-11, 2.54476814e-11, 2.58821768e-11, 2.63240778e-11,\n",
       "       2.67735102e-11, 2.72306022e-11, 2.76954843e-11, 2.81682888e-11,\n",
       "       2.86491507e-11, 2.91382071e-11, 2.96355972e-11, 3.01414630e-11,\n",
       "       3.06559485e-11, 3.11792005e-11, 3.17113681e-11, 3.22527517e-11,\n",
       "       3.28032106e-11, 3.33630479e-11, 3.39324231e-11, 3.45114984e-11,\n",
       "       3.51004389e-11, 3.56994124e-11, 3.63085895e-11, 3.69281437e-11,\n",
       "       3.75582515e-11, 3.81990925e-11, 3.88508491e-11, 3.95138571e-11,\n",
       "       4.01880076e-11, 4.08736403e-11, 4.15709504e-11, 4.22801364e-11,\n",
       "       4.30014003e-11, 4.37349474e-11, 4.44809867e-11, 4.52397305e-11,\n",
       "       4.60113948e-11, 4.67961994e-11, 4.75943675e-11, 4.84061265e-11,\n",
       "       4.92317074e-11, 5.00713451e-11, 5.09252787e-11, 5.17937511e-11,\n",
       "       5.26770095e-11, 5.35753053e-11, 5.44888940e-11, 5.54180357e-11,\n",
       "       5.63629947e-11, 5.73240398e-11, 5.83014444e-11, 5.92954867e-11,\n",
       "       6.03064493e-11, 6.13346200e-11, 6.23804438e-11, 6.34439153e-11,\n",
       "       6.45256401e-11, 6.56256225e-11, 6.67443257e-11, 6.78820679e-11,\n",
       "       6.90391725e-11, 7.02159686e-11, 7.14127908e-11, 7.26299793e-11,\n",
       "       7.38678803e-11, 7.51268456e-11, 7.64072332e-11, 7.77094069e-11,\n",
       "       7.90337371e-11, 8.03805999e-11, 8.17503784e-11, 8.31434618e-11,\n",
       "       8.45602459e-11, 8.60011335e-11, 8.74665339e-11, 8.89568636e-11,\n",
       "       9.04725461e-11, 9.20140119e-11, 9.35816991e-11, 9.51760530e-11,\n",
       "       9.67975265e-11, 9.84465803e-11, 1.00123683e-10, 1.01829310e-10,\n",
       "       1.03563948e-10, 1.05328087e-10, 1.07122230e-10, 1.08946885e-10,\n",
       "       1.10802571e-10, 1.12689815e-10, 1.14609153e-10, 1.16561130e-10,\n",
       "       1.18546300e-10, 1.20565226e-10, 1.22618482e-10, 1.24706651e-10,\n",
       "       1.26830325e-10, 1.28990108e-10, 1.31186611e-10, 1.33420460e-10,\n",
       "       1.35692287e-10, 1.38002738e-10, 1.40352469e-10, 1.42742145e-10,\n",
       "       1.45172445e-10, 1.47644059e-10, 1.50157689e-10, 1.52714046e-10,\n",
       "       1.55313858e-10, 1.57957860e-10, 1.60646804e-10, 1.63381452e-10,\n",
       "       1.66162579e-10, 1.68990975e-10, 1.71867442e-10, 1.74792796e-10,\n",
       "       1.77767866e-10, 1.80793497e-10, 1.83870546e-10, 1.86999885e-10,\n",
       "       1.90182403e-10, 1.93419001e-10, 1.96710597e-10, 2.00058125e-10,\n",
       "       2.03462533e-10, 2.06924788e-10, 2.10445869e-10, 2.14026776e-10,\n",
       "       2.17668523e-10, 2.21372143e-10, 2.25138686e-10, 2.28969218e-10,\n",
       "       2.32864826e-10, 2.36826614e-10, 2.40855703e-10, 2.44953237e-10,\n",
       "       2.49120376e-10, 2.53358301e-10, 2.57668213e-10, 2.62051332e-10,\n",
       "       2.66508901e-10, 2.71042183e-10, 2.75652460e-10, 2.80341041e-10,\n",
       "       2.85109252e-10, 2.89958444e-10, 2.94889992e-10, 2.99905290e-10,\n",
       "       3.05005761e-10, 3.10192848e-10, 3.15468020e-10, 3.20832771e-10,\n",
       "       3.26288620e-10, 3.31837113e-10, 3.37479819e-10, 3.43218337e-10,\n",
       "       3.49054291e-10, 3.54989334e-10, 3.61025145e-10, 3.67163433e-10,\n",
       "       3.73405936e-10, 3.79754421e-10, 3.86210685e-10, 3.92776554e-10,\n",
       "       3.99453887e-10, 4.06244575e-10, 4.13150538e-10, 4.20173730e-10,\n",
       "       4.27316141e-10, 4.34579789e-10, 4.41966730e-10, 4.49479056e-10,\n",
       "       4.57118890e-10, 4.64888394e-10, 4.72789766e-10, 4.80825242e-10,\n",
       "       4.88997094e-10, 4.97307634e-10, 5.05759213e-10, 5.14354220e-10,\n",
       "       5.23095088e-10, 5.31984287e-10, 5.41024332e-10, 5.50217780e-10,\n",
       "       5.59567229e-10, 5.69075324e-10, 5.78744754e-10, 5.88578251e-10,\n",
       "       5.98578597e-10, 6.08748618e-10, 6.19091190e-10, 6.29609237e-10,\n",
       "       6.40305732e-10, 6.51183698e-10, 6.62246210e-10, 6.73496396e-10,\n",
       "       6.84937435e-10, 6.96572560e-10, 7.08405059e-10, 7.20438277e-10,\n",
       "       7.32675615e-10, 7.45120529e-10, 7.57776537e-10, 7.70647215e-10,\n",
       "       7.83736199e-10, 7.97047187e-10, 8.10583940e-10, 8.24350283e-10,\n",
       "       8.38350104e-10, 8.52587358e-10, 8.67066067e-10, 8.81790320e-10,\n",
       "       8.96764277e-10, 9.11992166e-10, 9.27478289e-10, 9.43227019e-10,\n",
       "       9.59242804e-10, 9.75530167e-10, 9.92093706e-10, 1.00893810e-09,\n",
       "       1.02606810e-09, 1.04348855e-09, 1.06120437e-09, 1.07922055e-09,\n",
       "       1.09754219e-09, 1.11617445e-09, 1.13512260e-09, 1.15439198e-09,\n",
       "       1.17398804e-09, 1.19391630e-09, 1.21418239e-09, 1.23479203e-09,\n",
       "       1.25575103e-09, 1.27706532e-09, 1.29874090e-09, 1.32078390e-09,\n",
       "       1.34320052e-09, 1.36599711e-09, 1.38918009e-09, 1.41275600e-09,\n",
       "       1.43673149e-09, 1.46111333e-09, 1.48590840e-09, 1.51112369e-09,\n",
       "       1.53676631e-09, 1.56284350e-09, 1.58936262e-09, 1.61633131e-09,\n",
       "       1.64375684e-09, 1.67164712e-09, 1.70001000e-09, 1.72885350e-09,\n",
       "       1.75818574e-09, 1.78801500e-09, 1.81834968e-09, 1.84919835e-09,\n",
       "       1.88056969e-09, 1.91247256e-09, 1.94491595e-09, 1.97790900e-09,\n",
       "       2.01146102e-09, 2.04558147e-09, 2.08027996e-09, 2.11556628e-09,\n",
       "       2.15145037e-09, 2.18794234e-09, 2.22505249e-09, 2.26279127e-09,\n",
       "       2.30116932e-09, 2.34019746e-09, 2.37988667e-09, 2.42024815e-09,\n",
       "       2.46129328e-09, 2.50303361e-09, 2.54548091e-09, 2.58864713e-09,\n",
       "       2.63254445e-09, 2.67718522e-09, 2.72258203e-09, 2.76874766e-09,\n",
       "       2.81569512e-09, 2.86343763e-09, 2.91198865e-09, 2.96136184e-09,\n",
       "       3.01157112e-09, 3.06263062e-09, 3.11455474e-09, 3.16735808e-09,\n",
       "       3.22105552e-09, 3.27566219e-09, 3.33119346e-09, 3.38766496e-09,\n",
       "       3.44509261e-09, 3.50349256e-09, 3.56288127e-09, 3.62327545e-09,\n",
       "       3.68469211e-09, 3.74714854e-09, 3.81066232e-09, 3.87525133e-09,\n",
       "       3.94093375e-09, 4.00772807e-09, 4.07565310e-09, 4.14472794e-09,\n",
       "       4.21497205e-09, 4.28640520e-09, 4.35904748e-09, 4.43291934e-09,\n",
       "       4.50804157e-09, 4.58443531e-09, 4.66212206e-09, 4.74112367e-09,\n",
       "       4.82146238e-09, 4.90316080e-09, 4.98624190e-09, 5.07072906e-09,\n",
       "       5.15664605e-09, 5.24401705e-09, 5.33286662e-09, 5.42321977e-09,\n",
       "       5.51510191e-09, 5.60853889e-09, 5.70355699e-09, 5.80018293e-09,\n",
       "       5.89844389e-09, 5.99836750e-09, 6.09998187e-09, 6.20331558e-09,\n",
       "       6.30839768e-09, 6.41525772e-09, 6.52392575e-09, 6.63443233e-09,\n",
       "       6.74680854e-09, 6.86108595e-09, 6.97729671e-09, 7.09547350e-09,\n",
       "       7.21564952e-09, 7.33785857e-09, 7.46213500e-09, 7.58851375e-09,\n",
       "       7.71703033e-09, 7.84772089e-09, 7.98062214e-09, 8.11577145e-09,\n",
       "       8.25320680e-09, 8.39296681e-09, 8.53509077e-09, 8.67961860e-09,\n",
       "       8.82659094e-09, 8.97604908e-09, 9.12803501e-09, 9.28259145e-09,\n",
       "       9.43976182e-09, 9.59959027e-09, 9.76212173e-09, 9.92740184e-09,\n",
       "       1.00954770e-08, 1.02663946e-08, 1.04402024e-08, 1.06169494e-08,\n",
       "       1.07966852e-08, 1.09794603e-08, 1.11653260e-08, 1.13543345e-08,\n",
       "       1.15465390e-08, 1.17419933e-08, 1.19407524e-08, 1.21428722e-08,\n",
       "       1.23484093e-08, 1.25574214e-08, 1.27699674e-08, 1.29861068e-08,\n",
       "       1.32059004e-08, 1.34294098e-08, 1.36566979e-08, 1.38878283e-08,\n",
       "       1.41228661e-08, 1.43618772e-08, 1.46049287e-08, 1.48520889e-08,\n",
       "       1.51034270e-08, 1.53590137e-08, 1.56189207e-08, 1.58832210e-08,\n",
       "       1.61519887e-08, 1.64252993e-08, 1.67032294e-08, 1.69858571e-08,\n",
       "       1.72732618e-08, 1.75655239e-08, 1.78627256e-08, 1.81649503e-08,\n",
       "       1.84722828e-08, 1.87848092e-08, 1.91026173e-08, 1.94257963e-08,\n",
       "       1.97544368e-08, 2.00886310e-08, 2.04284727e-08, 2.07740573e-08,\n",
       "       2.11254816e-08, 2.14828442e-08, 2.18462454e-08, 2.22157872e-08,\n",
       "       2.25915731e-08, 2.29737085e-08, 2.33623008e-08, 2.37574587e-08,\n",
       "       2.41592933e-08, 2.45679170e-08, 2.49834446e-08, 2.54059926e-08,\n",
       "       2.58356794e-08, 2.62726256e-08, 2.67169536e-08, 2.71687881e-08,\n",
       "       2.76282556e-08, 2.80954852e-08, 2.85706076e-08, 2.90537562e-08,\n",
       "       2.95450664e-08, 3.00446759e-08, 3.05527248e-08, 3.10693555e-08,\n",
       "       3.15947127e-08, 3.21289439e-08, 3.26721986e-08, 3.32246291e-08,\n",
       "       3.37863904e-08, 3.43576398e-08, 3.49385374e-08, 3.55292460e-08,\n",
       "       3.61299311e-08, 3.67407612e-08, 3.73619073e-08, 3.79935434e-08,\n",
       "       3.64955995e-08, 3.71125683e-08, 3.77399561e-08, 3.83779387e-08,\n",
       "       3.90266949e-08, 3.96864064e-08, 4.03572579e-08, 4.10394375e-08,\n",
       "       4.17331363e-08, 4.24385485e-08, 4.31558718e-08, 4.38853070e-08,\n",
       "       4.46270586e-08, 4.53813341e-08, 4.61483450e-08, 4.69283059e-08,\n",
       "       4.77214354e-08, 4.85279556e-08, 4.93480923e-08, 5.01820751e-08,\n",
       "       5.10301377e-08, 5.18925174e-08, 5.27694558e-08, 5.36611984e-08,\n",
       "       5.45679949e-08, 5.54900991e-08, 5.64277692e-08, 5.73812678e-08,\n",
       "       5.83508617e-08, 5.93368224e-08, 6.03394259e-08, 6.13589529e-08,\n",
       "       6.23956887e-08, 6.34499236e-08, 6.45219525e-08, 6.56120757e-08,\n",
       "       6.67205981e-08, 6.78478301e-08, 6.89940871e-08, 7.01596898e-08,\n",
       "       7.13449646e-08, 7.25502431e-08, 7.37758625e-08, 7.50221658e-08,\n",
       "       7.62895018e-08, 7.75782250e-08, 7.88886961e-08, 8.02212817e-08,\n",
       "       8.15763547e-08, 8.29542941e-08, 8.43554854e-08, 8.57803207e-08,\n",
       "       8.72291986e-08, 8.87025243e-08, 8.79980094e-08, 8.94842712e-08,\n",
       "       9.09956105e-08, 9.25324499e-08, 9.40952195e-08, 9.56843562e-08,\n",
       "       9.73003045e-08, 9.67327200e-08, 9.83663195e-08, 1.00027480e-07,\n",
       "       1.01716665e-07, 1.03434347e-07, 1.00747849e-07, 1.02449116e-07,\n",
       "       1.04179082e-07, 1.05938232e-07, 1.07727057e-07, 1.09546058e-07,\n",
       "       1.11395743e-07, 1.08827280e-07, 1.08438937e-07, 1.10269839e-07,\n",
       "       1.12131624e-07, 1.09566210e-07, 1.11416055e-07, 1.13297101e-07,\n",
       "       1.12977103e-07, 1.14884443e-07, 1.14588868e-07, 1.16523356e-07,\n",
       "       1.18490470e-07, 1.20490761e-07, 1.20285076e-07, 1.20074730e-07,\n",
       "       1.22101667e-07, 1.19676428e-07, 1.21696577e-07, 1.23750794e-07,\n",
       "       1.23593002e-07, 1.25679163e-07, 1.27800503e-07, 1.29957615e-07,\n",
       "       1.32151102e-07, 1.32129143e-07, 1.29852033e-07, 1.32043633e-07,\n",
       "       1.32016285e-07, 1.29730225e-07, 1.29661450e-07, 1.31849695e-07,\n",
       "       1.34074835e-07, 1.36337491e-07, 1.36375455e-07, 1.36412866e-07,\n",
       "       1.38714870e-07, 1.41055685e-07, 1.43435963e-07, 1.41319123e-07,\n",
       "       1.43703772e-07, 1.46128622e-07, 1.48594350e-07, 1.48828396e-07,\n",
       "       1.49065195e-07, 1.49304793e-07, 1.49547239e-07, 1.49792579e-07,\n",
       "       1.50040863e-07, 1.48011951e-07, 1.43665111e-07, 1.43806429e-07,\n",
       "       1.46232596e-07, 1.48699658e-07, 1.46636358e-07, 1.46823026e-07,\n",
       "       1.44723364e-07, 1.42585929e-07, 1.40410087e-07, 1.40486944e-07,\n",
       "       1.38270994e-07, 1.36015314e-07, 1.33719235e-07, 1.31382077e-07,\n",
       "       1.33598224e-07, 1.31254330e-07, 1.31168403e-07, 1.31079837e-07,\n",
       "       1.30988587e-07, 1.30894608e-07, 1.30797853e-07, 1.33003910e-07,\n",
       "       1.30633560e-07, 1.32836779e-07, 1.28149814e-07, 1.30311078e-07,\n",
       "       1.30197342e-07, 1.32393071e-07, 1.34625796e-07, 1.36896140e-07,\n",
       "       1.39204738e-07, 1.36917834e-07, 1.39226728e-07, 1.41574522e-07,\n",
       "       1.43961871e-07, 1.46389442e-07, 1.46534929e-07, 1.49005814e-07,\n",
       "       1.46867737e-07, 1.49344160e-07, 1.47207087e-07, 1.45031630e-07,\n",
       "       1.45147063e-07, 1.47594327e-07, 1.45418349e-07, 1.45536724e-07,\n",
       "       1.45655902e-07, 1.45775896e-07, 1.43559861e-07, 1.43642132e-07,\n",
       "       1.41385426e-07, 1.39088325e-07, 1.39091637e-07, 1.39093814e-07,\n",
       "       1.41438635e-07, 1.41477995e-07, 1.39170714e-07, 1.41516729e-07,\n",
       "       1.43902256e-07, 1.46327959e-07, 1.41742301e-07, 1.39427735e-07,\n",
       "       1.34718756e-07, 1.34635317e-07, 1.34549281e-07, 1.34460606e-07,\n",
       "       1.36726925e-07, 1.36672574e-07, 1.34256126e-07, 1.34157752e-07,\n",
       "       1.34056531e-07, 1.36315875e-07, 1.38613264e-07, 1.38583565e-07,\n",
       "       1.36185245e-07, 1.36112246e-07, 1.33667585e-07, 1.28808980e-07,\n",
       "       1.23864996e-07, 1.23579622e-07, 1.23288253e-07, 1.18240735e-07,\n",
       "       1.17857028e-07, 1.17465669e-07, 1.17066531e-07, 1.19039135e-07,\n",
       "       1.13902523e-07, 1.08675863e-07, 1.10507003e-07, 1.07600414e-07,\n",
       "       1.07027948e-07, 1.06444653e-07, 1.08238097e-07, 1.10061732e-07,\n",
       "       1.09526004e-07, 1.11371286e-07, 1.13247631e-07, 1.12762030e-07,\n",
       "       1.07477690e-07, 1.06892516e-07, 1.08693302e-07, 1.08126243e-07,\n",
       "       1.05149136e-07, 1.06920477e-07, 1.08721633e-07, 1.10553106e-07,\n",
       "       1.12415404e-07, 1.11903951e-07, 1.11382699e-07, 1.08444076e-07,\n",
       "       1.07862179e-07, 1.09679022e-07, 1.11526441e-07, 1.10992917e-07,\n",
       "       1.12862416e-07, 1.09934680e-07, 1.09370799e-07, 1.11212899e-07,\n",
       "       1.10668181e-07, 1.05275158e-07, 1.07048203e-07, 1.04008510e-07,\n",
       "       1.03337729e-07, 1.05078072e-07, 1.01998186e-07, 1.01290008e-07,\n",
       "       1.00568724e-07, 1.02262341e-07, 1.03984455e-07, 9.84439253e-08,\n",
       "       9.76699945e-08, 9.93147051e-08, 9.85530793e-08, 1.00212615e-07,\n",
       "       1.01900073e-07, 1.03615923e-07, 1.05360641e-07, 9.98153355e-08,\n",
       "       1.01496012e-07, 1.00762860e-07, 9.75729208e-08, 9.67713549e-08,\n",
       "       9.59551143e-08, 9.02304891e-08, 8.68538780e-08, 8.34180838e-08,\n",
       "       8.48225142e-08, 7.88964969e-08, 7.53197372e-08, 7.41341014e-08,\n",
       "       7.29273318e-08, 7.16990729e-08, 7.04489638e-08, 7.16349341e-08,\n",
       "       6.79219462e-08, 6.66047348e-08, 6.77259447e-08, 6.88660135e-08,\n",
       "       6.75611786e-08, 6.86984436e-08, 6.24556582e-08, 6.35069534e-08,\n",
       "       6.21072246e-08, 6.31526270e-08, 5.92735737e-08, 6.02712531e-08,\n",
       "       5.88123796e-08, 5.73277814e-08, 5.58170261e-08, 5.42796743e-08,\n",
       "       5.51932372e-08, 5.36430488e-08, 5.20656017e-08, 5.29418658e-08,\n",
       "       5.38328656e-08, 4.97713668e-08, 4.81240883e-08, 4.89339742e-08,\n",
       "       4.72702683e-08, 4.55773971e-08, 4.63443944e-08, 4.71242889e-08,\n",
       "       4.29336235e-08, 4.36561020e-08, 4.18965786e-08, 4.01062809e-08,\n",
       "       4.07811551e-08, 4.14673766e-08, 4.21651360e-08, 4.28746272e-08,\n",
       "       4.10949581e-08, 4.17864241e-08, 4.24895157e-08, 4.06998692e-08,\n",
       "       4.13846610e-08, 4.20809656e-08, 4.02809481e-08, 4.09586652e-08,\n",
       "       4.16477758e-08, 3.98369732e-08, 4.05071947e-08, 4.11886834e-08,\n",
       "       4.18816284e-08, 4.25862224e-08, 4.33026609e-08, 4.15127055e-08,\n",
       "       3.96914722e-08, 4.03591860e-08, 3.85162169e-08, 3.41180162e-08,\n",
       "       3.46919482e-08, 3.27501507e-08, 3.07745252e-08, 2.87645036e-08,\n",
       "       2.67195081e-08, 2.71689542e-08, 2.50947951e-08, 2.55169014e-08,\n",
       "       2.59461023e-08, 2.38478879e-08, 2.42490054e-08, 2.46568646e-08,\n",
       "       2.50715786e-08, 2.54932625e-08, 2.59220335e-08, 2.63580104e-08,\n",
       "       2.68013145e-08, 2.72520686e-08, 2.77103979e-08, 2.81764297e-08,\n",
       "       2.86502933e-08, 2.91321201e-08, 2.70723799e-08, 2.75276588e-08,\n",
       "       2.54386112e-08, 2.33132705e-08, 2.37053175e-08, 2.41039525e-08,\n",
       "       2.19526825e-08, 2.23218355e-08, 2.26971915e-08, 2.30788546e-08,\n",
       "       2.34669308e-08, 2.38615276e-08, 2.42627547e-08, 2.46707234e-08,\n",
       "       2.50855467e-08, 2.55073399e-08, 2.33680511e-08, 2.11916309e-08,\n",
       "       2.15479379e-08, 2.19102313e-08, 2.22786116e-08, 2.26531809e-08,\n",
       "       2.30340432e-08, 2.34213041e-08, 2.38150710e-08, 2.42154532e-08,\n",
       "       2.46225618e-08, 2.50365096e-08, 2.54574114e-08, 2.58853841e-08,\n",
       "       2.37361857e-08, 2.41352127e-08, 2.45409427e-08, 2.49534883e-08,\n",
       "       2.53729640e-08, 2.57994860e-08, 2.36418729e-08, 2.14468292e-08,\n",
       "       2.18073395e-08, 2.21739053e-08, 2.25466284e-08, 2.29256121e-08,\n",
       "       2.33109615e-08, 2.37027833e-08, 2.41011864e-08, 2.45062810e-08,\n",
       "       2.49181796e-08, 2.27329746e-08, 2.31150585e-08, 2.35035597e-08,\n",
       "       2.38985858e-08, 2.43002464e-08, 2.47086528e-08, 2.51239182e-08,\n",
       "       2.55461577e-08, 2.59754885e-08, 2.64120294e-08, 2.68559015e-08,\n",
       "       2.46904841e-08, 2.51054146e-08, 2.55273132e-08, 2.33360834e-08,\n",
       "       2.37282390e-08, 2.15044535e-08, 2.18658206e-08, 1.96084163e-08,\n",
       "       1.73119180e-08, 1.76028222e-08, 1.78986113e-08, 1.81993672e-08,\n",
       "       1.85051731e-08, 1.88161139e-08, 1.91322757e-08, 1.68196542e-08,\n",
       "       1.71022635e-08, 1.73896179e-08, 1.76817971e-08, 1.79788820e-08,\n",
       "       1.82809550e-08, 1.85880996e-08, 1.89004011e-08, 1.92179459e-08,\n",
       "       1.95408221e-08, 1.98691190e-08, 2.02029276e-08, 2.05423404e-08,\n",
       "       2.08874514e-08, 1.85880726e-08, 1.89003448e-08, 1.39126660e-08,\n",
       "       1.41463878e-08, 1.17291234e-08, 1.19261589e-08, 1.21265021e-08,\n",
       "       1.23302084e-08, 1.25373343e-08, 1.27479371e-08, 1.29620752e-08,\n",
       "       1.31798079e-08, 1.34011954e-08, 1.36262992e-08, 1.38551814e-08,\n",
       "       1.40879056e-08, 1.43245361e-08, 1.45651385e-08, 1.48097794e-08,\n",
       "       1.50585265e-08, 1.53114488e-08, 1.55686162e-08, 1.31543724e-08,\n",
       "       1.33753051e-08, 1.35999459e-08, 1.38283570e-08, 1.40606016e-08,\n",
       "       1.42967441e-08, 1.45368498e-08, 1.20971618e-08, 1.23003222e-08,\n",
       "       1.25068922e-08, 1.27169289e-08, 1.29304905e-08, 1.31476362e-08,\n",
       "       1.33684259e-08, 1.09010017e-08, 1.10840594e-08, 1.12701890e-08,\n",
       "       8.76405323e-09, 8.91122076e-09, 9.06085788e-09, 9.21300600e-09,\n",
       "       9.36770726e-09, 9.52500444e-09, 9.68494110e-09, 9.84756149e-09,\n",
       "       1.00129106e-08, 1.01810342e-08, 1.03519789e-08, 1.05257918e-08,\n",
       "       1.07025212e-08, 1.08822159e-08, 1.10649257e-08, 1.12507010e-08,\n",
       "       1.14395934e-08, 1.16316550e-08, 1.18269391e-08, 1.20254996e-08])"
      ]
     },
     "execution_count": 19,
     "metadata": {},
     "output_type": "execute_result"
    }
   ],
   "source": [
    "distribution * np.convolve(SOM.labeled_map[0, 0, 0, :],\n",
    "            1/(sigma * np.sqrt(2 * np.pi)) * np.exp(-distribution/(2 * sigma ** 2)),\n",
    "            mode = 'same')[::-1]"
   ]
  },
  {
   "cell_type": "code",
   "execution_count": 16,
   "metadata": {},
   "outputs": [
    {
     "data": {
      "text/plain": [
       "3.2296313464313125e-08"
      ]
     },
     "execution_count": 16,
     "metadata": {},
     "output_type": "execute_result"
    }
   ],
   "source": [
    "np.mean(distribution * np.convolve(SOM.labeled_map[0, 0, 0, :],\n",
    "            1/(sigma * np.sqrt(2 * np.pi)) * np.exp(-distribution/(2 * sigma ** 2)),\n",
    "            mode = 'same'))"
   ]
  },
  {
   "cell_type": "code",
   "execution_count": null,
   "metadata": {},
   "outputs": [],
   "source": []
  },
  {
   "cell_type": "code",
   "execution_count": 19,
   "metadata": {},
   "outputs": [
    {
     "data": {
      "text/plain": [
       "(1000,)"
      ]
     },
     "execution_count": 19,
     "metadata": {},
     "output_type": "execute_result"
    }
   ],
   "source": [
    "np.shape(SOM.labeled_map[0, 0, 0, :])"
   ]
  },
  {
   "cell_type": "code",
   "execution_count": 27,
   "metadata": {},
   "outputs": [
    {
     "ename": "NameError",
     "evalue": "name 'plt' is not defined",
     "output_type": "error",
     "traceback": [
      "\u001b[0;31m---------------------------------------------------------------------------\u001b[0m",
      "\u001b[0;31mNameError\u001b[0m                                 Traceback (most recent call last)",
      "Cell \u001b[0;32mIn[27], line 1\u001b[0m\n\u001b[0;32m----> 1\u001b[0m plt\u001b[38;5;241m.\u001b[39mimshow(np\u001b[38;5;241m.\u001b[39mmean(SOM\u001b[38;5;241m.\u001b[39mlabeled_map[\u001b[38;5;241m.\u001b[39m\u001b[38;5;241m.\u001b[39m\u001b[38;5;241m.\u001b[39m, \u001b[38;5;241m0\u001b[39m, :], axis \u001b[38;5;241m=\u001b[39m \u001b[38;5;241m-\u001b[39m\u001b[38;5;241m1\u001b[39m))\n",
      "\u001b[0;31mNameError\u001b[0m: name 'plt' is not defined"
     ]
    }
   ],
   "source": [
    "plt.imshow(np.mean(SOM.labeled_map[..., 0, :], axis = -1))"
   ]
  },
  {
   "cell_type": "code",
   "execution_count": 10,
   "metadata": {},
   "outputs": [
    {
     "ename": "AttributeError",
     "evalue": "'SelfOrganizingMap' object has no attribute 'labeled_map'",
     "output_type": "error",
     "traceback": [
      "\u001b[0;31m---------------------------------------------------------------------------\u001b[0m",
      "\u001b[0;31mAttributeError\u001b[0m                            Traceback (most recent call last)",
      "Cell \u001b[0;32mIn[10], line 1\u001b[0m\n\u001b[0;32m----> 1\u001b[0m np\u001b[38;5;241m.\u001b[39mshape(SOM\u001b[38;5;241m.\u001b[39mlabeled_map, append \u001b[38;5;241m=\u001b[39m \u001b[38;5;241m1\u001b[39m)\n",
      "\u001b[0;31mAttributeError\u001b[0m: 'SelfOrganizingMap' object has no attribute 'labeled_map'"
     ]
    }
   ],
   "source": []
  },
  {
   "cell_type": "code",
   "execution_count": null,
   "metadata": {},
   "outputs": [],
   "source": []
  },
  {
   "cell_type": "code",
   "execution_count": 27,
   "metadata": {},
   "outputs": [
    {
     "ename": "IndexError",
     "evalue": "only integers, slices (`:`), ellipsis (`...`), numpy.newaxis (`None`) and integer or boolean arrays are valid indices",
     "output_type": "error",
     "traceback": [
      "\u001b[0;31m---------------------------------------------------------------------------\u001b[0m",
      "\u001b[0;31mIndexError\u001b[0m                                Traceback (most recent call last)",
      "Cell \u001b[0;32mIn[27], line 2\u001b[0m\n\u001b[1;32m      1\u001b[0m \u001b[38;5;28;01mfor\u001b[39;00m cell \u001b[38;5;129;01min\u001b[39;00m labeling_data_bmu_idx:\n\u001b[0;32m----> 2\u001b[0m     \u001b[38;5;28mprint\u001b[39m(labeled_map[cell])\n",
      "\u001b[0;31mIndexError\u001b[0m: only integers, slices (`:`), ellipsis (`...`), numpy.newaxis (`None`) and integer or boolean arrays are valid indices"
     ]
    }
   ],
   "source": [
    "for cell in labeling_data_bmu_idx:\n",
    "    print(labeled_map[cell])"
   ]
  },
  {
   "cell_type": "code",
   "execution_count": null,
   "metadata": {},
   "outputs": [],
   "source": [
    "delta_distribution = np.full(1000, 0)\n",
    "delta_distribution[deltas_idx] = 1"
   ]
  },
  {
   "cell_type": "code",
   "execution_count": null,
   "metadata": {},
   "outputs": [],
   "source": [
    "mstar_values = SOM.labeling_data[labeling_data_bmu_idx['(3, 11)']][:, 3]"
   ]
  },
  {
   "cell_type": "code",
   "execution_count": null,
   "metadata": {},
   "outputs": [],
   "source": [
    "deltas_idx = [np.abs(distribution - mstar).argmin() for mstar in mstar_values]"
   ]
  },
  {
   "cell_type": "code",
   "execution_count": null,
   "metadata": {},
   "outputs": [],
   "source": [
    "distribution = np.linspace(np.min(SOM.labeling_data[:, 3]), np.max(SOM.labeling_data[:, 3]),\n",
    "                           1000)"
   ]
  },
  {
   "cell_type": "code",
   "execution_count": null,
   "metadata": {},
   "outputs": [],
   "source": [
    "plt.plot(distribution,\n",
    "         delta_distribution/np.sum(delta_distribution),\n",
    "         color = 'black', linewidth = 0.75)"
   ]
  },
  {
   "cell_type": "code",
   "execution_count": null,
   "metadata": {},
   "outputs": [],
   "source": [
    "sigma = 0.45\n",
    "gaussian_convolved = np.convolve(delta_distribution/np.sum(delta_distribution),\n",
    "                                (1/(sigma * np.sqrt(2 * np.pi))) * np.exp(-distribution/(2 * sigma**2)),\n",
    "                                mode = 'same')"
   ]
  },
  {
   "cell_type": "code",
   "execution_count": null,
   "metadata": {},
   "outputs": [],
   "source": [
    "plt.plot(distribution,\n",
    "         gaussian_convolved)"
   ]
  },
  {
   "cell_type": "code",
   "execution_count": null,
   "metadata": {},
   "outputs": [],
   "source": [
    "np.sum(gaussian_convolved/np.sum(gaussian_convolved) * distribution)"
   ]
  },
  {
   "cell_type": "code",
   "execution_count": null,
   "metadata": {},
   "outputs": [],
   "source": [
    "np.sum(gaussian_convolved/np.sum(gaussian_convolved) * distribution)"
   ]
  }
 ],
 "metadata": {
  "kernelspec": {
   "display_name": "astro-two",
   "language": "python",
   "name": "python3"
  },
  "language_info": {
   "codemirror_mode": {
    "name": "ipython",
    "version": 3
   },
   "file_extension": ".py",
   "mimetype": "text/x-python",
   "name": "python",
   "nbconvert_exporter": "python",
   "pygments_lexer": "ipython3",
   "version": "3.12.3"
  },
  "vscode": {
   "interpreter": {
    "hash": "0652fbddb8f14dbb5acc595fb3c293f389575b2db40f72de3b99cc3e859b4597"
   }
  }
 },
 "nbformat": 4,
 "nbformat_minor": 2
}
