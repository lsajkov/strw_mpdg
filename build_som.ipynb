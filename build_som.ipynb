{
 "cells": [
  {
   "cell_type": "code",
   "execution_count": null,
   "metadata": {},
   "outputs": [],
   "source": [
    "import numpy as np\n",
    "import matplotlib as mpl\n",
    "import matplotlib.pyplot as plt\n",
    "\n",
    "from astropy.io import fits\n",
    "from astropy.table import Table\n",
    "\n",
    "plt.rcParams.update({\n",
    "    'font.family': 'serif',\n",
    "    'font.size': 24,\n",
    "    'axes.labelsize': 'large',\n",
    "    'mathtext.fontset': 'stix'\n",
    "})\n",
    "\n",
    "from mpdg_som import SelfOrganizingMap\n",
    "from mpdg_som_utils import SOM_LearningRateFunctions\n",
    "\n",
    "import mpdg_som_utils"
   ]
  },
  {
   "cell_type": "code",
   "execution_count": null,
   "metadata": {},
   "outputs": [],
   "source": [
    "#load in data produced in primary_targeting_region.ipynb\n",
    "cut_data_file = '/data2/lsajkov/mpdg/data_products/GAMA/GAMA_primtarg_snr100_lms6_12_25jun2024.fits'\n",
    "\n",
    "with fits.open(cut_data_file) as cat:\n",
    "    GAMA_vect_data = Table(cat[1].data)\n",
    "\n",
    "GAMA_vect_data.add_column(GAMA_vect_data['r_mag_err'], index = 4, name = 'surf_bright_r_err')"
   ]
  },
  {
   "cell_type": "code",
   "execution_count": null,
   "metadata": {},
   "outputs": [],
   "source": [
    "SOM = SelfOrganizingMap([16, 16],\n",
    "                        initialization = 'random')"
   ]
  },
  {
   "cell_type": "code",
   "execution_count": null,
   "metadata": {},
   "outputs": [],
   "source": [
    "SOM.load_data(GAMA_vect_data['r_mag', 'gr_color', 'surf_bright_r'],\n",
    "              variable_names = ['r_mag', 'gr_color', 'surf_bright_r'])"
   ]
  },
  {
   "cell_type": "code",
   "execution_count": null,
   "metadata": {},
   "outputs": [],
   "source": [
    "SOM.load_standard_deviations(GAMA_vect_data['r_mag_err', 'gr_color_err', 'surf_bright_r_err'])"
   ]
  },
  {
   "cell_type": "code",
   "execution_count": null,
   "metadata": {},
   "outputs": [],
   "source": [
    "SOM.build_SOM()"
   ]
  },
  {
   "cell_type": "code",
   "execution_count": null,
   "metadata": {},
   "outputs": [],
   "source": [
    "fig = plt.figure()\n",
    "for i, name in enumerate(SOM.variable_names):\n",
    "    ax = fig.add_subplot(1, 3, i + 1)\n",
    "    ax.imshow(SOM.SOM[:, :, i], origin = 'lower', cmap = 'Spectral')\n",
    "    ax.set_title(SOM.variable_names[i],\n",
    "                 fontsize = 12)\n",
    "    ax.axis('off')"
   ]
  },
  {
   "cell_type": "code",
   "execution_count": null,
   "metadata": {},
   "outputs": [],
   "source": [
    "random_idx = np.random.rand(*SOM.mapsize) * SOM.data_len\n",
    "random_idx = np.array(random_idx, dtype = int)"
   ]
  },
  {
   "cell_type": "code",
   "execution_count": null,
   "metadata": {},
   "outputs": [],
   "source": [
    "weight_vectors = SOM.data[random_idx]"
   ]
  },
  {
   "cell_type": "code",
   "execution_count": null,
   "metadata": {},
   "outputs": [],
   "source": [
    "distances = np.full(SOM.mapsize, np.nan)\n",
    "iteration_map = np.nditer(distances, flags = ['multi_index'])\n",
    "\n",
    "for _ in iteration_map:\n",
    "    chi_sq_dist = mpdg_som_utils.chi_sq_dist(weight_vectors[*iteration_map.multi_index],\n",
    "                                             SOM.data[45],\n",
    "                                             data_dim = 3)\n",
    "    distances[*iteration_map.multi_index] = chi_sq_dist\n",
    "\n",
    "\n",
    "argmin_idx = np.argmin(distances)\n",
    "argmin_coords = np.unravel_index(argmin_idx, SOM.mapsize)"
   ]
  },
  {
   "cell_type": "code",
   "execution_count": null,
   "metadata": {},
   "outputs": [],
   "source": [
    "np.shape(weight_vectors)[:-1]"
   ]
  },
  {
   "cell_type": "code",
   "execution_count": null,
   "metadata": {},
   "outputs": [],
   "source": [
    "distances = np.full(SOM.mapsize, np.nan)\n",
    "iteration_map = np.nditer(distances, flags = ['multi_index'])\n",
    "\n",
    "for _ in iteration_map:\n",
    "    euclid_dist = np.linalg.norm(np.array(argmin_coords) -\\\n",
    "                                 np.array(iteration_map.multi_index))\n",
    "    distances[*iteration_map.multi_index] = euclid_dist"
   ]
  },
  {
   "cell_type": "code",
   "execution_count": null,
   "metadata": {},
   "outputs": [],
   "source": [
    "argmin_coords"
   ]
  },
  {
   "cell_type": "code",
   "execution_count": null,
   "metadata": {},
   "outputs": [],
   "source": [
    "plt.imshow(np.exp(-distances**2/3))"
   ]
  },
  {
   "cell_type": "code",
   "execution_count": null,
   "metadata": {},
   "outputs": [],
   "source": [
    "count = 0\n",
    "for i, _ in enumerate(np.shape(n_dim_map)):\n",
    "    for ii in range(np.shape(n_dim_map)[i]):\n",
    "        count += 1\n",
    "        print(count)"
   ]
  },
  {
   "cell_type": "code",
   "execution_count": null,
   "metadata": {},
   "outputs": [],
   "source": [
    "[mpdg_som_utils.chi_sq_dist(weight_vector = weight_vectors[ii, jj],\n",
    "                           data_vector = SOM.data[0],\n",
    "                           data_dim = 3) for ii in ]\n",
    "mpdg_som_utils.chi_sq_dist(weight_vector = weight_vectors,\n",
    "                           data_vector = SOM.data[0],\n",
    "                           data_dim = 3)"
   ]
  },
  {
   "cell_type": "code",
   "execution_count": null,
   "metadata": {},
   "outputs": [],
   "source": [
    "if (~use_covariance) & (data_dim is not None):\n",
    "    covar_matrix = np.diagflat([1] * data_dim)\n",
    "\n",
    "elif (~use_covariance) & (data_dim is None):\n",
    "    raise(ValueError('Please pass a dimensionality for the data (number of variables).'))\n",
    "\n",
    "elif (use_covariance) & (covar_vector is None):\n",
    "    raise(ValueError('There is no covariance matrix for the given data vector!'))\n",
    "\n",
    "covar_matrix = np.diagflat(covar_vector)\n",
    "inv_covar_matrix = linalg.inv(covar_matrix)\n",
    "\n",
    "vector_difference = data_vector - weight_vector\n",
    "\n",
    "np.dot(np.dot(vector_difference, inv_covar_matrix),vector_difference)"
   ]
  },
  {
   "cell_type": "code",
   "execution_count": null,
   "metadata": {},
   "outputs": [],
   "source": [
    "for i in np.nditer"
   ]
  },
  {
   "cell_type": "code",
   "execution_count": null,
   "metadata": {},
   "outputs": [],
   "source": [
    "plt.imshow(np.ones(SOM.mapsize))"
   ]
  },
  {
   "cell_type": "markdown",
   "metadata": {},
   "source": [
    "___"
   ]
  },
  {
   "cell_type": "code",
   "execution_count": null,
   "metadata": {},
   "outputs": [],
   "source": [
    "import numpy as np\n",
    "import matplotlib as mpl\n",
    "import matplotlib.pyplot as plt\n",
    "\n",
    "from astropy.io import fits\n",
    "from astropy.table import Table\n",
    "\n",
    "from mpdg_som import SelfOrganizingMap\n",
    "from mpdg_som_utils import SOM_LearningRateFunctions\n",
    "\n",
    "import mpdg_som_utils\n",
    "#load in data produced in primary_targeting_region.ipynb\n",
    "cut_data_file = '/data2/lsajkov/mpdg/data_products/GAMA/GAMA_primtarg_snr100_lms6_12_25jun2024.fits'\n",
    "\n",
    "with fits.open(cut_data_file) as cat:\n",
    "    GAMA_vect_data = Table(cat[1].data)\n",
    "\n",
    "GAMA_vect_data = GAMA_vect_data[GAMA_vect_data['log_stellar_mass'] < 9.5]\n",
    "\n",
    "GAMA_vect_data.add_column(GAMA_vect_data['r_mag_err'], index = 4, name = 'surf_bright_r_err')\n",
    "SOM = SelfOrganizingMap([16, 16],\n",
    "                        initialization = 'random')\n",
    "SOM.load_data(GAMA_vect_data['r_mag', 'gr_color', 'surf_bright_r'],\n",
    "              variable_names = ['r_mag', 'gr_color', 'surf_bright_r'])\n",
    "SOM.load_standard_deviations(GAMA_vect_data['r_mag_err', 'gr_color_err', 'surf_bright_r_err'])\n",
    "SOM.build_SOM()\n",
    "random_idx = np.random.rand(*SOM.mapsize) * SOM.data_len\n",
    "random_idx = np.array(random_idx, dtype = int)\n",
    "weight_vectors = SOM.data[random_idx]"
   ]
  },
  {
   "cell_type": "code",
   "execution_count": null,
   "metadata": {},
   "outputs": [],
   "source": [
    "step0_weights = weight_vectors.copy()"
   ]
  },
  {
   "cell_type": "code",
   "execution_count": null,
   "metadata": {},
   "outputs": [],
   "source": [
    "step = 1\n",
    "step1_weights = mpdg_som_utils.training_step(step0_weights,\n",
    "                                             SOM.data[0],\n",
    "                                             SOM.variances[0],\n",
    "                                             step,\n",
    "                                             mpdg_som_utils.SOM_LearningRateFunctions.power_law_lrf,\n",
    "                                             (1000, 0.5),\n",
    "                                             mpdg_som_utils.SOM_NeighborhoodFunctions.gaussian_nbh,\n",
    "                                             (SOM.mapsize, 2))\n"
   ]
  },
  {
   "cell_type": "code",
   "execution_count": null,
   "metadata": {},
   "outputs": [],
   "source": [
    "step = 1\n",
    "step1_weights = step0_weights\n",
    "for index in range(SOM.data_len):\n",
    "    step1_weights = mpdg_som_utils.training_step(step1_weights,\n",
    "                                                 SOM.data[index],\n",
    "                                                 SOM.variances[index],\n",
    "                                                 step,\n",
    "                                                 mpdg_som_utils.SOM_LearningRateFunctions.power_law_lrf,\n",
    "                                                 (1000, 0.5),\n",
    "                                                 mpdg_som_utils.SOM_NeighborhoodFunctions.gaussian_nbh,\n",
    "                                                 (SOM.mapsize, 2))"
   ]
  },
  {
   "cell_type": "code",
   "execution_count": null,
   "metadata": {},
   "outputs": [],
   "source": [
    "fig = plt.figure()\n",
    "for i, name in enumerate(SOM.variable_names):\n",
    "    ax = fig.add_subplot(1, 3, i + 1)\n",
    "    ax.imshow(step0_weights[:, :, i], origin = 'lower', cmap = 'Spectral')\n",
    "    ax.set_title(SOM.variable_names[i],\n",
    "                 fontsize = 12)\n",
    "    ax.axis('off')"
   ]
  },
  {
   "cell_type": "code",
   "execution_count": null,
   "metadata": {},
   "outputs": [],
   "source": [
    "fig = plt.figure()\n",
    "for i, name in enumerate(SOM.variable_names):\n",
    "    ax = fig.add_subplot(1, 3, i + 1)\n",
    "    ax.imshow(step1_weights[:, :, i], origin = 'lower', cmap = 'Spectral')\n",
    "    ax.set_title(SOM.variable_names[i],\n",
    "                 fontsize = 12)\n",
    "    ax.axis('off')"
   ]
  },
  {
   "cell_type": "code",
   "execution_count": null,
   "metadata": {},
   "outputs": [],
   "source": [
    "np.max(step1_weights - step0_weights)"
   ]
  },
  {
   "cell_type": "markdown",
   "metadata": {},
   "source": [
    "___"
   ]
  },
  {
   "cell_type": "code",
   "execution_count": null,
   "metadata": {},
   "outputs": [],
   "source": [
    "import numpy as np\n",
    "import matplotlib as mpl\n",
    "import matplotlib.pyplot as plt\n",
    "\n",
    "from astropy.io import fits\n",
    "from astropy.table import Table\n",
    "\n",
    "from mpdg_som import SelfOrganizingMap"
   ]
  },
  {
   "cell_type": "code",
   "execution_count": null,
   "metadata": {},
   "outputs": [],
   "source": [
    "#load in data produced in primary_targeting_region.ipynb\n",
    "cut_data_file = '/data2/lsajkov/mpdg/data_products/GAMA/GAMA_primtarg_snr100_lms6_12_25jun2024.fits'\n",
    "\n",
    "with fits.open(cut_data_file) as cat:\n",
    "    GAMA_vect_data = Table(cat[1].data)\n",
    "\n",
    "GAMA_vect_data = GAMA_vect_data[GAMA_vect_data['log_stellar_mass'] < 9.5]\n",
    "\n",
    "GAMA_vect_data.add_column(GAMA_vect_data['r_mag_err'], index = 4, name = 'surf_bright_r_err')"
   ]
  },
  {
   "cell_type": "code",
   "execution_count": null,
   "metadata": {},
   "outputs": [],
   "source": [
    "input_data = GAMA_vect_data['r_mag', 'gr_color', 'surf_bright_r']\n",
    "input_vars = GAMA_vect_data['r_mag_err', 'gr_color_err', 'surf_bright_r_err']\n",
    "\n",
    "input_labels = GAMA_vect_data['log_stellar_mass', 'redshift']\n",
    "\n",
    "tuple_labels = input_labels.as_array()\n",
    "list_labels = [list(values) for values in tuple_labels]\n",
    "input_labels = np.array(list_labels)"
   ]
  },
  {
   "cell_type": "code",
   "execution_count": null,
   "metadata": {},
   "outputs": [],
   "source": [
    "normalization_params = {}\n",
    "\n",
    "for variable in input_data.keys():\n",
    "    normalization_params[variable] = {}\n",
    "\n",
    "    normalization_params[variable]['mean'] = np.mean(GAMA_vect_data[variable])\n",
    "    normalization_params[variable]['std']  = np.std(GAMA_vect_data[variable])"
   ]
  },
  {
   "cell_type": "code",
   "execution_count": null,
   "metadata": {},
   "outputs": [],
   "source": [
    "normalized_input_data = input_data.copy()\n",
    "for variable in input_data.keys():\n",
    "    \n",
    "    normalized_input_data[variable] -= normalization_params[variable]['mean']\n",
    "    normalized_input_data[variable] /= normalization_params[variable]['std']"
   ]
  },
  {
   "cell_type": "code",
   "execution_count": null,
   "metadata": {},
   "outputs": [],
   "source": [
    "SOM = SelfOrganizingMap([16, 16],\n",
    "                        initialization = 'pca',\n",
    "                        maximum_steps = 100)\n",
    "\n",
    "data_cut = 1000\n",
    "\n",
    "SOM.load_data(normalized_input_data[:data_cut],\n",
    "              variable_names = ['r_mag', 'gr_color', 'surf_bright_r'])\n",
    "\n",
    "SOM.load_standard_deviations(input_vars[:data_cut])\n",
    "\n",
    "SOM.build_SOM()"
   ]
  },
  {
   "cell_type": "code",
   "execution_count": null,
   "metadata": {},
   "outputs": [],
   "source": [
    "SOM.data_statistics()\n",
    "SOM.show_map()"
   ]
  },
  {
   "cell_type": "code",
   "execution_count": null,
   "metadata": {},
   "outputs": [],
   "source": [
    "SOM.train(debug_max_steps = 1,\n",
    "          error_thresh = 1)"
   ]
  },
  {
   "cell_type": "code",
   "execution_count": null,
   "metadata": {},
   "outputs": [],
   "source": [
    "SOM.show_map()"
   ]
  },
  {
   "cell_type": "code",
   "execution_count": null,
   "metadata": {},
   "outputs": [],
   "source": [
    "SOM.label_map(input_labels[:data_cut],\n",
    "              parameter_names = ['log_mstar', 'redshift'])"
   ]
  },
  {
   "cell_type": "code",
   "execution_count": null,
   "metadata": {},
   "outputs": [],
   "source": [
    "print(f'| SOM after training. Step {SOM.step}.')\n",
    "fig = plt.figure(figsize = (10, 10), constrained_layout = True)\n",
    "for i, name in enumerate(SOM.parameter_names):\n",
    "    ax = fig.add_subplot(1, 3, i + 1)\n",
    "    imsh = ax.imshow(SOM.map_labels[..., i], origin = 'lower', cmap = 'jet')\n",
    "    # ax.set_title(SOM.variable_names[i],\n",
    "    #              fontsize = 12)\n",
    "    ax.axis('off')\n",
    "    \n",
    "    fig.colorbar(mappable = imsh, ax = ax,\n",
    "                 label = SOM.parameter_names[i], location = 'bottom',\n",
    "                 pad = 0.01)"
   ]
  },
  {
   "cell_type": "code",
   "execution_count": null,
   "metadata": {},
   "outputs": [],
   "source": [
    "som_output = np.array([SOM.map_labels[*idx] for idx in SOM.bmu_indices])"
   ]
  },
  {
   "cell_type": "code",
   "execution_count": null,
   "metadata": {},
   "outputs": [],
   "source": [
    "z_outlier_vals = np.abs(som_output[:, 1] - input_labels[:, 1][:data_cut])/(1 + input_labels[:, 1][:data_cut])\n",
    "z_outlier_frac = np.sum(z_outlier_vals > 0.15)/len(z_outlier_vals)"
   ]
  },
  {
   "cell_type": "code",
   "execution_count": null,
   "metadata": {},
   "outputs": [],
   "source": [
    "z_outlier_frac"
   ]
  },
  {
   "cell_type": "code",
   "execution_count": null,
   "metadata": {},
   "outputs": [],
   "source": [
    "log_mstar = np.median(np.abs(som_output[:, 0] - input_labels[:data_cut, 0]))"
   ]
  },
  {
   "cell_type": "code",
   "execution_count": null,
   "metadata": {},
   "outputs": [],
   "source": [
    "log_mstar_mad, z_mad = np.median(np.abs(som_output - input_labels[:data_cut]), axis = 0)"
   ]
  },
  {
   "cell_type": "code",
   "execution_count": null,
   "metadata": {},
   "outputs": [],
   "source": [
    "fig = plt.figure(figsize = (10, 11), constrained_layout = True)\n",
    "ax = fig.add_subplot()\n",
    "\n",
    "hb = ax.hexbin(input_labels[..., 0][:data_cut],\n",
    "               som_output[..., 0],\n",
    "               mincnt = 1, cmap = 'jet')\n",
    "\n",
    "fig.colorbar(mappable = hb, ax = ax,\n",
    "             location = 'top', pad = 0, label = '$N_{\\mathrm{galaxies}}$')\n",
    "\n",
    "ax.set_xlim(8, 9.6)\n",
    "ax.set_ylim(8, 9.6)\n",
    "\n",
    "ax.set_xlabel('GAMA log$_{10}(M_*/M_{\\odot})$\\nTrue')\n",
    "ax.set_ylabel('Predicted\\nSOM log$_{10}(M_*/M_{\\odot})$')\n",
    "\n",
    "ax.axline([0, 0], slope = 1, color = 'red')\n",
    "ax.text(0.65, 0.01,\n",
    "       f'MAD: {log_mstar_mad:.3f} dex',\n",
    "       ma = 'right',\n",
    "       transform = ax.transAxes)"
   ]
  },
  {
   "cell_type": "code",
   "execution_count": null,
   "metadata": {},
   "outputs": [],
   "source": [
    "fig = plt.figure(figsize = (10, 11), constrained_layout = True)\n",
    "ax = fig.add_subplot()\n",
    "\n",
    "hb = ax.hexbin(input_labels[..., 1][:data_cut],\n",
    "               som_output[..., 1],\n",
    "               mincnt = 1, cmap = 'jet')\n",
    "\n",
    "fig.colorbar(mappable = hb, ax = ax,\n",
    "             location = 'top', pad = 0.02, label = '$N_{\\mathrm{galaxies}}$')\n",
    "\n",
    "ax.set_xlim(0, 0.26)\n",
    "ax.set_ylim(0, 0.26)\n",
    "\n",
    "ax.set_xlabel('GAMA $z$\\nTrue')\n",
    "ax.set_ylabel('Predicted\\nSOM $z$')\n",
    "\n",
    "ax.axline([0, 0], slope = 1, color = 'red')\n",
    "ax.text(0.65, 0.01,\n",
    "       f'MAD: {z_mad:.3f} dex',\n",
    "       ma = 'right',\n",
    "       transform = ax.transAxes)"
   ]
  },
  {
   "cell_type": "code",
   "execution_count": null,
   "metadata": {},
   "outputs": [],
   "source": [
    "np.shape(SOM.map_labels)"
   ]
  },
  {
   "cell_type": "code",
   "execution_count": null,
   "metadata": {},
   "outputs": [],
   "source": [
    "populated_cells = np.unique(SOM.bmu_indices, axis = 0)"
   ]
  },
  {
   "cell_type": "code",
   "execution_count": null,
   "metadata": {},
   "outputs": [],
   "source": [
    "np.all(SOM.bmu_indices == (populated_cells[33]), axis = -1)"
   ]
  },
  {
   "cell_type": "code",
   "execution_count": null,
   "metadata": {},
   "outputs": [],
   "source": [
    "np.equal(SOM.bmu_indices, populated_cells[33],\n",
    "         )"
   ]
  },
  {
   "cell_type": "code",
   "execution_count": null,
   "metadata": {},
   "outputs": [],
   "source": [
    "plt.imshow(SOM.map_labels[..., 0])"
   ]
  },
  {
   "cell_type": "code",
   "execution_count": null,
   "metadata": {},
   "outputs": [],
   "source": [
    "plt.scatter(populated_cells[:, 0], populated_cells[:, 1])"
   ]
  },
  {
   "cell_type": "code",
   "execution_count": null,
   "metadata": {},
   "outputs": [],
   "source": [
    "SOM.bmu_indices"
   ]
  },
  {
   "cell_type": "code",
   "execution_count": null,
   "metadata": {},
   "outputs": [],
   "source": [
    "np.sum(SOM.bmu_indices == [5, 3], axis = -1) == 2"
   ]
  },
  {
   "cell_type": "code",
   "execution_count": null,
   "metadata": {},
   "outputs": [],
   "source": [
    "populated_cells[0]"
   ]
  },
  {
   "cell_type": "code",
   "execution_count": null,
   "metadata": {},
   "outputs": [],
   "source": [
    "matching_idx"
   ]
  },
  {
   "cell_type": "code",
   "execution_count": null,
   "metadata": {},
   "outputs": [],
   "source": [
    "(SOM.map_labels)"
   ]
  },
  {
   "cell_type": "code",
   "execution_count": null,
   "metadata": {},
   "outputs": [],
   "source": [
    "SOM.map_labels[*populated_cells[0]]"
   ]
  },
  {
   "cell_type": "code",
   "execution_count": null,
   "metadata": {},
   "outputs": [],
   "source": [
    "populated_cells[0]"
   ]
  },
  {
   "cell_type": "code",
   "execution_count": null,
   "metadata": {},
   "outputs": [],
   "source": [
    "for cell in populated_cells:\n",
    "    print(cell)"
   ]
  },
  {
   "cell_type": "code",
   "execution_count": null,
   "metadata": {},
   "outputs": [],
   "source": [
    "(SOM.parameters)"
   ]
  },
  {
   "cell_type": "markdown",
   "metadata": {},
   "source": [
    "___"
   ]
  },
  {
   "cell_type": "markdown",
   "metadata": {},
   "source": [
    "Build mapping function"
   ]
  },
  {
   "cell_type": "code",
   "execution_count": null,
   "metadata": {},
   "outputs": [],
   "source": [
    "idx = SOM.bmu_indices.copy()"
   ]
  },
  {
   "cell_type": "code",
   "execution_count": null,
   "metadata": {},
   "outputs": [],
   "source": [
    "fig = plt.figure(figsize = (5, 5))\n",
    "ax = fig.add_subplot()\n",
    "\n",
    "ax.scatter(idx[..., 0], idx[..., 1])\n",
    "ax.axis('off')"
   ]
  },
  {
   "cell_type": "code",
   "execution_count": null,
   "metadata": {},
   "outputs": [],
   "source": [
    "populated_cells = np.unique(idx, axis = 0)"
   ]
  },
  {
   "cell_type": "code",
   "execution_count": null,
   "metadata": {},
   "outputs": [],
   "source": [
    "parameters = input_labels\n",
    "tuple_params = parameters.as_array()\n",
    "list_params = [list(values) for values in tuple_params]\n",
    "parameters = np.array(list_params)"
   ]
  },
  {
   "cell_type": "code",
   "execution_count": null,
   "metadata": {},
   "outputs": [],
   "source": [
    "np.median(parameters, axis = 0)"
   ]
  },
  {
   "cell_type": "code",
   "execution_count": null,
   "metadata": {},
   "outputs": [],
   "source": [
    "np.median(parameters[:, 0])"
   ]
  },
  {
   "cell_type": "code",
   "execution_count": null,
   "metadata": {},
   "outputs": [],
   "source": [
    "np.median(input_labels[:10], axis = 0)"
   ]
  },
  {
   "cell_type": "code",
   "execution_count": null,
   "metadata": {},
   "outputs": [],
   "source": []
  },
  {
   "cell_type": "code",
   "execution_count": null,
   "metadata": {},
   "outputs": [],
   "source": [
    "len(matching_idx)"
   ]
  },
  {
   "cell_type": "code",
   "execution_count": null,
   "metadata": {},
   "outputs": [],
   "source": [
    "sum_of_cells = 0\n",
    "for cell in populated_cells:\n",
    "    print(cell)\n",
    "    matching_idx = np.sum(idx == cell, axis = -1) == SOM.map_dimensionality\n",
    "    "
   ]
  },
  {
   "cell_type": "markdown",
   "metadata": {},
   "source": [
    "___"
   ]
  },
  {
   "cell_type": "markdown",
   "metadata": {},
   "source": [
    "Build error estimator"
   ]
  },
  {
   "cell_type": "code",
   "execution_count": null,
   "metadata": {},
   "outputs": [],
   "source": [
    "fig = plt.figure(figsize = (12, 10))\n",
    "ax = fig.add_subplot()\n",
    "\n",
    "hb = ax.hexbin(bmu_idx[:, 0], bmu_idx[:, 1], gridsize = [16, 8])\n",
    "fig.colorbar(mappable = hb, label = 'datapoints')"
   ]
  },
  {
   "cell_type": "code",
   "execution_count": null,
   "metadata": {},
   "outputs": [],
   "source": [
    "weight_vectors = SOM.weights_map.copy()"
   ]
  },
  {
   "cell_type": "code",
   "execution_count": null,
   "metadata": {},
   "outputs": [],
   "source": [
    "max_quant_error = 0\n",
    "for index in range(SOM.data_len):\n",
    "    quant_error = np.dot(SOM.data[index], SOM.weights_map[*SOM.bmu_indices[index], :])\n",
    "    if quant_error > max_quant_error: max_quant_error = quant_error"
   ]
  },
  {
   "cell_type": "code",
   "execution_count": null,
   "metadata": {},
   "outputs": [],
   "source": [
    "quant_error"
   ]
  },
  {
   "cell_type": "code",
   "execution_count": null,
   "metadata": {},
   "outputs": [],
   "source": [
    "SOM.bmu_indices[0]"
   ]
  },
  {
   "cell_type": "code",
   "execution_count": 3,
   "metadata": {},
   "outputs": [],
   "source": [
    "import numpy as np\n",
    "import matplotlib as mpl\n",
    "import matplotlib.pyplot as plt\n",
    "\n",
    "from astropy.io import fits\n",
    "from astropy.table import Table\n",
    "\n",
    "from mpdg_som import SelfOrganizingMap\n",
    "#load in data produced in primary_targeting_region.ipynb\n",
    "cut_data_file = '/data2/lsajkov/mpdg/data_products/GAMA/GAMA_primtarg_snr100_lms6_12_25jun2024.fits'\n",
    "\n",
    "with fits.open(cut_data_file) as cat:\n",
    "    GAMA_vect_data = Table(cat[1].data)\n",
    "\n",
    "GAMA_vect_data = GAMA_vect_data[GAMA_vect_data['log_stellar_mass'] < 9.5]\n",
    "\n",
    "GAMA_vect_data.add_column(GAMA_vect_data['r_mag_err'], index = 4, name = 'surf_bright_r_err')\n",
    "input_data = GAMA_vect_data['r_mag', 'gr_color', 'surf_bright_r']\n",
    "input_vars = GAMA_vect_data['r_mag_err', 'gr_color_err', 'surf_bright_r_err']\n",
    "\n",
    "input_labels = GAMA_vect_data['log_stellar_mass', 'redshift']\n",
    "\n",
    "tuple_labels = input_labels.as_array()\n",
    "list_labels = [list(values) for values in tuple_labels]\n",
    "input_labels = np.array(list_labels)\n",
    "\n",
    "normalization_params = {}\n",
    "\n",
    "for variable in input_data.keys():\n",
    "    normalization_params[variable] = {}\n",
    "\n",
    "    normalization_params[variable]['mean'] = np.mean(GAMA_vect_data[variable])\n",
    "    normalization_params[variable]['std']  = np.std(GAMA_vect_data[variable])\n",
    "\n",
    "normalized_input_data = input_data.copy()\n",
    "for variable in input_data.keys():\n",
    "    \n",
    "    normalized_input_data[variable] -= normalization_params[variable]['mean']\n",
    "    normalized_input_data[variable] /= normalization_params[variable]['std']\n",
    "\n",
    "SOM = SelfOrganizingMap(mapsize = [16, 16])\n",
    "\n",
    "data_cut = 1000\n",
    "\n",
    "SOM.load_data(normalized_input_data[:data_cut],\n",
    "              variable_names = ['r_mag', 'gr_color', 'surf_bright_r'])\n",
    "\n",
    "SOM.load_standard_deviations(input_vars[:data_cut])\n",
    "\n",
    "SOM.build_SOM()"
   ]
  },
  {
   "cell_type": "code",
   "execution_count": 12,
   "metadata": {},
   "outputs": [],
   "source": [
    "def quantization_error(weight_vectors,\n",
    "                        data,\n",
    "                        bmu_indices):\n",
    "    \n",
    "    quantization_errors = np.full_like(data, np.nan)\n",
    "    for index in range(len(data)):\n",
    "        bmu_index = bmu_indices[index]\n",
    "        data_vector = data[index]\n",
    "        misalignment = weight_vectors[*bmu_index, :] - data_vector\n",
    "        quantization_errors[index] = np.linalg.norm(misalignment)\n",
    "        \n",
    "    rms_quantization_errors = np.sqrt(np.sum(quantization_errors**2))\n",
    "    return rms_quantization_errors\n"
   ]
  },
  {
   "cell_type": "code",
   "execution_count": 13,
   "metadata": {},
   "outputs": [
    {
     "data": {
      "text/plain": [
       "270.44357"
      ]
     },
     "execution_count": 13,
     "metadata": {},
     "output_type": "execute_result"
    }
   ],
   "source": [
    "quantization_error(SOM.weights_map,\n",
    "                   SOM.data,\n",
    "                   SOM.bmu_indices)"
   ]
  },
  {
   "cell_type": "code",
   "execution_count": 9,
   "metadata": {},
   "outputs": [
    {
     "ename": "TypeError",
     "evalue": "return arrays must be of ArrayType",
     "output_type": "error",
     "traceback": [
      "\u001b[0;31m---------------------------------------------------------------------------\u001b[0m",
      "\u001b[0;31mTypeError\u001b[0m                                 Traceback (most recent call last)",
      "Cell \u001b[0;32mIn[9], line 1\u001b[0m\n\u001b[0;32m----> 1\u001b[0m np\u001b[38;5;241m.\u001b[39mhypot(\u001b[38;5;241m1\u001b[39m, \u001b[38;5;241m2\u001b[39m, \u001b[38;5;241m3\u001b[39m\n\u001b[1;32m      2\u001b[0m          )\n",
      "\u001b[0;31mTypeError\u001b[0m: return arrays must be of ArrayType"
     ]
    }
   ],
   "source": [
    "np.hypot(1, 2, 3)"
   ]
  },
  {
   "cell_type": "markdown",
   "metadata": {},
   "source": [
    "___"
   ]
  },
  {
   "cell_type": "markdown",
   "metadata": {},
   "source": [
    "Build shuffler"
   ]
  },
  {
   "cell_type": "code",
   "execution_count": 1,
   "metadata": {},
   "outputs": [],
   "source": [
    "import numpy as np\n",
    "import matplotlib as mpl\n",
    "import matplotlib.pyplot as plt\n",
    "\n",
    "from astropy.io import fits\n",
    "from astropy.table import Table\n",
    "\n",
    "from mpdg_som import SelfOrganizingMap\n",
    "#load in data produced in primary_targeting_region.ipynb\n",
    "cut_data_file = '/data2/lsajkov/mpdg/data_products/GAMA/GAMA_primtarg_snr100_lms6_12_25jun2024.fits'\n",
    "\n",
    "with fits.open(cut_data_file) as cat:\n",
    "    GAMA_vect_data = Table(cat[1].data)\n",
    "\n",
    "GAMA_vect_data = GAMA_vect_data[GAMA_vect_data['log_stellar_mass'] < 9.5]\n",
    "\n",
    "GAMA_vect_data.add_column(GAMA_vect_data['r_mag_err'], index = 4, name = 'surf_bright_r_err')\n",
    "input_data = GAMA_vect_data['r_mag', 'gr_color', 'surf_bright_r']\n",
    "input_vars = GAMA_vect_data['r_mag_err', 'gr_color_err', 'surf_bright_r_err']\n",
    "\n",
    "input_labels = GAMA_vect_data['log_stellar_mass', 'redshift']\n",
    "\n",
    "tuple_labels = input_labels.as_array()\n",
    "list_labels = [list(values) for values in tuple_labels]\n",
    "input_labels = np.array(list_labels)\n",
    "\n",
    "normalization_params = {}\n",
    "\n",
    "for variable in input_data.keys():\n",
    "    normalization_params[variable] = {}\n",
    "\n",
    "    normalization_params[variable]['mean'] = np.mean(GAMA_vect_data[variable])\n",
    "    normalization_params[variable]['std']  = np.std(GAMA_vect_data[variable])\n",
    "\n",
    "normalized_input_data = input_data.copy()\n",
    "for variable in input_data.keys():\n",
    "    \n",
    "    normalized_input_data[variable] -= normalization_params[variable]['mean']\n",
    "    normalized_input_data[variable] /= normalization_params[variable]['std']\n",
    "\n",
    "SOM = SelfOrganizingMap(mapsize = [16, 16])\n",
    "\n",
    "data_cut = 1000\n",
    "\n",
    "SOM.load_data(normalized_input_data[:data_cut],\n",
    "              variable_names = ['r_mag', 'gr_color', 'surf_bright_r'])\n",
    "\n",
    "SOM.load_standard_deviations(input_vars[:data_cut])\n",
    "\n",
    "SOM.build_SOM()"
   ]
  },
  {
   "cell_type": "code",
   "execution_count": 2,
   "metadata": {},
   "outputs": [
    {
     "data": {
      "text/plain": [
       "array([[ 0.69933456,  1.5279884 ,  0.03149773],\n",
       "       [ 1.7813506 , -0.715786  ,  0.70646036],\n",
       "       [ 0.40360832,  0.14115848,  0.20719843],\n",
       "       ...,\n",
       "       [-0.1836995 , -1.1630659 ,  1.3321348 ],\n",
       "       [ 0.06491753, -0.35646495,  0.8336999 ],\n",
       "       [-1.1195235 , -0.03643334, -0.44261092]], dtype=float32)"
      ]
     },
     "execution_count": 2,
     "metadata": {},
     "output_type": "execute_result"
    }
   ],
   "source": [
    "SOM.data"
   ]
  },
  {
   "cell_type": "code",
   "execution_count": 4,
   "metadata": {},
   "outputs": [],
   "source": [
    "rand_idx = SOM.randomized_data_indices.copy()"
   ]
  },
  {
   "cell_type": "code",
   "execution_count": 36,
   "metadata": {},
   "outputs": [
    {
     "name": "stdout",
     "output_type": "stream",
     "text": [
      "[  0 100 200 300 400 500 600 700 800 900]\n",
      "[217 227 794 576 688 221 121 846 528 934]\n",
      "[933   2 499 356 738 399 189 719 861 958]\n",
      "[739  90 401 131 478 529 343 680 571 919]\n",
      "[390 726 629 535 570  10 766 749 145 470]\n"
     ]
    }
   ],
   "source": [
    "randomized_data_indices = np.arange(0, SOM.data_len)\n",
    "for i in range(5):\n",
    "    print(randomized_data_indices[0::100])\n",
    "    np.random.shuffle(randomized_data_indices)"
   ]
  },
  {
   "cell_type": "code",
   "execution_count": 15,
   "metadata": {},
   "outputs": [
    {
     "data": {
      "text/plain": [
       "range(0, 100)"
      ]
     },
     "execution_count": 15,
     "metadata": {},
     "output_type": "execute_result"
    }
   ],
   "source": [
    "randomized_data_indices[0:100]"
   ]
  },
  {
   "cell_type": "code",
   "execution_count": 6,
   "metadata": {},
   "outputs": [
    {
     "data": {
      "text/plain": [
       "array([745, 342, 475, 158, 563, 130, 786, 623, 939, 269, 313, 769, 833,\n",
       "       869, 259, 779, 218, 403,  13, 382, 550, 631, 988, 307,  27,  70,\n",
       "       764, 346, 830, 347, 818, 490, 378,  10, 717, 790, 103, 514,   5,\n",
       "       893, 705, 608, 149, 926, 279, 925, 440, 857, 111, 493, 961, 421,\n",
       "       182, 497, 166,  59, 910, 602, 388,  45, 587, 209, 915, 277, 153,\n",
       "        99, 804, 759, 326, 464, 877, 753, 359, 748, 267, 183, 237, 516,\n",
       "       529, 455,  49,  28, 938, 903, 586, 814, 170,  25, 394, 200, 217,\n",
       "       463, 542, 349, 131, 107, 807, 413, 640, 348, 626, 902, 409, 522,\n",
       "       606, 603, 318, 321, 812, 161, 699, 709, 735,   0, 133, 825, 963,\n",
       "       460, 203, 311, 958, 155, 742, 265, 118, 861, 168, 591, 222,  63,\n",
       "       607, 677, 777, 228, 247, 238, 653, 146, 476, 973, 657, 772, 438,\n",
       "       667, 765, 593, 320, 132,  69, 744, 641, 805, 281, 466, 177, 865,\n",
       "        32, 862, 106, 770, 501, 827, 991,  91, 290, 656, 736,  52, 391,\n",
       "       179, 323, 500, 785, 160, 250, 502,  37, 908, 432, 437, 386, 515,\n",
       "       231, 895, 989, 262, 353, 292, 663, 750, 794, 940, 891, 325, 679,\n",
       "       741, 400, 401, 849, 581,   4, 888, 997, 424, 271, 434,  85,  86,\n",
       "       343, 875, 224,   7, 128, 528, 690, 746, 303,  96, 221, 867, 489,\n",
       "       570, 808, 848, 322, 969, 408, 150, 691, 532, 113, 390, 732, 578,\n",
       "       595, 416, 813, 683, 230, 719, 246, 835, 778, 291, 664, 816, 148,\n",
       "       210, 310, 634, 652, 240, 775, 143, 204,  83, 655, 911, 799, 297,\n",
       "       283, 187, 498,  26, 604, 929, 654, 351, 747, 190, 892, 646, 620,\n",
       "       966, 252,  77, 838, 704, 996, 624,  41, 505, 427, 340, 404,  76,\n",
       "       251, 188, 651, 201, 178, 360, 687, 967, 817, 276, 157, 695, 599,\n",
       "       465, 725, 234, 420,  43, 551,   6, 884, 802, 554, 981, 268, 932,\n",
       "       334, 562, 487, 368, 703, 521, 860, 300, 372, 944, 774, 256, 975,\n",
       "        40,  58, 697, 917,  21, 226, 266, 980, 990, 355, 596, 974, 701,\n",
       "       931, 948, 730, 245, 470, 140, 621, 175, 904, 627, 883, 896, 947,\n",
       "       202, 139,  93, 227, 477, 579, 684,   8, 108, 740, 333, 288, 395,\n",
       "       412, 126, 870, 881, 167, 264, 688, 916, 495, 289, 922, 935, 122,\n",
       "        66, 457, 151, 235, 720, 533, 761, 352, 714, 635, 419, 806,  33,\n",
       "        48, 733, 509, 317, 572,  75, 659, 405,  67, 556, 675, 364, 229,\n",
       "       854,  20, 523, 837, 696, 972,  81, 454, 137, 284, 856, 707, 309,\n",
       "       219, 686, 645, 361, 716,   1, 949, 594, 142, 261, 718, 780, 462,\n",
       "       708, 894, 213, 984, 337, 831,  90, 650, 425, 727, 452, 897, 296,\n",
       "       198, 362, 191, 899, 726, 648, 630, 302, 436, 937, 471, 615, 467,\n",
       "       782,  15, 828, 518,  89, 356, 428, 771,  11,  51, 993, 370, 820,\n",
       "       253, 913,  57, 270, 784, 843,  39, 834, 982, 485, 575, 430, 887,\n",
       "       510, 381, 144, 886, 577, 535, 672,   9, 156, 232, 721, 738, 129,\n",
       "       491, 810, 375,  46, 174, 568, 117, 878, 694, 332, 115, 618, 236,\n",
       "       844,  14, 955, 274, 180, 859, 125, 308,  97, 994, 450, 120, 803,\n",
       "       552, 964, 914, 486, 671, 145, 241, 549, 713, 114, 885, 185, 749,\n",
       "       930, 643, 700, 338, 614, 900, 517, 507, 285, 734, 306,  30,  84,\n",
       "       173, 923, 824, 206, 478, 924, 616, 109,  82, 273, 239, 957, 600,\n",
       "       299, 987, 383,  42, 852,  36, 647, 483, 104, 936,  78,  18, 692,\n",
       "       868, 124, 841, 756, 788, 795, 384, 946, 863, 905, 874,  64, 836,\n",
       "       880, 636, 141, 339, 985, 197, 853,  62, 676, 527, 376, 154, 358,\n",
       "       921, 698, 524, 112, 316, 858, 933, 257, 633, 536, 907, 512, 995,\n",
       "       661,  55, 873, 574, 781, 876, 453, 159, 644, 123, 407, 243, 225,\n",
       "       294, 503, 962, 879, 263,  29, 499, 531, 871, 920,  23, 374, 619,\n",
       "       555, 473, 449, 451,  73,  71, 105, 315, 906, 134,   3, 242, 632,\n",
       "       978, 496, 776, 680, 889, 758, 345, 186, 673, 739, 847, 506, 547,\n",
       "       366, 494, 482, 801, 444, 439, 208, 826, 728, 658, 541, 194, 629,\n",
       "       950, 815, 474, 751, 792, 743, 220, 102, 127, 573,  38, 979, 760,\n",
       "       312, 163, 839, 855,  53, 731, 415, 389, 582, 192, 953, 553, 715,\n",
       "       901, 766, 181, 363, 193, 968, 468, 665, 399, 970, 392, 537, 589,\n",
       "       331, 223, 846, 423, 755,  74, 479, 165, 286, 832, 327, 164, 649,\n",
       "       682, 196,  19, 426,  56, 445, 598, 783, 446, 414, 258, 314, 233,\n",
       "       977, 488, 534, 335, 546, 398,  54, 567, 249, 244, 605, 435, 548,\n",
       "       622, 369, 882, 711, 433, 737, 971, 822, 121,  22, 330, 829, 678,\n",
       "       442, 912, 569, 459, 576, 560, 762,  60, 668, 789, 272, 215, 393,\n",
       "       254, 135,   2, 617, 583, 216,  87, 304, 559, 136, 609,  79, 344,\n",
       "       282, 797, 976, 543, 662, 710, 610, 866, 469, 305,  68, 942, 301,\n",
       "       511,  12, 481, 767, 558, 298, 336, 823, 702, 918, 199, 724,  24,\n",
       "       519, 422, 350, 637, 566, 597, 544, 768,  35, 397, 461, 557, 934,\n",
       "       959, 669,  34, 851, 960, 387, 787, 280, 584, 195, 402, 410, 819,\n",
       "       998, 612, 625, 138,  80, 379, 689, 171,  88, 821, 999, 628, 458,\n",
       "       429, 919, 693, 260, 207, 585, 545, 211, 722, 443, 588, 561, 365,\n",
       "       986, 793, 928, 590, 396, 601, 956, 754, 565, 329,  16, 152, 287,\n",
       "       642, 666, 295, 205, 110, 508, 380, 639,  44, 729, 898, 674,  47,\n",
       "       791, 431, 798, 385, 411, 757, 255,  65, 184, 681, 371, 571, 417,\n",
       "       941, 100, 212,  94, 670, 945, 840, 564, 952, 418, 341, 448, 850,\n",
       "       773, 983, 324, 842, 147, 592,  95, 441, 965,  50, 992, 796, 954,\n",
       "       248, 357, 890, 526, 275,  72, 513, 504, 520, 169, 951,  17, 328,\n",
       "       367, 811, 660, 214,  98, 492, 189, 472, 530, 638, 800, 278, 580,\n",
       "       484, 354, 872, 293, 456, 685, 538, 943,  61, 763, 377, 525, 172,\n",
       "       752, 723, 845, 373, 927, 611, 706, 712, 539,  31, 406, 613, 809,\n",
       "       540, 116, 480,  92, 447, 119, 319, 176, 162, 101, 909, 864])"
      ]
     },
     "execution_count": 6,
     "metadata": {},
     "output_type": "execute_result"
    }
   ],
   "source": [
    "rand_idx"
   ]
  },
  {
   "cell_type": "code",
   "execution_count": null,
   "metadata": {},
   "outputs": [],
   "source": []
  }
 ],
 "metadata": {
  "kernelspec": {
   "display_name": "astro-two",
   "language": "python",
   "name": "python3"
  },
  "language_info": {
   "codemirror_mode": {
    "name": "ipython",
    "version": 3
   },
   "file_extension": ".py",
   "mimetype": "text/x-python",
   "name": "python",
   "nbconvert_exporter": "python",
   "pygments_lexer": "ipython3",
   "version": "3.12.3"
  },
  "vscode": {
   "interpreter": {
    "hash": "0652fbddb8f14dbb5acc595fb3c293f389575b2db40f72de3b99cc3e859b4597"
   }
  }
 },
 "nbformat": 4,
 "nbformat_minor": 2
}
