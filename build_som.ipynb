{
 "cells": [
  {
   "cell_type": "code",
   "execution_count": null,
   "metadata": {},
   "outputs": [],
   "source": [
    "import numpy as np\n",
    "import matplotlib as mpl\n",
    "import matplotlib.pyplot as plt\n",
    "\n",
    "from astropy.io import fits\n",
    "from astropy.table import Table\n",
    "\n",
    "plt.rcParams.update({\n",
    "    'font.family': 'serif',\n",
    "    'font.size': 24,\n",
    "    'axes.labelsize': 'large',\n",
    "    'mathtext.fontset': 'stix'\n",
    "})\n",
    "\n",
    "from mpdg_som import SelfOrganizingMap\n",
    "from mpdg_som_utils import SOM_LearningRateFunctions\n",
    "\n",
    "import mpdg_som_utils"
   ]
  },
  {
   "cell_type": "code",
   "execution_count": null,
   "metadata": {},
   "outputs": [],
   "source": [
    "#load in data produced in primary_targeting_region.ipynb\n",
    "cut_data_file = '/data2/lsajkov/mpdg/data_products/GAMA/GAMA_primtarg_snr100_lms6_12_25jun2024.fits'\n",
    "\n",
    "with fits.open(cut_data_file) as cat:\n",
    "    GAMA_vect_data = Table(cat[1].data)\n",
    "\n",
    "GAMA_vect_data.add_column(GAMA_vect_data['r_mag_err'], index = 4, name = 'surf_bright_r_err')"
   ]
  },
  {
   "cell_type": "code",
   "execution_count": null,
   "metadata": {},
   "outputs": [],
   "source": [
    "SOM = SelfOrganizingMap([16, 16],\n",
    "                        initialization = 'random')"
   ]
  },
  {
   "cell_type": "code",
   "execution_count": null,
   "metadata": {},
   "outputs": [],
   "source": [
    "SOM.load_data(GAMA_vect_data['r_mag', 'gr_color', 'surf_bright_r'],\n",
    "              variable_names = ['r_mag', 'gr_color', 'surf_bright_r'])"
   ]
  },
  {
   "cell_type": "code",
   "execution_count": null,
   "metadata": {},
   "outputs": [],
   "source": [
    "SOM.load_standard_deviations(GAMA_vect_data['r_mag_err', 'gr_color_err', 'surf_bright_r_err'])"
   ]
  },
  {
   "cell_type": "code",
   "execution_count": null,
   "metadata": {},
   "outputs": [],
   "source": [
    "SOM.build_SOM()"
   ]
  },
  {
   "cell_type": "code",
   "execution_count": null,
   "metadata": {},
   "outputs": [],
   "source": [
    "fig = plt.figure()\n",
    "for i, name in enumerate(SOM.variable_names):\n",
    "    ax = fig.add_subplot(1, 3, i + 1)\n",
    "    ax.imshow(SOM.SOM[:, :, i], origin = 'lower', cmap = 'Spectral')\n",
    "    ax.set_title(SOM.variable_names[i],\n",
    "                 fontsize = 12)\n",
    "    ax.axis('off')"
   ]
  },
  {
   "cell_type": "code",
   "execution_count": null,
   "metadata": {},
   "outputs": [],
   "source": [
    "random_idx = np.random.rand(*SOM.mapsize) * SOM.data_len\n",
    "random_idx = np.array(random_idx, dtype = int)"
   ]
  },
  {
   "cell_type": "code",
   "execution_count": null,
   "metadata": {},
   "outputs": [],
   "source": [
    "weight_vectors = SOM.data[random_idx]"
   ]
  },
  {
   "cell_type": "code",
   "execution_count": null,
   "metadata": {},
   "outputs": [],
   "source": [
    "distances = np.full(SOM.mapsize, np.nan)\n",
    "iteration_map = np.nditer(distances, flags = ['multi_index'])\n",
    "\n",
    "for _ in iteration_map:\n",
    "    chi_sq_dist = mpdg_som_utils.chi_sq_dist(weight_vectors[*iteration_map.multi_index],\n",
    "                                             SOM.data[45],\n",
    "                                             data_dim = 3)\n",
    "    distances[*iteration_map.multi_index] = chi_sq_dist\n",
    "\n",
    "\n",
    "argmin_idx = np.argmin(distances)\n",
    "argmin_coords = np.unravel_index(argmin_idx, SOM.mapsize)"
   ]
  },
  {
   "cell_type": "code",
   "execution_count": null,
   "metadata": {},
   "outputs": [],
   "source": [
    "np.shape(weight_vectors)[:-1]"
   ]
  },
  {
   "cell_type": "code",
   "execution_count": null,
   "metadata": {},
   "outputs": [],
   "source": [
    "distances = np.full(SOM.mapsize, np.nan)\n",
    "iteration_map = np.nditer(distances, flags = ['multi_index'])\n",
    "\n",
    "for _ in iteration_map:\n",
    "    euclid_dist = np.linalg.norm(np.array(argmin_coords) -\\\n",
    "                                 np.array(iteration_map.multi_index))\n",
    "    distances[*iteration_map.multi_index] = euclid_dist"
   ]
  },
  {
   "cell_type": "code",
   "execution_count": null,
   "metadata": {},
   "outputs": [],
   "source": [
    "argmin_coords"
   ]
  },
  {
   "cell_type": "code",
   "execution_count": null,
   "metadata": {},
   "outputs": [],
   "source": [
    "plt.imshow(np.exp(-distances**2/3))"
   ]
  },
  {
   "cell_type": "code",
   "execution_count": null,
   "metadata": {},
   "outputs": [],
   "source": [
    "count = 0\n",
    "for i, _ in enumerate(np.shape(n_dim_map)):\n",
    "    for ii in range(np.shape(n_dim_map)[i]):\n",
    "        count += 1\n",
    "        print(count)"
   ]
  },
  {
   "cell_type": "code",
   "execution_count": null,
   "metadata": {},
   "outputs": [],
   "source": [
    "[mpdg_som_utils.chi_sq_dist(weight_vector = weight_vectors[ii, jj],\n",
    "                           data_vector = SOM.data[0],\n",
    "                           data_dim = 3) for ii in ]\n",
    "mpdg_som_utils.chi_sq_dist(weight_vector = weight_vectors,\n",
    "                           data_vector = SOM.data[0],\n",
    "                           data_dim = 3)"
   ]
  },
  {
   "cell_type": "code",
   "execution_count": null,
   "metadata": {},
   "outputs": [],
   "source": [
    "if (~use_covariance) & (data_dim is not None):\n",
    "    covar_matrix = np.diagflat([1] * data_dim)\n",
    "\n",
    "elif (~use_covariance) & (data_dim is None):\n",
    "    raise(ValueError('Please pass a dimensionality for the data (number of variables).'))\n",
    "\n",
    "elif (use_covariance) & (covar_vector is None):\n",
    "    raise(ValueError('There is no covariance matrix for the given data vector!'))\n",
    "\n",
    "covar_matrix = np.diagflat(covar_vector)\n",
    "inv_covar_matrix = linalg.inv(covar_matrix)\n",
    "\n",
    "vector_difference = data_vector - weight_vector\n",
    "\n",
    "np.dot(np.dot(vector_difference, inv_covar_matrix),vector_difference)"
   ]
  },
  {
   "cell_type": "code",
   "execution_count": null,
   "metadata": {},
   "outputs": [],
   "source": [
    "for i in np.nditer"
   ]
  },
  {
   "cell_type": "code",
   "execution_count": null,
   "metadata": {},
   "outputs": [],
   "source": [
    "plt.imshow(np.ones(SOM.mapsize))"
   ]
  },
  {
   "cell_type": "markdown",
   "metadata": {},
   "source": [
    "___"
   ]
  },
  {
   "cell_type": "code",
   "execution_count": null,
   "metadata": {},
   "outputs": [],
   "source": [
    "import numpy as np\n",
    "import matplotlib as mpl\n",
    "import matplotlib.pyplot as plt\n",
    "\n",
    "from astropy.io import fits\n",
    "from astropy.table import Table\n",
    "\n",
    "from mpdg_som import SelfOrganizingMap\n",
    "from mpdg_som_utils import SOM_LearningRateFunctions\n",
    "\n",
    "import mpdg_som_utils\n",
    "#load in data produced in primary_targeting_region.ipynb\n",
    "cut_data_file = '/data2/lsajkov/mpdg/data_products/GAMA/GAMA_primtarg_snr100_lms6_12_25jun2024.fits'\n",
    "\n",
    "with fits.open(cut_data_file) as cat:\n",
    "    GAMA_vect_data = Table(cat[1].data)\n",
    "\n",
    "GAMA_vect_data = GAMA_vect_data[GAMA_vect_data['log_stellar_mass'] < 9.5]\n",
    "\n",
    "GAMA_vect_data.add_column(GAMA_vect_data['r_mag_err'], index = 4, name = 'surf_bright_r_err')\n",
    "SOM = SelfOrganizingMap([16, 16],\n",
    "                        initialization = 'random')\n",
    "SOM.load_data(GAMA_vect_data['r_mag', 'gr_color', 'surf_bright_r'],\n",
    "              variable_names = ['r_mag', 'gr_color', 'surf_bright_r'])\n",
    "SOM.load_standard_deviations(GAMA_vect_data['r_mag_err', 'gr_color_err', 'surf_bright_r_err'])\n",
    "SOM.build_SOM()\n",
    "random_idx = np.random.rand(*SOM.mapsize) * SOM.data_len\n",
    "random_idx = np.array(random_idx, dtype = int)\n",
    "weight_vectors = SOM.data[random_idx]"
   ]
  },
  {
   "cell_type": "code",
   "execution_count": null,
   "metadata": {},
   "outputs": [],
   "source": [
    "step0_weights = weight_vectors.copy()"
   ]
  },
  {
   "cell_type": "code",
   "execution_count": null,
   "metadata": {},
   "outputs": [],
   "source": [
    "step = 1\n",
    "step1_weights = mpdg_som_utils.training_step(step0_weights,\n",
    "                                             SOM.data[0],\n",
    "                                             SOM.variances[0],\n",
    "                                             step,\n",
    "                                             mpdg_som_utils.SOM_LearningRateFunctions.power_law_lrf,\n",
    "                                             (1000, 0.5),\n",
    "                                             mpdg_som_utils.SOM_NeighborhoodFunctions.gaussian_nbh,\n",
    "                                             (SOM.mapsize, 2))\n"
   ]
  },
  {
   "cell_type": "code",
   "execution_count": null,
   "metadata": {},
   "outputs": [],
   "source": [
    "step = 1\n",
    "step1_weights = step0_weights\n",
    "for index in range(SOM.data_len):\n",
    "    step1_weights = mpdg_som_utils.training_step(step1_weights,\n",
    "                                                 SOM.data[index],\n",
    "                                                 SOM.variances[index],\n",
    "                                                 step,\n",
    "                                                 mpdg_som_utils.SOM_LearningRateFunctions.power_law_lrf,\n",
    "                                                 (1000, 0.5),\n",
    "                                                 mpdg_som_utils.SOM_NeighborhoodFunctions.gaussian_nbh,\n",
    "                                                 (SOM.mapsize, 2))"
   ]
  },
  {
   "cell_type": "code",
   "execution_count": null,
   "metadata": {},
   "outputs": [],
   "source": [
    "fig = plt.figure()\n",
    "for i, name in enumerate(SOM.variable_names):\n",
    "    ax = fig.add_subplot(1, 3, i + 1)\n",
    "    ax.imshow(step0_weights[:, :, i], origin = 'lower', cmap = 'Spectral')\n",
    "    ax.set_title(SOM.variable_names[i],\n",
    "                 fontsize = 12)\n",
    "    ax.axis('off')"
   ]
  },
  {
   "cell_type": "code",
   "execution_count": null,
   "metadata": {},
   "outputs": [],
   "source": [
    "fig = plt.figure()\n",
    "for i, name in enumerate(SOM.variable_names):\n",
    "    ax = fig.add_subplot(1, 3, i + 1)\n",
    "    ax.imshow(step1_weights[:, :, i], origin = 'lower', cmap = 'Spectral')\n",
    "    ax.set_title(SOM.variable_names[i],\n",
    "                 fontsize = 12)\n",
    "    ax.axis('off')"
   ]
  },
  {
   "cell_type": "code",
   "execution_count": null,
   "metadata": {},
   "outputs": [],
   "source": [
    "np.max(step1_weights - step0_weights)"
   ]
  },
  {
   "cell_type": "markdown",
   "metadata": {},
   "source": [
    "___"
   ]
  },
  {
   "cell_type": "code",
   "execution_count": null,
   "metadata": {},
   "outputs": [],
   "source": [
    "import numpy as np\n",
    "import matplotlib as mpl\n",
    "import matplotlib.pyplot as plt\n",
    "\n",
    "from astropy.io import fits\n",
    "from astropy.table import Table\n",
    "\n",
    "from mpdg_som import SelfOrganizingMap"
   ]
  },
  {
   "cell_type": "code",
   "execution_count": null,
   "metadata": {},
   "outputs": [],
   "source": [
    "#load in data produced in primary_targeting_region.ipynb\n",
    "cut_data_file = '/data2/lsajkov/mpdg/data_products/GAMA/GAMA_primtarg_snr100_lms6_12_25jun2024.fits'\n",
    "\n",
    "with fits.open(cut_data_file) as cat:\n",
    "    GAMA_vect_data = Table(cat[1].data)\n",
    "\n",
    "GAMA_vect_data = GAMA_vect_data[GAMA_vect_data['log_stellar_mass'] < 9.5]\n",
    "\n",
    "GAMA_vect_data.add_column(GAMA_vect_data['r_mag_err'], index = 4, name = 'surf_bright_r_err')"
   ]
  },
  {
   "cell_type": "code",
   "execution_count": null,
   "metadata": {},
   "outputs": [],
   "source": [
    "input_data = GAMA_vect_data['r_mag', 'gr_color', 'surf_bright_r']\n",
    "input_vars = GAMA_vect_data['r_mag_err', 'gr_color_err', 'surf_bright_r_err']\n",
    "\n",
    "input_labels = GAMA_vect_data['log_stellar_mass', 'redshift']\n",
    "\n",
    "tuple_labels = input_labels.as_array()\n",
    "list_labels = [list(values) for values in tuple_labels]\n",
    "input_labels = np.array(list_labels)"
   ]
  },
  {
   "cell_type": "code",
   "execution_count": null,
   "metadata": {},
   "outputs": [],
   "source": [
    "normalization_params = {}\n",
    "\n",
    "for variable in input_data.keys():\n",
    "    normalization_params[variable] = {}\n",
    "\n",
    "    normalization_params[variable]['mean'] = np.mean(GAMA_vect_data[variable])\n",
    "    normalization_params[variable]['std']  = np.std(GAMA_vect_data[variable])"
   ]
  },
  {
   "cell_type": "code",
   "execution_count": null,
   "metadata": {},
   "outputs": [],
   "source": [
    "normalized_input_data = input_data.copy()\n",
    "for variable in input_data.keys():\n",
    "    \n",
    "    normalized_input_data[variable] -= normalization_params[variable]['mean']\n",
    "    normalized_input_data[variable] /= normalization_params[variable]['std']"
   ]
  },
  {
   "cell_type": "code",
   "execution_count": null,
   "metadata": {},
   "outputs": [],
   "source": [
    "SOM = SelfOrganizingMap([16, 16],\n",
    "                        initialization = 'pca',\n",
    "                        maximum_steps = 100)\n",
    "\n",
    "data_cut = 1000\n",
    "\n",
    "SOM.load_data(normalized_input_data[:data_cut],\n",
    "              variable_names = ['r_mag', 'gr_color', 'surf_bright_r'])\n",
    "\n",
    "SOM.load_standard_deviations(input_vars[:data_cut])\n",
    "\n",
    "SOM.build_SOM()"
   ]
  },
  {
   "cell_type": "code",
   "execution_count": null,
   "metadata": {},
   "outputs": [],
   "source": [
    "SOM.data_statistics()\n",
    "SOM.show_map()"
   ]
  },
  {
   "cell_type": "code",
   "execution_count": null,
   "metadata": {},
   "outputs": [],
   "source": [
    "SOM.train(debug_max_steps = 1,\n",
    "          error_thresh = 1)"
   ]
  },
  {
   "cell_type": "code",
   "execution_count": null,
   "metadata": {},
   "outputs": [],
   "source": [
    "SOM.show_map()"
   ]
  },
  {
   "cell_type": "code",
   "execution_count": null,
   "metadata": {},
   "outputs": [],
   "source": [
    "SOM.label_map(input_labels[:data_cut],\n",
    "              parameter_names = ['log_mstar', 'redshift'])"
   ]
  },
  {
   "cell_type": "code",
   "execution_count": null,
   "metadata": {},
   "outputs": [],
   "source": [
    "print(f'| SOM after training. Step {SOM.step}.')\n",
    "fig = plt.figure(figsize = (10, 10), constrained_layout = True)\n",
    "for i, name in enumerate(SOM.parameter_names):\n",
    "    ax = fig.add_subplot(1, 3, i + 1)\n",
    "    imsh = ax.imshow(SOM.map_labels[..., i], origin = 'lower', cmap = 'jet')\n",
    "    # ax.set_title(SOM.variable_names[i],\n",
    "    #              fontsize = 12)\n",
    "    ax.axis('off')\n",
    "    \n",
    "    fig.colorbar(mappable = imsh, ax = ax,\n",
    "                 label = SOM.parameter_names[i], location = 'bottom',\n",
    "                 pad = 0.01)"
   ]
  },
  {
   "cell_type": "code",
   "execution_count": null,
   "metadata": {},
   "outputs": [],
   "source": [
    "som_output = np.array([SOM.map_labels[*idx] for idx in SOM.bmu_indices])"
   ]
  },
  {
   "cell_type": "code",
   "execution_count": null,
   "metadata": {},
   "outputs": [],
   "source": [
    "z_outlier_vals = np.abs(som_output[:, 1] - input_labels[:, 1][:data_cut])/(1 + input_labels[:, 1][:data_cut])\n",
    "z_outlier_frac = np.sum(z_outlier_vals > 0.15)/len(z_outlier_vals)"
   ]
  },
  {
   "cell_type": "code",
   "execution_count": null,
   "metadata": {},
   "outputs": [],
   "source": [
    "z_outlier_frac"
   ]
  },
  {
   "cell_type": "code",
   "execution_count": null,
   "metadata": {},
   "outputs": [],
   "source": [
    "log_mstar = np.median(np.abs(som_output[:, 0] - input_labels[:data_cut, 0]))"
   ]
  },
  {
   "cell_type": "code",
   "execution_count": null,
   "metadata": {},
   "outputs": [],
   "source": [
    "log_mstar_mad, z_mad = np.median(np.abs(som_output - input_labels[:data_cut]), axis = 0)"
   ]
  },
  {
   "cell_type": "code",
   "execution_count": null,
   "metadata": {},
   "outputs": [],
   "source": [
    "fig = plt.figure(figsize = (10, 11), constrained_layout = True)\n",
    "ax = fig.add_subplot()\n",
    "\n",
    "hb = ax.hexbin(input_labels[..., 0][:data_cut],\n",
    "               som_output[..., 0],\n",
    "               mincnt = 1, cmap = 'jet')\n",
    "\n",
    "fig.colorbar(mappable = hb, ax = ax,\n",
    "             location = 'top', pad = 0, label = '$N_{\\mathrm{galaxies}}$')\n",
    "\n",
    "ax.set_xlim(8, 9.6)\n",
    "ax.set_ylim(8, 9.6)\n",
    "\n",
    "ax.set_xlabel('GAMA log$_{10}(M_*/M_{\\odot})$\\nTrue')\n",
    "ax.set_ylabel('Predicted\\nSOM log$_{10}(M_*/M_{\\odot})$')\n",
    "\n",
    "ax.axline([0, 0], slope = 1, color = 'red')\n",
    "ax.text(0.65, 0.01,\n",
    "       f'MAD: {log_mstar_mad:.3f} dex',\n",
    "       ma = 'right',\n",
    "       transform = ax.transAxes)"
   ]
  },
  {
   "cell_type": "code",
   "execution_count": null,
   "metadata": {},
   "outputs": [],
   "source": [
    "fig = plt.figure(figsize = (10, 11), constrained_layout = True)\n",
    "ax = fig.add_subplot()\n",
    "\n",
    "hb = ax.hexbin(input_labels[..., 1][:data_cut],\n",
    "               som_output[..., 1],\n",
    "               mincnt = 1, cmap = 'jet')\n",
    "\n",
    "fig.colorbar(mappable = hb, ax = ax,\n",
    "             location = 'top', pad = 0.02, label = '$N_{\\mathrm{galaxies}}$')\n",
    "\n",
    "ax.set_xlim(0, 0.26)\n",
    "ax.set_ylim(0, 0.26)\n",
    "\n",
    "ax.set_xlabel('GAMA $z$\\nTrue')\n",
    "ax.set_ylabel('Predicted\\nSOM $z$')\n",
    "\n",
    "ax.axline([0, 0], slope = 1, color = 'red')\n",
    "ax.text(0.65, 0.01,\n",
    "       f'MAD: {z_mad:.3f} dex',\n",
    "       ma = 'right',\n",
    "       transform = ax.transAxes)"
   ]
  },
  {
   "cell_type": "code",
   "execution_count": null,
   "metadata": {},
   "outputs": [],
   "source": [
    "np.shape(SOM.map_labels)"
   ]
  },
  {
   "cell_type": "code",
   "execution_count": null,
   "metadata": {},
   "outputs": [],
   "source": [
    "populated_cells = np.unique(SOM.bmu_indices, axis = 0)"
   ]
  },
  {
   "cell_type": "code",
   "execution_count": null,
   "metadata": {},
   "outputs": [],
   "source": [
    "np.all(SOM.bmu_indices == (populated_cells[33]), axis = -1)"
   ]
  },
  {
   "cell_type": "code",
   "execution_count": null,
   "metadata": {},
   "outputs": [],
   "source": [
    "np.equal(SOM.bmu_indices, populated_cells[33],\n",
    "         )"
   ]
  },
  {
   "cell_type": "code",
   "execution_count": null,
   "metadata": {},
   "outputs": [],
   "source": [
    "plt.imshow(SOM.map_labels[..., 0])"
   ]
  },
  {
   "cell_type": "code",
   "execution_count": null,
   "metadata": {},
   "outputs": [],
   "source": [
    "plt.scatter(populated_cells[:, 0], populated_cells[:, 1])"
   ]
  },
  {
   "cell_type": "code",
   "execution_count": null,
   "metadata": {},
   "outputs": [],
   "source": [
    "SOM.bmu_indices"
   ]
  },
  {
   "cell_type": "code",
   "execution_count": null,
   "metadata": {},
   "outputs": [],
   "source": [
    "np.sum(SOM.bmu_indices == [5, 3], axis = -1) == 2"
   ]
  },
  {
   "cell_type": "code",
   "execution_count": null,
   "metadata": {},
   "outputs": [],
   "source": [
    "populated_cells[0]"
   ]
  },
  {
   "cell_type": "code",
   "execution_count": null,
   "metadata": {},
   "outputs": [],
   "source": [
    "matching_idx"
   ]
  },
  {
   "cell_type": "code",
   "execution_count": null,
   "metadata": {},
   "outputs": [],
   "source": [
    "(SOM.map_labels)"
   ]
  },
  {
   "cell_type": "code",
   "execution_count": null,
   "metadata": {},
   "outputs": [],
   "source": [
    "SOM.map_labels[*populated_cells[0]]"
   ]
  },
  {
   "cell_type": "code",
   "execution_count": null,
   "metadata": {},
   "outputs": [],
   "source": [
    "populated_cells[0]"
   ]
  },
  {
   "cell_type": "code",
   "execution_count": null,
   "metadata": {},
   "outputs": [],
   "source": [
    "for cell in populated_cells:\n",
    "    print(cell)"
   ]
  },
  {
   "cell_type": "code",
   "execution_count": null,
   "metadata": {},
   "outputs": [],
   "source": [
    "(SOM.parameters)"
   ]
  },
  {
   "cell_type": "markdown",
   "metadata": {},
   "source": [
    "___"
   ]
  },
  {
   "cell_type": "markdown",
   "metadata": {},
   "source": [
    "Build mapping function"
   ]
  },
  {
   "cell_type": "code",
   "execution_count": null,
   "metadata": {},
   "outputs": [],
   "source": [
    "idx = SOM.bmu_indices.copy()"
   ]
  },
  {
   "cell_type": "code",
   "execution_count": null,
   "metadata": {},
   "outputs": [],
   "source": [
    "fig = plt.figure(figsize = (5, 5))\n",
    "ax = fig.add_subplot()\n",
    "\n",
    "ax.scatter(idx[..., 0], idx[..., 1])\n",
    "ax.axis('off')"
   ]
  },
  {
   "cell_type": "code",
   "execution_count": null,
   "metadata": {},
   "outputs": [],
   "source": [
    "populated_cells = np.unique(idx, axis = 0)"
   ]
  },
  {
   "cell_type": "code",
   "execution_count": null,
   "metadata": {},
   "outputs": [],
   "source": [
    "parameters = input_labels\n",
    "tuple_params = parameters.as_array()\n",
    "list_params = [list(values) for values in tuple_params]\n",
    "parameters = np.array(list_params)"
   ]
  },
  {
   "cell_type": "code",
   "execution_count": null,
   "metadata": {},
   "outputs": [],
   "source": [
    "np.median(parameters, axis = 0)"
   ]
  },
  {
   "cell_type": "code",
   "execution_count": null,
   "metadata": {},
   "outputs": [],
   "source": [
    "np.median(parameters[:, 0])"
   ]
  },
  {
   "cell_type": "code",
   "execution_count": null,
   "metadata": {},
   "outputs": [],
   "source": [
    "np.median(input_labels[:10], axis = 0)"
   ]
  },
  {
   "cell_type": "code",
   "execution_count": null,
   "metadata": {},
   "outputs": [],
   "source": []
  },
  {
   "cell_type": "code",
   "execution_count": null,
   "metadata": {},
   "outputs": [],
   "source": [
    "len(matching_idx)"
   ]
  },
  {
   "cell_type": "code",
   "execution_count": null,
   "metadata": {},
   "outputs": [],
   "source": [
    "sum_of_cells = 0\n",
    "for cell in populated_cells:\n",
    "    print(cell)\n",
    "    matching_idx = np.sum(idx == cell, axis = -1) == SOM.map_dimensionality\n",
    "    "
   ]
  },
  {
   "cell_type": "markdown",
   "metadata": {},
   "source": [
    "___"
   ]
  },
  {
   "cell_type": "markdown",
   "metadata": {},
   "source": [
    "Build error estimator"
   ]
  },
  {
   "cell_type": "code",
   "execution_count": null,
   "metadata": {},
   "outputs": [],
   "source": [
    "fig = plt.figure(figsize = (12, 10))\n",
    "ax = fig.add_subplot()\n",
    "\n",
    "hb = ax.hexbin(bmu_idx[:, 0], bmu_idx[:, 1], gridsize = [16, 8])\n",
    "fig.colorbar(mappable = hb, label = 'datapoints')"
   ]
  },
  {
   "cell_type": "code",
   "execution_count": null,
   "metadata": {},
   "outputs": [],
   "source": [
    "weight_vectors = SOM.weights_map.copy()"
   ]
  },
  {
   "cell_type": "code",
   "execution_count": null,
   "metadata": {},
   "outputs": [],
   "source": [
    "max_quant_error = 0\n",
    "for index in range(SOM.data_len):\n",
    "    quant_error = np.dot(SOM.data[index], SOM.weights_map[*SOM.bmu_indices[index], :])\n",
    "    if quant_error > max_quant_error: max_quant_error = quant_error"
   ]
  },
  {
   "cell_type": "code",
   "execution_count": null,
   "metadata": {},
   "outputs": [],
   "source": [
    "quant_error"
   ]
  },
  {
   "cell_type": "code",
   "execution_count": null,
   "metadata": {},
   "outputs": [],
   "source": [
    "SOM.bmu_indices[0]"
   ]
  },
  {
   "cell_type": "code",
   "execution_count": null,
   "metadata": {},
   "outputs": [],
   "source": [
    "import numpy as np\n",
    "import matplotlib as mpl\n",
    "import matplotlib.pyplot as plt\n",
    "\n",
    "from astropy.io import fits\n",
    "from astropy.table import Table\n",
    "\n",
    "from mpdg_som import SelfOrganizingMap\n",
    "#load in data produced in primary_targeting_region.ipynb\n",
    "cut_data_file = '/data2/lsajkov/mpdg/data_products/GAMA/GAMA_primtarg_snr100_lms6_12_25jun2024.fits'\n",
    "\n",
    "with fits.open(cut_data_file) as cat:\n",
    "    GAMA_vect_data = Table(cat[1].data)\n",
    "\n",
    "GAMA_vect_data = GAMA_vect_data[GAMA_vect_data['log_stellar_mass'] < 9.5]\n",
    "\n",
    "GAMA_vect_data.add_column(GAMA_vect_data['r_mag_err'], index = 4, name = 'surf_bright_r_err')\n",
    "input_data = GAMA_vect_data['r_mag', 'gr_color', 'surf_bright_r']\n",
    "input_vars = GAMA_vect_data['r_mag_err', 'gr_color_err', 'surf_bright_r_err']\n",
    "\n",
    "input_labels = GAMA_vect_data['log_stellar_mass', 'redshift']\n",
    "\n",
    "tuple_labels = input_labels.as_array()\n",
    "list_labels = [list(values) for values in tuple_labels]\n",
    "input_labels = np.array(list_labels)\n",
    "\n",
    "normalization_params = {}\n",
    "\n",
    "for variable in input_data.keys():\n",
    "    normalization_params[variable] = {}\n",
    "\n",
    "    normalization_params[variable]['mean'] = np.mean(GAMA_vect_data[variable])\n",
    "    normalization_params[variable]['std']  = np.std(GAMA_vect_data[variable])\n",
    "\n",
    "normalized_input_data = input_data.copy()\n",
    "for variable in input_data.keys():\n",
    "    \n",
    "    normalized_input_data[variable] -= normalization_params[variable]['mean']\n",
    "    normalized_input_data[variable] /= normalization_params[variable]['std']\n",
    "\n",
    "SOM = SelfOrganizingMap(mapsize = [16, 16])\n",
    "\n",
    "data_cut = 1000\n",
    "\n",
    "SOM.load_data(normalized_input_data[:data_cut],\n",
    "              variable_names = ['r_mag', 'gr_color', 'surf_bright_r'])\n",
    "\n",
    "SOM.load_standard_deviations(input_vars[:data_cut])\n",
    "\n",
    "SOM.build_SOM()"
   ]
  },
  {
   "cell_type": "code",
   "execution_count": null,
   "metadata": {},
   "outputs": [],
   "source": [
    "def quantization_error(weight_vectors,\n",
    "                        data,\n",
    "                        bmu_indices):\n",
    "    \n",
    "    quantization_errors = np.full_like(data, np.nan)\n",
    "    for index in range(len(data)):\n",
    "        bmu_index = bmu_indices[index]\n",
    "        data_vector = data[index]\n",
    "        misalignment = weight_vectors[*bmu_index, :] - data_vector\n",
    "        quantization_errors[index] = np.linalg.norm(misalignment)\n",
    "        \n",
    "    rms_quantization_errors = np.sqrt(np.sum(quantization_errors**2))\n",
    "    return rms_quantization_errors\n"
   ]
  },
  {
   "cell_type": "code",
   "execution_count": null,
   "metadata": {},
   "outputs": [],
   "source": [
    "quantization_error(SOM.weights_map,\n",
    "                   SOM.data,\n",
    "                   SOM.bmu_indices)"
   ]
  },
  {
   "cell_type": "code",
   "execution_count": null,
   "metadata": {},
   "outputs": [],
   "source": [
    "np.hypot(1, 2, 3)"
   ]
  },
  {
   "cell_type": "markdown",
   "metadata": {},
   "source": [
    "___"
   ]
  },
  {
   "cell_type": "markdown",
   "metadata": {},
   "source": [
    "Build shuffler"
   ]
  },
  {
   "cell_type": "code",
   "execution_count": 3,
   "metadata": {},
   "outputs": [],
   "source": [
    "import numpy as np\n",
    "import matplotlib as mpl\n",
    "import matplotlib.pyplot as plt\n",
    "\n",
    "from astropy.io import fits\n",
    "from astropy.table import Table\n",
    "\n",
    "from mpdg_som import SelfOrganizingMap\n",
    "#load in data produced in primary_targeting_region.ipynb\n",
    "cut_data_file = '/data2/lsajkov/mpdg/data_products/GAMA/GAMA_primtarg_snr100_lms6_12_25jun2024.fits'\n",
    "\n",
    "with fits.open(cut_data_file) as cat:\n",
    "    GAMA_vect_data = Table(cat[1].data)\n",
    "\n",
    "GAMA_vect_data = GAMA_vect_data[GAMA_vect_data['log_stellar_mass'] < 9.5]\n",
    "\n",
    "GAMA_vect_data.add_column(GAMA_vect_data['r_mag_err'], index = 4, name = 'surf_bright_r_err')\n",
    "input_data = GAMA_vect_data['r_mag', 'gr_color', 'surf_bright_r']\n",
    "input_vars = GAMA_vect_data['r_mag_err', 'gr_color_err', 'surf_bright_r_err']\n",
    "\n",
    "input_labels = GAMA_vect_data['r_mag', 'gr_color', 'surf_bright_r', 'log_stellar_mass', 'redshift']\n",
    "\n",
    "tuple_labels = input_labels.as_array()\n",
    "list_labels = [list(values) for values in tuple_labels]\n",
    "input_labels = np.array(list_labels)\n",
    "\n",
    "normalization_params = {}\n",
    "\n",
    "for variable in input_data.keys():\n",
    "    normalization_params[variable] = {}\n",
    "\n",
    "    normalization_params[variable]['mean'] = np.mean(GAMA_vect_data[variable])\n",
    "    normalization_params[variable]['std']  = np.std(GAMA_vect_data[variable])\n",
    "\n",
    "normalized_input_data = input_data.copy()\n",
    "for variable in input_data.keys():\n",
    "    \n",
    "    normalized_input_data[variable] -= normalization_params[variable]['mean']\n",
    "    normalized_input_data[variable] /= normalization_params[variable]['std']\n",
    "\n",
    "SOM = SelfOrganizingMap(mapsize = [16, 16])\n",
    "\n",
    "data_cut = 1000\n",
    "\n",
    "SOM.load_data(normalized_input_data[:data_cut],\n",
    "              variable_names = ['r_mag', 'gr_color', 'surf_bright_r'])\n",
    "\n",
    "SOM.load_standard_deviations(input_vars[:data_cut])\n",
    "\n",
    "SOM.build_SOM()"
   ]
  },
  {
   "cell_type": "markdown",
   "metadata": {},
   "source": [
    "___"
   ]
  },
  {
   "cell_type": "markdown",
   "metadata": {},
   "source": [
    "Build better labeling functions"
   ]
  },
  {
   "cell_type": "code",
   "execution_count": null,
   "metadata": {},
   "outputs": [],
   "source": [
    "labeled_data_bmu_idx = {}\n",
    "\n",
    "i = 0; j = 0\n",
    "for index in range(SOM.data_len):\n",
    "\n",
    "    bmu_coords = [i%20, j%20]\n",
    "    if f'{bmu_coords}' in labeled_data_bmu_idx.keys():\n",
    "        labeled_data_bmu_idx[f'{bmu_coords}'].append(index)\n",
    "    else:\n",
    "        labeled_data_bmu_idx[f'{bmu_coords}'] = []\n",
    "        labeled_data_bmu_idx[f'{bmu_coords}'].append(index)\n",
    "\n",
    "    i += 1; j += 1"
   ]
  },
  {
   "cell_type": "code",
   "execution_count": null,
   "metadata": {},
   "outputs": [],
   "source": [
    "iteration_map = np.nditer(SOM.weights_map[..., 0], flags = ['multi_index'])\n",
    "\n",
    "for _ in iteration_map:\n",
    "\n",
    "    index = list(iteration_map.multi_index)\n",
    "\n",
    "    if f'{index}' in labeled_data_bmu_idx.keys():\n",
    "        local_vectors = "
   ]
  },
  {
   "cell_type": "code",
   "execution_count": 6,
   "metadata": {},
   "outputs": [],
   "source": [
    "SOM.label_map(input_labels)"
   ]
  },
  {
   "cell_type": "code",
   "execution_count": 9,
   "metadata": {},
   "outputs": [],
   "source": [
    "from mpdg_som_utils import find_bmu_coords"
   ]
  },
  {
   "cell_type": "code",
   "execution_count": 11,
   "metadata": {},
   "outputs": [],
   "source": [
    "\n",
    "\n",
    "unitary_covar_vector = [1] * SOM.data_dim\n",
    "\n",
    "labeled_data_bmu_idx = {}\n",
    "for index in range(SOM.labeled_data_len):\n",
    "\n",
    "    bmu_coords = find_bmu_coords(SOM.weights_map,\n",
    "                                SOM.labeled_data[index, :SOM.data_dim],\n",
    "                                unitary_covar_vector)\n",
    "        \n",
    "    if f'{bmu_coords}' in labeled_data_bmu_idx.keys():\n",
    "        labeled_data_bmu_idx[f'{bmu_coords}'].append(index)\n",
    "    else:\n",
    "        labeled_data_bmu_idx[f'{bmu_coords}'] = []\n",
    "        labeled_data_bmu_idx[f'{bmu_coords}'].append(index)\n",
    "\n",
    "    # self.map_labels = np.full([*self.mapsize, self.params_dim], np.nan)\n",
    "    \n",
    "    # iteration_map = np.nditer(self.map_labels[..., 0], flags = ['multi_index'])\n",
    "\n",
    "    # for _ in iteration_map:\n",
    "        \n",
    "    #     index = list(iteration_map.multi_index)\n",
    "\n",
    "    #     if f'{index}' in labeled_data_bmu_idx.keys():\n",
    "    #         local_vectors = self.labeled_data[labeled_data_bmu_idx[f'{index}']]\n",
    "    #         self.map_labels[*index] = np.nanmedian(local_vectors, axis = 0)\n"
   ]
  },
  {
   "cell_type": "code",
   "execution_count": 37,
   "metadata": {},
   "outputs": [],
   "source": [
    "SOM.map_labels = np.full([*SOM.mapsize, SOM.params_dim], np.nan)\n",
    "\n",
    "iteration_map = np.nditer(SOM.map_labels[..., 0], flags = ['multi_index'])\n",
    "\n",
    "for _ in iteration_map:\n",
    "    \n",
    "    index = iteration_map.multi_index\n",
    "\n",
    "    if f'{index}' in labeled_data_bmu_idx.keys():\n",
    "        local_vectors = SOM.labeled_data[labeled_data_bmu_idx[f'{index}']]\n",
    "        SOM.map_labels[*index] = np.nanmedian(local_vectors[:, -SOM.params_dim:], axis = 0)"
   ]
  },
  {
   "cell_type": "code",
   "execution_count": 39,
   "metadata": {},
   "outputs": [
    {
     "data": {
      "text/plain": [
       "10"
      ]
     },
     "execution_count": 39,
     "metadata": {},
     "output_type": "execute_result"
    }
   ],
   "source": [
    "np.sum(~np.isnan(SOM.map_labels))"
   ]
  },
  {
   "cell_type": "code",
   "execution_count": 41,
   "metadata": {},
   "outputs": [
    {
     "data": {
      "text/plain": [
       "<matplotlib.image.AxesImage at 0x7f5c791193a0>"
      ]
     },
     "execution_count": 41,
     "metadata": {},
     "output_type": "execute_result"
    },
    {
     "data": {
      "image/png": "[encoded data removed]",
      "text/plain": [
       "<Figure size 640x480 with 1 Axes>"
      ]
     },
     "metadata": {},
     "output_type": "display_data"
    }
   ],
   "source": [
    "plt.imshow(SOM.map_labels[..., 1])"
   ]
  },
  {
   "cell_type": "markdown",
   "metadata": {},
   "source": [
    "___"
   ]
  },
  {
   "cell_type": "markdown",
   "metadata": {},
   "source": [
    "Test Optuna"
   ]
  },
  {
   "cell_type": "code",
   "execution_count": 1,
   "metadata": {},
   "outputs": [
    {
     "name": "stdout",
     "output_type": "stream",
     "text": [
      "Intel MKL WARNING: Support of Intel(R) Streaming SIMD Extensions 4.2 (Intel(R) SSE4.2) enabled only processors has been deprecated. Intel oneAPI Math Kernel Library 2025.0 will require Intel(R) Advanced Vector Extensions (Intel(R) AVX) instructions.\n",
      "Intel MKL WARNING: Support of Intel(R) Streaming SIMD Extensions 4.2 (Intel(R) SSE4.2) enabled only processors has been deprecated. Intel oneAPI Math Kernel Library 2025.0 will require Intel(R) Advanced Vector Extensions (Intel(R) AVX) instructions.\n"
     ]
    }
   ],
   "source": [
    "import optuna"
   ]
  },
  {
   "cell_type": "code",
   "execution_count": 9,
   "metadata": {},
   "outputs": [],
   "source": [
    "def ObjectiveFunction(trial):\n",
    "\n",
    "    x = trial.suggest_float('x', -10, 10)\n",
    "\n",
    "    return (x - 2)**2"
   ]
  },
  {
   "cell_type": "code",
   "execution_count": 10,
   "metadata": {},
   "outputs": [
    {
     "name": "stderr",
     "output_type": "stream",
     "text": [
      "[I 2024-07-02 21:35:56,453] A new study created in memory with name: test\n"
     ]
    }
   ],
   "source": [
    "study = optuna.create_study(study_name = 'test',\n",
    "                            direction = 'minimize')"
   ]
  },
  {
   "cell_type": "code",
   "execution_count": 17,
   "metadata": {},
   "outputs": [],
   "source": [
    "trial_no = []"
   ]
  },
  {
   "cell_type": "code",
   "execution_count": 25,
   "metadata": {},
   "outputs": [],
   "source": [
    "def dump_to_file(study, frozen_trial):\n",
    "\n",
    "    ft = frozen_trial\n",
    "    with open(log_file, 'a') as log:\n",
    "        log.write(f'{ft.number}\\t{ft.value:3f}\\t{ft.params}\\n')"
   ]
  },
  {
   "cell_type": "code",
   "execution_count": 26,
   "metadata": {},
   "outputs": [
    {
     "name": "stderr",
     "output_type": "stream",
     "text": [
      "[I 2024-07-02 21:39:46,360] Trial 100 finished with value: 6.805237721489455 and parameters: {'x': -0.608685056017582}. Best is trial 42 with value: 1.8142930688825113e-05.\n",
      "[I 2024-07-02 21:39:46,367] Trial 101 finished with value: 0.026639001072017332 and parameters: {'x': 2.1632145859658913}. Best is trial 42 with value: 1.8142930688825113e-05.\n",
      "[I 2024-07-02 21:39:46,372] Trial 102 finished with value: 0.008244244316263938 and parameters: {'x': 1.9092021789013418}. Best is trial 42 with value: 1.8142930688825113e-05.\n",
      "[I 2024-07-02 21:39:46,376] Trial 103 finished with value: 2.1275017481497582 and parameters: {'x': 0.5414041861606218}. Best is trial 42 with value: 1.8142930688825113e-05.\n",
      "[I 2024-07-02 21:39:46,380] Trial 104 finished with value: 0.4460564964436549 and parameters: {'x': 1.3321253886816367}. Best is trial 42 with value: 1.8142930688825113e-05.\n",
      "[I 2024-07-02 21:39:46,385] Trial 105 finished with value: 0.252728414774878 and parameters: {'x': 2.502721010874698}. Best is trial 42 with value: 1.8142930688825113e-05.\n",
      "[I 2024-07-02 21:39:46,391] Trial 106 finished with value: 0.9646716354199615 and parameters: {'x': 1.017823012171451}. Best is trial 42 with value: 1.8142930688825113e-05.\n",
      "[I 2024-07-02 21:39:46,397] Trial 107 finished with value: 0.00551873191928249 and parameters: {'x': 1.9257118319024995}. Best is trial 42 with value: 1.8142930688825113e-05.\n",
      "[I 2024-07-02 21:39:46,402] Trial 108 finished with value: 0.7236840430423799 and parameters: {'x': 2.850696210784073}. Best is trial 42 with value: 1.8142930688825113e-05.\n",
      "[I 2024-07-02 21:39:46,405] Trial 109 finished with value: 2.289220277884011 and parameters: {'x': 0.4869830543301865}. Best is trial 42 with value: 1.8142930688825113e-05.\n",
      "[I 2024-07-02 21:39:46,421] Trial 110 finished with value: 5.766538140926143 and parameters: {'x': 4.40136172638071}. Best is trial 42 with value: 1.8142930688825113e-05.\n",
      "[I 2024-07-02 21:39:46,440] Trial 111 finished with value: 0.040543139566182 and parameters: {'x': 1.7986467294375827}. Best is trial 42 with value: 1.8142930688825113e-05.\n",
      "[I 2024-07-02 21:39:46,454] Trial 112 finished with value: 0.03711097305258583 and parameters: {'x': 2.192642085361911}. Best is trial 42 with value: 1.8142930688825113e-05.\n",
      "[I 2024-07-02 21:39:46,462] Trial 113 finished with value: 0.24951701034306195 and parameters: {'x': 1.500483223161562}. Best is trial 42 with value: 1.8142930688825113e-05.\n",
      "[I 2024-07-02 21:39:46,467] Trial 114 finished with value: 3.334474017633773 and parameters: {'x': 3.8260542208909825}. Best is trial 42 with value: 1.8142930688825113e-05.\n",
      "[I 2024-07-02 21:39:46,478] Trial 115 finished with value: 4.600363380558634 and parameters: {'x': -0.14484577080932187}. Best is trial 42 with value: 1.8142930688825113e-05.\n",
      "[I 2024-07-02 21:39:46,484] Trial 116 finished with value: 1.5345317720039067 and parameters: {'x': 3.238762193483441}. Best is trial 42 with value: 1.8142930688825113e-05.\n",
      "[I 2024-07-02 21:39:46,489] Trial 117 finished with value: 0.0013914443273321966 and parameters: {'x': 1.9626979313263702}. Best is trial 42 with value: 1.8142930688825113e-05.\n",
      "[I 2024-07-02 21:39:46,493] Trial 118 finished with value: 0.3349423389001764 and parameters: {'x': 2.578742031392378}. Best is trial 42 with value: 1.8142930688825113e-05.\n",
      "[I 2024-07-02 21:39:46,499] Trial 119 finished with value: 0.9208731011821792 and parameters: {'x': 1.0403786678162166}. Best is trial 42 with value: 1.8142930688825113e-05.\n",
      "[I 2024-07-02 21:39:46,505] Trial 120 finished with value: 0.19159785005216828 and parameters: {'x': 1.562281083282698}. Best is trial 42 with value: 1.8142930688825113e-05.\n",
      "[I 2024-07-02 21:39:46,513] Trial 121 finished with value: 0.005167473370270729 and parameters: {'x': 1.928114859878618}. Best is trial 42 with value: 1.8142930688825113e-05.\n",
      "[I 2024-07-02 21:39:46,517] Trial 122 finished with value: 0.03496962840800286 and parameters: {'x': 2.187001680227753}. Best is trial 42 with value: 1.8142930688825113e-05.\n",
      "[I 2024-07-02 21:39:46,522] Trial 123 finished with value: 0.9744104784821159 and parameters: {'x': 2.987122321945014}. Best is trial 42 with value: 1.8142930688825113e-05.\n",
      "[I 2024-07-02 21:39:46,526] Trial 124 finished with value: 2.3043173324675505 and parameters: {'x': 3.517997803841478}. Best is trial 42 with value: 1.8142930688825113e-05.\n",
      "[I 2024-07-02 21:39:46,531] Trial 125 finished with value: 0.011756851923869832 and parameters: {'x': 1.8915709820948754}. Best is trial 42 with value: 1.8142930688825113e-05.\n",
      "[I 2024-07-02 21:39:46,536] Trial 126 finished with value: 0.24706343077741805 and parameters: {'x': 2.497054756317066}. Best is trial 42 with value: 1.8142930688825113e-05.\n",
      "[I 2024-07-02 21:39:46,543] Trial 127 finished with value: 0.6490253307906539 and parameters: {'x': 1.1943789161208267}. Best is trial 42 with value: 1.8142930688825113e-05.\n",
      "[I 2024-07-02 21:39:46,547] Trial 128 finished with value: 2.8025789411996835 and parameters: {'x': 0.3259095182160303}. Best is trial 42 with value: 1.8142930688825113e-05.\n",
      "[I 2024-07-02 21:39:46,556] Trial 129 finished with value: 0.16305580247294893 and parameters: {'x': 1.5961983129394468}. Best is trial 42 with value: 1.8142930688825113e-05.\n",
      "[I 2024-07-02 21:39:46,561] Trial 130 finished with value: 0.5265090433541397 and parameters: {'x': 2.7256094289313912}. Best is trial 42 with value: 1.8142930688825113e-05.\n",
      "[I 2024-07-02 21:39:46,567] Trial 131 finished with value: 0.016372438225133415 and parameters: {'x': 2.1279548288464856}. Best is trial 42 with value: 1.8142930688825113e-05.\n",
      "[I 2024-07-02 21:39:46,571] Trial 132 finished with value: 0.00438334370226514 and parameters: {'x': 1.9337931748060282}. Best is trial 42 with value: 1.8142930688825113e-05.\n",
      "[I 2024-07-02 21:39:46,577] Trial 133 finished with value: 1.514861968778963 and parameters: {'x': 0.769202710118777}. Best is trial 42 with value: 1.8142930688825113e-05.\n",
      "[I 2024-07-02 21:39:46,581] Trial 134 finished with value: 63.596862523837586 and parameters: {'x': 9.974764104588774}. Best is trial 42 with value: 1.8142930688825113e-05.\n",
      "[I 2024-07-02 21:39:46,585] Trial 135 finished with value: 0.5121545074847786 and parameters: {'x': 1.2843502899568962}. Best is trial 42 with value: 1.8142930688825113e-05.\n",
      "[I 2024-07-02 21:39:46,589] Trial 136 finished with value: 0.09313405688563647 and parameters: {'x': 2.3051787294121864}. Best is trial 42 with value: 1.8142930688825113e-05.\n",
      "[I 2024-07-02 21:39:46,592] Trial 137 finished with value: 0.03590564799301663 and parameters: {'x': 1.8105121428876862}. Best is trial 42 with value: 1.8142930688825113e-05.\n",
      "[I 2024-07-02 21:39:46,595] Trial 138 finished with value: 1.6290648373495622 and parameters: {'x': 3.2763482429766424}. Best is trial 42 with value: 1.8142930688825113e-05.\n",
      "[I 2024-07-02 21:39:46,598] Trial 139 finished with value: 1.0890906991535363 and parameters: {'x': 0.9564049160936334}. Best is trial 42 with value: 1.8142930688825113e-05.\n",
      "[I 2024-07-02 21:39:46,602] Trial 140 finished with value: 0.8988805740084117 and parameters: {'x': 2.948093125177275}. Best is trial 42 with value: 1.8142930688825113e-05.\n",
      "[I 2024-07-02 21:39:46,606] Trial 141 finished with value: 0.006599568487023831 and parameters: {'x': 1.9187622717758317}. Best is trial 42 with value: 1.8142930688825113e-05.\n",
      "[I 2024-07-02 21:39:46,609] Trial 142 finished with value: 0.17449012054944757 and parameters: {'x': 2.4177201462096933}. Best is trial 42 with value: 1.8142930688825113e-05.\n",
      "[I 2024-07-02 21:39:46,614] Trial 143 finished with value: 0.2585209297327614 and parameters: {'x': 1.4915504649104678}. Best is trial 42 with value: 1.8142930688825113e-05.\n",
      "[I 2024-07-02 21:39:46,618] Trial 144 finished with value: 0.002990718678694816 and parameters: {'x': 1.945312536366231}. Best is trial 42 with value: 1.8142930688825113e-05.\n",
      "[I 2024-07-02 21:39:46,622] Trial 145 finished with value: 0.00017257031797013428 and parameters: {'x': 1.986863397776817}. Best is trial 42 with value: 1.8142930688825113e-05.\n",
      "[I 2024-07-02 21:39:46,625] Trial 146 finished with value: 0.12163576032946916 and parameters: {'x': 2.348763186602986}. Best is trial 42 with value: 1.8142930688825113e-05.\n",
      "[I 2024-07-02 21:39:46,628] Trial 147 finished with value: 0.32308868164437676 and parameters: {'x': 1.4315910964416754}. Best is trial 42 with value: 1.8142930688825113e-05.\n",
      "[I 2024-07-02 21:39:46,631] Trial 148 finished with value: 0.40026044320848553 and parameters: {'x': 2.632661396964036}. Best is trial 42 with value: 1.8142930688825113e-05.\n",
      "[I 2024-07-02 21:39:46,636] Trial 149 finished with value: 2.063262466737006 and parameters: {'x': 0.5635939060498922}. Best is trial 42 with value: 1.8142930688825113e-05.\n"
     ]
    }
   ],
   "source": [
    "log_file = '/Users/leo/Desktop/test_log'\n",
    "with open(log_file, 'w') as log:\n",
    "    log.write('Trial number\\tError value\\tParams\\n')\n",
    "\n",
    "study.optimize(ObjectiveFunction, n_trials = 50,\n",
    "               callbacks = [dump_to_file])"
   ]
  },
  {
   "cell_type": "code",
   "execution_count": null,
   "metadata": {},
   "outputs": [],
   "source": []
  }
 ],
 "metadata": {
  "kernelspec": {
   "display_name": "astro-two",
   "language": "python",
   "name": "python3"
  },
  "language_info": {
   "codemirror_mode": {
    "name": "ipython",
    "version": 3
   },
   "file_extension": ".py",
   "mimetype": "text/x-python",
   "name": "python",
   "nbconvert_exporter": "python",
   "pygments_lexer": "ipython3",
   "version": "3.11.3"
  },
  "vscode": {
   "interpreter": {
    "hash": "0652fbddb8f14dbb5acc595fb3c293f389575b2db40f72de3b99cc3e859b4597"
   }
  }
 },
 "nbformat": 4,
 "nbformat_minor": 2
}
