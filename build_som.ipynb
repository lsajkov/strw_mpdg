{
 "cells": [
  {
   "cell_type": "code",
   "execution_count": null,
   "metadata": {},
   "outputs": [],
   "source": [
    "import numpy as np\n",
    "import matplotlib as mpl\n",
    "import matplotlib.pyplot as plt\n",
    "\n",
    "from astropy.io import fits\n",
    "from astropy.table import Table\n",
    "\n",
    "plt.rcParams.update({\n",
    "    'font.family': 'serif',\n",
    "    'font.size': 24,\n",
    "    'axes.labelsize': 'large',\n",
    "    'mathtext.fontset': 'stix'\n",
    "})\n",
    "\n",
    "from mpdg_som import SelfOrganizingMap\n",
    "from mpdg_som_utils import SOM_LearningRateFunctions\n",
    "\n",
    "import mpdg_som_utils"
   ]
  },
  {
   "cell_type": "code",
   "execution_count": null,
   "metadata": {},
   "outputs": [],
   "source": [
    "#load in data produced in primary_targeting_region.ipynb\n",
    "cut_data_file = '/data2/lsajkov/mpdg/data_products/GAMA/GAMA_primtarg_snr100_lms6_12_25jun2024.fits'\n",
    "\n",
    "with fits.open(cut_data_file) as cat:\n",
    "    GAMA_vect_data = Table(cat[1].data)\n",
    "\n",
    "GAMA_vect_data.add_column(GAMA_vect_data['r_mag_err'], index = 4, name = 'surf_bright_r_err')"
   ]
  },
  {
   "cell_type": "code",
   "execution_count": null,
   "metadata": {},
   "outputs": [],
   "source": [
    "SOM = SelfOrganizingMap([16, 16],\n",
    "                        initialization = 'random')"
   ]
  },
  {
   "cell_type": "code",
   "execution_count": null,
   "metadata": {},
   "outputs": [],
   "source": [
    "SOM.load_data(GAMA_vect_data['r_mag', 'gr_color', 'surf_bright_r'],\n",
    "              variable_names = ['r_mag', 'gr_color', 'surf_bright_r'])"
   ]
  },
  {
   "cell_type": "code",
   "execution_count": null,
   "metadata": {},
   "outputs": [],
   "source": [
    "SOM.load_standard_deviations(GAMA_vect_data['r_mag_err', 'gr_color_err', 'surf_bright_r_err'])"
   ]
  },
  {
   "cell_type": "code",
   "execution_count": null,
   "metadata": {},
   "outputs": [],
   "source": [
    "SOM.build_SOM()"
   ]
  },
  {
   "cell_type": "code",
   "execution_count": null,
   "metadata": {},
   "outputs": [],
   "source": [
    "fig = plt.figure()\n",
    "for i, name in enumerate(SOM.variable_names):\n",
    "    ax = fig.add_subplot(1, 3, i + 1)\n",
    "    ax.imshow(SOM.SOM[:, :, i], origin = 'lower', cmap = 'Spectral')\n",
    "    ax.set_title(SOM.variable_names[i],\n",
    "                 fontsize = 12)\n",
    "    ax.axis('off')"
   ]
  },
  {
   "cell_type": "code",
   "execution_count": null,
   "metadata": {},
   "outputs": [],
   "source": [
    "random_idx = np.random.rand(*SOM.mapsize) * SOM.data_len\n",
    "random_idx = np.array(random_idx, dtype = int)"
   ]
  },
  {
   "cell_type": "code",
   "execution_count": null,
   "metadata": {},
   "outputs": [],
   "source": [
    "weight_vectors = SOM.data[random_idx]"
   ]
  },
  {
   "cell_type": "code",
   "execution_count": null,
   "metadata": {},
   "outputs": [],
   "source": [
    "distances = np.full(SOM.mapsize, np.nan)\n",
    "iteration_map = np.nditer(distances, flags = ['multi_index'])\n",
    "\n",
    "for _ in iteration_map:\n",
    "    chi_sq_dist = mpdg_som_utils.chi_sq_dist(weight_vectors[*iteration_map.multi_index],\n",
    "                                             SOM.data[45],\n",
    "                                             data_dim = 3)\n",
    "    distances[*iteration_map.multi_index] = chi_sq_dist\n",
    "\n",
    "\n",
    "argmin_idx = np.argmin(distances)\n",
    "argmin_coords = np.unravel_index(argmin_idx, SOM.mapsize)"
   ]
  },
  {
   "cell_type": "code",
   "execution_count": null,
   "metadata": {},
   "outputs": [],
   "source": [
    "np.shape(weight_vectors)[:-1]"
   ]
  },
  {
   "cell_type": "code",
   "execution_count": null,
   "metadata": {},
   "outputs": [],
   "source": [
    "distances = np.full(SOM.mapsize, np.nan)\n",
    "iteration_map = np.nditer(distances, flags = ['multi_index'])\n",
    "\n",
    "for _ in iteration_map:\n",
    "    euclid_dist = np.linalg.norm(np.array(argmin_coords) -\\\n",
    "                                 np.array(iteration_map.multi_index))\n",
    "    distances[*iteration_map.multi_index] = euclid_dist"
   ]
  },
  {
   "cell_type": "code",
   "execution_count": null,
   "metadata": {},
   "outputs": [],
   "source": [
    "argmin_coords"
   ]
  },
  {
   "cell_type": "code",
   "execution_count": null,
   "metadata": {},
   "outputs": [],
   "source": [
    "plt.imshow(np.exp(-distances**2/3))"
   ]
  },
  {
   "cell_type": "code",
   "execution_count": null,
   "metadata": {},
   "outputs": [],
   "source": [
    "count = 0\n",
    "for i, _ in enumerate(np.shape(n_dim_map)):\n",
    "    for ii in range(np.shape(n_dim_map)[i]):\n",
    "        count += 1\n",
    "        print(count)"
   ]
  },
  {
   "cell_type": "code",
   "execution_count": null,
   "metadata": {},
   "outputs": [],
   "source": [
    "[mpdg_som_utils.chi_sq_dist(weight_vector = weight_vectors[ii, jj],\n",
    "                           data_vector = SOM.data[0],\n",
    "                           data_dim = 3) for ii in ]\n",
    "mpdg_som_utils.chi_sq_dist(weight_vector = weight_vectors,\n",
    "                           data_vector = SOM.data[0],\n",
    "                           data_dim = 3)"
   ]
  },
  {
   "cell_type": "code",
   "execution_count": null,
   "metadata": {},
   "outputs": [],
   "source": [
    "if (~use_covariance) & (data_dim is not None):\n",
    "    covar_matrix = np.diagflat([1] * data_dim)\n",
    "\n",
    "elif (~use_covariance) & (data_dim is None):\n",
    "    raise(ValueError('Please pass a dimensionality for the data (number of variables).'))\n",
    "\n",
    "elif (use_covariance) & (covar_vector is None):\n",
    "    raise(ValueError('There is no covariance matrix for the given data vector!'))\n",
    "\n",
    "covar_matrix = np.diagflat(covar_vector)\n",
    "inv_covar_matrix = linalg.inv(covar_matrix)\n",
    "\n",
    "vector_difference = data_vector - weight_vector\n",
    "\n",
    "np.dot(np.dot(vector_difference, inv_covar_matrix),vector_difference)"
   ]
  },
  {
   "cell_type": "code",
   "execution_count": null,
   "metadata": {},
   "outputs": [],
   "source": [
    "for i in np.nditer"
   ]
  },
  {
   "cell_type": "code",
   "execution_count": null,
   "metadata": {},
   "outputs": [],
   "source": [
    "plt.imshow(np.ones(SOM.mapsize))"
   ]
  },
  {
   "cell_type": "markdown",
   "metadata": {},
   "source": [
    "___"
   ]
  },
  {
   "cell_type": "code",
   "execution_count": null,
   "metadata": {},
   "outputs": [],
   "source": [
    "import numpy as np\n",
    "import matplotlib as mpl\n",
    "import matplotlib.pyplot as plt\n",
    "\n",
    "from astropy.io import fits\n",
    "from astropy.table import Table\n",
    "\n",
    "from mpdg_som import SelfOrganizingMap\n",
    "from mpdg_som_utils import SOM_LearningRateFunctions\n",
    "\n",
    "import mpdg_som_utils\n",
    "#load in data produced in primary_targeting_region.ipynb\n",
    "cut_data_file = '/data2/lsajkov/mpdg/data_products/GAMA/GAMA_primtarg_snr100_lms6_12_25jun2024.fits'\n",
    "\n",
    "with fits.open(cut_data_file) as cat:\n",
    "    GAMA_vect_data = Table(cat[1].data)\n",
    "\n",
    "GAMA_vect_data = GAMA_vect_data[GAMA_vect_data['log_stellar_mass'] < 9.5]\n",
    "\n",
    "GAMA_vect_data.add_column(GAMA_vect_data['r_mag_err'], index = 4, name = 'surf_bright_r_err')\n",
    "SOM = SelfOrganizingMap([16, 16],\n",
    "                        initialization = 'random')\n",
    "SOM.load_data(GAMA_vect_data['r_mag', 'gr_color', 'surf_bright_r'],\n",
    "              variable_names = ['r_mag', 'gr_color', 'surf_bright_r'])\n",
    "SOM.load_standard_deviations(GAMA_vect_data['r_mag_err', 'gr_color_err', 'surf_bright_r_err'])\n",
    "SOM.build_SOM()\n",
    "random_idx = np.random.rand(*SOM.mapsize) * SOM.data_len\n",
    "random_idx = np.array(random_idx, dtype = int)\n",
    "weight_vectors = SOM.data[random_idx]"
   ]
  },
  {
   "cell_type": "code",
   "execution_count": null,
   "metadata": {},
   "outputs": [],
   "source": [
    "step0_weights = weight_vectors.copy()"
   ]
  },
  {
   "cell_type": "code",
   "execution_count": null,
   "metadata": {},
   "outputs": [],
   "source": [
    "step = 1\n",
    "step1_weights = mpdg_som_utils.training_step(step0_weights,\n",
    "                                             SOM.data[0],\n",
    "                                             SOM.variances[0],\n",
    "                                             step,\n",
    "                                             mpdg_som_utils.SOM_LearningRateFunctions.power_law_lrf,\n",
    "                                             (1000, 0.5),\n",
    "                                             mpdg_som_utils.SOM_NeighborhoodFunctions.gaussian_nbh,\n",
    "                                             (SOM.mapsize, 2))\n"
   ]
  },
  {
   "cell_type": "code",
   "execution_count": null,
   "metadata": {},
   "outputs": [],
   "source": [
    "step = 1\n",
    "step1_weights = step0_weights\n",
    "for index in range(SOM.data_len):\n",
    "    step1_weights = mpdg_som_utils.training_step(step1_weights,\n",
    "                                                 SOM.data[index],\n",
    "                                                 SOM.variances[index],\n",
    "                                                 step,\n",
    "                                                 mpdg_som_utils.SOM_LearningRateFunctions.power_law_lrf,\n",
    "                                                 (1000, 0.5),\n",
    "                                                 mpdg_som_utils.SOM_NeighborhoodFunctions.gaussian_nbh,\n",
    "                                                 (SOM.mapsize, 2))"
   ]
  },
  {
   "cell_type": "code",
   "execution_count": null,
   "metadata": {},
   "outputs": [],
   "source": [
    "fig = plt.figure()\n",
    "for i, name in enumerate(SOM.variable_names):\n",
    "    ax = fig.add_subplot(1, 3, i + 1)\n",
    "    ax.imshow(step0_weights[:, :, i], origin = 'lower', cmap = 'Spectral')\n",
    "    ax.set_title(SOM.variable_names[i],\n",
    "                 fontsize = 12)\n",
    "    ax.axis('off')"
   ]
  },
  {
   "cell_type": "code",
   "execution_count": null,
   "metadata": {},
   "outputs": [],
   "source": [
    "fig = plt.figure()\n",
    "for i, name in enumerate(SOM.variable_names):\n",
    "    ax = fig.add_subplot(1, 3, i + 1)\n",
    "    ax.imshow(step1_weights[:, :, i], origin = 'lower', cmap = 'Spectral')\n",
    "    ax.set_title(SOM.variable_names[i],\n",
    "                 fontsize = 12)\n",
    "    ax.axis('off')"
   ]
  },
  {
   "cell_type": "code",
   "execution_count": null,
   "metadata": {},
   "outputs": [],
   "source": [
    "np.max(step1_weights - step0_weights)"
   ]
  },
  {
   "cell_type": "markdown",
   "metadata": {},
   "source": [
    "___"
   ]
  },
  {
   "cell_type": "code",
   "execution_count": 10,
   "metadata": {},
   "outputs": [],
   "source": [
    "import numpy as np\n",
    "import matplotlib as mpl\n",
    "import matplotlib.pyplot as plt\n",
    "\n",
    "from astropy.io import fits\n",
    "from astropy.table import Table\n",
    "\n",
    "from mpdg_som import SelfOrganizingMap"
   ]
  },
  {
   "cell_type": "code",
   "execution_count": 11,
   "metadata": {},
   "outputs": [],
   "source": [
    "#load in data produced in primary_targeting_region.ipynb\n",
    "cut_data_file = '/data2/lsajkov/mpdg/data_products/GAMA/GAMA_primtarg_snr100_lms6_12_25jun2024.fits'\n",
    "\n",
    "with fits.open(cut_data_file) as cat:\n",
    "    GAMA_vect_data = Table(cat[1].data)\n",
    "\n",
    "GAMA_vect_data = GAMA_vect_data[GAMA_vect_data['log_stellar_mass'] < 9.5]\n",
    "\n",
    "GAMA_vect_data.add_column(GAMA_vect_data['r_mag_err'], index = 4, name = 'surf_bright_r_err')"
   ]
  },
  {
   "cell_type": "code",
   "execution_count": 12,
   "metadata": {},
   "outputs": [],
   "source": [
    "input_data = GAMA_vect_data['r_mag', 'gr_color', 'surf_bright_r']\n",
    "input_vars = GAMA_vect_data['r_mag_err', 'gr_color_err', 'surf_bright_r_err']"
   ]
  },
  {
   "cell_type": "code",
   "execution_count": 13,
   "metadata": {},
   "outputs": [],
   "source": [
    "normalization_params = {}\n",
    "\n",
    "for variable in input_data.keys():\n",
    "    normalization_params[variable] = {}\n",
    "\n",
    "    normalization_params[variable]['mean'] = np.mean(GAMA_vect_data[variable])\n",
    "    normalization_params[variable]['std']  = np.std(GAMA_vect_data[variable])"
   ]
  },
  {
   "cell_type": "code",
   "execution_count": 14,
   "metadata": {},
   "outputs": [],
   "source": [
    "normalized_input_data = input_data.copy()\n",
    "for variable in input_data.keys():\n",
    "    \n",
    "    normalized_input_data[variable] -= normalization_params[variable]['mean']\n",
    "    normalized_input_data[variable] /= normalization_params[variable]['std']"
   ]
  },
  {
   "cell_type": "code",
   "execution_count": 15,
   "metadata": {},
   "outputs": [],
   "source": [
    "SOM = SelfOrganizingMap([32, 32],\n",
    "                        initialization = 'pca')\n",
    "\n",
    "SOM.load_data(normalized_input_data,\n",
    "              variable_names = ['r_mag', 'gr_color', 'surf_bright_r'])\n",
    "\n",
    "SOM.load_standard_deviations(input_vars)\n",
    "\n",
    "SOM.build_SOM()"
   ]
  },
  {
   "cell_type": "code",
   "execution_count": 16,
   "metadata": {},
   "outputs": [
    {
     "name": "stdout",
     "output_type": "stream",
     "text": [
      "| Data statistics \n",
      "stat\tr_mag\tgr_color\tsurf_bright_r\t\n",
      "min\t-10.677\t-4.797\t-4.918\t\n",
      "max\t2.086\t3.339\t3.399\t\n",
      "mean\t-0.000\t0.000\t0.000\t\n",
      "median\t0.162\t-0.004\t-0.093\t\n",
      "std\t1.000\t1.000\t1.000\t\n",
      "| Initial SOM. Step 0. Initializaton: pca.\n"
     ]
    },
    {
     "data": {
      "image/png": "[encoded data removed]",
      "text/plain": [
       "<Figure size 640x480 with 6 Axes>"
      ]
     },
     "metadata": {},
     "output_type": "display_data"
    }
   ],
   "source": [
    "SOM.data_statistics()\n",
    "\n",
    "print(f'\\n| Initial SOM. Step {SOM.step}. Initializaton: {SOM.initialization}.')\n",
    "fig = plt.figure()\n",
    "for i, name in enumerate(SOM.variable_names):\n",
    "    ax = fig.add_subplot(1, 3, i + 1)\n",
    "    imsh = ax.imshow(SOM.weights_map[..., i], origin = 'lower', cmap = 'jet_r')\n",
    "    # ax.set_title(SOM.variable_names[i],\n",
    "    #              fontsize = 12)\n",
    "    ax.axis('off')\n",
    "    fig.colorbar(mappable = imsh, ax = ax,\n",
    "                 label = SOM.variable_names[i], location = 'bottom',\n",
    "                 pad = 0.01)"
   ]
  },
  {
   "cell_type": "code",
   "execution_count": 17,
   "metadata": {},
   "outputs": [
    {
     "name": "stdout",
     "output_type": "stream",
     "text": [
      "Step 0 complete. Error: 91.809\n",
      "Step 1 complete. Error: 89.990\n",
      "Step 2 complete. Error: 79.897\n",
      "Step 3 complete. Error: 81.400\n",
      "Step 4 complete. Error: 84.097\n",
      "Step 5 complete. Error: 86.407\n",
      "Step 6 complete. Error: 87.565\n",
      "Step 7 complete. Error: 85.682\n",
      "Step 8 complete. Error: 87.215\n",
      "Step 9 complete. Error: 91.833\n",
      "Step 10 complete. Error: 84.551\n",
      "Step 11 complete. Error: 86.853\n",
      "Step 12 complete. Error: 85.138\n",
      "Step 13 complete. Error: 81.192\n",
      "Step 14 complete. Error: 79.819\n",
      "Step 15 complete. Error: 76.050\n"
     ]
    },
    {
     "ename": "KeyboardInterrupt",
     "evalue": "",
     "output_type": "error",
     "traceback": [
      "\u001b[0;31m---------------------------------------------------------------------------\u001b[0m",
      "\u001b[0;31mKeyboardInterrupt\u001b[0m                         Traceback (most recent call last)",
      "Cell \u001b[0;32mIn[17], line 1\u001b[0m\n\u001b[0;32m----> 1\u001b[0m SOM\u001b[38;5;241m.\u001b[39mtrain(debug_max_steps \u001b[38;5;241m=\u001b[39m \u001b[38;5;241m1\u001b[39m,\n\u001b[1;32m      2\u001b[0m           error_thresh \u001b[38;5;241m=\u001b[39m \u001b[38;5;241m1\u001b[39m)\n",
      "File \u001b[0;32m/data2/lsajkov/mpdg/strw_mpdg/mpdg_som.py:179\u001b[0m, in \u001b[0;36mSelfOrganizingMap.train\u001b[0;34m(self, nans_in_empty_cells, error_func, error_thresh, debug_max_steps)\u001b[0m\n\u001b[1;32m    177\u001b[0m \u001b[38;5;28;01mwhile\u001b[39;00m error \u001b[38;5;241m>\u001b[39m error_thresh:\n\u001b[1;32m    178\u001b[0m     \u001b[38;5;28;01mfor\u001b[39;00m index \u001b[38;5;129;01min\u001b[39;00m \u001b[38;5;28mrange\u001b[39m(\u001b[38;5;28mself\u001b[39m\u001b[38;5;241m.\u001b[39mdata_len):\n\u001b[0;32m--> 179\u001b[0m         weights, bmu_coords \u001b[38;5;241m=\u001b[39m training_step(weights,\n\u001b[1;32m    180\u001b[0m                                             complete_data[index],\n\u001b[1;32m    181\u001b[0m                                             complete_variance[index],\n\u001b[1;32m    182\u001b[0m                                             \u001b[38;5;28mself\u001b[39m\u001b[38;5;241m.\u001b[39mstep,\n\u001b[1;32m    183\u001b[0m                                             lrf\u001b[38;5;241m.\u001b[39mpower_law_lrf,\n\u001b[1;32m    184\u001b[0m                                             (\u001b[38;5;241m1000\u001b[39m, \u001b[38;5;241m0.5\u001b[39m),\n\u001b[1;32m    185\u001b[0m                                             nhb\u001b[38;5;241m.\u001b[39mgaussian_nbh,\n\u001b[1;32m    186\u001b[0m                                             (\u001b[38;5;28mself\u001b[39m\u001b[38;5;241m.\u001b[39mmapsize, \u001b[38;5;241m2\u001b[39m, \u001b[38;5;241m1000\u001b[39m)\n\u001b[1;32m    187\u001b[0m                                             )\n\u001b[1;32m    188\u001b[0m         \u001b[38;5;28mself\u001b[39m\u001b[38;5;241m.\u001b[39mbmu_indices[index] \u001b[38;5;241m=\u001b[39m (bmu_coords)\n\u001b[1;32m    190\u001b[0m     error \u001b[38;5;241m=\u001b[39m e_est\u001b[38;5;241m.\u001b[39mmax_misalignment(weights,\n\u001b[1;32m    191\u001b[0m                                    complete_data,\n\u001b[1;32m    192\u001b[0m                                    \u001b[38;5;28mself\u001b[39m\u001b[38;5;241m.\u001b[39mbmu_indices)\n",
      "File \u001b[0;32m/data2/lsajkov/mpdg/strw_mpdg/mpdg_som_utils.py:59\u001b[0m, in \u001b[0;36mtraining_step\u001b[0;34m(weight_vectors, data_vector, covar_vector, step, learning_rate_function, lrf_args, neighborhood_function, nbh_args)\u001b[0m\n\u001b[1;32m     47\u001b[0m \u001b[38;5;28;01mdef\u001b[39;00m \u001b[38;5;21mtraining_step\u001b[39m(weight_vectors,\n\u001b[1;32m     48\u001b[0m                   data_vector,\n\u001b[1;32m     49\u001b[0m                   covar_vector,\n\u001b[0;32m   (...)\u001b[0m\n\u001b[1;32m     54\u001b[0m                   nbh_args\n\u001b[1;32m     55\u001b[0m                   ):\n\u001b[1;32m     57\u001b[0m     current_weight_vectors \u001b[38;5;241m=\u001b[39m weight_vectors\u001b[38;5;241m.\u001b[39mcopy()\n\u001b[0;32m---> 59\u001b[0m     bmu_coords \u001b[38;5;241m=\u001b[39m find_bmu_coords(current_weight_vectors,\n\u001b[1;32m     60\u001b[0m                                  data_vector,\n\u001b[1;32m     61\u001b[0m                                  covar_vector)\n\u001b[1;32m     63\u001b[0m     learning_rate_mult \u001b[38;5;241m=\u001b[39m learning_rate_function(step,\n\u001b[1;32m     64\u001b[0m                                                 \u001b[38;5;241m*\u001b[39mlrf_args)\n\u001b[1;32m     66\u001b[0m     neighborhood_mult \u001b[38;5;241m=\u001b[39m neighborhood_function(step, bmu_coords,\n\u001b[1;32m     67\u001b[0m                                               \u001b[38;5;241m*\u001b[39mnbh_args)\n",
      "File \u001b[0;32m/data2/lsajkov/mpdg/strw_mpdg/mpdg_som_utils.py:37\u001b[0m, in \u001b[0;36mfind_bmu_coords\u001b[0;34m(weight_vectors, data_vector, covar_vector)\u001b[0m\n\u001b[1;32m     34\u001b[0m iteration_map \u001b[38;5;241m=\u001b[39m np\u001b[38;5;241m.\u001b[39mnditer(distance_map, flags \u001b[38;5;241m=\u001b[39m [\u001b[38;5;124m'\u001b[39m\u001b[38;5;124mmulti_index\u001b[39m\u001b[38;5;124m'\u001b[39m])\n\u001b[1;32m     36\u001b[0m \u001b[38;5;28;01mfor\u001b[39;00m _ \u001b[38;5;129;01min\u001b[39;00m iteration_map:\n\u001b[0;32m---> 37\u001b[0m     distance \u001b[38;5;241m=\u001b[39m chi_sq_dist(weight_vectors[\u001b[38;5;241m*\u001b[39miteration_map\u001b[38;5;241m.\u001b[39mmulti_index],\n\u001b[1;32m     38\u001b[0m                            data_vector,\n\u001b[1;32m     39\u001b[0m                            covar_vector,\n\u001b[1;32m     40\u001b[0m                            use_covariance \u001b[38;5;241m=\u001b[39m \u001b[38;5;28;01mTrue\u001b[39;00m)\n\u001b[1;32m     41\u001b[0m     distance_map[\u001b[38;5;241m*\u001b[39miteration_map\u001b[38;5;241m.\u001b[39mmulti_index] \u001b[38;5;241m=\u001b[39m distance\n\u001b[1;32m     43\u001b[0m argmin_idx \u001b[38;5;241m=\u001b[39m np\u001b[38;5;241m.\u001b[39margmin(distance_map)\n",
      "File \u001b[0;32m/data2/lsajkov/mpdg/strw_mpdg/mpdg_som_utils.py:23\u001b[0m, in \u001b[0;36mchi_sq_dist\u001b[0;34m(weight_vector, data_vector, covar_vector, use_covariance, data_dim)\u001b[0m\n\u001b[1;32m     20\u001b[0m \u001b[38;5;28;01melif\u001b[39;00m (use_covariance) \u001b[38;5;241m&\u001b[39m (covar_vector \u001b[38;5;129;01mis\u001b[39;00m \u001b[38;5;129;01mnot\u001b[39;00m \u001b[38;5;28;01mNone\u001b[39;00m):\n\u001b[1;32m     21\u001b[0m     covar_matrix \u001b[38;5;241m=\u001b[39m np\u001b[38;5;241m.\u001b[39mdiagflat(covar_vector)\n\u001b[0;32m---> 23\u001b[0m inv_covar_matrix \u001b[38;5;241m=\u001b[39m linalg\u001b[38;5;241m.\u001b[39minv(covar_matrix)\n\u001b[1;32m     25\u001b[0m vector_difference \u001b[38;5;241m=\u001b[39m data_vector \u001b[38;5;241m-\u001b[39m weight_vector\n\u001b[1;32m     27\u001b[0m \u001b[38;5;28;01mreturn\u001b[39;00m np\u001b[38;5;241m.\u001b[39mdot(np\u001b[38;5;241m.\u001b[39mdot(vector_difference, inv_covar_matrix),vector_difference)\n",
      "File \u001b[0;32m/data2/lsajkov/mpdg/conda/envs/mpdg/lib/python3.12/site-packages/numpy/linalg/linalg.py:555\u001b[0m, in \u001b[0;36minv\u001b[0;34m(a)\u001b[0m\n\u001b[1;32m    494\u001b[0m \u001b[38;5;250m\u001b[39m\u001b[38;5;124;03m\"\"\"\u001b[39;00m\n\u001b[1;32m    495\u001b[0m \u001b[38;5;124;03mCompute the (multiplicative) inverse of a matrix.\u001b[39;00m\n\u001b[1;32m    496\u001b[0m \n\u001b[0;32m   (...)\u001b[0m\n\u001b[1;32m    552\u001b[0m \n\u001b[1;32m    553\u001b[0m \u001b[38;5;124;03m\"\"\"\u001b[39;00m\n\u001b[1;32m    554\u001b[0m a, wrap \u001b[38;5;241m=\u001b[39m _makearray(a)\n\u001b[0;32m--> 555\u001b[0m _assert_stacked_2d(a)\n\u001b[1;32m    556\u001b[0m _assert_stacked_square(a)\n\u001b[1;32m    557\u001b[0m t, result_t \u001b[38;5;241m=\u001b[39m _commonType(a)\n",
      "File \u001b[0;32m/data2/lsajkov/mpdg/conda/envs/mpdg/lib/python3.12/site-packages/numpy/linalg/linalg.py:203\u001b[0m, in \u001b[0;36m_assert_stacked_2d\u001b[0;34m(*arrays)\u001b[0m\n\u001b[1;32m    199\u001b[0m         \u001b[38;5;28;01mif\u001b[39;00m a\u001b[38;5;241m.\u001b[39mndim \u001b[38;5;241m!=\u001b[39m \u001b[38;5;241m2\u001b[39m:\n\u001b[1;32m    200\u001b[0m             \u001b[38;5;28;01mraise\u001b[39;00m LinAlgError(\u001b[38;5;124m'\u001b[39m\u001b[38;5;132;01m%d\u001b[39;00m\u001b[38;5;124m-dimensional array given. Array must be \u001b[39m\u001b[38;5;124m'\u001b[39m\n\u001b[1;32m    201\u001b[0m                     \u001b[38;5;124m'\u001b[39m\u001b[38;5;124mtwo-dimensional\u001b[39m\u001b[38;5;124m'\u001b[39m \u001b[38;5;241m%\u001b[39m a\u001b[38;5;241m.\u001b[39mndim)\n\u001b[0;32m--> 203\u001b[0m \u001b[38;5;28;01mdef\u001b[39;00m \u001b[38;5;21m_assert_stacked_2d\u001b[39m(\u001b[38;5;241m*\u001b[39marrays):\n\u001b[1;32m    204\u001b[0m     \u001b[38;5;28;01mfor\u001b[39;00m a \u001b[38;5;129;01min\u001b[39;00m arrays:\n\u001b[1;32m    205\u001b[0m         \u001b[38;5;28;01mif\u001b[39;00m a\u001b[38;5;241m.\u001b[39mndim \u001b[38;5;241m<\u001b[39m \u001b[38;5;241m2\u001b[39m:\n",
      "\u001b[0;31mKeyboardInterrupt\u001b[0m: "
     ]
    }
   ],
   "source": [
    "SOM.train(debug_max_steps = 1,\n",
    "          error_thresh = 1)"
   ]
  },
  {
   "cell_type": "code",
   "execution_count": 18,
   "metadata": {},
   "outputs": [
    {
     "name": "stdout",
     "output_type": "stream",
     "text": [
      "| SOM after training. Step 16.\n"
     ]
    },
    {
     "data": {
      "image/png": "[encoded data removed]",
      "text/plain": [
       "<Figure size 640x480 with 6 Axes>"
      ]
     },
     "metadata": {},
     "output_type": "display_data"
    }
   ],
   "source": [
    "print(f'| SOM after training. Step {SOM.step}.')\n",
    "fig = plt.figure()\n",
    "for i, name in enumerate(SOM.variable_names):\n",
    "    ax = fig.add_subplot(1, 3, i + 1)\n",
    "    imsh = ax.imshow(SOM.weights_map[..., i], origin = 'lower', cmap = 'jet_r')\n",
    "    # ax.set_title(SOM.variable_names[i],\n",
    "    #              fontsize = 12)\n",
    "    ax.axis('off')\n",
    "    \n",
    "    fig.colorbar(mappable = imsh, ax = ax,\n",
    "                 label = SOM.variable_names[i], location = 'bottom',\n",
    "                 pad = 0.01)"
   ]
  },
  {
   "cell_type": "markdown",
   "metadata": {},
   "source": [
    "___"
   ]
  },
  {
   "cell_type": "markdown",
   "metadata": {},
   "source": [
    "Build error estimator"
   ]
  },
  {
   "cell_type": "code",
   "execution_count": null,
   "metadata": {},
   "outputs": [],
   "source": [
    "fig = plt.figure(figsize = (12, 10))\n",
    "ax = fig.add_subplot()\n",
    "\n",
    "hb = ax.hexbin(bmu_idx[:, 0], bmu_idx[:, 1], gridsize = [16, 8])\n",
    "fig.colorbar(mappable = hb, label = 'datapoints')"
   ]
  },
  {
   "cell_type": "code",
   "execution_count": null,
   "metadata": {},
   "outputs": [],
   "source": [
    "weight_vectors = SOM.weights_map.copy()"
   ]
  },
  {
   "cell_type": "code",
   "execution_count": null,
   "metadata": {},
   "outputs": [],
   "source": [
    "max_quant_error = 0\n",
    "for index in range(SOM.data_len):\n",
    "    quant_error = np.dot(SOM.data[index], SOM.weights_map[*SOM.bmu_indices[index], :])\n",
    "    if quant_error > max_quant_error: max_quant_error = quant_error"
   ]
  },
  {
   "cell_type": "code",
   "execution_count": null,
   "metadata": {},
   "outputs": [],
   "source": [
    "quant_error"
   ]
  },
  {
   "cell_type": "code",
   "execution_count": null,
   "metadata": {},
   "outputs": [],
   "source": [
    "SOM.bmu_indices[0]"
   ]
  },
  {
   "cell_type": "code",
   "execution_count": null,
   "metadata": {},
   "outputs": [],
   "source": []
  }
 ],
 "metadata": {
  "kernelspec": {
   "display_name": "astro-two",
   "language": "python",
   "name": "python3"
  },
  "language_info": {
   "codemirror_mode": {
    "name": "ipython",
    "version": 3
   },
   "file_extension": ".py",
   "mimetype": "text/x-python",
   "name": "python",
   "nbconvert_exporter": "python",
   "pygments_lexer": "ipython3",
   "version": "3.12.3"
  },
  "vscode": {
   "interpreter": {
    "hash": "0652fbddb8f14dbb5acc595fb3c293f389575b2db40f72de3b99cc3e859b4597"
   }
  }
 },
 "nbformat": 4,
 "nbformat_minor": 2
}
