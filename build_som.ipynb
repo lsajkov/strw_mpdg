{
 "cells": [
  {
   "cell_type": "code",
   "execution_count": null,
   "metadata": {},
   "outputs": [],
   "source": [
    "import numpy as np\n",
    "import matplotlib as mpl\n",
    "import matplotlib.pyplot as plt\n",
    "\n",
    "from astropy.io import fits\n",
    "from astropy.table import Table\n",
    "\n",
    "plt.rcParams.update({\n",
    "    'font.family': 'serif',\n",
    "    'font.size': 24,\n",
    "    'axes.labelsize': 'large',\n",
    "    'mathtext.fontset': 'stix'\n",
    "})\n",
    "\n",
    "from mpdg_som import SelfOrganizingMap\n",
    "from mpdg_som_utils import SOM_LearningRateFunctions\n",
    "\n",
    "import mpdg_som_utils"
   ]
  },
  {
   "cell_type": "code",
   "execution_count": null,
   "metadata": {},
   "outputs": [],
   "source": [
    "#load in data produced in primary_targeting_region.ipynb\n",
    "cut_data_file = '/data2/lsajkov/mpdg/data_products/GAMA/GAMA_primtarg_snr100_lms6_12_25jun2024.fits'\n",
    "\n",
    "with fits.open(cut_data_file) as cat:\n",
    "    GAMA_vect_data = Table(cat[1].data)\n",
    "\n",
    "GAMA_vect_data.add_column(GAMA_vect_data['r_mag_err'], index = 4, name = 'surf_bright_r_err')"
   ]
  },
  {
   "cell_type": "code",
   "execution_count": null,
   "metadata": {},
   "outputs": [],
   "source": [
    "SOM = SelfOrganizingMap([16, 16],\n",
    "                        initialization = 'random')"
   ]
  },
  {
   "cell_type": "code",
   "execution_count": null,
   "metadata": {},
   "outputs": [],
   "source": [
    "SOM.load_data(GAMA_vect_data['r_mag', 'gr_color', 'surf_bright_r'],\n",
    "              variable_names = ['r_mag', 'gr_color', 'surf_bright_r'])"
   ]
  },
  {
   "cell_type": "code",
   "execution_count": null,
   "metadata": {},
   "outputs": [],
   "source": [
    "SOM.load_standard_deviations(GAMA_vect_data['r_mag_err', 'gr_color_err', 'surf_bright_r_err'])"
   ]
  },
  {
   "cell_type": "code",
   "execution_count": null,
   "metadata": {},
   "outputs": [],
   "source": [
    "SOM.build_SOM()"
   ]
  },
  {
   "cell_type": "code",
   "execution_count": null,
   "metadata": {},
   "outputs": [],
   "source": [
    "fig = plt.figure()\n",
    "for i, name in enumerate(SOM.variable_names):\n",
    "    ax = fig.add_subplot(1, 3, i + 1)\n",
    "    ax.imshow(SOM.SOM[:, :, i], origin = 'lower', cmap = 'Spectral')\n",
    "    ax.set_title(SOM.variable_names[i],\n",
    "                 fontsize = 12)\n",
    "    ax.axis('off')"
   ]
  },
  {
   "cell_type": "code",
   "execution_count": null,
   "metadata": {},
   "outputs": [],
   "source": [
    "random_idx = np.random.rand(*SOM.mapsize) * SOM.data_len\n",
    "random_idx = np.array(random_idx, dtype = int)"
   ]
  },
  {
   "cell_type": "code",
   "execution_count": null,
   "metadata": {},
   "outputs": [],
   "source": [
    "weight_vectors = SOM.data[random_idx]"
   ]
  },
  {
   "cell_type": "code",
   "execution_count": null,
   "metadata": {},
   "outputs": [],
   "source": [
    "distances = np.full(SOM.mapsize, np.nan)\n",
    "iteration_map = np.nditer(distances, flags = ['multi_index'])\n",
    "\n",
    "for _ in iteration_map:\n",
    "    chi_sq_dist = mpdg_som_utils.chi_sq_dist(weight_vectors[*iteration_map.multi_index],\n",
    "                                             SOM.data[45],\n",
    "                                             data_dim = 3)\n",
    "    distances[*iteration_map.multi_index] = chi_sq_dist\n",
    "\n",
    "\n",
    "argmin_idx = np.argmin(distances)\n",
    "argmin_coords = np.unravel_index(argmin_idx, SOM.mapsize)"
   ]
  },
  {
   "cell_type": "code",
   "execution_count": null,
   "metadata": {},
   "outputs": [],
   "source": [
    "np.shape(weight_vectors)[:-1]"
   ]
  },
  {
   "cell_type": "code",
   "execution_count": null,
   "metadata": {},
   "outputs": [],
   "source": [
    "distances = np.full(SOM.mapsize, np.nan)\n",
    "iteration_map = np.nditer(distances, flags = ['multi_index'])\n",
    "\n",
    "for _ in iteration_map:\n",
    "    euclid_dist = np.linalg.norm(np.array(argmin_coords) -\\\n",
    "                                 np.array(iteration_map.multi_index))\n",
    "    distances[*iteration_map.multi_index] = euclid_dist"
   ]
  },
  {
   "cell_type": "code",
   "execution_count": null,
   "metadata": {},
   "outputs": [],
   "source": [
    "argmin_coords"
   ]
  },
  {
   "cell_type": "code",
   "execution_count": null,
   "metadata": {},
   "outputs": [],
   "source": [
    "plt.imshow(np.exp(-distances**2/3))"
   ]
  },
  {
   "cell_type": "code",
   "execution_count": null,
   "metadata": {},
   "outputs": [],
   "source": [
    "count = 0\n",
    "for i, _ in enumerate(np.shape(n_dim_map)):\n",
    "    for ii in range(np.shape(n_dim_map)[i]):\n",
    "        count += 1\n",
    "        print(count)"
   ]
  },
  {
   "cell_type": "code",
   "execution_count": null,
   "metadata": {},
   "outputs": [],
   "source": [
    "[mpdg_som_utils.chi_sq_dist(weight_vector = weight_vectors[ii, jj],\n",
    "                           data_vector = SOM.data[0],\n",
    "                           data_dim = 3) for ii in ]\n",
    "mpdg_som_utils.chi_sq_dist(weight_vector = weight_vectors,\n",
    "                           data_vector = SOM.data[0],\n",
    "                           data_dim = 3)"
   ]
  },
  {
   "cell_type": "code",
   "execution_count": null,
   "metadata": {},
   "outputs": [],
   "source": [
    "if (~use_covariance) & (data_dim is not None):\n",
    "    covar_matrix = np.diagflat([1] * data_dim)\n",
    "\n",
    "elif (~use_covariance) & (data_dim is None):\n",
    "    raise(ValueError('Please pass a dimensionality for the data (number of variables).'))\n",
    "\n",
    "elif (use_covariance) & (covar_vector is None):\n",
    "    raise(ValueError('There is no covariance matrix for the given data vector!'))\n",
    "\n",
    "covar_matrix = np.diagflat(covar_vector)\n",
    "inv_covar_matrix = linalg.inv(covar_matrix)\n",
    "\n",
    "vector_difference = data_vector - weight_vector\n",
    "\n",
    "np.dot(np.dot(vector_difference, inv_covar_matrix),vector_difference)"
   ]
  },
  {
   "cell_type": "code",
   "execution_count": null,
   "metadata": {},
   "outputs": [],
   "source": [
    "for i in np.nditer"
   ]
  },
  {
   "cell_type": "code",
   "execution_count": null,
   "metadata": {},
   "outputs": [],
   "source": [
    "plt.imshow(np.ones(SOM.mapsize))"
   ]
  },
  {
   "cell_type": "markdown",
   "metadata": {},
   "source": [
    "___"
   ]
  },
  {
   "cell_type": "code",
   "execution_count": null,
   "metadata": {},
   "outputs": [],
   "source": [
    "import numpy as np\n",
    "import matplotlib as mpl\n",
    "import matplotlib.pyplot as plt\n",
    "\n",
    "from astropy.io import fits\n",
    "from astropy.table import Table\n",
    "\n",
    "from mpdg_som import SelfOrganizingMap\n",
    "from mpdg_som_utils import SOM_LearningRateFunctions\n",
    "\n",
    "import mpdg_som_utils\n",
    "#load in data produced in primary_targeting_region.ipynb\n",
    "cut_data_file = '/data2/lsajkov/mpdg/data_products/GAMA/GAMA_primtarg_snr100_lms6_12_25jun2024.fits'\n",
    "\n",
    "with fits.open(cut_data_file) as cat:\n",
    "    GAMA_vect_data = Table(cat[1].data)\n",
    "\n",
    "GAMA_vect_data = GAMA_vect_data[GAMA_vect_data['log_stellar_mass'] < 9.5]\n",
    "\n",
    "GAMA_vect_data.add_column(GAMA_vect_data['r_mag_err'], index = 4, name = 'surf_bright_r_err')\n",
    "SOM = SelfOrganizingMap([16, 16],\n",
    "                        initialization = 'random')\n",
    "SOM.load_data(GAMA_vect_data['r_mag', 'gr_color', 'surf_bright_r'],\n",
    "              variable_names = ['r_mag', 'gr_color', 'surf_bright_r'])\n",
    "SOM.load_standard_deviations(GAMA_vect_data['r_mag_err', 'gr_color_err', 'surf_bright_r_err'])\n",
    "SOM.build_SOM()\n",
    "random_idx = np.random.rand(*SOM.mapsize) * SOM.data_len\n",
    "random_idx = np.array(random_idx, dtype = int)\n",
    "weight_vectors = SOM.data[random_idx]"
   ]
  },
  {
   "cell_type": "code",
   "execution_count": null,
   "metadata": {},
   "outputs": [],
   "source": [
    "step0_weights = weight_vectors.copy()"
   ]
  },
  {
   "cell_type": "code",
   "execution_count": null,
   "metadata": {},
   "outputs": [],
   "source": [
    "step = 1\n",
    "step1_weights = mpdg_som_utils.training_step(step0_weights,\n",
    "                                             SOM.data[0],\n",
    "                                             SOM.variances[0],\n",
    "                                             step,\n",
    "                                             mpdg_som_utils.SOM_LearningRateFunctions.power_law_lrf,\n",
    "                                             (1000, 0.5),\n",
    "                                             mpdg_som_utils.SOM_NeighborhoodFunctions.gaussian_nbh,\n",
    "                                             (SOM.mapsize, 2))\n"
   ]
  },
  {
   "cell_type": "code",
   "execution_count": null,
   "metadata": {},
   "outputs": [],
   "source": [
    "step = 1\n",
    "step1_weights = step0_weights\n",
    "for index in range(SOM.data_len):\n",
    "    step1_weights = mpdg_som_utils.training_step(step1_weights,\n",
    "                                                 SOM.data[index],\n",
    "                                                 SOM.variances[index],\n",
    "                                                 step,\n",
    "                                                 mpdg_som_utils.SOM_LearningRateFunctions.power_law_lrf,\n",
    "                                                 (1000, 0.5),\n",
    "                                                 mpdg_som_utils.SOM_NeighborhoodFunctions.gaussian_nbh,\n",
    "                                                 (SOM.mapsize, 2))"
   ]
  },
  {
   "cell_type": "code",
   "execution_count": null,
   "metadata": {},
   "outputs": [],
   "source": [
    "fig = plt.figure()\n",
    "for i, name in enumerate(SOM.variable_names):\n",
    "    ax = fig.add_subplot(1, 3, i + 1)\n",
    "    ax.imshow(step0_weights[:, :, i], origin = 'lower', cmap = 'Spectral')\n",
    "    ax.set_title(SOM.variable_names[i],\n",
    "                 fontsize = 12)\n",
    "    ax.axis('off')"
   ]
  },
  {
   "cell_type": "code",
   "execution_count": null,
   "metadata": {},
   "outputs": [],
   "source": [
    "fig = plt.figure()\n",
    "for i, name in enumerate(SOM.variable_names):\n",
    "    ax = fig.add_subplot(1, 3, i + 1)\n",
    "    ax.imshow(step1_weights[:, :, i], origin = 'lower', cmap = 'Spectral')\n",
    "    ax.set_title(SOM.variable_names[i],\n",
    "                 fontsize = 12)\n",
    "    ax.axis('off')"
   ]
  },
  {
   "cell_type": "code",
   "execution_count": null,
   "metadata": {},
   "outputs": [],
   "source": [
    "np.max(step1_weights - step0_weights)"
   ]
  },
  {
   "cell_type": "markdown",
   "metadata": {},
   "source": [
    "___"
   ]
  },
  {
   "cell_type": "code",
   "execution_count": 1,
   "metadata": {},
   "outputs": [],
   "source": [
    "import numpy as np\n",
    "import matplotlib as mpl\n",
    "import matplotlib.pyplot as plt\n",
    "\n",
    "from astropy.io import fits\n",
    "from astropy.table import Table\n",
    "\n",
    "from mpdg_som import SelfOrganizingMap"
   ]
  },
  {
   "cell_type": "code",
   "execution_count": 2,
   "metadata": {},
   "outputs": [],
   "source": [
    "#load in data produced in primary_targeting_region.ipynb\n",
    "cut_data_file = '/data2/lsajkov/mpdg/data_products/GAMA/GAMA_primtarg_snr100_lms6_12_25jun2024.fits'\n",
    "\n",
    "with fits.open(cut_data_file) as cat:\n",
    "    GAMA_vect_data = Table(cat[1].data)\n",
    "\n",
    "GAMA_vect_data = GAMA_vect_data[GAMA_vect_data['log_stellar_mass'] < 9.5]\n",
    "\n",
    "GAMA_vect_data.add_column(GAMA_vect_data['r_mag_err'], index = 4, name = 'surf_bright_r_err')"
   ]
  },
  {
   "cell_type": "code",
   "execution_count": 3,
   "metadata": {},
   "outputs": [],
   "source": [
    "input_data = GAMA_vect_data['r_mag', 'gr_color', 'surf_bright_r']\n",
    "input_vars = GAMA_vect_data['r_mag_err', 'gr_color_err', 'surf_bright_r_err']"
   ]
  },
  {
   "cell_type": "code",
   "execution_count": 4,
   "metadata": {},
   "outputs": [],
   "source": [
    "normalization_params = {}\n",
    "\n",
    "for variable in input_data.keys():\n",
    "    normalization_params[variable] = {}\n",
    "\n",
    "    normalization_params[variable]['mean'] = np.mean(GAMA_vect_data[variable])\n",
    "    normalization_params[variable]['std']  = np.std(GAMA_vect_data[variable])"
   ]
  },
  {
   "cell_type": "code",
   "execution_count": 5,
   "metadata": {},
   "outputs": [],
   "source": [
    "normalized_input_data = input_data.copy()\n",
    "for variable in input_data.keys():\n",
    "    \n",
    "    normalized_input_data[variable] -= normalization_params[variable]['mean']\n",
    "    normalized_input_data[variable] /= normalization_params[variable]['std']"
   ]
  },
  {
   "cell_type": "code",
   "execution_count": 17,
   "metadata": {},
   "outputs": [],
   "source": [
    "SOM = SelfOrganizingMap([32, 32],\n",
    "                        initialization = 'random')\n",
    "\n",
    "SOM.load_data(normalized_input_data,\n",
    "              variable_names = ['r_mag', 'gr_color', 'surf_bright_r'])\n",
    "\n",
    "SOM.load_standard_deviations(input_vars)\n",
    "\n",
    "SOM.build_SOM()"
   ]
  },
  {
   "cell_type": "code",
   "execution_count": 18,
   "metadata": {},
   "outputs": [
    {
     "name": "stdout",
     "output_type": "stream",
     "text": [
      "| Data statistics \n",
      "stat\tr_mag\tgr_color\tsurf_bright_r\t\n",
      "min\t-10.677\t-4.797\t-4.918\t\n",
      "max\t2.086\t3.339\t3.399\t\n",
      "mean\t-0.000\t0.000\t0.000\t\n",
      "median\t0.162\t-0.004\t-0.093\t\n",
      "std\t1.000\t1.000\t1.000\t| Initial SOM. Step 0. Random initialization.\n"
     ]
    },
    {
     "data": {
      "image/png": "[encoded data removed]",
      "text/plain": [
       "<Figure size 640x480 with 3 Axes>"
      ]
     },
     "metadata": {},
     "output_type": "display_data"
    }
   ],
   "source": [
    "SOM.data_statistics()\n",
    "\n",
    "print('| Initial SOM. Step 0. Random initialization.')\n",
    "fig = plt.figure()\n",
    "for i, name in enumerate(SOM.variable_names):\n",
    "    ax = fig.add_subplot(1, 3, i + 1)\n",
    "    ax.imshow(SOM.weights_map[..., i], origin = 'lower', cmap = 'Spectral')\n",
    "    ax.set_title(SOM.variable_names[i],\n",
    "                 fontsize = 12)\n",
    "    ax.axis('off')"
   ]
  },
  {
   "cell_type": "code",
   "execution_count": 10,
   "metadata": {},
   "outputs": [],
   "source": [
    "SOM.train()"
   ]
  },
  {
   "cell_type": "code",
   "execution_count": 15,
   "metadata": {},
   "outputs": [
    {
     "name": "stdout",
     "output_type": "stream",
     "text": [
      "| SOM after training. Step 0.\n"
     ]
    },
    {
     "data": {
      "image/png": "[encoded data removed]",
      "text/plain": [
       "<Figure size 640x480 with 3 Axes>"
      ]
     },
     "metadata": {},
     "output_type": "display_data"
    }
   ],
   "source": [
    "print(f'| SOM after training. Step {SOM.step}.')\n",
    "fig = plt.figure()\n",
    "for i, name in enumerate(SOM.variable_names):\n",
    "    ax = fig.add_subplot(1, 3, i + 1)\n",
    "    ax.imshow(SOM.weights_map[..., i], origin = 'lower', cmap = 'Spectral')\n",
    "    ax.set_title(SOM.variable_names[i],\n",
    "                 fontsize = 12)\n",
    "    ax.axis('off')"
   ]
  },
  {
   "cell_type": "markdown",
   "metadata": {},
   "source": [
    "___"
   ]
  },
  {
   "cell_type": "markdown",
   "metadata": {},
   "source": [
    "Build PCA method"
   ]
  },
  {
   "cell_type": "code",
   "execution_count": 9,
   "metadata": {},
   "outputs": [
    {
     "data": {
      "text/plain": [
       "array([[ 0.69933456,  1.5279884 ,  0.03149773],\n",
       "       [ 1.7813506 , -0.715786  ,  0.70646036],\n",
       "       [ 0.40360832,  0.14115848,  0.20719843],\n",
       "       ...,\n",
       "       [ 1.2332578 ,  0.48225603,  0.16749431],\n",
       "       [-0.09902429,  0.3569027 ,  0.4579132 ],\n",
       "       [ 0.64233345, -1.325182  ,  0.06686844]], dtype=float32)"
      ]
     },
     "execution_count": 9,
     "metadata": {},
     "output_type": "execute_result"
    }
   ],
   "source": [
    "SOM.data"
   ]
  },
  {
   "cell_type": "code",
   "execution_count": 10,
   "metadata": {},
   "outputs": [],
   "source": [
    "covar_matrix = np.cov(SOM.data, \n",
    "                      rowvar = False)\n",
    "eig_res = np.linalg.eig(covar_matrix)\n",
    "\n",
    "map_dimensionality = len(SOM.mapsize)\n",
    "\n",
    "eigenvalues, eigenvectors = np.linalg.eig(covar_matrix)\n",
    "pca_indices = eigenvalues.argsort()[-map_dimensionality:]\n",
    "pca_vectors = eigenvectors[pca_indices]\n",
    "\n",
    "principal_components = np.array([np.dot(SOM.data, pca_vector)\\\n",
    "                                 for pca_vector in pca_vectors])"
   ]
  },
  {
   "cell_type": "code",
   "execution_count": 11,
   "metadata": {},
   "outputs": [
    {
     "ename": "SyntaxError",
     "evalue": "invalid syntax (2390220747.py, line 7)",
     "output_type": "error",
     "traceback": [
      "\u001b[0;36m  Cell \u001b[0;32mIn[11], line 7\u001b[0;36m\u001b[0m\n\u001b[0;31m    weight_map[:, :, ii] =\u001b[0m\n\u001b[0m                           ^\u001b[0m\n\u001b[0;31mSyntaxError\u001b[0m\u001b[0;31m:\u001b[0m invalid syntax\n"
     ]
    }
   ],
   "source": [
    "weight_map = np.full(SOM.SOM, np.nan)\n",
    "pca_map = np.meshgrid(*[np.linspace(np.min(principal_components[ii]),\n",
    "                                    np.max(principal_components[ii]),\n",
    "                                    SOM.mapsize[ii]) for ii in range(map_dimensionality)])\n",
    "\n",
    "for ii in range(map_dimensionality):\n",
    "    weight_map[..., ii] = "
   ]
  },
  {
   "cell_type": "code",
   "execution_count": 14,
   "metadata": {},
   "outputs": [
    {
     "ename": "NameError",
     "evalue": "name 'pca_map' is not defined",
     "output_type": "error",
     "traceback": [
      "\u001b[0;31m---------------------------------------------------------------------------\u001b[0m",
      "\u001b[0;31mNameError\u001b[0m                                 Traceback (most recent call last)",
      "Cell \u001b[0;32mIn[14], line 1\u001b[0m\n\u001b[0;32m----> 1\u001b[0m plt\u001b[38;5;241m.\u001b[39mimshow(pca_map[\u001b[38;5;241m0\u001b[39m])\n\u001b[1;32m      2\u001b[0m plt\u001b[38;5;241m.\u001b[39mcolorbar()\n",
      "\u001b[0;31mNameError\u001b[0m: name 'pca_map' is not defined"
     ]
    }
   ],
   "source": [
    "plt.imshow(pca_map[0])\n",
    "plt.colorbar()"
   ]
  },
  {
   "cell_type": "code",
   "execution_count": 112,
   "metadata": {},
   "outputs": [
    {
     "data": {
      "text/plain": [
       "array([[-0.26753794,  0.02523639,  0.96321679],\n",
       "       [ 0.67913753, -0.7041936 ,  0.20708355]])"
      ]
     },
     "execution_count": 112,
     "metadata": {},
     "output_type": "execute_result"
    }
   ],
   "source": [
    "pca_vectors"
   ]
  },
  {
   "cell_type": "code",
   "execution_count": 111,
   "metadata": {},
   "outputs": [
    {
     "data": {
      "text/plain": [
       "array([[-0.11819848,  0.18583175,  0.09515879, ..., -0.15643951,\n",
       "         0.47656936, -0.14088257],\n",
       "       [-0.59453267,  1.86013027,  0.21761005, ...,  0.53263534,\n",
       "        -0.22375341,  1.38326476]])"
      ]
     },
     "execution_count": 111,
     "metadata": {},
     "output_type": "execute_result"
    }
   ],
   "source": [
    "principal_components"
   ]
  },
  {
   "cell_type": "code",
   "execution_count": 109,
   "metadata": {},
   "outputs": [
    {
     "data": {
      "text/plain": [
       "[array([[-3.46252653, -3.23776775, -3.01300897, ...,  3.05547798,\n",
       "          3.28023676,  3.50499553],\n",
       "        [-3.46252653, -3.23776775, -3.01300897, ...,  3.05547798,\n",
       "          3.28023676,  3.50499553],\n",
       "        [-3.46252653, -3.23776775, -3.01300897, ...,  3.05547798,\n",
       "          3.28023676,  3.50499553],\n",
       "        ...,\n",
       "        [-3.46252653, -3.23776775, -3.01300897, ...,  3.05547798,\n",
       "          3.28023676,  3.50499553],\n",
       "        [-3.46252653, -3.23776775, -3.01300897, ...,  3.05547798,\n",
       "          3.28023676,  3.50499553],\n",
       "        [-3.46252653, -3.23776775, -3.01300897, ...,  3.05547798,\n",
       "          3.28023676,  3.50499553]]),\n",
       " array([[-8.69949625, -8.69949625, -8.69949625, ..., -8.69949625,\n",
       "         -8.69949625, -8.69949625],\n",
       "        [-8.31691229, -8.31691229, -8.31691229, ..., -8.31691229,\n",
       "         -8.31691229, -8.31691229],\n",
       "        [-7.93432832, -7.93432832, -7.93432832, ..., -7.93432832,\n",
       "         -7.93432832, -7.93432832],\n",
       "        ...,\n",
       "        [ 2.39543883,  2.39543883,  2.39543883, ...,  2.39543883,\n",
       "          2.39543883,  2.39543883],\n",
       "        [ 2.7780228 ,  2.7780228 ,  2.7780228 , ...,  2.7780228 ,\n",
       "          2.7780228 ,  2.7780228 ],\n",
       "        [ 3.16060677,  3.16060677,  3.16060677, ...,  3.16060677,\n",
       "          3.16060677,  3.16060677]])]"
      ]
     },
     "execution_count": 109,
     "metadata": {},
     "output_type": "execute_result"
    }
   ],
   "source": [
    "np.meshgrid(np.linspace(np.min(principal_components[0]), np.max(principal_components[0]), SOM.mapsize[0]),\n",
    "            np.linspace(np.min(principal_components[1]), np.max(principal_components[1]), SOM.mapsize[1]))"
   ]
  },
  {
   "cell_type": "code",
   "execution_count": 106,
   "metadata": {},
   "outputs": [
    {
     "data": {
      "text/plain": [
       "array([-3.46252653, -3.24887706, -3.0352276 , -2.82157814, -2.60792868,\n",
       "       -2.39427922, -2.18062976, -1.9669803 , -1.75333084, -1.53968137,\n",
       "       -1.32603191, -1.11238245, -0.89873299, -0.68508353, -0.47143407,\n",
       "       -0.25778461, -0.04413515,  0.16951431,  0.38316378,  0.59681324,\n",
       "        0.8104627 ,  1.02411216,  1.23776162,  1.45141108,  1.66506054,\n",
       "        1.87871   ,  2.09235946,  2.30600893,  2.51965839,  2.73330785,\n",
       "        2.94695731,  3.16060677])"
      ]
     },
     "execution_count": 106,
     "metadata": {},
     "output_type": "execute_result"
    }
   ],
   "source": [
    "np.linspace(np.min(principal_components[0]), np.max(principal_components[1]), SOM.mapsize[0])"
   ]
  },
  {
   "cell_type": "code",
   "execution_count": 99,
   "metadata": {},
   "outputs": [
    {
     "data": {
      "text/plain": [
       "3.5049955322846156"
      ]
     },
     "execution_count": 99,
     "metadata": {},
     "output_type": "execute_result"
    }
   ],
   "source": [
    "np.min(principal_components[0])\n",
    "np.max(principal_components[0])"
   ]
  },
  {
   "cell_type": "code",
   "execution_count": 86,
   "metadata": {},
   "outputs": [
    {
     "data": {
      "text/plain": [
       "array([-0.11819848,  0.18583175,  0.09515879, ..., -0.15643951,\n",
       "        0.47656936, -0.14088257])"
      ]
     },
     "execution_count": 86,
     "metadata": {},
     "output_type": "execute_result"
    }
   ],
   "source": [
    "np.dot(SOM.data, pca_vectors[0])"
   ]
  },
  {
   "cell_type": "code",
   "execution_count": null,
   "metadata": {},
   "outputs": [],
   "source": [
    "var0_init = np.full(SOM.mapsize, np.nan)\n",
    "\n",
    "for ii in SOM.mapsize[0]:\n",
    "    for jj in SOM.mapsize[1]:\n",
    "        var0_init[ii, jj] =         "
   ]
  },
  {
   "cell_type": "code",
   "execution_count": null,
   "metadata": {},
   "outputs": [],
   "source": [
    "SOM.SOM"
   ]
  },
  {
   "cell_type": "code",
   "execution_count": 68,
   "metadata": {},
   "outputs": [
    {
     "data": {
      "text/plain": [
       "array([2, 1])"
      ]
     },
     "execution_count": 68,
     "metadata": {},
     "output_type": "execute_result"
    }
   ],
   "source": [
    "pca_indices"
   ]
  },
  {
   "cell_type": "code",
   "execution_count": 31,
   "metadata": {},
   "outputs": [
    {
     "data": {
      "text/plain": [
       "2"
      ]
     },
     "execution_count": 31,
     "metadata": {},
     "output_type": "execute_result"
    }
   ],
   "source": [
    "len(SOM.mapsize)"
   ]
  },
  {
   "cell_type": "code",
   "execution_count": 29,
   "metadata": {},
   "outputs": [
    {
     "data": {
      "text/plain": [
       "array([0.88904633, 1.10317709, 1.00888849])"
      ]
     },
     "execution_count": 29,
     "metadata": {},
     "output_type": "execute_result"
    }
   ],
   "source": [
    "eig_res.eigenvalues"
   ]
  },
  {
   "cell_type": "code",
   "execution_count": 19,
   "metadata": {},
   "outputs": [
    {
     "data": {
      "text/plain": [
       "array([1, 2, 0])"
      ]
     },
     "execution_count": 19,
     "metadata": {},
     "output_type": "execute_result"
    }
   ],
   "source": [
    "eig_res.eigenvalues.argsort()[::-1]"
   ]
  },
  {
   "cell_type": "code",
   "execution_count": 20,
   "metadata": {},
   "outputs": [],
   "source": [
    "eigvecs = eig_res.eigenvectors"
   ]
  },
  {
   "cell_type": "code",
   "execution_count": 24,
   "metadata": {},
   "outputs": [
    {
     "data": {
      "text/plain": [
       "1.0"
      ]
     },
     "execution_count": 24,
     "metadata": {},
     "output_type": "execute_result"
    }
   ],
   "source": [
    "np.linalg.norm(eigvecs[2])"
   ]
  },
  {
   "cell_type": "code",
   "execution_count": 25,
   "metadata": {},
   "outputs": [
    {
     "data": {
      "text/plain": [
       "[32, 32]"
      ]
     },
     "execution_count": 25,
     "metadata": {},
     "output_type": "execute_result"
    }
   ],
   "source": [
    "SOM.mapsize"
   ]
  },
  {
   "cell_type": "code",
   "execution_count": null,
   "metadata": {},
   "outputs": [],
   "source": []
  },
  {
   "cell_type": "code",
   "execution_count": null,
   "metadata": {},
   "outputs": [],
   "source": []
  }
 ],
 "metadata": {
  "kernelspec": {
   "display_name": "astro-two",
   "language": "python",
   "name": "python3"
  },
  "language_info": {
   "codemirror_mode": {
    "name": "ipython",
    "version": 3
   },
   "file_extension": ".py",
   "mimetype": "text/x-python",
   "name": "python",
   "nbconvert_exporter": "python",
   "pygments_lexer": "ipython3",
   "version": "3.12.3"
  },
  "vscode": {
   "interpreter": {
    "hash": "0652fbddb8f14dbb5acc595fb3c293f389575b2db40f72de3b99cc3e859b4597"
   }
  }
 },
 "nbformat": 4,
 "nbformat_minor": 2
}
