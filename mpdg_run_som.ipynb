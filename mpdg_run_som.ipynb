{
 "cells": [
  {
   "cell_type": "markdown",
   "metadata": {},
   "source": [
    "## Run the Self-Organizing Map\n",
    "___"
   ]
  },
  {
   "cell_type": "markdown",
   "metadata": {},
   "source": [
    "First, load the data"
   ]
  },
  {
   "cell_type": "code",
   "execution_count": 1,
   "metadata": {},
   "outputs": [],
   "source": [
    "from astropy.io import fits\n",
    "from astropy.table import Table\n",
    "\n",
    "import numpy as np"
   ]
  },
  {
   "cell_type": "code",
   "execution_count": null,
   "metadata": {},
   "outputs": [],
   "source": [
    "#Load in data produced in primary_targeting_region.ipynb\n",
    "cut_data_file = '/data2/lsajkov/mpdg/data_products/GAMA/GAMA_primtarg_snr100_lms6_12_25jun2024.fits'\n",
    "\n",
    "with fits.open(cut_data_file) as cat:\n",
    "    GAMA_vect_data = Table(cat[1].data)\n",
    "\n",
    "GAMA_vect_data.add_column(GAMA_vect_data['r_mag_err'], index = 4, name = 'surf_bright_r_err')"
   ]
  },
  {
   "cell_type": "code",
   "execution_count": null,
   "metadata": {},
   "outputs": [],
   "source": [
    "#Select the needed data\n",
    "input_data = GAMA_vect_data['r_mag', 'gr_color', 'surf_bright_r']\n",
    "input_stds = GAMA_vect_data['r_mag_err', 'gr_color_err', 'surf_bright_r_err']\n",
    "\n",
    "input_labels = GAMA_vect_data['log_stellar_mass', 'redshift']\n",
    "\n",
    "tuple_labels = input_labels.as_array()\n",
    "list_labels = [list(values) for values in tuple_labels]\n",
    "input_labels = np.array(list_labels)"
   ]
  },
  {
   "cell_type": "code",
   "execution_count": null,
   "metadata": {},
   "outputs": [],
   "source": [
    "#Normalize the data to mean 0, unit variance\n",
    "normalization_params = {}\n",
    "\n",
    "for variable in input_data.keys():\n",
    "    normalization_params[variable] = {}\n",
    "\n",
    "    normalization_params[variable]['mean'] = np.mean(GAMA_vect_data[variable])\n",
    "    normalization_params[variable]['std']  = np.std(GAMA_vect_data[variable])\n",
    "\n",
    "\n",
    "normalized_input_data = input_data.copy()\n",
    "for variable in input_data.keys():\n",
    "    \n",
    "    normalized_input_data[variable] -= normalization_params[variable]['mean']\n",
    "    normalized_input_data[variable] /= normalization_params[variable]['std']"
   ]
  },
  {
   "cell_type": "markdown",
   "metadata": {},
   "source": [
    "___"
   ]
  },
  {
   "cell_type": "markdown",
   "metadata": {},
   "source": [
    "Initialize the SOM"
   ]
  },
  {
   "cell_type": "code",
   "execution_count": null,
   "metadata": {},
   "outputs": [],
   "source": [
    "from mpdg_som import SelfOrganizingMap"
   ]
  },
  {
   "cell_type": "code",
   "execution_count": null,
   "metadata": {},
   "outputs": [],
   "source": [
    "#Set parameters\n",
    "name = 'mass_profile_dwarf_galaxies' #name of the SOM\n",
    "\n",
    "mapsize   = [16, 16] #size of the map. pass as a list of dimensions OR as an integer (also pass number of dimensions)\n",
    "dimension = None\n",
    "\n",
    "initialization         = 'pca' #random or pca (principal component analysis)\n",
    "termination            = 'maximum_steps' #when to stop learning. maximum_steps = stop when maximum_steps have elapsed. error_thresh = stop when the error is below this threshold.\n",
    "learning_rate_function = 'power_law' #which learning rate function to use. currently implemented: power_law\n",
    "neighborhood_function  = 'gaussian' #which neighborhood function to use. currently implemented: gaussian\n",
    "error_estimator        = None #which error estimation function to use. currently implemented: max_misalignment\n",
    "\n",
    "learning_rate = 0.5 #used to adjust the learning rate function\n",
    "maximum_steps = 100 #used to adjust the learning rate and neighborhood functions\n",
    "error_thresh  = None #used to stop the SOM if termination = 'error thresh'"
   ]
  },
  {
   "cell_type": "code",
   "execution_count": null,
   "metadata": {},
   "outputs": [],
   "source": [
    "#Declare the SOM\n",
    "SOM = SelfOrganizingMap(\n",
    "    name                   = name,\n",
    "    mapsize                = mapsize,\n",
    "    initialization         = initialization,\n",
    "    termination            = termination,\n",
    "    learning_rate_function = learning_rate_function,\n",
    "    neighborhood_function  = neighborhood_function,\n",
    "    learning_rate          = learning_rate,\n",
    "    maximum_steps          = maximum_steps\n",
    ")"
   ]
  },
  {
   "cell_type": "code",
   "execution_count": null,
   "metadata": {},
   "outputs": [],
   "source": [
    "#Load the data & its stds. Check the statistics to make sure it's normalized.\n",
    "data_cut = 1000 #use up to this much of the data\n",
    "SOM.load_data(normalized_input_data[:data_cut],\n",
    "              variable_names = ['r_mag', 'gr_color', 'surf_bright_r'])\n",
    "SOM.load_standard_deviations(input_stds[:data_cut])\n",
    "SOM.data_statistics()"
   ]
  },
  {
   "cell_type": "code",
   "execution_count": null,
   "metadata": {},
   "outputs": [],
   "source": [
    "#Initialize the SOM\n",
    "SOM.build_SOM()"
   ]
  },
  {
   "cell_type": "code",
   "execution_count": null,
   "metadata": {},
   "outputs": [],
   "source": [
    "#Visualize SOM before training\n",
    "SOM.show_map()"
   ]
  },
  {
   "cell_type": "code",
   "execution_count": null,
   "metadata": {},
   "outputs": [],
   "source": [
    "#Train the som\n",
    "SOM.train()"
   ]
  },
  {
   "cell_type": "code",
   "execution_count": null,
   "metadata": {},
   "outputs": [],
   "source": [
    "#Visualize the SOM after training\n",
    "SOM.show_map()"
   ]
  },
  {
   "cell_type": "code",
   "execution_count": null,
   "metadata": {},
   "outputs": [],
   "source": [
    "#Label the cells in the map with external parameters. Visualize the labeled map.\n",
    "SOM.label_map(input_labels[:data_cut],\n",
    "              parameter_names = ['log_mstar', 'redshift'])\n",
    "SOM.show_map(show_labeled = True)"
   ]
  },
  {
   "cell_type": "code",
   "execution_count": null,
   "metadata": {},
   "outputs": [],
   "source": []
  }
 ],
 "metadata": {
  "kernelspec": {
   "display_name": "mpdg",
   "language": "python",
   "name": "python3"
  },
  "language_info": {
   "codemirror_mode": {
    "name": "ipython",
    "version": 3
   },
   "file_extension": ".py",
   "mimetype": "text/x-python",
   "name": "python",
   "nbconvert_exporter": "python",
   "pygments_lexer": "ipython3",
   "version": "3.12.3"
  }
 },
 "nbformat": 4,
 "nbformat_minor": 2
}
