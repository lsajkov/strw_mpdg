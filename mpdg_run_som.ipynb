{
 "cells": [
  {
   "cell_type": "markdown",
   "metadata": {},
   "source": [
    "## Run the Self-Organizing Map\n",
    "___"
   ]
  },
  {
   "cell_type": "markdown",
   "metadata": {},
   "source": [
    "First, load the data"
   ]
  },
  {
   "cell_type": "code",
   "execution_count": 1,
   "metadata": {},
   "outputs": [],
   "source": [
    "from astropy.io import fits\n",
    "from astropy.table import Table\n",
    "\n",
    "import numpy as np"
   ]
  },
  {
   "cell_type": "code",
   "execution_count": 2,
   "metadata": {},
   "outputs": [],
   "source": [
    "#Load in data produced in primary_targeting_region.ipynb\n",
    "cut_data_file = '/data2/lsajkov/mpdg/data_products/GAMA/GAMA_primtarg_snr100_lms6_12_25jun2024.fits'\n",
    "\n",
    "with fits.open(cut_data_file) as cat:\n",
    "    GAMA_vect_data = Table(cat[1].data)\n",
    "\n",
    "GAMA_vect_data.add_column(GAMA_vect_data['r_mag_err'], index = 4, name = 'surf_bright_r_err')"
   ]
  },
  {
   "cell_type": "code",
   "execution_count": 3,
   "metadata": {},
   "outputs": [],
   "source": [
    "#Select the needed data\n",
    "input_data = GAMA_vect_data['r_mag', 'gr_color', 'surf_bright_r']\n",
    "input_stds = GAMA_vect_data['r_mag_err', 'gr_color_err', 'surf_bright_r_err']\n",
    "\n",
    "input_labels = GAMA_vect_data['log_stellar_mass', 'redshift']\n",
    "\n",
    "tuple_labels = input_labels.as_array()\n",
    "list_labels = [list(values) for values in tuple_labels]\n",
    "input_labels = np.array(list_labels)"
   ]
  },
  {
   "cell_type": "code",
   "execution_count": 4,
   "metadata": {},
   "outputs": [],
   "source": [
    "#Normalize the data to mean 0, unit variance\n",
    "normalization_params = {}\n",
    "\n",
    "for variable in input_data.keys():\n",
    "    normalization_params[variable] = {}\n",
    "\n",
    "    normalization_params[variable]['mean'] = np.mean(GAMA_vect_data[variable])\n",
    "    normalization_params[variable]['std']  = np.std(GAMA_vect_data[variable])\n",
    "\n",
    "\n",
    "normalized_input_data = input_data.copy()\n",
    "for variable in input_data.keys():\n",
    "    \n",
    "    normalized_input_data[variable] -= normalization_params[variable]['mean']\n",
    "    normalized_input_data[variable] /= normalization_params[variable]['std']"
   ]
  },
  {
   "cell_type": "markdown",
   "metadata": {},
   "source": [
    "___"
   ]
  },
  {
   "cell_type": "markdown",
   "metadata": {},
   "source": [
    "Initialize the SOM"
   ]
  },
  {
   "cell_type": "code",
   "execution_count": 5,
   "metadata": {},
   "outputs": [],
   "source": [
    "from mpdg_som import SelfOrganizingMap"
   ]
  },
  {
   "cell_type": "code",
   "execution_count": 6,
   "metadata": {},
   "outputs": [],
   "source": [
    "#Set parameters\n",
    "name = 'mass_profile_dwarf_galaxies' #name of the SOM\n",
    "\n",
    "mapsize   = [5, 5] #size of the map. pass as a list of dimensions OR as an integer (also pass number of dimensions)\n",
    "dimension = None\n",
    "\n",
    "initialization         = 'pca' #random or pca (principal component analysis)\n",
    "termination            = 'maximum_steps' #when to stop learning. maximum_steps = stop when maximum_steps have elapsed. error_thresh = stop when the error is below this threshold.\n",
    "learning_rate_function = 'power_law' #which learning rate function to use. currently implemented: power_law\n",
    "neighborhood_function  = 'gaussian' #which neighborhood function to use. currently implemented: gaussian\n",
    "error_estimator        = None #which error estimation function to use. currently implemented: max_misalignment\n",
    "\n",
    "learning_rate = 0.5 #used to adjust the learning rate function\n",
    "maximum_steps = 5 #used to adjust the learning rate and neighborhood functions\n",
    "error_thresh  = None #used to stop the SOM if termination = 'error thresh'"
   ]
  },
  {
   "cell_type": "code",
   "execution_count": 7,
   "metadata": {},
   "outputs": [],
   "source": [
    "#Declare the SOM\n",
    "SOM = SelfOrganizingMap(\n",
    "    name                   = name,\n",
    "    mapsize                = mapsize,\n",
    "    initialization         = initialization,\n",
    "    termination            = termination,\n",
    "    learning_rate_function = learning_rate_function,\n",
    "    neighborhood_function  = neighborhood_function,\n",
    "    learning_rate          = learning_rate,\n",
    "    maximum_steps          = maximum_steps\n",
    ")"
   ]
  },
  {
   "cell_type": "code",
   "execution_count": 8,
   "metadata": {},
   "outputs": [
    {
     "name": "stdout",
     "output_type": "stream",
     "text": [
      "| Data statistics \n",
      "stat\tr_mag\tgr_color\tsurf_bright_r\t\n",
      "min\t-5.449\t-2.165\t-2.739\t\n",
      "max\t1.767\t2.482\t3.342\t\n",
      "mean\t-0.482\t0.302\t-0.131\t\n",
      "median\t0.038\t0.310\t-0.031\t\n",
      "std\t1.600\t1.003\t1.260\t"
     ]
    }
   ],
   "source": [
    "#Load the data & its stds. Check the statistics to make sure it's normalized.\n",
    "data_cut = 100 #use up to this much of the data\n",
    "SOM.load_data(normalized_input_data[:data_cut],\n",
    "              variable_names = ['r_mag', 'gr_color', 'surf_bright_r'])\n",
    "SOM.load_standard_deviations(input_stds[:data_cut])\n",
    "SOM.data_statistics()"
   ]
  },
  {
   "cell_type": "code",
   "execution_count": 9,
   "metadata": {},
   "outputs": [],
   "source": [
    "#Initialize the SOM\n",
    "SOM.build_SOM()"
   ]
  },
  {
   "cell_type": "code",
   "execution_count": 10,
   "metadata": {},
   "outputs": [
    {
     "data": {
      "text/plain": [
       "(2,)"
      ]
     },
     "execution_count": 10,
     "metadata": {},
     "output_type": "execute_result"
    }
   ],
   "source": [
    "np.shape(SOM.mapsize)"
   ]
  },
  {
   "cell_type": "code",
   "execution_count": 11,
   "metadata": {},
   "outputs": [
    {
     "name": "stdout",
     "output_type": "stream",
     "text": [
      "\n",
      "| SOM. Step 0. Initialization: pca\n"
     ]
    },
    {
     "data": {
      "image/png": "[encoded data removed]",
      "text/plain": [
       "<Figure size 1500x1000 with 6 Axes>"
      ]
     },
     "metadata": {},
     "output_type": "display_data"
    }
   ],
   "source": [
    "#Visualize SOM before training\n",
    "SOM.show_map()"
   ]
  },
  {
   "cell_type": "code",
   "execution_count": 12,
   "metadata": {},
   "outputs": [
    {
     "data": {
      "text/plain": [
       "0"
      ]
     },
     "execution_count": 12,
     "metadata": {},
     "output_type": "execute_result"
    }
   ],
   "source": [
    "SOM.error_thresh"
   ]
  },
  {
   "cell_type": "code",
   "execution_count": 13,
   "metadata": {},
   "outputs": [
    {
     "name": "stdout",
     "output_type": "stream",
     "text": [
      "Step 1 complete. Error: 30.580\n",
      "Step 2 complete. Error: 31.615\n",
      "Step 3 complete. Error: 30.645\n",
      "Step 4 complete. Error: 18.630\n",
      "Step 5 complete. Error: 31.701\n",
      "SOM converged at step 5 to error 31.70051295417174\n"
     ]
    }
   ],
   "source": [
    "#Train the som\n",
    "SOM.train()"
   ]
  },
  {
   "cell_type": "code",
   "execution_count": 14,
   "metadata": {},
   "outputs": [
    {
     "name": "stdout",
     "output_type": "stream",
     "text": [
      "\n",
      "| SOM. Step 5. Initialization: pca\n"
     ]
    },
    {
     "data": {
      "image/png": "[encoded data removed]",
      "text/plain": [
       "<Figure size 1500x1000 with 6 Axes>"
      ]
     },
     "metadata": {},
     "output_type": "display_data"
    }
   ],
   "source": [
    "#Visualize the SOM after training\n",
    "SOM.show_map()"
   ]
  },
  {
   "cell_type": "code",
   "execution_count": 15,
   "metadata": {},
   "outputs": [
    {
     "name": "stdout",
     "output_type": "stream",
     "text": [
      "\n",
      "| SOM. Step 5. Initialization: pca\n"
     ]
    },
    {
     "data": {
      "image/png": "[encoded data removed]",
      "text/plain": [
       "<Figure size 1500x1000 with 4 Axes>"
      ]
     },
     "metadata": {},
     "output_type": "display_data"
    }
   ],
   "source": [
    "#Label the cells in the map with external parameters. Visualize the labeled map.\n",
    "SOM.label_map(input_labels[:data_cut],\n",
    "              parameter_names = ['log_mstar', 'redshift'])\n",
    "SOM.show_map(show_labeled = True)"
   ]
  },
  {
   "cell_type": "code",
   "execution_count": 16,
   "metadata": {},
   "outputs": [
    {
     "name": "stdout",
     "output_type": "stream",
     "text": [
      "[ 1.0739325   0.40800086 -0.53784657]\n",
      "(4, 2)\n",
      "[0.541667   0.05273937 0.3400196 ]\n",
      "(4, 2)\n",
      "[-2.0520961   1.7657026   0.14505133]\n",
      "(0, 2)\n",
      "[ 0.15355922 -0.81711197  0.6837993 ]\n",
      "(2, 2)\n",
      "[0.75269675 0.33185667 0.40741736]\n",
      "(4, 2)\n",
      "[-0.82399917  1.2505351   0.25179705]\n",
      "(1, 3)\n",
      "[-2.7848005   0.26815343 -2.2044594 ]\n",
      "(1, 4)\n",
      "[-2.2535646  0.9962217 -2.738821 ]\n",
      "(4, 4)\n",
      "[ 1.4889352  -0.73658144  0.41177022]\n",
      "(4, 2)\n",
      "[ 0.11473931 -1.0891737   1.1885812 ]\n",
      "(2, 2)\n",
      "[-1.3407067   0.65074754 -2.691217  ]\n",
      "(4, 4)\n",
      "[ 0.99571985  0.46806705 -0.5942906 ]\n",
      "(4, 2)\n",
      "[-2.259154   1.6046416 -2.3915408]\n",
      "(4, 4)\n",
      "[ 0.86733705  0.23682474 -0.5594744 ]\n",
      "(4, 2)\n",
      "[ 1.563159  -2.165198   1.1598134]\n",
      "(2, 0)\n",
      "[-0.62080455 -0.54823464  0.6084765 ]\n",
      "(1, 2)\n",
      "[-0.04135107  0.47065824  0.5212605 ]\n",
      "(3, 2)\n",
      "[-0.22675335  0.03199406  0.48247176]\n",
      "(1, 0)\n",
      "[0.03365293 0.18239366 0.890549  ]\n",
      "(3, 2)\n",
      "[0.87464124 0.34145665 0.927083  ]\n",
      "(4, 2)\n",
      "[ 0.04172789 -1.1486623   0.45139334]\n",
      "(2, 2)\n",
      "[ 0.6709233   0.28245193 -0.2757087 ]\n",
      "(4, 2)\n",
      "[ 0.35836193 -0.38436386 -0.03561918]\n",
      "(4, 2)\n",
      "[-0.6631586   0.14091864  1.7283112 ]\n",
      "(1, 1)\n",
      "[-3.425643   2.4816577 -1.6753432]\n",
      "(0, 4)\n",
      "[-1.1417408  1.4717717 -1.7163576]\n",
      "(3, 4)\n",
      "[-1.0206698   1.4354011   0.03830114]\n",
      "(0, 2)\n",
      "[ 0.5382775  0.8705791 -0.3923971]\n",
      "(4, 2)\n",
      "[ 1.4121823   0.23680912 -0.35732594]\n",
      "(4, 2)\n",
      "[ 1.1757516  -0.10647971 -0.00923137]\n",
      "(4, 2)\n",
      "[ 0.26248258 -1.3181213   0.55342156]\n",
      "(2, 2)\n",
      "[ 1.5095233  -0.84296167 -0.75715375]\n",
      "(4, 2)\n",
      "[ 1.6122463   0.28746265 -0.811692  ]\n",
      "(4, 2)\n",
      "[-0.8904943  1.2825819  2.3492713]\n",
      "(3, 1)\n",
      "[0.32143563 0.49496257 0.28495124]\n",
      "(4, 2)\n",
      "[-0.3854358  0.8825362 -1.1019378]\n",
      "(4, 3)\n",
      "[ 0.406785   0.6833406 -0.891475 ]\n",
      "(3, 3)\n",
      "[0.09851518 0.117707   2.045296  ]\n",
      "(3, 1)\n",
      "[-2.209686  -1.1051892  3.3423274]\n",
      "(1, 2)\n",
      "[-3.2559292  2.3239372 -1.2290006]\n",
      "(1, 4)\n",
      "[ 0.4630737   0.33984885 -1.4268342 ]\n",
      "(4, 3)\n",
      "[-1.7271531  1.3659847  0.2166364]\n",
      "(0, 2)\n",
      "[-0.5397486  1.3352178 -1.1505798]\n",
      "(4, 3)\n",
      "[-0.42465916  0.9839213   0.38111007]\n",
      "(1, 0)\n",
      "[-2.1565082   0.85414207 -2.2071414 ]\n",
      "(3, 4)\n",
      "[-0.33132997  0.7954808  -0.09517463]\n",
      "(2, 3)\n",
      "[ 1.1062267 -0.3722195  0.296113 ]\n",
      "(4, 2)\n",
      "[ 0.78998274 -1.3691963   0.1309146 ]\n",
      "(4, 2)\n",
      "[-0.56132054  0.37347215 -0.68408567]\n",
      "(3, 3)\n",
      "[1.0901529  0.24235056 0.07169244]\n",
      "(4, 2)\n",
      "[-0.11450332 -1.4550654   2.8642912 ]\n",
      "(2, 1)\n",
      "[ 1.0329487  -0.25549003  0.7009312 ]\n",
      "(4, 2)\n",
      "[0.34504578 0.27116612 0.6201125 ]\n",
      "(4, 2)\n",
      "[ 1.2300781 -1.3705076  0.2743554]\n",
      "(4, 2)\n",
      "[ 0.35648167 -0.29554456 -1.0494798 ]\n",
      "(3, 3)\n",
      "[ 0.86398757 -0.01185363 -0.07795108]\n",
      "(4, 2)\n",
      "[1.0624338 0.7365385 0.2665556]\n",
      "(4, 2)\n",
      "[-1.7920761  -0.77064186  0.20273902]\n",
      "(1, 3)\n",
      "[-0.68073964 -0.3024597   0.01086649]\n",
      "(2, 3)\n",
      "[ 0.41551274 -0.15092057  0.06930128]\n",
      "(4, 2)\n",
      "[-3.5792165  2.0496433 -1.995663 ]\n",
      "(0, 4)\n",
      "[-3.3353493   0.05790618  1.541156  ]\n",
      "(0, 0)\n",
      "[-1.0308287   0.62997097 -0.20755714]\n",
      "(1, 3)\n",
      "[0.27993613 0.42776275 2.0720484 ]\n",
      "(3, 1)\n",
      "[ 1.1943622   0.10841922 -0.6646253 ]\n",
      "(4, 2)\n",
      "[ 1.3280661 -0.5488122 -0.3673894]\n",
      "(4, 2)\n",
      "[-2.104509   1.7227291 -0.5411347]\n",
      "(0, 3)\n",
      "[ 0.62436724  0.3483093  -0.01985181]\n",
      "(4, 2)\n",
      "[-1.2442659  -0.95271355  1.8303058 ]\n",
      "(1, 2)\n",
      "[ 0.6044377   0.7695999  -0.34491602]\n",
      "(4, 2)\n",
      "[ 0.6913172   0.22694378 -0.07983001]\n",
      "(4, 2)\n",
      "[ 1.1827512 -0.5838872 -0.835503 ]\n",
      "(4, 2)\n",
      "[ 0.77203816 -1.0362256  -1.0247585 ]\n",
      "(3, 3)\n",
      "[ 0.59005773 -0.8772874  -1.4280063 ]\n",
      "(3, 3)\n",
      "[-0.052707   1.1414857 -0.1875644]\n",
      "(3, 3)\n",
      "[-2.1259382   0.88110006 -0.6220585 ]\n",
      "(0, 3)\n",
      "[ 0.30389836 -0.85918015  0.4133606 ]\n",
      "(3, 2)\n",
      "[-2.0761726  1.1950582  2.0355165]\n",
      "(0, 1)\n",
      "[-0.2814491 -1.3259418 -1.4317396]\n",
      "(3, 3)\n",
      "[ 1.3008134  -0.34885174  0.63715935]\n",
      "(4, 2)\n",
      "[-1.8051772  0.9094629  1.3961651]\n",
      "(0, 1)\n",
      "[-3.3985045  2.2721128 -1.4714612]\n",
      "(0, 4)\n",
      "[-3.9279592  1.7705259 -2.6246648]\n",
      "(0, 4)\n",
      "[-2.2589295   0.47737044 -0.02566979]\n",
      "(0, 2)\n",
      "[-2.970278   1.7247427 -1.9848279]\n",
      "(1, 4)\n",
      "[-4.0139213   1.5994748  -0.87846565]\n",
      "(0, 4)\n",
      "[-2.9966145  1.7712284 -0.7858835]\n",
      "(0, 3)\n",
      "[-5.4492607  2.091852  -2.6891522]\n",
      "(0, 4)\n",
      "[-2.786793   2.0191107 -2.4773855]\n",
      "(1, 4)\n",
      "[-3.2132545  1.9409529 -0.4894954]\n",
      "(0, 3)\n",
      "[-2.778996    0.62147933  0.409775  ]\n",
      "(0, 2)\n",
      "[ 0.90919244 -0.31994256 -0.39263642]\n",
      "(4, 2)\n",
      "[-1.5004454   0.33294934 -0.09497331]\n",
      "(1, 3)\n",
      "[ 0.27993232 -0.47374508 -0.5463711 ]\n",
      "(2, 3)\n",
      "[ 0.7081313 -0.4034233  0.611201 ]\n",
      "(4, 2)\n",
      "[ 0.787305   -0.859945    0.62552786]\n",
      "(4, 2)\n",
      "[ 1.7674574  -1.4922321   0.88603956]\n",
      "(2, 0)\n",
      "[-0.3503574 -0.8448036  1.2614009]\n",
      "(2, 2)\n",
      "[-1.3501195   0.65098166 -2.5627337 ]\n",
      "(4, 4)\n",
      "[1.2422143  0.62734854 2.6524527 ]\n",
      "(4, 0)\n"
     ]
    }
   ],
   "source": [
    "SOM.predict(normalized_input_data[:data_cut])"
   ]
  }
 ],
 "metadata": {
  "kernelspec": {
   "display_name": "mpdg",
   "language": "python",
   "name": "python3"
  },
  "language_info": {
   "codemirror_mode": {
    "name": "ipython",
    "version": 3
   },
   "file_extension": ".py",
   "mimetype": "text/x-python",
   "name": "python",
   "nbconvert_exporter": "python",
   "pygments_lexer": "ipython3",
   "version": "3.12.3"
  }
 },
 "nbformat": 4,
 "nbformat_minor": 2
}
