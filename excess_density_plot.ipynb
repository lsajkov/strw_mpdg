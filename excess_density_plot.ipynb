{
 "cells": [
  {
   "cell_type": "code",
   "execution_count": 2,
   "metadata": {},
   "outputs": [],
   "source": [
    "from astropy.io import ascii\n",
    "\n",
    "import matplotlib as mpl\n",
    "import matplotlib.pyplot as plt\n",
    "\n",
    "plt.rcParams.update({\n",
    "    'font.family'      :'serif',\n",
    "    'font.size'        : 24,\n",
    "    'font.serif'       :'Georgia',\n",
    "    'axes.labelsize'   :'large',\n",
    "    'mathtext.fontset' :'stix',\n",
    "    'axes.linewidth'   :  1.5,\n",
    "    'xtick.direction'  :'in',\n",
    "    'ytick.direction'  :'in',\n",
    "    'xtick.major.size' : 5,\n",
    "    'ytick.major.size' : 5,\n",
    "    'xtick.major.width': 1.2,\n",
    "    'ytick.major.width': 1.2,\n",
    "})"
   ]
  },
  {
   "cell_type": "code",
   "execution_count": 3,
   "metadata": {},
   "outputs": [],
   "source": [
    "lens1_source2 = ascii.read('/data2/lsajkov/mpdg/data_products/WL_excess_surf_density_results/02Aug24/output_lensbin1_srcebin2.dat')\n",
    "lens1_source3 = ascii.read('/data2/lsajkov/mpdg/data_products/WL_excess_surf_density_results/02Aug24/output_lensbin1_srcebin3.dat')\n",
    "lens1_source4 = ascii.read('/data2/lsajkov/mpdg/data_products/WL_excess_surf_density_results/02Aug24/output_lensbin1_srcebin4.dat')\n",
    "lens1_source5 = ascii.read('/data2/lsajkov/mpdg/data_products/WL_excess_surf_density_results/02Aug24/output_lensbin1_srcebin5.dat')\n",
    "\n",
    "lens2_source2 = ascii.read('/data2/lsajkov/mpdg/data_products/WL_excess_surf_density_results/02Aug24/output_lensbin2_srcebin2.dat')\n",
    "lens2_source3 = ascii.read('/data2/lsajkov/mpdg/data_products/WL_excess_surf_density_results/02Aug24/output_lensbin2_srcebin3.dat')\n",
    "lens2_source4 = ascii.read('/data2/lsajkov/mpdg/data_products/WL_excess_surf_density_results/02Aug24/output_lensbin2_srcebin4.dat')\n",
    "lens2_source5 = ascii.read('/data2/lsajkov/mpdg/data_products/WL_excess_surf_density_results/02Aug24/output_lensbin2_srcebin5.dat')"
   ]
  },
  {
   "cell_type": "code",
   "execution_count": null,
   "metadata": {},
   "outputs": [],
   "source": [
    "keyword_params = {''}"
   ]
  },
  {
   "cell_type": "code",
   "execution_count": null,
   "metadata": {},
   "outputs": [],
   "source": [
    "fig = plt.figure(figsize = (24, 10))\n",
    "\n",
    "ax_l = fig.add_subplot(121)\n",
    "\n",
    "ax_l.errorbar(lens1_source2['R[h-1 Mpc]'])"
   ]
  }
 ],
 "metadata": {
  "kernelspec": {
   "display_name": "mpdg",
   "language": "python",
   "name": "python3"
  },
  "language_info": {
   "codemirror_mode": {
    "name": "ipython",
    "version": 3
   },
   "file_extension": ".py",
   "mimetype": "text/x-python",
   "name": "python",
   "nbconvert_exporter": "python",
   "pygments_lexer": "ipython3",
   "version": "3.12.3"
  },
  "orig_nbformat": 4,
  "vscode": {
   "interpreter": {
    "hash": "171e49df145699bd342e1cc7f2fc0f65632b63417db42e78c5a431978accae80"
   }
  }
 },
 "nbformat": 4,
 "nbformat_minor": 2
}
