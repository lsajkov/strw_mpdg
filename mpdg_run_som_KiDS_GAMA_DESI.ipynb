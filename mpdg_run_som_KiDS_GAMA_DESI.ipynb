{
 "cells": [
  {
   "cell_type": "markdown",
   "metadata": {},
   "source": [
    "## Run the Self-Organizing Map\n",
    "Training sample: KiDS <br>\n",
    "Labeling sample: GAMA <br>\n",
    "___"
   ]
  },
  {
   "cell_type": "markdown",
   "metadata": {},
   "source": [
    "First, load the data"
   ]
  },
  {
   "cell_type": "code",
   "execution_count": 5,
   "metadata": {},
   "outputs": [],
   "source": [
    "from astropy.io import fits\n",
    "from astropy.table import Table, hstack\n",
    "\n",
    "import numpy as np\n",
    "import matplotlib as mpl\n",
    "import matplotlib.pyplot as plt\n",
    "\n",
    "from matplotlib.patches import Rectangle\n",
    "\n",
    "plt.rcParams.update({\n",
    "    'font.family': 'serif',\n",
    "    'font.size': 24,\n",
    "    'font.serif': 'Georgia',\n",
    "    'axes.labelsize': 'large',\n",
    "    'mathtext.fontset': 'stix',\n",
    "    'axes.linewidth': 1.5,\n",
    "    'xtick.direction': 'in',\n",
    "    'ytick.direction': 'in'\n",
    "})"
   ]
  },
  {
   "cell_type": "code",
   "execution_count": 3,
   "metadata": {},
   "outputs": [],
   "source": [
    "#Load in KiDS data\n",
    "with fits.open('/data2/lsajkov/mpdg/data_products/KiDS/KiDS_SOM_catalog_15Jul24.fits') as cat:\n",
    "    KiDS_cat = Table(cat[1].data)\n",
    "\n",
    "#Load in GAMA data\n",
    "with fits.open('/data2/lsajkov/mpdg/data_products/GAMA/GAMA_SOM_training_catalog_15Jul24.fits') as cat:\n",
    "    GAMA_cat = Table(cat[1].data)\n",
    "\n",
    "#Load in DESI data\n",
    "with fits.open('/data2/lsajkov/mpdg/data_products/DESI/DESI_SOM_catalog_11Jul24.fits') as cat:\n",
    "    DESI_cat = Table(cat[1].data)"
   ]
  },
  {
   "cell_type": "code",
   "execution_count": null,
   "metadata": {},
   "outputs": [],
   "source": [
    "#Select the needed data\n",
    "KiDS_mag_cut = KiDS_cat['r_mag'] < 20.5\n",
    "KiDS_redshift_cut = KiDS_cat['redshift'] < 0.1\n",
    "\n",
    "input_cat = KiDS_cat[KiDS_redshift_cut]\n",
    "\n",
    "GAMA_redshift_cut = GAMA_cat['redshift'] < 0.1\n",
    "labels_cat = GAMA_cat[GAMA_redshift_cut]\n",
    "\n",
    "input_data = Table([\n",
    "                    input_cat['r_mag'],\n",
    "                    input_cat['ug_col'],\n",
    "                    input_cat['gr_col'],\n",
    "                    input_cat['ri_col']],\n",
    "            names = [\n",
    "                     'r_mag',\n",
    "                     'ug_col',\n",
    "                     'gr_col',\n",
    "                     'ri_col'])\n",
    "input_stds = Table([\n",
    "                    input_cat['r_mag_err'],\n",
    "                    input_cat['ug_col_err'],\n",
    "                    input_cat['gr_col_err'],\n",
    "                    input_cat['ri_col_err']],\n",
    "           names = [\n",
    "                    'r_mag_err',\n",
    "                    'ug_col_err',\n",
    "                    'gr_col_err',\n",
    "                    'ri_col_err'])\n",
    "\n",
    "input_labels = Table([\n",
    "                      labels_cat['r_mag'],\n",
    "                      labels_cat['ug_col'],\n",
    "                      labels_cat['gr_col'],\n",
    "                      labels_cat['ri_col'],\n",
    "                      labels_cat['mstar'],\n",
    "                      labels_cat['redshift']],\n",
    "             names = [\n",
    "                      'r_mag',\n",
    "                      'ug_col',\n",
    "                      'gr_col',\n",
    "                      'ri_col',\n",
    "                      'mstar',\n",
    "                      'redshift'])\n",
    "\n",
    "input_label_stds = Table([\n",
    "                          labels_cat['r_mag_err'],\n",
    "                          labels_cat['ug_col_err'],\n",
    "                          labels_cat['gr_col_err'],\n",
    "                          labels_cat['ri_col_err'],\n",
    "                          labels_cat['mstar_err'],\n",
    "                          np.abs(labels_cat['ppp'] - 0.5) + 0.01],\n",
    "                 names = [\n",
    "                          'r_mag_err',\n",
    "                          'ug_col_err',\n",
    "                          'gr_col_err',\n",
    "                          'ri_col_err',\n",
    "                          'mstar_err',\n",
    "                          'redshift_err'])\n",
    "\n",
    "print(f'Len of input data: {len(input_data)}')\n",
    "print(f'Len of labeling data: {len(input_labels)}')"
   ]
  },
  {
   "cell_type": "markdown",
   "metadata": {},
   "source": [
    "Select & normalize data"
   ]
  },
  {
   "cell_type": "code",
   "execution_count": null,
   "metadata": {},
   "outputs": [],
   "source": [
    "#Select the needed data NORMALIZED\n",
    "KiDS_mag_cut = KiDS_cat['r_mag'] < 20.5\n",
    "KiDS_redshift_cut = KiDS_cat['redshift'] < 0.1\n",
    "KiDS_size_cut = KiDS_cat['half_light_radius'] < 5\n",
    "\n",
    "input_cat = KiDS_cat[KiDS_redshift_cut &\\\n",
    "                     KiDS_mag_cut &\\\n",
    "                     KiDS_size_cut]\n",
    "\n",
    "GAMA_redshift_cut = GAMA_cat['redshift'] < 0.1\n",
    "labels_cat = GAMA_cat[GAMA_redshift_cut]\n",
    "\n",
    "input_data = Table([\n",
    "                    2 * (input_cat['r_mag'] - input_cat['r_mag'].min())/(input_cat['r_mag'].max() - input_cat['r_mag'].min()) - 1,\n",
    "                    # (input_cat['ug_col'] - input_cat['ug_col'].mean())/input_cat['ug_col'].std(),\n",
    "                    (input_cat['gr_col'] - input_cat['gr_col'].mean())/input_cat['gr_col'].std(),\n",
    "                    (input_cat['ri_col'] - input_cat['ri_col'].mean())/input_cat['ri_col'].std(),\n",
    "                #     (input_cat['half_light_radius'] - input_cat['half_light_radius'].mean())/input_cat['half_light_radius'].std()\n",
    "                    ],\n",
    "            names = [\n",
    "                     'r_mag',\n",
    "                    #  'ug_col',\n",
    "                     'gr_col',\n",
    "                     'ri_col',\n",
    "                #      'radius_50'\n",
    "                     ])\n",
    "input_stds = Table([\n",
    "                    2 * input_cat['r_mag_err']/(input_cat['r_mag'].max() - input_cat['r_mag'].min()),\n",
    "                    # input_cat['ug_col_err']/input_cat['ug_col'].std(),\n",
    "                    input_cat['gr_col_err']/input_cat['gr_col'].std(),\n",
    "                    input_cat['ri_col_err']/input_cat['ri_col'].std(),\n",
    "                #     [0.1] * len(input_cat)\n",
    "                    ],\n",
    "           names = [\n",
    "                    'r_mag_err',\n",
    "                    # 'ug_col_err',\n",
    "                    'gr_col_err',\n",
    "                    'ri_col_err',\n",
    "                #     'radius_50_err'\n",
    "                    ])\n",
    "\n",
    "input_labels = Table([\n",
    "                      2 * (labels_cat['r_mag'] - labels_cat['r_mag'].min())/(labels_cat['r_mag'].max() - labels_cat['r_mag'].min()) - 1,\n",
    "                      # (labels_cat['ug_col'] - labels_cat['ug_col'].mean())/labels_cat['ug_col'].std(),\n",
    "                      (labels_cat['gr_col'] - labels_cat['gr_col'].mean())/labels_cat['gr_col'].std(),\n",
    "                      (labels_cat['ri_col'] - labels_cat['ri_col'].mean())/labels_cat['ri_col'].std(),\n",
    "                #       (labels_cat['half_light_radius'] - labels_cat['half_light_radius'].mean())/labels_cat['half_light_radius'].std(),\n",
    "                      np.log10(labels_cat['mstar']),\n",
    "                      labels_cat['redshift']],\n",
    "             names = [\n",
    "                      'r_mag',\n",
    "                      # 'ug_col',\n",
    "                      'gr_col',\n",
    "                      'ri_col',\n",
    "                #       'radius_50',\n",
    "                      'mstar',\n",
    "                      'redshift'])\n",
    "\n",
    "input_label_stds = Table([\n",
    "                          2 * labels_cat['r_mag_err']/(labels_cat['r_mag'].max() - labels_cat['r_mag'].min()),\n",
    "                          # labels_cat['ug_col_err']/labels_cat['ug_col'].std(),\n",
    "                          labels_cat['gr_col_err']/labels_cat['gr_col'].std(),\n",
    "                          labels_cat['ri_col_err']/labels_cat['ri_col'].std(),\n",
    "                        #   [0.1] * len(labels_cat),\n",
    "                          labels_cat['mstar_err']/(labels_cat['mstar'] * np.log(10)),\n",
    "                          np.abs(labels_cat['ppp'] - 0.5) + 0.01],\n",
    "                 names = [\n",
    "                          'r_mag_err',\n",
    "                          # 'ug_col_err',\n",
    "                          'gr_col_err',\n",
    "                          'ri_col_err',\n",
    "                        #   'radius_50_err',\n",
    "                          'mstar_err',\n",
    "                          'redshift_err'])\n",
    "\n",
    "print(f'Len of input data: {len(input_data)}')\n",
    "print(f'Len of labeling data: {len(input_labels)}')"
   ]
  },
  {
   "cell_type": "markdown",
   "metadata": {},
   "source": [
    "___"
   ]
  },
  {
   "cell_type": "markdown",
   "metadata": {},
   "source": [
    "Initialize the SOM"
   ]
  },
  {
   "cell_type": "code",
   "execution_count": null,
   "metadata": {},
   "outputs": [],
   "source": [
    "from mpdg_som import SelfOrganizingMap"
   ]
  },
  {
   "cell_type": "code",
   "execution_count": null,
   "metadata": {},
   "outputs": [],
   "source": [
    "#Set parameters\n",
    "name = 'mass_profile_dwarf_galaxies' #name of the SOM\n",
    "\n",
    "mapsize   = [25, 25] #size of the map. pass as a list of dimensions OR as an integer (also pass number of dimensions)\n",
    "dimension = None\n",
    "\n",
    "initialization         = 'pca' #random or pca (principal component analysis)\n",
    "termination            = 'either' #when to stop learning. maximum_steps = stop when maximum_steps have elapsed. error_thresh = stop when the error is below this threshold. either = stop when either condition is fulfilled\n",
    "learning_rate_function = 'power_law' #which learning rate function to use. currently implemented: power_law\n",
    "neighborhood_function  = 'gaussian' #which neighborhood function to use. currently implemented: gaussian\n",
    "error_estimator        = 'quantization_error' #which error estimation function to use. currently implemented: max_misalignment\n",
    "\n",
    "learning_rate = 0.64 #used to adjust the learning rate function\n",
    "kernel_spread = 3.35 #used to adjust the neighborhood function\n",
    "maximum_steps = 20 #used to adjust the learning rate and neighborhood functions\n",
    "error_thresh  = 0.05 #used to stop the SOM if termination = 'error thresh'"
   ]
  },
  {
   "cell_type": "code",
   "execution_count": null,
   "metadata": {},
   "outputs": [],
   "source": [
    "#Declare the SOM\n",
    "SOM = SelfOrganizingMap(\n",
    "    name                   = name,\n",
    "    mapsize                = mapsize,\n",
    "    dimension              = dimension,\n",
    "    initialization         = initialization,\n",
    "    termination            = termination,\n",
    "    learning_rate_function = learning_rate_function,\n",
    "    neighborhood_function  = neighborhood_function,\n",
    "    error_estimator        = error_estimator,\n",
    "    learning_rate          = learning_rate,\n",
    "    kernel_spread          = kernel_spread,\n",
    "    maximum_steps          = maximum_steps,\n",
    "    error_thresh           = error_thresh\n",
    ")"
   ]
  },
  {
   "cell_type": "code",
   "execution_count": null,
   "metadata": {},
   "outputs": [],
   "source": [
    "data_cut = -1 #use up to this much of the data (-1 for entire dataset)\n",
    "if data_cut != -1:\n",
    "    randomized_idx = np.arange(0, len(input_data))\n",
    "    np.random.shuffle(randomized_idx)\n",
    "    randomized_data_idx  = randomized_idx[:data_cut]\n",
    "    randomized_label_idx = randomized_idx[data_cut:]\n",
    "\n",
    "SOM.load_data(input_data[:data_cut],\n",
    "              variable_names = [\n",
    "                                'r_mag',\n",
    "                                # 'ug_col',\n",
    "                                'gr_col',\n",
    "                                'ri_col',\n",
    "                                # 'radius'\n",
    "                                ])\n",
    "# SOM.normalize_data()\n",
    "\n",
    "SOM.load_standard_deviations(input_stds[:data_cut])\n",
    "# SOM.normalize_standard_deviations()\n",
    "\n",
    "SOM.data_statistics()"
   ]
  },
  {
   "cell_type": "code",
   "execution_count": null,
   "metadata": {},
   "outputs": [],
   "source": [
    "#Initialize the SOM\n",
    "SOM.build_SOM()"
   ]
  },
  {
   "cell_type": "code",
   "execution_count": null,
   "metadata": {},
   "outputs": [],
   "source": [
    "#Visualize SOM before training\n",
    "SOM.show_map(cmap = 'jet')\n",
    "\n",
    "#Look at initial quantization error\n",
    "from mpdg_som_utils import SOM_ErrorEstimators\n",
    "\n",
    "initial_quant_error = SOM_ErrorEstimators.quantization_error(SOM.weights_map,\n",
    "                                                             SOM.data,\n",
    "                                                             SOM.bmu_indices)\n",
    "print(f'| Initial rms error: {initial_quant_error:.3f}')"
   ]
  },
  {
   "cell_type": "code",
   "execution_count": null,
   "metadata": {},
   "outputs": [],
   "source": [
    "plt.hist(SOM.data[:, 0],\n",
    "        bins = 'auto', alpha = 0.5)\n",
    "plt.hist(SOM.data[:, 1],\n",
    "        bins = 'auto', alpha = 0.5)\n",
    "plt.hist(SOM.data[:, 2],\n",
    "        bins = 'auto', alpha = 0.5)\n",
    "plt.hist(SOM.data[:, 3],\n",
    "        bins = 'auto', alpha = 0.5)\n",
    "plt.hist(SOM.data[:, 4],\n",
    "        bins = 'auto', alpha = 0.5)"
   ]
  },
  {
   "cell_type": "code",
   "execution_count": null,
   "metadata": {},
   "outputs": [],
   "source": [
    "#Train the som\n",
    "SOM.train()"
   ]
  },
  {
   "cell_type": "code",
   "execution_count": null,
   "metadata": {},
   "outputs": [],
   "source": [
    "np.save('/data2/lsajkov/mpdg/saved_soms/12Jul24_z0.1_KiDS/weights',\n",
    "        SOM.weights_map, allow_pickle = True)"
   ]
  },
  {
   "cell_type": "code",
   "execution_count": null,
   "metadata": {},
   "outputs": [],
   "source": [
    "#Visualize the SOM after training\n",
    "SOM.show_map(cmap = 'jet')"
   ]
  },
  {
   "cell_type": "code",
   "execution_count": null,
   "metadata": {},
   "outputs": [],
   "source": [
    "#Label the cells in the map with external parameters. Visualize the labeled map.\n",
    "SOM.load_labeling_data(input_labels,\n",
    "                       parameter_names = ['mstar', 'redshift'])\n",
    "# SOM.normalize_labeling_data()\n",
    "\n",
    "SOM.load_labeling_standard_deviations(input_label_stds)\n",
    "# SOM.normalize_labeling_standard_deviations()\n",
    "\n",
    "SOM.label_map()\n",
    "# SOM.label_map(pdr = 1000,\n",
    "#               sigmas_data= [0.1, 0.0075],\n",
    "#               sigmas_add = [0, 0.0025])\n",
    "\n",
    "SOM.show_map(show_labeled = True, log_norm = [],\n",
    "             cmap = 'jet')"
   ]
  },
  {
   "cell_type": "code",
   "execution_count": null,
   "metadata": {},
   "outputs": [],
   "source": [
    "from mpdg_som_utils import find_bmu_coords\n",
    "import matplotlib.pyplot as plt"
   ]
  },
  {
   "cell_type": "code",
   "execution_count": null,
   "metadata": {},
   "outputs": [],
   "source": [
    "SOM.predict(SOM.labeling_data[:, :SOM.data_dim],\n",
    "            np.sqrt(SOM.label_variances[:, :SOM.data_dim]))"
   ]
  },
  {
   "cell_type": "code",
   "execution_count": null,
   "metadata": {},
   "outputs": [],
   "source": [
    "SOM.save_outputs('/data2/lsajkov/mpdg/saved_soms',\n",
    "                 save_weights = True, save_parameters = True)"
   ]
  },
  {
   "cell_type": "code",
   "execution_count": null,
   "metadata": {},
   "outputs": [],
   "source": [
    "np.save('/data2/lsajkov/mpdg/saved_soms/10Jul24/prediction_results',\n",
    "        SOM.prediction_results, allow_pickle = True)"
   ]
  },
  {
   "cell_type": "code",
   "execution_count": null,
   "metadata": {},
   "outputs": [],
   "source": [
    "np.save('/data2/lsajkov/mpdg/saved_soms/10Jul24/labeling_data',\n",
    "        SOM.labeling_data, allow_pickle = True)"
   ]
  },
  {
   "cell_type": "markdown",
   "metadata": {},
   "source": [
    "___"
   ]
  },
  {
   "cell_type": "markdown",
   "metadata": {},
   "source": [
    "Look at prediction results"
   ]
  },
  {
   "cell_type": "code",
   "execution_count": null,
   "metadata": {},
   "outputs": [],
   "source": [
    "mstar_pred = SOM.prediction_results[:, 0]\n",
    "redshift_pred = SOM.prediction_results[:, 1]"
   ]
  },
  {
   "cell_type": "code",
   "execution_count": null,
   "metadata": {},
   "outputs": [],
   "source": [
    "fig = plt.figure(figsize = (12, 10))\n",
    "ax = fig.add_subplot()\n",
    "\n",
    "vals, bins = np.histogram(mstar_pred, bins = 50,\n",
    "                          range = [np.nanmin(mstar_pred), np.nanmax(mstar_pred)],\n",
    "                          density = True)\n",
    "\n",
    "ax.stairs(vals, bins,\n",
    "          color = 'black', linewidth = 3,\n",
    "          label = 'GAMA predicted')\n",
    "\n",
    "ax.hist(SOM.labeling_data[:, SOM.data_dim],\n",
    "        bins = bins, density = True, zorder = 0,\n",
    "        color = 'green', alpha = 0.25,\n",
    "        label = 'GAMA true')\n",
    "\n",
    "ax.set_xlabel('log($M_*/M_{\\odot}$)')\n",
    "ax.set_ylabel('$dN/dM$')\n",
    "\n",
    "ax.legend(frameon = False)"
   ]
  },
  {
   "cell_type": "code",
   "execution_count": null,
   "metadata": {},
   "outputs": [],
   "source": [
    "fig = plt.figure(figsize = (12, 10))\n",
    "ax = fig.add_subplot()\n",
    "\n",
    "vals, bins = np.histogram(redshift_pred, bins = 50,\n",
    "                          range = [np.nanmin(redshift_pred), np.nanmax(redshift_pred)],\n",
    "                          density = True)\n",
    "\n",
    "ax.stairs(vals, bins,\n",
    "          color = 'black', linewidth = 3,\n",
    "          label = 'GAMA predicted')\n",
    "\n",
    "ax.hist(SOM.labeling_data[:, SOM.data_dim + 1],\n",
    "        bins = bins, density = True, zorder = 0,\n",
    "        color = 'green', alpha = 0.25,\n",
    "        label = 'GAMA true')\n",
    "\n",
    "ax.set_xlabel('$z$')\n",
    "ax.set_ylabel('$dN/dz$')\n",
    "\n",
    "ax.legend(frameon = False)"
   ]
  },
  {
   "cell_type": "markdown",
   "metadata": {},
   "source": [
    "___"
   ]
  },
  {
   "cell_type": "markdown",
   "metadata": {},
   "source": [
    "Compare predictions to inputs"
   ]
  },
  {
   "cell_type": "code",
   "execution_count": null,
   "metadata": {},
   "outputs": [],
   "source": [
    "import matplotlib.pyplot as plt"
   ]
  },
  {
   "cell_type": "code",
   "execution_count": null,
   "metadata": {},
   "outputs": [],
   "source": []
  },
  {
   "cell_type": "code",
   "execution_count": null,
   "metadata": {},
   "outputs": [],
   "source": [
    "MAD"
   ]
  },
  {
   "cell_type": "code",
   "execution_count": null,
   "metadata": {},
   "outputs": [],
   "source": [
    "fig = plt.figure(figsize = (10, 12))\n",
    "\n",
    "ax = fig.add_subplot()\n",
    "\n",
    "hb = ax.hexbin(SOM.labeling_data[:, SOM.data_dim],\n",
    "               SOM.prediction_results[:, 0],\n",
    "               mincnt = 1, cmap = 'jet')\n",
    "\n",
    "MAD = np.nansum(np.abs(SOM.labeling_data[:, SOM.data_dim] - SOM.prediction_results[:, 0]))/(len(SOM.prediction_results) - np.sum(np.isnan(SOM.prediction_results), axis = 0)[0])\n",
    "# ax.scatter(SOM.labeling_data[:, SOM.data_dim][lo_stripe_idx],\n",
    "#            SOM.prediction_results[:, 0][lo_stripe_idx],\n",
    "#            color = 'green', s = 50, facecolor = 'none')\n",
    "\n",
    "# ax.scatter(SOM.labeling_data[:, SOM.data_dim][hi_stripe_idx],\n",
    "#            SOM.prediction_results[:, 0][hi_stripe_idx],\n",
    "#            color = 'red', s = 50, facecolor = 'none')\n",
    "\n",
    "ax.axline([10, 10], slope = 1, color = 'red')\n",
    "\n",
    "ax.set_xlim(6, 10.2)\n",
    "ax.set_ylim(6, 10.2)\n",
    "ax.set_xticks(np.arange(6, 10.5, 0.5))\n",
    "\n",
    "ax.set_xlabel('GAMA log$_{10} (M_*/M_{\\odot})$\\nTrue')\n",
    "ax.set_ylabel('Predicted\\nSOM log$_{10} (M_*/M_{\\odot})$')\n",
    "\n",
    "ax.text(0.65, 0.05,\n",
    "        f'MAD: {MAD:.3f} dex',\n",
    "        transform = ax.transAxes)\n",
    "\n",
    "fig.colorbar(ax = ax, mappable = hb,\n",
    "             location = 'top', pad = 0.01,\n",
    "             label = '$N_{\\mathrm{galaxies}}$')"
   ]
  },
  {
   "cell_type": "code",
   "execution_count": null,
   "metadata": {},
   "outputs": [],
   "source": [
    "np.sum((SOM.prediction_results[:, 1] > 0.33) & (SOM.labeling_data[:, -1] > 0.33) )/len(SOM.prediction_results) * 100"
   ]
  },
  {
   "cell_type": "code",
   "execution_count": null,
   "metadata": {},
   "outputs": [],
   "source": [
    "fig = plt.figure(figsize = (10, 12))\n",
    "\n",
    "ax = fig.add_subplot()\n",
    "\n",
    "hb = ax.hexbin(SOM.labeling_data[:, SOM.data_dim + 1],\n",
    "               SOM.prediction_results[:, 1],\n",
    "               mincnt = 1, cmap = 'jet')\n",
    "\n",
    "MAD = np.nansum(np.abs(SOM.labeling_data[:, SOM.data_dim + 1] - SOM.prediction_results[:, 1]))/(len(SOM.prediction_results) - np.sum(np.isnan(SOM.prediction_results), axis = 0)[0])\n",
    "\n",
    "# ax.scatter(SOM.labeling_data[:, SOM.data_dim + 1][lo_stripe_idx],\n",
    "#            SOM.prediction_results[:, 1][lo_stripe_idx],\n",
    "#            color = 'green', s = 50, facecolor = 'none')\n",
    "\n",
    "# ax.scatter(SOM.labeling_data[:, SOM.data_dim + 1][hi_stripe_idx],\n",
    "#            SOM.prediction_results[:, 1][hi_stripe_idx],\n",
    "#            color = 'red', s = 50, facecolor = 'none')\n",
    "\n",
    "ax.axline([0, 0], slope = 1, color = 'red')\n",
    "\n",
    "ax.set_xlim(0, 0.105)\n",
    "ax.set_ylim(0, 0.105)\n",
    "\n",
    "ax.set_xlabel('GAMA redshift\\nTrue')\n",
    "ax.set_ylabel('Predicted\\nSOM redshift')\n",
    "\n",
    "ax.text(0.65, 0.05,\n",
    "        f'MAD: {MAD:.3f} dex',\n",
    "        transform = ax.transAxes)\n",
    "\n",
    "# ax.axhline(0.33, color = 'black')\n",
    "# ax.axvline(0.33, color = 'black')\n",
    "\n",
    "fig.colorbar(ax = ax, mappable = hb,\n",
    "             location = 'top', pad = 0.01,\n",
    "             label = '$N_{\\mathrm{galaxies}}$')"
   ]
  },
  {
   "cell_type": "code",
   "execution_count": null,
   "metadata": {},
   "outputs": [],
   "source": [
    "SOM_zs = SOM.prediction_results[:, 1]\n",
    "\n",
    "lo_stripe_idx = (SOM_zs < 0.4) & (SOM_zs > 0.35)\n",
    "hi_stripe_idx = (SOM_zs < 0.6) & (SOM_zs > 0.5)\n",
    "\n",
    "hi_stripe_r_mag = input_catalog_complete[-int(data_cut/2):][hi_stripe_idx]['r_mag']\n",
    "lo_stripe_r_mag = input_catalog_complete[-int(data_cut/2):][lo_stripe_idx]['r_mag']"
   ]
  },
  {
   "cell_type": "code",
   "execution_count": null,
   "metadata": {},
   "outputs": [],
   "source": [
    "fig = plt.figure(figsize = (12, 10))\n",
    "ax = fig.add_subplot()\n",
    "\n",
    "ax.hist(lo_stripe_r_mag, bins = 'auto',\n",
    "        histtype = 'step', color = 'green', linewidth = 5)\n",
    "\n",
    "ax.set_xlabel('$r$-magnitude')"
   ]
  },
  {
   "cell_type": "code",
   "execution_count": null,
   "metadata": {},
   "outputs": [],
   "source": [
    "fig = plt.figure(figsize = (12, 10))\n",
    "ax = fig.add_subplot()\n",
    "\n",
    "ax.hist(hi_stripe_r_mag, bins = 'auto',\n",
    "        histtype = 'step', color = 'red', linewidth = 5)\n",
    "\n",
    "ax.set_xlabel('$r$-magnitude')"
   ]
  }
 ],
 "metadata": {
  "kernelspec": {
   "display_name": "mpdg",
   "language": "python",
   "name": "python3"
  },
  "language_info": {
   "codemirror_mode": {
    "name": "ipython",
    "version": 3
   },
   "file_extension": ".py",
   "mimetype": "text/x-python",
   "name": "python",
   "nbconvert_exporter": "python",
   "pygments_lexer": "ipython3",
   "version": "3.12.3"
  },
  "vscode": {
   "interpreter": {
    "hash": "171e49df145699bd342e1cc7f2fc0f65632b63417db42e78c5a431978accae80"
   }
  }
 },
 "nbformat": 4,
 "nbformat_minor": 2
}
