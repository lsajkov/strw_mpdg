{
 "cells": [
  {
   "cell_type": "code",
   "execution_count": 4,
   "metadata": {},
   "outputs": [],
   "source": [
    "import os\n",
    "import numpy as np\n",
    "import matplotlib.pyplot as plt\n",
    "\n",
    "from astropy.io import fits\n",
    "from astropy.table import Table, vstack\n",
    "import astropy.units as u\n",
    "\n",
    "# from sklearn.datasets import fetch_california_housing\n",
    "from sklearn.decomposition import PCA\n",
    "\n",
    "import sompy\n",
    "\n",
    "def errJy_to_errABmag(flux_Jy, fluxerr_Jy):\n",
    "    return -2.5 / (flux_Jy * np.log(10)) * fluxerr_Jy\n",
    "\n",
    "def mag_snr(magerr):\n",
    "    return 2.5 / (np.log(10) * magerr)\n",
    "\n",
    "plt.rcParams.update({\n",
    "    'font.family': 'serif',\n",
    "    'font.size': 18,\n",
    "    'axes.labelsize': 'large',\n",
    "    'mathtext.fontset': 'stix'\n",
    "})"
   ]
  },
  {
   "cell_type": "markdown",
   "metadata": {},
   "source": [
    "## SOMPY test"
   ]
  },
  {
   "cell_type": "code",
   "execution_count": null,
   "metadata": {},
   "outputs": [],
   "source": [
    "#import GAMA\n",
    "with fits.open('/data2/lsajkov/mpdg/data/GAMA/GAMA_mstars_concat.fits') as hdu:\n",
    "    GAMA_mstar_concat = Table(hdu[1].data)"
   ]
  },
  {
   "cell_type": "code",
   "execution_count": 49,
   "metadata": {},
   "outputs": [
    {
     "name": "stderr",
     "output_type": "stream",
     "text": [
      "/data2/lsajkov/mpdg/conda/envs/mpdg/lib/python3.12/site-packages/astropy/units/function/logarithmic.py:67: RuntimeWarning: invalid value encountered in log10\n",
      "  return dex.to(self._function_unit, np.log10(x))\n"
     ]
    }
   ],
   "source": [
    "#produce magnitude columns\n",
    "GAMA_fluxJy_r = GAMA_mstar_concat['flux_rt'] * u.Jansky\n",
    "GAMA_fluxerrJy_r = GAMA_mstar_concat['flux_err_rt']\n",
    "\n",
    "GAMA_fluxJy_g = GAMA_mstar_concat['flux_gt'] * u.Jansky\n",
    "GAMA_fluxerrJy_g = GAMA_mstar_concat['flux_err_gt']\n",
    "\n",
    "GAMA_mag_r = GAMA_fluxJy_r.to(u.ABmag).value\n",
    "GAMA_magerr_r = errJy_to_errABmag(GAMA_fluxJy_r, GAMA_fluxerrJy_r).value\n",
    "\n",
    "GAMA_mag_g = GAMA_fluxJy_g.to(u.ABmag).value\n",
    "GAMA_magerr_g = errJy_to_errABmag(GAMA_fluxJy_g, GAMA_fluxerrJy_g).value"
   ]
  },
  {
   "cell_type": "code",
   "execution_count": 52,
   "metadata": {},
   "outputs": [
    {
     "name": "stderr",
     "output_type": "stream",
     "text": [
      "/var/tmp/lsajkov/ipykernel_3684298/549838973.py:8: RuntimeWarning: overflow encountered in square\n",
      "  GAMA_mu_r_eff = GAMA_mag_r + 2.5 * np.log10(2 * np.pi * GAMA_mstar_concat['R50'] ** 2)\n"
     ]
    }
   ],
   "source": [
    "#produce additional columns\n",
    "\n",
    "#g-r color columns\n",
    "GAMA_gr_color = GAMA_mstar_concat['absmag_g'] - GAMA_mstar_concat['absmag_r']\n",
    "GAMA_gr_color_err =  np.hypot(GAMA_magerr_g, GAMA_magerr_r)\n",
    "\n",
    "#effective surface brightness column\n",
    "GAMA_mu_r_eff = GAMA_mag_r + 2.5 * np.log10(2 * np.pi * GAMA_mstar_concat['R50'] ** 2)"
   ]
  },
  {
   "cell_type": "code",
   "execution_count": 54,
   "metadata": {},
   "outputs": [],
   "source": [
    "#vectorize\n",
    "GAMA_vect_data = Table([GAMA_mstar_concat['uberID_1'],\n",
    "                        GAMA_mag_r, GAMA_magerr_r,\n",
    "                        GAMA_gr_color, GAMA_gr_color_err,\n",
    "                        GAMA_mu_r_eff,\n",
    "                        GAMA_mstar_concat['logmstar'],\n",
    "                        GAMA_mstar_concat['Z']],\n",
    "                        names = ['ID',\n",
    "                                 'r_mag', 'r_mag_err',\n",
    "                                 'surf_bright_r',\n",
    "                                 'gr_color', 'gr_color_err',\n",
    "                                 'log_stellar_mass',\n",
    "                                 'redshift'\n",
    "                        ])"
   ]
  },
  {
   "cell_type": "code",
   "execution_count": 53,
   "metadata": {},
   "outputs": [],
   "source": [
    "#define primary targeting region\n",
    "def gr_color_condition(gr_color, gr_color_err,\n",
    "               r_mag):\n",
    "    \n",
    "    return (gr_color - gr_color_err + 0.06 * (r_mag - 14)) < 0.9\n",
    "\n",
    "\n",
    "def surf_bright_condition(surf_bright_r, surf_bright_r_err,\n",
    "                                 r_mag):\n",
    "    \n",
    "    return (surf_bright_r + surf_bright_r_err\\\n",
    "            - 0.7 * (r_mag - 14)) > 18.5"
   ]
  },
  {
   "cell_type": "code",
   "execution_count": 57,
   "metadata": {},
   "outputs": [],
   "source": [
    "#produce primary targeting region\n",
    "gr_color_mask    = gr_color_condition(GAMA_vect_data['gr_color'],\n",
    "                                      GAMA_vect_data['gr_color_err'],\n",
    "                                      GAMA_vect_data['r_mag'])\n",
    "\n",
    "surf_bright_mask = surf_bright_condition(GAMA_vect_data['surf_bright_r'],\n",
    "                                         GAMA_vect_data['r_mag_err'],\n",
    "                                         GAMA_vect_data['r_mag'])\n",
    "\n",
    "in_prim_targ_reg = gr_color_mask & surf_bright_mask"
   ]
  },
  {
   "cell_type": "code",
   "execution_count": 67,
   "metadata": {},
   "outputs": [
    {
     "name": "stdout",
     "output_type": "stream",
     "text": [
      "With this cut, 35982/370116 objects are kept\n"
     ]
    }
   ],
   "source": [
    "#very conservative snr cut to save on computation\n",
    "GAMA_idx = (GAMA_mstar_concat['snratio'] > 105) &\\\n",
    "           (GAMA_mstar_concat['logmstar'] > 3)\n",
    "\n",
    "print(f'With this cut, {np.sum(GAMA_idx)}/{len(GAMA_idx)} objects are kept')"
   ]
  },
  {
   "cell_type": "code",
   "execution_count": null,
   "metadata": {},
   "outputs": [],
   "source": [
    "#plot data\n",
    "fig = plt.figure(figsize = (12, 10))\n",
    "ax = fig.add_subplot()\n",
    "\n",
    "mstar_gama = ax.scatter(GAMA_mag_r[GAMA_idx],\n",
    "                        GAMA_mstar_concat[GAMA_idx]['absmag_g'] - GAMA_mstar_concat[GAMA_idx]['absmag_r'],\n",
    "                        s = 3, c = GAMA_mstar_concat[GAMA_idx]['logmstar'],\n",
    "                        alpha = 0.75)\n",
    "\n",
    "ax.set_xlabel('$r$')\n",
    "ax.set_ylabel('$r_{\\mathrm{abs}}-g_{\\mathrm{abs}}$')\n",
    "\n",
    "fig.colorbar(mstar_gama, label = 'log$(M_*/M_{\\odot})$')\n"
   ]
  },
  {
   "cell_type": "code",
   "execution_count": 68,
   "metadata": {},
   "outputs": [],
   "source": [
    "rmag_list     = list(GAMA_mag_r[GAMA_idx].value)\n",
    "gr_col_list   = list(GAMA_mstar_concat[GAMA_idx]['absmag_g'] - GAMA_mstar_concat[GAMA_idx]['absmag_r'])\n",
    "logmstar_list = list(GAMA_mstar_concat[GAMA_idx]['logmstar'])\n",
    "\n",
    "SOMready_data = np.array(list(zip(rmag_list, gr_col_list, logmstar_list)))"
   ]
  },
  {
   "cell_type": "code",
   "execution_count": null,
   "metadata": {},
   "outputs": [],
   "source": []
  },
  {
   "cell_type": "code",
   "execution_count": 72,
   "metadata": {},
   "outputs": [],
   "source": [
    "mapsize = [30, 30]\n",
    "\n",
    "SOM = sompy.SOMFactory.build(SOMready_data,\n",
    "                             mapsize = mapsize,\n",
    "                             component_names = ['r_mag', 'gr_color', 'logmstar'])"
   ]
  },
  {
   "cell_type": "code",
   "execution_count": 73,
   "metadata": {},
   "outputs": [
    {
     "name": "stderr",
     "output_type": "stream",
     "text": [
      " Training...\n",
      " pca_linear_initialization took: 0.014000 seconds\n",
      " Rough training...\n",
      " radius_ini: 4.000000 , radius_final: 1.000000, trainlen: 7\n",
      "\n",
      " epoch: 1 ---> elapsed time:  0.163000, quantization error: 0.763935\n",
      "\n",
      " epoch: 2 ---> elapsed time:  0.179000, quantization error: 0.529711\n",
      "\n",
      " epoch: 3 ---> elapsed time:  0.196000, quantization error: 0.388598\n",
      "\n",
      " epoch: 4 ---> elapsed time:  0.220000, quantization error: 0.323609\n",
      "\n",
      " epoch: 5 ---> elapsed time:  0.106000, quantization error: 0.280181\n",
      "\n",
      " epoch: 6 ---> elapsed time:  0.188000, quantization error: 0.242759\n",
      "\n",
      " epoch: 7 ---> elapsed time:  0.193000, quantization error: 0.209963\n",
      "\n",
      " Finetune training...\n",
      " radius_ini: 1.000000 , radius_final: 1.000000, trainlen: 10\n",
      "\n",
      " epoch: 1 ---> elapsed time:  0.117000, quantization error: 0.178168\n",
      "\n",
      " epoch: 2 ---> elapsed time:  0.192000, quantization error: 0.170193\n",
      "\n",
      " epoch: 3 ---> elapsed time:  0.172000, quantization error: 0.167515\n",
      "\n",
      " epoch: 4 ---> elapsed time:  0.180000, quantization error: 0.166193\n",
      "\n",
      " epoch: 5 ---> elapsed time:  0.220000, quantization error: 0.164876\n",
      "\n",
      " epoch: 6 ---> elapsed time:  0.212000, quantization error: 0.164149\n",
      "\n",
      " epoch: 7 ---> elapsed time:  0.130000, quantization error: 0.163602\n",
      "\n",
      " epoch: 8 ---> elapsed time:  0.182000, quantization error: 0.163426\n",
      "\n",
      " epoch: 9 ---> elapsed time:  0.130000, quantization error: 0.163311\n",
      "\n",
      " epoch: 10 ---> elapsed time:  0.101000, quantization error: 0.163257\n",
      "\n",
      " Final quantization error: 0.163005\n",
      " train took: 3.254000 seconds\n"
     ]
    }
   ],
   "source": [
    "SOM.train(n_job = 1, verbose = 'info')"
   ]
  },
  {
   "cell_type": "code",
   "execution_count": 74,
   "metadata": {},
   "outputs": [
    {
     "data": {
      "image/png": "[encoded data removed]",
      "text/plain": [
       "<Figure size 825x275 with 4 Axes>"
      ]
     },
     "metadata": {},
     "output_type": "display_data"
    }
   ],
   "source": [
    "SOM_plot = sompy.mapview.View2DPacked(30, 30, 'test', text_size = 18)\n",
    "SOM_plot.show(SOM)"
   ]
  },
  {
   "cell_type": "code",
   "execution_count": null,
   "metadata": {},
   "outputs": [],
   "source": []
  }
 ],
 "metadata": {
  "kernelspec": {
   "display_name": "mpdg",
   "language": "python",
   "name": "python3"
  },
  "language_info": {
   "codemirror_mode": {
    "name": "ipython",
    "version": 3
   },
   "file_extension": ".py",
   "mimetype": "text/x-python",
   "name": "python",
   "nbconvert_exporter": "python",
   "pygments_lexer": "ipython3",
   "version": "3.12.3"
  }
 },
 "nbformat": 4,
 "nbformat_minor": 2
}
