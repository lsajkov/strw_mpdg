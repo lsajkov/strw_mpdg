{
 "cells": [
  {
   "cell_type": "code",
   "execution_count": 1,
   "metadata": {},
   "outputs": [],
   "source": [
    "import os\n",
    "import logging\n",
    "import numpy as np\n",
    "import matplotlib.pyplot as plt\n",
    "from random import random\n",
    "\n",
    "from astropy.io import fits\n",
    "from astropy.table import Table, vstack\n",
    "import astropy.units as u\n",
    "\n",
    "\n",
    "import sompy\n",
    "import sklearn_som.som as sklearn_som\n",
    "from sklearn.decomposition import PCA\n",
    "\n",
    "\n",
    "def errJy_to_errABmag(flux_Jy, fluxerr_Jy):\n",
    "    return -2.5 / (flux_Jy * np.log(10)) * fluxerr_Jy\n",
    "\n",
    "def mag_snr(magerr):\n",
    "    return 2.5 / (np.log(10) * magerr)\n",
    "\n",
    "plt.rcParams.update({\n",
    "    'font.family': 'serif',\n",
    "    'font.size': 18,\n",
    "    'axes.labelsize': 'large',\n",
    "    'mathtext.fontset': 'stix'\n",
    "})\n",
    "\n",
    "logging.getLogger('matplotlib.font_manager').setLevel(logging.ERROR)"
   ]
  },
  {
   "cell_type": "markdown",
   "metadata": {},
   "source": [
    "## SOMPY test"
   ]
  },
  {
   "cell_type": "code",
   "execution_count": 3,
   "metadata": {},
   "outputs": [],
   "source": [
    "#load in data produced in primary_targeting_region.ipynb\n",
    "cut_data_file = '/data2/lsajkov/mpdg/data_products/GAMA/GAMA_primtarg_snr100_lms3_20jun2024.fits'\n",
    "\n",
    "with fits.open(cut_data_file) as cat:\n",
    "    GAMA_vect_data = Table(cat[1].data)"
   ]
  },
  {
   "cell_type": "code",
   "execution_count": 55,
   "metadata": {},
   "outputs": [
    {
     "name": "stdout",
     "output_type": "stream",
     "text": [
      "Selected 8465 out of 33857 entries (25%)\n"
     ]
    }
   ],
   "source": [
    "#select random subset of data\n",
    "#initialize array of Falses, flip randomly until a desired fraction is reached\n",
    "random_fraction = 0.25 #select random_fraction of data (e.g. 0.1 will select 10% of the data, randomly)\n",
    "\n",
    "number_of_entries = len(GAMA_vect_data)\n",
    "random_idx = [False] * number_of_entries\n",
    "\n",
    "while sum(random_idx)/number_of_entries < random_fraction:\n",
    "    i = int(random() * number_of_entries)\n",
    "    random_idx[i] = True\n",
    "\n",
    "random_idx_complement = [not entry for entry in random_idx]\n",
    "\n",
    "if sum(random_idx) + sum(random_idx_complement) == number_of_entries:\n",
    "    print(f'Selected {sum(random_idx)} out of {number_of_entries} entries ({int(100 * sum(random_idx)/number_of_entries)}%)')\n",
    "else: raise(ValueError('Random array and its complement do not sum to total number of elements!'))"
   ]
  },
  {
   "cell_type": "code",
   "execution_count": 59,
   "metadata": {},
   "outputs": [],
   "source": [
    "training_data = GAMA_vect_data[random_idx]\n",
    "\n",
    "r_mag            = list(training_data['r_mag'])\n",
    "r_mag_err        = list(training_data['r_mag_err'])\n",
    "gr_color         = list(training_data['gr_color'])\n",
    "gr_color_err     = list(training_data['gr_color_err'])\n",
    "surf_bright      = list(training_data['surf_bright_r'])\n",
    "\n",
    "log_stellar_mass = list(training_data['log_stellar_mass'])\n",
    "redshift         = list(training_data['redshift'])\n",
    "\n",
    "testing_data = GAMA_vect_data[random_idx_complement]\n",
    "\n",
    "r_mag_test            = list(testing_data['r_mag'])\n",
    "r_mag_err_test        = list(testing_data['r_mag_err'])\n",
    "gr_color_test         = list(testing_data['gr_color'])\n",
    "gr_color_err_test     = list(testing_data['gr_color_err'])\n",
    "surf_bright_test      = list(testing_data['surf_bright_r'])\n",
    "\n",
    "log_stellar_mass_test = list(testing_data['log_stellar_mass'])\n",
    "redshift_test         = list(testing_data['redshift'])"
   ]
  },
  {
   "cell_type": "code",
   "execution_count": 76,
   "metadata": {},
   "outputs": [],
   "source": [
    "SOMready_training_data = list(zip(r_mag, gr_color, surf_bright, log_stellar_mass))\n",
    "SOMready_training_data = np.array(SOMready_training_data)\n",
    "\n",
    "SOMready_testing_data = list(zip(r_mag_test, gr_color_test, surf_bright_test))\n",
    "SOMready_testing_data = np.array(SOMready_testing_data)"
   ]
  },
  {
   "cell_type": "code",
   "execution_count": 61,
   "metadata": {},
   "outputs": [],
   "source": [
    "mapsize = [16, 16]\n",
    "\n",
    "SOM = sompy.SOMFactory.build(SOMready_training_data,\n",
    "                             mapsize = mapsize,\n",
    "                             component_names = ['r_mag', 'gr_color', 'surf_bright', 'log_stellar_mass'])"
   ]
  },
  {
   "cell_type": "code",
   "execution_count": 96,
   "metadata": {},
   "outputs": [
    {
     "name": "stderr",
     "output_type": "stream",
     "text": [
      " Training...\n",
      " pca_linear_initialization took: 0.014000 seconds\n",
      " Rough training...\n",
      " radius_ini: 2.000000 , radius_final: 1.000000, trainlen: 30\n",
      "\n",
      " epoch: 1 ---> elapsed time:  0.063000, quantization error: 0.786993\n",
      "\n",
      " epoch: 2 ---> elapsed time:  0.075000, quantization error: 0.745075\n",
      "\n",
      " epoch: 3 ---> elapsed time:  0.065000, quantization error: 0.728901\n",
      "\n",
      " epoch: 4 ---> elapsed time:  0.060000, quantization error: 0.719307\n",
      "\n",
      " epoch: 5 ---> elapsed time:  0.061000, quantization error: 0.708716\n",
      "\n",
      " epoch: 6 ---> elapsed time:  0.070000, quantization error: 0.698834\n",
      "\n",
      " epoch: 7 ---> elapsed time:  0.075000, quantization error: 0.689707\n",
      "\n",
      " epoch: 8 ---> elapsed time:  0.064000, quantization error: 0.681115\n",
      "\n",
      " epoch: 9 ---> elapsed time:  0.066000, quantization error: 0.673549\n",
      "\n",
      " epoch: 10 ---> elapsed time:  0.073000, quantization error: 0.666331\n",
      "\n",
      " epoch: 11 ---> elapsed time:  0.060000, quantization error: 0.659889\n",
      "\n",
      " epoch: 12 ---> elapsed time:  0.076000, quantization error: 0.653800\n",
      "\n",
      " epoch: 13 ---> elapsed time:  0.119000, quantization error: 0.647995\n",
      "\n",
      " epoch: 14 ---> elapsed time:  0.057000, quantization error: 0.641749\n",
      "\n",
      " epoch: 15 ---> elapsed time:  0.062000, quantization error: 0.635911\n",
      "\n",
      " epoch: 16 ---> elapsed time:  0.065000, quantization error: 0.630213\n",
      "\n",
      " epoch: 17 ---> elapsed time:  0.073000, quantization error: 0.624721\n",
      "\n",
      " epoch: 18 ---> elapsed time:  0.048000, quantization error: 0.619085\n",
      "\n",
      " epoch: 19 ---> elapsed time:  0.057000, quantization error: 0.613252\n",
      "\n",
      " epoch: 20 ---> elapsed time:  0.035000, quantization error: 0.607420\n",
      "\n",
      " epoch: 21 ---> elapsed time:  0.041000, quantization error: 0.601976\n",
      "\n",
      " epoch: 22 ---> elapsed time:  0.043000, quantization error: 0.596542\n",
      "\n",
      " epoch: 23 ---> elapsed time:  0.045000, quantization error: 0.590977\n",
      "\n",
      " epoch: 24 ---> elapsed time:  0.039000, quantization error: 0.585206\n",
      "\n",
      " epoch: 25 ---> elapsed time:  0.045000, quantization error: 0.579040\n",
      "\n",
      " epoch: 26 ---> elapsed time:  0.048000, quantization error: 0.573097\n",
      "\n",
      " epoch: 27 ---> elapsed time:  0.033000, quantization error: 0.567336\n",
      "\n",
      " epoch: 28 ---> elapsed time:  0.034000, quantization error: 0.561333\n",
      "\n",
      " epoch: 29 ---> elapsed time:  0.043000, quantization error: 0.555200\n",
      "\n",
      " epoch: 30 ---> elapsed time:  0.038000, quantization error: 0.549104\n",
      "\n",
      " Finetune training...\n",
      " radius_ini: 1.000000 , radius_final: 1.000000, trainlen: 60\n",
      "\n",
      " epoch: 1 ---> elapsed time:  0.039000, quantization error: 0.543059\n",
      "\n",
      " epoch: 2 ---> elapsed time:  0.045000, quantization error: 0.541698\n",
      "\n",
      " epoch: 3 ---> elapsed time:  0.043000, quantization error: 0.541067\n",
      "\n",
      " epoch: 4 ---> elapsed time:  0.039000, quantization error: 0.540761\n",
      "\n",
      " epoch: 5 ---> elapsed time:  0.052000, quantization error: 0.540569\n",
      "\n",
      " epoch: 6 ---> elapsed time:  0.048000, quantization error: 0.540362\n",
      "\n",
      " epoch: 7 ---> elapsed time:  0.041000, quantization error: 0.540182\n",
      "\n",
      " epoch: 8 ---> elapsed time:  0.043000, quantization error: 0.540066\n",
      "\n",
      " epoch: 9 ---> elapsed time:  0.039000, quantization error: 0.539978\n",
      "\n",
      " epoch: 10 ---> elapsed time:  0.044000, quantization error: 0.539888\n",
      "\n",
      " epoch: 11 ---> elapsed time:  0.048000, quantization error: 0.539822\n",
      "\n",
      " epoch: 12 ---> elapsed time:  0.035000, quantization error: 0.539768\n",
      "\n",
      " epoch: 13 ---> elapsed time:  0.041000, quantization error: 0.539720\n",
      "\n",
      " epoch: 14 ---> elapsed time:  0.043000, quantization error: 0.539636\n",
      "\n",
      " epoch: 15 ---> elapsed time:  0.044000, quantization error: 0.539629\n",
      "\n",
      " epoch: 16 ---> elapsed time:  0.048000, quantization error: 0.539582\n",
      "\n",
      " epoch: 17 ---> elapsed time:  0.038000, quantization error: 0.539544\n",
      "\n",
      " epoch: 18 ---> elapsed time:  0.054000, quantization error: 0.539543\n",
      "\n",
      " epoch: 19 ---> elapsed time:  0.041000, quantization error: 0.539414\n",
      "\n",
      " epoch: 20 ---> elapsed time:  0.045000, quantization error: 0.539400\n",
      "\n",
      " epoch: 21 ---> elapsed time:  0.042000, quantization error: 0.539378\n",
      "\n",
      " epoch: 22 ---> elapsed time:  0.069000, quantization error: 0.539338\n",
      "\n",
      " epoch: 23 ---> elapsed time:  0.035000, quantization error: 0.539339\n",
      "\n",
      " epoch: 24 ---> elapsed time:  0.049000, quantization error: 0.539364\n",
      "\n",
      " epoch: 25 ---> elapsed time:  0.046000, quantization error: 0.539338\n",
      "\n",
      " epoch: 26 ---> elapsed time:  0.068000, quantization error: 0.539312\n",
      "\n",
      " epoch: 27 ---> elapsed time:  0.045000, quantization error: 0.539282\n",
      "\n",
      " epoch: 28 ---> elapsed time:  0.036000, quantization error: 0.539244\n",
      "\n",
      " epoch: 29 ---> elapsed time:  0.035000, quantization error: 0.539244\n",
      "\n",
      " epoch: 30 ---> elapsed time:  0.045000, quantization error: 0.539259\n",
      "\n",
      " epoch: 31 ---> elapsed time:  0.037000, quantization error: 0.539269\n",
      "\n",
      " epoch: 32 ---> elapsed time:  0.044000, quantization error: 0.539267\n",
      "\n",
      " epoch: 33 ---> elapsed time:  0.042000, quantization error: 0.539266\n",
      "\n",
      " epoch: 34 ---> elapsed time:  0.045000, quantization error: 0.539266\n",
      "\n",
      " epoch: 35 ---> elapsed time:  0.044000, quantization error: 0.539266\n",
      "\n",
      " epoch: 36 ---> elapsed time:  0.040000, quantization error: 0.539266\n",
      "\n",
      " epoch: 37 ---> elapsed time:  0.043000, quantization error: 0.539266\n",
      "\n",
      " epoch: 38 ---> elapsed time:  0.042000, quantization error: 0.539266\n",
      "\n",
      " epoch: 39 ---> elapsed time:  0.046000, quantization error: 0.539266\n",
      "\n",
      " epoch: 40 ---> elapsed time:  0.039000, quantization error: 0.539266\n",
      "\n",
      " epoch: 41 ---> elapsed time:  0.035000, quantization error: 0.539266\n",
      "\n",
      " epoch: 42 ---> elapsed time:  0.046000, quantization error: 0.539266\n",
      "\n",
      " epoch: 43 ---> elapsed time:  0.048000, quantization error: 0.539266\n",
      "\n",
      " epoch: 44 ---> elapsed time:  0.069000, quantization error: 0.539266\n",
      "\n",
      " epoch: 45 ---> elapsed time:  0.082000, quantization error: 0.539266\n",
      "\n",
      " epoch: 46 ---> elapsed time:  0.085000, quantization error: 0.539266\n",
      "\n",
      " epoch: 47 ---> elapsed time:  0.079000, quantization error: 0.539266\n",
      "\n",
      " epoch: 48 ---> elapsed time:  0.043000, quantization error: 0.539266\n",
      "\n",
      " epoch: 49 ---> elapsed time:  0.042000, quantization error: 0.539266\n",
      "\n",
      " epoch: 50 ---> elapsed time:  0.051000, quantization error: 0.539266\n",
      "\n",
      " epoch: 51 ---> elapsed time:  0.044000, quantization error: 0.539266\n",
      "\n",
      " epoch: 52 ---> elapsed time:  0.046000, quantization error: 0.539266\n",
      "\n",
      " epoch: 53 ---> elapsed time:  0.051000, quantization error: 0.539266\n",
      "\n",
      " epoch: 54 ---> elapsed time:  0.052000, quantization error: 0.539266\n",
      "\n",
      " epoch: 55 ---> elapsed time:  0.048000, quantization error: 0.539266\n",
      "\n",
      " epoch: 56 ---> elapsed time:  0.038000, quantization error: 0.539266\n",
      "\n",
      " epoch: 57 ---> elapsed time:  0.045000, quantization error: 0.539266\n",
      "\n",
      " epoch: 58 ---> elapsed time:  0.044000, quantization error: 0.539266\n",
      "\n",
      " epoch: 59 ---> elapsed time:  0.066000, quantization error: 0.539266\n",
      "\n",
      " epoch: 60 ---> elapsed time:  0.057000, quantization error: 0.539266\n",
      "\n",
      " Final quantization error: 0.539266\n",
      " train took: 4.811000 seconds\n"
     ]
    }
   ],
   "source": [
    "SOM.train(n_job = 3, train_len_factor = 30, verbose = 'info')"
   ]
  },
  {
   "cell_type": "code",
   "execution_count": 97,
   "metadata": {},
   "outputs": [
    {
     "data": {
      "image/png": "[encoded data removed]",
      "text/plain": [
       "<Figure size 1100x275 with 5 Axes>"
      ]
     },
     "metadata": {},
     "output_type": "display_data"
    }
   ],
   "source": [
    "SOM_plot = sompy.mapview.View2DPacked(16, 16, 'test', text_size = 16)\n",
    "SOM_plot.show(SOM)"
   ]
  },
  {
   "cell_type": "code",
   "execution_count": 98,
   "metadata": {},
   "outputs": [],
   "source": [
    "predicted_logmstar = SOM.predict(SOMready_testing_data)"
   ]
  },
  {
   "cell_type": "code",
   "execution_count": 104,
   "metadata": {},
   "outputs": [
    {
     "name": "stderr",
     "output_type": "stream",
     "text": [
      "<>:7: SyntaxWarning: invalid escape sequence '\\o'\n",
      "<>:8: SyntaxWarning: invalid escape sequence '\\o'\n",
      "<>:7: SyntaxWarning: invalid escape sequence '\\o'\n",
      "<>:8: SyntaxWarning: invalid escape sequence '\\o'\n",
      "/var/tmp/lsajkov/ipykernel_3805029/2913909293.py:7: SyntaxWarning: invalid escape sequence '\\o'\n",
      "  ax.set_xlabel('GAMA log$(M_*/M_{\\odot})$')\n",
      "/var/tmp/lsajkov/ipykernel_3805029/2913909293.py:8: SyntaxWarning: invalid escape sequence '\\o'\n",
      "  ax.set_ylabel('SOM log$(M_*/M_{\\odot})$')\n"
     ]
    },
    {
     "data": {
      "text/plain": [
       "Text(0, 0.5, 'SOM log$(M_*/M_{\\\\odot})$')"
      ]
     },
     "execution_count": 104,
     "metadata": {},
     "output_type": "execute_result"
    },
    {
     "data": {
      "image/png": "[encoded data removed]",
      "text/plain": [
       "<Figure size 1000x1000 with 1 Axes>"
      ]
     },
     "metadata": {},
     "output_type": "display_data"
    }
   ],
   "source": [
    "fig = plt.figure(figsize = (10, 10))\n",
    "ax = fig.add_subplot()\n",
    "\n",
    "ax.scatter(log_stellar_mass_test, predicted_logmstar, color = 'black', s = 1)\n",
    "ax.axline([10, 10], slope = 1, color = 'red')\n",
    "\n",
    "ax.set_xlabel('GAMA log$(M_*/M_{\\odot})$')\n",
    "ax.set_ylabel('SOM log$(M_*/M_{\\odot})$')\n",
    "\n",
    "# ax.set_ylim(9, 11.3)\n",
    "# ax.set_xlim(9, 11.3)"
   ]
  },
  {
   "cell_type": "markdown",
   "metadata": {},
   "source": [
    "## Try with scikit (sklearn-som)"
   ]
  },
  {
   "cell_type": "code",
   "execution_count": 61,
   "metadata": {},
   "outputs": [],
   "source": [
    "#load in data produced in primary_targeting_region.ipynb\n",
    "cut_data_file = '/data2/lsajkov/mpdg/data_products/GAMA/GAMA_primtarg_snr80_lms6_12_24jun2024.fits'\n",
    "\n",
    "with fits.open(cut_data_file) as cat:\n",
    "    GAMA_vect_data = Table(cat[1].data)"
   ]
  },
  {
   "cell_type": "code",
   "execution_count": 64,
   "metadata": {},
   "outputs": [
    {
     "name": "stdout",
     "output_type": "stream",
     "text": [
      "Selected 9338 out of 93374 entries (10%)\n"
     ]
    }
   ],
   "source": [
    "#select random subset of data\n",
    "#initialize array of Falses, flip randomly until a desired fraction is reached\n",
    "random_fraction = 0.1 #select random_fraction of data (e.g. 0.1 will select 10% of the data, randomly)\n",
    "\n",
    "number_of_entries = len(GAMA_vect_data)\n",
    "random_idx = [False] * number_of_entries\n",
    "\n",
    "while sum(random_idx)/number_of_entries < random_fraction:\n",
    "    i = int(random() * number_of_entries)\n",
    "    random_idx[i] = True\n",
    "\n",
    "random_idx_complement = [not entry for entry in random_idx]\n",
    "\n",
    "if sum(random_idx) + sum(random_idx_complement) == number_of_entries:\n",
    "    print(f'Selected {sum(random_idx)} out of {number_of_entries} entries ({int(100 * sum(random_idx)/number_of_entries)}%)')\n",
    "else: raise(ValueError('Random array and its complement do not sum to total number of elements!'))"
   ]
  },
  {
   "cell_type": "code",
   "execution_count": 138,
   "metadata": {},
   "outputs": [],
   "source": [
    "training_data = GAMA_vect_data[random_idx]\n",
    "\n",
    "r_mag            = np.array(training_data['r_mag'])\n",
    "r_mag_err        = np.array(training_data['r_mag_err'])\n",
    "gr_color         = np.array(training_data['gr_color'])\n",
    "gr_color_err     = np.array(training_data['gr_color_err'])\n",
    "surf_bright      = np.array(training_data['surf_bright_r'])\n",
    "\n",
    "log_stellar_mass = np.array(training_data['log_stellar_mass'])\n",
    "redshift         = np.array(training_data['redshift'])\n",
    "\n",
    "testing_data = GAMA_vect_data[random_idx_complement]\n",
    "\n",
    "r_mag_test            = np.array(testing_data['r_mag'])\n",
    "r_mag_err_test        = np.array(testing_data['r_mag_err'])\n",
    "gr_color_test         = np.array(testing_data['gr_color'])\n",
    "gr_color_err_test     = np.array(testing_data['gr_color_err'])\n",
    "surf_bright_test      = np.array(testing_data['surf_bright_r'])\n",
    "\n",
    "log_stellar_mass_test = np.array(testing_data['log_stellar_mass'])\n",
    "redshift_test         = np.array(testing_data['redshift'])"
   ]
  },
  {
   "cell_type": "code",
   "execution_count": 174,
   "metadata": {},
   "outputs": [],
   "source": [
    "training_data     = GAMA_vect_data[random_idx]['r_mag', 'gr_color', 'surf_bright_r',\n",
    "                                           'log_stellar_mass', 'redshift']\n",
    "\n",
    "testing_data_data = GAMA_vect_data[random_idx_complement]['r_mag', 'gr_color', 'surf_bright_r',\n",
    "                                           'log_stellar_mass', 'redshift']\n"
   ]
  },
  {
   "cell_type": "code",
   "execution_count": 286,
   "metadata": {},
   "outputs": [],
   "source": [
    "normalization_params_train = {}\n",
    "normalization_params_test  = {}\n",
    "\n",
    "for variable in training_data.keys():\n",
    "    normalization_params_train[variable] = {}\n",
    "    normalization_params_train[variable]['mean'] = np.mean(training_data[variable])\n",
    "    normalization_params_train[variable]['std']  = np.std(training_data[variable])\n",
    "\n",
    "    normalization_params_test[variable] = {}\n",
    "    normalization_params_test[variable]['mean'] = np.mean(testing_data[variable])\n",
    "    normalization_params_test[variable]['std']  = np.std(testing_data[variable])"
   ]
  },
  {
   "cell_type": "code",
   "execution_count": 294,
   "metadata": {},
   "outputs": [
    {
     "name": "stdout",
     "output_type": "stream",
     "text": [
      "Param\tMean\tVar\n",
      "----------------------\n",
      "r_mag\t17.725\t1.204\n",
      "normed \t0.000\t1.000\n",
      "test\t17.722\t1.211\n",
      "normed \t0.000\t1.000\n",
      "----------------------\n",
      "gr_colo\t0.523\t0.016\n",
      "normed \t0.000\t1.000\n",
      "test\t0.523\t0.016\n",
      "normed \t0.000\t1.000\n",
      "----------------------\n",
      "surf_br\t21.813\t0.473\n",
      "normed \t0.000\t1.000\n",
      "test\t21.807\t0.476\n",
      "normed \t-0.000\t1.000\n",
      "----------------------\n",
      "log_ste\t10.345\t0.293\n",
      "normed \t-0.000\t1.000\n",
      "test\t10.351\t0.282\n",
      "normed \t-0.000\t1.000\n",
      "----------------------\n",
      "redshif\t0.155\t0.007\n",
      "normed \t-0.000\t1.000\n",
      "test\t0.155\t0.007\n",
      "normed \t-0.000\t1.000\n",
      "----------------------\n"
     ]
    }
   ],
   "source": [
    "training_data_norm = training_data.copy()\n",
    "testing_data_norm  = testing_data.copy()\n",
    "\n",
    "print('Param\\tMean\\tVar')\n",
    "print(f'{22 * \"-\"}')\n",
    "for variable in training_data.keys():\n",
    "    \n",
    "    training_data_norm[variable] -= normalization_params_train[variable]['mean']\n",
    "    training_data_norm[variable] /= normalization_params_train[variable]['std']\n",
    "\n",
    "    testing_data_norm[variable] -= normalization_params_test[variable]['mean']\n",
    "    testing_data_norm[variable] /= normalization_params_test[variable]['std']\n",
    "\n",
    "    print(f'{variable[:7]}\\t{np.mean(training_data[variable]):.3f}\\t{np.var(training_data[variable]):.3f}')\n",
    "    print(f'normed \\t{np.mean(training_data_norm[variable]):.3f}\\t{np.var(training_data_norm[variable]):.3f}')\n",
    "    print(f'test\\t{np.mean(testing_data[variable]):.3f}\\t{np.var(testing_data[variable]):.3f}')\n",
    "    print(f'normed \\t{np.mean(testing_data_norm[variable]):.3f}\\t{np.var(testing_data_norm[variable]):.3f}')\n",
    "    print(f'{22 * \"-\"}')\n",
    "\n",
    "training_data_norm = list(zip(training_data_norm['r_mag'],\n",
    "                              training_data_norm['gr_color'],\n",
    "                              training_data_norm['surf_bright_r'],\n",
    "                              training_data_norm['log_stellar_mass'],\n",
    "                              training_data_norm['redshift']))\n",
    "training_data_norm = np.array(training_data_norm)\n",
    "\n",
    "testing_data_norm = list(zip(testing_data_norm['r_mag'],\n",
    "                             testing_data_norm['gr_color'],\n",
    "                             testing_data_norm['surf_bright_r']))#,\n",
    "                            #  testing_data_norm['log_stellar_mass'],\n",
    "                            #  testing_data_norm['redshift']))\n",
    "testing_data_norm = np.array(testing_data_norm)"
   ]
  },
  {
   "cell_type": "code",
   "execution_count": 288,
   "metadata": {},
   "outputs": [],
   "source": [
    "SOM = sklearn_som.SOM(m = 16, n = 16,\n",
    "                      dim = 5, lr = 1,\n",
    "                      max_iter = 3e5)"
   ]
  },
  {
   "cell_type": "code",
   "execution_count": 289,
   "metadata": {},
   "outputs": [],
   "source": [
    "SOM.fit(training_data_norm, )"
   ]
  },
  {
   "cell_type": "code",
   "execution_count": 295,
   "metadata": {},
   "outputs": [
    {
     "ename": "AssertionError",
     "evalue": "This SOM has dimesnion 5. Received input with dimension 3",
     "output_type": "error",
     "traceback": [
      "\u001b[0;31m---------------------------------------------------------------------------\u001b[0m",
      "\u001b[0;31mAssertionError\u001b[0m                            Traceback (most recent call last)",
      "Cell \u001b[0;32mIn[295], line 1\u001b[0m\n\u001b[0;32m----> 1\u001b[0m results \u001b[38;5;241m=\u001b[39m SOM\u001b[38;5;241m.\u001b[39mpredict(testing_data_norm)\n",
      "File \u001b[0;32m/data2/lsajkov/mpdg/conda/envs/mpdg/lib/python3.12/site-packages/sklearn_som/som.py:203\u001b[0m, in \u001b[0;36mSOM.predict\u001b[0;34m(self, X)\u001b[0m\n\u001b[1;32m    201\u001b[0m \u001b[38;5;66;03m# Make sure X has proper shape\u001b[39;00m\n\u001b[1;32m    202\u001b[0m \u001b[38;5;28;01massert\u001b[39;00m \u001b[38;5;28mlen\u001b[39m(X\u001b[38;5;241m.\u001b[39mshape) \u001b[38;5;241m==\u001b[39m \u001b[38;5;241m2\u001b[39m, \u001b[38;5;124mf\u001b[39m\u001b[38;5;124m'\u001b[39m\u001b[38;5;124mX should have two dimensions, not \u001b[39m\u001b[38;5;132;01m{\u001b[39;00m\u001b[38;5;28mlen\u001b[39m(X\u001b[38;5;241m.\u001b[39mshape)\u001b[38;5;132;01m}\u001b[39;00m\u001b[38;5;124m'\u001b[39m\n\u001b[0;32m--> 203\u001b[0m \u001b[38;5;28;01massert\u001b[39;00m X\u001b[38;5;241m.\u001b[39mshape[\u001b[38;5;241m1\u001b[39m] \u001b[38;5;241m==\u001b[39m \u001b[38;5;28mself\u001b[39m\u001b[38;5;241m.\u001b[39mdim, \u001b[38;5;124mf\u001b[39m\u001b[38;5;124m'\u001b[39m\u001b[38;5;124mThis SOM has dimesnion \u001b[39m\u001b[38;5;132;01m{\u001b[39;00m\u001b[38;5;28mself\u001b[39m\u001b[38;5;241m.\u001b[39mdim\u001b[38;5;132;01m}\u001b[39;00m\u001b[38;5;124m. Received input with dimension \u001b[39m\u001b[38;5;132;01m{\u001b[39;00mX\u001b[38;5;241m.\u001b[39mshape[\u001b[38;5;241m1\u001b[39m]\u001b[38;5;132;01m}\u001b[39;00m\u001b[38;5;124m'\u001b[39m\n\u001b[1;32m    205\u001b[0m labels \u001b[38;5;241m=\u001b[39m np\u001b[38;5;241m.\u001b[39marray([\u001b[38;5;28mself\u001b[39m\u001b[38;5;241m.\u001b[39m_find_bmu(x) \u001b[38;5;28;01mfor\u001b[39;00m x \u001b[38;5;129;01min\u001b[39;00m X])\n\u001b[1;32m    206\u001b[0m \u001b[38;5;28;01mreturn\u001b[39;00m labels\n",
      "\u001b[0;31mAssertionError\u001b[0m: This SOM has dimesnion 5. Received input with dimension 3"
     ]
    }
   ],
   "source": [
    "results = SOM.predict(testing_data_norm)"
   ]
  },
  {
   "cell_type": "code",
   "execution_count": 293,
   "metadata": {},
   "outputs": [
    {
     "data": {
      "text/plain": [
       "0"
      ]
     },
     "execution_count": 293,
     "metadata": {},
     "output_type": "execute_result"
    }
   ],
   "source": [
    "np.min(results)"
   ]
  },
  {
   "cell_type": "markdown",
   "metadata": {},
   "source": [
    "## SOMPY with normalization"
   ]
  },
  {
   "cell_type": "code",
   "execution_count": 2,
   "metadata": {},
   "outputs": [],
   "source": [
    "#load in data produced in primary_targeting_region.ipynb\n",
    "cut_data_file = '/data2/lsajkov/mpdg/data_products/GAMA/GAMA_primtarg_snr80_lms6_12_24jun2024.fits'\n",
    "\n",
    "with fits.open(cut_data_file) as cat:\n",
    "    GAMA_vect_data = Table(cat[1].data)"
   ]
  },
  {
   "cell_type": "code",
   "execution_count": 3,
   "metadata": {},
   "outputs": [
    {
     "name": "stdout",
     "output_type": "stream",
     "text": [
      "Selected 9338 out of 93374 entries (10%)\n"
     ]
    }
   ],
   "source": [
    "#select random subset of data\n",
    "#initialize array of Falses, flip randomly until a desired fraction is reached\n",
    "random_fraction = 0.1 #select random_fraction of data (e.g. 0.1 will select 10% of the data, randomly)\n",
    "\n",
    "number_of_entries = len(GAMA_vect_data)\n",
    "random_idx = [False] * number_of_entries\n",
    "\n",
    "while sum(random_idx)/number_of_entries < random_fraction:\n",
    "    i = int(random() * number_of_entries)\n",
    "    random_idx[i] = True\n",
    "\n",
    "random_idx_complement = [not entry for entry in random_idx]\n",
    "\n",
    "if sum(random_idx) + sum(random_idx_complement) == number_of_entries:\n",
    "    print(f'Selected {sum(random_idx)} out of {number_of_entries} entries ({int(100 * sum(random_idx)/number_of_entries)}%)')\n",
    "else: raise(ValueError('Random array and its complement do not sum to total number of elements!'))"
   ]
  },
  {
   "cell_type": "code",
   "execution_count": 4,
   "metadata": {},
   "outputs": [],
   "source": [
    "training_data = GAMA_vect_data[random_idx]['r_mag', 'gr_color', 'surf_bright_r',\n",
    "                                           'log_stellar_mass', 'redshift']\n",
    "\n",
    "testing_data  = GAMA_vect_data[random_idx_complement]['r_mag', 'gr_color', 'surf_bright_r',\n",
    "                                           'log_stellar_mass', 'redshift']"
   ]
  },
  {
   "cell_type": "code",
   "execution_count": 5,
   "metadata": {},
   "outputs": [],
   "source": [
    "normalization_params = {}\n",
    "\n",
    "for variable in training_data.keys():\n",
    "    normalization_params[variable] = {}\n",
    "    normalization_params[variable]['train'] = {}\n",
    "    normalization_params[variable]['test']  = {}\n",
    "\n",
    "\n",
    "    normalization_params[variable]['train']['mean'] = np.mean(training_data[variable])\n",
    "    normalization_params[variable]['train']['std']  = np.std(training_data[variable])\n",
    "\n",
    "    normalization_params[variable]['test']['mean'] = np.mean(testing_data[variable])\n",
    "    normalization_params[variable]['test']['std']  = np.std(testing_data[variable])"
   ]
  },
  {
   "cell_type": "code",
   "execution_count": 32,
   "metadata": {},
   "outputs": [
    {
     "name": "stdout",
     "output_type": "stream",
     "text": [
      "Param\tMean\tVar\n",
      "----------------------\n",
      "r_mag\t18.564\t1.159\n",
      "normed \t0.000\t1.000\n",
      "test\t18.572\t1.132\n",
      "normed \t0.000\t1.000\n",
      "----------------------\n",
      "gr_colo\t0.471\t0.016\n",
      "normed \t-0.000\t1.000\n",
      "test\t0.470\t0.016\n",
      "normed \t-0.000\t1.000\n",
      "----------------------\n",
      "surf_br\t22.344\t0.500\n",
      "normed \t0.000\t1.000\n",
      "test\t22.352\t0.502\n",
      "normed \t-0.000\t1.000\n",
      "----------------------\n",
      "log_ste\t10.147\t0.411\n",
      "normed \t0.000\t1.000\n",
      "test\t10.138\t0.415\n",
      "normed \t-0.000\t1.000\n",
      "----------------------\n",
      "redshif\t0.192\t0.013\n",
      "normed \t-0.000\t1.000\n",
      "test\t0.192\t0.014\n",
      "normed \t-0.000\t1.000\n",
      "----------------------\n"
     ]
    }
   ],
   "source": [
    "training_data_norm = training_data.copy()\n",
    "testing_data_norm  = testing_data.copy()\n",
    "\n",
    "print('Param\\tMean\\tVar')\n",
    "print(f'{22 * \"-\"}')\n",
    "for variable in training_data.keys():\n",
    "    \n",
    "    training_data_norm[variable] -= normalization_params[variable]['train']['mean']\n",
    "    training_data_norm[variable] /= normalization_params[variable]['train']['std']\n",
    "\n",
    "    testing_data_norm[variable] -= normalization_params[variable]['test']['mean']\n",
    "    testing_data_norm[variable] /= normalization_params[variable]['test']['std']\n",
    "\n",
    "    print(f'{variable[:7]}\\t{np.mean(training_data[variable]):.3f}\\t{np.var(training_data[variable]):.3f}')\n",
    "    print(f'normed \\t{np.mean(training_data_norm[variable]):.3f}\\t{np.var(training_data_norm[variable]):.3f}')\n",
    "    print(f'test\\t{np.mean(testing_data[variable]):.3f}\\t{np.var(testing_data[variable]):.3f}')\n",
    "    print(f'normed \\t{np.mean(testing_data_norm[variable]):.3f}\\t{np.var(testing_data_norm[variable]):.3f}')\n",
    "    print(f'{22 * \"-\"}')\n",
    "\n",
    "training_data_norm_noparams = list(zip(training_data_norm['r_mag'],\n",
    "                              training_data_norm['gr_color'],\n",
    "                              training_data_norm['surf_bright_r']))\n",
    "training_data_norm_pjparams = list(zip(training_data_norm['log_stellar_mass'],\n",
    "                              training_data_norm['redshift']))\n",
    "\n",
    "training_data_norm_logmstar = list(zip(training_data_norm['r_mag'],\n",
    "                              training_data_norm['gr_color'],\n",
    "                              training_data_norm['surf_bright_r'],\n",
    "                              training_data_norm['log_stellar_mass']))\n",
    "# training_data_norm_redshift = list(zip(training_data_norm['r_mag'],\n",
    "#                               training_data_norm['gr_color'],\n",
    "#                               training_data_norm['surf_bright_r'],\n",
    "#                               training_data_norm['redshift']))\n",
    "\n",
    "training_data_norm_noparams = np.array(training_data_norm_noparams, dtype = None)\n",
    "training_data_norm_pjparams = np.array(training_data_norm_pjparams, dtype = None)\n",
    "training_data_norm_logmstar = np.array(training_data_norm_logmstar, dtype = None)\n",
    "# training_data_norm_redshift = np.array(training_data_norm_redshift, dtype = None)\n",
    "\n",
    "testing_data_norm = list(zip(testing_data_norm['r_mag'],\n",
    "                             testing_data_norm['gr_color'],\n",
    "                             testing_data_norm['surf_bright_r']))#,\n",
    "                            #  testing_data_norm['log_stellar_mass'],\n",
    "                            #  testing_data_norm['redshift']))\n",
    "testing_data_norm = np.array(testing_data_norm, dtype = None)"
   ]
  },
  {
   "cell_type": "code",
   "execution_count": 36,
   "metadata": {},
   "outputs": [],
   "source": [
    "mapsize = [17, 28]\n",
    "\n",
    "SOM = sompy.SOMFactory.build(training_data_norm_logmstar,\n",
    "                             mapsize = mapsize,\n",
    "                             component_names = ['r_mag', 'gr_color', 'surf_bright', 'log_mstar'])"
   ]
  },
  {
   "cell_type": "code",
   "execution_count": 60,
   "metadata": {},
   "outputs": [
    {
     "data": {
      "text/plain": [
       "True"
      ]
     },
     "execution_count": 60,
     "metadata": {},
     "output_type": "execute_result"
    }
   ],
   "source": [
    "SOM.codebook."
   ]
  },
  {
   "cell_type": "code",
   "execution_count": 51,
   "metadata": {},
   "outputs": [
    {
     "data": {
      "text/plain": [
       "array([[1., 0.],\n",
       "       [1., 0.],\n",
       "       [0., 1.],\n",
       "       ...,\n",
       "       [0., 1.],\n",
       "       [1., 0.],\n",
       "       [1., 0.]])"
      ]
     },
     "execution_count": 51,
     "metadata": {},
     "output_type": "execute_result"
    }
   ],
   "source": [
    "SOM.predict_probability(training_data_norm_noparams, 3)"
   ]
  },
  {
   "cell_type": "code",
   "execution_count": null,
   "metadata": {},
   "outputs": [],
   "source": []
  },
  {
   "cell_type": "code",
   "execution_count": 18,
   "metadata": {},
   "outputs": [
    {
     "data": {
      "image/png": "[encoded data removed]",
      "text/plain": [
       "<Figure size 825x275 with 4 Axes>"
      ]
     },
     "metadata": {},
     "output_type": "display_data"
    }
   ],
   "source": [
    "SOM_plot = sompy.mapview.View2DPacked(10, 10, 'test', text_size = 16)\n",
    "SOM_plot.show(SOM)"
   ]
  },
  {
   "cell_type": "code",
   "execution_count": 22,
   "metadata": {},
   "outputs": [
    {
     "ename": "ValueError",
     "evalue": "operands could not be broadcast together with shapes (84036,3) (2,) ",
     "output_type": "error",
     "traceback": [
      "\u001b[0;31m---------------------------------------------------------------------------\u001b[0m",
      "\u001b[0;31mValueError\u001b[0m                                Traceback (most recent call last)",
      "Cell \u001b[0;32mIn[22], line 1\u001b[0m\n\u001b[0;32m----> 1\u001b[0m predicted_norm_logmstar \u001b[38;5;241m=\u001b[39m SOM\u001b[38;5;241m.\u001b[39mpredict(testing_data_norm)\n",
      "File \u001b[0;32m/data2/lsajkov/mpdg/conda/envs/mpdg/lib/python3.12/site-packages/SOMPY-1.1.1-py3.12.egg/sompy/sompy.py:498\u001b[0m, in \u001b[0;36mSOM.predict\u001b[0;34m(self, x_test, k, wt)\u001b[0m\n\u001b[1;32m    493\u001b[0m clf\u001b[38;5;241m.\u001b[39mfit(x_train, y_train)\n\u001b[1;32m    495\u001b[0m \u001b[38;5;66;03m# The codebook values are all normalized\u001b[39;00m\n\u001b[1;32m    496\u001b[0m \u001b[38;5;66;03m# we can normalize the input data based on mean and std of\u001b[39;00m\n\u001b[1;32m    497\u001b[0m \u001b[38;5;66;03m# original data\u001b[39;00m\n\u001b[0;32m--> 498\u001b[0m x_test \u001b[38;5;241m=\u001b[39m \u001b[38;5;28mself\u001b[39m\u001b[38;5;241m.\u001b[39m_normalizer\u001b[38;5;241m.\u001b[39mnormalize_by(\n\u001b[1;32m    499\u001b[0m     \u001b[38;5;28mself\u001b[39m\u001b[38;5;241m.\u001b[39mdata_raw[:, :target], x_test)\n\u001b[1;32m    500\u001b[0m predicted_values \u001b[38;5;241m=\u001b[39m clf\u001b[38;5;241m.\u001b[39mpredict(x_test)\n\u001b[1;32m    502\u001b[0m \u001b[38;5;28;01mreturn\u001b[39;00m \u001b[38;5;28mself\u001b[39m\u001b[38;5;241m.\u001b[39m_normalizer\u001b[38;5;241m.\u001b[39mdenormalize_by(\n\u001b[1;32m    503\u001b[0m     \u001b[38;5;28mself\u001b[39m\u001b[38;5;241m.\u001b[39mdata_raw[:, target], predicted_values)\n",
      "File \u001b[0;32m/data2/lsajkov/mpdg/conda/envs/mpdg/lib/python3.12/site-packages/SOMPY-1.1.1-py3.12.egg/sompy/normalization.py:45\u001b[0m, in \u001b[0;36mVarianceNormalizer.normalize_by\u001b[0;34m(self, raw_data, data)\u001b[0m\n\u001b[1;32m     43\u001b[0m me, st \u001b[38;5;241m=\u001b[39m \u001b[38;5;28mself\u001b[39m\u001b[38;5;241m.\u001b[39m_mean_and_standard_dev(raw_data)\n\u001b[1;32m     44\u001b[0m st[st \u001b[38;5;241m==\u001b[39m \u001b[38;5;241m0\u001b[39m] \u001b[38;5;241m=\u001b[39m \u001b[38;5;241m1\u001b[39m  \u001b[38;5;66;03m# prevent: when sd = 0, normalized result = NaN\u001b[39;00m\n\u001b[0;32m---> 45\u001b[0m \u001b[38;5;28;01mreturn\u001b[39;00m (data\u001b[38;5;241m-\u001b[39mme)\u001b[38;5;241m/\u001b[39mst\n",
      "\u001b[0;31mValueError\u001b[0m: operands could not be broadcast together with shapes (84036,3) (2,) "
     ]
    }
   ],
   "source": [
    "predicted_norm_logmstar = SOM.predict(testing_data_norm)"
   ]
  },
  {
   "cell_type": "code",
   "execution_count": 41,
   "metadata": {},
   "outputs": [
    {
     "name": "stdout",
     "output_type": "stream",
     "text": [
      "Help on method predict_by in module sompy.sompy:\n",
      "\n",
      "predict_by(data, target, k=5, wt='distance') method of sompy.sompy.SOM instance\n",
      "\n"
     ]
    }
   ],
   "source": [
    "help(SOM.predict_by)"
   ]
  },
  {
   "cell_type": "code",
   "execution_count": null,
   "metadata": {},
   "outputs": [],
   "source": []
  },
  {
   "cell_type": "markdown",
   "metadata": {},
   "source": [
    "___"
   ]
  },
  {
   "cell_type": "markdown",
   "metadata": {},
   "source": [
    "Optuna test"
   ]
  },
  {
   "cell_type": "code",
   "execution_count": 1,
   "metadata": {},
   "outputs": [
    {
     "name": "stderr",
     "output_type": "stream",
     "text": [
      "/data2/lsajkov/mpdg/conda/envs/mpdg/lib/python3.12/site-packages/tqdm/auto.py:21: TqdmWarning: IProgress not found. Please update jupyter and ipywidgets. See https://ipywidgets.readthedocs.io/en/stable/user_install.html\n",
      "  from .autonotebook import tqdm as notebook_tqdm\n"
     ]
    }
   ],
   "source": [
    "from mpdg_som import SelfOrganizingMap\n",
    "import optuna"
   ]
  },
  {
   "cell_type": "code",
   "execution_count": 2,
   "metadata": {},
   "outputs": [],
   "source": [
    "SOM = SelfOrganizingMap(mapsize = 2,\n",
    "                        dimension = 2)"
   ]
  },
  {
   "cell_type": "markdown",
   "metadata": {},
   "source": []
  },
  {
   "cell_type": "code",
   "execution_count": 5,
   "metadata": {},
   "outputs": [
    {
     "data": {
      "text/plain": [
       "[2, 2]"
      ]
     },
     "execution_count": 5,
     "metadata": {},
     "output_type": "execute_result"
    }
   ],
   "source": [
    "SOM.mapsize.copy()"
   ]
  },
  {
   "cell_type": "code",
   "execution_count": 7,
   "metadata": {},
   "outputs": [
    {
     "data": {
      "text/plain": [
       "True"
      ]
     },
     "execution_count": 7,
     "metadata": {},
     "output_type": "execute_result"
    }
   ],
   "source": [
    "isinstance(2, int) & (2 != None)"
   ]
  },
  {
   "cell_type": "code",
   "execution_count": null,
   "metadata": {},
   "outputs": [],
   "source": [
    "optuna."
   ]
  }
 ],
 "metadata": {
  "kernelspec": {
   "display_name": "mpdg",
   "language": "python",
   "name": "python3"
  },
  "language_info": {
   "codemirror_mode": {
    "name": "ipython",
    "version": 3
   },
   "file_extension": ".py",
   "mimetype": "text/x-python",
   "name": "python",
   "nbconvert_exporter": "python",
   "pygments_lexer": "ipython3",
   "version": "3.12.3"
  }
 },
 "nbformat": 4,
 "nbformat_minor": 2
}
