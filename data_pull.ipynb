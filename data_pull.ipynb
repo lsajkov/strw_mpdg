{
 "cells": [
  {
   "cell_type": "code",
   "execution_count": 1,
   "metadata": {},
   "outputs": [],
   "source": [
    "import os\n",
    "import urllib.request\n",
    "\n",
    "import astropy\n",
    "from astropy.table import Table\n",
    "from astropy.io import fits"
   ]
  },
  {
   "cell_type": "markdown",
   "metadata": {},
   "source": [
    "## Pulling data from SAGA/DES"
   ]
  },
  {
   "cell_type": "markdown",
   "metadata": {},
   "source": [
    "### SAGA:"
   ]
  },
  {
   "cell_type": "code",
   "execution_count": 2,
   "metadata": {},
   "outputs": [],
   "source": [
    "proj_directory = '/data2/lsajkov/mpdg'\n",
    "saga_shared = f'{proj_directory}/saga_shared'\n",
    "saga_local = f'{proj_directory}/saga_local'"
   ]
  },
  {
   "cell_type": "code",
   "execution_count": 39,
   "metadata": {},
   "outputs": [
    {
     "name": "stdout",
     "output_type": "stream",
     "text": [
      "SAGA `shared_dir` set to /data2/lsajkov/mpdg/strw_mpdg\n",
      "SAGA `local_dir`  set to /data2/lsajkov/mpdg/saga_local\n"
     ]
    }
   ],
   "source": [
    "import SAGA\n",
    "saga = SAGA.QuickStart(shared_dir = None,\n",
    "                       local_dir = saga_local)"
   ]
  },
  {
   "cell_type": "code",
   "execution_count": 40,
   "metadata": {},
   "outputs": [
    {
     "data": {
      "text/plain": [
       "['combined_base',\n",
       " 'decals_dr8_remove',\n",
       " 'decals_dr9_correction',\n",
       " 'decals_dr9_lowz_remove',\n",
       " 'decals_dr9_morphology',\n",
       " 'decals_dr9_recover',\n",
       " 'decals_dr9_remove',\n",
       " 'decals_recover',\n",
       " 'decals_remove',\n",
       " 'des_recover',\n",
       " 'des_remove',\n",
       " 'edd_2mrs_slim',\n",
       " 'edd_lim17_slim',\n",
       " 'galex_sfr_host',\n",
       " 'galex_sfr_lowz',\n",
       " 'hipparcos2',\n",
       " 'host_remove',\n",
       " 'host_stats',\n",
       " 'hosts',\n",
       " 'hosts_HI_mass',\n",
       " 'hosts_v1',\n",
       " 'hosts_v2',\n",
       " 'human_selected',\n",
       " 'hyperleda_kt12',\n",
       " 'lowz_fields',\n",
       " 'manual_targets_2021_spring',\n",
       " 'manual_targets_aat2018a',\n",
       " 'manual_targets_aat2018b',\n",
       " 'manual_targets_aat2020a_jul',\n",
       " 'manual_targets_aat2020a_may',\n",
       " 'manual_targets_aat2020b',\n",
       " 'manual_targets_mmt2019a',\n",
       " 'manual_targets_mmt2019c',\n",
       " 'manual_targets_mmt2020a',\n",
       " 'manual_targets_mmt2020b',\n",
       " 'manual_targets_mmt2020c',\n",
       " 'master_list',\n",
       " 'master_list_v1',\n",
       " 'master_list_v2',\n",
       " 'nsa_v0.1.2',\n",
       " 'nsa_v1.0.1',\n",
       " 'saga_clean_specs',\n",
       " 'saga_spectra_May2017',\n",
       " 'satellites_named',\n",
       " 'sdss_recover',\n",
       " 'sdss_remove',\n",
       " 'sga_v3.0',\n",
       " 'shreds_recover',\n",
       " 'spectra_2df',\n",
       " 'spectra_2dflens',\n",
       " 'spectra_6df',\n",
       " 'spectra_alfalfa',\n",
       " 'spectra_desi_edr',\n",
       " 'spectra_fashi',\n",
       " 'spectra_gama_dr2',\n",
       " 'spectra_gama_dr3',\n",
       " 'spectra_gama_dr4',\n",
       " 'spectra_geha23',\n",
       " 'spectra_halpha',\n",
       " 'spectra_hecs',\n",
       " 'spectra_hectomap',\n",
       " 'spectra_hetdex',\n",
       " 'spectra_lcrs',\n",
       " 'spectra_ozdes_dr1',\n",
       " 'spectra_ozdes_dr2',\n",
       " 'spectra_palomar',\n",
       " 'spectra_primus',\n",
       " 'spectra_raw_all',\n",
       " 'spectra_slackers',\n",
       " 'spectra_ukst',\n",
       " 'spectra_vipers_w1',\n",
       " 'spectra_vipers_w4',\n",
       " 'spectra_wigglez']"
      ]
     },
     "execution_count": 40,
     "metadata": {},
     "output_type": "execute_result"
    }
   ],
   "source": [
    "saga.database.keys()"
   ]
  },
  {
   "cell_type": "code",
   "execution_count": 31,
   "metadata": {},
   "outputs": [],
   "source": [
    "saga_satellites = saga.database.get('saga_clean_specs')"
   ]
  },
  {
   "cell_type": "code",
   "execution_count": 36,
   "metadata": {},
   "outputs": [
    {
     "ename": "UnboundLocalError",
     "evalue": "cannot access local variable 'r' where it is not associated with a value",
     "output_type": "error",
     "traceback": [
      "\u001b[0;31m---------------------------------------------------------------------------\u001b[0m",
      "\u001b[0;31mMissingSchema\u001b[0m                             Traceback (most recent call last)",
      "File \u001b[0;32m/data2/lsajkov/mpdg/conda/envs/mpdg/lib/python3.12/site-packages/SAGA/database/core.py:86\u001b[0m, in \u001b[0;36mFileObject.download_as_file\u001b[0;34m(self, file_path, overwrite, compress)\u001b[0m\n\u001b[1;32m     85\u001b[0m \u001b[38;5;28;01mtry\u001b[39;00m:\n\u001b[0;32m---> 86\u001b[0m     r \u001b[38;5;241m=\u001b[39m requests\u001b[38;5;241m.\u001b[39mget(\u001b[38;5;28mself\u001b[39m\u001b[38;5;241m.\u001b[39mpath, stream\u001b[38;5;241m=\u001b[39m\u001b[38;5;28;01mTrue\u001b[39;00m, timeout\u001b[38;5;241m=\u001b[39m(\u001b[38;5;241m120\u001b[39m, \u001b[38;5;241m3600\u001b[39m))\n\u001b[1;32m     87\u001b[0m \u001b[38;5;28;01mexcept\u001b[39;00m requests\u001b[38;5;241m.\u001b[39mexceptions\u001b[38;5;241m.\u001b[39mMissingSchema:\n",
      "File \u001b[0;32m/data2/lsajkov/mpdg/conda/envs/mpdg/lib/python3.12/site-packages/requests/api.py:73\u001b[0m, in \u001b[0;36mget\u001b[0;34m(url, params, **kwargs)\u001b[0m\n\u001b[1;32m     63\u001b[0m \u001b[38;5;250m\u001b[39m\u001b[38;5;124mr\u001b[39m\u001b[38;5;124;03m\"\"\"Sends a GET request.\u001b[39;00m\n\u001b[1;32m     64\u001b[0m \n\u001b[1;32m     65\u001b[0m \u001b[38;5;124;03m:param url: URL for the new :class:`Request` object.\u001b[39;00m\n\u001b[0;32m   (...)\u001b[0m\n\u001b[1;32m     70\u001b[0m \u001b[38;5;124;03m:rtype: requests.Response\u001b[39;00m\n\u001b[1;32m     71\u001b[0m \u001b[38;5;124;03m\"\"\"\u001b[39;00m\n\u001b[0;32m---> 73\u001b[0m \u001b[38;5;28;01mreturn\u001b[39;00m request(\u001b[38;5;124m\"\u001b[39m\u001b[38;5;124mget\u001b[39m\u001b[38;5;124m\"\u001b[39m, url, params\u001b[38;5;241m=\u001b[39mparams, \u001b[38;5;241m*\u001b[39m\u001b[38;5;241m*\u001b[39mkwargs)\n",
      "File \u001b[0;32m/data2/lsajkov/mpdg/conda/envs/mpdg/lib/python3.12/site-packages/requests/api.py:59\u001b[0m, in \u001b[0;36mrequest\u001b[0;34m(method, url, **kwargs)\u001b[0m\n\u001b[1;32m     58\u001b[0m \u001b[38;5;28;01mwith\u001b[39;00m sessions\u001b[38;5;241m.\u001b[39mSession() \u001b[38;5;28;01mas\u001b[39;00m session:\n\u001b[0;32m---> 59\u001b[0m     \u001b[38;5;28;01mreturn\u001b[39;00m session\u001b[38;5;241m.\u001b[39mrequest(method\u001b[38;5;241m=\u001b[39mmethod, url\u001b[38;5;241m=\u001b[39murl, \u001b[38;5;241m*\u001b[39m\u001b[38;5;241m*\u001b[39mkwargs)\n",
      "File \u001b[0;32m/data2/lsajkov/mpdg/conda/envs/mpdg/lib/python3.12/site-packages/requests/sessions.py:575\u001b[0m, in \u001b[0;36mSession.request\u001b[0;34m(self, method, url, params, data, headers, cookies, files, auth, timeout, allow_redirects, proxies, hooks, stream, verify, cert, json)\u001b[0m\n\u001b[1;32m    563\u001b[0m req \u001b[38;5;241m=\u001b[39m Request(\n\u001b[1;32m    564\u001b[0m     method\u001b[38;5;241m=\u001b[39mmethod\u001b[38;5;241m.\u001b[39mupper(),\n\u001b[1;32m    565\u001b[0m     url\u001b[38;5;241m=\u001b[39murl,\n\u001b[0;32m   (...)\u001b[0m\n\u001b[1;32m    573\u001b[0m     hooks\u001b[38;5;241m=\u001b[39mhooks,\n\u001b[1;32m    574\u001b[0m )\n\u001b[0;32m--> 575\u001b[0m prep \u001b[38;5;241m=\u001b[39m \u001b[38;5;28mself\u001b[39m\u001b[38;5;241m.\u001b[39mprepare_request(req)\n\u001b[1;32m    577\u001b[0m proxies \u001b[38;5;241m=\u001b[39m proxies \u001b[38;5;129;01mor\u001b[39;00m {}\n",
      "File \u001b[0;32m/data2/lsajkov/mpdg/conda/envs/mpdg/lib/python3.12/site-packages/requests/sessions.py:484\u001b[0m, in \u001b[0;36mSession.prepare_request\u001b[0;34m(self, request)\u001b[0m\n\u001b[1;32m    483\u001b[0m p \u001b[38;5;241m=\u001b[39m PreparedRequest()\n\u001b[0;32m--> 484\u001b[0m p\u001b[38;5;241m.\u001b[39mprepare(\n\u001b[1;32m    485\u001b[0m     method\u001b[38;5;241m=\u001b[39mrequest\u001b[38;5;241m.\u001b[39mmethod\u001b[38;5;241m.\u001b[39mupper(),\n\u001b[1;32m    486\u001b[0m     url\u001b[38;5;241m=\u001b[39mrequest\u001b[38;5;241m.\u001b[39murl,\n\u001b[1;32m    487\u001b[0m     files\u001b[38;5;241m=\u001b[39mrequest\u001b[38;5;241m.\u001b[39mfiles,\n\u001b[1;32m    488\u001b[0m     data\u001b[38;5;241m=\u001b[39mrequest\u001b[38;5;241m.\u001b[39mdata,\n\u001b[1;32m    489\u001b[0m     json\u001b[38;5;241m=\u001b[39mrequest\u001b[38;5;241m.\u001b[39mjson,\n\u001b[1;32m    490\u001b[0m     headers\u001b[38;5;241m=\u001b[39mmerge_setting(\n\u001b[1;32m    491\u001b[0m         request\u001b[38;5;241m.\u001b[39mheaders, \u001b[38;5;28mself\u001b[39m\u001b[38;5;241m.\u001b[39mheaders, dict_class\u001b[38;5;241m=\u001b[39mCaseInsensitiveDict\n\u001b[1;32m    492\u001b[0m     ),\n\u001b[1;32m    493\u001b[0m     params\u001b[38;5;241m=\u001b[39mmerge_setting(request\u001b[38;5;241m.\u001b[39mparams, \u001b[38;5;28mself\u001b[39m\u001b[38;5;241m.\u001b[39mparams),\n\u001b[1;32m    494\u001b[0m     auth\u001b[38;5;241m=\u001b[39mmerge_setting(auth, \u001b[38;5;28mself\u001b[39m\u001b[38;5;241m.\u001b[39mauth),\n\u001b[1;32m    495\u001b[0m     cookies\u001b[38;5;241m=\u001b[39mmerged_cookies,\n\u001b[1;32m    496\u001b[0m     hooks\u001b[38;5;241m=\u001b[39mmerge_hooks(request\u001b[38;5;241m.\u001b[39mhooks, \u001b[38;5;28mself\u001b[39m\u001b[38;5;241m.\u001b[39mhooks),\n\u001b[1;32m    497\u001b[0m )\n\u001b[1;32m    498\u001b[0m \u001b[38;5;28;01mreturn\u001b[39;00m p\n",
      "File \u001b[0;32m/data2/lsajkov/mpdg/conda/envs/mpdg/lib/python3.12/site-packages/requests/models.py:367\u001b[0m, in \u001b[0;36mPreparedRequest.prepare\u001b[0;34m(self, method, url, headers, files, data, params, auth, cookies, hooks, json)\u001b[0m\n\u001b[1;32m    366\u001b[0m \u001b[38;5;28mself\u001b[39m\u001b[38;5;241m.\u001b[39mprepare_method(method)\n\u001b[0;32m--> 367\u001b[0m \u001b[38;5;28mself\u001b[39m\u001b[38;5;241m.\u001b[39mprepare_url(url, params)\n\u001b[1;32m    368\u001b[0m \u001b[38;5;28mself\u001b[39m\u001b[38;5;241m.\u001b[39mprepare_headers(headers)\n",
      "File \u001b[0;32m/data2/lsajkov/mpdg/conda/envs/mpdg/lib/python3.12/site-packages/requests/models.py:438\u001b[0m, in \u001b[0;36mPreparedRequest.prepare_url\u001b[0;34m(self, url, params)\u001b[0m\n\u001b[1;32m    437\u001b[0m \u001b[38;5;28;01mif\u001b[39;00m \u001b[38;5;129;01mnot\u001b[39;00m scheme:\n\u001b[0;32m--> 438\u001b[0m     \u001b[38;5;28;01mraise\u001b[39;00m MissingSchema(\n\u001b[1;32m    439\u001b[0m         \u001b[38;5;124mf\u001b[39m\u001b[38;5;124m\"\u001b[39m\u001b[38;5;124mInvalid URL \u001b[39m\u001b[38;5;132;01m{\u001b[39;00murl\u001b[38;5;132;01m!r}\u001b[39;00m\u001b[38;5;124m: No scheme supplied. \u001b[39m\u001b[38;5;124m\"\u001b[39m\n\u001b[1;32m    440\u001b[0m         \u001b[38;5;124mf\u001b[39m\u001b[38;5;124m\"\u001b[39m\u001b[38;5;124mPerhaps you meant https://\u001b[39m\u001b[38;5;132;01m{\u001b[39;00murl\u001b[38;5;132;01m}\u001b[39;00m\u001b[38;5;124m?\u001b[39m\u001b[38;5;124m\"\u001b[39m\n\u001b[1;32m    441\u001b[0m     )\n\u001b[1;32m    443\u001b[0m \u001b[38;5;28;01mif\u001b[39;00m \u001b[38;5;129;01mnot\u001b[39;00m host:\n",
      "\u001b[0;31mMissingSchema\u001b[0m: Invalid URL 'None': No scheme supplied. Perhaps you meant https://None?",
      "\nDuring handling of the above exception, another exception occurred:\n",
      "\u001b[0;31mTypeError\u001b[0m                                 Traceback (most recent call last)",
      "File \u001b[0;32m/data2/lsajkov/mpdg/conda/envs/mpdg/lib/python3.12/site-packages/SAGA/database/core.py:88\u001b[0m, in \u001b[0;36mFileObject.download_as_file\u001b[0;34m(self, file_path, overwrite, compress)\u001b[0m\n\u001b[1;32m     87\u001b[0m \u001b[38;5;28;01mexcept\u001b[39;00m requests\u001b[38;5;241m.\u001b[39mexceptions\u001b[38;5;241m.\u001b[39mMissingSchema:\n\u001b[0;32m---> 88\u001b[0m     shutil\u001b[38;5;241m.\u001b[39mcopy(\u001b[38;5;28mself\u001b[39m\u001b[38;5;241m.\u001b[39mpath, file_path)\n\u001b[1;32m     89\u001b[0m \u001b[38;5;28;01melse\u001b[39;00m:\n",
      "File \u001b[0;32m/data2/lsajkov/mpdg/conda/envs/mpdg/lib/python3.12/shutil.py:434\u001b[0m, in \u001b[0;36mcopy\u001b[0;34m(src, dst, follow_symlinks)\u001b[0m\n\u001b[1;32m    433\u001b[0m \u001b[38;5;28;01mif\u001b[39;00m os\u001b[38;5;241m.\u001b[39mpath\u001b[38;5;241m.\u001b[39misdir(dst):\n\u001b[0;32m--> 434\u001b[0m     dst \u001b[38;5;241m=\u001b[39m os\u001b[38;5;241m.\u001b[39mpath\u001b[38;5;241m.\u001b[39mjoin(dst, os\u001b[38;5;241m.\u001b[39mpath\u001b[38;5;241m.\u001b[39mbasename(src))\n\u001b[1;32m    435\u001b[0m copyfile(src, dst, follow_symlinks\u001b[38;5;241m=\u001b[39mfollow_symlinks)\n",
      "File \u001b[0;32m<frozen posixpath>:171\u001b[0m, in \u001b[0;36mbasename\u001b[0;34m(p)\u001b[0m\n",
      "\u001b[0;31mTypeError\u001b[0m: expected str, bytes or os.PathLike object, not NoneType",
      "\nDuring handling of the above exception, another exception occurred:\n",
      "\u001b[0;31mUnboundLocalError\u001b[0m                         Traceback (most recent call last)",
      "Cell \u001b[0;32mIn[36], line 1\u001b[0m\n\u001b[0;32m----> 1\u001b[0m saga_satellites\u001b[38;5;241m.\u001b[39mremote\u001b[38;5;241m.\u001b[39mdownload_as_file(saga_local)\n",
      "File \u001b[0;32m/data2/lsajkov/mpdg/conda/envs/mpdg/lib/python3.12/site-packages/SAGA/database/core.py:100\u001b[0m, in \u001b[0;36mFileObject.download_as_file\u001b[0;34m(self, file_path, overwrite, compress)\u001b[0m\n\u001b[1;32m     98\u001b[0m         \u001b[38;5;28;01mraise\u001b[39;00m\n\u001b[1;32m     99\u001b[0m \u001b[38;5;28;01mfinally\u001b[39;00m:\n\u001b[0;32m--> 100\u001b[0m     r\u001b[38;5;241m.\u001b[39mclose()\n",
      "\u001b[0;31mUnboundLocalError\u001b[0m: cannot access local variable 'r' where it is not associated with a value"
     ]
    }
   ],
   "source": [
    "saga_satellites.remote.download_as_file(saga_local)"
   ]
  },
  {
   "cell_type": "markdown",
   "metadata": {},
   "source": [
    "### DES:"
   ]
  },
  {
   "cell_type": "code",
   "execution_count": 23,
   "metadata": {},
   "outputs": [],
   "source": [
    "link_to_DES = 'https://desdr-server.ncsa.illinois.edu/despublic/dr2_tiles'"
   ]
  },
  {
   "cell_type": "code",
   "execution_count": 24,
   "metadata": {},
   "outputs": [],
   "source": [
    "directory_url = urllib.request.urlopen(link_to_DES)\n",
    "directory = directory_url.read()\n",
    "directory = directory.decode('utf-8')\n",
    "\n",
    "all_DES_labels = []\n",
    "for line in directory.split('\\n'):\n",
    "    if 'DES' in line: all_DES_labels.append(line[23:35])"
   ]
  },
  {
   "cell_type": "code",
   "execution_count": 25,
   "metadata": {},
   "outputs": [],
   "source": [
    "DES_label = all_DES_labels[int(random.random() * len(all_DES_labels))]"
   ]
  },
  {
   "cell_type": "code",
   "execution_count": 26,
   "metadata": {},
   "outputs": [
    {
     "data": {
      "text/plain": [
       "'https://desdr-server.ncsa.illinois.edu/despublic/dr2_tiles/DES2248-6248/DES2248-6248_dr2_main.fits'"
      ]
     },
     "execution_count": 26,
     "metadata": {},
     "output_type": "execute_result"
    }
   ],
   "source": [
    "f'{link_to_DES}/{DES_label}/{DES_label}_dr2_main.fits'"
   ]
  },
  {
   "cell_type": "code",
   "execution_count": 28,
   "metadata": {},
   "outputs": [],
   "source": [
    "with fits.open(f'{link_to_DES}/{DES_label}/{DES_label}_dr2_main.fits', cache = False) as cat:\n",
    "    main_cat = Table(cat[1].data)"
   ]
  },
  {
   "cell_type": "code",
   "execution_count": 30,
   "metadata": {},
   "outputs": [
    {
     "name": "stdout",
     "output_type": "stream",
     "text": [
      "DES0343-1207 len: 50014\n",
      "DES0145-0207 len: 65278\n",
      "DES0227-5457 len: 68724\n",
      "DES0038-6039 len: 70572\n",
      "DES0130-0541 len: 71667\n"
     ]
    }
   ],
   "source": [
    "for i in range(5):\n",
    "    DES_label = all_DES_labels[int(random.random() * len(all_DES_labels))]\n",
    "    print(DES_label, end = ' len: ')\n",
    "    with fits.open(f'{link_to_DES}/{DES_label}/{DES_label}_dr2_main.fits', cache = False) as cat:\n",
    "        main_cat = Table(cat[1].data)\n",
    "        print(len(main_cat))"
   ]
  },
  {
   "cell_type": "code",
   "execution_count": 32,
   "metadata": {},
   "outputs": [
    {
     "data": {
      "text/plain": [
       "33.89666666666667"
      ]
     },
     "execution_count": 32,
     "metadata": {},
     "output_type": "execute_result"
    }
   ],
   "source": [
    "(len(all_DES_labels)/5)/60"
   ]
  },
  {
   "cell_type": "code",
   "execution_count": null,
   "metadata": {},
   "outputs": [],
   "source": [
    "saga_hosts = Table.read('https://sagasurvey.org/data/saga_stage2_hosts.csv')\n",
    "saga_sats = Table.read('https://sagasurvey.org/data/saga_stage2_sats.csv')"
   ]
  },
  {
   "cell_type": "code",
   "execution_count": null,
   "metadata": {},
   "outputs": [],
   "source": [
    "saga_sats"
   ]
  },
  {
   "cell_type": "code",
   "execution_count": null,
   "metadata": {},
   "outputs": [],
   "source": [
    "with fits.open('https://desdr-server.ncsa.illinois.edu/despublic/dr2_tiles/DES0000+0209/DES0000+0209_dr2_main.fits') as hdu:\n",
    "    main_cat = hdu"
   ]
  },
  {
   "cell_type": "code",
   "execution_count": null,
   "metadata": {},
   "outputs": [],
   "source": [
    "main_cat = fits.open('https://desdr-server.ncsa.illinois.edu/despublic/dr2_tiles/DES0000+0209/DES0000+0209_dr2_main.fits', cache = False)"
   ]
  },
  {
   "cell_type": "code",
   "execution_count": null,
   "metadata": {},
   "outputs": [],
   "source": [
    "Table(main_cat[1].data)"
   ]
  },
  {
   "cell_type": "code",
   "execution_count": null,
   "metadata": {},
   "outputs": [],
   "source": [
    "request('https://desdr-server.ncsa.illinois.edu/despublic/dr2_tiles/')"
   ]
  },
  {
   "cell_type": "code",
   "execution_count": null,
   "metadata": {},
   "outputs": [],
   "source": [
    "with request.urlopen('https://desdr-server.ncsa.illinois.edu/despublic/dr2_tiles/') as idx_page:\n",
    "    idx_page = idx_page.read()"
   ]
  }
 ],
 "metadata": {
  "kernelspec": {
   "display_name": "mpdg",
   "language": "python",
   "name": "python3"
  },
  "language_info": {
   "codemirror_mode": {
    "name": "ipython",
    "version": 3
   },
   "file_extension": ".py",
   "mimetype": "text/x-python",
   "name": "python",
   "nbconvert_exporter": "python",
   "pygments_lexer": "ipython3",
   "version": "3.12.3"
  }
 },
 "nbformat": 4,
 "nbformat_minor": 2
}
