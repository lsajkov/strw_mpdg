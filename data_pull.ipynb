{
 "cells": [
  {
   "cell_type": "code",
   "execution_count": 1,
   "metadata": {},
   "outputs": [],
   "source": [
    "import os\n",
    "import urllib.request\n",
    "\n",
    "import astropy\n",
    "from astropy.table import Table\n",
    "from astropy.io import fits"
   ]
  },
  {
   "cell_type": "markdown",
   "metadata": {},
   "source": [
    "## Pulling data from SAGA/DES"
   ]
  },
  {
   "cell_type": "markdown",
   "metadata": {},
   "source": [
    "### SAGA:"
   ]
  },
  {
   "cell_type": "code",
   "execution_count": 2,
   "metadata": {},
   "outputs": [],
   "source": [
    "proj_directory = '/data2/lsajkov/mpdg'\n",
    "saga_shared = f'{proj_directory}/saga_shared'\n",
    "saga_local = f'{proj_directory}/saga_local'"
   ]
  },
  {
   "cell_type": "code",
   "execution_count": 39,
   "metadata": {},
   "outputs": [
    {
     "name": "stdout",
     "output_type": "stream",
     "text": [
      "SAGA `shared_dir` set to /data2/lsajkov/mpdg/strw_mpdg\n",
      "SAGA `local_dir`  set to /data2/lsajkov/mpdg/saga_local\n"
     ]
    }
   ],
   "source": [
    "import SAGA\n",
    "saga = SAGA.QuickStart(shared_dir = None,\n",
    "                       local_dir = saga_local)"
   ]
  },
  {
   "cell_type": "code",
   "execution_count": 40,
   "metadata": {},
   "outputs": [
    {
     "data": {
      "text/plain": [
       "['combined_base',\n",
       " 'decals_dr8_remove',\n",
       " 'decals_dr9_correction',\n",
       " 'decals_dr9_lowz_remove',\n",
       " 'decals_dr9_morphology',\n",
       " 'decals_dr9_recover',\n",
       " 'decals_dr9_remove',\n",
       " 'decals_recover',\n",
       " 'decals_remove',\n",
       " 'des_recover',\n",
       " 'des_remove',\n",
       " 'edd_2mrs_slim',\n",
       " 'edd_lim17_slim',\n",
       " 'galex_sfr_host',\n",
       " 'galex_sfr_lowz',\n",
       " 'hipparcos2',\n",
       " 'host_remove',\n",
       " 'host_stats',\n",
       " 'hosts',\n",
       " 'hosts_HI_mass',\n",
       " 'hosts_v1',\n",
       " 'hosts_v2',\n",
       " 'human_selected',\n",
       " 'hyperleda_kt12',\n",
       " 'lowz_fields',\n",
       " 'manual_targets_2021_spring',\n",
       " 'manual_targets_aat2018a',\n",
       " 'manual_targets_aat2018b',\n",
       " 'manual_targets_aat2020a_jul',\n",
       " 'manual_targets_aat2020a_may',\n",
       " 'manual_targets_aat2020b',\n",
       " 'manual_targets_mmt2019a',\n",
       " 'manual_targets_mmt2019c',\n",
       " 'manual_targets_mmt2020a',\n",
       " 'manual_targets_mmt2020b',\n",
       " 'manual_targets_mmt2020c',\n",
       " 'master_list',\n",
       " 'master_list_v1',\n",
       " 'master_list_v2',\n",
       " 'nsa_v0.1.2',\n",
       " 'nsa_v1.0.1',\n",
       " 'saga_clean_specs',\n",
       " 'saga_spectra_May2017',\n",
       " 'satellites_named',\n",
       " 'sdss_recover',\n",
       " 'sdss_remove',\n",
       " 'sga_v3.0',\n",
       " 'shreds_recover',\n",
       " 'spectra_2df',\n",
       " 'spectra_2dflens',\n",
       " 'spectra_6df',\n",
       " 'spectra_alfalfa',\n",
       " 'spectra_desi_edr',\n",
       " 'spectra_fashi',\n",
       " 'spectra_gama_dr2',\n",
       " 'spectra_gama_dr3',\n",
       " 'spectra_gama_dr4',\n",
       " 'spectra_geha23',\n",
       " 'spectra_halpha',\n",
       " 'spectra_hecs',\n",
       " 'spectra_hectomap',\n",
       " 'spectra_hetdex',\n",
       " 'spectra_lcrs',\n",
       " 'spectra_ozdes_dr1',\n",
       " 'spectra_ozdes_dr2',\n",
       " 'spectra_palomar',\n",
       " 'spectra_primus',\n",
       " 'spectra_raw_all',\n",
       " 'spectra_slackers',\n",
       " 'spectra_ukst',\n",
       " 'spectra_vipers_w1',\n",
       " 'spectra_vipers_w4',\n",
       " 'spectra_wigglez']"
      ]
     },
     "execution_count": 40,
     "metadata": {},
     "output_type": "execute_result"
    }
   ],
   "source": [
    "saga.database.keys()"
   ]
  },
  {
   "cell_type": "code",
   "execution_count": 31,
   "metadata": {},
   "outputs": [],
   "source": [
    "saga_satellites = saga.database.get('saga_clean_specs')"
   ]
  },
  {
   "cell_type": "code",
   "execution_count": 36,
   "metadata": {},
   "outputs": [
    {
     "ename": "UnboundLocalError",
     "evalue": "cannot access local variable 'r' where it is not associated with a value",
     "output_type": "error",
     "traceback": [
      "\u001b[0;31m---------------------------------------------------------------------------\u001b[0m",
      "\u001b[0;31mMissingSchema\u001b[0m                             Traceback (most recent call last)",
      "File \u001b[0;32m/data2/lsajkov/mpdg/conda/envs/mpdg/lib/python3.12/site-packages/SAGA/database/core.py:86\u001b[0m, in \u001b[0;36mFileObject.download_as_file\u001b[0;34m(self, file_path, overwrite, compress)\u001b[0m\n\u001b[1;32m     85\u001b[0m \u001b[38;5;28;01mtry\u001b[39;00m:\n\u001b[0;32m---> 86\u001b[0m     r \u001b[38;5;241m=\u001b[39m requests\u001b[38;5;241m.\u001b[39mget(\u001b[38;5;28mself\u001b[39m\u001b[38;5;241m.\u001b[39mpath, stream\u001b[38;5;241m=\u001b[39m\u001b[38;5;28;01mTrue\u001b[39;00m, timeout\u001b[38;5;241m=\u001b[39m(\u001b[38;5;241m120\u001b[39m, \u001b[38;5;241m3600\u001b[39m))\n\u001b[1;32m     87\u001b[0m \u001b[38;5;28;01mexcept\u001b[39;00m requests\u001b[38;5;241m.\u001b[39mexceptions\u001b[38;5;241m.\u001b[39mMissingSchema:\n",
      "File \u001b[0;32m/data2/lsajkov/mpdg/conda/envs/mpdg/lib/python3.12/site-packages/requests/api.py:73\u001b[0m, in \u001b[0;36mget\u001b[0;34m(url, params, **kwargs)\u001b[0m\n\u001b[1;32m     63\u001b[0m \u001b[38;5;250m\u001b[39m\u001b[38;5;124mr\u001b[39m\u001b[38;5;124;03m\"\"\"Sends a GET request.\u001b[39;00m\n\u001b[1;32m     64\u001b[0m \n\u001b[1;32m     65\u001b[0m \u001b[38;5;124;03m:param url: URL for the new :class:`Request` object.\u001b[39;00m\n\u001b[0;32m   (...)\u001b[0m\n\u001b[1;32m     70\u001b[0m \u001b[38;5;124;03m:rtype: requests.Response\u001b[39;00m\n\u001b[1;32m     71\u001b[0m \u001b[38;5;124;03m\"\"\"\u001b[39;00m\n\u001b[0;32m---> 73\u001b[0m \u001b[38;5;28;01mreturn\u001b[39;00m request(\u001b[38;5;124m\"\u001b[39m\u001b[38;5;124mget\u001b[39m\u001b[38;5;124m\"\u001b[39m, url, params\u001b[38;5;241m=\u001b[39mparams, \u001b[38;5;241m*\u001b[39m\u001b[38;5;241m*\u001b[39mkwargs)\n",
      "File \u001b[0;32m/data2/lsajkov/mpdg/conda/envs/mpdg/lib/python3.12/site-packages/requests/api.py:59\u001b[0m, in \u001b[0;36mrequest\u001b[0;34m(method, url, **kwargs)\u001b[0m\n\u001b[1;32m     58\u001b[0m \u001b[38;5;28;01mwith\u001b[39;00m sessions\u001b[38;5;241m.\u001b[39mSession() \u001b[38;5;28;01mas\u001b[39;00m session:\n\u001b[0;32m---> 59\u001b[0m     \u001b[38;5;28;01mreturn\u001b[39;00m session\u001b[38;5;241m.\u001b[39mrequest(method\u001b[38;5;241m=\u001b[39mmethod, url\u001b[38;5;241m=\u001b[39murl, \u001b[38;5;241m*\u001b[39m\u001b[38;5;241m*\u001b[39mkwargs)\n",
      "File \u001b[0;32m/data2/lsajkov/mpdg/conda/envs/mpdg/lib/python3.12/site-packages/requests/sessions.py:575\u001b[0m, in \u001b[0;36mSession.request\u001b[0;34m(self, method, url, params, data, headers, cookies, files, auth, timeout, allow_redirects, proxies, hooks, stream, verify, cert, json)\u001b[0m\n\u001b[1;32m    563\u001b[0m req \u001b[38;5;241m=\u001b[39m Request(\n\u001b[1;32m    564\u001b[0m     method\u001b[38;5;241m=\u001b[39mmethod\u001b[38;5;241m.\u001b[39mupper(),\n\u001b[1;32m    565\u001b[0m     url\u001b[38;5;241m=\u001b[39murl,\n\u001b[0;32m   (...)\u001b[0m\n\u001b[1;32m    573\u001b[0m     hooks\u001b[38;5;241m=\u001b[39mhooks,\n\u001b[1;32m    574\u001b[0m )\n\u001b[0;32m--> 575\u001b[0m prep \u001b[38;5;241m=\u001b[39m \u001b[38;5;28mself\u001b[39m\u001b[38;5;241m.\u001b[39mprepare_request(req)\n\u001b[1;32m    577\u001b[0m proxies \u001b[38;5;241m=\u001b[39m proxies \u001b[38;5;129;01mor\u001b[39;00m {}\n",
      "File \u001b[0;32m/data2/lsajkov/mpdg/conda/envs/mpdg/lib/python3.12/site-packages/requests/sessions.py:484\u001b[0m, in \u001b[0;36mSession.prepare_request\u001b[0;34m(self, request)\u001b[0m\n\u001b[1;32m    483\u001b[0m p \u001b[38;5;241m=\u001b[39m PreparedRequest()\n\u001b[0;32m--> 484\u001b[0m p\u001b[38;5;241m.\u001b[39mprepare(\n\u001b[1;32m    485\u001b[0m     method\u001b[38;5;241m=\u001b[39mrequest\u001b[38;5;241m.\u001b[39mmethod\u001b[38;5;241m.\u001b[39mupper(),\n\u001b[1;32m    486\u001b[0m     url\u001b[38;5;241m=\u001b[39mrequest\u001b[38;5;241m.\u001b[39murl,\n\u001b[1;32m    487\u001b[0m     files\u001b[38;5;241m=\u001b[39mrequest\u001b[38;5;241m.\u001b[39mfiles,\n\u001b[1;32m    488\u001b[0m     data\u001b[38;5;241m=\u001b[39mrequest\u001b[38;5;241m.\u001b[39mdata,\n\u001b[1;32m    489\u001b[0m     json\u001b[38;5;241m=\u001b[39mrequest\u001b[38;5;241m.\u001b[39mjson,\n\u001b[1;32m    490\u001b[0m     headers\u001b[38;5;241m=\u001b[39mmerge_setting(\n\u001b[1;32m    491\u001b[0m         request\u001b[38;5;241m.\u001b[39mheaders, \u001b[38;5;28mself\u001b[39m\u001b[38;5;241m.\u001b[39mheaders, dict_class\u001b[38;5;241m=\u001b[39mCaseInsensitiveDict\n\u001b[1;32m    492\u001b[0m     ),\n\u001b[1;32m    493\u001b[0m     params\u001b[38;5;241m=\u001b[39mmerge_setting(request\u001b[38;5;241m.\u001b[39mparams, \u001b[38;5;28mself\u001b[39m\u001b[38;5;241m.\u001b[39mparams),\n\u001b[1;32m    494\u001b[0m     auth\u001b[38;5;241m=\u001b[39mmerge_setting(auth, \u001b[38;5;28mself\u001b[39m\u001b[38;5;241m.\u001b[39mauth),\n\u001b[1;32m    495\u001b[0m     cookies\u001b[38;5;241m=\u001b[39mmerged_cookies,\n\u001b[1;32m    496\u001b[0m     hooks\u001b[38;5;241m=\u001b[39mmerge_hooks(request\u001b[38;5;241m.\u001b[39mhooks, \u001b[38;5;28mself\u001b[39m\u001b[38;5;241m.\u001b[39mhooks),\n\u001b[1;32m    497\u001b[0m )\n\u001b[1;32m    498\u001b[0m \u001b[38;5;28;01mreturn\u001b[39;00m p\n",
      "File \u001b[0;32m/data2/lsajkov/mpdg/conda/envs/mpdg/lib/python3.12/site-packages/requests/models.py:367\u001b[0m, in \u001b[0;36mPreparedRequest.prepare\u001b[0;34m(self, method, url, headers, files, data, params, auth, cookies, hooks, json)\u001b[0m\n\u001b[1;32m    366\u001b[0m \u001b[38;5;28mself\u001b[39m\u001b[38;5;241m.\u001b[39mprepare_method(method)\n\u001b[0;32m--> 367\u001b[0m \u001b[38;5;28mself\u001b[39m\u001b[38;5;241m.\u001b[39mprepare_url(url, params)\n\u001b[1;32m    368\u001b[0m \u001b[38;5;28mself\u001b[39m\u001b[38;5;241m.\u001b[39mprepare_headers(headers)\n",
      "File \u001b[0;32m/data2/lsajkov/mpdg/conda/envs/mpdg/lib/python3.12/site-packages/requests/models.py:438\u001b[0m, in \u001b[0;36mPreparedRequest.prepare_url\u001b[0;34m(self, url, params)\u001b[0m\n\u001b[1;32m    437\u001b[0m \u001b[38;5;28;01mif\u001b[39;00m \u001b[38;5;129;01mnot\u001b[39;00m scheme:\n\u001b[0;32m--> 438\u001b[0m     \u001b[38;5;28;01mraise\u001b[39;00m MissingSchema(\n\u001b[1;32m    439\u001b[0m         \u001b[38;5;124mf\u001b[39m\u001b[38;5;124m\"\u001b[39m\u001b[38;5;124mInvalid URL \u001b[39m\u001b[38;5;132;01m{\u001b[39;00murl\u001b[38;5;132;01m!r}\u001b[39;00m\u001b[38;5;124m: No scheme supplied. \u001b[39m\u001b[38;5;124m\"\u001b[39m\n\u001b[1;32m    440\u001b[0m         \u001b[38;5;124mf\u001b[39m\u001b[38;5;124m\"\u001b[39m\u001b[38;5;124mPerhaps you meant https://\u001b[39m\u001b[38;5;132;01m{\u001b[39;00murl\u001b[38;5;132;01m}\u001b[39;00m\u001b[38;5;124m?\u001b[39m\u001b[38;5;124m\"\u001b[39m\n\u001b[1;32m    441\u001b[0m     )\n\u001b[1;32m    443\u001b[0m \u001b[38;5;28;01mif\u001b[39;00m \u001b[38;5;129;01mnot\u001b[39;00m host:\n",
      "\u001b[0;31mMissingSchema\u001b[0m: Invalid URL 'None': No scheme supplied. Perhaps you meant https://None?",
      "\nDuring handling of the above exception, another exception occurred:\n",
      "\u001b[0;31mTypeError\u001b[0m                                 Traceback (most recent call last)",
      "File \u001b[0;32m/data2/lsajkov/mpdg/conda/envs/mpdg/lib/python3.12/site-packages/SAGA/database/core.py:88\u001b[0m, in \u001b[0;36mFileObject.download_as_file\u001b[0;34m(self, file_path, overwrite, compress)\u001b[0m\n\u001b[1;32m     87\u001b[0m \u001b[38;5;28;01mexcept\u001b[39;00m requests\u001b[38;5;241m.\u001b[39mexceptions\u001b[38;5;241m.\u001b[39mMissingSchema:\n\u001b[0;32m---> 88\u001b[0m     shutil\u001b[38;5;241m.\u001b[39mcopy(\u001b[38;5;28mself\u001b[39m\u001b[38;5;241m.\u001b[39mpath, file_path)\n\u001b[1;32m     89\u001b[0m \u001b[38;5;28;01melse\u001b[39;00m:\n",
      "File \u001b[0;32m/data2/lsajkov/mpdg/conda/envs/mpdg/lib/python3.12/shutil.py:434\u001b[0m, in \u001b[0;36mcopy\u001b[0;34m(src, dst, follow_symlinks)\u001b[0m\n\u001b[1;32m    433\u001b[0m \u001b[38;5;28;01mif\u001b[39;00m os\u001b[38;5;241m.\u001b[39mpath\u001b[38;5;241m.\u001b[39misdir(dst):\n\u001b[0;32m--> 434\u001b[0m     dst \u001b[38;5;241m=\u001b[39m os\u001b[38;5;241m.\u001b[39mpath\u001b[38;5;241m.\u001b[39mjoin(dst, os\u001b[38;5;241m.\u001b[39mpath\u001b[38;5;241m.\u001b[39mbasename(src))\n\u001b[1;32m    435\u001b[0m copyfile(src, dst, follow_symlinks\u001b[38;5;241m=\u001b[39mfollow_symlinks)\n",
      "File \u001b[0;32m<frozen posixpath>:171\u001b[0m, in \u001b[0;36mbasename\u001b[0;34m(p)\u001b[0m\n",
      "\u001b[0;31mTypeError\u001b[0m: expected str, bytes or os.PathLike object, not NoneType",
      "\nDuring handling of the above exception, another exception occurred:\n",
      "\u001b[0;31mUnboundLocalError\u001b[0m                         Traceback (most recent call last)",
      "Cell \u001b[0;32mIn[36], line 1\u001b[0m\n\u001b[0;32m----> 1\u001b[0m saga_satellites\u001b[38;5;241m.\u001b[39mremote\u001b[38;5;241m.\u001b[39mdownload_as_file(saga_local)\n",
      "File \u001b[0;32m/data2/lsajkov/mpdg/conda/envs/mpdg/lib/python3.12/site-packages/SAGA/database/core.py:100\u001b[0m, in \u001b[0;36mFileObject.download_as_file\u001b[0;34m(self, file_path, overwrite, compress)\u001b[0m\n\u001b[1;32m     98\u001b[0m         \u001b[38;5;28;01mraise\u001b[39;00m\n\u001b[1;32m     99\u001b[0m \u001b[38;5;28;01mfinally\u001b[39;00m:\n\u001b[0;32m--> 100\u001b[0m     r\u001b[38;5;241m.\u001b[39mclose()\n",
      "\u001b[0;31mUnboundLocalError\u001b[0m: cannot access local variable 'r' where it is not associated with a value"
     ]
    }
   ],
   "source": [
    "saga_satellites.remote.download_as_file(saga_local)"
   ]
  },
  {
   "cell_type": "code",
   "execution_count": 23,
   "metadata": {},
   "outputs": [
    {
     "data": {
      "text/plain": [
       "<SAGA.database.core.DataObject at 0x7f14fc4ea4e0>"
      ]
     },
     "execution_count": 23,
     "metadata": {},
     "output_type": "execute_result"
    }
   ],
   "source": [
    "saga_satellites."
   ]
  },
  {
   "cell_type": "code",
   "execution_count": 22,
   "metadata": {},
   "outputs": [
    {
     "data": {
      "text/plain": [
       "False"
      ]
     },
     "execution_count": 22,
     "metadata": {},
     "output_type": "execute_result"
    }
   ],
   "source": [
    "saga_satellites.cache_in_memory"
   ]
  },
  {
   "cell_type": "code",
   "execution_count": 24,
   "metadata": {},
   "outputs": [
    {
     "ename": "UnboundLocalError",
     "evalue": "cannot access local variable 'r' where it is not associated with a value",
     "output_type": "error",
     "traceback": [
      "\u001b[0;31m---------------------------------------------------------------------------\u001b[0m",
      "\u001b[0;31mMissingSchema\u001b[0m                             Traceback (most recent call last)",
      "File \u001b[0;32m/data2/lsajkov/mpdg/conda/envs/mpdg/lib/python3.12/site-packages/SAGA/database/core.py:86\u001b[0m, in \u001b[0;36mFileObject.download_as_file\u001b[0;34m(self, file_path, overwrite, compress)\u001b[0m\n\u001b[1;32m     85\u001b[0m \u001b[38;5;28;01mtry\u001b[39;00m:\n\u001b[0;32m---> 86\u001b[0m     r \u001b[38;5;241m=\u001b[39m requests\u001b[38;5;241m.\u001b[39mget(\u001b[38;5;28mself\u001b[39m\u001b[38;5;241m.\u001b[39mpath, stream\u001b[38;5;241m=\u001b[39m\u001b[38;5;28;01mTrue\u001b[39;00m, timeout\u001b[38;5;241m=\u001b[39m(\u001b[38;5;241m120\u001b[39m, \u001b[38;5;241m3600\u001b[39m))\n\u001b[1;32m     87\u001b[0m \u001b[38;5;28;01mexcept\u001b[39;00m requests\u001b[38;5;241m.\u001b[39mexceptions\u001b[38;5;241m.\u001b[39mMissingSchema:\n",
      "File \u001b[0;32m/data2/lsajkov/mpdg/conda/envs/mpdg/lib/python3.12/site-packages/requests/api.py:73\u001b[0m, in \u001b[0;36mget\u001b[0;34m(url, params, **kwargs)\u001b[0m\n\u001b[1;32m     63\u001b[0m \u001b[38;5;250m\u001b[39m\u001b[38;5;124mr\u001b[39m\u001b[38;5;124;03m\"\"\"Sends a GET request.\u001b[39;00m\n\u001b[1;32m     64\u001b[0m \n\u001b[1;32m     65\u001b[0m \u001b[38;5;124;03m:param url: URL for the new :class:`Request` object.\u001b[39;00m\n\u001b[0;32m   (...)\u001b[0m\n\u001b[1;32m     70\u001b[0m \u001b[38;5;124;03m:rtype: requests.Response\u001b[39;00m\n\u001b[1;32m     71\u001b[0m \u001b[38;5;124;03m\"\"\"\u001b[39;00m\n\u001b[0;32m---> 73\u001b[0m \u001b[38;5;28;01mreturn\u001b[39;00m request(\u001b[38;5;124m\"\u001b[39m\u001b[38;5;124mget\u001b[39m\u001b[38;5;124m\"\u001b[39m, url, params\u001b[38;5;241m=\u001b[39mparams, \u001b[38;5;241m*\u001b[39m\u001b[38;5;241m*\u001b[39mkwargs)\n",
      "File \u001b[0;32m/data2/lsajkov/mpdg/conda/envs/mpdg/lib/python3.12/site-packages/requests/api.py:59\u001b[0m, in \u001b[0;36mrequest\u001b[0;34m(method, url, **kwargs)\u001b[0m\n\u001b[1;32m     58\u001b[0m \u001b[38;5;28;01mwith\u001b[39;00m sessions\u001b[38;5;241m.\u001b[39mSession() \u001b[38;5;28;01mas\u001b[39;00m session:\n\u001b[0;32m---> 59\u001b[0m     \u001b[38;5;28;01mreturn\u001b[39;00m session\u001b[38;5;241m.\u001b[39mrequest(method\u001b[38;5;241m=\u001b[39mmethod, url\u001b[38;5;241m=\u001b[39murl, \u001b[38;5;241m*\u001b[39m\u001b[38;5;241m*\u001b[39mkwargs)\n",
      "File \u001b[0;32m/data2/lsajkov/mpdg/conda/envs/mpdg/lib/python3.12/site-packages/requests/sessions.py:575\u001b[0m, in \u001b[0;36mSession.request\u001b[0;34m(self, method, url, params, data, headers, cookies, files, auth, timeout, allow_redirects, proxies, hooks, stream, verify, cert, json)\u001b[0m\n\u001b[1;32m    563\u001b[0m req \u001b[38;5;241m=\u001b[39m Request(\n\u001b[1;32m    564\u001b[0m     method\u001b[38;5;241m=\u001b[39mmethod\u001b[38;5;241m.\u001b[39mupper(),\n\u001b[1;32m    565\u001b[0m     url\u001b[38;5;241m=\u001b[39murl,\n\u001b[0;32m   (...)\u001b[0m\n\u001b[1;32m    573\u001b[0m     hooks\u001b[38;5;241m=\u001b[39mhooks,\n\u001b[1;32m    574\u001b[0m )\n\u001b[0;32m--> 575\u001b[0m prep \u001b[38;5;241m=\u001b[39m \u001b[38;5;28mself\u001b[39m\u001b[38;5;241m.\u001b[39mprepare_request(req)\n\u001b[1;32m    577\u001b[0m proxies \u001b[38;5;241m=\u001b[39m proxies \u001b[38;5;129;01mor\u001b[39;00m {}\n",
      "File \u001b[0;32m/data2/lsajkov/mpdg/conda/envs/mpdg/lib/python3.12/site-packages/requests/sessions.py:484\u001b[0m, in \u001b[0;36mSession.prepare_request\u001b[0;34m(self, request)\u001b[0m\n\u001b[1;32m    483\u001b[0m p \u001b[38;5;241m=\u001b[39m PreparedRequest()\n\u001b[0;32m--> 484\u001b[0m p\u001b[38;5;241m.\u001b[39mprepare(\n\u001b[1;32m    485\u001b[0m     method\u001b[38;5;241m=\u001b[39mrequest\u001b[38;5;241m.\u001b[39mmethod\u001b[38;5;241m.\u001b[39mupper(),\n\u001b[1;32m    486\u001b[0m     url\u001b[38;5;241m=\u001b[39mrequest\u001b[38;5;241m.\u001b[39murl,\n\u001b[1;32m    487\u001b[0m     files\u001b[38;5;241m=\u001b[39mrequest\u001b[38;5;241m.\u001b[39mfiles,\n\u001b[1;32m    488\u001b[0m     data\u001b[38;5;241m=\u001b[39mrequest\u001b[38;5;241m.\u001b[39mdata,\n\u001b[1;32m    489\u001b[0m     json\u001b[38;5;241m=\u001b[39mrequest\u001b[38;5;241m.\u001b[39mjson,\n\u001b[1;32m    490\u001b[0m     headers\u001b[38;5;241m=\u001b[39mmerge_setting(\n\u001b[1;32m    491\u001b[0m         request\u001b[38;5;241m.\u001b[39mheaders, \u001b[38;5;28mself\u001b[39m\u001b[38;5;241m.\u001b[39mheaders, dict_class\u001b[38;5;241m=\u001b[39mCaseInsensitiveDict\n\u001b[1;32m    492\u001b[0m     ),\n\u001b[1;32m    493\u001b[0m     params\u001b[38;5;241m=\u001b[39mmerge_setting(request\u001b[38;5;241m.\u001b[39mparams, \u001b[38;5;28mself\u001b[39m\u001b[38;5;241m.\u001b[39mparams),\n\u001b[1;32m    494\u001b[0m     auth\u001b[38;5;241m=\u001b[39mmerge_setting(auth, \u001b[38;5;28mself\u001b[39m\u001b[38;5;241m.\u001b[39mauth),\n\u001b[1;32m    495\u001b[0m     cookies\u001b[38;5;241m=\u001b[39mmerged_cookies,\n\u001b[1;32m    496\u001b[0m     hooks\u001b[38;5;241m=\u001b[39mmerge_hooks(request\u001b[38;5;241m.\u001b[39mhooks, \u001b[38;5;28mself\u001b[39m\u001b[38;5;241m.\u001b[39mhooks),\n\u001b[1;32m    497\u001b[0m )\n\u001b[1;32m    498\u001b[0m \u001b[38;5;28;01mreturn\u001b[39;00m p\n",
      "File \u001b[0;32m/data2/lsajkov/mpdg/conda/envs/mpdg/lib/python3.12/site-packages/requests/models.py:367\u001b[0m, in \u001b[0;36mPreparedRequest.prepare\u001b[0;34m(self, method, url, headers, files, data, params, auth, cookies, hooks, json)\u001b[0m\n\u001b[1;32m    366\u001b[0m \u001b[38;5;28mself\u001b[39m\u001b[38;5;241m.\u001b[39mprepare_method(method)\n\u001b[0;32m--> 367\u001b[0m \u001b[38;5;28mself\u001b[39m\u001b[38;5;241m.\u001b[39mprepare_url(url, params)\n\u001b[1;32m    368\u001b[0m \u001b[38;5;28mself\u001b[39m\u001b[38;5;241m.\u001b[39mprepare_headers(headers)\n",
      "File \u001b[0;32m/data2/lsajkov/mpdg/conda/envs/mpdg/lib/python3.12/site-packages/requests/models.py:438\u001b[0m, in \u001b[0;36mPreparedRequest.prepare_url\u001b[0;34m(self, url, params)\u001b[0m\n\u001b[1;32m    437\u001b[0m \u001b[38;5;28;01mif\u001b[39;00m \u001b[38;5;129;01mnot\u001b[39;00m scheme:\n\u001b[0;32m--> 438\u001b[0m     \u001b[38;5;28;01mraise\u001b[39;00m MissingSchema(\n\u001b[1;32m    439\u001b[0m         \u001b[38;5;124mf\u001b[39m\u001b[38;5;124m\"\u001b[39m\u001b[38;5;124mInvalid URL \u001b[39m\u001b[38;5;132;01m{\u001b[39;00murl\u001b[38;5;132;01m!r}\u001b[39;00m\u001b[38;5;124m: No scheme supplied. \u001b[39m\u001b[38;5;124m\"\u001b[39m\n\u001b[1;32m    440\u001b[0m         \u001b[38;5;124mf\u001b[39m\u001b[38;5;124m\"\u001b[39m\u001b[38;5;124mPerhaps you meant https://\u001b[39m\u001b[38;5;132;01m{\u001b[39;00murl\u001b[38;5;132;01m}\u001b[39;00m\u001b[38;5;124m?\u001b[39m\u001b[38;5;124m\"\u001b[39m\n\u001b[1;32m    441\u001b[0m     )\n\u001b[1;32m    443\u001b[0m \u001b[38;5;28;01mif\u001b[39;00m \u001b[38;5;129;01mnot\u001b[39;00m host:\n",
      "\u001b[0;31mMissingSchema\u001b[0m: Invalid URL 'None': No scheme supplied. Perhaps you meant https://None?",
      "\nDuring handling of the above exception, another exception occurred:\n",
      "\u001b[0;31mTypeError\u001b[0m                                 Traceback (most recent call last)",
      "File \u001b[0;32m/data2/lsajkov/mpdg/conda/envs/mpdg/lib/python3.12/site-packages/SAGA/database/core.py:88\u001b[0m, in \u001b[0;36mFileObject.download_as_file\u001b[0;34m(self, file_path, overwrite, compress)\u001b[0m\n\u001b[1;32m     87\u001b[0m \u001b[38;5;28;01mexcept\u001b[39;00m requests\u001b[38;5;241m.\u001b[39mexceptions\u001b[38;5;241m.\u001b[39mMissingSchema:\n\u001b[0;32m---> 88\u001b[0m     shutil\u001b[38;5;241m.\u001b[39mcopy(\u001b[38;5;28mself\u001b[39m\u001b[38;5;241m.\u001b[39mpath, file_path)\n\u001b[1;32m     89\u001b[0m \u001b[38;5;28;01melse\u001b[39;00m:\n",
      "File \u001b[0;32m/data2/lsajkov/mpdg/conda/envs/mpdg/lib/python3.12/shutil.py:435\u001b[0m, in \u001b[0;36mcopy\u001b[0;34m(src, dst, follow_symlinks)\u001b[0m\n\u001b[1;32m    434\u001b[0m     dst \u001b[38;5;241m=\u001b[39m os\u001b[38;5;241m.\u001b[39mpath\u001b[38;5;241m.\u001b[39mjoin(dst, os\u001b[38;5;241m.\u001b[39mpath\u001b[38;5;241m.\u001b[39mbasename(src))\n\u001b[0;32m--> 435\u001b[0m copyfile(src, dst, follow_symlinks\u001b[38;5;241m=\u001b[39mfollow_symlinks)\n\u001b[1;32m    436\u001b[0m copymode(src, dst, follow_symlinks\u001b[38;5;241m=\u001b[39mfollow_symlinks)\n",
      "File \u001b[0;32m/data2/lsajkov/mpdg/conda/envs/mpdg/lib/python3.12/shutil.py:239\u001b[0m, in \u001b[0;36mcopyfile\u001b[0;34m(src, dst, follow_symlinks)\u001b[0m\n\u001b[1;32m    237\u001b[0m sys\u001b[38;5;241m.\u001b[39maudit(\u001b[38;5;124m\"\u001b[39m\u001b[38;5;124mshutil.copyfile\u001b[39m\u001b[38;5;124m\"\u001b[39m, src, dst)\n\u001b[0;32m--> 239\u001b[0m \u001b[38;5;28;01mif\u001b[39;00m _samefile(src, dst):\n\u001b[1;32m    240\u001b[0m     \u001b[38;5;28;01mraise\u001b[39;00m SameFileError(\u001b[38;5;124m\"\u001b[39m\u001b[38;5;132;01m{!r}\u001b[39;00m\u001b[38;5;124m and \u001b[39m\u001b[38;5;132;01m{!r}\u001b[39;00m\u001b[38;5;124m are the same file\u001b[39m\u001b[38;5;124m\"\u001b[39m\u001b[38;5;241m.\u001b[39mformat(src, dst))\n",
      "File \u001b[0;32m/data2/lsajkov/mpdg/conda/envs/mpdg/lib/python3.12/shutil.py:216\u001b[0m, in \u001b[0;36m_samefile\u001b[0;34m(src, dst)\u001b[0m\n\u001b[1;32m    215\u001b[0m \u001b[38;5;28;01mtry\u001b[39;00m:\n\u001b[0;32m--> 216\u001b[0m     \u001b[38;5;28;01mreturn\u001b[39;00m os\u001b[38;5;241m.\u001b[39mpath\u001b[38;5;241m.\u001b[39msamefile(src, dst)\n\u001b[1;32m    217\u001b[0m \u001b[38;5;28;01mexcept\u001b[39;00m \u001b[38;5;167;01mOSError\u001b[39;00m:\n",
      "File \u001b[0;32m<frozen genericpath>:112\u001b[0m, in \u001b[0;36msamefile\u001b[0;34m(f1, f2)\u001b[0m\n",
      "\u001b[0;31mTypeError\u001b[0m: stat: path should be string, bytes, os.PathLike or integer, not NoneType",
      "\nDuring handling of the above exception, another exception occurred:\n",
      "\u001b[0;31mUnboundLocalError\u001b[0m                         Traceback (most recent call last)",
      "Cell \u001b[0;32mIn[24], line 1\u001b[0m\n\u001b[0;32m----> 1\u001b[0m saga_satellites\u001b[38;5;241m.\u001b[39mdownload(saga_satellites\u001b[38;5;241m.\u001b[39mpath)\n",
      "File \u001b[0;32m/data2/lsajkov/mpdg/conda/envs/mpdg/lib/python3.12/site-packages/SAGA/database/core.py:347\u001b[0m, in \u001b[0;36mDataObject.download\u001b[0;34m(self, local_file_path, overwrite, compress, set_as_local)\u001b[0m\n\u001b[1;32m    344\u001b[0m     \u001b[38;5;28;01melse\u001b[39;00m:\n\u001b[1;32m    345\u001b[0m         set_as_local \u001b[38;5;241m=\u001b[39m \u001b[38;5;28;01mFalse\u001b[39;00m  \u001b[38;5;66;03m# no need to do this again\u001b[39;00m\n\u001b[0;32m--> 347\u001b[0m \u001b[38;5;28mself\u001b[39m\u001b[38;5;241m.\u001b[39mremote\u001b[38;5;241m.\u001b[39mdownload_as_file(local_file_path, overwrite\u001b[38;5;241m=\u001b[39moverwrite, compress\u001b[38;5;241m=\u001b[39mcompress)\n\u001b[1;32m    349\u001b[0m \u001b[38;5;28;01mif\u001b[39;00m set_as_local:\n\u001b[1;32m    350\u001b[0m     \u001b[38;5;28mself\u001b[39m\u001b[38;5;241m.\u001b[39mlocal \u001b[38;5;241m=\u001b[39m local_file_path\n",
      "File \u001b[0;32m/data2/lsajkov/mpdg/conda/envs/mpdg/lib/python3.12/site-packages/SAGA/database/core.py:100\u001b[0m, in \u001b[0;36mFileObject.download_as_file\u001b[0;34m(self, file_path, overwrite, compress)\u001b[0m\n\u001b[1;32m     98\u001b[0m         \u001b[38;5;28;01mraise\u001b[39;00m\n\u001b[1;32m     99\u001b[0m \u001b[38;5;28;01mfinally\u001b[39;00m:\n\u001b[0;32m--> 100\u001b[0m     r\u001b[38;5;241m.\u001b[39mclose()\n",
      "\u001b[0;31mUnboundLocalError\u001b[0m: cannot access local variable 'r' where it is not associated with a value"
     ]
    }
   ],
   "source": [
    "saga_satellites.download(saga_satellites.path)"
   ]
  },
  {
   "cell_type": "code",
   "execution_count": 29,
   "metadata": {},
   "outputs": [
    {
     "name": "stdout",
     "output_type": "stream",
     "text": [
      "[06/12 15:55:01] Start to build 16 base catalog(s). Build version = 3\n",
      "[06/12 15:55:01] base_file_path_pattern = /data2/lsajkov/mpdg/saga_local/base_catalogs_v3/base_v3_{}.fits.gz\n",
      "[06/12 15:55:07] NSA catalog loaded.\n",
      "[06/12 15:55:09] SGA catalog loaded.\n"
     ]
    },
    {
     "ename": "FileNotFoundError",
     "evalue": "[Errno 2] No such file or directory: '/data2/lsajkov/mpdg/strw_mpdg/Spectra/Final/2dF/2dF_best.fit'",
     "output_type": "error",
     "traceback": [
      "\u001b[0;31m---------------------------------------------------------------------------\u001b[0m",
      "\u001b[0;31mFileNotFoundError\u001b[0m                         Traceback (most recent call last)",
      "File \u001b[0;32m/data2/lsajkov/mpdg/conda/envs/mpdg/lib/python3.12/site-packages/SAGA/database/core.py:152\u001b[0m, in \u001b[0;36mFitsTable.read\u001b[0;34m(self)\u001b[0m\n\u001b[1;32m    151\u001b[0m \u001b[38;5;28;01mtry\u001b[39;00m:\n\u001b[0;32m--> 152\u001b[0m     hdu_list \u001b[38;5;241m=\u001b[39m fits\u001b[38;5;241m.\u001b[39mopen(path, \u001b[38;5;241m*\u001b[39m\u001b[38;5;241m*\u001b[39mkwargs_this)\n\u001b[1;32m    153\u001b[0m \u001b[38;5;28;01mexcept\u001b[39;00m \u001b[38;5;167;01mOSError\u001b[39;00m:\n\u001b[1;32m    154\u001b[0m     \u001b[38;5;66;03m# this helps fits.open guess the compression better\u001b[39;00m\n",
      "File \u001b[0;32m/data2/lsajkov/mpdg/conda/envs/mpdg/lib/python3.12/site-packages/astropy/io/fits/hdu/hdulist.py:222\u001b[0m, in \u001b[0;36mfitsopen\u001b[0;34m(name, mode, memmap, save_backup, cache, lazy_load_hdus, ignore_missing_simple, use_fsspec, fsspec_kwargs, decompress_in_memory, **kwargs)\u001b[0m\n\u001b[1;32m    220\u001b[0m     \u001b[38;5;28;01mraise\u001b[39;00m \u001b[38;5;167;01mValueError\u001b[39;00m(\u001b[38;5;124mf\u001b[39m\u001b[38;5;124m\"\u001b[39m\u001b[38;5;124mEmpty filename: \u001b[39m\u001b[38;5;132;01m{\u001b[39;00mname\u001b[38;5;132;01m!r}\u001b[39;00m\u001b[38;5;124m\"\u001b[39m)\n\u001b[0;32m--> 222\u001b[0m \u001b[38;5;28;01mreturn\u001b[39;00m HDUList\u001b[38;5;241m.\u001b[39mfromfile(\n\u001b[1;32m    223\u001b[0m     name,\n\u001b[1;32m    224\u001b[0m     mode,\n\u001b[1;32m    225\u001b[0m     memmap,\n\u001b[1;32m    226\u001b[0m     save_backup,\n\u001b[1;32m    227\u001b[0m     cache,\n\u001b[1;32m    228\u001b[0m     lazy_load_hdus,\n\u001b[1;32m    229\u001b[0m     ignore_missing_simple,\n\u001b[1;32m    230\u001b[0m     use_fsspec\u001b[38;5;241m=\u001b[39muse_fsspec,\n\u001b[1;32m    231\u001b[0m     fsspec_kwargs\u001b[38;5;241m=\u001b[39mfsspec_kwargs,\n\u001b[1;32m    232\u001b[0m     decompress_in_memory\u001b[38;5;241m=\u001b[39mdecompress_in_memory,\n\u001b[1;32m    233\u001b[0m     \u001b[38;5;241m*\u001b[39m\u001b[38;5;241m*\u001b[39mkwargs,\n\u001b[1;32m    234\u001b[0m )\n",
      "File \u001b[0;32m/data2/lsajkov/mpdg/conda/envs/mpdg/lib/python3.12/site-packages/astropy/io/fits/hdu/hdulist.py:486\u001b[0m, in \u001b[0;36mHDUList.fromfile\u001b[0;34m(cls, fileobj, mode, memmap, save_backup, cache, lazy_load_hdus, ignore_missing_simple, **kwargs)\u001b[0m\n\u001b[1;32m    479\u001b[0m \u001b[38;5;250m\u001b[39m\u001b[38;5;124;03m\"\"\"\u001b[39;00m\n\u001b[1;32m    480\u001b[0m \u001b[38;5;124;03mCreates an `HDUList` instance from a file-like object.\u001b[39;00m\n\u001b[1;32m    481\u001b[0m \n\u001b[0;32m   (...)\u001b[0m\n\u001b[1;32m    484\u001b[0m \u001b[38;5;124;03mdocumentation for details of the parameters accepted by this method).\u001b[39;00m\n\u001b[1;32m    485\u001b[0m \u001b[38;5;124;03m\"\"\"\u001b[39;00m\n\u001b[0;32m--> 486\u001b[0m \u001b[38;5;28;01mreturn\u001b[39;00m \u001b[38;5;28mcls\u001b[39m\u001b[38;5;241m.\u001b[39m_readfrom(\n\u001b[1;32m    487\u001b[0m     fileobj\u001b[38;5;241m=\u001b[39mfileobj,\n\u001b[1;32m    488\u001b[0m     mode\u001b[38;5;241m=\u001b[39mmode,\n\u001b[1;32m    489\u001b[0m     memmap\u001b[38;5;241m=\u001b[39mmemmap,\n\u001b[1;32m    490\u001b[0m     save_backup\u001b[38;5;241m=\u001b[39msave_backup,\n\u001b[1;32m    491\u001b[0m     cache\u001b[38;5;241m=\u001b[39mcache,\n\u001b[1;32m    492\u001b[0m     ignore_missing_simple\u001b[38;5;241m=\u001b[39mignore_missing_simple,\n\u001b[1;32m    493\u001b[0m     lazy_load_hdus\u001b[38;5;241m=\u001b[39mlazy_load_hdus,\n\u001b[1;32m    494\u001b[0m     \u001b[38;5;241m*\u001b[39m\u001b[38;5;241m*\u001b[39mkwargs,\n\u001b[1;32m    495\u001b[0m )\n",
      "File \u001b[0;32m/data2/lsajkov/mpdg/conda/envs/mpdg/lib/python3.12/site-packages/astropy/io/fits/hdu/hdulist.py:1168\u001b[0m, in \u001b[0;36mHDUList._readfrom\u001b[0;34m(cls, fileobj, data, mode, memmap, cache, lazy_load_hdus, ignore_missing_simple, use_fsspec, fsspec_kwargs, decompress_in_memory, **kwargs)\u001b[0m\n\u001b[1;32m   1166\u001b[0m \u001b[38;5;28;01mif\u001b[39;00m \u001b[38;5;129;01mnot\u001b[39;00m \u001b[38;5;28misinstance\u001b[39m(fileobj, _File):\n\u001b[1;32m   1167\u001b[0m     \u001b[38;5;66;03m# instantiate a FITS file object (ffo)\u001b[39;00m\n\u001b[0;32m-> 1168\u001b[0m     fileobj \u001b[38;5;241m=\u001b[39m _File(\n\u001b[1;32m   1169\u001b[0m         fileobj,\n\u001b[1;32m   1170\u001b[0m         mode\u001b[38;5;241m=\u001b[39mmode,\n\u001b[1;32m   1171\u001b[0m         memmap\u001b[38;5;241m=\u001b[39mmemmap,\n\u001b[1;32m   1172\u001b[0m         cache\u001b[38;5;241m=\u001b[39mcache,\n\u001b[1;32m   1173\u001b[0m         use_fsspec\u001b[38;5;241m=\u001b[39muse_fsspec,\n\u001b[1;32m   1174\u001b[0m         fsspec_kwargs\u001b[38;5;241m=\u001b[39mfsspec_kwargs,\n\u001b[1;32m   1175\u001b[0m         decompress_in_memory\u001b[38;5;241m=\u001b[39mdecompress_in_memory,\n\u001b[1;32m   1176\u001b[0m     )\n\u001b[1;32m   1177\u001b[0m \u001b[38;5;66;03m# The Astropy mode is determined by the _File initializer if the\u001b[39;00m\n\u001b[1;32m   1178\u001b[0m \u001b[38;5;66;03m# supplied mode was None\u001b[39;00m\n",
      "File \u001b[0;32m/data2/lsajkov/mpdg/conda/envs/mpdg/lib/python3.12/site-packages/astropy/io/fits/file.py:218\u001b[0m, in \u001b[0;36m_File.__init__\u001b[0;34m(self, fileobj, mode, memmap, overwrite, cache, use_fsspec, fsspec_kwargs, decompress_in_memory)\u001b[0m\n\u001b[1;32m    217\u001b[0m \u001b[38;5;28;01melif\u001b[39;00m \u001b[38;5;28misinstance\u001b[39m(fileobj, (\u001b[38;5;28mstr\u001b[39m, \u001b[38;5;28mbytes\u001b[39m)):\n\u001b[0;32m--> 218\u001b[0m     \u001b[38;5;28mself\u001b[39m\u001b[38;5;241m.\u001b[39m_open_filename(fileobj, mode, overwrite)\n\u001b[1;32m    219\u001b[0m \u001b[38;5;28;01melse\u001b[39;00m:\n",
      "File \u001b[0;32m/data2/lsajkov/mpdg/conda/envs/mpdg/lib/python3.12/site-packages/astropy/io/fits/file.py:651\u001b[0m, in \u001b[0;36m_File._open_filename\u001b[0;34m(self, filename, mode, overwrite)\u001b[0m\n\u001b[1;32m    650\u001b[0m \u001b[38;5;28;01mif\u001b[39;00m \u001b[38;5;129;01mnot\u001b[39;00m \u001b[38;5;28mself\u001b[39m\u001b[38;5;241m.\u001b[39m_try_read_compressed(\u001b[38;5;28mself\u001b[39m\u001b[38;5;241m.\u001b[39mname, magic, mode, ext\u001b[38;5;241m=\u001b[39mext):\n\u001b[0;32m--> 651\u001b[0m     \u001b[38;5;28mself\u001b[39m\u001b[38;5;241m.\u001b[39m_file \u001b[38;5;241m=\u001b[39m \u001b[38;5;28mopen\u001b[39m(\u001b[38;5;28mself\u001b[39m\u001b[38;5;241m.\u001b[39mname, IO_FITS_MODES[mode])\n\u001b[1;32m    652\u001b[0m     \u001b[38;5;28mself\u001b[39m\u001b[38;5;241m.\u001b[39mclose_on_error \u001b[38;5;241m=\u001b[39m \u001b[38;5;28;01mTrue\u001b[39;00m\n",
      "\u001b[0;31mFileNotFoundError\u001b[0m: [Errno 2] No such file or directory: '/data2/lsajkov/mpdg/strw_mpdg/Spectra/Final/2dF/2dF_best.fit'",
      "\nDuring handling of the above exception, another exception occurred:\n",
      "\u001b[0;31mFileNotFoundError\u001b[0m                         Traceback (most recent call last)",
      "Cell \u001b[0;32mIn[29], line 1\u001b[0m\n\u001b[0;32m----> 1\u001b[0m saga_object_catalog \u001b[38;5;241m=\u001b[39m saga\u001b[38;5;241m.\u001b[39mobject_catalog\u001b[38;5;241m.\u001b[39mbuild_and_write_to_database(hosts \u001b[38;5;241m=\u001b[39m \u001b[38;5;124m\"\u001b[39m\u001b[38;5;124mpaper1\u001b[39m\u001b[38;5;124m\"\u001b[39m, overwrite\u001b[38;5;241m=\u001b[39m\u001b[38;5;28;01mTrue\u001b[39;00m)\n",
      "File \u001b[0;32m/data2/lsajkov/mpdg/conda/envs/mpdg/lib/python3.12/site-packages/SAGA/objects/object_catalog.py:587\u001b[0m, in \u001b[0;36mObjectCatalog.build_and_write_to_database\u001b[0;34m(self, hosts, overwrite, base_file_path_pattern, version, return_catalogs, raise_exception, add_specs_only_before_time, use_nsa, convert_to_sdss_filters, additional_specs, exclude_spec_masks, debug)\u001b[0m\n\u001b[1;32m    584\u001b[0m \u001b[38;5;28;01mif\u001b[39;00m sga \u001b[38;5;129;01mis\u001b[39;00m \u001b[38;5;129;01mnot\u001b[39;00m \u001b[38;5;28;01mNone\u001b[39;00m:\n\u001b[1;32m    585\u001b[0m     \u001b[38;5;28mprint\u001b[39m(time\u001b[38;5;241m.\u001b[39mstrftime(\u001b[38;5;124m\"\u001b[39m\u001b[38;5;124m[\u001b[39m\u001b[38;5;124m%\u001b[39m\u001b[38;5;124mm/\u001b[39m\u001b[38;5;132;01m%d\u001b[39;00m\u001b[38;5;124m \u001b[39m\u001b[38;5;124m%\u001b[39m\u001b[38;5;124mH:\u001b[39m\u001b[38;5;124m%\u001b[39m\u001b[38;5;124mM:\u001b[39m\u001b[38;5;124m%\u001b[39m\u001b[38;5;124mS]\u001b[39m\u001b[38;5;124m\"\u001b[39m), \u001b[38;5;124m\"\u001b[39m\u001b[38;5;124mSGA catalog loaded.\u001b[39m\u001b[38;5;124m\"\u001b[39m)\n\u001b[0;32m--> 587\u001b[0m spectra \u001b[38;5;241m=\u001b[39m \u001b[38;5;28mself\u001b[39m\u001b[38;5;241m.\u001b[39m_database[\u001b[38;5;124m\"\u001b[39m\u001b[38;5;124mspectra_raw_all\u001b[39m\u001b[38;5;124m\"\u001b[39m]\u001b[38;5;241m.\u001b[39mread(\n\u001b[1;32m    588\u001b[0m     before_time\u001b[38;5;241m=\u001b[39madd_specs_only_before_time,\n\u001b[1;32m    589\u001b[0m     additional_specs\u001b[38;5;241m=\u001b[39madditional_specs,\n\u001b[1;32m    590\u001b[0m     exclude_spec_masks\u001b[38;5;241m=\u001b[39mexclude_spec_masks,\n\u001b[1;32m    591\u001b[0m )\n\u001b[1;32m    592\u001b[0m \u001b[38;5;28mprint\u001b[39m(time\u001b[38;5;241m.\u001b[39mstrftime(\u001b[38;5;124m\"\u001b[39m\u001b[38;5;124m[\u001b[39m\u001b[38;5;124m%\u001b[39m\u001b[38;5;124mm/\u001b[39m\u001b[38;5;132;01m%d\u001b[39;00m\u001b[38;5;124m \u001b[39m\u001b[38;5;124m%\u001b[39m\u001b[38;5;124mH:\u001b[39m\u001b[38;5;124m%\u001b[39m\u001b[38;5;124mM:\u001b[39m\u001b[38;5;124m%\u001b[39m\u001b[38;5;124mS]\u001b[39m\u001b[38;5;124m\"\u001b[39m), \u001b[38;5;124m\"\u001b[39m\u001b[38;5;124mAll spectra loaded.\u001b[39m\u001b[38;5;124m\"\u001b[39m)\n\u001b[1;32m    594\u001b[0m \u001b[38;5;66;03m# Loading post-processed catalogs\u001b[39;00m\n",
      "File \u001b[0;32m/data2/lsajkov/mpdg/conda/envs/mpdg/lib/python3.12/site-packages/SAGA/database/core.py:286\u001b[0m, in \u001b[0;36mDataObject.read\u001b[0;34m(self, reload, **kwargs)\u001b[0m\n\u001b[1;32m    284\u001b[0m \u001b[38;5;28;01mexcept\u001b[39;00m \u001b[38;5;167;01mException\u001b[39;00m \u001b[38;5;28;01mas\u001b[39;00m read_exception:\n\u001b[1;32m    285\u001b[0m     \u001b[38;5;28;01mif\u001b[39;00m \u001b[38;5;28mself\u001b[39m\u001b[38;5;241m.\u001b[39mlocal \u001b[38;5;129;01mis\u001b[39;00m \u001b[38;5;28;01mNone\u001b[39;00m:\n\u001b[0;32m--> 286\u001b[0m         \u001b[38;5;28;01mraise\u001b[39;00m read_exception\n\u001b[1;32m    287\u001b[0m     logging\u001b[38;5;241m.\u001b[39mwarning(\u001b[38;5;124m\"\u001b[39m\u001b[38;5;124mFailed to read remote; fall back to read local file...\u001b[39m\u001b[38;5;124m\"\u001b[39m)\n\u001b[1;32m    288\u001b[0m     \u001b[38;5;28;01mif\u001b[39;00m \u001b[38;5;129;01mnot\u001b[39;00m \u001b[38;5;28mself\u001b[39m\u001b[38;5;241m.\u001b[39mlocal\u001b[38;5;241m.\u001b[39misfile():\n",
      "File \u001b[0;32m/data2/lsajkov/mpdg/conda/envs/mpdg/lib/python3.12/site-packages/SAGA/database/core.py:283\u001b[0m, in \u001b[0;36mDataObject.read\u001b[0;34m(self, reload, **kwargs)\u001b[0m\n\u001b[1;32m    281\u001b[0m \u001b[38;5;28;01melse\u001b[39;00m:\n\u001b[1;32m    282\u001b[0m     \u001b[38;5;28;01mtry\u001b[39;00m:\n\u001b[0;32m--> 283\u001b[0m         table \u001b[38;5;241m=\u001b[39m \u001b[38;5;28mself\u001b[39m\u001b[38;5;241m.\u001b[39mremote\u001b[38;5;241m.\u001b[39mread(\u001b[38;5;241m*\u001b[39m\u001b[38;5;241m*\u001b[39mkwargs)\n\u001b[1;32m    284\u001b[0m     \u001b[38;5;28;01mexcept\u001b[39;00m \u001b[38;5;167;01mException\u001b[39;00m \u001b[38;5;28;01mas\u001b[39;00m read_exception:\n\u001b[1;32m    285\u001b[0m         \u001b[38;5;28;01mif\u001b[39;00m \u001b[38;5;28mself\u001b[39m\u001b[38;5;241m.\u001b[39mlocal \u001b[38;5;129;01mis\u001b[39;00m \u001b[38;5;28;01mNone\u001b[39;00m:\n",
      "File \u001b[0;32m/data2/lsajkov/mpdg/conda/envs/mpdg/lib/python3.12/site-packages/SAGA/spectra/spectra_data_object.py:35\u001b[0m, in \u001b[0;36mSpectraData.read\u001b[0;34m(self, add_coord, before_time, additional_specs, exclude_spec_masks)\u001b[0m\n\u001b[1;32m     33\u001b[0m     \u001b[38;5;28;01mif\u001b[39;00m \u001b[38;5;129;01mnot\u001b[39;00m \u001b[38;5;28misinstance\u001b[39m(v, (\u001b[38;5;28mtuple\u001b[39m, \u001b[38;5;28mlist\u001b[39m)):\n\u001b[1;32m     34\u001b[0m         v \u001b[38;5;241m=\u001b[39m [v]\n\u001b[0;32m---> 35\u001b[0m     all_specs\u001b[38;5;241m.\u001b[39mextend([func(vi) \u001b[38;5;28;01mfor\u001b[39;00m vi \u001b[38;5;129;01min\u001b[39;00m v])\n\u001b[1;32m     37\u001b[0m \u001b[38;5;28;01mif\u001b[39;00m \u001b[38;5;28mself\u001b[39m\u001b[38;5;241m.\u001b[39mspectra_dir_path \u001b[38;5;129;01mis\u001b[39;00m \u001b[38;5;129;01mnot\u001b[39;00m \u001b[38;5;28;01mNone\u001b[39;00m:\n\u001b[1;32m     38\u001b[0m     \u001b[38;5;28;01mif\u001b[39;00m before_time \u001b[38;5;129;01mis\u001b[39;00m \u001b[38;5;129;01mnot\u001b[39;00m \u001b[38;5;28;01mNone\u001b[39;00m \u001b[38;5;129;01mand\u001b[39;00m \u001b[38;5;129;01mnot\u001b[39;00m \u001b[38;5;28misinstance\u001b[39m(before_time, Time):\n",
      "File \u001b[0;32m/data2/lsajkov/mpdg/conda/envs/mpdg/lib/python3.12/site-packages/SAGA/spectra/read_external.py:63\u001b[0m, in \u001b[0;36mread_2df\u001b[0;34m(file_path)\u001b[0m\n\u001b[1;32m     61\u001b[0m \u001b[38;5;28;01mif\u001b[39;00m \u001b[38;5;129;01mnot\u001b[39;00m \u001b[38;5;28mhasattr\u001b[39m(file_path, \u001b[38;5;124m\"\u001b[39m\u001b[38;5;124mread\u001b[39m\u001b[38;5;124m\"\u001b[39m):\n\u001b[1;32m     62\u001b[0m     file_path \u001b[38;5;241m=\u001b[39m FitsTable(file_path)\n\u001b[0;32m---> 63\u001b[0m specs \u001b[38;5;241m=\u001b[39m file_path\u001b[38;5;241m.\u001b[39mread()[\u001b[38;5;124m\"\u001b[39m\u001b[38;5;124mRAJ2000\u001b[39m\u001b[38;5;124m\"\u001b[39m, \u001b[38;5;124m\"\u001b[39m\u001b[38;5;124mDEJ2000\u001b[39m\u001b[38;5;124m\"\u001b[39m, \u001b[38;5;124m\"\u001b[39m\u001b[38;5;124mName\u001b[39m\u001b[38;5;124m\"\u001b[39m, \u001b[38;5;124m\"\u001b[39m\u001b[38;5;124mz\u001b[39m\u001b[38;5;124m\"\u001b[39m, \u001b[38;5;124m\"\u001b[39m\u001b[38;5;124mq_z\u001b[39m\u001b[38;5;124m\"\u001b[39m]\n\u001b[1;32m     65\u001b[0m \u001b[38;5;66;03m# 3 = probably galaxy, 4 = definite galaxy, 6 = confirmed star\u001b[39;00m\n\u001b[1;32m     66\u001b[0m specs \u001b[38;5;241m=\u001b[39m Query(\u001b[38;5;124m\"\u001b[39m\u001b[38;5;124mq_z >= 3\u001b[39m\u001b[38;5;124m\"\u001b[39m)\u001b[38;5;241m.\u001b[39mfilter(specs)\n",
      "File \u001b[0;32m/data2/lsajkov/mpdg/conda/envs/mpdg/lib/python3.12/site-packages/SAGA/database/core.py:286\u001b[0m, in \u001b[0;36mDataObject.read\u001b[0;34m(self, reload, **kwargs)\u001b[0m\n\u001b[1;32m    284\u001b[0m \u001b[38;5;28;01mexcept\u001b[39;00m \u001b[38;5;167;01mException\u001b[39;00m \u001b[38;5;28;01mas\u001b[39;00m read_exception:\n\u001b[1;32m    285\u001b[0m     \u001b[38;5;28;01mif\u001b[39;00m \u001b[38;5;28mself\u001b[39m\u001b[38;5;241m.\u001b[39mlocal \u001b[38;5;129;01mis\u001b[39;00m \u001b[38;5;28;01mNone\u001b[39;00m:\n\u001b[0;32m--> 286\u001b[0m         \u001b[38;5;28;01mraise\u001b[39;00m read_exception\n\u001b[1;32m    287\u001b[0m     logging\u001b[38;5;241m.\u001b[39mwarning(\u001b[38;5;124m\"\u001b[39m\u001b[38;5;124mFailed to read remote; fall back to read local file...\u001b[39m\u001b[38;5;124m\"\u001b[39m)\n\u001b[1;32m    288\u001b[0m     \u001b[38;5;28;01mif\u001b[39;00m \u001b[38;5;129;01mnot\u001b[39;00m \u001b[38;5;28mself\u001b[39m\u001b[38;5;241m.\u001b[39mlocal\u001b[38;5;241m.\u001b[39misfile():\n",
      "File \u001b[0;32m/data2/lsajkov/mpdg/conda/envs/mpdg/lib/python3.12/site-packages/SAGA/database/core.py:283\u001b[0m, in \u001b[0;36mDataObject.read\u001b[0;34m(self, reload, **kwargs)\u001b[0m\n\u001b[1;32m    281\u001b[0m \u001b[38;5;28;01melse\u001b[39;00m:\n\u001b[1;32m    282\u001b[0m     \u001b[38;5;28;01mtry\u001b[39;00m:\n\u001b[0;32m--> 283\u001b[0m         table \u001b[38;5;241m=\u001b[39m \u001b[38;5;28mself\u001b[39m\u001b[38;5;241m.\u001b[39mremote\u001b[38;5;241m.\u001b[39mread(\u001b[38;5;241m*\u001b[39m\u001b[38;5;241m*\u001b[39mkwargs)\n\u001b[1;32m    284\u001b[0m     \u001b[38;5;28;01mexcept\u001b[39;00m \u001b[38;5;167;01mException\u001b[39;00m \u001b[38;5;28;01mas\u001b[39;00m read_exception:\n\u001b[1;32m    285\u001b[0m         \u001b[38;5;28;01mif\u001b[39;00m \u001b[38;5;28mself\u001b[39m\u001b[38;5;241m.\u001b[39mlocal \u001b[38;5;129;01mis\u001b[39;00m \u001b[38;5;28;01mNone\u001b[39;00m:\n",
      "File \u001b[0;32m/data2/lsajkov/mpdg/conda/envs/mpdg/lib/python3.12/site-packages/SAGA/database/core.py:155\u001b[0m, in \u001b[0;36mFitsTable.read\u001b[0;34m(self)\u001b[0m\n\u001b[1;32m    152\u001b[0m     hdu_list \u001b[38;5;241m=\u001b[39m fits\u001b[38;5;241m.\u001b[39mopen(path, \u001b[38;5;241m*\u001b[39m\u001b[38;5;241m*\u001b[39mkwargs_this)\n\u001b[1;32m    153\u001b[0m \u001b[38;5;28;01mexcept\u001b[39;00m \u001b[38;5;167;01mOSError\u001b[39;00m:\n\u001b[1;32m    154\u001b[0m     \u001b[38;5;66;03m# this helps fits.open guess the compression better\u001b[39;00m\n\u001b[0;32m--> 155\u001b[0m     hdu_list \u001b[38;5;241m=\u001b[39m fits\u001b[38;5;241m.\u001b[39mopen(\u001b[38;5;28mopen\u001b[39m(path, \u001b[38;5;124m\"\u001b[39m\u001b[38;5;124mrb\u001b[39m\u001b[38;5;124m\"\u001b[39m), \u001b[38;5;241m*\u001b[39m\u001b[38;5;241m*\u001b[39mkwargs_this)\n\u001b[1;32m    157\u001b[0m \u001b[38;5;28;01mtry\u001b[39;00m:\n\u001b[1;32m    158\u001b[0m     t \u001b[38;5;241m=\u001b[39m Table(hdu_list[\u001b[38;5;241m1\u001b[39m]\u001b[38;5;241m.\u001b[39mdata, masked\u001b[38;5;241m=\u001b[39m\u001b[38;5;28;01mFalse\u001b[39;00m)\n",
      "\u001b[0;31mFileNotFoundError\u001b[0m: [Errno 2] No such file or directory: '/data2/lsajkov/mpdg/strw_mpdg/Spectra/Final/2dF/2dF_best.fit'"
     ]
    }
   ],
   "source": [
    "saga_object_catalog = saga.object_catalog.build_and_write_to_database(hosts = \"paper1\", overwrite=True)"
   ]
  },
  {
   "cell_type": "code",
   "execution_count": 27,
   "metadata": {},
   "outputs": [
    {
     "name": "stdout",
     "output_type": "stream",
     "text": [
      "[06/12 15:53:12] Generate clean specs for 134 hosts\n",
      "[06/12 15:53:12] save to path /data2/lsajkov/mpdg/saga_local/base_catalogs_v3/base_v3_saga_clean_specs.fits.gz\n"
     ]
    },
    {
     "ename": "FileNotFoundError",
     "evalue": "[Errno 2] No such file or directory: '/data2/lsajkov/mpdg/saga_local/base_catalogs_v3/base_v3_nsa126115.fits.gz'",
     "output_type": "error",
     "traceback": [
      "\u001b[0;31m---------------------------------------------------------------------------\u001b[0m",
      "\u001b[0;31mFileNotFoundError\u001b[0m                         Traceback (most recent call last)",
      "File \u001b[0;32m/data2/lsajkov/mpdg/conda/envs/mpdg/lib/python3.12/site-packages/SAGA/database/core.py:152\u001b[0m, in \u001b[0;36mFitsTable.read\u001b[0;34m(self)\u001b[0m\n\u001b[1;32m    151\u001b[0m \u001b[38;5;28;01mtry\u001b[39;00m:\n\u001b[0;32m--> 152\u001b[0m     hdu_list \u001b[38;5;241m=\u001b[39m fits\u001b[38;5;241m.\u001b[39mopen(path, \u001b[38;5;241m*\u001b[39m\u001b[38;5;241m*\u001b[39mkwargs_this)\n\u001b[1;32m    153\u001b[0m \u001b[38;5;28;01mexcept\u001b[39;00m \u001b[38;5;167;01mOSError\u001b[39;00m:\n\u001b[1;32m    154\u001b[0m     \u001b[38;5;66;03m# this helps fits.open guess the compression better\u001b[39;00m\n",
      "File \u001b[0;32m/data2/lsajkov/mpdg/conda/envs/mpdg/lib/python3.12/site-packages/astropy/io/fits/hdu/hdulist.py:222\u001b[0m, in \u001b[0;36mfitsopen\u001b[0;34m(name, mode, memmap, save_backup, cache, lazy_load_hdus, ignore_missing_simple, use_fsspec, fsspec_kwargs, decompress_in_memory, **kwargs)\u001b[0m\n\u001b[1;32m    220\u001b[0m     \u001b[38;5;28;01mraise\u001b[39;00m \u001b[38;5;167;01mValueError\u001b[39;00m(\u001b[38;5;124mf\u001b[39m\u001b[38;5;124m\"\u001b[39m\u001b[38;5;124mEmpty filename: \u001b[39m\u001b[38;5;132;01m{\u001b[39;00mname\u001b[38;5;132;01m!r}\u001b[39;00m\u001b[38;5;124m\"\u001b[39m)\n\u001b[0;32m--> 222\u001b[0m \u001b[38;5;28;01mreturn\u001b[39;00m HDUList\u001b[38;5;241m.\u001b[39mfromfile(\n\u001b[1;32m    223\u001b[0m     name,\n\u001b[1;32m    224\u001b[0m     mode,\n\u001b[1;32m    225\u001b[0m     memmap,\n\u001b[1;32m    226\u001b[0m     save_backup,\n\u001b[1;32m    227\u001b[0m     cache,\n\u001b[1;32m    228\u001b[0m     lazy_load_hdus,\n\u001b[1;32m    229\u001b[0m     ignore_missing_simple,\n\u001b[1;32m    230\u001b[0m     use_fsspec\u001b[38;5;241m=\u001b[39muse_fsspec,\n\u001b[1;32m    231\u001b[0m     fsspec_kwargs\u001b[38;5;241m=\u001b[39mfsspec_kwargs,\n\u001b[1;32m    232\u001b[0m     decompress_in_memory\u001b[38;5;241m=\u001b[39mdecompress_in_memory,\n\u001b[1;32m    233\u001b[0m     \u001b[38;5;241m*\u001b[39m\u001b[38;5;241m*\u001b[39mkwargs,\n\u001b[1;32m    234\u001b[0m )\n",
      "File \u001b[0;32m/data2/lsajkov/mpdg/conda/envs/mpdg/lib/python3.12/site-packages/astropy/io/fits/hdu/hdulist.py:486\u001b[0m, in \u001b[0;36mHDUList.fromfile\u001b[0;34m(cls, fileobj, mode, memmap, save_backup, cache, lazy_load_hdus, ignore_missing_simple, **kwargs)\u001b[0m\n\u001b[1;32m    479\u001b[0m \u001b[38;5;250m\u001b[39m\u001b[38;5;124;03m\"\"\"\u001b[39;00m\n\u001b[1;32m    480\u001b[0m \u001b[38;5;124;03mCreates an `HDUList` instance from a file-like object.\u001b[39;00m\n\u001b[1;32m    481\u001b[0m \n\u001b[0;32m   (...)\u001b[0m\n\u001b[1;32m    484\u001b[0m \u001b[38;5;124;03mdocumentation for details of the parameters accepted by this method).\u001b[39;00m\n\u001b[1;32m    485\u001b[0m \u001b[38;5;124;03m\"\"\"\u001b[39;00m\n\u001b[0;32m--> 486\u001b[0m \u001b[38;5;28;01mreturn\u001b[39;00m \u001b[38;5;28mcls\u001b[39m\u001b[38;5;241m.\u001b[39m_readfrom(\n\u001b[1;32m    487\u001b[0m     fileobj\u001b[38;5;241m=\u001b[39mfileobj,\n\u001b[1;32m    488\u001b[0m     mode\u001b[38;5;241m=\u001b[39mmode,\n\u001b[1;32m    489\u001b[0m     memmap\u001b[38;5;241m=\u001b[39mmemmap,\n\u001b[1;32m    490\u001b[0m     save_backup\u001b[38;5;241m=\u001b[39msave_backup,\n\u001b[1;32m    491\u001b[0m     cache\u001b[38;5;241m=\u001b[39mcache,\n\u001b[1;32m    492\u001b[0m     ignore_missing_simple\u001b[38;5;241m=\u001b[39mignore_missing_simple,\n\u001b[1;32m    493\u001b[0m     lazy_load_hdus\u001b[38;5;241m=\u001b[39mlazy_load_hdus,\n\u001b[1;32m    494\u001b[0m     \u001b[38;5;241m*\u001b[39m\u001b[38;5;241m*\u001b[39mkwargs,\n\u001b[1;32m    495\u001b[0m )\n",
      "File \u001b[0;32m/data2/lsajkov/mpdg/conda/envs/mpdg/lib/python3.12/site-packages/astropy/io/fits/hdu/hdulist.py:1168\u001b[0m, in \u001b[0;36mHDUList._readfrom\u001b[0;34m(cls, fileobj, data, mode, memmap, cache, lazy_load_hdus, ignore_missing_simple, use_fsspec, fsspec_kwargs, decompress_in_memory, **kwargs)\u001b[0m\n\u001b[1;32m   1166\u001b[0m \u001b[38;5;28;01mif\u001b[39;00m \u001b[38;5;129;01mnot\u001b[39;00m \u001b[38;5;28misinstance\u001b[39m(fileobj, _File):\n\u001b[1;32m   1167\u001b[0m     \u001b[38;5;66;03m# instantiate a FITS file object (ffo)\u001b[39;00m\n\u001b[0;32m-> 1168\u001b[0m     fileobj \u001b[38;5;241m=\u001b[39m _File(\n\u001b[1;32m   1169\u001b[0m         fileobj,\n\u001b[1;32m   1170\u001b[0m         mode\u001b[38;5;241m=\u001b[39mmode,\n\u001b[1;32m   1171\u001b[0m         memmap\u001b[38;5;241m=\u001b[39mmemmap,\n\u001b[1;32m   1172\u001b[0m         cache\u001b[38;5;241m=\u001b[39mcache,\n\u001b[1;32m   1173\u001b[0m         use_fsspec\u001b[38;5;241m=\u001b[39muse_fsspec,\n\u001b[1;32m   1174\u001b[0m         fsspec_kwargs\u001b[38;5;241m=\u001b[39mfsspec_kwargs,\n\u001b[1;32m   1175\u001b[0m         decompress_in_memory\u001b[38;5;241m=\u001b[39mdecompress_in_memory,\n\u001b[1;32m   1176\u001b[0m     )\n\u001b[1;32m   1177\u001b[0m \u001b[38;5;66;03m# The Astropy mode is determined by the _File initializer if the\u001b[39;00m\n\u001b[1;32m   1178\u001b[0m \u001b[38;5;66;03m# supplied mode was None\u001b[39;00m\n",
      "File \u001b[0;32m/data2/lsajkov/mpdg/conda/envs/mpdg/lib/python3.12/site-packages/astropy/io/fits/file.py:218\u001b[0m, in \u001b[0;36m_File.__init__\u001b[0;34m(self, fileobj, mode, memmap, overwrite, cache, use_fsspec, fsspec_kwargs, decompress_in_memory)\u001b[0m\n\u001b[1;32m    217\u001b[0m \u001b[38;5;28;01melif\u001b[39;00m \u001b[38;5;28misinstance\u001b[39m(fileobj, (\u001b[38;5;28mstr\u001b[39m, \u001b[38;5;28mbytes\u001b[39m)):\n\u001b[0;32m--> 218\u001b[0m     \u001b[38;5;28mself\u001b[39m\u001b[38;5;241m.\u001b[39m_open_filename(fileobj, mode, overwrite)\n\u001b[1;32m    219\u001b[0m \u001b[38;5;28;01melse\u001b[39;00m:\n",
      "File \u001b[0;32m/data2/lsajkov/mpdg/conda/envs/mpdg/lib/python3.12/site-packages/astropy/io/fits/file.py:651\u001b[0m, in \u001b[0;36m_File._open_filename\u001b[0;34m(self, filename, mode, overwrite)\u001b[0m\n\u001b[1;32m    650\u001b[0m \u001b[38;5;28;01mif\u001b[39;00m \u001b[38;5;129;01mnot\u001b[39;00m \u001b[38;5;28mself\u001b[39m\u001b[38;5;241m.\u001b[39m_try_read_compressed(\u001b[38;5;28mself\u001b[39m\u001b[38;5;241m.\u001b[39mname, magic, mode, ext\u001b[38;5;241m=\u001b[39mext):\n\u001b[0;32m--> 651\u001b[0m     \u001b[38;5;28mself\u001b[39m\u001b[38;5;241m.\u001b[39m_file \u001b[38;5;241m=\u001b[39m \u001b[38;5;28mopen\u001b[39m(\u001b[38;5;28mself\u001b[39m\u001b[38;5;241m.\u001b[39mname, IO_FITS_MODES[mode])\n\u001b[1;32m    652\u001b[0m     \u001b[38;5;28mself\u001b[39m\u001b[38;5;241m.\u001b[39mclose_on_error \u001b[38;5;241m=\u001b[39m \u001b[38;5;28;01mTrue\u001b[39;00m\n",
      "\u001b[0;31mFileNotFoundError\u001b[0m: [Errno 2] No such file or directory: '/data2/lsajkov/mpdg/saga_local/base_catalogs_v3/base_v3_nsa126115.fits.gz'",
      "\nDuring handling of the above exception, another exception occurred:\n",
      "\u001b[0;31mFileNotFoundError\u001b[0m                         Traceback (most recent call last)",
      "Cell \u001b[0;32mIn[27], line 1\u001b[0m\n\u001b[0;32m----> 1\u001b[0m saga\u001b[38;5;241m.\u001b[39mobject_catalog\u001b[38;5;241m.\u001b[39mgenerate_clean_specs()\n",
      "File \u001b[0;32m/data2/lsajkov/mpdg/conda/envs/mpdg/lib/python3.12/site-packages/SAGA/objects/object_catalog.py:788\u001b[0m, in \u001b[0;36mObjectCatalog.generate_clean_specs\u001b[0;34m(self, save_to, overwrite, **kwargs)\u001b[0m\n\u001b[1;32m    785\u001b[0m         save_to \u001b[38;5;241m=\u001b[39m FitsTable(save_to)\n\u001b[1;32m    786\u001b[0m     \u001b[38;5;28mprint\u001b[39m(time\u001b[38;5;241m.\u001b[39mstrftime(\u001b[38;5;124m\"\u001b[39m\u001b[38;5;124m[\u001b[39m\u001b[38;5;124m%\u001b[39m\u001b[38;5;124mm/\u001b[39m\u001b[38;5;132;01m%d\u001b[39;00m\u001b[38;5;124m \u001b[39m\u001b[38;5;124m%\u001b[39m\u001b[38;5;124mH:\u001b[39m\u001b[38;5;124m%\u001b[39m\u001b[38;5;124mM:\u001b[39m\u001b[38;5;124m%\u001b[39m\u001b[38;5;124mS]\u001b[39m\u001b[38;5;124m\"\u001b[39m), \u001b[38;5;124m\"\u001b[39m\u001b[38;5;124msave to path\u001b[39m\u001b[38;5;124m\"\u001b[39m, save_to\u001b[38;5;241m.\u001b[39mpath)\n\u001b[0;32m--> 788\u001b[0m t \u001b[38;5;241m=\u001b[39m \u001b[38;5;28mself\u001b[39m\u001b[38;5;241m.\u001b[39mload(\u001b[38;5;241m*\u001b[39m\u001b[38;5;241m*\u001b[39mdefaults)\n\u001b[1;32m    790\u001b[0m \u001b[38;5;28;01mif\u001b[39;00m save_to \u001b[38;5;129;01mis\u001b[39;00m \u001b[38;5;129;01mnot\u001b[39;00m \u001b[38;5;28;01mFalse\u001b[39;00m:\n\u001b[1;32m    791\u001b[0m     save_to\u001b[38;5;241m.\u001b[39mwrite(t, overwrite\u001b[38;5;241m=\u001b[39moverwrite, add_meta\u001b[38;5;241m=\u001b[39m\u001b[38;5;28;01mTrue\u001b[39;00m)\n",
      "File \u001b[0;32m/data2/lsajkov/mpdg/conda/envs/mpdg/lib/python3.12/site-packages/SAGA/objects/object_catalog.py:415\u001b[0m, in \u001b[0;36mObjectCatalog.load\u001b[0;34m(self, hosts, has_spec, cuts, return_as, columns, version, add_skycoord, ensure_all_objid_cols)\u001b[0m\n\u001b[1;32m    413\u001b[0m     \u001b[38;5;28;01mreturn\u001b[39;00m output_iterator\n\u001b[1;32m    414\u001b[0m \u001b[38;5;28;01mif\u001b[39;00m return_as[\u001b[38;5;241m0\u001b[39m] \u001b[38;5;241m==\u001b[39m \u001b[38;5;124m\"\u001b[39m\u001b[38;5;124ms\u001b[39m\u001b[38;5;124m\"\u001b[39m:\n\u001b[0;32m--> 415\u001b[0m     out \u001b[38;5;241m=\u001b[39m vstack(\u001b[38;5;28mlist\u001b[39m(output_iterator), \u001b[38;5;124m\"\u001b[39m\u001b[38;5;124mouter\u001b[39m\u001b[38;5;124m\"\u001b[39m)\n\u001b[1;32m    416\u001b[0m     \u001b[38;5;28;01mif\u001b[39;00m out\u001b[38;5;241m.\u001b[39mmasked:\n\u001b[1;32m    417\u001b[0m         \u001b[38;5;28;01mfor\u001b[39;00m name, (dtype, _) \u001b[38;5;129;01min\u001b[39;00m out\u001b[38;5;241m.\u001b[39mdtype\u001b[38;5;241m.\u001b[39mfields\u001b[38;5;241m.\u001b[39mitems():\n",
      "File \u001b[0;32m/data2/lsajkov/mpdg/conda/envs/mpdg/lib/python3.12/site-packages/SAGA/objects/object_catalog.py:398\u001b[0m, in \u001b[0;36m<genexpr>\u001b[0;34m(.0)\u001b[0m\n\u001b[1;32m    391\u001b[0m     q \u001b[38;5;241m=\u001b[39m q \u001b[38;5;241m&\u001b[39m (\u001b[38;5;241m~\u001b[39mC\u001b[38;5;241m.\u001b[39mhas_spec)\n\u001b[1;32m    393\u001b[0m hosts \u001b[38;5;241m=\u001b[39m \u001b[38;5;28mself\u001b[39m\u001b[38;5;241m.\u001b[39m_host_catalog\u001b[38;5;241m.\u001b[39mresolve_id(hosts, \u001b[38;5;124m\"\u001b[39m\u001b[38;5;124mstring\u001b[39m\u001b[38;5;124m\"\u001b[39m)\n\u001b[1;32m    395\u001b[0m output_iterator \u001b[38;5;241m=\u001b[39m (\n\u001b[1;32m    396\u001b[0m     \u001b[38;5;28mself\u001b[39m\u001b[38;5;241m.\u001b[39m_slice_table(\n\u001b[1;32m    397\u001b[0m         \u001b[38;5;28mself\u001b[39m\u001b[38;5;241m.\u001b[39m_annotate_catalog(\n\u001b[0;32m--> 398\u001b[0m             \u001b[38;5;28mself\u001b[39m\u001b[38;5;241m.\u001b[39m_database[base_key, host]\u001b[38;5;241m.\u001b[39mread(),\n\u001b[1;32m    399\u001b[0m             ensure_all_objid_cols\u001b[38;5;241m=\u001b[39mensure_all_objid_cols,\n\u001b[1;32m    400\u001b[0m         ),\n\u001b[1;32m    401\u001b[0m         q,\n\u001b[1;32m    402\u001b[0m         columns,\n\u001b[1;32m    403\u001b[0m         (add_skycoord \u001b[38;5;129;01mand\u001b[39;00m return_as[\u001b[38;5;241m0\u001b[39m] \u001b[38;5;241m!=\u001b[39m \u001b[38;5;124m\"\u001b[39m\u001b[38;5;124ms\u001b[39m\u001b[38;5;124m\"\u001b[39m),\n\u001b[1;32m    404\u001b[0m     )\n\u001b[1;32m    405\u001b[0m     \u001b[38;5;28;01mfor\u001b[39;00m host \u001b[38;5;129;01min\u001b[39;00m hosts\n\u001b[1;32m    406\u001b[0m )\n\u001b[1;32m    408\u001b[0m \u001b[38;5;28;01mif\u001b[39;00m return_as\u001b[38;5;241m.\u001b[39mstartswith(\u001b[38;5;124m\"\u001b[39m\u001b[38;5;124mitem\u001b[39m\u001b[38;5;124m\"\u001b[39m):\n\u001b[1;32m    409\u001b[0m     \u001b[38;5;28;01mreturn\u001b[39;00m \u001b[38;5;28mzip\u001b[39m(hosts, output_iterator)\n",
      "File \u001b[0;32m/data2/lsajkov/mpdg/conda/envs/mpdg/lib/python3.12/site-packages/SAGA/database/core.py:286\u001b[0m, in \u001b[0;36mDataObject.read\u001b[0;34m(self, reload, **kwargs)\u001b[0m\n\u001b[1;32m    284\u001b[0m \u001b[38;5;28;01mexcept\u001b[39;00m \u001b[38;5;167;01mException\u001b[39;00m \u001b[38;5;28;01mas\u001b[39;00m read_exception:\n\u001b[1;32m    285\u001b[0m     \u001b[38;5;28;01mif\u001b[39;00m \u001b[38;5;28mself\u001b[39m\u001b[38;5;241m.\u001b[39mlocal \u001b[38;5;129;01mis\u001b[39;00m \u001b[38;5;28;01mNone\u001b[39;00m:\n\u001b[0;32m--> 286\u001b[0m         \u001b[38;5;28;01mraise\u001b[39;00m read_exception\n\u001b[1;32m    287\u001b[0m     logging\u001b[38;5;241m.\u001b[39mwarning(\u001b[38;5;124m\"\u001b[39m\u001b[38;5;124mFailed to read remote; fall back to read local file...\u001b[39m\u001b[38;5;124m\"\u001b[39m)\n\u001b[1;32m    288\u001b[0m     \u001b[38;5;28;01mif\u001b[39;00m \u001b[38;5;129;01mnot\u001b[39;00m \u001b[38;5;28mself\u001b[39m\u001b[38;5;241m.\u001b[39mlocal\u001b[38;5;241m.\u001b[39misfile():\n",
      "File \u001b[0;32m/data2/lsajkov/mpdg/conda/envs/mpdg/lib/python3.12/site-packages/SAGA/database/core.py:283\u001b[0m, in \u001b[0;36mDataObject.read\u001b[0;34m(self, reload, **kwargs)\u001b[0m\n\u001b[1;32m    281\u001b[0m \u001b[38;5;28;01melse\u001b[39;00m:\n\u001b[1;32m    282\u001b[0m     \u001b[38;5;28;01mtry\u001b[39;00m:\n\u001b[0;32m--> 283\u001b[0m         table \u001b[38;5;241m=\u001b[39m \u001b[38;5;28mself\u001b[39m\u001b[38;5;241m.\u001b[39mremote\u001b[38;5;241m.\u001b[39mread(\u001b[38;5;241m*\u001b[39m\u001b[38;5;241m*\u001b[39mkwargs)\n\u001b[1;32m    284\u001b[0m     \u001b[38;5;28;01mexcept\u001b[39;00m \u001b[38;5;167;01mException\u001b[39;00m \u001b[38;5;28;01mas\u001b[39;00m read_exception:\n\u001b[1;32m    285\u001b[0m         \u001b[38;5;28;01mif\u001b[39;00m \u001b[38;5;28mself\u001b[39m\u001b[38;5;241m.\u001b[39mlocal \u001b[38;5;129;01mis\u001b[39;00m \u001b[38;5;28;01mNone\u001b[39;00m:\n",
      "File \u001b[0;32m/data2/lsajkov/mpdg/conda/envs/mpdg/lib/python3.12/site-packages/SAGA/database/core.py:155\u001b[0m, in \u001b[0;36mFitsTable.read\u001b[0;34m(self)\u001b[0m\n\u001b[1;32m    152\u001b[0m     hdu_list \u001b[38;5;241m=\u001b[39m fits\u001b[38;5;241m.\u001b[39mopen(path, \u001b[38;5;241m*\u001b[39m\u001b[38;5;241m*\u001b[39mkwargs_this)\n\u001b[1;32m    153\u001b[0m \u001b[38;5;28;01mexcept\u001b[39;00m \u001b[38;5;167;01mOSError\u001b[39;00m:\n\u001b[1;32m    154\u001b[0m     \u001b[38;5;66;03m# this helps fits.open guess the compression better\u001b[39;00m\n\u001b[0;32m--> 155\u001b[0m     hdu_list \u001b[38;5;241m=\u001b[39m fits\u001b[38;5;241m.\u001b[39mopen(\u001b[38;5;28mopen\u001b[39m(path, \u001b[38;5;124m\"\u001b[39m\u001b[38;5;124mrb\u001b[39m\u001b[38;5;124m\"\u001b[39m), \u001b[38;5;241m*\u001b[39m\u001b[38;5;241m*\u001b[39mkwargs_this)\n\u001b[1;32m    157\u001b[0m \u001b[38;5;28;01mtry\u001b[39;00m:\n\u001b[1;32m    158\u001b[0m     t \u001b[38;5;241m=\u001b[39m Table(hdu_list[\u001b[38;5;241m1\u001b[39m]\u001b[38;5;241m.\u001b[39mdata, masked\u001b[38;5;241m=\u001b[39m\u001b[38;5;28;01mFalse\u001b[39;00m)\n",
      "\u001b[0;31mFileNotFoundError\u001b[0m: [Errno 2] No such file or directory: '/data2/lsajkov/mpdg/saga_local/base_catalogs_v3/base_v3_nsa126115.fits.gz'"
     ]
    }
   ],
   "source": [
    "saga.object_catalog.generate_clean_specs()"
   ]
  },
  {
   "cell_type": "code",
   "execution_count": null,
   "metadata": {},
   "outputs": [],
   "source": [
    "saga_object_catalog"
   ]
  },
  {
   "cell_type": "code",
   "execution_count": 20,
   "metadata": {},
   "outputs": [],
   "source": [
    "with fits.open('/data2/lsajkov/mpdg/saga_local/external_catalogs/sga/SGA-2020.fits') as cat:\n",
    "    SGA_data = Table(cat[1].data)"
   ]
  },
  {
   "cell_type": "code",
   "execution_count": 26,
   "metadata": {},
   "outputs": [
    {
     "data": {
      "text/plain": [
       "['SGA_ID',\n",
       " 'SGA_GALAXY',\n",
       " 'GALAXY',\n",
       " 'PGC',\n",
       " 'RA_LEDA',\n",
       " 'DEC_LEDA',\n",
       " 'MORPHTYPE',\n",
       " 'PA_LEDA',\n",
       " 'D25_LEDA',\n",
       " 'BA_LEDA',\n",
       " 'Z_LEDA',\n",
       " 'SB_D25_LEDA',\n",
       " 'MAG_LEDA',\n",
       " 'BYHAND',\n",
       " 'REF',\n",
       " 'GROUP_ID',\n",
       " 'GROUP_NAME',\n",
       " 'GROUP_MULT',\n",
       " 'GROUP_PRIMARY',\n",
       " 'GROUP_RA',\n",
       " 'GROUP_DEC',\n",
       " 'GROUP_DIAMETER',\n",
       " 'BRICKNAME',\n",
       " 'RA',\n",
       " 'DEC',\n",
       " 'D26',\n",
       " 'D26_REF',\n",
       " 'PA',\n",
       " 'BA',\n",
       " 'RA_MOMENT',\n",
       " 'DEC_MOMENT',\n",
       " 'SMA_MOMENT',\n",
       " 'G_SMA50',\n",
       " 'R_SMA50',\n",
       " 'Z_SMA50',\n",
       " 'SMA_SB22',\n",
       " 'SMA_SB22.5',\n",
       " 'SMA_SB23',\n",
       " 'SMA_SB23.5',\n",
       " 'SMA_SB24',\n",
       " 'SMA_SB24.5',\n",
       " 'SMA_SB25',\n",
       " 'SMA_SB25.5',\n",
       " 'SMA_SB26',\n",
       " 'G_MAG_SB22',\n",
       " 'R_MAG_SB22',\n",
       " 'Z_MAG_SB22',\n",
       " 'G_MAG_SB22.5',\n",
       " 'R_MAG_SB22.5',\n",
       " 'Z_MAG_SB22.5',\n",
       " 'G_MAG_SB23',\n",
       " 'R_MAG_SB23',\n",
       " 'Z_MAG_SB23',\n",
       " 'G_MAG_SB23.5',\n",
       " 'R_MAG_SB23.5',\n",
       " 'Z_MAG_SB23.5',\n",
       " 'G_MAG_SB24',\n",
       " 'R_MAG_SB24',\n",
       " 'Z_MAG_SB24',\n",
       " 'G_MAG_SB24.5',\n",
       " 'R_MAG_SB24.5',\n",
       " 'Z_MAG_SB24.5',\n",
       " 'G_MAG_SB25',\n",
       " 'R_MAG_SB25',\n",
       " 'Z_MAG_SB25',\n",
       " 'G_MAG_SB25.5',\n",
       " 'R_MAG_SB25.5',\n",
       " 'Z_MAG_SB25.5',\n",
       " 'G_MAG_SB26',\n",
       " 'R_MAG_SB26',\n",
       " 'Z_MAG_SB26',\n",
       " 'SMA_SB22_ERR',\n",
       " 'SMA_SB22.5_ERR',\n",
       " 'SMA_SB23_ERR',\n",
       " 'SMA_SB23.5_ERR',\n",
       " 'SMA_SB24_ERR',\n",
       " 'SMA_SB24.5_ERR',\n",
       " 'SMA_SB25_ERR',\n",
       " 'SMA_SB25.5_ERR',\n",
       " 'SMA_SB26_ERR',\n",
       " 'G_MAG_SB22_ERR',\n",
       " 'R_MAG_SB22_ERR',\n",
       " 'Z_MAG_SB22_ERR',\n",
       " 'G_MAG_SB22.5_ERR',\n",
       " 'R_MAG_SB22.5_ERR',\n",
       " 'Z_MAG_SB22.5_ERR',\n",
       " 'G_MAG_SB23_ERR',\n",
       " 'R_MAG_SB23_ERR',\n",
       " 'Z_MAG_SB23_ERR',\n",
       " 'G_MAG_SB23.5_ERR',\n",
       " 'R_MAG_SB23.5_ERR',\n",
       " 'Z_MAG_SB23.5_ERR',\n",
       " 'G_MAG_SB24_ERR',\n",
       " 'R_MAG_SB24_ERR',\n",
       " 'Z_MAG_SB24_ERR',\n",
       " 'G_MAG_SB24.5_ERR',\n",
       " 'R_MAG_SB24.5_ERR',\n",
       " 'Z_MAG_SB24.5_ERR',\n",
       " 'G_MAG_SB25_ERR',\n",
       " 'R_MAG_SB25_ERR',\n",
       " 'Z_MAG_SB25_ERR',\n",
       " 'G_MAG_SB25.5_ERR',\n",
       " 'R_MAG_SB25.5_ERR',\n",
       " 'Z_MAG_SB25.5_ERR',\n",
       " 'G_MAG_SB26_ERR',\n",
       " 'R_MAG_SB26_ERR',\n",
       " 'Z_MAG_SB26_ERR',\n",
       " 'G_COG_PARAMS_MTOT',\n",
       " 'G_COG_PARAMS_M0',\n",
       " 'G_COG_PARAMS_ALPHA1',\n",
       " 'G_COG_PARAMS_ALPHA2',\n",
       " 'G_COG_PARAMS_CHI2',\n",
       " 'R_COG_PARAMS_MTOT',\n",
       " 'R_COG_PARAMS_M0',\n",
       " 'R_COG_PARAMS_ALPHA1',\n",
       " 'R_COG_PARAMS_ALPHA2',\n",
       " 'R_COG_PARAMS_CHI2',\n",
       " 'Z_COG_PARAMS_MTOT',\n",
       " 'Z_COG_PARAMS_M0',\n",
       " 'Z_COG_PARAMS_ALPHA1',\n",
       " 'Z_COG_PARAMS_ALPHA2',\n",
       " 'Z_COG_PARAMS_CHI2',\n",
       " 'ELLIPSEBIT']"
      ]
     },
     "execution_count": 26,
     "metadata": {},
     "output_type": "execute_result"
    }
   ],
   "source": [
    "SGA_data.keys()"
   ]
  },
  {
   "cell_type": "code",
   "execution_count": null,
   "metadata": {},
   "outputs": [],
   "source": []
  },
  {
   "cell_type": "markdown",
   "metadata": {},
   "source": [
    "### DES:"
   ]
  },
  {
   "cell_type": "code",
   "execution_count": 23,
   "metadata": {},
   "outputs": [],
   "source": [
    "link_to_DES = 'https://desdr-server.ncsa.illinois.edu/despublic/dr2_tiles'"
   ]
  },
  {
   "cell_type": "code",
   "execution_count": 24,
   "metadata": {},
   "outputs": [],
   "source": [
    "directory_url = urllib.request.urlopen(link_to_DES)\n",
    "directory = directory_url.read()\n",
    "directory = directory.decode('utf-8')\n",
    "\n",
    "all_DES_labels = []\n",
    "for line in directory.split('\\n'):\n",
    "    if 'DES' in line: all_DES_labels.append(line[23:35])"
   ]
  },
  {
   "cell_type": "code",
   "execution_count": 25,
   "metadata": {},
   "outputs": [],
   "source": [
    "DES_label = all_DES_labels[int(random.random() * len(all_DES_labels))]"
   ]
  },
  {
   "cell_type": "code",
   "execution_count": 26,
   "metadata": {},
   "outputs": [
    {
     "data": {
      "text/plain": [
       "'https://desdr-server.ncsa.illinois.edu/despublic/dr2_tiles/DES2248-6248/DES2248-6248_dr2_main.fits'"
      ]
     },
     "execution_count": 26,
     "metadata": {},
     "output_type": "execute_result"
    }
   ],
   "source": [
    "f'{link_to_DES}/{DES_label}/{DES_label}_dr2_main.fits'"
   ]
  },
  {
   "cell_type": "code",
   "execution_count": 28,
   "metadata": {},
   "outputs": [],
   "source": [
    "with fits.open(f'{link_to_DES}/{DES_label}/{DES_label}_dr2_main.fits', cache = False) as cat:\n",
    "    main_cat = Table(cat[1].data)"
   ]
  },
  {
   "cell_type": "code",
   "execution_count": 30,
   "metadata": {},
   "outputs": [
    {
     "name": "stdout",
     "output_type": "stream",
     "text": [
      "DES0343-1207 len: 50014\n",
      "DES0145-0207 len: 65278\n",
      "DES0227-5457 len: 68724\n",
      "DES0038-6039 len: 70572\n",
      "DES0130-0541 len: 71667\n"
     ]
    }
   ],
   "source": [
    "for i in range(5):\n",
    "    DES_label = all_DES_labels[int(random.random() * len(all_DES_labels))]\n",
    "    print(DES_label, end = ' len: ')\n",
    "    with fits.open(f'{link_to_DES}/{DES_label}/{DES_label}_dr2_main.fits', cache = False) as cat:\n",
    "        main_cat = Table(cat[1].data)\n",
    "        print(len(main_cat))"
   ]
  },
  {
   "cell_type": "code",
   "execution_count": 32,
   "metadata": {},
   "outputs": [
    {
     "data": {
      "text/plain": [
       "33.89666666666667"
      ]
     },
     "execution_count": 32,
     "metadata": {},
     "output_type": "execute_result"
    }
   ],
   "source": [
    "(len(all_DES_labels)/5)/60"
   ]
  },
  {
   "cell_type": "code",
   "execution_count": null,
   "metadata": {},
   "outputs": [],
   "source": [
    "saga_hosts = Table.read('https://sagasurvey.org/data/saga_stage2_hosts.csv')\n",
    "saga_sats = Table.read('https://sagasurvey.org/data/saga_stage2_sats.csv')"
   ]
  },
  {
   "cell_type": "code",
   "execution_count": null,
   "metadata": {},
   "outputs": [],
   "source": [
    "saga_sats"
   ]
  },
  {
   "cell_type": "code",
   "execution_count": null,
   "metadata": {},
   "outputs": [],
   "source": [
    "with fits.open('https://desdr-server.ncsa.illinois.edu/despublic/dr2_tiles/DES0000+0209/DES0000+0209_dr2_main.fits') as hdu:\n",
    "    main_cat = hdu"
   ]
  },
  {
   "cell_type": "code",
   "execution_count": null,
   "metadata": {},
   "outputs": [],
   "source": [
    "main_cat = fits.open('https://desdr-server.ncsa.illinois.edu/despublic/dr2_tiles/DES0000+0209/DES0000+0209_dr2_main.fits', cache = False)"
   ]
  },
  {
   "cell_type": "code",
   "execution_count": null,
   "metadata": {},
   "outputs": [],
   "source": [
    "Table(main_cat[1].data)"
   ]
  },
  {
   "cell_type": "code",
   "execution_count": null,
   "metadata": {},
   "outputs": [],
   "source": [
    "request('https://desdr-server.ncsa.illinois.edu/despublic/dr2_tiles/')"
   ]
  },
  {
   "cell_type": "code",
   "execution_count": null,
   "metadata": {},
   "outputs": [],
   "source": [
    "with request.urlopen('https://desdr-server.ncsa.illinois.edu/despublic/dr2_tiles/') as idx_page:\n",
    "    idx_page = idx_page.read()"
   ]
  }
 ],
 "metadata": {
  "kernelspec": {
   "display_name": "mpdg",
   "language": "python",
   "name": "python3"
  },
  "language_info": {
   "codemirror_mode": {
    "name": "ipython",
    "version": 3
   },
   "file_extension": ".py",
   "mimetype": "text/x-python",
   "name": "python",
   "nbconvert_exporter": "python",
   "pygments_lexer": "ipython3",
   "version": "3.12.3"
  }
 },
 "nbformat": 4,
 "nbformat_minor": 2
}
